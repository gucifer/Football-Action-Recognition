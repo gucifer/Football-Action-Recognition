{
 "cells": [
  {
   "cell_type": "markdown",
   "metadata": {},
   "source": [
    "# Experiment 1 - 8 is with VIT Features"
   ]
  },
  {
   "cell_type": "markdown",
   "metadata": {},
   "source": [
    "#### Experiment 1:  Vit Data + NetVladd + CE Loss"
   ]
  },
  {
   "cell_type": "code",
   "execution_count": null,
   "metadata": {},
   "outputs": [],
   "source": [
    "\n",
    "%run src\\main.py --SoccerNet_path=G:\\.shortcut-targets-by-id\\\\1H509_zeV7bta5BudwCznjP0EWrCa_LCJ\\\\deep_learning_alphas_final_project\\\\assets_pca --model_name=NetVLAD++_vit_CE_run_1 --features=custom_vit --seed 3 --LR=1e-3 --split_test=\"test\" --custom_feature_path=\"C:\\\\Users\\\\91995\\\\OneDrive - Georgia Institute of Technology\\\\vit_features\" --loss_function=CE"
   ]
  },
  {
   "cell_type": "markdown",
   "metadata": {},
   "source": [
    "#### Experiment 2:  Vit Data + NetVladd + CE+CB Loss"
   ]
  },
  {
   "cell_type": "code",
   "execution_count": null,
   "metadata": {},
   "outputs": [],
   "source": [
    "\n",
    "%run src\\main.py --SoccerNet_path=G:\\.shortcut-targets-by-id\\\\1H509_zeV7bta5BudwCznjP0EWrCa_LCJ\\\\deep_learning_alphas_final_project\\\\assets_pca --model_name=NetVLAD++_vit_CE+CB_run_1 --features=custom_vit --seed 3 --LR=1e-3 --split_test=\"test\" --custom_feature_path=\"C:\\\\Users\\\\91995\\\\OneDrive - Georgia Institute of Technology\\\\vit_features\" --loss_function=CE+CB"
   ]
  },
  {
   "cell_type": "markdown",
   "metadata": {},
   "source": [
    "#### Experiment 3:  Vit Data + NetVladd + FL Loss"
   ]
  },
  {
   "cell_type": "code",
   "execution_count": null,
   "metadata": {},
   "outputs": [],
   "source": [
    "\n",
    "%run src\\main.py --SoccerNet_path=G:\\.shortcut-targets-by-id\\\\1H509_zeV7bta5BudwCznjP0EWrCa_LCJ\\\\deep_learning_alphas_final_project\\\\assets_pca --model_name=NetVLAD++_vit_FL_run_1 --features=custom_vit --seed 3 --LR=1e-3 --split_test=\"test\" --custom_feature_path=\"C:\\\\Users\\\\91995\\\\OneDrive - Georgia Institute of Technology\\\\vit_features\" --loss_function=FL"
   ]
  },
  {
   "cell_type": "markdown",
   "metadata": {},
   "source": [
    "#### Experiment 4:  Vit Data + NetVladd + CB + FL Loss"
   ]
  },
  {
   "cell_type": "code",
   "execution_count": null,
   "metadata": {},
   "outputs": [],
   "source": [
    "\n",
    "%run src\\main.py --SoccerNet_path=G:\\.shortcut-targets-by-id\\\\1H509_zeV7bta5BudwCznjP0EWrCa_LCJ\\\\deep_learning_alphas_final_project\\\\assets_pca --model_name=NetVLAD++_vit_CB+FL_run_1 --features=custom_vit --seed 3 --LR=1e-3 --split_test=\"test\" --custom_feature_path=\"C:\\\\Users\\\\91995\\\\OneDrive - Georgia Institute of Technology\\\\vit_features\" --loss_function=CB+FL"
   ]
  },
  {
   "cell_type": "markdown",
   "metadata": {},
   "source": [
    "#### Experiment 5:  Vit Data + ATTENTION + CE Loss"
   ]
  },
  {
   "cell_type": "code",
   "execution_count": null,
   "metadata": {},
   "outputs": [],
   "source": [
    "\n",
    "%run src\\main.py --SoccerNet_path=G:\\.shortcut-targets-by-id\\\\1H509_zeV7bta5BudwCznjP0EWrCa_LCJ\\\\deep_learning_alphas_final_project\\\\assets_pca --model_name=ATTENTION_vit_CE_run_1 --features=custom_vit --seed 3 --LR=1e-3 --split_test=\"test\" --custom_feature_path=\"C:\\\\Users\\\\91995\\\\OneDrive - Georgia Institute of Technology\\\\vit_features\" --loss_function=CE"
   ]
  },
  {
   "cell_type": "markdown",
   "metadata": {},
   "source": [
    "#### Experiment 6:  Vit Data + ATTENTION + CE+CB Loss"
   ]
  },
  {
   "cell_type": "code",
   "execution_count": null,
   "metadata": {},
   "outputs": [],
   "source": [
    "\n",
    "%run src\\main.py --SoccerNet_path=G:\\.shortcut-targets-by-id\\\\1H509_zeV7bta5BudwCznjP0EWrCa_LCJ\\\\deep_learning_alphas_final_project\\\\assets_pca --model_name=ATTENTION_vit_CE+CB_run_1 --features=custom_vit --seed 3 --LR=1e-3 --split_test=\"test\" --custom_feature_path=\"C:\\\\Users\\\\91995\\\\OneDrive - Georgia Institute of Technology\\\\vit_features\" --loss_function=CE+CB"
   ]
  },
  {
   "cell_type": "markdown",
   "metadata": {},
   "source": [
    "#### Experiment 7:  Vit Data + ATTENTION + FL Loss"
   ]
  },
  {
   "cell_type": "code",
   "execution_count": null,
   "metadata": {},
   "outputs": [],
   "source": [
    "\n",
    "%run src\\main.py --SoccerNet_path=G:\\.shortcut-targets-by-id\\\\1H509_zeV7bta5BudwCznjP0EWrCa_LCJ\\\\deep_learning_alphas_final_project\\\\assets_pca --model_name=ATTENTION_vit_FL_run_1 --features=custom_vit --seed 3 --LR=1e-3 --split_test=\"test\" --custom_feature_path=\"C:\\\\Users\\\\91995\\\\OneDrive - Georgia Institute of Technology\\\\vit_features\" --loss_function=FL"
   ]
  },
  {
   "cell_type": "markdown",
   "metadata": {},
   "source": [
    "#### Experiment 8:  Vit Data + ATTENTION + CB + FL Loss"
   ]
  },
  {
   "cell_type": "code",
   "execution_count": null,
   "metadata": {},
   "outputs": [],
   "source": [
    "\n",
    "%run src\\main.py --SoccerNet_path=G:\\.shortcut-targets-by-id\\\\1H509_zeV7bta5BudwCznjP0EWrCa_LCJ\\\\deep_learning_alphas_final_project\\\\assets_pca --model_name=ATTENTION_vit_CB+FL_run_1 --features=custom_vit --seed 3 --LR=1e-3 --split_test=\"test\" --custom_feature_path=\"C:\\\\Users\\\\91995\\\\OneDrive - Georgia Institute of Technology\\\\vit_features\" --loss_function=CB+FL"
   ]
  },
  {
   "cell_type": "markdown",
   "metadata": {},
   "source": [
    "# Experiment 9 - 16 is with RESNET + PCA 512 Features"
   ]
  },
  {
   "cell_type": "markdown",
   "metadata": {},
   "source": [
    "#### Experiment 9:  ResNETPCA512 + NetVladd + CE Loss"
   ]
  },
  {
   "cell_type": "code",
   "execution_count": null,
   "metadata": {},
   "outputs": [],
   "source": [
    "\n",
    "%run src\\main.py --SoccerNet_path=G:\\.shortcut-targets-by-id\\\\1H509_zeV7bta5BudwCznjP0EWrCa_LCJ\\\\deep_learning_alphas_final_project\\\\assets_pca --model_name=NetVLAD++_ResNETPCA512_CE_run_1 --features=ResNET_TF2_PCA512.npy --seed 3 --LR=1e-3 --split_test=\"test\" --custom_feature_path=\"C:\\\\Users\\\\91995\\\\OneDrive - Georgia Institute of Technology\\\\vit_features\" --loss_function=CE"
   ]
  },
  {
   "cell_type": "markdown",
   "metadata": {},
   "source": [
    "#### Experiment 10:  ResNETPCA512 + NetVladd + CE+CB Loss"
   ]
  },
  {
   "cell_type": "code",
   "execution_count": null,
   "metadata": {},
   "outputs": [],
   "source": [
    "\n",
    "%run src\\main.py --SoccerNet_path=G:\\.shortcut-targets-by-id\\\\1H509_zeV7bta5BudwCznjP0EWrCa_LCJ\\\\deep_learning_alphas_final_project\\\\assets_pca --model_name=NetVLAD++_ResNETPCA512_CE+CB_run_1 --features=ResNET_TF2_PCA512.npy --seed 3 --LR=1e-3 --split_test=\"test\" --custom_feature_path=\"C:\\\\Users\\\\91995\\\\OneDrive - Georgia Institute of Technology\\\\vit_features\" --loss_function=CE+CB"
   ]
  },
  {
   "cell_type": "markdown",
   "metadata": {},
   "source": [
    "#### Experiment 11:  ResNETPCA512 + NetVladd + FL Loss"
   ]
  },
  {
   "cell_type": "code",
   "execution_count": null,
   "metadata": {},
   "outputs": [],
   "source": [
    "\n",
    "%run src\\main.py --SoccerNet_path=G:\\.shortcut-targets-by-id\\\\1H509_zeV7bta5BudwCznjP0EWrCa_LCJ\\\\deep_learning_alphas_final_project\\\\assets_pca --model_name=NetVLAD++_ResNETPCA512_FL_run_1 --features=ResNET_TF2_PCA512.npy --seed 3 --LR=1e-3 --split_test=\"test\" --custom_feature_path=\"C:\\\\Users\\\\91995\\\\OneDrive - Georgia Institute of Technology\\\\vit_features\" --loss_function=FL"
   ]
  },
  {
   "cell_type": "markdown",
   "metadata": {},
   "source": [
    "#### Experiment 12:  ResNETPCA512 + NetVladd + CB + FL Loss"
   ]
  },
  {
   "cell_type": "code",
   "execution_count": null,
   "metadata": {},
   "outputs": [],
   "source": [
    "\n",
    "%run src\\main.py --SoccerNet_path=G:\\.shortcut-targets-by-id\\\\1H509_zeV7bta5BudwCznjP0EWrCa_LCJ\\\\deep_learning_alphas_final_project\\\\assets_pca --model_name=NetVLAD++_ResNETPCA512_CB+FL_run_1 --features=ResNET_TF2_PCA512.npy --seed 3 --LR=1e-3 --split_test=\"test\" --custom_feature_path=\"C:\\\\Users\\\\91995\\\\OneDrive - Georgia Institute of Technology\\\\vit_features\" --loss_function=CB+FL"
   ]
  },
  {
   "cell_type": "markdown",
   "metadata": {},
   "source": [
    "#### Experiment 13:  ResNETPCA512 + ATTENTION + CE Loss"
   ]
  },
  {
   "cell_type": "code",
   "execution_count": null,
   "metadata": {},
   "outputs": [],
   "source": [
    "\n",
    "%run src\\main.py --SoccerNet_path=G:\\.shortcut-targets-by-id\\\\1H509_zeV7bta5BudwCznjP0EWrCa_LCJ\\\\deep_learning_alphas_final_project\\\\assets_pca --model_name=ATTENTION_ResNETPCA512_CE_run_1 --features=ResNET_TF2_PCA512.npy --seed 3 --LR=1e-3 --split_test=\"test\" --custom_feature_path=\"C:\\\\Users\\\\91995\\\\OneDrive - Georgia Institute of Technology\\\\vit_features\" --loss_function=CE"
   ]
  },
  {
   "cell_type": "markdown",
   "metadata": {},
   "source": [
    "#### Experiment 14:  ResNETPCA512 + ATTENTION + CE+CB Loss"
   ]
  },
  {
   "cell_type": "code",
   "execution_count": null,
   "metadata": {},
   "outputs": [],
   "source": [
    "\n",
    "%run src\\main.py --SoccerNet_path=G:\\.shortcut-targets-by-id\\\\1H509_zeV7bta5BudwCznjP0EWrCa_LCJ\\\\deep_learning_alphas_final_project\\\\assets_pca --model_name=ATTENTION_ResNETPCA512_CE+CB_run_1 --features=ResNET_TF2_PCA512.npy --seed 3 --LR=1e-3 --split_test=\"test\" --custom_feature_path=\"C:\\\\Users\\\\91995\\\\OneDrive - Georgia Institute of Technology\\\\vit_features\" --loss_function=CE+CB"
   ]
  },
  {
   "cell_type": "markdown",
   "metadata": {},
   "source": [
    "#### Experiment 15:  ResNETPCA512 + ATTENTION + FL Loss"
   ]
  },
  {
   "cell_type": "code",
   "execution_count": null,
   "metadata": {},
   "outputs": [],
   "source": [
    "\n",
    "%run src\\main.py --SoccerNet_path=G:\\.shortcut-targets-by-id\\\\1H509_zeV7bta5BudwCznjP0EWrCa_LCJ\\\\deep_learning_alphas_final_project\\\\assets_pca --model_name=ATTENTION_ResNETPCA512_FL_run_1 --features=ResNET_TF2_PCA512.npy --seed 3 --LR=1e-3 --split_test=\"test\" --custom_feature_path=\"C:\\\\Users\\\\91995\\\\OneDrive - Georgia Institute of Technology\\\\vit_features\" --loss_function=FL"
   ]
  },
  {
   "cell_type": "markdown",
   "metadata": {},
   "source": [
    "#### Experiment 16:  ResNETPCA512 + ATTENTION + CB + FL Loss"
   ]
  },
  {
   "cell_type": "code",
   "execution_count": null,
   "metadata": {},
   "outputs": [],
   "source": [
    "\n",
    "%run src\\main.py --SoccerNet_path=G:\\.shortcut-targets-by-id\\\\1H509_zeV7bta5BudwCznjP0EWrCa_LCJ\\\\deep_learning_alphas_final_project\\\\assets_pca --model_name=ATTENTION_ResNETPCA512_CB+FL_run_1 --features=ResNET_TF2_PCA512.npy --seed 3 --LR=1e-3 --split_test=\"test\" --custom_feature_path=\"C:\\\\Users\\\\91995\\\\OneDrive - Georgia Institute of Technology\\\\vit_features\" --loss_function=CB+FL"
   ]
  },
  {
   "cell_type": "markdown",
   "metadata": {},
   "source": [
    "# Experiment 17 - 24 is with RESNET Features"
   ]
  },
  {
   "cell_type": "markdown",
   "metadata": {},
   "source": [
    "#### Experiment 17:  ResNET + NetVladd + CE Loss"
   ]
  },
  {
   "cell_type": "code",
   "execution_count": null,
   "metadata": {},
   "outputs": [],
   "source": [
    "\n",
    "%run src\\main.py --SoccerNet_path=G:\\.shortcut-targets-by-id\\\\1H509_zeV7bta5BudwCznjP0EWrCa_LCJ\\\\deep_learning_alphas_final_project\\\\assets_pca --model_name=NetVLAD++_ResNET_CE_run_1 --features=ResNET_TF2.npy --seed 3 --LR=1e-3 --split_test=\"test\" --custom_feature_path=\"C:\\\\Users\\\\91995\\\\OneDrive - Georgia Institute of Technology\\\\vit_features\" --loss_function=CE"
   ]
  },
  {
   "cell_type": "markdown",
   "metadata": {},
   "source": [
    "#### Experiment 18:  ResNET + NetVladd + CE+CB Loss"
   ]
  },
  {
   "cell_type": "code",
   "execution_count": null,
   "metadata": {},
   "outputs": [],
   "source": [
    "\n",
    "%run src\\main.py --SoccerNet_path=G:\\.shortcut-targets-by-id\\\\1H509_zeV7bta5BudwCznjP0EWrCa_LCJ\\\\deep_learning_alphas_final_project\\\\assets_pca --model_name=NetVLAD++_ResNET_CE+CB_run_1 --features=ResNET_TF2.npy --seed 3 --LR=1e-3 --split_test=\"test\" --custom_feature_path=\"C:\\\\Users\\\\91995\\\\OneDrive - Georgia Institute of Technology\\\\vit_features\" --loss_function=CE+CB"
   ]
  },
  {
   "cell_type": "markdown",
   "metadata": {},
   "source": [
    "#### Experiment 19:  ResNET + NetVladd + FL Loss"
   ]
  },
  {
   "cell_type": "code",
   "execution_count": null,
   "metadata": {},
   "outputs": [],
   "source": [
    "\n",
    "%run src\\main.py --SoccerNet_path=G:\\.shortcut-targets-by-id\\\\1H509_zeV7bta5BudwCznjP0EWrCa_LCJ\\\\deep_learning_alphas_final_project\\\\assets_pca --model_name=NetVLAD++_ResNET_FL_run_1 --features=ResNET_TF2.npy --seed 3 --LR=1e-3 --split_test=\"test\" --custom_feature_path=\"C:\\\\Users\\\\91995\\\\OneDrive - Georgia Institute of Technology\\\\vit_features\" --loss_function=FL"
   ]
  },
  {
   "cell_type": "markdown",
   "metadata": {},
   "source": [
    "#### Experiment 20:  ResNET + NetVladd + CB + FL Loss"
   ]
  },
  {
   "cell_type": "code",
   "execution_count": null,
   "metadata": {},
   "outputs": [],
   "source": [
    "\n",
    "%run src\\main.py --SoccerNet_path=G:\\.shortcut-targets-by-id\\\\1H509_zeV7bta5BudwCznjP0EWrCa_LCJ\\\\deep_learning_alphas_final_project\\\\assets_pca --model_name=NetVLAD++_ResNET_CB+FL_run_1 --features=ResNET_TF2.npy --seed 3 --LR=1e-3 --split_test=\"test\" --custom_feature_path=\"C:\\\\Users\\\\91995\\\\OneDrive - Georgia Institute of Technology\\\\vit_features\" --loss_function=CB+FL"
   ]
  },
  {
   "cell_type": "markdown",
   "metadata": {},
   "source": [
    "#### Experiment 21:  ResNET + ATTENTION + CE Loss"
   ]
  },
  {
   "cell_type": "code",
   "execution_count": null,
   "metadata": {},
   "outputs": [],
   "source": [
    "\n",
    "%run src\\main.py --SoccerNet_path=G:\\.shortcut-targets-by-id\\\\1H509_zeV7bta5BudwCznjP0EWrCa_LCJ\\\\deep_learning_alphas_final_project\\\\assets_pca --model_name=ATTENTION_ResNET_CE_run_1 --features=ResNET_TF2.npy --seed 3 --LR=1e-3 --split_test=\"test\" --custom_feature_path=\"C:\\\\Users\\\\91995\\\\OneDrive - Georgia Institute of Technology\\\\vit_features\" --loss_function=CE"
   ]
  },
  {
   "cell_type": "markdown",
   "metadata": {},
   "source": [
    "#### Experiment 22:  ResNET + ATTENTION + CE+CB Loss"
   ]
  },
  {
   "cell_type": "code",
   "execution_count": null,
   "metadata": {},
   "outputs": [],
   "source": [
    "\n",
    "%run src\\main.py --SoccerNet_path=G:\\.shortcut-targets-by-id\\\\1H509_zeV7bta5BudwCznjP0EWrCa_LCJ\\\\deep_learning_alphas_final_project\\\\assets_pca --model_name=ATTENTION_ResNET_CE+CB_run_1 --features=ResNET_TF2.npy --seed 3 --LR=1e-3 --split_test=\"test\" --custom_feature_path=\"C:\\\\Users\\\\91995\\\\OneDrive - Georgia Institute of Technology\\\\vit_features\" --loss_function=CE+CB"
   ]
  },
  {
   "cell_type": "markdown",
   "metadata": {},
   "source": [
    "#### Experiment 23:  ResNET + ATTENTION + FL Loss"
   ]
  },
  {
   "cell_type": "code",
   "execution_count": null,
   "metadata": {},
   "outputs": [],
   "source": [
    "\n",
    "%run src\\main.py --SoccerNet_path=G:\\.shortcut-targets-by-id\\\\1H509_zeV7bta5BudwCznjP0EWrCa_LCJ\\\\deep_learning_alphas_final_project\\\\assets_pca --model_name=ATTENTION_ResNET_FL_run_1 --features=ResNET_TF2.npy --seed 3 --LR=1e-3 --split_test=\"test\" --custom_feature_path=\"C:\\\\Users\\\\91995\\\\OneDrive - Georgia Institute of Technology\\\\vit_features\" --loss_function=FL"
   ]
  },
  {
   "cell_type": "markdown",
   "metadata": {},
   "source": [
    "#### Experiment 24:  ResNET + ATTENTION + CB + FL Loss"
   ]
  },
  {
   "cell_type": "code",
   "execution_count": null,
   "metadata": {},
   "outputs": [],
   "source": [
    "\n",
    "%run src\\main.py --SoccerNet_path=G:\\.shortcut-targets-by-id\\\\1H509_zeV7bta5BudwCznjP0EWrCa_LCJ\\\\deep_learning_alphas_final_project\\\\assets_pca --model_name=ATTENTION_ResNET_CB+FL_run_1 --features=ResNET_TF2.npy --seed 3 --LR=1e-3 --split_test=\"test\" --custom_feature_path=\"C:\\\\Users\\\\91995\\\\OneDrive - Georgia Institute of Technology\\\\vit_features\" --loss_function=CB+FL"
   ]
  }
 ],
 "metadata": {
  "kernelspec": {
   "display_name": "Python 3 (ipykernel)",
   "language": "python",
   "name": "python3"
  },
  "language_info": {
   "codemirror_mode": {
    "name": "ipython",
    "version": 3
   },
   "file_extension": ".py",
   "mimetype": "text/x-python",
   "name": "python",
   "nbconvert_exporter": "python",
   "pygments_lexer": "ipython3",
   "version": "3.9.15"
  },
  "orig_nbformat": 4
 },
 "nbformat": 4,
 "nbformat_minor": 2
}

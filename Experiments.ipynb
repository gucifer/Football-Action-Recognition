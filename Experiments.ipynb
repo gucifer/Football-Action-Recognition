{
 "cells": [
  {
   "cell_type": "markdown",
   "metadata": {},
   "source": [
    "# Experiment 1 - 8 is with VIT Features"
   ]
  },
  {
   "cell_type": "markdown",
   "metadata": {},
   "source": [
    "#### Experiment 1:  Vit Data + NetVladd + CE Loss"
   ]
  },
  {
   "cell_type": "code",
   "execution_count": 1,
   "metadata": {},
   "outputs": [
    {
     "name": "stderr",
     "output_type": "stream",
     "text": [
      "2022-12-07 17:40:29,680 [MainThread  ] [INFO ]  Starting main function\n",
      "2022-12-07 17:40:29,680 [MainThread  ] [INFO ]  Parameters:\n",
      "2022-12-07 17:40:29,680 [MainThread  ] [INFO ]   SoccerNet_path : G:\\.shortcut-targets-by-id\\\\1H509_zeV7bta5BudwCznjP0EWrCa_LCJ\\\\deep_learning_alphas_final_project\\\\assets_pca\n",
      "2022-12-07 17:40:29,688 [MainThread  ] [INFO ]         features : custom_vit\n",
      "2022-12-07 17:40:29,688 [MainThread  ] [INFO ]       max_epochs : 1000\n",
      "2022-12-07 17:40:29,688 [MainThread  ] [INFO ]     load_weights : None\n",
      "2022-12-07 17:40:29,688 [MainThread  ] [INFO ]       model_name : NetVLAD++_vit_CE_run_1\n",
      "2022-12-07 17:40:29,688 [MainThread  ] [INFO ]        test_only : False\n",
      "2022-12-07 17:40:29,688 [MainThread  ] [INFO ]      split_train : ['train']\n",
      "2022-12-07 17:40:29,688 [MainThread  ] [INFO ]      split_valid : ['valid']\n",
      "2022-12-07 17:40:29,688 [MainThread  ] [INFO ]       split_test : ['test']\n",
      "2022-12-07 17:40:29,688 [MainThread  ] [INFO ]          version : 2\n",
      "2022-12-07 17:40:29,688 [MainThread  ] [INFO ]      feature_dim : None\n",
      "2022-12-07 17:40:29,688 [MainThread  ] [INFO ]  evaluation_frequency : 10\n",
      "2022-12-07 17:40:29,696 [MainThread  ] [INFO ]        framerate : 2\n",
      "2022-12-07 17:40:29,696 [MainThread  ] [INFO ]      window_size : 15\n",
      "2022-12-07 17:40:29,696 [MainThread  ] [INFO ]             pool : NetVLAD++\n",
      "2022-12-07 17:40:29,696 [MainThread  ] [INFO ]       vocab_size : 64\n",
      "2022-12-07 17:40:29,696 [MainThread  ] [INFO ]       NMS_window : 30\n",
      "2022-12-07 17:40:29,696 [MainThread  ] [INFO ]    NMS_threshold : 0.0\n",
      "2022-12-07 17:40:29,696 [MainThread  ] [INFO ]       batch_size : 256\n",
      "2022-12-07 17:40:29,696 [MainThread  ] [INFO ]               LR : 0.001\n",
      "2022-12-07 17:40:29,696 [MainThread  ] [INFO ]              LRe : 1e-06\n",
      "2022-12-07 17:40:29,696 [MainThread  ] [INFO ]         patience : 10\n",
      "2022-12-07 17:40:29,696 [MainThread  ] [INFO ]              GPU : 0\n",
      "2022-12-07 17:40:29,696 [MainThread  ] [INFO ]   max_num_worker : 1\n",
      "2022-12-07 17:40:29,704 [MainThread  ] [INFO ]             seed : 3\n",
      "2022-12-07 17:40:29,704 [MainThread  ] [INFO ]         loglevel : INFO\n",
      "2022-12-07 17:40:29,704 [MainThread  ] [INFO ]  custom_feature_path : C:\\\\Users\\\\91995\\\\OneDrive - Georgia Institute of Technology\\\\vit_features\n",
      "2022-12-07 17:40:29,704 [MainThread  ] [INFO ]    loss_function : CE\n",
      "2022-12-07 17:40:29,704 [MainThread  ] [INFO ]  Checking/Download features and labels locally\n",
      "2022-12-07 17:40:29,704 [MainThread  ] [INFO ]  Pre-compute clips\n",
      "100%|███████████████████████████████████████████████████████████████████████████████████████████████████████████████████████████████| 300/300 [00:30<00:00,  9.78it/s]\n",
      "2022-12-07 17:41:03,872 [MainThread  ] [INFO ]  Checking/Download features and labels locally\n",
      "2022-12-07 17:41:03,872 [MainThread  ] [INFO ]  Pre-compute clips\n",
      "100%|███████████████████████████████████████████████████████████████████████████████████████████████████████████████████████████████| 100/100 [00:10<00:00,  9.16it/s]\n",
      "2022-12-07 17:41:16,066 [MainThread  ] [INFO ]  Checking/Download features and labels locally\n",
      "2022-12-07 17:41:16,066 [MainThread  ] [INFO ]  Pre-compute clips\n",
      "100%|███████████████████████████████████████████████████████████████████████████████████████████████████████████████████████████████| 100/100 [00:03<00:00, 31.97it/s]\n",
      "2022-12-07 17:41:20,249 [MainThread  ] [INFO ]  Checking/Download features and labels locally\n"
     ]
    },
    {
     "name": "stdout",
     "output_type": "stream",
     "text": [
      "feature_dim found: 768\n"
     ]
    },
    {
     "name": "stderr",
     "output_type": "stream",
     "text": [
      "2022-12-07 17:41:22,314 [MainThread  ] [INFO ]  Model(\n",
      "  (feature_extractor): Linear(in_features=768, out_features=512, bias=True)\n",
      "  (pool_layer_before): NetVLAD()\n",
      "  (pool_layer_after): NetVLAD()\n",
      "  (fc): Linear(in_features=32768, out_features=18, bias=True)\n",
      "  (drop): Dropout(p=0.4, inplace=False)\n",
      "  (sigm): Sigmoid()\n",
      ")\n",
      "2022-12-07 17:41:22,322 [MainThread  ] [INFO ]  Total number of parameters: 1049106\n",
      "C:\\Users\\91995\\Documents\\GT Coursework\\CS 7643 DL\\Project\\dl_7643_final_project_code\\src\\loss.py:38: UserWarning: To copy construct from a tensor, it is recommended to use sourceTensor.clone().detach() or sourceTensor.clone().detach().requires_grad_(True), rather than torch.tensor(sourceTensor).\n",
      "  self.weight = torch.tensor(weight).float()\n",
      "2022-12-07 17:41:23,962 [MainThread  ] [INFO ]  start training\n",
      "Train 1: Time 0.040s (it:0.032s) Data:0.012s (it:0.016s) Loss 1.2017e+00 : 100%|████████████████████████████████████████████████████| 429/429 [00:16<00:00, 25.30it/s]\n",
      "Evaluate 1: Time 0.017s (it:0.016s) Data:0.011s (it:0.016s) Loss 1.1780e+00 : 100%|█████████████████████████████████████████████████| 143/143 [00:02<00:00, 59.79it/s]\n",
      "Train 2: Time 0.046s (it:0.088s) Data:0.010s (it:0.008s) Loss 1.1740e+00 : 100%|████████████████████████████████████████████████████| 429/429 [00:19<00:00, 21.56it/s]\n",
      "Evaluate 2: Time 0.020s (it:0.016s) Data:0.009s (it:0.008s) Loss 1.1687e+00 : 100%|█████████████████████████████████████████████████| 143/143 [00:02<00:00, 50.34it/s]\n",
      "Train 3: Time 0.044s (it:0.024s) Data:0.010s (it:0.008s) Loss 1.1634e+00 : 100%|████████████████████████████████████████████████████| 429/429 [00:19<00:00, 22.54it/s]\n",
      "Evaluate 3: Time 0.029s (it:0.016s) Data:0.009s (it:0.000s) Loss 1.1605e+00 : 100%|█████████████████████████████████████████████████| 143/143 [00:04<00:00, 35.00it/s]\n",
      "Train 4: Time 0.018s (it:0.020s) Data:0.010s (it:0.012s) Loss 1.1569e+00 : 100%|████████████████████████████████████████████████████| 429/429 [00:07<00:00, 55.49it/s]\n",
      "Evaluate 4: Time 0.015s (it:0.011s) Data:0.009s (it:0.007s) Loss 1.1553e+00 : 100%|█████████████████████████████████████████████████| 143/143 [00:02<00:00, 65.73it/s]\n",
      "Train 5: Time 0.020s (it:0.019s) Data:0.010s (it:0.011s) Loss 1.1511e+00 : 100%|████████████████████████████████████████████████████| 429/429 [00:08<00:00, 50.89it/s]\n",
      "Evaluate 5: Time 0.014s (it:0.012s) Data:0.009s (it:0.007s) Loss 1.1516e+00 : 100%|█████████████████████████████████████████████████| 143/143 [00:02<00:00, 70.35it/s]\n",
      "Train 6: Time 0.018s (it:0.018s) Data:0.009s (it:0.011s) Loss 1.1463e+00 : 100%|████████████████████████████████████████████████████| 429/429 [00:07<00:00, 57.12it/s]\n",
      "Evaluate 6: Time 0.014s (it:0.011s) Data:0.009s (it:0.007s) Loss 1.1520e+00 : 100%|█████████████████████████████████████████████████| 143/143 [00:02<00:00, 71.33it/s]\n",
      "Train 7: Time 0.017s (it:0.018s) Data:0.009s (it:0.011s) Loss 1.1429e+00 : 100%|████████████████████████████████████████████████████| 429/429 [00:07<00:00, 57.44it/s]\n",
      "Evaluate 7: Time 0.014s (it:0.011s) Data:0.009s (it:0.007s) Loss 1.1478e+00 : 100%|█████████████████████████████████████████████████| 143/143 [00:02<00:00, 69.22it/s]\n",
      "Train 8: Time 0.017s (it:0.020s) Data:0.009s (it:0.012s) Loss 1.1391e+00 : 100%|████████████████████████████████████████████████████| 429/429 [00:07<00:00, 57.55it/s]\n",
      "Evaluate 8: Time 0.014s (it:0.011s) Data:0.009s (it:0.008s) Loss 1.1482e+00 : 100%|█████████████████████████████████████████████████| 143/143 [00:02<00:00, 71.21it/s]\n",
      "Train 9: Time 0.017s (it:0.020s) Data:0.009s (it:0.012s) Loss 1.1366e+00 : 100%|████████████████████████████████████████████████████| 429/429 [00:07<00:00, 58.05it/s]\n",
      "Evaluate 9: Time 0.014s (it:0.010s) Data:0.009s (it:0.006s) Loss 1.1440e+00 : 100%|█████████████████████████████████████████████████| 143/143 [00:01<00:00, 71.82it/s]\n",
      "Train 10: Time 0.018s (it:0.018s) Data:0.009s (it:0.011s) Loss 1.1337e+00 : 100%|███████████████████████████████████████████████████| 429/429 [00:07<00:00, 56.37it/s]\n",
      "Evaluate 10: Time 0.014s (it:0.012s) Data:0.008s (it:0.007s) Loss 1.1431e+00 : 100%|████████████████████████████████████████████████| 143/143 [00:01<00:00, 72.18it/s]\n",
      "Train 11: Time 0.017s (it:0.017s) Data:0.008s (it:0.010s) Loss 1.1311e+00 : 100%|███████████████████████████████████████████████████| 429/429 [00:07<00:00, 58.45it/s]\n",
      "Evaluate 11: Time 0.014s (it:0.010s) Data:0.008s (it:0.006s) Loss 1.1437e+00 : 100%|████████████████████████████████████████████████| 143/143 [00:01<00:00, 73.54it/s]\n",
      "Test (cls): Time 0.015s (it:0.011s) Data:0.010s (it:0.008s) : 100%|█████████████████████████████████████████████████████████████████| 143/143 [00:02<00:00, 65.68it/s]\n",
      "2022-12-07 17:43:48,859 [MainThread  ] [INFO ]  Validation performance at epoch 11 -> 0.3333790904613728\n"
     ]
    },
    {
     "name": "stdout",
     "output_type": "stream",
     "text": [
      "0.3333790904613728 [0.3371724753506331, 0.44309443068940285, 0.4304126670554219, 0.5425448953576539, 0.20945131712900814, 0.23511483681808196, 0.2402083394449762, 0.3401697309832472, 0.570254201507864, 0.49451332793018166, 0.3507645711904035, 0.25013530640344894, 0.3266026755088268, 0.5731514364045375, 0.2656431054155807, 0.017262829079231407, 0.04094839157483759]\n"
     ]
    },
    {
     "name": "stderr",
     "output_type": "stream",
     "text": [
      "Train 12: Time 0.017s (it:0.017s) Data:0.008s (it:0.010s) Loss 1.1288e+00 : 100%|███████████████████████████████████████████████████| 429/429 [00:07<00:00, 59.29it/s]\n",
      "Evaluate 12: Time 0.014s (it:0.011s) Data:0.008s (it:0.007s) Loss 1.1402e+00 : 100%|████████████████████████████████████████████████| 143/143 [00:01<00:00, 73.10it/s]\n",
      "Train 13: Time 0.017s (it:0.017s) Data:0.009s (it:0.010s) Loss 1.1266e+00 : 100%|███████████████████████████████████████████████████| 429/429 [00:07<00:00, 58.41it/s]\n",
      "Evaluate 13: Time 0.014s (it:0.011s) Data:0.009s (it:0.007s) Loss 1.1400e+00 : 100%|████████████████████████████████████████████████| 143/143 [00:01<00:00, 72.26it/s]\n",
      "Train 14: Time 0.017s (it:0.019s) Data:0.008s (it:0.012s) Loss 1.1248e+00 : 100%|███████████████████████████████████████████████████| 429/429 [00:07<00:00, 59.15it/s]\n",
      "Evaluate 14: Time 0.014s (it:0.012s) Data:0.008s (it:0.007s) Loss 1.1411e+00 : 100%|████████████████████████████████████████████████| 143/143 [00:01<00:00, 73.15it/s]\n",
      "Train 15: Time 0.017s (it:0.017s) Data:0.008s (it:0.010s) Loss 1.1227e+00 : 100%|███████████████████████████████████████████████████| 429/429 [00:07<00:00, 59.43it/s]\n",
      "Evaluate 15: Time 0.014s (it:0.012s) Data:0.008s (it:0.007s) Loss 1.1409e+00 : 100%|████████████████████████████████████████████████| 143/143 [00:01<00:00, 72.49it/s]\n",
      "Train 16: Time 0.017s (it:0.017s) Data:0.008s (it:0.011s) Loss 1.1205e+00 : 100%|███████████████████████████████████████████████████| 429/429 [00:07<00:00, 58.92it/s]\n",
      "Evaluate 16: Time 0.014s (it:0.011s) Data:0.009s (it:0.007s) Loss 1.1423e+00 : 100%|████████████████████████████████████████████████| 143/143 [00:02<00:00, 71.49it/s]\n",
      "Train 17: Time 0.018s (it:0.018s) Data:0.009s (it:0.011s) Loss 1.1189e+00 : 100%|███████████████████████████████████████████████████| 429/429 [00:07<00:00, 55.40it/s]\n",
      "Evaluate 17: Time 0.015s (it:0.012s) Data:0.010s (it:0.008s) Loss 1.1388e+00 : 100%|████████████████████████████████████████████████| 143/143 [00:02<00:00, 65.27it/s]\n",
      "Train 18: Time 0.017s (it:0.016s) Data:0.008s (it:0.010s) Loss 1.1181e+00 : 100%|███████████████████████████████████████████████████| 429/429 [00:07<00:00, 60.38it/s]\n",
      "Evaluate 18: Time 0.013s (it:0.014s) Data:0.008s (it:0.009s) Loss 1.1433e+00 : 100%|████████████████████████████████████████████████| 143/143 [00:01<00:00, 76.45it/s]\n",
      "Train 19: Time 0.017s (it:0.018s) Data:0.009s (it:0.011s) Loss 1.1161e+00 : 100%|███████████████████████████████████████████████████| 429/429 [00:07<00:00, 57.19it/s]\n",
      "Evaluate 19: Time 0.014s (it:0.011s) Data:0.009s (it:0.007s) Loss 1.1420e+00 : 100%|████████████████████████████████████████████████| 143/143 [00:02<00:00, 71.20it/s]\n",
      "Train 20: Time 0.017s (it:0.018s) Data:0.008s (it:0.010s) Loss 1.1146e+00 : 100%|███████████████████████████████████████████████████| 429/429 [00:07<00:00, 58.84it/s]\n",
      "Evaluate 20: Time 0.014s (it:0.011s) Data:0.009s (it:0.007s) Loss 1.1364e+00 : 100%|████████████████████████████████████████████████| 143/143 [00:02<00:00, 71.30it/s]\n",
      "Train 21: Time 0.017s (it:0.018s) Data:0.009s (it:0.011s) Loss 1.1137e+00 : 100%|███████████████████████████████████████████████████| 429/429 [00:07<00:00, 58.16it/s]\n",
      "Evaluate 21: Time 0.014s (it:0.011s) Data:0.009s (it:0.007s) Loss 1.1388e+00 : 100%|████████████████████████████████████████████████| 143/143 [00:02<00:00, 70.58it/s]\n",
      "Test (cls): Time 0.014s (it:0.012s) Data:0.009s (it:0.008s) : 100%|█████████████████████████████████████████████████████████████████| 143/143 [00:02<00:00, 69.51it/s]\n",
      "2022-12-07 17:45:24,497 [MainThread  ] [INFO ]  Validation performance at epoch 21 -> 0.3591478394954715\n"
     ]
    },
    {
     "name": "stdout",
     "output_type": "stream",
     "text": [
      "0.3591478394954715 [0.35975011622412667, 0.5102632526941825, 0.4659858865814697, 0.5676793797659706, 0.232967278467555, 0.24822071661556777, 0.2586317801674902, 0.3679838001178012, 0.5809776683994026, 0.5139143538668977, 0.3580706334331578, 0.26050465667913525, 0.34755605447757904, 0.6182125787353944, 0.3124595241497783, 0.01827853546738083, 0.08405705558012717]\n"
     ]
    },
    {
     "name": "stderr",
     "output_type": "stream",
     "text": [
      "Train 22: Time 0.016s (it:0.015s) Data:0.008s (it:0.009s) Loss 1.1127e+00 : 100%|███████████████████████████████████████████████████| 429/429 [00:06<00:00, 61.44it/s]\n",
      "Evaluate 22: Time 0.013s (it:0.011s) Data:0.008s (it:0.007s) Loss 1.1358e+00 : 100%|████████████████████████████████████████████████| 143/143 [00:01<00:00, 77.00it/s]\n",
      "Train 23: Time 0.017s (it:0.018s) Data:0.009s (it:0.011s) Loss 1.1099e+00 : 100%|███████████████████████████████████████████████████| 429/429 [00:07<00:00, 58.00it/s]\n",
      "Evaluate 23: Time 0.013s (it:0.010s) Data:0.008s (it:0.007s) Loss 1.1395e+00 : 100%|████████████████████████████████████████████████| 143/143 [00:01<00:00, 74.38it/s]\n",
      "Train 24: Time 0.017s (it:0.017s) Data:0.008s (it:0.010s) Loss 1.1091e+00 : 100%|███████████████████████████████████████████████████| 429/429 [00:07<00:00, 59.42it/s]\n",
      "Evaluate 24: Time 0.014s (it:0.012s) Data:0.008s (it:0.008s) Loss 1.1465e+00 : 100%|████████████████████████████████████████████████| 143/143 [00:01<00:00, 72.96it/s]\n",
      "Train 25: Time 0.017s (it:0.016s) Data:0.008s (it:0.009s) Loss 1.1086e+00 : 100%|███████████████████████████████████████████████████| 429/429 [00:07<00:00, 58.90it/s]\n",
      "Evaluate 25: Time 0.013s (it:0.010s) Data:0.008s (it:0.006s) Loss 1.1387e+00 : 100%|████████████████████████████████████████████████| 143/143 [00:01<00:00, 78.23it/s]\n",
      "Train 26: Time 0.016s (it:0.017s) Data:0.008s (it:0.010s) Loss 1.1063e+00 : 100%|███████████████████████████████████████████████████| 429/429 [00:06<00:00, 61.63it/s]\n",
      "Evaluate 26: Time 0.013s (it:0.010s) Data:0.008s (it:0.007s) Loss 1.1382e+00 : 100%|████████████████████████████████████████████████| 143/143 [00:01<00:00, 76.30it/s]\n",
      "Train 27: Time 0.016s (it:0.017s) Data:0.008s (it:0.010s) Loss 1.1052e+00 : 100%|███████████████████████████████████████████████████| 429/429 [00:06<00:00, 61.74it/s]\n",
      "Evaluate 27: Time 0.013s (it:0.011s) Data:0.008s (it:0.007s) Loss 1.1401e+00 : 100%|████████████████████████████████████████████████| 143/143 [00:01<00:00, 78.12it/s]\n",
      "Train 28: Time 0.016s (it:0.017s) Data:0.008s (it:0.010s) Loss 1.1038e+00 : 100%|███████████████████████████████████████████████████| 429/429 [00:06<00:00, 61.51it/s]\n",
      "Evaluate 28: Time 0.013s (it:0.014s) Data:0.008s (it:0.009s) Loss 1.1361e+00 : 100%|████████████████████████████████████████████████| 143/143 [00:01<00:00, 77.99it/s]\n",
      "Train 29: Time 0.016s (it:0.016s) Data:0.008s (it:0.010s) Loss 1.1027e+00 : 100%|███████████████████████████████████████████████████| 429/429 [00:06<00:00, 61.87it/s]\n",
      "Evaluate 29: Time 0.013s (it:0.011s) Data:0.008s (it:0.007s) Loss 1.1400e+00 : 100%|████████████████████████████████████████████████| 143/143 [00:01<00:00, 76.60it/s]\n",
      "Train 30: Time 0.019s (it:0.022s) Data:0.010s (it:0.012s) Loss 1.1017e+00 : 100%|███████████████████████████████████████████████████| 429/429 [00:08<00:00, 52.79it/s]\n",
      "Evaluate 30: Time 0.016s (it:0.016s) Data:0.010s (it:0.009s) Loss 1.1441e+00 : 100%|████████████████████████████████████████████████| 143/143 [00:02<00:00, 62.59it/s]\n",
      "Train 31: Time 0.020s (it:0.024s) Data:0.010s (it:0.014s) Loss 1.1005e+00 : 100%|███████████████████████████████████████████████████| 429/429 [00:08<00:00, 50.73it/s]\n",
      "Evaluate 31: Time 0.015s (it:0.017s) Data:0.010s (it:0.012s) Loss 1.1402e+00 : 100%|████████████████████████████████████████████████| 143/143 [00:02<00:00, 65.04it/s]\n",
      "Test (cls): Time 0.017s (it:0.014s) Data:0.011s (it:0.009s) : 100%|█████████████████████████████████████████████████████████████████| 143/143 [00:02<00:00, 57.32it/s]\n",
      "2022-12-07 17:47:00,000 [MainThread  ] [INFO ]  Validation performance at epoch 31 -> 0.362438705804006\n"
     ]
    },
    {
     "name": "stdout",
     "output_type": "stream",
     "text": [
      "0.362438705804006 [0.3629199656717915, 0.5332974139363904, 0.4618516425448503, 0.5632365594623895, 0.23485600873188187, 0.24549994393751576, 0.2624642173901435, 0.37091180286370184, 0.5875098305433221, 0.5179080426445264, 0.36064606144698214, 0.25596838928378995, 0.3625305972411756, 0.625239379213588, 0.33162666972606686, 0.046951329101634715, 0.03804014492835198]\n"
     ]
    },
    {
     "name": "stderr",
     "output_type": "stream",
     "text": [
      "Train 32: Time 0.019s (it:0.023s) Data:0.009s (it:0.013s) Loss 1.0991e+00 : 100%|███████████████████████████████████████████████████| 429/429 [00:08<00:00, 53.07it/s]\n",
      "Evaluate 32: Time 0.017s (it:0.013s) Data:0.011s (it:0.008s) Loss 1.1367e+00 : 100%|████████████████████████████████████████████████| 143/143 [00:02<00:00, 58.05it/s]\n",
      "Train 33: Time 0.017s (it:0.018s) Data:0.009s (it:0.011s) Loss 1.0981e+00 : 100%|███████████████████████████████████████████████████| 429/429 [00:07<00:00, 57.25it/s]\n",
      "Evaluate 33: Time 0.015s (it:0.012s) Data:0.009s (it:0.007s) Loss 1.1382e+00 : 100%|████████████████████████████████████████████████| 143/143 [00:02<00:00, 68.91it/s]\n",
      "2022-12-07 17:47:20,128 [MainThread  ] [INFO ]  Plateau Reached!\n"
     ]
    },
    {
     "name": "stdout",
     "output_type": "stream",
     "text": [
      "Epoch 00033: reducing learning rate of group 0 to 1.0000e-04.\n"
     ]
    },
    {
     "name": "stderr",
     "output_type": "stream",
     "text": [
      "Train 34: Time 0.018s (it:0.018s) Data:0.009s (it:0.011s) Loss 1.0838e+00 : 100%|███████████████████████████████████████████████████| 429/429 [00:07<00:00, 55.22it/s]\n",
      "Evaluate 34: Time 0.013s (it:0.010s) Data:0.008s (it:0.007s) Loss 1.1393e+00 : 100%|████████████████████████████████████████████████| 143/143 [00:01<00:00, 74.16it/s]\n",
      "Train 35: Time 0.017s (it:0.018s) Data:0.009s (it:0.011s) Loss 1.0821e+00 : 100%|███████████████████████████████████████████████████| 429/429 [00:07<00:00, 58.80it/s]\n",
      "Evaluate 35: Time 0.017s (it:0.016s) Data:0.010s (it:0.010s) Loss 1.1394e+00 : 100%|████████████████████████████████████████████████| 143/143 [00:02<00:00, 59.30it/s]\n",
      "Train 36: Time 0.018s (it:0.021s) Data:0.009s (it:0.012s) Loss 1.0812e+00 : 100%|███████████████████████████████████████████████████| 429/429 [00:07<00:00, 57.01it/s]\n",
      "Evaluate 36: Time 0.013s (it:0.011s) Data:0.008s (it:0.007s) Loss 1.1400e+00 : 100%|████████████████████████████████████████████████| 143/143 [00:01<00:00, 75.73it/s]\n",
      "Train 37: Time 0.016s (it:0.016s) Data:0.008s (it:0.009s) Loss 1.0805e+00 : 100%|███████████████████████████████████████████████████| 429/429 [00:07<00:00, 60.63it/s]\n",
      "Evaluate 37: Time 0.013s (it:0.010s) Data:0.008s (it:0.006s) Loss 1.1403e+00 : 100%|████████████████████████████████████████████████| 143/143 [00:01<00:00, 75.88it/s]\n",
      "Train 38: Time 0.017s (it:0.016s) Data:0.009s (it:0.010s) Loss 1.0798e+00 : 100%|███████████████████████████████████████████████████| 429/429 [00:07<00:00, 58.39it/s]\n",
      "Evaluate 38: Time 0.014s (it:0.013s) Data:0.009s (it:0.008s) Loss 1.1427e+00 : 100%|████████████████████████████████████████████████| 143/143 [00:02<00:00, 70.63it/s]\n",
      "Train 39: Time 0.017s (it:0.016s) Data:0.008s (it:0.009s) Loss 1.0795e+00 : 100%|███████████████████████████████████████████████████| 429/429 [00:07<00:00, 59.36it/s]\n",
      "Evaluate 39: Time 0.013s (it:0.011s) Data:0.008s (it:0.007s) Loss 1.1407e+00 : 100%|████████████████████████████████████████████████| 143/143 [00:01<00:00, 74.85it/s]\n",
      "Train 40: Time 0.017s (it:0.017s) Data:0.008s (it:0.011s) Loss 1.0790e+00 : 100%|███████████████████████████████████████████████████| 429/429 [00:07<00:00, 59.53it/s]\n",
      "Evaluate 40: Time 0.014s (it:0.012s) Data:0.008s (it:0.008s) Loss 1.1420e+00 : 100%|████████████████████████████████████████████████| 143/143 [00:01<00:00, 73.52it/s]\n",
      "Train 41: Time 0.018s (it:0.017s) Data:0.009s (it:0.010s) Loss 1.0785e+00 : 100%|███████████████████████████████████████████████████| 429/429 [00:07<00:00, 54.47it/s]\n",
      "Evaluate 41: Time 0.014s (it:0.011s) Data:0.008s (it:0.007s) Loss 1.1427e+00 : 100%|████████████████████████████████████████████████| 143/143 [00:01<00:00, 73.78it/s]\n",
      "Test (cls): Time 0.014s (it:0.010s) Data:0.009s (it:0.007s) : 100%|█████████████████████████████████████████████████████████████████| 143/143 [00:02<00:00, 69.36it/s]\n",
      "2022-12-07 17:48:37,649 [MainThread  ] [INFO ]  Validation performance at epoch 41 -> 0.3723079194158861\n"
     ]
    },
    {
     "name": "stdout",
     "output_type": "stream",
     "text": [
      "0.3723079194158861 [0.3946736448819284, 0.5447476509428297, 0.46607781047671537, 0.5731767167020952, 0.2341501278077018, 0.2487779125166499, 0.26938927875665697, 0.38922590023210746, 0.5866809422479451, 0.5266377155699089, 0.3634858074504075, 0.26150392456973615, 0.37400865052693444, 0.6420148594574349, 0.3510177503415566, 0.04482750022082167, 0.05883843736863328]\n"
     ]
    },
    {
     "name": "stderr",
     "output_type": "stream",
     "text": [
      "Train 42: Time 0.018s (it:0.015s) Data:0.009s (it:0.007s) Loss 1.0786e+00 :  66%|█████████████████████████████████▌                 | 282/429 [00:05<00:02, 61.80it/s]"
     ]
    }
   ],
   "source": [
    "\n",
    "%run src\\main.py --SoccerNet_path=G:\\.shortcut-targets-by-id\\\\1H509_zeV7bta5BudwCznjP0EWrCa_LCJ\\\\deep_learning_alphas_final_project\\\\assets_pca --model_name=NetVLAD++_vit_CE_run_1 --features=custom_vit --seed 3 --LR=1e-3 --split_test=\"test\" --custom_feature_path=\"C:\\\\Users\\\\91995\\\\OneDrive - Georgia Institute of Technology\\\\vit_features\" --loss_function=CE"
   ]
  },
  {
   "cell_type": "markdown",
   "metadata": {},
   "source": [
    "#### Experiment 2:  Vit Data + NetVladd + CE+CB Loss"
   ]
  },
  {
   "cell_type": "code",
   "execution_count": null,
   "metadata": {},
   "outputs": [],
   "source": [
    "\n",
    "%run src\\main.py --SoccerNet_path=G:\\.shortcut-targets-by-id\\\\1H509_zeV7bta5BudwCznjP0EWrCa_LCJ\\\\deep_learning_alphas_final_project\\\\assets_pca --model_name=NetVLAD++_vit_CE+CB_run_1 --features=custom_vit --seed 3 --LR=1e-3 --split_test=\"test\" --custom_feature_path=\"C:\\\\Users\\\\91995\\\\OneDrive - Georgia Institute of Technology\\\\vit_features\" --loss_function=CE+CB"
   ]
  },
  {
   "cell_type": "markdown",
   "metadata": {},
   "source": [
    "#### Experiment 3:  Vit Data + NetVladd + FL Loss"
   ]
  },
  {
   "cell_type": "code",
   "execution_count": null,
   "metadata": {},
   "outputs": [],
   "source": [
    "\n",
    "%run src\\main.py --SoccerNet_path=G:\\.shortcut-targets-by-id\\\\1H509_zeV7bta5BudwCznjP0EWrCa_LCJ\\\\deep_learning_alphas_final_project\\\\assets_pca --model_name=NetVLAD++_vit_FL_run_1 --features=custom_vit --seed 3 --LR=1e-3 --split_test=\"test\" --custom_feature_path=\"C:\\\\Users\\\\91995\\\\OneDrive - Georgia Institute of Technology\\\\vit_features\" --loss_function=FL"
   ]
  },
  {
   "cell_type": "markdown",
   "metadata": {},
   "source": [
    "#### Experiment 4:  Vit Data + NetVladd + CB + FL Loss"
   ]
  },
  {
   "cell_type": "code",
   "execution_count": null,
   "metadata": {},
   "outputs": [],
   "source": [
    "\n",
    "%run src\\main.py --SoccerNet_path=G:\\.shortcut-targets-by-id\\\\1H509_zeV7bta5BudwCznjP0EWrCa_LCJ\\\\deep_learning_alphas_final_project\\\\assets_pca --model_name=NetVLAD++_vit_CB+FL_run_1 --features=custom_vit --seed 3 --LR=1e-3 --split_test=\"test\" --custom_feature_path=\"C:\\\\Users\\\\91995\\\\OneDrive - Georgia Institute of Technology\\\\vit_features\" --loss_function=CB+FL"
   ]
  },
  {
   "cell_type": "markdown",
   "metadata": {},
   "source": [
    "#### Experiment 5:  Vit Data + ATTENTION + CE Loss"
   ]
  },
  {
   "cell_type": "code",
   "execution_count": null,
   "metadata": {},
   "outputs": [],
   "source": [
    "\n",
    "%run src\\main.py --SoccerNet_path=G:\\.shortcut-targets-by-id\\\\1H509_zeV7bta5BudwCznjP0EWrCa_LCJ\\\\deep_learning_alphas_final_project\\\\assets_pca --model_name=ATTENTION_vit_CE_run_1 --features=custom_vit --seed 3 --LR=1e-3 --split_test=\"test\" --custom_feature_path=\"C:\\\\Users\\\\91995\\\\OneDrive - Georgia Institute of Technology\\\\vit_features\" --loss_function=CE"
   ]
  },
  {
   "cell_type": "markdown",
   "metadata": {},
   "source": [
    "#### Experiment 6:  Vit Data + ATTENTION + CE+CB Loss"
   ]
  },
  {
   "cell_type": "code",
   "execution_count": null,
   "metadata": {},
   "outputs": [],
   "source": [
    "\n",
    "%run src\\main.py --SoccerNet_path=G:\\.shortcut-targets-by-id\\\\1H509_zeV7bta5BudwCznjP0EWrCa_LCJ\\\\deep_learning_alphas_final_project\\\\assets_pca --model_name=ATTENTION_vit_CE+CB_run_1 --features=custom_vit --seed 3 --LR=1e-3 --split_test=\"test\" --custom_feature_path=\"C:\\\\Users\\\\91995\\\\OneDrive - Georgia Institute of Technology\\\\vit_features\" --loss_function=CE+CB"
   ]
  },
  {
   "cell_type": "markdown",
   "metadata": {},
   "source": [
    "#### Experiment 7:  Vit Data + ATTENTION + FL Loss"
   ]
  },
  {
   "cell_type": "code",
   "execution_count": null,
   "metadata": {},
   "outputs": [],
   "source": [
    "\n",
    "%run src\\main.py --SoccerNet_path=G:\\.shortcut-targets-by-id\\\\1H509_zeV7bta5BudwCznjP0EWrCa_LCJ\\\\deep_learning_alphas_final_project\\\\assets_pca --model_name=ATTENTION_vit_FL_run_1 --features=custom_vit --seed 3 --LR=1e-3 --split_test=\"test\" --custom_feature_path=\"C:\\\\Users\\\\91995\\\\OneDrive - Georgia Institute of Technology\\\\vit_features\" --loss_function=FL"
   ]
  },
  {
   "cell_type": "markdown",
   "metadata": {},
   "source": [
    "#### Experiment 8:  Vit Data + ATTENTION + CB + FL Loss"
   ]
  },
  {
   "cell_type": "code",
   "execution_count": null,
   "metadata": {},
   "outputs": [],
   "source": [
    "\n",
    "%run src\\main.py --SoccerNet_path=G:\\.shortcut-targets-by-id\\\\1H509_zeV7bta5BudwCznjP0EWrCa_LCJ\\\\deep_learning_alphas_final_project\\\\assets_pca --model_name=ATTENTION_vit_CB+FL_run_1 --features=custom_vit --seed 3 --LR=1e-3 --split_test=\"test\" --custom_feature_path=\"C:\\\\Users\\\\91995\\\\OneDrive - Georgia Institute of Technology\\\\vit_features\" --loss_function=CB+FL"
   ]
  },
  {
   "cell_type": "markdown",
   "metadata": {},
   "source": [
    "# Experiment 9 - 16 is with RESNET + PCA 512 Features"
   ]
  },
  {
   "cell_type": "markdown",
   "metadata": {},
   "source": [
    "#### Experiment 9:  ResNETPCA512 + NetVladd + CE Loss"
   ]
  },
  {
   "cell_type": "code",
   "execution_count": null,
   "metadata": {},
   "outputs": [],
   "source": [
    "\n",
    "%run src\\main.py --SoccerNet_path=G:\\.shortcut-targets-by-id\\\\1H509_zeV7bta5BudwCznjP0EWrCa_LCJ\\\\deep_learning_alphas_final_project\\\\assets_pca --model_name=NetVLAD++_ResNETPCA512_CE_run_1 --features=ResNET_TF2_PCA512.npy --seed 3 --LR=1e-3 --split_test=\"test\" --custom_feature_path=\"C:\\\\Users\\\\91995\\\\OneDrive - Georgia Institute of Technology\\\\vit_features\" --loss_function=CE"
   ]
  },
  {
   "cell_type": "markdown",
   "metadata": {},
   "source": [
    "#### Experiment 10:  ResNETPCA512 + NetVladd + CE+CB Loss"
   ]
  },
  {
   "cell_type": "code",
   "execution_count": null,
   "metadata": {},
   "outputs": [],
   "source": [
    "\n",
    "%run src\\main.py --SoccerNet_path=G:\\.shortcut-targets-by-id\\\\1H509_zeV7bta5BudwCznjP0EWrCa_LCJ\\\\deep_learning_alphas_final_project\\\\assets_pca --model_name=NetVLAD++_ResNETPCA512_CE+CB_run_1 --features=ResNET_TF2_PCA512.npy --seed 3 --LR=1e-3 --split_test=\"test\" --custom_feature_path=\"C:\\\\Users\\\\91995\\\\OneDrive - Georgia Institute of Technology\\\\vit_features\" --loss_function=CE+CB"
   ]
  },
  {
   "cell_type": "markdown",
   "metadata": {},
   "source": [
    "#### Experiment 11:  ResNETPCA512 + NetVladd + FL Loss"
   ]
  },
  {
   "cell_type": "code",
   "execution_count": null,
   "metadata": {},
   "outputs": [],
   "source": [
    "\n",
    "%run src\\main.py --SoccerNet_path=G:\\.shortcut-targets-by-id\\\\1H509_zeV7bta5BudwCznjP0EWrCa_LCJ\\\\deep_learning_alphas_final_project\\\\assets_pca --model_name=NetVLAD++_ResNETPCA512_FL_run_1 --features=ResNET_TF2_PCA512.npy --seed 3 --LR=1e-3 --split_test=\"test\" --custom_feature_path=\"C:\\\\Users\\\\91995\\\\OneDrive - Georgia Institute of Technology\\\\vit_features\" --loss_function=FL"
   ]
  },
  {
   "cell_type": "markdown",
   "metadata": {},
   "source": [
    "#### Experiment 12:  ResNETPCA512 + NetVladd + CB + FL Loss"
   ]
  },
  {
   "cell_type": "code",
   "execution_count": null,
   "metadata": {},
   "outputs": [],
   "source": [
    "\n",
    "%run src\\main.py --SoccerNet_path=G:\\.shortcut-targets-by-id\\\\1H509_zeV7bta5BudwCznjP0EWrCa_LCJ\\\\deep_learning_alphas_final_project\\\\assets_pca --model_name=NetVLAD++_ResNETPCA512_CB+FL_run_1 --features=ResNET_TF2_PCA512.npy --seed 3 --LR=1e-3 --split_test=\"test\" --custom_feature_path=\"C:\\\\Users\\\\91995\\\\OneDrive - Georgia Institute of Technology\\\\vit_features\" --loss_function=CB+FL"
   ]
  },
  {
   "cell_type": "markdown",
   "metadata": {},
   "source": [
    "#### Experiment 13:  ResNETPCA512 + ATTENTION + CE Loss"
   ]
  },
  {
   "cell_type": "code",
   "execution_count": null,
   "metadata": {},
   "outputs": [],
   "source": [
    "\n",
    "%run src\\main.py --SoccerNet_path=G:\\.shortcut-targets-by-id\\\\1H509_zeV7bta5BudwCznjP0EWrCa_LCJ\\\\deep_learning_alphas_final_project\\\\assets_pca --model_name=ATTENTION_ResNETPCA512_CE_run_1 --features=ResNET_TF2_PCA512.npy --seed 3 --LR=1e-3 --split_test=\"test\" --custom_feature_path=\"C:\\\\Users\\\\91995\\\\OneDrive - Georgia Institute of Technology\\\\vit_features\" --loss_function=CE"
   ]
  },
  {
   "cell_type": "markdown",
   "metadata": {},
   "source": [
    "#### Experiment 14:  ResNETPCA512 + ATTENTION + CE+CB Loss"
   ]
  },
  {
   "cell_type": "code",
   "execution_count": null,
   "metadata": {},
   "outputs": [],
   "source": [
    "\n",
    "%run src\\main.py --SoccerNet_path=G:\\.shortcut-targets-by-id\\\\1H509_zeV7bta5BudwCznjP0EWrCa_LCJ\\\\deep_learning_alphas_final_project\\\\assets_pca --model_name=ATTENTION_ResNETPCA512_CE+CB_run_1 --features=ResNET_TF2_PCA512.npy --seed 3 --LR=1e-3 --split_test=\"test\" --custom_feature_path=\"C:\\\\Users\\\\91995\\\\OneDrive - Georgia Institute of Technology\\\\vit_features\" --loss_function=CE+CB"
   ]
  },
  {
   "cell_type": "markdown",
   "metadata": {},
   "source": [
    "#### Experiment 15:  ResNETPCA512 + ATTENTION + FL Loss"
   ]
  },
  {
   "cell_type": "code",
   "execution_count": null,
   "metadata": {},
   "outputs": [],
   "source": [
    "\n",
    "%run src\\main.py --SoccerNet_path=G:\\.shortcut-targets-by-id\\\\1H509_zeV7bta5BudwCznjP0EWrCa_LCJ\\\\deep_learning_alphas_final_project\\\\assets_pca --model_name=ATTENTION_ResNETPCA512_FL_run_1 --features=ResNET_TF2_PCA512.npy --seed 3 --LR=1e-3 --split_test=\"test\" --custom_feature_path=\"C:\\\\Users\\\\91995\\\\OneDrive - Georgia Institute of Technology\\\\vit_features\" --loss_function=FL"
   ]
  },
  {
   "cell_type": "markdown",
   "metadata": {},
   "source": [
    "#### Experiment 16:  ResNETPCA512 + ATTENTION + CB + FL Loss"
   ]
  },
  {
   "cell_type": "code",
   "execution_count": null,
   "metadata": {},
   "outputs": [],
   "source": [
    "\n",
    "%run src\\main.py --SoccerNet_path=G:\\.shortcut-targets-by-id\\\\1H509_zeV7bta5BudwCznjP0EWrCa_LCJ\\\\deep_learning_alphas_final_project\\\\assets_pca --model_name=ATTENTION_ResNETPCA512_CB+FL_run_1 --features=ResNET_TF2_PCA512.npy --seed 3 --LR=1e-3 --split_test=\"test\" --custom_feature_path=\"C:\\\\Users\\\\91995\\\\OneDrive - Georgia Institute of Technology\\\\vit_features\" --loss_function=CB+FL"
   ]
  },
  {
   "cell_type": "markdown",
   "metadata": {},
   "source": [
    "# Experiment 17 - 24 is with RESNET Features"
   ]
  },
  {
   "cell_type": "markdown",
   "metadata": {},
   "source": [
    "#### Experiment 17:  ResNET + NetVladd + CE Loss"
   ]
  },
  {
   "cell_type": "code",
   "execution_count": null,
   "metadata": {},
   "outputs": [],
   "source": [
    "\n",
    "%run src\\main.py --SoccerNet_path=G:\\.shortcut-targets-by-id\\\\1H509_zeV7bta5BudwCznjP0EWrCa_LCJ\\\\deep_learning_alphas_final_project\\\\assets_pca --model_name=NetVLAD++_ResNET_CE_run_1 --features=ResNET_TF2.npy --seed 3 --LR=1e-3 --split_test=\"test\" --custom_feature_path=\"C:\\\\Users\\\\91995\\\\OneDrive - Georgia Institute of Technology\\\\vit_features\" --loss_function=CE"
   ]
  },
  {
   "cell_type": "markdown",
   "metadata": {},
   "source": [
    "#### Experiment 18:  ResNET + NetVladd + CE+CB Loss"
   ]
  },
  {
   "cell_type": "code",
   "execution_count": null,
   "metadata": {},
   "outputs": [],
   "source": [
    "\n",
    "%run src\\main.py --SoccerNet_path=G:\\.shortcut-targets-by-id\\\\1H509_zeV7bta5BudwCznjP0EWrCa_LCJ\\\\deep_learning_alphas_final_project\\\\assets_pca --model_name=NetVLAD++_ResNET_CE+CB_run_1 --features=ResNET_TF2.npy --seed 3 --LR=1e-3 --split_test=\"test\" --custom_feature_path=\"C:\\\\Users\\\\91995\\\\OneDrive - Georgia Institute of Technology\\\\vit_features\" --loss_function=CE+CB"
   ]
  },
  {
   "cell_type": "markdown",
   "metadata": {},
   "source": [
    "#### Experiment 19:  ResNET + NetVladd + FL Loss"
   ]
  },
  {
   "cell_type": "code",
   "execution_count": null,
   "metadata": {},
   "outputs": [],
   "source": [
    "\n",
    "%run src\\main.py --SoccerNet_path=G:\\.shortcut-targets-by-id\\\\1H509_zeV7bta5BudwCznjP0EWrCa_LCJ\\\\deep_learning_alphas_final_project\\\\assets_pca --model_name=NetVLAD++_ResNET_FL_run_1 --features=ResNET_TF2.npy --seed 3 --LR=1e-3 --split_test=\"test\" --custom_feature_path=\"C:\\\\Users\\\\91995\\\\OneDrive - Georgia Institute of Technology\\\\vit_features\" --loss_function=FL"
   ]
  },
  {
   "cell_type": "markdown",
   "metadata": {},
   "source": [
    "#### Experiment 20:  ResNET + NetVladd + CB + FL Loss"
   ]
  },
  {
   "cell_type": "code",
   "execution_count": null,
   "metadata": {},
   "outputs": [],
   "source": [
    "\n",
    "%run src\\main.py --SoccerNet_path=G:\\.shortcut-targets-by-id\\\\1H509_zeV7bta5BudwCznjP0EWrCa_LCJ\\\\deep_learning_alphas_final_project\\\\assets_pca --model_name=NetVLAD++_ResNET_CB+FL_run_1 --features=ResNET_TF2.npy --seed 3 --LR=1e-3 --split_test=\"test\" --custom_feature_path=\"C:\\\\Users\\\\91995\\\\OneDrive - Georgia Institute of Technology\\\\vit_features\" --loss_function=CB+FL"
   ]
  },
  {
   "cell_type": "markdown",
   "metadata": {},
   "source": [
    "#### Experiment 21:  ResNET + ATTENTION + CE Loss"
   ]
  },
  {
   "cell_type": "code",
   "execution_count": null,
   "metadata": {},
   "outputs": [],
   "source": [
    "\n",
    "%run src\\main.py --SoccerNet_path=G:\\.shortcut-targets-by-id\\\\1H509_zeV7bta5BudwCznjP0EWrCa_LCJ\\\\deep_learning_alphas_final_project\\\\assets_pca --model_name=ATTENTION_ResNET_CE_run_1 --features=ResNET_TF2.npy --seed 3 --LR=1e-3 --split_test=\"test\" --custom_feature_path=\"C:\\\\Users\\\\91995\\\\OneDrive - Georgia Institute of Technology\\\\vit_features\" --loss_function=CE"
   ]
  },
  {
   "cell_type": "markdown",
   "metadata": {},
   "source": [
    "#### Experiment 22:  ResNET + ATTENTION + CE+CB Loss"
   ]
  },
  {
   "cell_type": "code",
   "execution_count": null,
   "metadata": {},
   "outputs": [],
   "source": [
    "\n",
    "%run src\\main.py --SoccerNet_path=G:\\.shortcut-targets-by-id\\\\1H509_zeV7bta5BudwCznjP0EWrCa_LCJ\\\\deep_learning_alphas_final_project\\\\assets_pca --model_name=ATTENTION_ResNET_CE+CB_run_1 --features=ResNET_TF2.npy --seed 3 --LR=1e-3 --split_test=\"test\" --custom_feature_path=\"C:\\\\Users\\\\91995\\\\OneDrive - Georgia Institute of Technology\\\\vit_features\" --loss_function=CE+CB"
   ]
  },
  {
   "cell_type": "markdown",
   "metadata": {},
   "source": [
    "#### Experiment 23:  ResNET + ATTENTION + FL Loss"
   ]
  },
  {
   "cell_type": "code",
   "execution_count": null,
   "metadata": {},
   "outputs": [],
   "source": [
    "\n",
    "%run src\\main.py --SoccerNet_path=G:\\.shortcut-targets-by-id\\\\1H509_zeV7bta5BudwCznjP0EWrCa_LCJ\\\\deep_learning_alphas_final_project\\\\assets_pca --model_name=ATTENTION_ResNET_FL_run_1 --features=ResNET_TF2.npy --seed 3 --LR=1e-3 --split_test=\"test\" --custom_feature_path=\"C:\\\\Users\\\\91995\\\\OneDrive - Georgia Institute of Technology\\\\vit_features\" --loss_function=FL"
   ]
  },
  {
   "cell_type": "markdown",
   "metadata": {},
   "source": [
    "#### Experiment 24:  ResNET + ATTENTION + CB + FL Loss"
   ]
  },
  {
   "cell_type": "code",
   "execution_count": null,
   "metadata": {},
   "outputs": [],
   "source": [
    "\n",
    "%run src\\main.py --SoccerNet_path=G:\\.shortcut-targets-by-id\\\\1H509_zeV7bta5BudwCznjP0EWrCa_LCJ\\\\deep_learning_alphas_final_project\\\\assets_pca --model_name=ATTENTION_ResNET_CB+FL_run_1 --features=ResNET_TF2.npy --seed 3 --LR=1e-3 --split_test=\"test\" --custom_feature_path=\"C:\\\\Users\\\\91995\\\\OneDrive - Georgia Institute of Technology\\\\vit_features\" --loss_function=CB+FL"
   ]
  }
 ],
 "metadata": {
  "kernelspec": {
   "display_name": "Python 3 (ipykernel)",
   "language": "python",
   "name": "python3"
  },
  "language_info": {
   "codemirror_mode": {
    "name": "ipython",
    "version": 3
   },
   "file_extension": ".py",
   "mimetype": "text/x-python",
   "name": "python",
   "nbconvert_exporter": "python",
   "pygments_lexer": "ipython3",
   "version": "3.9.15"
  },
  "orig_nbformat": 4
 },
 "nbformat": 4,
 "nbformat_minor": 2
}

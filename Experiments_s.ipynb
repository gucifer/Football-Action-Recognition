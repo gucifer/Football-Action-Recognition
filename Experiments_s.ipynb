{
 "cells": [
  {
   "cell_type": "markdown",
   "metadata": {},
   "source": [
    "# Setting up"
   ]
  },
  {
   "cell_type": "code",
   "execution_count": 2,
   "metadata": {},
   "outputs": [],
   "source": [
    "training_file_name = \"training_main.py\"\n",
    "feature_extractor_file_name = \"feature_extractor_main.py\"\n",
    "visualization_file_name = \"visualization_main.py\"\n",
    "resnet_features_path = \"/Users/srv/Documents/Cloud/Google\\ Drive\\ -\\ Default/deep_learning_alphas_final_project/assets_pca\"\n",
    "vit_features_path = \"/Users/srv/Documents/Cloud/Georgia\\ Institute\\ of\\ Technology/Alphas\\ -\\ Project\\ Data/vit_features\"\n",
    "frames_path = \"/Users/srv/Documents/Git/GaTech/dl_cse_7643/final_project/code/data/frames\"\n",
    "artefacts_path = \"/Users/srv/Documents/Cloud/Georgia\\ Institute\\ of\\ Technology/Alphas\\ -\\ Project\\ Data/project_artefacts\""
   ]
  },
  {
   "cell_type": "code",
   "execution_count": null,
   "metadata": {},
   "outputs": [],
   "source": [
    "%run $feature_extractor_file_name -f=$frames_path -s=$vit_features_path"
   ]
  },
  {
   "cell_type": "markdown",
   "metadata": {},
   "source": [
    "# Experiment 1 - 8 is with VIT Features"
   ]
  },
  {
   "cell_type": "markdown",
   "metadata": {},
   "source": [
    "#### Experiment 1:  Vit Data + NetVladd + CE Loss"
   ]
  },
  {
   "cell_type": "code",
   "execution_count": 4,
   "metadata": {},
   "outputs": [
    {
     "name": "stderr",
     "output_type": "stream",
     "text": [
      "2022-12-09 23:42:19,926 [MainThread  ] [INFO ]  Starting main function\n",
      "2022-12-09 23:42:19,926 [MainThread  ] [INFO ]  Parameters:\n",
      "2022-12-09 23:42:19,927 [MainThread  ] [INFO ]   SoccerNet_path : /Users/srv/Documents/Cloud/Google Drive - Default/deep_learning_alphas_final_project/assets_pca\n",
      "2022-12-09 23:42:19,927 [MainThread  ] [INFO ]         features : custom_vit\n",
      "2022-12-09 23:42:19,928 [MainThread  ] [INFO ]       max_epochs : 1000\n",
      "2022-12-09 23:42:19,928 [MainThread  ] [INFO ]     load_weights : None\n",
      "2022-12-09 23:42:19,929 [MainThread  ] [INFO ]       model_name : NetVLAD++_vit_CE\n",
      "2022-12-09 23:42:19,929 [MainThread  ] [INFO ]        test_only : False\n",
      "2022-12-09 23:42:19,930 [MainThread  ] [INFO ]      split_train : ['train']\n",
      "2022-12-09 23:42:19,930 [MainThread  ] [INFO ]      split_valid : ['valid']\n",
      "2022-12-09 23:42:19,931 [MainThread  ] [INFO ]       split_test : ['test']\n",
      "2022-12-09 23:42:19,931 [MainThread  ] [INFO ]          version : 2\n",
      "2022-12-09 23:42:19,931 [MainThread  ] [INFO ]      feature_dim : None\n",
      "2022-12-09 23:42:19,932 [MainThread  ] [INFO ]  evaluation_frequency : 10\n",
      "2022-12-09 23:42:19,932 [MainThread  ] [INFO ]        framerate : 2\n",
      "2022-12-09 23:42:19,933 [MainThread  ] [INFO ]      window_size : 15\n",
      "2022-12-09 23:42:19,933 [MainThread  ] [INFO ]             pool : NetVLAD++\n",
      "2022-12-09 23:42:19,933 [MainThread  ] [INFO ]       vocab_size : 64\n",
      "2022-12-09 23:42:19,934 [MainThread  ] [INFO ]       NMS_window : 30\n",
      "2022-12-09 23:42:19,934 [MainThread  ] [INFO ]    NMS_threshold : 0.0\n",
      "2022-12-09 23:42:19,934 [MainThread  ] [INFO ]       batch_size : 256\n",
      "2022-12-09 23:42:19,935 [MainThread  ] [INFO ]               LR : 0.001\n",
      "2022-12-09 23:42:19,935 [MainThread  ] [INFO ]              LRe : 1e-06\n",
      "2022-12-09 23:42:19,935 [MainThread  ] [INFO ]         patience : 10\n",
      "2022-12-09 23:42:19,935 [MainThread  ] [INFO ]              GPU : 0\n",
      "2022-12-09 23:42:19,936 [MainThread  ] [INFO ]   max_num_worker : 1\n",
      "2022-12-09 23:42:19,936 [MainThread  ] [INFO ]             seed : 3\n",
      "2022-12-09 23:42:19,936 [MainThread  ] [INFO ]         loglevel : INFO\n",
      "2022-12-09 23:42:19,937 [MainThread  ] [INFO ]  custom_feature_path : /Users/srv/Documents/Cloud/Georgia Institute of Technology/Alphas - Documents/Project Data/vit_features\n",
      "2022-12-09 23:42:19,937 [MainThread  ] [INFO ]    loss_function : CE\n",
      "2022-12-09 23:42:19,937 [MainThread  ] [INFO ]           device : mps\n",
      "2022-12-09 23:42:19,938 [MainThread  ] [INFO ]  model_save_path : /Users/srv/Documents/Cloud/Georgia Institute of Technology/Alphas - Documents/Project Data/project_artefacts/NetVLAD++_vit_CE/mps_run_2\n",
      "2022-12-09 23:42:19,940 [MainThread  ] [INFO ]  Checking/Download features and labels locally\n",
      "2022-12-09 23:42:19,940 [MainThread  ] [INFO ]  Pre-compute clips\n",
      "100%|██████████| 300/300 [00:03<00:00, 93.83it/s]\n",
      "2022-12-09 23:42:24,331 [MainThread  ] [INFO ]  Checking/Download features and labels locally\n",
      "2022-12-09 23:42:24,332 [MainThread  ] [INFO ]  Pre-compute clips\n",
      "100%|██████████| 100/100 [00:01<00:00, 95.56it/s]\n",
      "2022-12-09 23:42:25,778 [MainThread  ] [INFO ]  Checking/Download features and labels locally\n",
      "2022-12-09 23:42:25,778 [MainThread  ] [INFO ]  Pre-compute clips\n",
      "100%|██████████| 100/100 [00:00<00:00, 127.76it/s]\n",
      "2022-12-09 23:42:26,948 [MainThread  ] [INFO ]  Checking/Download features and labels locally\n",
      "2022-12-09 23:42:27,048 [MainThread  ] [INFO ]  Model(\n",
      "  (feature_extractor): Linear(in_features=768, out_features=512, bias=True)\n",
      "  (pool_layer_before): NetVLAD()\n",
      "  (pool_layer_after): NetVLAD()\n",
      "  (fc): Linear(in_features=32768, out_features=18, bias=True)\n",
      "  (drop): Dropout(p=0.4, inplace=False)\n",
      "  (sigm): Sigmoid()\n",
      ")\n",
      "2022-12-09 23:42:27,048 [MainThread  ] [INFO ]  Total number of parameters: 1049106\n",
      "/Users/srv/Documents/Git/GaTech/dl_cse_7643/final_project/code/training_modules/loss.py:38: UserWarning: To copy construct from a tensor, it is recommended to use sourceTensor.clone().detach() or sourceTensor.clone().detach().requires_grad_(True), rather than torch.tensor(sourceTensor).\n",
      "  self.weight = torch.tensor(weight).float()\n",
      "2022-12-09 23:42:27,059 [MainThread  ] [INFO ]  start training\n"
     ]
    },
    {
     "name": "stdout",
     "output_type": "stream",
     "text": [
      "feature_dim found: 768\n"
     ]
    },
    {
     "name": "stderr",
     "output_type": "stream",
     "text": [
      "Train 1: Time 0.105s (it:0.091s) Data:0.008s (it:0.008s) Loss 1.2016e+00 : 100%|██████████| 429/429 [00:45<00:00,  9.50it/s]\n",
      "Evaluate 1: Time 0.035s (it:0.025s) Data:0.005s (it:0.004s) Loss 1.1779e+00 : 100%|██████████| 143/143 [00:04<00:00, 28.81it/s]\n",
      "Train 2: Time 0.116s (it:0.098s) Data:0.008s (it:0.009s) Loss 1.1740e+00 : 100%|██████████| 429/429 [00:49<00:00,  8.59it/s]\n",
      "Evaluate 2: Time 0.038s (it:0.027s) Data:0.007s (it:0.006s) Loss 1.1690e+00 : 100%|██████████| 143/143 [00:05<00:00, 26.65it/s]\n",
      "Train 3: Time 0.118s (it:0.095s) Data:0.008s (it:0.008s) Loss 1.1636e+00 : 100%|██████████| 429/429 [00:50<00:00,  8.50it/s]\n",
      "Evaluate 3: Time 0.037s (it:0.025s) Data:0.006s (it:0.004s) Loss 1.1607e+00 : 100%|██████████| 143/143 [00:05<00:00, 27.22it/s]\n",
      "Train 4: Time 0.116s (it:0.096s) Data:0.007s (it:0.007s) Loss 1.1570e+00 : 100%|██████████| 429/429 [00:49<00:00,  8.65it/s]\n",
      "Evaluate 4: Time 0.036s (it:0.025s) Data:0.005s (it:0.005s) Loss 1.1548e+00 : 100%|██████████| 143/143 [00:05<00:00, 27.83it/s]\n",
      "Train 5: Time 0.115s (it:0.095s) Data:0.007s (it:0.007s) Loss 1.1511e+00 : 100%|██████████| 429/429 [00:49<00:00,  8.71it/s]\n",
      "Evaluate 5: Time 0.036s (it:0.025s) Data:0.005s (it:0.004s) Loss 1.1517e+00 : 100%|██████████| 143/143 [00:05<00:00, 27.76it/s]\n",
      "Train 6: Time 0.114s (it:0.094s) Data:0.007s (it:0.008s) Loss 1.1463e+00 : 100%|██████████| 429/429 [00:48<00:00,  8.80it/s]\n",
      "Evaluate 6: Time 0.036s (it:0.025s) Data:0.005s (it:0.004s) Loss 1.1523e+00 : 100%|██████████| 143/143 [00:05<00:00, 28.04it/s]\n",
      "Train 7: Time 0.113s (it:0.098s) Data:0.007s (it:0.008s) Loss 1.1430e+00 : 100%|██████████| 429/429 [00:48<00:00,  8.89it/s]\n",
      "Evaluate 7: Time 0.035s (it:0.024s) Data:0.005s (it:0.004s) Loss 1.1479e+00 : 100%|██████████| 143/143 [00:05<00:00, 28.33it/s]\n",
      "Train 8: Time 0.112s (it:0.091s) Data:0.007s (it:0.008s) Loss 1.1391e+00 : 100%|██████████| 429/429 [00:47<00:00,  8.97it/s]\n",
      "Evaluate 8: Time 0.035s (it:0.027s) Data:0.005s (it:0.005s) Loss 1.1479e+00 : 100%|██████████| 143/143 [00:05<00:00, 28.42it/s]\n",
      "Train 9: Time 0.114s (it:0.090s) Data:0.008s (it:0.007s) Loss 1.1365e+00 : 100%|██████████| 429/429 [00:49<00:00,  8.74it/s]\n",
      "Evaluate 9: Time 0.035s (it:0.025s) Data:0.005s (it:0.004s) Loss 1.1441e+00 : 100%|██████████| 143/143 [00:04<00:00, 28.76it/s]\n",
      "Train 10: Time 0.110s (it:0.089s) Data:0.007s (it:0.008s) Loss 1.1339e+00 : 100%|██████████| 429/429 [00:47<00:00,  9.05it/s]\n",
      "Evaluate 10: Time 0.034s (it:0.026s) Data:0.005s (it:0.005s) Loss 1.1428e+00 : 100%|██████████| 143/143 [00:04<00:00, 29.24it/s]\n",
      "Train 11: Time 0.111s (it:0.094s) Data:0.007s (it:0.008s) Loss 1.1312e+00 : 100%|██████████| 429/429 [00:47<00:00,  9.01it/s]\n",
      "Evaluate 11: Time 0.035s (it:0.026s) Data:0.006s (it:0.005s) Loss 1.1437e+00 : 100%|██████████| 143/143 [00:05<00:00, 28.39it/s]\n",
      "Test (cls): Time 0.036s (it:0.024s) Data:0.008s (it:0.004s) : 100%|██████████| 143/143 [00:05<00:00, 27.92it/s]\n",
      "2022-12-09 23:52:21,924 [MainThread  ] [INFO ]  Validation performance at epoch 11 -> 0.33881198220446873\n"
     ]
    },
    {
     "name": "stdout",
     "output_type": "stream",
     "text": [
      "0.33881198220446873 [0.31883618334446545, 0.4485081033705563, 0.4268619557582572, 0.5428723311348082, 0.2056898490083494, 0.23445411485791948, 0.24335784169681035, 0.33773526982574587, 0.5687765927316646, 0.49803782953732445, 0.3517880363042749, 0.25182164677086505, 0.32106457253725434, 0.5752251126312473, 0.26702978891996726, 0.013715710634716011, 0.1540287584117426]\n"
     ]
    },
    {
     "name": "stderr",
     "output_type": "stream",
     "text": [
      "Train 12: Time 0.113s (it:0.094s) Data:0.008s (it:0.008s) Loss 1.1290e+00 : 100%|██████████| 429/429 [00:48<00:00,  8.88it/s]\n",
      "Evaluate 12: Time 0.034s (it:0.026s) Data:0.005s (it:0.005s) Loss 1.1398e+00 : 100%|██████████| 143/143 [00:04<00:00, 29.10it/s]\n",
      "Train 13: Time 0.113s (it:0.093s) Data:0.009s (it:0.009s) Loss 1.1265e+00 : 100%|██████████| 429/429 [00:48<00:00,  8.88it/s]\n",
      "Evaluate 13: Time 0.037s (it:0.027s) Data:0.007s (it:0.006s) Loss 1.1396e+00 : 100%|██████████| 143/143 [00:05<00:00, 26.88it/s]\n",
      "Train 14: Time 0.114s (it:0.093s) Data:0.009s (it:0.009s) Loss 1.1247e+00 : 100%|██████████| 429/429 [00:48<00:00,  8.77it/s]\n",
      "Evaluate 14: Time 0.038s (it:0.027s) Data:0.009s (it:0.008s) Loss 1.1415e+00 : 100%|██████████| 143/143 [00:05<00:00, 26.44it/s]\n",
      "Train 15: Time 0.111s (it:0.091s) Data:0.008s (it:0.007s) Loss 1.1227e+00 : 100%|██████████| 429/429 [00:47<00:00,  8.99it/s]\n",
      "Evaluate 15: Time 0.034s (it:0.027s) Data:0.005s (it:0.004s) Loss 1.1407e+00 : 100%|██████████| 143/143 [00:04<00:00, 29.13it/s]\n",
      "Train 16: Time 0.111s (it:0.098s) Data:0.008s (it:0.009s) Loss 1.1206e+00 : 100%|██████████| 429/429 [00:47<00:00,  9.01it/s]\n",
      "Evaluate 16: Time 0.035s (it:0.024s) Data:0.006s (it:0.005s) Loss 1.1421e+00 : 100%|██████████| 143/143 [00:05<00:00, 28.36it/s]\n",
      "Train 17: Time 0.112s (it:0.094s) Data:0.008s (it:0.008s) Loss 1.1190e+00 : 100%|██████████| 429/429 [00:47<00:00,  8.97it/s]\n",
      "Evaluate 17: Time 0.036s (it:0.024s) Data:0.006s (it:0.004s) Loss 1.1390e+00 : 100%|██████████| 143/143 [00:05<00:00, 28.06it/s]\n",
      "Train 18: Time 0.112s (it:0.093s) Data:0.008s (it:0.007s) Loss 1.1180e+00 : 100%|██████████| 429/429 [00:47<00:00,  8.94it/s]\n",
      "Evaluate 18: Time 0.035s (it:0.024s) Data:0.005s (it:0.003s) Loss 1.1429e+00 : 100%|██████████| 143/143 [00:04<00:00, 28.89it/s]\n",
      "Train 19: Time 0.111s (it:0.089s) Data:0.007s (it:0.008s) Loss 1.1162e+00 : 100%|██████████| 429/429 [00:47<00:00,  9.03it/s]\n",
      "Evaluate 19: Time 0.034s (it:0.025s) Data:0.005s (it:0.004s) Loss 1.1421e+00 : 100%|██████████| 143/143 [00:04<00:00, 29.03it/s]\n",
      "Train 20: Time 0.111s (it:0.093s) Data:0.008s (it:0.009s) Loss 1.1147e+00 : 100%|██████████| 429/429 [00:47<00:00,  8.97it/s]\n",
      "Evaluate 20: Time 0.034s (it:0.026s) Data:0.005s (it:0.004s) Loss 1.1356e+00 : 100%|██████████| 143/143 [00:04<00:00, 29.09it/s]\n",
      "Train 21: Time 0.112s (it:0.097s) Data:0.007s (it:0.007s) Loss 1.1137e+00 : 100%|██████████| 429/429 [00:48<00:00,  8.89it/s]\n",
      "Evaluate 21: Time 0.036s (it:0.025s) Data:0.006s (it:0.004s) Loss 1.1386e+00 : 100%|██████████| 143/143 [00:05<00:00, 27.83it/s]\n",
      "Test (cls): Time 0.035s (it:0.024s) Data:0.006s (it:0.003s) : 100%|██████████| 143/143 [00:05<00:00, 28.35it/s]\n",
      "2022-12-10 00:01:18,163 [MainThread  ] [INFO ]  Validation performance at epoch 21 -> 0.3611619897632417\n"
     ]
    },
    {
     "name": "stdout",
     "output_type": "stream",
     "text": [
      "0.3611619897632417 [0.3397253125046589, 0.5179409342351543, 0.4602776592844989, 0.5698704950264033, 0.23204558410096918, 0.24953817496846548, 0.26164398343684925, 0.3693663293760162, 0.5812661310971203, 0.5156101466237553, 0.35775613236764814, 0.25793538733967225, 0.3486872478152675, 0.6151825163937145, 0.31644997848639234, 0.017258992986830604, 0.12919881993169308]\n"
     ]
    },
    {
     "name": "stderr",
     "output_type": "stream",
     "text": [
      "Train 22: Time 0.114s (it:0.095s) Data:0.008s (it:0.007s) Loss 1.1128e+00 : 100%|██████████| 429/429 [00:48<00:00,  8.78it/s]\n",
      "Evaluate 22: Time 0.035s (it:0.024s) Data:0.005s (it:0.004s) Loss 1.1359e+00 : 100%|██████████| 143/143 [00:05<00:00, 28.28it/s]\n",
      "Train 23: Time 0.114s (it:0.092s) Data:0.008s (it:0.007s) Loss 1.1099e+00 : 100%|██████████| 429/429 [00:48<00:00,  8.77it/s]\n",
      "Evaluate 23: Time 0.035s (it:0.025s) Data:0.005s (it:0.004s) Loss 1.1389e+00 : 100%|██████████| 143/143 [00:05<00:00, 28.45it/s]\n",
      "Train 24: Time 0.112s (it:0.093s) Data:0.007s (it:0.007s) Loss 1.1089e+00 : 100%|██████████| 429/429 [00:48<00:00,  8.89it/s]\n",
      "Evaluate 24: Time 0.035s (it:0.026s) Data:0.005s (it:0.004s) Loss 1.1479e+00 : 100%|██████████| 143/143 [00:04<00:00, 28.63it/s]\n",
      "Train 25: Time 0.113s (it:0.093s) Data:0.007s (it:0.008s) Loss 1.1085e+00 : 100%|██████████| 429/429 [00:48<00:00,  8.86it/s]\n",
      "Evaluate 25: Time 0.035s (it:0.053s) Data:0.005s (it:0.004s) Loss 1.1383e+00 : 100%|██████████| 143/143 [00:05<00:00, 28.35it/s]\n",
      "Train 26: Time 0.113s (it:0.091s) Data:0.007s (it:0.007s) Loss 1.1059e+00 : 100%|██████████| 429/429 [00:48<00:00,  8.82it/s]\n",
      "Evaluate 26: Time 0.038s (it:0.026s) Data:0.006s (it:0.004s) Loss 1.1371e+00 : 100%|██████████| 143/143 [00:05<00:00, 26.19it/s]\n",
      "Train 27: Time 0.117s (it:0.094s) Data:0.007s (it:0.007s) Loss 1.1052e+00 : 100%|██████████| 429/429 [00:50<00:00,  8.52it/s]\n",
      "Evaluate 27: Time 0.037s (it:0.024s) Data:0.005s (it:0.003s) Loss 1.1405e+00 : 100%|██████████| 143/143 [00:05<00:00, 26.93it/s]\n",
      "Train 28: Time 0.121s (it:0.098s) Data:0.007s (it:0.006s) Loss 1.1042e+00 : 100%|██████████| 429/429 [00:51<00:00,  8.26it/s]\n",
      "Evaluate 28: Time 0.037s (it:0.024s) Data:0.005s (it:0.003s) Loss 1.1346e+00 : 100%|██████████| 143/143 [00:05<00:00, 27.16it/s]\n",
      "Train 29: Time 0.120s (it:0.094s) Data:0.007s (it:0.008s) Loss 1.1024e+00 : 100%|██████████| 429/429 [00:51<00:00,  8.32it/s]\n",
      "Evaluate 29: Time 0.038s (it:0.025s) Data:0.005s (it:0.003s) Loss 1.1399e+00 : 100%|██████████| 143/143 [00:05<00:00, 26.60it/s]\n",
      "Train 30: Time 0.123s (it:0.102s) Data:0.008s (it:0.007s) Loss 1.1019e+00 : 100%|██████████| 429/429 [00:52<00:00,  8.13it/s]\n",
      "Evaluate 30: Time 0.038s (it:0.027s) Data:0.006s (it:0.004s) Loss 1.1429e+00 : 100%|██████████| 143/143 [00:05<00:00, 26.20it/s]\n",
      "Train 31: Time 0.118s (it:0.093s) Data:0.008s (it:0.007s) Loss 1.1007e+00 : 100%|██████████| 429/429 [00:50<00:00,  8.47it/s]\n",
      "Evaluate 31: Time 0.038s (it:0.026s) Data:0.005s (it:0.004s) Loss 1.1405e+00 : 100%|██████████| 143/143 [00:05<00:00, 26.53it/s]\n",
      "Test (cls): Time 0.037s (it:0.024s) Data:0.005s (it:0.003s) : 100%|██████████| 143/143 [00:05<00:00, 26.98it/s]\n",
      "2022-12-10 00:10:36,402 [MainThread  ] [INFO ]  Validation performance at epoch 31 -> 0.3641772642453964\n"
     ]
    },
    {
     "name": "stdout",
     "output_type": "stream",
     "text": [
      "0.3641772642453964 [0.35001304406747313, 0.5365081204914814, 0.46068061543080663, 0.5682398893652114, 0.2347215158843503, 0.24781422147869442, 0.2619210079769709, 0.37364759813568127, 0.5880908518526122, 0.5208134039079834, 0.3597021437575968, 0.25728128390618943, 0.3566845493751338, 0.6255107085359376, 0.34020004214856864, 0.056986628987684376, 0.05219786686936344]\n"
     ]
    },
    {
     "name": "stderr",
     "output_type": "stream",
     "text": [
      "Train 32: Time 0.113s (it:0.092s) Data:0.007s (it:0.007s) Loss 1.0994e+00 : 100%|██████████| 429/429 [00:48<00:00,  8.86it/s]\n",
      "Evaluate 32: Time 0.033s (it:0.023s) Data:0.005s (it:0.003s) Loss 1.1388e+00 : 100%|██████████| 143/143 [00:04<00:00, 30.37it/s]\n",
      "Train 33: Time 0.106s (it:0.090s) Data:0.007s (it:0.007s) Loss 1.0980e+00 : 100%|██████████| 429/429 [00:45<00:00,  9.45it/s]\n",
      "Evaluate 33: Time 0.033s (it:0.022s) Data:0.005s (it:0.003s) Loss 1.1380e+00 : 100%|██████████| 143/143 [00:04<00:00, 30.51it/s]\n",
      "Train 34: Time 0.107s (it:0.087s) Data:0.007s (it:0.007s) Loss 1.0967e+00 : 100%|██████████| 429/429 [00:45<00:00,  9.33it/s]\n",
      "Evaluate 34: Time 0.033s (it:0.024s) Data:0.005s (it:0.003s) Loss 1.1396e+00 : 100%|██████████| 143/143 [00:04<00:00, 30.12it/s]\n",
      "Train 35: Time 0.107s (it:0.088s) Data:0.007s (it:0.007s) Loss 1.0962e+00 : 100%|██████████| 429/429 [00:46<00:00,  9.32it/s]\n",
      "Evaluate 35: Time 0.033s (it:0.023s) Data:0.005s (it:0.003s) Loss 1.1416e+00 : 100%|██████████| 143/143 [00:04<00:00, 30.15it/s]\n",
      "Train 36: Time 0.107s (it:0.091s) Data:0.007s (it:0.007s) Loss 1.0955e+00 : 100%|██████████| 429/429 [00:45<00:00,  9.35it/s]\n",
      "Evaluate 36: Time 0.033s (it:0.024s) Data:0.005s (it:0.004s) Loss 1.1416e+00 : 100%|██████████| 143/143 [00:04<00:00, 30.01it/s]\n",
      "Train 37: Time 0.107s (it:0.089s) Data:0.007s (it:0.007s) Loss 1.0924e+00 : 100%|██████████| 429/429 [00:45<00:00,  9.38it/s]\n",
      "Evaluate 37: Time 0.033s (it:0.023s) Data:0.005s (it:0.003s) Loss 1.1388e+00 : 100%|██████████| 143/143 [00:04<00:00, 30.47it/s]\n",
      "Train 38: Time 0.107s (it:0.093s) Data:0.007s (it:0.007s) Loss 1.0925e+00 : 100%|██████████| 429/429 [00:45<00:00,  9.36it/s]\n",
      "Evaluate 38: Time 0.033s (it:0.023s) Data:0.005s (it:0.003s) Loss 1.1454e+00 : 100%|██████████| 143/143 [00:04<00:00, 30.24it/s]\n",
      "Train 39: Time 0.107s (it:0.089s) Data:0.007s (it:0.006s) Loss 1.0919e+00 : 100%|██████████| 429/429 [00:45<00:00,  9.38it/s]\n",
      "Evaluate 39: Time 0.033s (it:0.024s) Data:0.005s (it:0.004s) Loss 1.1444e+00 : 100%|██████████| 143/143 [00:04<00:00, 30.47it/s]\n",
      "2022-12-10 00:17:23,189 [MainThread  ] [INFO ]  Plateau Reached!\n"
     ]
    },
    {
     "name": "stdout",
     "output_type": "stream",
     "text": [
      "Epoch 00039: reducing learning rate of group 0 to 1.0000e-04.\n"
     ]
    },
    {
     "name": "stderr",
     "output_type": "stream",
     "text": [
      "Train 40: Time 0.106s (it:0.093s) Data:0.007s (it:0.008s) Loss 1.0762e+00 : 100%|██████████| 429/429 [00:45<00:00,  9.43it/s]\n",
      "Evaluate 40: Time 0.033s (it:0.024s) Data:0.005s (it:0.004s) Loss 1.1430e+00 : 100%|██████████| 143/143 [00:04<00:00, 30.47it/s]\n",
      "Train 41: Time 0.106s (it:0.086s) Data:0.007s (it:0.007s) Loss 1.0741e+00 : 100%|██████████| 429/429 [00:45<00:00,  9.39it/s]\n",
      "Evaluate 41: Time 0.033s (it:0.024s) Data:0.005s (it:0.004s) Loss 1.1439e+00 : 100%|██████████| 143/143 [00:04<00:00, 30.43it/s]\n",
      "Test (cls): Time 0.032s (it:0.023s) Data:0.005s (it:0.003s) : 100%|██████████| 143/143 [00:04<00:00, 31.09it/s]\n",
      "2022-12-10 00:19:08,525 [MainThread  ] [INFO ]  Validation performance at epoch 41 -> 0.3733723184455291\n"
     ]
    },
    {
     "name": "stdout",
     "output_type": "stream",
     "text": [
      "0.3733723184455291 [0.3639335740654111, 0.5442876215199758, 0.46184906681030546, 0.5841920606662614, 0.23506501242463296, 0.2536475891217991, 0.27144079514904473, 0.3925208123386271, 0.5882234438320864, 0.5312859042460223, 0.3665803904532632, 0.26156583441707815, 0.37351719415162976, 0.6397301272933913, 0.3785362777441211, 0.029241625688622822, 0.07171208365172288]\n"
     ]
    },
    {
     "name": "stderr",
     "output_type": "stream",
     "text": [
      "Train 42: Time 0.107s (it:0.089s) Data:0.007s (it:0.007s) Loss 1.0738e+00 : 100%|██████████| 429/429 [00:45<00:00,  9.34it/s]\n",
      "Evaluate 42: Time 0.034s (it:0.025s) Data:0.005s (it:0.004s) Loss 1.1450e+00 : 100%|██████████| 143/143 [00:04<00:00, 29.70it/s]\n",
      "Train 43: Time 0.108s (it:0.086s) Data:0.007s (it:0.006s) Loss 1.0728e+00 : 100%|██████████| 429/429 [00:46<00:00,  9.25it/s]\n",
      "Evaluate 43: Time 0.033s (it:0.025s) Data:0.005s (it:0.004s) Loss 1.1455e+00 : 100%|██████████| 143/143 [00:04<00:00, 29.90it/s]\n",
      "Train 44: Time 0.107s (it:0.086s) Data:0.007s (it:0.007s) Loss 1.0723e+00 : 100%|██████████| 429/429 [00:45<00:00,  9.33it/s]\n",
      "Evaluate 44: Time 0.033s (it:0.024s) Data:0.005s (it:0.003s) Loss 1.1463e+00 : 100%|██████████| 143/143 [00:04<00:00, 30.12it/s]\n",
      "Train 45: Time 0.107s (it:0.086s) Data:0.007s (it:0.008s) Loss 1.0720e+00 : 100%|██████████| 429/429 [00:45<00:00,  9.34it/s]\n",
      "Evaluate 45: Time 0.033s (it:0.024s) Data:0.005s (it:0.004s) Loss 1.1440e+00 : 100%|██████████| 143/143 [00:04<00:00, 30.13it/s]\n",
      "Train 46: Time 0.107s (it:0.089s) Data:0.007s (it:0.006s) Loss 1.0712e+00 : 100%|██████████| 429/429 [00:45<00:00,  9.38it/s]\n",
      "Evaluate 46: Time 0.034s (it:0.025s) Data:0.005s (it:0.004s) Loss 1.1457e+00 : 100%|██████████| 143/143 [00:04<00:00, 29.83it/s]\n",
      "Train 47: Time 0.107s (it:0.087s) Data:0.007s (it:0.006s) Loss 1.0714e+00 : 100%|██████████| 429/429 [00:45<00:00,  9.36it/s]\n",
      "Evaluate 47: Time 0.033s (it:0.025s) Data:0.005s (it:0.004s) Loss 1.1460e+00 : 100%|██████████| 143/143 [00:04<00:00, 30.08it/s]\n",
      "Train 48: Time 0.107s (it:0.085s) Data:0.007s (it:0.007s) Loss 1.0705e+00 : 100%|██████████| 429/429 [00:45<00:00,  9.34it/s]\n",
      "Evaluate 48: Time 0.033s (it:0.024s) Data:0.005s (it:0.004s) Loss 1.1482e+00 : 100%|██████████| 143/143 [00:04<00:00, 30.16it/s]\n",
      "Train 49: Time 0.106s (it:0.087s) Data:0.007s (it:0.007s) Loss 1.0698e+00 : 100%|██████████| 429/429 [00:45<00:00,  9.41it/s]\n",
      "Evaluate 49: Time 0.033s (it:0.024s) Data:0.005s (it:0.004s) Loss 1.1480e+00 : 100%|██████████| 143/143 [00:04<00:00, 30.61it/s]\n",
      "Train 50: Time 0.106s (it:0.090s) Data:0.007s (it:0.006s) Loss 1.0700e+00 : 100%|██████████| 429/429 [00:45<00:00,  9.43it/s]\n",
      "Evaluate 50: Time 0.033s (it:0.024s) Data:0.005s (it:0.003s) Loss 1.1473e+00 : 100%|██████████| 143/143 [00:04<00:00, 30.55it/s]\n",
      "2022-12-10 00:26:44,147 [MainThread  ] [INFO ]  Plateau Reached!\n"
     ]
    },
    {
     "name": "stdout",
     "output_type": "stream",
     "text": [
      "Epoch 00050: reducing learning rate of group 0 to 1.0000e-05.\n"
     ]
    },
    {
     "name": "stderr",
     "output_type": "stream",
     "text": [
      "Train 51: Time 0.106s (it:0.085s) Data:0.007s (it:0.007s) Loss 1.0673e+00 : 100%|██████████| 429/429 [00:45<00:00,  9.39it/s]\n",
      "Evaluate 51: Time 0.033s (it:0.023s) Data:0.005s (it:0.004s) Loss 1.1480e+00 : 100%|██████████| 143/143 [00:04<00:00, 30.48it/s]\n",
      "Test (cls): Time 0.032s (it:0.023s) Data:0.005s (it:0.003s) : 100%|██████████| 143/143 [00:04<00:00, 31.09it/s]\n",
      "2022-12-10 00:27:39,262 [MainThread  ] [INFO ]  Validation performance at epoch 51 -> 0.3747036279690548\n"
     ]
    },
    {
     "name": "stdout",
     "output_type": "stream",
     "text": [
      "0.3747036279690548 [0.38403385160305553, 0.543732541644074, 0.45427234766971764, 0.5840143894109987, 0.23466487877394498, 0.25070938684162575, 0.27089844087307485, 0.39186835856786245, 0.5884123514297803, 0.5315916706539505, 0.36408922904064933, 0.26041641706008933, 0.3736845003452225, 0.6392960192370107, 0.38099829298077353, 0.03559261421444718, 0.08168638512765415]\n"
     ]
    },
    {
     "name": "stderr",
     "output_type": "stream",
     "text": [
      "Train 52: Time 0.106s (it:0.086s) Data:0.007s (it:0.006s) Loss 1.0675e+00 : 100%|██████████| 429/429 [00:45<00:00,  9.40it/s]\n",
      "Evaluate 52: Time 0.033s (it:0.023s) Data:0.005s (it:0.004s) Loss 1.1481e+00 : 100%|██████████| 143/143 [00:04<00:00, 30.55it/s]\n",
      "Train 53: Time 0.106s (it:0.089s) Data:0.007s (it:0.006s) Loss 1.0672e+00 : 100%|██████████| 429/429 [00:45<00:00,  9.40it/s]\n",
      "Evaluate 53: Time 0.033s (it:0.024s) Data:0.005s (it:0.004s) Loss 1.1483e+00 : 100%|██████████| 143/143 [00:04<00:00, 30.67it/s]\n",
      "Train 54: Time 0.106s (it:0.085s) Data:0.007s (it:0.006s) Loss 1.0668e+00 : 100%|██████████| 429/429 [00:45<00:00,  9.44it/s]\n",
      "Evaluate 54: Time 0.033s (it:0.024s) Data:0.005s (it:0.004s) Loss 1.1480e+00 : 100%|██████████| 143/143 [00:04<00:00, 29.96it/s]\n",
      "Train 55: Time 0.107s (it:0.087s) Data:0.007s (it:0.007s) Loss 1.0669e+00 : 100%|██████████| 429/429 [00:45<00:00,  9.37it/s]\n",
      "Evaluate 55: Time 0.033s (it:0.025s) Data:0.005s (it:0.004s) Loss 1.1483e+00 : 100%|██████████| 143/143 [00:04<00:00, 30.30it/s]\n",
      "Train 56: Time 0.108s (it:0.091s) Data:0.007s (it:0.007s) Loss 1.0669e+00 : 100%|██████████| 429/429 [00:46<00:00,  9.29it/s]\n",
      "Evaluate 56: Time 0.033s (it:0.026s) Data:0.005s (it:0.004s) Loss 1.1481e+00 : 100%|██████████| 143/143 [00:04<00:00, 29.90it/s]\n",
      "Train 57: Time 0.108s (it:0.093s) Data:0.007s (it:0.007s) Loss 1.0670e+00 : 100%|██████████| 429/429 [00:46<00:00,  9.27it/s]\n",
      "Evaluate 57: Time 0.034s (it:0.024s) Data:0.005s (it:0.003s) Loss 1.1481e+00 : 100%|██████████| 143/143 [00:04<00:00, 29.79it/s]\n",
      "Train 58: Time 0.107s (it:0.089s) Data:0.007s (it:0.006s) Loss 1.0671e+00 : 100%|██████████| 429/429 [00:45<00:00,  9.34it/s]\n",
      "Evaluate 58: Time 0.033s (it:0.023s) Data:0.005s (it:0.003s) Loss 1.1483e+00 : 100%|██████████| 143/143 [00:04<00:00, 30.20it/s]\n",
      "Train 59: Time 0.107s (it:0.090s) Data:0.007s (it:0.006s) Loss 1.0667e+00 : 100%|██████████| 429/429 [00:45<00:00,  9.36it/s]\n",
      "Evaluate 59: Time 0.033s (it:0.025s) Data:0.005s (it:0.004s) Loss 1.1490e+00 : 100%|██████████| 143/143 [00:04<00:00, 30.26it/s]\n",
      "Train 60: Time 0.107s (it:0.086s) Data:0.007s (it:0.007s) Loss 1.0666e+00 : 100%|██████████| 429/429 [00:45<00:00,  9.34it/s]\n",
      "Evaluate 60: Time 0.033s (it:0.025s) Data:0.005s (it:0.004s) Loss 1.1483e+00 : 100%|██████████| 143/143 [00:04<00:00, 29.88it/s]\n",
      "Train 61: Time 0.107s (it:0.090s) Data:0.007s (it:0.006s) Loss 1.0670e+00 : 100%|██████████| 429/429 [00:45<00:00,  9.35it/s]\n",
      "Evaluate 61: Time 0.033s (it:0.026s) Data:0.005s (it:0.005s) Loss 1.1481e+00 : 100%|██████████| 143/143 [00:04<00:00, 29.96it/s]\n",
      "Test (cls): Time 0.033s (it:0.023s) Data:0.005s (it:0.003s) : 100%|██████████| 143/143 [00:04<00:00, 30.50it/s]\n",
      "2022-12-10 00:36:10,119 [MainThread  ] [INFO ]  Validation performance at epoch 61 -> 0.37502389223918675\n",
      "2022-12-10 00:36:10,119 [MainThread  ] [INFO ]  Plateau Reached!\n"
     ]
    },
    {
     "name": "stdout",
     "output_type": "stream",
     "text": [
      "0.37502389223918675 [0.38563256276006097, 0.5438735723899678, 0.4543924480808432, 0.5843916905150779, 0.2347163818587564, 0.2512043492223849, 0.27069983205941317, 0.3919303301188914, 0.5874917311081009, 0.5311168143047459, 0.3649921324006401, 0.26013678860470857, 0.3750835525754128, 0.6399521627667636, 0.3821040082003876, 0.03613232174352061, 0.08155548935649898]\n",
      "Epoch 00061: reducing learning rate of group 0 to 1.0000e-06.\n"
     ]
    },
    {
     "name": "stderr",
     "output_type": "stream",
     "text": [
      "Train 62: Time 0.107s (it:0.093s) Data:0.007s (it:0.007s) Loss 1.0666e+00 : 100%|██████████| 429/429 [00:45<00:00,  9.37it/s]\n",
      "Evaluate 62: Time 0.033s (it:0.024s) Data:0.005s (it:0.004s) Loss 1.1482e+00 : 100%|██████████| 143/143 [00:04<00:00, 30.19it/s]\n",
      "Train 63: Time 0.107s (it:0.088s) Data:0.007s (it:0.007s) Loss 1.0663e+00 : 100%|██████████| 429/429 [00:45<00:00,  9.37it/s]\n",
      "Evaluate 63: Time 0.033s (it:0.024s) Data:0.005s (it:0.004s) Loss 1.1482e+00 : 100%|██████████| 143/143 [00:04<00:00, 30.53it/s]\n",
      "Train 64: Time 0.106s (it:0.091s) Data:0.007s (it:0.006s) Loss 1.0663e+00 : 100%|██████████| 429/429 [00:45<00:00,  9.45it/s]\n",
      "Evaluate 64: Time 0.033s (it:0.022s) Data:0.005s (it:0.003s) Loss 1.1483e+00 : 100%|██████████| 143/143 [00:04<00:00, 30.73it/s]\n",
      "Train 65: Time 0.106s (it:0.092s) Data:0.007s (it:0.007s) Loss 1.0664e+00 : 100%|██████████| 429/429 [00:45<00:00,  9.44it/s]\n",
      "Evaluate 65: Time 0.033s (it:0.024s) Data:0.005s (it:0.004s) Loss 1.1483e+00 : 100%|██████████| 143/143 [00:04<00:00, 30.52it/s]\n",
      "Train 66: Time 0.106s (it:0.089s) Data:0.007s (it:0.006s) Loss 1.0662e+00 : 100%|██████████| 429/429 [00:45<00:00,  9.43it/s]\n",
      "Evaluate 66: Time 0.033s (it:0.023s) Data:0.005s (it:0.004s) Loss 1.1484e+00 : 100%|██████████| 143/143 [00:04<00:00, 30.68it/s]\n",
      "Train 67: Time 0.106s (it:0.090s) Data:0.007s (it:0.007s) Loss 1.0663e+00 : 100%|██████████| 429/429 [00:45<00:00,  9.44it/s]\n",
      "Evaluate 67: Time 0.033s (it:0.024s) Data:0.005s (it:0.004s) Loss 1.1484e+00 : 100%|██████████| 143/143 [00:04<00:00, 30.54it/s]\n",
      "Train 68: Time 0.106s (it:0.086s) Data:0.007s (it:0.007s) Loss 1.0664e+00 : 100%|██████████| 429/429 [00:45<00:00,  9.48it/s]\n",
      "Evaluate 68: Time 0.033s (it:0.024s) Data:0.005s (it:0.004s) Loss 1.1484e+00 : 100%|██████████| 143/143 [00:04<00:00, 30.47it/s]\n",
      "Train 69: Time 0.106s (it:0.091s) Data:0.007s (it:0.008s) Loss 1.0664e+00 : 100%|██████████| 429/429 [00:45<00:00,  9.42it/s]\n",
      "Evaluate 69: Time 0.033s (it:0.024s) Data:0.005s (it:0.003s) Loss 1.1484e+00 : 100%|██████████| 143/143 [00:04<00:00, 30.40it/s]\n",
      "Train 70: Time 0.107s (it:0.087s) Data:0.007s (it:0.007s) Loss 1.0665e+00 : 100%|██████████| 429/429 [00:45<00:00,  9.36it/s]\n",
      "Evaluate 70: Time 0.034s (it:0.024s) Data:0.005s (it:0.004s) Loss 1.1484e+00 : 100%|██████████| 143/143 [00:04<00:00, 29.78it/s]\n",
      "Train 71: Time 0.108s (it:0.089s) Data:0.007s (it:0.008s) Loss 1.0665e+00 : 100%|██████████| 429/429 [00:46<00:00,  9.30it/s]\n",
      "Evaluate 71: Time 0.033s (it:0.023s) Data:0.005s (it:0.003s) Loss 1.1484e+00 : 100%|██████████| 143/143 [00:04<00:00, 30.01it/s]\n",
      "Test (cls): Time 0.033s (it:0.023s) Data:0.005s (it:0.003s) : 100%|██████████| 143/143 [00:04<00:00, 30.51it/s]\n",
      "2022-12-10 00:44:38,108 [MainThread  ] [INFO ]  Validation performance at epoch 71 -> 0.3749359285798896\n"
     ]
    },
    {
     "name": "stdout",
     "output_type": "stream",
     "text": [
      "0.3749359285798896 [0.3851766193531901, 0.5435115522569473, 0.45403637148296194, 0.584392419431492, 0.23491207071837988, 0.2511493053092571, 0.2706804408512173, 0.39196471638104285, 0.5877071533229221, 0.531368764907638, 0.3651683346374828, 0.2601430570733648, 0.3749671448322178, 0.6397174236510834, 0.38184327416762315, 0.03563988212558425, 0.08153225535571793]\n"
     ]
    },
    {
     "name": "stderr",
     "output_type": "stream",
     "text": [
      "Train 72: Time 0.107s (it:0.089s) Data:0.007s (it:0.007s) Loss 1.0664e+00 : 100%|██████████| 429/429 [00:45<00:00,  9.38it/s]\n",
      "Evaluate 72: Time 0.033s (it:0.026s) Data:0.005s (it:0.005s) Loss 1.1484e+00 : 100%|██████████| 143/143 [00:04<00:00, 29.92it/s]\n",
      "2022-12-10 00:45:28,649 [MainThread  ] [INFO ]  Plateau Reached!\n"
     ]
    },
    {
     "name": "stdout",
     "output_type": "stream",
     "text": [
      "Epoch 00072: reducing learning rate of group 0 to 1.0000e-07.\n"
     ]
    },
    {
     "name": "stderr",
     "output_type": "stream",
     "text": [
      "Train 73: Time 0.107s (it:0.087s) Data:0.007s (it:0.007s) Loss 1.0663e+00 : 100%|██████████| 429/429 [00:45<00:00,  9.37it/s]\n",
      "Evaluate 73: Time 0.033s (it:0.024s) Data:0.005s (it:0.004s) Loss 1.1484e+00 : 100%|██████████| 143/143 [00:04<00:00, 30.26it/s]\n",
      "Train 74: Time 0.107s (it:0.088s) Data:0.007s (it:0.007s) Loss 1.0662e+00 : 100%|██████████| 429/429 [00:45<00:00,  9.35it/s]\n",
      "Evaluate 74: Time 0.033s (it:0.024s) Data:0.005s (it:0.004s) Loss 1.1484e+00 : 100%|██████████| 143/143 [00:04<00:00, 30.39it/s]\n",
      "Train 75: Time 0.107s (it:0.088s) Data:0.007s (it:0.006s) Loss 1.0666e+00 : 100%|██████████| 429/429 [00:45<00:00,  9.38it/s]\n",
      "Evaluate 75: Time 0.033s (it:0.024s) Data:0.005s (it:0.004s) Loss 1.1484e+00 : 100%|██████████| 143/143 [00:04<00:00, 29.91it/s]\n",
      "Train 76: Time 0.106s (it:0.091s) Data:0.007s (it:0.007s) Loss 1.0663e+00 : 100%|██████████| 429/429 [00:45<00:00,  9.39it/s]\n",
      "Evaluate 76: Time 0.033s (it:0.025s) Data:0.005s (it:0.003s) Loss 1.1484e+00 : 100%|██████████| 143/143 [00:04<00:00, 30.26it/s]\n",
      "Train 77: Time 0.106s (it:0.089s) Data:0.007s (it:0.006s) Loss 1.0664e+00 : 100%|██████████| 429/429 [00:45<00:00,  9.40it/s]\n",
      "Evaluate 77: Time 0.033s (it:0.023s) Data:0.005s (it:0.003s) Loss 1.1484e+00 : 100%|██████████| 143/143 [00:04<00:00, 30.37it/s]\n",
      "Train 78: Time 0.106s (it:0.089s) Data:0.007s (it:0.006s) Loss 1.0663e+00 : 100%|██████████| 429/429 [00:45<00:00,  9.44it/s]\n",
      "Evaluate 78: Time 0.033s (it:0.025s) Data:0.005s (it:0.004s) Loss 1.1484e+00 : 100%|██████████| 143/143 [00:04<00:00, 30.33it/s]\n",
      "Train 79: Time 0.105s (it:0.085s) Data:0.007s (it:0.006s) Loss 1.0663e+00 : 100%|██████████| 429/429 [00:45<00:00,  9.49it/s]\n",
      "Evaluate 79: Time 0.033s (it:0.024s) Data:0.005s (it:0.004s) Loss 1.1484e+00 : 100%|██████████| 143/143 [00:04<00:00, 30.50it/s]\n",
      "Train 80: Time 0.106s (it:0.087s) Data:0.007s (it:0.007s) Loss 1.0662e+00 : 100%|██████████| 429/429 [00:45<00:00,  9.43it/s]\n",
      "Evaluate 80: Time 0.033s (it:0.024s) Data:0.005s (it:0.004s) Loss 1.1484e+00 : 100%|██████████| 143/143 [00:04<00:00, 30.35it/s]\n",
      "Train 81: Time 0.106s (it:0.088s) Data:0.007s (it:0.008s) Loss 1.0663e+00 : 100%|██████████| 429/429 [00:45<00:00,  9.45it/s]\n",
      "Evaluate 81: Time 0.033s (it:0.024s) Data:0.005s (it:0.004s) Loss 1.1484e+00 : 100%|██████████| 143/143 [00:04<00:00, 30.34it/s]\n",
      "Test (cls): Time 0.032s (it:0.022s) Data:0.005s (it:0.003s) : 100%|██████████| 143/143 [00:04<00:00, 31.36it/s]\n",
      "2022-12-10 00:53:06,162 [MainThread  ] [INFO ]  Validation performance at epoch 81 -> 0.37494236247063895\n"
     ]
    },
    {
     "name": "stdout",
     "output_type": "stream",
     "text": [
      "0.37494236247063895 [0.3851794625422918, 0.5436333954203163, 0.4540262882245763, 0.5843791681851563, 0.2349152047233086, 0.2511342770968157, 0.270655682677886, 0.391919607898332, 0.5876814538616092, 0.5313480188902288, 0.3651631139258888, 0.26010956282078923, 0.3751229285590656, 0.6396976382491774, 0.3818910304651263, 0.035629767678721995, 0.08153356078157191]\n"
     ]
    },
    {
     "name": "stderr",
     "output_type": "stream",
     "text": [
      "Train 82: Time 0.106s (it:0.090s) Data:0.007s (it:0.007s) Loss 1.0661e+00 : 100%|██████████| 429/429 [00:45<00:00,  9.42it/s]\n",
      "Evaluate 82: Time 0.033s (it:0.024s) Data:0.005s (it:0.003s) Loss 1.1484e+00 : 100%|██████████| 143/143 [00:04<00:00, 30.52it/s]\n",
      "Train 83: Time 0.106s (it:0.089s) Data:0.007s (it:0.006s) Loss 1.0663e+00 : 100%|██████████| 429/429 [00:45<00:00,  9.47it/s]\n",
      "Evaluate 83: Time 0.033s (it:0.024s) Data:0.005s (it:0.004s) Loss 1.1484e+00 : 100%|██████████| 143/143 [00:04<00:00, 30.57it/s]\n",
      "2022-12-10 00:54:46,381 [MainThread  ] [INFO ]  Plateau Reached!\n"
     ]
    },
    {
     "name": "stdout",
     "output_type": "stream",
     "text": [
      "Epoch 00083: reducing learning rate of group 0 to 1.0000e-08.\n"
     ]
    },
    {
     "name": "stderr",
     "output_type": "stream",
     "text": [
      "Train 84: Time 0.107s (it:0.087s) Data:0.007s (it:0.007s) Loss 1.0665e+00 : 100%|██████████| 429/429 [00:45<00:00,  9.37it/s]\n",
      "Evaluate 84: Time 0.034s (it:0.025s) Data:0.005s (it:0.004s) Loss 1.1484e+00 : 100%|██████████| 143/143 [00:04<00:00, 29.56it/s]\n",
      "Train 85: Time 0.108s (it:0.089s) Data:0.008s (it:0.008s) Loss 1.0662e+00 : 100%|██████████| 429/429 [00:46<00:00,  9.27it/s]\n",
      "Evaluate 85: Time 0.034s (it:0.024s) Data:0.005s (it:0.004s) Loss 1.1484e+00 : 100%|██████████| 143/143 [00:04<00:00, 29.55it/s]\n",
      "Train 86: Time 0.107s (it:0.086s) Data:0.007s (it:0.007s) Loss 1.0664e+00 : 100%|██████████| 429/429 [00:46<00:00,  9.31it/s]\n",
      "Evaluate 86: Time 0.033s (it:0.024s) Data:0.005s (it:0.004s) Loss 1.1484e+00 : 100%|██████████| 143/143 [00:04<00:00, 29.99it/s]\n",
      "Train 87: Time 0.106s (it:0.088s) Data:0.007s (it:0.007s) Loss 1.0663e+00 : 100%|██████████| 429/429 [00:45<00:00,  9.44it/s]\n",
      "Evaluate 87: Time 0.033s (it:0.024s) Data:0.005s (it:0.003s) Loss 1.1484e+00 : 100%|██████████| 143/143 [00:04<00:00, 30.16it/s]\n",
      "Train 88: Time 0.106s (it:0.089s) Data:0.007s (it:0.006s) Loss 1.0663e+00 : 100%|██████████| 429/429 [00:45<00:00,  9.44it/s]\n",
      "Evaluate 88: Time 0.033s (it:0.024s) Data:0.005s (it:0.004s) Loss 1.1484e+00 : 100%|██████████| 143/143 [00:04<00:00, 30.19it/s]\n",
      "Train 89: Time 0.106s (it:0.086s) Data:0.007s (it:0.006s) Loss 1.0663e+00 : 100%|██████████| 429/429 [00:45<00:00,  9.41it/s]\n",
      "Evaluate 89: Time 0.033s (it:0.024s) Data:0.005s (it:0.003s) Loss 1.1484e+00 : 100%|██████████| 143/143 [00:04<00:00, 30.15it/s]\n",
      "Train 90: Time 0.106s (it:0.086s) Data:0.007s (it:0.007s) Loss 1.0664e+00 : 100%|██████████| 429/429 [00:45<00:00,  9.39it/s]\n",
      "Evaluate 90: Time 0.033s (it:0.025s) Data:0.005s (it:0.004s) Loss 1.1484e+00 : 100%|██████████| 143/143 [00:04<00:00, 30.08it/s]\n",
      "Train 91: Time 0.107s (it:0.087s) Data:0.007s (it:0.007s) Loss 1.0664e+00 : 100%|██████████| 429/429 [00:45<00:00,  9.38it/s]\n",
      "Evaluate 91: Time 0.033s (it:0.024s) Data:0.005s (it:0.004s) Loss 1.1484e+00 : 100%|██████████| 143/143 [00:04<00:00, 30.06it/s]\n",
      "Test (cls): Time 0.032s (it:0.023s) Data:0.005s (it:0.003s) : 100%|██████████| 143/143 [00:04<00:00, 30.85it/s]\n",
      "2022-12-10 01:01:35,395 [MainThread  ] [INFO ]  Validation performance at epoch 91 -> 0.3749456472262855\n"
     ]
    },
    {
     "name": "stdout",
     "output_type": "stream",
     "text": [
      "0.3749456472262855 [0.38518086477438185, 0.5436662325125369, 0.4540417842970574, 0.5843822633782824, 0.2349138274676521, 0.2511220980249554, 0.27066900360820745, 0.39192657454023916, 0.587674020049428, 0.5313471883958134, 0.3651610584435786, 0.26011536446707306, 0.3751270333164229, 0.6396945758400105, 0.38189056028565077, 0.03562999399136851, 0.08153355945419453]\n"
     ]
    },
    {
     "name": "stderr",
     "output_type": "stream",
     "text": [
      "Train 92: Time 0.107s (it:0.092s) Data:0.007s (it:0.007s) Loss 1.0663e+00 : 100%|██████████| 429/429 [00:45<00:00,  9.39it/s]\n",
      "Evaluate 92: Time 0.033s (it:0.024s) Data:0.005s (it:0.004s) Loss 1.1484e+00 : 100%|██████████| 143/143 [00:04<00:00, 30.21it/s]\n",
      "Train 93: Time 0.106s (it:0.087s) Data:0.007s (it:0.007s) Loss 1.0664e+00 : 100%|██████████| 429/429 [00:45<00:00,  9.41it/s]\n",
      "Evaluate 93: Time 0.033s (it:0.024s) Data:0.005s (it:0.004s) Loss 1.1484e+00 : 100%|██████████| 143/143 [00:04<00:00, 30.28it/s]\n",
      "2022-12-10 01:03:16,171 [MainThread  ] [INFO ]  Plateau Reached and no more reduction -> Exiting Loop\n",
      "2022-12-10 01:03:16,429 [MainThread  ] [INFO ]  Checking/Download features and labels locally\n",
      "Test (spot.): Time 1.442s (it:1.292s) Data:0.171s (it:0.154s) : 100%|██████████| 100/100 [02:24<00:00,  1.44s/it]\n",
      "100%|██████████| 100/100 [00:01<00:00, 97.18it/s]\n",
      "100%|██████████| 12/12 [00:13<00:00,  1.16s/it]\n",
      "2022-12-10 01:05:56,470 [MainThread  ] [INFO ]  Best Performance at end of training \n",
      "2022-12-10 01:05:56,471 [MainThread  ] [INFO ]  a_mAP visibility all: 0.4562760230925942\n",
      "2022-12-10 01:05:56,471 [MainThread  ] [INFO ]  a_mAP visibility all per class: [0.4962578042898059, 0.5786746323552353, 0.6397702542912718, 0.6401662898186102, 0.35294092571437663, 0.33640163109208304, 0.3637345555250802, 0.497383914619002, 0.6377142302364387, 0.5704243395102968, 0.5560272902488982, 0.41123267677976344, 0.464298066511674, 0.707886250305726, 0.44304393981819196, 0.016958831100624475, 0.0437767603570237]\n",
      "2022-12-10 01:05:56,471 [MainThread  ] [INFO ]  a_mAP visibility visible: 0.5059202682050183\n",
      "2022-12-10 01:05:56,472 [MainThread  ] [INFO ]  a_mAP visibility visible per class: [0.6701035798325958, 0.6552491124339986, 0.6556261154570839, 0.703021744939459, 0.37116967528893063, 0.33801496021120503, 0.3661624400088488, 0.5963232685896022, 0.6407133958742398, 0.5924423350584734, 0.5598749663954955, 0.378111971027347, 0.5300999566462483, 0.7155489799359517, 0.48702405999074083, 0.1936226161399036, 0.14753538165518687]\n",
      "2022-12-10 01:05:56,472 [MainThread  ] [INFO ]  a_mAP visibility unshown: 0.3194955060981215\n",
      "2022-12-10 01:05:56,472 [MainThread  ] [INFO ]  a_mAP visibility unshown per class: [0.0, 0.5415958813742503, 0.0, 0.3004011744367226, 0.20122520294460997, 0.04371416871416873, 0.004139018579151617, 0.3966794128072305, 0.5684236461459373, 0.5097077336361509, 0.36493541858867007, 0.4633780806887262, 0.0326343983532376, 0.675404916503441, 0.05120252650328266, 0.0, 0.0]\n",
      "2022-12-10 01:05:56,473 [MainThread  ] [INFO ]  Total Execution Time is 5016.547397851944 seconds\n"
     ]
    }
   ],
   "source": [
    "\n",
    "%run $training_file_name\\\n",
    "    --SoccerNet_path=$resnet_features_path\\\n",
    "    --model_name=NetVLAD++_vit_CE\\\n",
    "    --features=custom_vit --seed 3 --LR=1e-3\\\n",
    "    --split_test=\"test\"\\\n",
    "    --custom_feature_path=$vit_features_path\\\n",
    "    --loss_function=CE"
   ]
  },
  {
   "cell_type": "markdown",
   "metadata": {},
   "source": [
    "#### Experiment 2:  Vit Data + NetVladd + CE+CB Loss"
   ]
  },
  {
   "cell_type": "code",
   "execution_count": 3,
   "metadata": {},
   "outputs": [
    {
     "name": "stderr",
     "output_type": "stream",
     "text": [
      "/Users/srv/.pyenv/versions/3.10.4/envs/gatech.deepLearning.project/lib/python3.10/site-packages/tqdm/auto.py:22: TqdmWarning: IProgress not found. Please update jupyter and ipywidgets. See https://ipywidgets.readthedocs.io/en/stable/user_install.html\n",
      "  from .autonotebook import tqdm as notebook_tqdm\n",
      "2022-12-10 09:39:16,923 [MainThread  ] [INFO ]  Starting main function\n",
      "2022-12-10 09:39:16,923 [MainThread  ] [INFO ]  Parameters:\n",
      "2022-12-10 09:39:16,923 [MainThread  ] [INFO ]   SoccerNet_path : /Users/srv/Documents/Cloud/Google Drive - Default/deep_learning_alphas_final_project/assets_pca\n",
      "2022-12-10 09:39:16,924 [MainThread  ] [INFO ]         features : custom_vit\n",
      "2022-12-10 09:39:16,924 [MainThread  ] [INFO ]       max_epochs : 1000\n",
      "2022-12-10 09:39:16,924 [MainThread  ] [INFO ]     load_weights : None\n",
      "2022-12-10 09:39:16,925 [MainThread  ] [INFO ]       model_name : NetVLAD++_vit_CE+CB\n",
      "2022-12-10 09:39:16,925 [MainThread  ] [INFO ]        test_only : False\n",
      "2022-12-10 09:39:16,925 [MainThread  ] [INFO ]      split_train : ['train']\n",
      "2022-12-10 09:39:16,926 [MainThread  ] [INFO ]      split_valid : ['valid']\n",
      "2022-12-10 09:39:16,926 [MainThread  ] [INFO ]       split_test : ['test']\n",
      "2022-12-10 09:39:16,926 [MainThread  ] [INFO ]          version : 2\n",
      "2022-12-10 09:39:16,927 [MainThread  ] [INFO ]      feature_dim : None\n",
      "2022-12-10 09:39:16,927 [MainThread  ] [INFO ]  evaluation_frequency : 10\n",
      "2022-12-10 09:39:16,927 [MainThread  ] [INFO ]        framerate : 2\n",
      "2022-12-10 09:39:16,928 [MainThread  ] [INFO ]      window_size : 15\n",
      "2022-12-10 09:39:16,928 [MainThread  ] [INFO ]             pool : NetVLAD++\n",
      "2022-12-10 09:39:16,928 [MainThread  ] [INFO ]       vocab_size : 64\n",
      "2022-12-10 09:39:16,929 [MainThread  ] [INFO ]       NMS_window : 30\n",
      "2022-12-10 09:39:16,929 [MainThread  ] [INFO ]    NMS_threshold : 0.0\n",
      "2022-12-10 09:39:16,930 [MainThread  ] [INFO ]       batch_size : 256\n",
      "2022-12-10 09:39:16,930 [MainThread  ] [INFO ]               LR : 0.001\n",
      "2022-12-10 09:39:16,930 [MainThread  ] [INFO ]              LRe : 1e-06\n",
      "2022-12-10 09:39:16,930 [MainThread  ] [INFO ]         patience : 10\n",
      "2022-12-10 09:39:16,931 [MainThread  ] [INFO ]              GPU : 0\n",
      "2022-12-10 09:39:16,931 [MainThread  ] [INFO ]   max_num_worker : 1\n",
      "2022-12-10 09:39:16,931 [MainThread  ] [INFO ]             seed : 3\n",
      "2022-12-10 09:39:16,932 [MainThread  ] [INFO ]         loglevel : INFO\n",
      "2022-12-10 09:39:16,932 [MainThread  ] [INFO ]  custom_feature_path : /Users/srv/Documents/Cloud/Georgia Institute of Technology/Alphas - Documents/Project Data/vit_features\n",
      "2022-12-10 09:39:16,932 [MainThread  ] [INFO ]    loss_function : CE+CB\n",
      "2022-12-10 09:39:16,932 [MainThread  ] [INFO ]           device : mps\n",
      "2022-12-10 09:39:16,933 [MainThread  ] [INFO ]  model_save_path : /Users/srv/Documents/Cloud/Georgia Institute of Technology/Alphas - Documents/Project Data/project_artefacts/NetVLAD++_vit_CE+CB/mps_run_0\n",
      "2022-12-10 09:39:16,934 [MainThread  ] [INFO ]  Checking/Download features and labels locally\n",
      "2022-12-10 09:39:16,934 [MainThread  ] [INFO ]  Pre-compute clips\n",
      "100%|██████████| 300/300 [00:03<00:00, 84.90it/s]\n",
      "2022-12-10 09:39:26,981 [MainThread  ] [INFO ]  Checking/Download features and labels locally\n",
      "2022-12-10 09:39:26,982 [MainThread  ] [INFO ]  Pre-compute clips\n",
      "100%|██████████| 100/100 [00:01<00:00, 90.37it/s]\n",
      "2022-12-10 09:39:28,479 [MainThread  ] [INFO ]  Checking/Download features and labels locally\n",
      "2022-12-10 09:39:28,479 [MainThread  ] [INFO ]  Pre-compute clips\n",
      "100%|██████████| 100/100 [00:00<00:00, 143.31it/s]\n",
      "2022-12-10 09:39:29,569 [MainThread  ] [INFO ]  Checking/Download features and labels locally\n",
      "2022-12-10 09:39:29,646 [MainThread  ] [INFO ]  Model(\n",
      "  (feature_extractor): Linear(in_features=768, out_features=512, bias=True)\n",
      "  (pool_layer_before): NetVLAD()\n",
      "  (pool_layer_after): NetVLAD()\n",
      "  (fc): Linear(in_features=32768, out_features=18, bias=True)\n",
      "  (drop): Dropout(p=0.4, inplace=False)\n",
      "  (sigm): Sigmoid()\n",
      ")\n",
      "2022-12-10 09:39:29,647 [MainThread  ] [INFO ]  Total number of parameters: 1049106\n",
      "/Users/srv/Documents/Git/GaTech/dl_cse_7643/final_project/code/training_modules/loss.py:38: UserWarning: To copy construct from a tensor, it is recommended to use sourceTensor.clone().detach() or sourceTensor.clone().detach().requires_grad_(True), rather than torch.tensor(sourceTensor).\n",
      "  self.weight = torch.tensor(weight).float()\n",
      "2022-12-10 09:39:29,659 [MainThread  ] [INFO ]  start training\n"
     ]
    },
    {
     "name": "stdout",
     "output_type": "stream",
     "text": [
      "feature_dim found: 768\n",
      "beta = 0.9\n"
     ]
    },
    {
     "name": "stderr",
     "output_type": "stream",
     "text": [
      "Train 1: Time 0.111s (it:0.297s) Data:0.014s (it:0.013s) Loss 1.1501e+00 : 100%|██████████| 429/429 [00:47<00:00,  9.03it/s]\n",
      "Evaluate 1: Time 0.037s (it:0.141s) Data:0.007s (it:0.006s) Loss 1.1274e+00 : 100%|██████████| 143/143 [00:05<00:00, 26.99it/s]\n",
      "Train 2: Time 0.119s (it:0.101s) Data:0.008s (it:0.008s) Loss 1.1233e+00 : 100%|██████████| 429/429 [00:50<00:00,  8.43it/s]\n",
      "Evaluate 2: Time 0.038s (it:0.027s) Data:0.006s (it:0.005s) Loss 1.1186e+00 : 100%|██████████| 143/143 [00:05<00:00, 26.38it/s]\n",
      "Train 3: Time 0.126s (it:0.105s) Data:0.008s (it:0.008s) Loss 1.1132e+00 : 100%|██████████| 429/429 [00:54<00:00,  7.92it/s]\n",
      "Evaluate 3: Time 0.039s (it:0.027s) Data:0.006s (it:0.005s) Loss 1.1101e+00 : 100%|██████████| 143/143 [00:05<00:00, 25.47it/s]\n",
      "Train 4: Time 0.127s (it:0.106s) Data:0.009s (it:0.009s) Loss 1.1071e+00 : 100%|██████████| 429/429 [00:54<00:00,  7.87it/s]\n",
      "Evaluate 4: Time 0.039s (it:0.026s) Data:0.007s (it:0.005s) Loss 1.1051e+00 : 100%|██████████| 143/143 [00:05<00:00, 25.59it/s]\n",
      "Train 5: Time 0.122s (it:0.111s) Data:0.009s (it:0.015s) Loss 1.1017e+00 : 100%|██████████| 429/429 [00:52<00:00,  8.18it/s]\n",
      "Evaluate 5: Time 0.039s (it:0.026s) Data:0.007s (it:0.005s) Loss 1.1021e+00 : 100%|██████████| 143/143 [00:05<00:00, 25.71it/s]\n",
      "Train 6: Time 0.131s (it:0.106s) Data:0.008s (it:0.009s) Loss 1.0971e+00 : 100%|██████████| 429/429 [00:56<00:00,  7.65it/s]\n",
      "Evaluate 6: Time 0.040s (it:0.028s) Data:0.006s (it:0.005s) Loss 1.1027e+00 : 100%|██████████| 143/143 [00:05<00:00, 25.11it/s]\n",
      "Train 7: Time 0.122s (it:0.097s) Data:0.008s (it:0.008s) Loss 1.0939e+00 : 100%|██████████| 429/429 [00:52<00:00,  8.21it/s]\n",
      "Evaluate 7: Time 0.039s (it:0.029s) Data:0.006s (it:0.005s) Loss 1.0983e+00 : 100%|██████████| 143/143 [00:05<00:00, 25.57it/s]\n",
      "Train 8: Time 0.126s (it:0.103s) Data:0.007s (it:0.007s) Loss 1.0901e+00 : 100%|██████████| 429/429 [00:54<00:00,  7.94it/s]\n",
      "Evaluate 8: Time 0.038s (it:0.026s) Data:0.006s (it:0.003s) Loss 1.0985e+00 : 100%|██████████| 143/143 [00:05<00:00, 26.24it/s] \n",
      "Train 9: Time 0.125s (it:0.102s) Data:0.008s (it:0.008s) Loss 1.0876e+00 : 100%|██████████| 429/429 [00:53<00:00,  8.03it/s]\n",
      "Evaluate 9: Time 0.039s (it:0.026s) Data:0.006s (it:0.005s) Loss 1.0951e+00 : 100%|██████████| 143/143 [00:05<00:00, 25.88it/s]\n",
      "Train 10: Time 0.124s (it:0.104s) Data:0.008s (it:0.008s) Loss 1.0851e+00 : 100%|██████████| 429/429 [00:53<00:00,  8.05it/s]\n",
      "Evaluate 10: Time 0.038s (it:0.026s) Data:0.006s (it:0.004s) Loss 1.0934e+00 : 100%|██████████| 143/143 [00:05<00:00, 26.28it/s]\n",
      "Train 11: Time 0.112s (it:0.089s) Data:0.007s (it:0.007s) Loss 1.0823e+00 : 100%|██████████| 429/429 [00:47<00:00,  8.94it/s]\n",
      "Evaluate 11: Time 0.034s (it:0.027s) Data:0.006s (it:0.005s) Loss 1.0936e+00 : 100%|██████████| 143/143 [00:04<00:00, 29.11it/s]\n",
      "Test (cls): Time 0.035s (it:0.024s) Data:0.007s (it:0.004s) : 100%|██████████| 143/143 [00:04<00:00, 28.66it/s]\n",
      "2022-12-10 09:50:11,733 [MainThread  ] [INFO ]  Validation performance at epoch 11 -> 0.3351875509408981\n"
     ]
    },
    {
     "name": "stdout",
     "output_type": "stream",
     "text": [
      "0.3351875509408981 [0.34658193498162265, 0.44410029203365486, 0.434579407325063, 0.5414749051669367, 0.20581277564932923, 0.24027347190197793, 0.24076809242627498, 0.34043844835675474, 0.570876402528, 0.49710296924603947, 0.3527768245780719, 0.2501867249532177, 0.33383753001419963, 0.5730030883688083, 0.2626320684175221, 0.016683119566924226, 0.047060310480870705]\n"
     ]
    },
    {
     "name": "stderr",
     "output_type": "stream",
     "text": [
      "Train 12: Time 0.107s (it:0.088s) Data:0.007s (it:0.007s) Loss 1.0799e+00 : 100%|██████████| 429/429 [00:46<00:00,  9.32it/s]\n",
      "Evaluate 12: Time 0.034s (it:0.026s) Data:0.005s (it:0.005s) Loss 1.0908e+00 : 100%|██████████| 143/143 [00:04<00:00, 29.49it/s]\n",
      "Train 13: Time 0.107s (it:0.088s) Data:0.007s (it:0.007s) Loss 1.0778e+00 : 100%|██████████| 429/429 [00:45<00:00,  9.35it/s]\n",
      "Evaluate 13: Time 0.033s (it:0.024s) Data:0.005s (it:0.004s) Loss 1.0906e+00 : 100%|██████████| 143/143 [00:04<00:00, 30.12it/s]\n",
      "Train 14: Time 0.107s (it:0.088s) Data:0.007s (it:0.007s) Loss 1.0760e+00 : 100%|██████████| 429/429 [00:45<00:00,  9.35it/s]\n",
      "Evaluate 14: Time 0.033s (it:0.024s) Data:0.005s (it:0.004s) Loss 1.0913e+00 : 100%|██████████| 143/143 [00:04<00:00, 30.12it/s]\n",
      "Train 15: Time 0.107s (it:0.090s) Data:0.007s (it:0.007s) Loss 1.0741e+00 : 100%|██████████| 429/429 [00:45<00:00,  9.35it/s]\n",
      "Evaluate 15: Time 0.033s (it:0.024s) Data:0.005s (it:0.004s) Loss 1.0920e+00 : 100%|██████████| 143/143 [00:04<00:00, 30.38it/s]\n",
      "Train 16: Time 0.107s (it:0.088s) Data:0.007s (it:0.007s) Loss 1.0718e+00 : 100%|██████████| 429/429 [00:45<00:00,  9.35it/s]\n",
      "Evaluate 16: Time 0.033s (it:0.025s) Data:0.005s (it:0.004s) Loss 1.0923e+00 : 100%|██████████| 143/143 [00:04<00:00, 30.18it/s]\n",
      "Train 17: Time 0.109s (it:0.096s) Data:0.007s (it:0.008s) Loss 1.0704e+00 : 100%|██████████| 429/429 [00:46<00:00,  9.20it/s]\n",
      "Evaluate 17: Time 0.036s (it:0.024s) Data:0.006s (it:0.004s) Loss 1.0893e+00 : 100%|██████████| 143/143 [00:05<00:00, 27.93it/s]\n",
      "Train 18: Time 0.114s (it:0.094s) Data:0.008s (it:0.008s) Loss 1.0695e+00 : 100%|██████████| 429/429 [00:49<00:00,  8.74it/s]\n",
      "Evaluate 18: Time 0.036s (it:0.025s) Data:0.006s (it:0.004s) Loss 1.0932e+00 : 100%|██████████| 143/143 [00:05<00:00, 28.04it/s]\n",
      "Train 19: Time 0.115s (it:0.095s) Data:0.008s (it:0.008s) Loss 1.0677e+00 : 100%|██████████| 429/429 [00:49<00:00,  8.73it/s]\n",
      "Evaluate 19: Time 0.036s (it:0.025s) Data:0.006s (it:0.004s) Loss 1.0933e+00 : 100%|██████████| 143/143 [00:05<00:00, 27.66it/s]\n",
      "Train 20: Time 0.114s (it:0.092s) Data:0.008s (it:0.007s) Loss 1.0660e+00 : 100%|██████████| 429/429 [00:49<00:00,  8.74it/s]\n",
      "Evaluate 20: Time 0.036s (it:0.024s) Data:0.006s (it:0.004s) Loss 1.0874e+00 : 100%|██████████| 143/143 [00:05<00:00, 27.85it/s]\n",
      "Train 21: Time 0.114s (it:0.092s) Data:0.008s (it:0.009s) Loss 1.0654e+00 : 100%|██████████| 429/429 [00:48<00:00,  8.78it/s]\n",
      "Evaluate 21: Time 0.036s (it:0.024s) Data:0.006s (it:0.004s) Loss 1.0899e+00 : 100%|██████████| 143/143 [00:05<00:00, 27.92it/s]\n",
      "Test (cls): Time 0.035s (it:0.023s) Data:0.005s (it:0.003s) : 100%|██████████| 143/143 [00:04<00:00, 28.67it/s]\n",
      "2022-12-10 09:58:58,904 [MainThread  ] [INFO ]  Validation performance at epoch 21 -> 0.36139448264378116\n"
     ]
    },
    {
     "name": "stdout",
     "output_type": "stream",
     "text": [
      "0.36139448264378116 [0.36510848436607635, 0.5188630324164694, 0.4649295432055264, 0.5656907608395688, 0.23269127829241687, 0.25147320877580126, 0.26129442889356347, 0.3699270936264052, 0.5812624822793833, 0.5113116298430376, 0.3591853146201, 0.2566154074052235, 0.3591617558876622, 0.6158845060308303, 0.3136909962695033, 0.01697962934339044, 0.09963665284932158]\n"
     ]
    },
    {
     "name": "stderr",
     "output_type": "stream",
     "text": [
      "Train 22: Time 0.114s (it:0.095s) Data:0.008s (it:0.008s) Loss 1.0645e+00 : 100%|██████████| 429/429 [00:48<00:00,  8.79it/s]\n",
      "Evaluate 22: Time 0.036s (it:0.026s) Data:0.006s (it:0.005s) Loss 1.0866e+00 : 100%|██████████| 143/143 [00:05<00:00, 28.02it/s]\n",
      "Train 23: Time 0.122s (it:0.102s) Data:0.010s (it:0.008s) Loss 1.0617e+00 : 100%|██████████| 429/429 [00:52<00:00,  8.18it/s]\n",
      "Evaluate 23: Time 0.036s (it:0.025s) Data:0.006s (it:0.004s) Loss 1.0897e+00 : 100%|██████████| 143/143 [00:05<00:00, 27.82it/s]\n",
      "Train 24: Time 0.122s (it:0.097s) Data:0.010s (it:0.007s) Loss 1.0608e+00 : 100%|██████████| 429/429 [00:52<00:00,  8.17it/s]\n",
      "Evaluate 24: Time 0.041s (it:0.031s) Data:0.008s (it:0.007s) Loss 1.0968e+00 : 100%|██████████| 143/143 [00:05<00:00, 24.23it/s]\n",
      "Train 25: Time 0.122s (it:0.131s) Data:0.010s (it:0.020s) Loss 1.0607e+00 : 100%|██████████| 429/429 [00:52<00:00,  8.22it/s]\n",
      "Evaluate 25: Time 0.047s (it:0.045s) Data:0.010s (it:0.015s) Loss 1.0893e+00 : 100%|██████████| 143/143 [00:06<00:00, 21.22it/s]\n",
      "Train 26: Time 0.120s (it:0.095s) Data:0.009s (it:0.010s) Loss 1.0580e+00 : 100%|██████████| 429/429 [00:51<00:00,  8.36it/s]\n",
      "Evaluate 26: Time 0.035s (it:0.024s) Data:0.006s (it:0.004s) Loss 1.0880e+00 : 100%|██████████| 143/143 [00:05<00:00, 28.29it/s]\n",
      "Train 27: Time 0.112s (it:0.090s) Data:0.007s (it:0.007s) Loss 1.0572e+00 : 100%|██████████| 429/429 [00:48<00:00,  8.93it/s]\n",
      "Evaluate 27: Time 0.035s (it:0.030s) Data:0.006s (it:0.004s) Loss 1.0906e+00 : 100%|██████████| 143/143 [00:05<00:00, 28.56it/s]\n",
      "Train 28: Time 0.111s (it:0.092s) Data:0.007s (it:0.008s) Loss 1.0562e+00 : 100%|██████████| 429/429 [00:47<00:00,  9.00it/s]\n",
      "Evaluate 28: Time 0.035s (it:0.025s) Data:0.006s (it:0.003s) Loss 1.0868e+00 : 100%|██████████| 143/143 [00:04<00:00, 28.64it/s]\n",
      "Train 29: Time 0.111s (it:0.091s) Data:0.007s (it:0.007s) Loss 1.0550e+00 : 100%|██████████| 429/429 [00:47<00:00,  9.01it/s]\n",
      "Evaluate 29: Time 0.035s (it:0.025s) Data:0.005s (it:0.004s) Loss 1.0915e+00 : 100%|██████████| 143/143 [00:04<00:00, 28.74it/s]\n",
      "Train 30: Time 0.112s (it:0.103s) Data:0.007s (it:0.008s) Loss 1.0543e+00 : 100%|██████████| 429/429 [00:47<00:00,  8.97it/s]\n",
      "Evaluate 30: Time 0.036s (it:0.024s) Data:0.006s (it:0.004s) Loss 1.0945e+00 : 100%|██████████| 143/143 [00:05<00:00, 27.69it/s]\n",
      "Train 31: Time 0.113s (it:0.099s) Data:0.008s (it:0.012s) Loss 1.0529e+00 : 100%|██████████| 429/429 [00:48<00:00,  8.88it/s]\n",
      "Evaluate 31: Time 0.038s (it:0.027s) Data:0.007s (it:0.006s) Loss 1.0894e+00 : 100%|██████████| 143/143 [00:05<00:00, 26.12it/s]\n",
      "Test (cls): Time 0.039s (it:0.025s) Data:0.009s (it:0.005s) : 100%|██████████| 143/143 [00:05<00:00, 25.83it/s]\n",
      "2022-12-10 10:08:15,028 [MainThread  ] [INFO ]  Validation performance at epoch 31 -> 0.36433798416241225\n"
     ]
    },
    {
     "name": "stdout",
     "output_type": "stream",
     "text": [
      "0.36433798416241225 [0.3762602768102769, 0.5427980082046558, 0.46233949353875936, 0.5634202027130297, 0.23522149744119764, 0.24940679903159205, 0.2652760072817545, 0.377272266550181, 0.5879098046364524, 0.5204075791502774, 0.36117730275754667, 0.2557287226505006, 0.3577454913032962, 0.622781360801185, 0.33774888869197284, 0.02823161622540604, 0.05002041297292402]\n"
     ]
    },
    {
     "name": "stderr",
     "output_type": "stream",
     "text": [
      "Train 32: Time 0.115s (it:0.090s) Data:0.009s (it:0.009s) Loss 1.0518e+00 : 100%|██████████| 429/429 [00:49<00:00,  8.70it/s]\n",
      "Evaluate 32: Time 0.036s (it:0.026s) Data:0.008s (it:0.005s) Loss 1.0871e+00 : 100%|██████████| 143/143 [00:05<00:00, 27.41it/s]\n",
      "Train 33: Time 0.111s (it:0.093s) Data:0.008s (it:0.009s) Loss 1.0505e+00 : 100%|██████████| 429/429 [00:47<00:00,  9.02it/s]\n",
      "Evaluate 33: Time 0.036s (it:0.025s) Data:0.006s (it:0.005s) Loss 1.0893e+00 : 100%|██████████| 143/143 [00:05<00:00, 27.94it/s]\n",
      "2022-12-10 10:10:02,230 [MainThread  ] [INFO ]  Plateau Reached!\n"
     ]
    },
    {
     "name": "stdout",
     "output_type": "stream",
     "text": [
      "Epoch 00033: reducing learning rate of group 0 to 1.0000e-04.\n"
     ]
    },
    {
     "name": "stderr",
     "output_type": "stream",
     "text": [
      "Train 34: Time 0.113s (it:0.096s) Data:0.008s (it:0.008s) Loss 1.0370e+00 : 100%|██████████| 429/429 [00:48<00:00,  8.87it/s]\n",
      "Evaluate 34: Time 0.035s (it:0.026s) Data:0.006s (it:0.004s) Loss 1.0897e+00 : 100%|██████████| 143/143 [00:05<00:00, 28.57it/s]\n",
      "Train 35: Time 0.114s (it:0.107s) Data:0.008s (it:0.012s) Loss 1.0354e+00 : 100%|██████████| 429/429 [00:48<00:00,  8.78it/s]\n",
      "Evaluate 35: Time 0.037s (it:0.025s) Data:0.007s (it:0.005s) Loss 1.0899e+00 : 100%|██████████| 143/143 [00:05<00:00, 27.01it/s]\n",
      "Train 36: Time 0.116s (it:0.097s) Data:0.010s (it:0.012s) Loss 1.0347e+00 : 100%|██████████| 429/429 [00:49<00:00,  8.59it/s]\n",
      "Evaluate 36: Time 0.036s (it:0.025s) Data:0.006s (it:0.005s) Loss 1.0897e+00 : 100%|██████████| 143/143 [00:05<00:00, 27.64it/s]\n",
      "Train 37: Time 0.115s (it:0.092s) Data:0.008s (it:0.008s) Loss 1.0340e+00 : 100%|██████████| 429/429 [00:49<00:00,  8.68it/s]\n",
      "Evaluate 37: Time 0.036s (it:0.025s) Data:0.006s (it:0.005s) Loss 1.0907e+00 : 100%|██████████| 143/143 [00:05<00:00, 27.53it/s]\n",
      "Train 38: Time 0.115s (it:0.093s) Data:0.008s (it:0.008s) Loss 1.0332e+00 : 100%|██████████| 429/429 [00:49<00:00,  8.73it/s]\n",
      "Evaluate 38: Time 0.036s (it:0.025s) Data:0.006s (it:0.004s) Loss 1.0924e+00 : 100%|██████████| 143/143 [00:05<00:00, 27.92it/s]\n",
      "Train 39: Time 0.114s (it:0.092s) Data:0.008s (it:0.007s) Loss 1.0331e+00 : 100%|██████████| 429/429 [00:48<00:00,  8.76it/s]\n",
      "Evaluate 39: Time 0.040s (it:0.034s) Data:0.007s (it:0.006s) Loss 1.0905e+00 : 100%|██████████| 143/143 [00:05<00:00, 25.17it/s]\n",
      "Train 40: Time 0.115s (it:0.100s) Data:0.008s (it:0.012s) Loss 1.0325e+00 : 100%|██████████| 429/429 [00:49<00:00,  8.67it/s]\n",
      "Evaluate 40: Time 0.036s (it:0.025s) Data:0.006s (it:0.004s) Loss 1.0915e+00 : 100%|██████████| 143/143 [00:05<00:00, 27.73it/s]\n",
      "Train 41: Time 0.114s (it:0.087s) Data:0.008s (it:0.007s) Loss 1.0319e+00 : 100%|██████████| 429/429 [00:49<00:00,  8.74it/s]\n",
      "Evaluate 41: Time 0.035s (it:0.024s) Data:0.005s (it:0.003s) Loss 1.0924e+00 : 100%|██████████| 143/143 [00:04<00:00, 28.81it/s]\n",
      "Test (cls): Time 0.034s (it:0.024s) Data:0.005s (it:0.003s) : 100%|██████████| 143/143 [00:04<00:00, 29.40it/s]\n",
      "2022-12-10 10:17:22,141 [MainThread  ] [INFO ]  Validation performance at epoch 41 -> 0.3760212666631752\n"
     ]
    },
    {
     "name": "stdout",
     "output_type": "stream",
     "text": [
      "0.3760212666631752 [0.4017112085845904, 0.5484167065132528, 0.46859886661972416, 0.5757018921165387, 0.23951594553257044, 0.2542918707663591, 0.2707752897574849, 0.3938468784285926, 0.5868660007140587, 0.5307021645428525, 0.3680679134648527, 0.2606253784202792, 0.373463586062891, 0.6439013938223289, 0.3593560190479618, 0.02717827320058427, 0.08934214567905548]\n"
     ]
    },
    {
     "name": "stderr",
     "output_type": "stream",
     "text": [
      "Train 42: Time 0.109s (it:0.092s) Data:0.007s (it:0.007s) Loss 1.0318e+00 : 100%|██████████| 429/429 [00:46<00:00,  9.17it/s]\n",
      "Evaluate 42: Time 0.034s (it:0.024s) Data:0.005s (it:0.004s) Loss 1.0933e+00 : 100%|██████████| 143/143 [00:04<00:00, 29.38it/s]\n",
      "Train 43: Time 0.108s (it:0.089s) Data:0.007s (it:0.006s) Loss 1.0315e+00 : 100%|██████████| 429/429 [00:46<00:00,  9.25it/s]\n",
      "Evaluate 43: Time 0.035s (it:0.030s) Data:0.005s (it:0.004s) Loss 1.0929e+00 : 100%|██████████| 143/143 [00:05<00:00, 28.49it/s]\n",
      "Train 44: Time 0.108s (it:0.089s) Data:0.007s (it:0.006s) Loss 1.0310e+00 : 100%|██████████| 429/429 [00:46<00:00,  9.24it/s]\n",
      "Evaluate 44: Time 0.034s (it:0.024s) Data:0.005s (it:0.003s) Loss 1.0937e+00 : 100%|██████████| 143/143 [00:04<00:00, 29.53it/s]\n",
      "2022-12-10 10:19:56,486 [MainThread  ] [INFO ]  Plateau Reached!\n"
     ]
    },
    {
     "name": "stdout",
     "output_type": "stream",
     "text": [
      "Epoch 00044: reducing learning rate of group 0 to 1.0000e-05.\n"
     ]
    },
    {
     "name": "stderr",
     "output_type": "stream",
     "text": [
      "Train 45: Time 0.108s (it:0.090s) Data:0.007s (it:0.007s) Loss 1.0293e+00 : 100%|██████████| 429/429 [00:46<00:00,  9.27it/s]\n",
      "Evaluate 45: Time 0.035s (it:0.024s) Data:0.005s (it:0.003s) Loss 1.0927e+00 : 100%|██████████| 143/143 [00:04<00:00, 28.78it/s]\n",
      "Train 46: Time 0.106s (it:0.085s) Data:0.007s (it:0.007s) Loss 1.0288e+00 : 100%|██████████| 429/429 [00:45<00:00,  9.40it/s]\n",
      "Evaluate 46: Time 0.033s (it:0.024s) Data:0.005s (it:0.003s) Loss 1.0932e+00 : 100%|██████████| 143/143 [00:04<00:00, 30.39it/s]\n",
      "Train 47: Time 0.105s (it:0.083s) Data:0.007s (it:0.007s) Loss 1.0286e+00 : 100%|██████████| 429/429 [00:44<00:00,  9.56it/s]\n",
      "Evaluate 47: Time 0.033s (it:0.023s) Data:0.005s (it:0.003s) Loss 1.0931e+00 : 100%|██████████| 143/143 [00:04<00:00, 30.04it/s]\n",
      "Train 48: Time 0.105s (it:0.087s) Data:0.007s (it:0.007s) Loss 1.0287e+00 : 100%|██████████| 429/429 [00:44<00:00,  9.56it/s]\n",
      "Evaluate 48: Time 0.033s (it:0.022s) Data:0.005s (it:0.003s) Loss 1.0935e+00 : 100%|██████████| 143/143 [00:04<00:00, 30.32it/s]\n",
      "Train 49: Time 0.105s (it:0.086s) Data:0.007s (it:0.006s) Loss 1.0287e+00 : 100%|██████████| 429/429 [00:44<00:00,  9.55it/s]\n",
      "Evaluate 49: Time 0.033s (it:0.022s) Data:0.005s (it:0.003s) Loss 1.0933e+00 : 100%|██████████| 143/143 [00:04<00:00, 29.91it/s]\n",
      "Train 50: Time 0.108s (it:0.087s) Data:0.007s (it:0.007s) Loss 1.0284e+00 : 100%|██████████| 429/429 [00:46<00:00,  9.29it/s]\n",
      "Evaluate 50: Time 0.034s (it:0.023s) Data:0.005s (it:0.003s) Loss 1.0932e+00 : 100%|██████████| 143/143 [00:04<00:00, 29.63it/s]\n",
      "Train 51: Time 0.107s (it:0.086s) Data:0.007s (it:0.007s) Loss 1.0284e+00 : 100%|██████████| 429/429 [00:45<00:00,  9.38it/s]\n",
      "Evaluate 51: Time 0.034s (it:0.023s) Data:0.005s (it:0.003s) Loss 1.0935e+00 : 100%|██████████| 143/143 [00:04<00:00, 29.70it/s]\n",
      "Test (cls): Time 0.032s (it:0.023s) Data:0.005s (it:0.003s) : 100%|██████████| 143/143 [00:04<00:00, 31.11it/s]\n",
      "2022-12-10 10:25:53,349 [MainThread  ] [INFO ]  Validation performance at epoch 51 -> 0.37627074103098357\n"
     ]
    },
    {
     "name": "stdout",
     "output_type": "stream",
     "text": [
      "0.37627074103098357 [0.39785738056309755, 0.5475625636851676, 0.4687797477138857, 0.5777311705041188, 0.23894470453265468, 0.2547772948048365, 0.2706404110084447, 0.3946266686674835, 0.5879617998345978, 0.5313341530660682, 0.3678727460267832, 0.26051081997177017, 0.37643340648904916, 0.6422327608697777, 0.36441768333014324, 0.027119632918640856, 0.08779965354020079]\n"
     ]
    },
    {
     "name": "stderr",
     "output_type": "stream",
     "text": [
      "Train 52: Time 0.107s (it:0.087s) Data:0.007s (it:0.008s) Loss 1.0287e+00 : 100%|██████████| 429/429 [00:45<00:00,  9.38it/s]\n",
      "Evaluate 52: Time 0.033s (it:0.022s) Data:0.005s (it:0.003s) Loss 1.0935e+00 : 100%|██████████| 143/143 [00:04<00:00, 29.88it/s]\n",
      "Train 53: Time 0.106s (it:0.087s) Data:0.007s (it:0.007s) Loss 1.0284e+00 : 100%|██████████| 429/429 [00:45<00:00,  9.40it/s]\n",
      "Evaluate 53: Time 0.034s (it:0.023s) Data:0.005s (it:0.003s) Loss 1.0936e+00 : 100%|██████████| 143/143 [00:04<00:00, 29.70it/s]\n",
      "Train 54: Time 0.108s (it:0.090s) Data:0.007s (it:0.007s) Loss 1.0283e+00 : 100%|██████████| 429/429 [00:46<00:00,  9.29it/s]\n",
      "Evaluate 54: Time 0.034s (it:0.023s) Data:0.005s (it:0.003s) Loss 1.0935e+00 : 100%|██████████| 143/143 [00:04<00:00, 29.45it/s]\n",
      "Train 55: Time 0.111s (it:0.086s) Data:0.008s (it:0.007s) Loss 1.0283e+00 : 100%|██████████| 429/429 [00:47<00:00,  9.01it/s]\n",
      "Evaluate 55: Time 0.034s (it:0.023s) Data:0.005s (it:0.003s) Loss 1.0938e+00 : 100%|██████████| 143/143 [00:04<00:00, 29.33it/s]\n",
      "2022-12-10 10:29:17,844 [MainThread  ] [INFO ]  Plateau Reached!\n"
     ]
    },
    {
     "name": "stdout",
     "output_type": "stream",
     "text": [
      "Epoch 00055: reducing learning rate of group 0 to 1.0000e-06.\n"
     ]
    },
    {
     "name": "stderr",
     "output_type": "stream",
     "text": [
      "Train 56: Time 0.107s (it:0.091s) Data:0.007s (it:0.006s) Loss 1.0282e+00 : 100%|██████████| 429/429 [00:46<00:00,  9.32it/s]\n",
      "Evaluate 56: Time 0.034s (it:0.023s) Data:0.005s (it:0.003s) Loss 1.0936e+00 : 100%|██████████| 143/143 [00:04<00:00, 29.00it/s]\n",
      "Train 57: Time 0.108s (it:0.089s) Data:0.007s (it:0.007s) Loss 1.0280e+00 : 100%|██████████| 429/429 [00:46<00:00,  9.29it/s]\n",
      "Evaluate 57: Time 0.034s (it:0.023s) Data:0.005s (it:0.003s) Loss 1.0935e+00 : 100%|██████████| 143/143 [00:04<00:00, 29.57it/s]\n",
      "Train 58: Time 0.107s (it:0.086s) Data:0.007s (it:0.006s) Loss 1.0281e+00 : 100%|██████████| 429/429 [00:45<00:00,  9.33it/s]\n",
      "Evaluate 58: Time 0.033s (it:0.023s) Data:0.005s (it:0.003s) Loss 1.0935e+00 : 100%|██████████| 143/143 [00:04<00:00, 29.96it/s]\n",
      "Train 59: Time 0.107s (it:0.089s) Data:0.007s (it:0.007s) Loss 1.0281e+00 : 100%|██████████| 429/429 [00:45<00:00,  9.34it/s]\n",
      "Evaluate 59: Time 0.034s (it:0.024s) Data:0.005s (it:0.003s) Loss 1.0935e+00 : 100%|██████████| 143/143 [00:04<00:00, 29.07it/s]\n",
      "Train 60: Time 0.106s (it:0.086s) Data:0.007s (it:0.007s) Loss 1.0281e+00 : 100%|██████████| 429/429 [00:45<00:00,  9.47it/s]\n",
      "Evaluate 60: Time 0.035s (it:0.024s) Data:0.005s (it:0.003s) Loss 1.0935e+00 : 100%|██████████| 143/143 [00:04<00:00, 28.97it/s]\n",
      "Train 61: Time 0.107s (it:0.091s) Data:0.007s (it:0.007s) Loss 1.0279e+00 : 100%|██████████| 429/429 [00:45<00:00,  9.37it/s]\n",
      "Evaluate 61: Time 0.034s (it:0.024s) Data:0.005s (it:0.005s) Loss 1.0935e+00 : 100%|██████████| 143/143 [00:04<00:00, 29.35it/s]\n",
      "Test (cls): Time 0.033s (it:0.023s) Data:0.005s (it:0.003s) : 100%|██████████| 143/143 [00:04<00:00, 30.63it/s]\n",
      "2022-12-10 10:34:27,161 [MainThread  ] [INFO ]  Validation performance at epoch 61 -> 0.3762786345133004\n"
     ]
    },
    {
     "name": "stdout",
     "output_type": "stream",
     "text": [
      "0.3762786345133004 [0.3985838270357475, 0.5478012822472271, 0.4690643390720771, 0.577746243453221, 0.2389034464354189, 0.2545982085682952, 0.2705474983828046, 0.3950643828599207, 0.5876713442039634, 0.5309364450436937, 0.36776877519832896, 0.26026273675599904, 0.3763169137491332, 0.6424189893800517, 0.3640358982773505, 0.0272614719217298, 0.08775498414114521]\n"
     ]
    },
    {
     "name": "stderr",
     "output_type": "stream",
     "text": [
      "Train 62: Time 0.105s (it:0.090s) Data:0.007s (it:0.007s) Loss 1.0281e+00 : 100%|██████████| 429/429 [00:45<00:00,  9.52it/s]\n",
      "Evaluate 62: Time 0.033s (it:0.023s) Data:0.005s (it:0.003s) Loss 1.0935e+00 : 100%|██████████| 143/143 [00:04<00:00, 29.91it/s]\n",
      "Train 63: Time 0.106s (it:0.088s) Data:0.007s (it:0.008s) Loss 1.0279e+00 : 100%|██████████| 429/429 [00:45<00:00,  9.42it/s]\n",
      "Evaluate 63: Time 0.034s (it:0.023s) Data:0.005s (it:0.003s) Loss 1.0935e+00 : 100%|██████████| 143/143 [00:04<00:00, 29.67it/s]\n",
      "Train 64: Time 0.107s (it:0.085s) Data:0.007s (it:0.007s) Loss 1.0281e+00 : 100%|██████████| 429/429 [00:46<00:00,  9.32it/s]\n",
      "Evaluate 64: Time 0.033s (it:0.022s) Data:0.005s (it:0.003s) Loss 1.0935e+00 : 100%|██████████| 143/143 [00:04<00:00, 30.35it/s]\n",
      "Train 65: Time 0.106s (it:0.087s) Data:0.007s (it:0.007s) Loss 1.0280e+00 : 100%|██████████| 429/429 [00:45<00:00,  9.41it/s]\n",
      "Evaluate 65: Time 0.033s (it:0.022s) Data:0.005s (it:0.003s) Loss 1.0935e+00 : 100%|██████████| 143/143 [00:04<00:00, 30.07it/s]\n",
      "Train 66: Time 0.107s (it:0.090s) Data:0.007s (it:0.007s) Loss 1.0282e+00 : 100%|██████████| 429/429 [00:45<00:00,  9.39it/s]\n",
      "Evaluate 66: Time 0.034s (it:0.023s) Data:0.005s (it:0.003s) Loss 1.0936e+00 : 100%|██████████| 143/143 [00:04<00:00, 29.16it/s]\n",
      "2022-12-10 10:38:39,095 [MainThread  ] [INFO ]  Plateau Reached!\n"
     ]
    },
    {
     "name": "stdout",
     "output_type": "stream",
     "text": [
      "Epoch 00066: reducing learning rate of group 0 to 1.0000e-07.\n"
     ]
    },
    {
     "name": "stderr",
     "output_type": "stream",
     "text": [
      "Train 67: Time 0.106s (it:0.090s) Data:0.007s (it:0.007s) Loss 1.0281e+00 : 100%|██████████| 429/429 [00:45<00:00,  9.47it/s]\n",
      "Evaluate 67: Time 0.034s (it:0.023s) Data:0.005s (it:0.003s) Loss 1.0936e+00 : 100%|██████████| 143/143 [00:04<00:00, 29.72it/s]\n",
      "Train 68: Time 0.108s (it:0.087s) Data:0.007s (it:0.007s) Loss 1.0279e+00 : 100%|██████████| 429/429 [00:46<00:00,  9.27it/s]\n",
      "Evaluate 68: Time 0.033s (it:0.022s) Data:0.005s (it:0.003s) Loss 1.0936e+00 : 100%|██████████| 143/143 [00:04<00:00, 30.41it/s]\n",
      "Train 69: Time 0.106s (it:0.085s) Data:0.007s (it:0.009s) Loss 1.0279e+00 : 100%|██████████| 429/429 [00:45<00:00,  9.48it/s]\n",
      "Evaluate 69: Time 0.033s (it:0.023s) Data:0.005s (it:0.003s) Loss 1.0936e+00 : 100%|██████████| 143/143 [00:04<00:00, 29.86it/s]\n",
      "Train 70: Time 0.107s (it:0.090s) Data:0.007s (it:0.007s) Loss 1.0281e+00 : 100%|██████████| 429/429 [00:45<00:00,  9.37it/s]\n",
      "Evaluate 70: Time 0.034s (it:0.022s) Data:0.005s (it:0.003s) Loss 1.0936e+00 : 100%|██████████| 143/143 [00:04<00:00, 29.30it/s]\n",
      "Train 71: Time 0.108s (it:0.091s) Data:0.007s (it:0.007s) Loss 1.0281e+00 : 100%|██████████| 429/429 [00:46<00:00,  9.28it/s]\n",
      "Evaluate 71: Time 0.034s (it:0.023s) Data:0.005s (it:0.003s) Loss 1.0936e+00 : 100%|██████████| 143/143 [00:04<00:00, 29.20it/s]\n",
      "Test (cls): Time 0.033s (it:0.025s) Data:0.005s (it:0.003s) : 100%|██████████| 143/143 [00:04<00:00, 30.10it/s]\n",
      "2022-12-10 10:42:56,902 [MainThread  ] [INFO ]  Validation performance at epoch 71 -> 0.3763828740228089\n"
     ]
    },
    {
     "name": "stdout",
     "output_type": "stream",
     "text": [
      "0.3763828740228089 [0.39932567521949774, 0.5477334132947013, 0.46903712023644284, 0.5777766651739908, 0.23886130142637207, 0.2546381437747125, 0.2705689514844255, 0.3950187912458356, 0.5876321428211604, 0.5310200125937763, 0.3677974678264961, 0.26021055605923327, 0.3766300361850272, 0.6425615412915888, 0.3639613893282501, 0.027252712194889662, 0.08848293823135088]\n"
     ]
    },
    {
     "name": "stderr",
     "output_type": "stream",
     "text": [
      "Train 72: Time 0.109s (it:0.096s) Data:0.008s (it:0.007s) Loss 1.0281e+00 : 100%|██████████| 429/429 [00:46<00:00,  9.15it/s]\n",
      "Evaluate 72: Time 0.034s (it:0.022s) Data:0.005s (it:0.003s) Loss 1.0936e+00 : 100%|██████████| 143/143 [00:04<00:00, 29.29it/s]\n",
      "Train 73: Time 0.107s (it:0.092s) Data:0.007s (it:0.006s) Loss 1.0280e+00 : 100%|██████████| 429/429 [00:46<00:00,  9.32it/s]\n",
      "Evaluate 73: Time 0.034s (it:0.024s) Data:0.005s (it:0.004s) Loss 1.0936e+00 : 100%|██████████| 143/143 [00:04<00:00, 29.64it/s]\n",
      "Train 74: Time 0.109s (it:0.089s) Data:0.007s (it:0.007s) Loss 1.0281e+00 : 100%|██████████| 429/429 [00:46<00:00,  9.14it/s]\n",
      "Evaluate 74: Time 0.033s (it:0.023s) Data:0.005s (it:0.004s) Loss 1.0936e+00 : 100%|██████████| 143/143 [00:04<00:00, 29.86it/s]\n",
      "Train 75: Time 0.106s (it:0.085s) Data:0.007s (it:0.007s) Loss 1.0279e+00 : 100%|██████████| 429/429 [00:45<00:00,  9.46it/s]\n",
      "Evaluate 75: Time 0.033s (it:0.026s) Data:0.005s (it:0.006s) Loss 1.0936e+00 : 100%|██████████| 143/143 [00:04<00:00, 30.11it/s]\n",
      "Train 76: Time 0.110s (it:0.085s) Data:0.008s (it:0.008s) Loss 1.0280e+00 : 100%|██████████| 429/429 [00:47<00:00,  9.11it/s]\n",
      "Evaluate 76: Time 0.034s (it:0.024s) Data:0.005s (it:0.004s) Loss 1.0936e+00 : 100%|██████████| 143/143 [00:04<00:00, 29.53it/s]\n",
      "Train 77: Time 0.105s (it:0.086s) Data:0.007s (it:0.006s) Loss 1.0283e+00 : 100%|██████████| 429/429 [00:44<00:00,  9.55it/s]\n",
      "Evaluate 77: Time 0.033s (it:0.023s) Data:0.005s (it:0.004s) Loss 1.0936e+00 : 100%|██████████| 143/143 [00:04<00:00, 30.42it/s]\n",
      "2022-12-10 10:48:02,933 [MainThread  ] [INFO ]  Plateau Reached!\n"
     ]
    },
    {
     "name": "stdout",
     "output_type": "stream",
     "text": [
      "Epoch 00077: reducing learning rate of group 0 to 1.0000e-08.\n"
     ]
    },
    {
     "name": "stderr",
     "output_type": "stream",
     "text": [
      "Train 78: Time 0.104s (it:0.085s) Data:0.007s (it:0.007s) Loss 1.0280e+00 : 100%|██████████| 429/429 [00:44<00:00,  9.66it/s]\n",
      "Evaluate 78: Time 0.033s (it:0.022s) Data:0.005s (it:0.003s) Loss 1.0936e+00 : 100%|██████████| 143/143 [00:04<00:00, 30.64it/s]\n",
      "Train 79: Time 0.103s (it:0.084s) Data:0.007s (it:0.007s) Loss 1.0282e+00 : 100%|██████████| 429/429 [00:44<00:00,  9.72it/s]\n",
      "Evaluate 79: Time 0.032s (it:0.022s) Data:0.005s (it:0.003s) Loss 1.0936e+00 : 100%|██████████| 143/143 [00:04<00:00, 30.85it/s]\n",
      "Train 80: Time 0.108s (it:0.091s) Data:0.007s (it:0.007s) Loss 1.0280e+00 : 100%|██████████| 429/429 [00:46<00:00,  9.22it/s]\n",
      "Evaluate 80: Time 0.035s (it:0.026s) Data:0.005s (it:0.005s) Loss 1.0936e+00 : 100%|██████████| 143/143 [00:04<00:00, 28.71it/s]\n",
      "Train 81: Time 0.109s (it:0.089s) Data:0.007s (it:0.008s) Loss 1.0279e+00 : 100%|██████████| 429/429 [00:46<00:00,  9.21it/s]\n",
      "Evaluate 81: Time 0.034s (it:0.024s) Data:0.005s (it:0.004s) Loss 1.0936e+00 : 100%|██████████| 143/143 [00:04<00:00, 29.20it/s]\n",
      "Test (cls): Time 0.033s (it:0.024s) Data:0.005s (it:0.004s) : 100%|██████████| 143/143 [00:04<00:00, 30.51it/s]\n",
      "2022-12-10 10:51:28,637 [MainThread  ] [INFO ]  Validation performance at epoch 81 -> 0.3763730032399813\n"
     ]
    },
    {
     "name": "stdout",
     "output_type": "stream",
     "text": [
      "0.3763730032399813 [0.3993648637169334, 0.5477736744981052, 0.46911478506629367, 0.5777681531790996, 0.23886179389391907, 0.25464693943344, 0.27054122294351457, 0.39504211993950467, 0.5876448042952178, 0.5310402703783207, 0.36780307464497997, 0.2602223780905837, 0.376657304162429, 0.6425365700097265, 0.36405910793403407, 0.027256041065464445, 0.08800795182811591]\n"
     ]
    },
    {
     "name": "stderr",
     "output_type": "stream",
     "text": [
      "Train 82: Time 0.107s (it:0.089s) Data:0.007s (it:0.008s) Loss 1.0279e+00 : 100%|██████████| 429/429 [00:45<00:00,  9.35it/s]\n",
      "Evaluate 82: Time 0.034s (it:0.024s) Data:0.005s (it:0.005s) Loss 1.0936e+00 : 100%|██████████| 143/143 [00:04<00:00, 29.38it/s]\n",
      "Train 83: Time 0.107s (it:0.089s) Data:0.007s (it:0.007s) Loss 1.0279e+00 : 100%|██████████| 429/429 [00:45<00:00,  9.34it/s]\n",
      "Evaluate 83: Time 0.034s (it:0.024s) Data:0.005s (it:0.004s) Loss 1.0936e+00 : 100%|██████████| 143/143 [00:04<00:00, 29.14it/s]\n",
      "Train 84: Time 0.107s (it:0.091s) Data:0.007s (it:0.007s) Loss 1.0280e+00 : 100%|██████████| 429/429 [00:46<00:00,  9.31it/s]\n",
      "Evaluate 84: Time 0.035s (it:0.024s) Data:0.005s (it:0.004s) Loss 1.0936e+00 : 100%|██████████| 143/143 [00:04<00:00, 28.79it/s]\n",
      "Train 85: Time 0.107s (it:0.090s) Data:0.007s (it:0.006s) Loss 1.0283e+00 : 100%|██████████| 429/429 [00:46<00:00,  9.32it/s]\n",
      "Evaluate 85: Time 0.034s (it:0.023s) Data:0.005s (it:0.003s) Loss 1.0936e+00 : 100%|██████████| 143/143 [00:04<00:00, 29.16it/s]\n",
      "Train 86: Time 0.107s (it:0.088s) Data:0.007s (it:0.006s) Loss 1.0281e+00 : 100%|██████████| 429/429 [00:46<00:00,  9.31it/s]\n",
      "Evaluate 86: Time 0.034s (it:0.023s) Data:0.005s (it:0.004s) Loss 1.0936e+00 : 100%|██████████| 143/143 [00:04<00:00, 29.35it/s]\n",
      "Train 87: Time 0.108s (it:0.088s) Data:0.007s (it:0.006s) Loss 1.0280e+00 : 100%|██████████| 429/429 [00:46<00:00,  9.29it/s]\n",
      "Evaluate 87: Time 0.034s (it:0.023s) Data:0.005s (it:0.003s) Loss 1.0936e+00 : 100%|██████████| 143/143 [00:04<00:00, 29.40it/s]\n",
      "2022-12-10 10:56:34,245 [MainThread  ] [INFO ]  Plateau Reached and no more reduction -> Exiting Loop\n",
      "2022-12-10 10:56:34,498 [MainThread  ] [INFO ]  Checking/Download features and labels locally\n",
      "Test (spot.): Time 1.445s (it:1.351s) Data:0.173s (it:0.156s) : 100%|██████████| 100/100 [02:24<00:00,  1.45s/it]\n",
      "100%|██████████| 100/100 [00:01<00:00, 96.99it/s]\n",
      "100%|██████████| 12/12 [00:13<00:00,  1.15s/it]\n",
      "2022-12-10 10:59:14,777 [MainThread  ] [INFO ]  Best Performance at end of training \n",
      "2022-12-10 10:59:14,778 [MainThread  ] [INFO ]  a_mAP visibility all: 0.4508171514489128\n",
      "2022-12-10 10:59:14,778 [MainThread  ] [INFO ]  a_mAP visibility all per class: [0.41060352713868564, 0.5674188105422078, 0.6509145519289707, 0.6374314026313864, 0.3573171599584966, 0.3378147625341612, 0.36045940185500214, 0.4961967539554737, 0.6372016875670178, 0.5646689766811095, 0.5553312960043754, 0.4140643746724042, 0.44855065290910634, 0.7001244253899447, 0.4274463403996135, 0.056235254146310094, 0.04211219631725169]\n",
      "2022-12-10 10:59:14,779 [MainThread  ] [INFO ]  a_mAP visibility visible: 0.5094651367277234\n",
      "2022-12-10 10:59:14,779 [MainThread  ] [INFO ]  a_mAP visibility visible per class: [0.6100024458596226, 0.6630258704962835, 0.6660682262246395, 0.7011673521241873, 0.3780639004789565, 0.33990796836077947, 0.3629375271793781, 0.6005377746747139, 0.6402343084911931, 0.5901702658878457, 0.5588829803519508, 0.3855698394525407, 0.5163999441869671, 0.7084386091313315, 0.4697981072594617, 0.3239114302877102, 0.14579077392373682]\n",
      "2022-12-10 10:59:14,779 [MainThread  ] [INFO ]  a_mAP visibility unshown: 0.31059418377595477\n",
      "2022-12-10 10:59:14,779 [MainThread  ] [INFO ]  a_mAP visibility unshown per class: [0.0, 0.5244916913287593, 0.0, 0.2943916169427468, 0.20870806099807576, 0.046062633019154746, 0.0033590322416079997, 0.4036352684133339, 0.5642691206577103, 0.4953085896390277, 0.32295095895325243, 0.45208443660416187, 0.021893104485822826, 0.6566622928608434, 0.043907582942915586, 0.0, 0.0]\n",
      "2022-12-10 10:59:14,781 [MainThread  ] [INFO ]  Total Execution Time is 4797.85799407959 seconds\n"
     ]
    }
   ],
   "source": [
    "%run $training_file_name\\\n",
    "    --SoccerNet_path=$resnet_features_path\\\n",
    "    --model_name=NetVLAD++_vit_CE+CB\\\n",
    "    --features=custom_vit --seed 3 --LR=1e-3\\\n",
    "    --split_test=\"test\"\\\n",
    "    --custom_feature_path=$vit_features_path\\\n",
    "    --loss_function=CE+CB"
   ]
  },
  {
   "cell_type": "markdown",
   "metadata": {},
   "source": [
    "#### Experiment 3:  Vit Data + NetVladd + FL Loss"
   ]
  },
  {
   "cell_type": "code",
   "execution_count": 4,
   "metadata": {},
   "outputs": [
    {
     "name": "stderr",
     "output_type": "stream",
     "text": [
      "2022-12-10 11:43:28,434 [MainThread  ] [INFO ]  Starting main function\n",
      "2022-12-10 11:43:28,435 [MainThread  ] [INFO ]  Parameters:\n",
      "2022-12-10 11:43:28,435 [MainThread  ] [INFO ]   SoccerNet_path : /Users/srv/Documents/Cloud/Google Drive - Default/deep_learning_alphas_final_project/assets_pca\n",
      "2022-12-10 11:43:28,436 [MainThread  ] [INFO ]         features : custom_vit\n",
      "2022-12-10 11:43:28,436 [MainThread  ] [INFO ]       max_epochs : 1000\n",
      "2022-12-10 11:43:28,436 [MainThread  ] [INFO ]     load_weights : None\n",
      "2022-12-10 11:43:28,437 [MainThread  ] [INFO ]       model_name : NetVLAD++_vit_FL\n",
      "2022-12-10 11:43:28,437 [MainThread  ] [INFO ]        test_only : False\n",
      "2022-12-10 11:43:28,437 [MainThread  ] [INFO ]      split_train : ['train']\n",
      "2022-12-10 11:43:28,438 [MainThread  ] [INFO ]      split_valid : ['valid']\n",
      "2022-12-10 11:43:28,438 [MainThread  ] [INFO ]       split_test : ['test']\n",
      "2022-12-10 11:43:28,438 [MainThread  ] [INFO ]          version : 2\n",
      "2022-12-10 11:43:28,439 [MainThread  ] [INFO ]      feature_dim : None\n",
      "2022-12-10 11:43:28,439 [MainThread  ] [INFO ]  evaluation_frequency : 10\n",
      "2022-12-10 11:43:28,439 [MainThread  ] [INFO ]        framerate : 2\n",
      "2022-12-10 11:43:28,440 [MainThread  ] [INFO ]      window_size : 15\n",
      "2022-12-10 11:43:28,442 [MainThread  ] [INFO ]             pool : NetVLAD++\n",
      "2022-12-10 11:43:28,445 [MainThread  ] [INFO ]       vocab_size : 64\n",
      "2022-12-10 11:43:28,449 [MainThread  ] [INFO ]       NMS_window : 30\n",
      "2022-12-10 11:43:28,454 [MainThread  ] [INFO ]    NMS_threshold : 0.0\n",
      "2022-12-10 11:43:28,456 [MainThread  ] [INFO ]       batch_size : 256\n",
      "2022-12-10 11:43:28,456 [MainThread  ] [INFO ]               LR : 0.001\n",
      "2022-12-10 11:43:28,457 [MainThread  ] [INFO ]              LRe : 1e-06\n",
      "2022-12-10 11:43:28,458 [MainThread  ] [INFO ]         patience : 10\n",
      "2022-12-10 11:43:28,458 [MainThread  ] [INFO ]              GPU : 0\n",
      "2022-12-10 11:43:28,459 [MainThread  ] [INFO ]   max_num_worker : 1\n",
      "2022-12-10 11:43:28,460 [MainThread  ] [INFO ]             seed : 3\n",
      "2022-12-10 11:43:28,461 [MainThread  ] [INFO ]         loglevel : INFO\n",
      "2022-12-10 11:43:28,463 [MainThread  ] [INFO ]  custom_feature_path : /Users/srv/Documents/Cloud/Georgia Institute of Technology/Alphas - Documents/Project Data/vit_features\n",
      "2022-12-10 11:43:28,464 [MainThread  ] [INFO ]    loss_function : FL\n",
      "2022-12-10 11:43:28,464 [MainThread  ] [INFO ]           device : mps\n",
      "2022-12-10 11:43:28,466 [MainThread  ] [INFO ]  model_save_path : /Users/srv/Documents/Cloud/Georgia Institute of Technology/Alphas - Documents/Project Data/project_artefacts/NetVLAD++_vit_FL/mps_run_1\n",
      "2022-12-10 11:43:28,469 [MainThread  ] [INFO ]  Checking/Download features and labels locally\n",
      "2022-12-10 11:43:28,471 [MainThread  ] [INFO ]  Pre-compute clips\n",
      "100%|██████████| 300/300 [00:04<00:00, 64.28it/s] \n",
      "2022-12-10 11:43:38,293 [MainThread  ] [INFO ]  Checking/Download features and labels locally\n",
      "2022-12-10 11:43:38,293 [MainThread  ] [INFO ]  Pre-compute clips\n",
      "100%|██████████| 100/100 [00:01<00:00, 88.23it/s]\n",
      "2022-12-10 11:43:39,807 [MainThread  ] [INFO ]  Checking/Download features and labels locally\n",
      "2022-12-10 11:43:39,807 [MainThread  ] [INFO ]  Pre-compute clips\n",
      "100%|██████████| 100/100 [00:00<00:00, 139.00it/s]\n",
      "2022-12-10 11:43:40,918 [MainThread  ] [INFO ]  Checking/Download features and labels locally\n",
      "2022-12-10 11:43:40,995 [MainThread  ] [INFO ]  Model(\n",
      "  (feature_extractor): Linear(in_features=768, out_features=512, bias=True)\n",
      "  (pool_layer_before): NetVLAD()\n",
      "  (pool_layer_after): NetVLAD()\n",
      "  (fc): Linear(in_features=32768, out_features=18, bias=True)\n",
      "  (drop): Dropout(p=0.4, inplace=False)\n",
      "  (sigm): Sigmoid()\n",
      ")\n",
      "2022-12-10 11:43:40,996 [MainThread  ] [INFO ]  Total number of parameters: 1049106\n",
      "/Users/srv/Documents/Git/GaTech/dl_cse_7643/final_project/code/training_modules/loss.py:38: UserWarning: To copy construct from a tensor, it is recommended to use sourceTensor.clone().detach() or sourceTensor.clone().detach().requires_grad_(True), rather than torch.tensor(sourceTensor).\n",
      "  self.weight = torch.tensor(weight).float()\n",
      "2022-12-10 11:43:41,006 [MainThread  ] [INFO ]  start training\n"
     ]
    },
    {
     "name": "stdout",
     "output_type": "stream",
     "text": [
      "feature_dim found: 768\n",
      "gamma = 1\n"
     ]
    },
    {
     "name": "stderr",
     "output_type": "stream",
     "text": [
      "Train 1: Time 0.100s (it:0.111s) Data:0.013s (it:0.011s) Loss 5.9404e-01 : 100%|██████████| 429/429 [00:42<00:00, 10.01it/s]\n",
      "Evaluate 1: Time 0.033s (it:0.047s) Data:0.005s (it:0.004s) Loss 5.8161e-01 : 100%|██████████| 143/143 [00:04<00:00, 30.32it/s]\n",
      "Train 2: Time 0.105s (it:0.086s) Data:0.007s (it:0.008s) Loss 5.7945e-01 : 100%|██████████| 429/429 [00:45<00:00,  9.53it/s]\n",
      "Evaluate 2: Time 0.033s (it:0.024s) Data:0.005s (it:0.004s) Loss 5.7664e-01 : 100%|██████████| 143/143 [00:04<00:00, 30.62it/s]\n",
      "Train 3: Time 0.104s (it:0.085s) Data:0.007s (it:0.008s) Loss 5.7394e-01 : 100%|██████████| 429/429 [00:44<00:00,  9.58it/s]\n",
      "Evaluate 3: Time 0.032s (it:0.025s) Data:0.005s (it:0.004s) Loss 5.7242e-01 : 100%|██████████| 143/143 [00:04<00:00, 30.79it/s]\n",
      "Train 4: Time 0.105s (it:0.085s) Data:0.007s (it:0.008s) Loss 5.7049e-01 : 100%|██████████| 429/429 [00:44<00:00,  9.55it/s]\n",
      "Evaluate 4: Time 0.032s (it:0.023s) Data:0.005s (it:0.004s) Loss 5.6960e-01 : 100%|██████████| 143/143 [00:04<00:00, 31.16it/s]\n",
      "Train 5: Time 0.107s (it:0.085s) Data:0.008s (it:0.007s) Loss 5.6753e-01 : 100%|██████████| 429/429 [00:45<00:00,  9.36it/s]\n",
      "Evaluate 5: Time 0.033s (it:0.024s) Data:0.005s (it:0.004s) Loss 5.6789e-01 : 100%|██████████| 143/143 [00:04<00:00, 29.85it/s]\n",
      "Train 6: Time 0.105s (it:0.086s) Data:0.007s (it:0.007s) Loss 5.6507e-01 : 100%|██████████| 429/429 [00:45<00:00,  9.48it/s]\n",
      "Evaluate 6: Time 0.032s (it:0.023s) Data:0.005s (it:0.004s) Loss 5.6770e-01 : 100%|██████████| 143/143 [00:04<00:00, 30.90it/s]\n",
      "Train 7: Time 0.105s (it:0.085s) Data:0.007s (it:0.008s) Loss 5.6325e-01 : 100%|██████████| 429/429 [00:45<00:00,  9.50it/s]\n",
      "Evaluate 7: Time 0.033s (it:0.023s) Data:0.005s (it:0.004s) Loss 5.6592e-01 : 100%|██████████| 143/143 [00:04<00:00, 30.48it/s]\n",
      "Train 8: Time 0.104s (it:0.085s) Data:0.007s (it:0.007s) Loss 5.6124e-01 : 100%|██████████| 429/429 [00:44<00:00,  9.62it/s]\n",
      "Evaluate 8: Time 0.034s (it:0.025s) Data:0.005s (it:0.004s) Loss 5.6553e-01 : 100%|██████████| 143/143 [00:04<00:00, 29.34it/s]\n",
      "Train 9: Time 0.105s (it:0.085s) Data:0.007s (it:0.008s) Loss 5.5993e-01 : 100%|██████████| 429/429 [00:44<00:00,  9.55it/s]\n",
      "Evaluate 9: Time 0.033s (it:0.024s) Data:0.005s (it:0.004s) Loss 5.6369e-01 : 100%|██████████| 143/143 [00:04<00:00, 30.27it/s]\n",
      "Train 10: Time 0.105s (it:0.084s) Data:0.007s (it:0.007s) Loss 5.5847e-01 : 100%|██████████| 429/429 [00:45<00:00,  9.53it/s]\n",
      "Evaluate 10: Time 0.032s (it:0.025s) Data:0.005s (it:0.004s) Loss 5.6332e-01 : 100%|██████████| 143/143 [00:04<00:00, 30.99it/s]\n",
      "Train 11: Time 0.105s (it:0.085s) Data:0.008s (it:0.008s) Loss 5.5702e-01 : 100%|██████████| 429/429 [00:45<00:00,  9.52it/s]\n",
      "Evaluate 11: Time 0.032s (it:0.024s) Data:0.005s (it:0.004s) Loss 5.6368e-01 : 100%|██████████| 143/143 [00:04<00:00, 31.07it/s]\n",
      "Test (cls): Time 0.032s (it:0.025s) Data:0.006s (it:0.005s) : 100%|██████████| 143/143 [00:04<00:00, 30.77it/s]\n",
      "2022-12-10 11:52:51,014 [MainThread  ] [INFO ]  Validation performance at epoch 11 -> 0.3333718329340981\n"
     ]
    },
    {
     "name": "stdout",
     "output_type": "stream",
     "text": [
      "0.3333718329340981 [0.3343853973736768, 0.4455718985157011, 0.43327429406753626, 0.5432230681683657, 0.2075146039781209, 0.2342954823190733, 0.2423293052170185, 0.3408919848981754, 0.569607742957519, 0.4956797924171626, 0.3515768520294716, 0.2493516240555213, 0.32634819662437936, 0.5716679269284086, 0.26201880303384584, 0.011510182117171525, 0.048074005178520646]\n"
     ]
    },
    {
     "name": "stderr",
     "output_type": "stream",
     "text": [
      "Train 12: Time 0.103s (it:0.089s) Data:0.007s (it:0.008s) Loss 5.5578e-01 : 100%|██████████| 429/429 [00:44<00:00,  9.70it/s]\n",
      "Evaluate 12: Time 0.034s (it:0.024s) Data:0.005s (it:0.004s) Loss 5.6203e-01 : 100%|██████████| 143/143 [00:04<00:00, 29.31it/s]\n",
      "Train 13: Time 0.104s (it:0.089s) Data:0.007s (it:0.007s) Loss 5.5471e-01 : 100%|██████████| 429/429 [00:44<00:00,  9.60it/s]\n",
      "Evaluate 13: Time 0.034s (it:0.023s) Data:0.005s (it:0.004s) Loss 5.6167e-01 : 100%|██████████| 143/143 [00:04<00:00, 29.56it/s]\n",
      "Train 14: Time 0.104s (it:0.085s) Data:0.007s (it:0.008s) Loss 5.5369e-01 : 100%|██████████| 429/429 [00:44<00:00,  9.57it/s]\n",
      "Evaluate 14: Time 0.033s (it:0.025s) Data:0.005s (it:0.005s) Loss 5.6216e-01 : 100%|██████████| 143/143 [00:04<00:00, 30.44it/s]\n",
      "Train 15: Time 0.103s (it:0.085s) Data:0.007s (it:0.007s) Loss 5.5270e-01 : 100%|██████████| 429/429 [00:44<00:00,  9.67it/s]\n",
      "Evaluate 15: Time 0.033s (it:0.023s) Data:0.005s (it:0.003s) Loss 5.6153e-01 : 100%|██████████| 143/143 [00:04<00:00, 30.66it/s]\n",
      "Train 16: Time 0.106s (it:0.085s) Data:0.007s (it:0.007s) Loss 5.5158e-01 : 100%|██████████| 429/429 [00:45<00:00,  9.40it/s]\n",
      "Evaluate 16: Time 0.034s (it:0.024s) Data:0.005s (it:0.004s) Loss 5.6236e-01 : 100%|██████████| 143/143 [00:04<00:00, 29.51it/s]\n",
      "Train 17: Time 0.104s (it:0.086s) Data:0.007s (it:0.008s) Loss 5.5077e-01 : 100%|██████████| 429/429 [00:44<00:00,  9.57it/s]\n",
      "Evaluate 17: Time 0.034s (it:0.024s) Data:0.005s (it:0.004s) Loss 5.6111e-01 : 100%|██████████| 143/143 [00:04<00:00, 29.51it/s]\n",
      "Train 18: Time 0.103s (it:0.085s) Data:0.007s (it:0.007s) Loss 5.5040e-01 : 100%|██████████| 429/429 [00:44<00:00,  9.73it/s]\n",
      "Evaluate 18: Time 0.032s (it:0.023s) Data:0.005s (it:0.003s) Loss 5.6314e-01 : 100%|██████████| 143/143 [00:04<00:00, 30.84it/s]\n",
      "Train 19: Time 0.104s (it:0.089s) Data:0.007s (it:0.007s) Loss 5.4933e-01 : 100%|██████████| 429/429 [00:44<00:00,  9.63it/s]\n",
      "Evaluate 19: Time 0.033s (it:0.025s) Data:0.005s (it:0.004s) Loss 5.6305e-01 : 100%|██████████| 143/143 [00:04<00:00, 29.92it/s]\n",
      "Train 20: Time 0.107s (it:0.085s) Data:0.007s (it:0.008s) Loss 5.4850e-01 : 100%|██████████| 429/429 [00:45<00:00,  9.38it/s]\n",
      "Evaluate 20: Time 0.033s (it:0.026s) Data:0.005s (it:0.005s) Loss 5.5989e-01 : 100%|██████████| 143/143 [00:04<00:00, 30.26it/s]\n",
      "Train 21: Time 0.106s (it:0.085s) Data:0.007s (it:0.007s) Loss 5.4800e-01 : 100%|██████████| 429/429 [00:45<00:00,  9.46it/s]\n",
      "Evaluate 21: Time 0.032s (it:0.024s) Data:0.005s (it:0.004s) Loss 5.6152e-01 : 100%|██████████| 143/143 [00:04<00:00, 30.96it/s]\n",
      "Test (cls): Time 0.032s (it:0.023s) Data:0.005s (it:0.003s) : 100%|██████████| 143/143 [00:04<00:00, 31.22it/s]\n",
      "2022-12-10 12:01:11,645 [MainThread  ] [INFO ]  Validation performance at epoch 21 -> 0.3647087570742756\n"
     ]
    },
    {
     "name": "stdout",
     "output_type": "stream",
     "text": [
      "0.3647087570742756 [0.3624737242250087, 0.5181022006686825, 0.47616726225206424, 0.5731890824822463, 0.2319740361474717, 0.252576500271384, 0.26359449578226035, 0.36570620121271663, 0.5801828931640858, 0.5122596056813598, 0.3584868352396171, 0.25678863424844606, 0.3510053276226552, 0.6140457030103839, 0.314524028944423, 0.016577731578658918, 0.15239460773122016]\n"
     ]
    },
    {
     "name": "stderr",
     "output_type": "stream",
     "text": [
      "Train 22: Time 0.107s (it:0.088s) Data:0.007s (it:0.007s) Loss 5.4767e-01 : 100%|██████████| 429/429 [00:45<00:00,  9.38it/s]\n",
      "Evaluate 22: Time 0.034s (it:0.024s) Data:0.005s (it:0.004s) Loss 5.5990e-01 : 100%|██████████| 143/143 [00:04<00:00, 29.62it/s]\n",
      "Train 23: Time 0.107s (it:0.087s) Data:0.007s (it:0.008s) Loss 5.4619e-01 : 100%|██████████| 429/429 [00:45<00:00,  9.36it/s]\n",
      "Evaluate 23: Time 0.034s (it:0.023s) Data:0.005s (it:0.003s) Loss 5.6181e-01 : 100%|██████████| 143/143 [00:04<00:00, 29.39it/s]\n",
      "Train 24: Time 0.103s (it:0.085s) Data:0.007s (it:0.007s) Loss 5.4562e-01 : 100%|██████████| 429/429 [00:44<00:00,  9.67it/s]\n",
      "Evaluate 24: Time 0.033s (it:0.026s) Data:0.005s (it:0.004s) Loss 5.6418e-01 : 100%|██████████| 143/143 [00:04<00:00, 30.16it/s]\n",
      "Train 25: Time 0.105s (it:0.085s) Data:0.007s (it:0.008s) Loss 5.4550e-01 : 100%|██████████| 429/429 [00:44<00:00,  9.56it/s]\n",
      "Evaluate 25: Time 0.033s (it:0.024s) Data:0.005s (it:0.004s) Loss 5.6131e-01 : 100%|██████████| 143/143 [00:04<00:00, 30.33it/s]\n",
      "Train 26: Time 0.104s (it:0.086s) Data:0.007s (it:0.007s) Loss 5.4418e-01 : 100%|██████████| 429/429 [00:44<00:00,  9.61it/s]\n",
      "Evaluate 26: Time 0.034s (it:0.023s) Data:0.005s (it:0.004s) Loss 5.6067e-01 : 100%|██████████| 143/143 [00:04<00:00, 29.35it/s]\n",
      "Train 27: Time 0.103s (it:0.084s) Data:0.007s (it:0.007s) Loss 5.4376e-01 : 100%|██████████| 429/429 [00:44<00:00,  9.70it/s]\n",
      "Evaluate 27: Time 0.032s (it:0.023s) Data:0.005s (it:0.004s) Loss 5.6121e-01 : 100%|██████████| 143/143 [00:04<00:00, 31.11it/s]\n",
      "Train 28: Time 0.103s (it:0.086s) Data:0.007s (it:0.007s) Loss 5.4316e-01 : 100%|██████████| 429/429 [00:44<00:00,  9.67it/s]\n",
      "Evaluate 28: Time 0.033s (it:0.023s) Data:0.005s (it:0.004s) Loss 5.5934e-01 : 100%|██████████| 143/143 [00:04<00:00, 30.59it/s]\n",
      "Train 29: Time 0.102s (it:0.084s) Data:0.007s (it:0.007s) Loss 5.4259e-01 : 100%|██████████| 429/429 [00:43<00:00,  9.76it/s]\n",
      "Evaluate 29: Time 0.032s (it:0.024s) Data:0.005s (it:0.004s) Loss 5.6129e-01 : 100%|██████████| 143/143 [00:04<00:00, 31.01it/s]\n",
      "Train 30: Time 0.104s (it:0.093s) Data:0.007s (it:0.009s) Loss 5.4206e-01 : 100%|██████████| 429/429 [00:44<00:00,  9.63it/s]\n",
      "Evaluate 30: Time 0.034s (it:0.025s) Data:0.005s (it:0.004s) Loss 5.6343e-01 : 100%|██████████| 143/143 [00:04<00:00, 29.41it/s]\n",
      "Train 31: Time 0.106s (it:0.086s) Data:0.007s (it:0.007s) Loss 5.4145e-01 : 100%|██████████| 429/429 [00:45<00:00,  9.45it/s]\n",
      "Evaluate 31: Time 0.032s (it:0.024s) Data:0.005s (it:0.004s) Loss 5.6213e-01 : 100%|██████████| 143/143 [00:04<00:00, 30.80it/s]\n",
      "Test (cls): Time 0.032s (it:0.022s) Data:0.005s (it:0.003s) : 100%|██████████| 143/143 [00:04<00:00, 31.50it/s]\n",
      "2022-12-10 12:09:31,755 [MainThread  ] [INFO ]  Validation performance at epoch 31 -> 0.36477060358408997\n"
     ]
    },
    {
     "name": "stdout",
     "output_type": "stream",
     "text": [
      "0.36477060358408997 [0.37708064795502694, 0.5359251894210103, 0.47056385556033997, 0.5652603643634744, 0.23566250198276883, 0.252169423126846, 0.26770293664509237, 0.3696413729306052, 0.5866557298154514, 0.5197190023451821, 0.36068440004898616, 0.25427808699602455, 0.3585793455136118, 0.6190844789323348, 0.3357491499265552, 0.028520961170574295, 0.06382281419564553]\n"
     ]
    },
    {
     "name": "stderr",
     "output_type": "stream",
     "text": [
      "Train 32: Time 0.105s (it:0.084s) Data:0.007s (it:0.007s) Loss 5.4083e-01 : 100%|██████████| 429/429 [00:44<00:00,  9.54it/s]\n",
      "Evaluate 32: Time 0.033s (it:0.026s) Data:0.005s (it:0.004s) Loss 5.6046e-01 : 100%|██████████| 143/143 [00:04<00:00, 30.50it/s]\n",
      "Train 33: Time 0.107s (it:0.084s) Data:0.007s (it:0.007s) Loss 5.4019e-01 : 100%|██████████| 429/429 [00:45<00:00,  9.34it/s]\n",
      "Evaluate 33: Time 0.033s (it:0.024s) Data:0.005s (it:0.004s) Loss 5.6076e-01 : 100%|██████████| 143/143 [00:04<00:00, 30.26it/s]\n",
      "Train 34: Time 0.104s (it:0.083s) Data:0.007s (it:0.007s) Loss 5.3946e-01 : 100%|██████████| 429/429 [00:44<00:00,  9.62it/s]\n",
      "Evaluate 34: Time 0.032s (it:0.024s) Data:0.005s (it:0.004s) Loss 5.6173e-01 : 100%|██████████| 143/143 [00:04<00:00, 31.20it/s]\n",
      "Train 35: Time 0.105s (it:0.086s) Data:0.007s (it:0.007s) Loss 5.3931e-01 : 100%|██████████| 429/429 [00:45<00:00,  9.52it/s]\n",
      "Evaluate 35: Time 0.033s (it:0.025s) Data:0.005s (it:0.004s) Loss 5.6195e-01 : 100%|██████████| 143/143 [00:04<00:00, 30.16it/s]\n",
      "Train 36: Time 0.107s (it:0.086s) Data:0.007s (it:0.007s) Loss 5.3902e-01 : 100%|██████████| 429/429 [00:45<00:00,  9.38it/s]\n",
      "Evaluate 36: Time 0.034s (it:0.025s) Data:0.005s (it:0.004s) Loss 5.6204e-01 : 100%|██████████| 143/143 [00:04<00:00, 29.81it/s]\n",
      "Train 37: Time 0.104s (it:0.085s) Data:0.007s (it:0.008s) Loss 5.3756e-01 : 100%|██████████| 429/429 [00:44<00:00,  9.59it/s]\n",
      "Evaluate 37: Time 0.032s (it:0.024s) Data:0.005s (it:0.004s) Loss 5.6107e-01 : 100%|██████████| 143/143 [00:04<00:00, 31.12it/s]\n",
      "Train 38: Time 0.104s (it:0.086s) Data:0.007s (it:0.008s) Loss 5.3735e-01 : 100%|██████████| 429/429 [00:44<00:00,  9.63it/s]\n",
      "Evaluate 38: Time 0.033s (it:0.023s) Data:0.005s (it:0.003s) Loss 5.6487e-01 : 100%|██████████| 143/143 [00:04<00:00, 30.57it/s]\n",
      "Train 39: Time 0.103s (it:0.084s) Data:0.007s (it:0.007s) Loss 5.3720e-01 : 100%|██████████| 429/429 [00:44<00:00,  9.68it/s]\n",
      "Evaluate 39: Time 0.032s (it:0.024s) Data:0.005s (it:0.004s) Loss 5.6294e-01 : 100%|██████████| 143/143 [00:04<00:00, 31.00it/s]\n",
      "2022-12-10 12:16:09,095 [MainThread  ] [INFO ]  Plateau Reached!\n"
     ]
    },
    {
     "name": "stdout",
     "output_type": "stream",
     "text": [
      "Epoch 00039: reducing learning rate of group 0 to 1.0000e-04.\n"
     ]
    },
    {
     "name": "stderr",
     "output_type": "stream",
     "text": [
      "Train 40: Time 0.104s (it:0.085s) Data:0.007s (it:0.007s) Loss 5.2911e-01 : 100%|██████████| 429/429 [00:44<00:00,  9.63it/s]\n",
      "Evaluate 40: Time 0.034s (it:0.026s) Data:0.005s (it:0.005s) Loss 5.6320e-01 : 100%|██████████| 143/143 [00:04<00:00, 29.53it/s]\n",
      "Train 41: Time 0.105s (it:0.086s) Data:0.007s (it:0.007s) Loss 5.2797e-01 : 100%|██████████| 429/429 [00:44<00:00,  9.54it/s]\n",
      "Evaluate 41: Time 0.033s (it:0.025s) Data:0.005s (it:0.004s) Loss 5.6360e-01 : 100%|██████████| 143/143 [00:04<00:00, 29.97it/s]\n",
      "Test (cls): Time 0.033s (it:0.023s) Data:0.005s (it:0.003s) : 100%|██████████| 143/143 [00:04<00:00, 30.54it/s]\n",
      "2022-12-10 12:17:53,059 [MainThread  ] [INFO ]  Validation performance at epoch 41 -> 0.3797543931921236\n"
     ]
    },
    {
     "name": "stdout",
     "output_type": "stream",
     "text": [
      "0.3797543931921236 [0.4217044770015831, 0.5458902840221196, 0.4798114315144423, 0.5824392220989464, 0.23940311933812558, 0.25680689314262956, 0.2706399761705051, 0.38719564986807203, 0.5865826116861637, 0.5284386735783327, 0.3645443283676561, 0.2578933546117324, 0.3712328654434462, 0.6409293743629645, 0.36855195573440075, 0.03208419765583885, 0.12167626966914317]\n"
     ]
    },
    {
     "name": "stderr",
     "output_type": "stream",
     "text": [
      "Train 42: Time 0.105s (it:0.091s) Data:0.007s (it:0.008s) Loss 5.2782e-01 : 100%|██████████| 429/429 [00:44<00:00,  9.54it/s]\n",
      "Evaluate 42: Time 0.033s (it:0.025s) Data:0.005s (it:0.005s) Loss 5.6418e-01 : 100%|██████████| 143/143 [00:04<00:00, 30.17it/s]\n",
      "Train 43: Time 0.106s (it:0.088s) Data:0.008s (it:0.008s) Loss 5.2760e-01 : 100%|██████████| 429/429 [00:45<00:00,  9.39it/s]\n",
      "Evaluate 43: Time 0.032s (it:0.023s) Data:0.005s (it:0.004s) Loss 5.6430e-01 : 100%|██████████| 143/143 [00:04<00:00, 31.18it/s]\n",
      "Train 44: Time 0.103s (it:0.083s) Data:0.007s (it:0.007s) Loss 5.2716e-01 : 100%|██████████| 429/429 [00:43<00:00,  9.75it/s]\n",
      "Evaluate 44: Time 0.032s (it:0.024s) Data:0.005s (it:0.004s) Loss 5.6457e-01 : 100%|██████████| 143/143 [00:04<00:00, 31.15it/s]\n",
      "Train 45: Time 0.103s (it:0.083s) Data:0.007s (it:0.008s) Loss 5.2695e-01 : 100%|██████████| 429/429 [00:44<00:00,  9.68it/s]\n",
      "Evaluate 45: Time 0.032s (it:0.023s) Data:0.005s (it:0.004s) Loss 5.6343e-01 : 100%|██████████| 143/143 [00:04<00:00, 31.33it/s]\n",
      "Train 46: Time 0.102s (it:0.083s) Data:0.007s (it:0.007s) Loss 5.2668e-01 : 100%|██████████| 429/429 [00:43<00:00,  9.83it/s]\n",
      "Evaluate 46: Time 0.032s (it:0.023s) Data:0.005s (it:0.004s) Loss 5.6455e-01 : 100%|██████████| 143/143 [00:04<00:00, 31.29it/s]\n",
      "Train 47: Time 0.105s (it:0.086s) Data:0.007s (it:0.007s) Loss 5.2656e-01 : 100%|██████████| 429/429 [00:44<00:00,  9.55it/s]\n",
      "Evaluate 47: Time 0.033s (it:0.025s) Data:0.005s (it:0.004s) Loss 5.6484e-01 : 100%|██████████| 143/143 [00:04<00:00, 30.13it/s]\n",
      "Train 48: Time 0.104s (it:0.085s) Data:0.007s (it:0.007s) Loss 5.2634e-01 : 100%|██████████| 429/429 [00:44<00:00,  9.66it/s]\n",
      "Evaluate 48: Time 0.032s (it:0.025s) Data:0.005s (it:0.004s) Loss 5.6597e-01 : 100%|██████████| 143/143 [00:04<00:00, 31.18it/s]\n",
      "Train 49: Time 0.102s (it:0.084s) Data:0.007s (it:0.007s) Loss 5.2605e-01 : 100%|██████████| 429/429 [00:43<00:00,  9.76it/s]\n",
      "Evaluate 49: Time 0.032s (it:0.023s) Data:0.005s (it:0.004s) Loss 5.6576e-01 : 100%|██████████| 143/143 [00:04<00:00, 31.09it/s]\n",
      "Train 50: Time 0.104s (it:0.090s) Data:0.007s (it:0.008s) Loss 5.2583e-01 : 100%|██████████| 429/429 [00:44<00:00,  9.65it/s]\n",
      "Evaluate 50: Time 0.035s (it:0.026s) Data:0.006s (it:0.006s) Loss 5.6545e-01 : 100%|██████████| 143/143 [00:04<00:00, 28.68it/s]\n",
      "2022-12-10 12:25:15,423 [MainThread  ] [INFO ]  Plateau Reached!\n"
     ]
    },
    {
     "name": "stdout",
     "output_type": "stream",
     "text": [
      "Epoch 00050: reducing learning rate of group 0 to 1.0000e-05.\n"
     ]
    },
    {
     "name": "stderr",
     "output_type": "stream",
     "text": [
      "Train 51: Time 0.110s (it:0.091s) Data:0.007s (it:0.007s) Loss 5.2469e-01 : 100%|██████████| 429/429 [00:47<00:00,  9.06it/s]\n",
      "Evaluate 51: Time 0.036s (it:0.051s) Data:0.007s (it:0.006s) Loss 5.6576e-01 : 100%|██████████| 143/143 [00:05<00:00, 27.82it/s]\n",
      "Test (cls): Time 0.035s (it:0.023s) Data:0.007s (it:0.004s) : 100%|██████████| 143/143 [00:05<00:00, 28.48it/s]\n",
      "2022-12-10 12:26:13,096 [MainThread  ] [INFO ]  Validation performance at epoch 51 -> 0.3818891265420525\n"
     ]
    },
    {
     "name": "stdout",
     "output_type": "stream",
     "text": [
      "0.3818891265420525 [0.43978114768636056, 0.5484605602340263, 0.47255511717491355, 0.5818115839464659, 0.2397833960723004, 0.2547614141029447, 0.2707900893207927, 0.38773254235110854, 0.5876036650034511, 0.528723377287903, 0.3627247489069903, 0.2579963708718554, 0.372214641245326, 0.6385203276471476, 0.3716973078111394, 0.03108327593814586, 0.1458755856140216]\n"
     ]
    },
    {
     "name": "stderr",
     "output_type": "stream",
     "text": [
      "Train 52: Time 0.112s (it:0.091s) Data:0.008s (it:0.008s) Loss 5.2456e-01 : 100%|██████████| 429/429 [00:48<00:00,  8.92it/s]\n",
      "Evaluate 52: Time 0.036s (it:0.024s) Data:0.006s (it:0.004s) Loss 5.6578e-01 : 100%|██████████| 143/143 [00:05<00:00, 28.04it/s]\n",
      "Train 53: Time 0.111s (it:0.094s) Data:0.008s (it:0.007s) Loss 5.2469e-01 : 100%|██████████| 429/429 [00:47<00:00,  9.01it/s]\n",
      "Evaluate 53: Time 0.035s (it:0.026s) Data:0.006s (it:0.004s) Loss 5.6588e-01 : 100%|██████████| 143/143 [00:04<00:00, 28.80it/s]\n",
      "Train 54: Time 0.110s (it:0.090s) Data:0.007s (it:0.007s) Loss 5.2457e-01 : 100%|██████████| 429/429 [00:47<00:00,  9.06it/s]\n",
      "Evaluate 54: Time 0.034s (it:0.024s) Data:0.005s (it:0.003s) Loss 5.6570e-01 : 100%|██████████| 143/143 [00:04<00:00, 29.29it/s]\n",
      "Train 55: Time 0.103s (it:0.084s) Data:0.007s (it:0.007s) Loss 5.2455e-01 : 100%|██████████| 429/429 [00:44<00:00,  9.70it/s]\n",
      "Evaluate 55: Time 0.033s (it:0.024s) Data:0.005s (it:0.003s) Loss 5.6590e-01 : 100%|██████████| 143/143 [00:04<00:00, 30.68it/s]\n",
      "Train 56: Time 0.103s (it:0.086s) Data:0.007s (it:0.008s) Loss 5.2438e-01 : 100%|██████████| 429/429 [00:44<00:00,  9.67it/s]\n",
      "Evaluate 56: Time 0.033s (it:0.023s) Data:0.005s (it:0.003s) Loss 5.6583e-01 : 100%|██████████| 143/143 [00:04<00:00, 30.46it/s]\n",
      "Train 57: Time 0.105s (it:0.087s) Data:0.008s (it:0.007s) Loss 5.2450e-01 : 100%|██████████| 429/429 [00:45<00:00,  9.48it/s]\n",
      "Evaluate 57: Time 0.033s (it:0.023s) Data:0.005s (it:0.003s) Loss 5.6574e-01 : 100%|██████████| 143/143 [00:04<00:00, 30.62it/s]\n",
      "Train 58: Time 0.106s (it:0.087s) Data:0.007s (it:0.007s) Loss 5.2440e-01 : 100%|██████████| 429/429 [00:45<00:00,  9.48it/s]\n",
      "Evaluate 58: Time 0.034s (it:0.024s) Data:0.005s (it:0.004s) Loss 5.6592e-01 : 100%|██████████| 143/143 [00:04<00:00, 29.77it/s]\n",
      "Train 59: Time 0.105s (it:0.087s) Data:0.007s (it:0.008s) Loss 5.2444e-01 : 100%|██████████| 429/429 [00:45<00:00,  9.53it/s]\n",
      "Evaluate 59: Time 0.033s (it:0.023s) Data:0.005s (it:0.003s) Loss 5.6620e-01 : 100%|██████████| 143/143 [00:04<00:00, 30.30it/s]\n",
      "Train 60: Time 0.107s (it:0.085s) Data:0.007s (it:0.007s) Loss 5.2440e-01 : 100%|██████████| 429/429 [00:45<00:00,  9.36it/s]\n",
      "Evaluate 60: Time 0.033s (it:0.023s) Data:0.005s (it:0.003s) Loss 5.6582e-01 : 100%|██████████| 143/143 [00:04<00:00, 30.49it/s]\n",
      "Train 61: Time 0.105s (it:0.086s) Data:0.007s (it:0.007s) Loss 5.2439e-01 : 100%|██████████| 429/429 [00:45<00:00,  9.51it/s]\n",
      "Evaluate 61: Time 0.033s (it:0.024s) Data:0.005s (it:0.004s) Loss 5.6581e-01 : 100%|██████████| 143/143 [00:04<00:00, 30.62it/s]\n",
      "Test (cls): Time 0.032s (it:0.023s) Data:0.005s (it:0.003s) : 100%|██████████| 143/143 [00:04<00:00, 31.20it/s]\n",
      "2022-12-10 12:34:43,883 [MainThread  ] [INFO ]  Validation performance at epoch 61 -> 0.38137459845958677\n",
      "2022-12-10 12:34:43,883 [MainThread  ] [INFO ]  Plateau Reached!\n"
     ]
    },
    {
     "name": "stdout",
     "output_type": "stream",
     "text": [
      "0.38137459845958677 [0.43806741354931733, 0.5481140073611164, 0.47245753437001636, 0.5807904270363901, 0.23961543019365655, 0.25486936905275315, 0.2699214302439612, 0.38796694744897897, 0.5868307434251291, 0.5285732560218415, 0.3623471435632458, 0.25810221113866283, 0.3727296846168716, 0.6395172260101956, 0.37177599961952645, 0.03095095593557956, 0.14073839422573264]\n",
      "Epoch 00061: reducing learning rate of group 0 to 1.0000e-06.\n"
     ]
    },
    {
     "name": "stderr",
     "output_type": "stream",
     "text": [
      "Train 62: Time 0.105s (it:0.085s) Data:0.007s (it:0.007s) Loss 5.2432e-01 : 100%|██████████| 429/429 [00:44<00:00,  9.55it/s]\n",
      "Evaluate 62: Time 0.033s (it:0.024s) Data:0.005s (it:0.003s) Loss 5.6582e-01 : 100%|██████████| 143/143 [00:04<00:00, 30.61it/s]\n",
      "Train 63: Time 0.104s (it:0.084s) Data:0.007s (it:0.007s) Loss 5.2421e-01 : 100%|██████████| 429/429 [00:44<00:00,  9.63it/s]\n",
      "Evaluate 63: Time 0.032s (it:0.023s) Data:0.005s (it:0.003s) Loss 5.6584e-01 : 100%|██████████| 143/143 [00:04<00:00, 31.28it/s]\n",
      "Train 64: Time 0.103s (it:0.085s) Data:0.007s (it:0.007s) Loss 5.2420e-01 : 100%|██████████| 429/429 [00:44<00:00,  9.72it/s]\n",
      "Evaluate 64: Time 0.033s (it:0.023s) Data:0.005s (it:0.003s) Loss 5.6587e-01 : 100%|██████████| 143/143 [00:04<00:00, 30.21it/s]\n",
      "Train 65: Time 0.103s (it:0.084s) Data:0.007s (it:0.008s) Loss 5.2425e-01 : 100%|██████████| 429/429 [00:44<00:00,  9.69it/s]\n",
      "Evaluate 65: Time 0.032s (it:0.023s) Data:0.005s (it:0.003s) Loss 5.6587e-01 : 100%|██████████| 143/143 [00:04<00:00, 31.14it/s]\n",
      "Train 66: Time 0.105s (it:0.097s) Data:0.007s (it:0.008s) Loss 5.2415e-01 : 100%|██████████| 429/429 [00:45<00:00,  9.49it/s]\n",
      "Evaluate 66: Time 0.033s (it:0.023s) Data:0.005s (it:0.003s) Loss 5.6591e-01 : 100%|██████████| 143/143 [00:04<00:00, 30.28it/s]\n",
      "Train 67: Time 0.106s (it:0.084s) Data:0.007s (it:0.007s) Loss 5.2415e-01 : 100%|██████████| 429/429 [00:45<00:00,  9.48it/s]\n",
      "Evaluate 67: Time 0.032s (it:0.023s) Data:0.005s (it:0.003s) Loss 5.6591e-01 : 100%|██████████| 143/143 [00:04<00:00, 31.03it/s]\n",
      "Train 68: Time 0.105s (it:0.085s) Data:0.007s (it:0.007s) Loss 5.2408e-01 : 100%|██████████| 429/429 [00:44<00:00,  9.57it/s]\n",
      "Evaluate 68: Time 0.032s (it:0.023s) Data:0.005s (it:0.003s) Loss 5.6591e-01 : 100%|██████████| 143/143 [00:04<00:00, 31.04it/s]\n",
      "Train 69: Time 0.104s (it:0.086s) Data:0.007s (it:0.007s) Loss 5.2425e-01 : 100%|██████████| 429/429 [00:44<00:00,  9.65it/s]\n",
      "Evaluate 69: Time 0.032s (it:0.023s) Data:0.005s (it:0.003s) Loss 5.6591e-01 : 100%|██████████| 143/143 [00:04<00:00, 31.00it/s]\n",
      "Train 70: Time 0.103s (it:0.085s) Data:0.007s (it:0.008s) Loss 5.2411e-01 : 100%|██████████| 429/429 [00:44<00:00,  9.75it/s]\n",
      "Evaluate 70: Time 0.032s (it:0.023s) Data:0.005s (it:0.003s) Loss 5.6592e-01 : 100%|██████████| 143/143 [00:04<00:00, 31.18it/s]\n",
      "Train 71: Time 0.103s (it:0.084s) Data:0.007s (it:0.007s) Loss 5.2420e-01 : 100%|██████████| 429/429 [00:44<00:00,  9.75it/s]\n",
      "Evaluate 71: Time 0.032s (it:0.024s) Data:0.005s (it:0.003s) Loss 5.6592e-01 : 100%|██████████| 143/143 [00:04<00:00, 30.89it/s]\n",
      "Test (cls): Time 0.032s (it:0.023s) Data:0.005s (it:0.003s) : 100%|██████████| 143/143 [00:04<00:00, 30.92it/s]\n",
      "2022-12-10 12:43:00,756 [MainThread  ] [INFO ]  Validation performance at epoch 71 -> 0.3815591593523391\n"
     ]
    },
    {
     "name": "stdout",
     "output_type": "stream",
     "text": [
      "0.3815591593523391 [0.43744648100128897, 0.5476200755288605, 0.4728114016665523, 0.581016539511823, 0.23976521922173213, 0.2552543613310848, 0.2701034043479784, 0.38761478909764824, 0.5869444988025855, 0.5287125306031206, 0.3627593971026095, 0.2581216505221877, 0.37249965221934767, 0.6389697512792416, 0.37174701239128916, 0.03097779011190309, 0.14414115425051124]\n"
     ]
    },
    {
     "name": "stderr",
     "output_type": "stream",
     "text": [
      "Train 72: Time 0.103s (it:0.085s) Data:0.007s (it:0.007s) Loss 5.2415e-01 : 100%|██████████| 429/429 [00:44<00:00,  9.73it/s]\n",
      "Evaluate 72: Time 0.032s (it:0.022s) Data:0.005s (it:0.003s) Loss 5.6595e-01 : 100%|██████████| 143/143 [00:04<00:00, 31.16it/s]\n",
      "2022-12-10 12:43:49,448 [MainThread  ] [INFO ]  Plateau Reached!\n"
     ]
    },
    {
     "name": "stdout",
     "output_type": "stream",
     "text": [
      "Epoch 00072: reducing learning rate of group 0 to 1.0000e-07.\n"
     ]
    },
    {
     "name": "stderr",
     "output_type": "stream",
     "text": [
      "Train 73: Time 0.103s (it:0.086s) Data:0.007s (it:0.007s) Loss 5.2416e-01 : 100%|██████████| 429/429 [00:44<00:00,  9.68it/s]\n",
      "Evaluate 73: Time 0.033s (it:0.023s) Data:0.005s (it:0.004s) Loss 5.6594e-01 : 100%|██████████| 143/143 [00:04<00:00, 30.57it/s]\n",
      "Train 74: Time 0.104s (it:0.088s) Data:0.007s (it:0.008s) Loss 5.2413e-01 : 100%|██████████| 429/429 [00:44<00:00,  9.59it/s]\n",
      "Evaluate 74: Time 0.033s (it:0.026s) Data:0.005s (it:0.006s) Loss 5.6594e-01 : 100%|██████████| 143/143 [00:04<00:00, 30.02it/s]\n",
      "Train 75: Time 0.105s (it:0.085s) Data:0.007s (it:0.009s) Loss 5.2428e-01 : 100%|██████████| 429/429 [00:45<00:00,  9.50it/s]\n",
      "Evaluate 75: Time 0.032s (it:0.023s) Data:0.005s (it:0.003s) Loss 5.6594e-01 : 100%|██████████| 143/143 [00:04<00:00, 31.24it/s]\n",
      "Train 76: Time 0.105s (it:0.083s) Data:0.007s (it:0.007s) Loss 5.2408e-01 : 100%|██████████| 429/429 [00:45<00:00,  9.50it/s]\n",
      "Evaluate 76: Time 0.033s (it:0.023s) Data:0.005s (it:0.004s) Loss 5.6594e-01 : 100%|██████████| 143/143 [00:04<00:00, 30.65it/s]\n",
      "Train 77: Time 0.105s (it:0.090s) Data:0.007s (it:0.007s) Loss 5.2409e-01 : 100%|██████████| 429/429 [00:45<00:00,  9.48it/s]\n",
      "Evaluate 77: Time 0.033s (it:0.023s) Data:0.005s (it:0.003s) Loss 5.6594e-01 : 100%|██████████| 143/143 [00:04<00:00, 29.99it/s]\n",
      "Train 78: Time 0.103s (it:0.083s) Data:0.007s (it:0.007s) Loss 5.2415e-01 : 100%|██████████| 429/429 [00:44<00:00,  9.75it/s]\n",
      "Evaluate 78: Time 0.032s (it:0.022s) Data:0.005s (it:0.003s) Loss 5.6594e-01 : 100%|██████████| 143/143 [00:04<00:00, 30.91it/s]\n",
      "Train 79: Time 0.104s (it:0.085s) Data:0.007s (it:0.007s) Loss 5.2410e-01 : 100%|██████████| 429/429 [00:44<00:00,  9.60it/s]\n",
      "Evaluate 79: Time 0.033s (it:0.024s) Data:0.005s (it:0.003s) Loss 5.6594e-01 : 100%|██████████| 143/143 [00:04<00:00, 30.12it/s]\n",
      "Train 80: Time 0.104s (it:0.085s) Data:0.007s (it:0.007s) Loss 5.2405e-01 : 100%|██████████| 429/429 [00:44<00:00,  9.61it/s]\n",
      "Evaluate 80: Time 0.033s (it:0.022s) Data:0.005s (it:0.003s) Loss 5.6594e-01 : 100%|██████████| 143/143 [00:04<00:00, 30.25it/s]\n",
      "Train 81: Time 0.104s (it:0.085s) Data:0.007s (it:0.007s) Loss 5.2420e-01 : 100%|██████████| 429/429 [00:44<00:00,  9.65it/s]\n",
      "Evaluate 81: Time 0.032s (it:0.022s) Data:0.005s (it:0.003s) Loss 5.6594e-01 : 100%|██████████| 143/143 [00:04<00:00, 31.27it/s]\n",
      "Test (cls): Time 0.032s (it:0.023s) Data:0.005s (it:0.003s) : 100%|██████████| 143/143 [00:04<00:00, 31.65it/s]\n",
      "2022-12-10 12:51:18,696 [MainThread  ] [INFO ]  Validation performance at epoch 81 -> 0.38156309927700377\n"
     ]
    },
    {
     "name": "stdout",
     "output_type": "stream",
     "text": [
      "0.38156309927700377 [0.4371605344218958, 0.5477281671360535, 0.47280988859177076, 0.5810445205745602, 0.23978560982014277, 0.2552270418147069, 0.2701072251999388, 0.3876455207834189, 0.5869169766132842, 0.5286840871085086, 0.3627387947626032, 0.2581272722724454, 0.37263742973494157, 0.6389781291262364, 0.371851074289137, 0.030980073013932834, 0.14415034244548647]\n"
     ]
    },
    {
     "name": "stderr",
     "output_type": "stream",
     "text": [
      "Train 82: Time 0.104s (it:0.085s) Data:0.007s (it:0.008s) Loss 5.2427e-01 : 100%|██████████| 429/429 [00:44<00:00,  9.61it/s]\n",
      "Evaluate 82: Time 0.033s (it:0.025s) Data:0.005s (it:0.003s) Loss 5.6594e-01 : 100%|██████████| 143/143 [00:04<00:00, 30.55it/s]\n",
      "Train 83: Time 0.106s (it:0.086s) Data:0.007s (it:0.007s) Loss 5.2405e-01 : 100%|██████████| 429/429 [00:45<00:00,  9.47it/s]\n",
      "Evaluate 83: Time 0.033s (it:0.023s) Data:0.005s (it:0.003s) Loss 5.6594e-01 : 100%|██████████| 143/143 [00:04<00:00, 30.61it/s]\n",
      "2022-12-10 12:52:57,989 [MainThread  ] [INFO ]  Plateau Reached!\n"
     ]
    },
    {
     "name": "stdout",
     "output_type": "stream",
     "text": [
      "Epoch 00083: reducing learning rate of group 0 to 1.0000e-08.\n"
     ]
    },
    {
     "name": "stderr",
     "output_type": "stream",
     "text": [
      "Train 84: Time 0.105s (it:0.084s) Data:0.007s (it:0.007s) Loss 5.2409e-01 : 100%|██████████| 429/429 [00:44<00:00,  9.57it/s]\n",
      "Evaluate 84: Time 0.032s (it:0.022s) Data:0.005s (it:0.003s) Loss 5.6594e-01 : 100%|██████████| 143/143 [00:04<00:00, 31.33it/s]\n",
      "Train 85: Time 0.102s (it:0.084s) Data:0.007s (it:0.006s) Loss 5.2413e-01 : 100%|██████████| 429/429 [00:43<00:00,  9.81it/s]\n",
      "Evaluate 85: Time 0.032s (it:0.022s) Data:0.005s (it:0.003s) Loss 5.6594e-01 : 100%|██████████| 143/143 [00:04<00:00, 31.27it/s]\n",
      "Train 86: Time 0.102s (it:0.084s) Data:0.007s (it:0.007s) Loss 5.2418e-01 : 100%|██████████| 429/429 [00:43<00:00,  9.78it/s]\n",
      "Evaluate 86: Time 0.032s (it:0.022s) Data:0.005s (it:0.003s) Loss 5.6594e-01 : 100%|██████████| 143/143 [00:04<00:00, 31.22it/s]\n",
      "Train 87: Time 0.104s (it:0.098s) Data:0.007s (it:0.014s) Loss 5.2410e-01 : 100%|██████████| 429/429 [00:44<00:00,  9.65it/s]\n",
      "Evaluate 87: Time 0.035s (it:0.025s) Data:0.006s (it:0.004s) Loss 5.6594e-01 : 100%|██████████| 143/143 [00:04<00:00, 28.88it/s]\n",
      "Train 88: Time 0.112s (it:0.090s) Data:0.008s (it:0.007s) Loss 5.2415e-01 : 100%|██████████| 429/429 [00:47<00:00,  8.96it/s]\n",
      "Evaluate 88: Time 0.034s (it:0.027s) Data:0.005s (it:0.005s) Loss 5.6594e-01 : 100%|██████████| 143/143 [00:04<00:00, 29.04it/s]\n",
      "Train 89: Time 0.111s (it:0.088s) Data:0.008s (it:0.007s) Loss 5.2425e-01 : 100%|██████████| 429/429 [00:47<00:00,  9.04it/s]\n",
      "Evaluate 89: Time 0.034s (it:0.025s) Data:0.005s (it:0.004s) Loss 5.6594e-01 : 100%|██████████| 143/143 [00:04<00:00, 29.72it/s]\n",
      "Train 90: Time 0.111s (it:0.091s) Data:0.007s (it:0.008s) Loss 5.2414e-01 : 100%|██████████| 429/429 [00:47<00:00,  9.03it/s]\n",
      "Evaluate 90: Time 0.035s (it:0.023s) Data:0.006s (it:0.003s) Loss 5.6594e-01 : 100%|██████████| 143/143 [00:05<00:00, 28.43it/s]\n",
      "Train 91: Time 0.110s (it:0.091s) Data:0.007s (it:0.006s) Loss 5.2414e-01 : 100%|██████████| 429/429 [00:47<00:00,  9.05it/s]\n",
      "Evaluate 91: Time 0.034s (it:0.024s) Data:0.005s (it:0.003s) Loss 5.6594e-01 : 100%|██████████| 143/143 [00:04<00:00, 29.23it/s]\n",
      "Test (cls): Time 0.034s (it:0.025s) Data:0.005s (it:0.004s) : 100%|██████████| 143/143 [00:04<00:00, 29.70it/s]\n",
      "2022-12-10 12:59:48,422 [MainThread  ] [INFO ]  Validation performance at epoch 91 -> 0.381565122045848\n"
     ]
    },
    {
     "name": "stdout",
     "output_type": "stream",
     "text": [
      "0.381565122045848 [0.4371849211610616, 0.5477329190672368, 0.4727848983670674, 0.5810435398353148, 0.23978514027669956, 0.25522375699602823, 0.2701350037894294, 0.3876508654312423, 0.5869180309194402, 0.5286819970115317, 0.3627288491932812, 0.2581376283937172, 0.3726328749968485, 0.6389768433307903, 0.3718398395532355, 0.030990368524445148, 0.14415959793204616]\n"
     ]
    },
    {
     "name": "stderr",
     "output_type": "stream",
     "text": [
      "Train 92: Time 0.111s (it:0.092s) Data:0.007s (it:0.007s) Loss 5.2431e-01 : 100%|██████████| 429/429 [00:47<00:00,  8.99it/s]\n",
      "Evaluate 92: Time 0.035s (it:0.025s) Data:0.005s (it:0.004s) Loss 5.6594e-01 : 100%|██████████| 143/143 [00:04<00:00, 28.80it/s]\n",
      "Train 93: Time 0.111s (it:0.090s) Data:0.007s (it:0.007s) Loss 5.2429e-01 : 100%|██████████| 429/429 [00:47<00:00,  9.03it/s]\n",
      "Evaluate 93: Time 0.034s (it:0.024s) Data:0.005s (it:0.004s) Loss 5.6594e-01 : 100%|██████████| 143/143 [00:04<00:00, 29.26it/s]\n",
      "2022-12-10 13:01:33,553 [MainThread  ] [INFO ]  Plateau Reached and no more reduction -> Exiting Loop\n",
      "2022-12-10 13:01:33,808 [MainThread  ] [INFO ]  Checking/Download features and labels locally\n",
      "Test (spot.): Time 1.473s (it:1.412s) Data:0.185s (it:0.158s) : 100%|██████████| 100/100 [02:27<00:00,  1.47s/it]\n",
      "100%|██████████| 100/100 [00:00<00:00, 107.61it/s]\n",
      "100%|██████████| 12/12 [00:14<00:00,  1.17s/it]\n",
      "2022-12-10 13:04:17,069 [MainThread  ] [INFO ]  Best Performance at end of training \n",
      "2022-12-10 13:04:17,070 [MainThread  ] [INFO ]  a_mAP visibility all: 0.45037199765712627\n",
      "2022-12-10 13:04:17,070 [MainThread  ] [INFO ]  a_mAP visibility all per class: [0.4390329230897192, 0.575861345398438, 0.6420383932831085, 0.6382774814677532, 0.3530637800962102, 0.335567862852133, 0.35918164213839504, 0.49315915393104726, 0.6396015213115711, 0.5667277288876549, 0.5479635576504301, 0.4097316453581929, 0.45121128251055836, 0.7105392726951555, 0.4376774149617093, 0.02362676360514049, 0.03306219093392971]\n",
      "2022-12-10 13:04:17,071 [MainThread  ] [INFO ]  a_mAP visibility visible: 0.5022488074620367\n",
      "2022-12-10 13:04:17,071 [MainThread  ] [INFO ]  a_mAP visibility visible per class: [0.6214904968753419, 0.6663547993521892, 0.6572842008873659, 0.7015073309340002, 0.373147655904919, 0.33673046322473216, 0.3612613760622542, 0.5953253440623262, 0.6427510697562946, 0.5881966301025003, 0.5515239555039623, 0.3800739414361561, 0.5129350222395508, 0.7165263182281779, 0.4816781961654431, 0.2141788071578249, 0.13726411896158763]\n",
      "2022-12-10 13:04:17,071 [MainThread  ] [INFO ]  a_mAP visibility unshown: 0.3120332799439404\n",
      "2022-12-10 13:04:17,072 [MainThread  ] [INFO ]  a_mAP visibility unshown per class: [0.0, 0.532507136073307, 0.0, 0.28891979238454835, 0.16940920546854554, 0.021694214876033065, 0.003589870392864298, 0.4033797561243276, 0.5648378077535176, 0.5032551208421867, 0.3696600559331275, 0.44263695312828655, 0.03191768485547344, 0.6789971851158897, 0.04562785632311784, 0.0, 0.0]\n",
      "2022-12-10 13:04:17,073 [MainThread  ] [INFO ]  Total Execution Time is 4848.638807058334 seconds\n"
     ]
    }
   ],
   "source": [
    "%run $training_file_name\\\n",
    "    --SoccerNet_path=$resnet_features_path\\\n",
    "    --model_name=NetVLAD++_vit_FL\\\n",
    "    --features=custom_vit --seed 3 --LR=1e-3\\\n",
    "    --split_test=\"test\"\\\n",
    "    --custom_feature_path=$vit_features_path\\\n",
    "    --loss_function=FL"
   ]
  },
  {
   "cell_type": "markdown",
   "metadata": {},
   "source": [
    "#### Experiment 4:  Vit Data + NetVladd + CB + FL Loss"
   ]
  },
  {
   "cell_type": "code",
   "execution_count": 19,
   "metadata": {},
   "outputs": [
    {
     "name": "stderr",
     "output_type": "stream",
     "text": [
      "2022-12-12 20:10:32,757 [MainThread  ] [INFO ]  Starting main function\n",
      "2022-12-12 20:10:32,757 [MainThread  ] [INFO ]  Parameters:\n",
      "2022-12-12 20:10:32,757 [MainThread  ] [INFO ]   SoccerNet_path : /Users/srv/Documents/Cloud/Google Drive - Default/deep_learning_alphas_final_project/assets_pca\n",
      "2022-12-12 20:10:32,758 [MainThread  ] [INFO ]         features : custom_vit\n",
      "2022-12-12 20:10:32,758 [MainThread  ] [INFO ]       max_epochs : 1000\n",
      "2022-12-12 20:10:32,759 [MainThread  ] [INFO ]     load_weights : None\n",
      "2022-12-12 20:10:32,759 [MainThread  ] [INFO ]       model_name : NetVLAD++_vit_CB+FL\n",
      "2022-12-12 20:10:32,759 [MainThread  ] [INFO ]        test_only : False\n",
      "2022-12-12 20:10:32,760 [MainThread  ] [INFO ]      split_train : ['train']\n",
      "2022-12-12 20:10:32,760 [MainThread  ] [INFO ]      split_valid : ['valid']\n",
      "2022-12-12 20:10:32,760 [MainThread  ] [INFO ]       split_test : ['test']\n",
      "2022-12-12 20:10:32,761 [MainThread  ] [INFO ]          version : 2\n",
      "2022-12-12 20:10:32,761 [MainThread  ] [INFO ]      feature_dim : None\n",
      "2022-12-12 20:10:32,761 [MainThread  ] [INFO ]  evaluation_frequency : 10\n",
      "2022-12-12 20:10:32,762 [MainThread  ] [INFO ]        framerate : 2\n",
      "2022-12-12 20:10:32,762 [MainThread  ] [INFO ]      window_size : 15\n",
      "2022-12-12 20:10:32,763 [MainThread  ] [INFO ]             pool : NetVLAD++\n",
      "2022-12-12 20:10:32,763 [MainThread  ] [INFO ]       vocab_size : 64\n",
      "2022-12-12 20:10:32,763 [MainThread  ] [INFO ]       NMS_window : 30\n",
      "2022-12-12 20:10:32,764 [MainThread  ] [INFO ]    NMS_threshold : 0.0\n",
      "2022-12-12 20:10:32,764 [MainThread  ] [INFO ]       batch_size : 256\n",
      "2022-12-12 20:10:32,764 [MainThread  ] [INFO ]               LR : 0.001\n",
      "2022-12-12 20:10:32,765 [MainThread  ] [INFO ]              LRe : 1e-06\n",
      "2022-12-12 20:10:32,765 [MainThread  ] [INFO ]         patience : 10\n",
      "2022-12-12 20:10:32,765 [MainThread  ] [INFO ]              GPU : 0\n",
      "2022-12-12 20:10:32,766 [MainThread  ] [INFO ]   max_num_worker : 1\n",
      "2022-12-12 20:10:32,766 [MainThread  ] [INFO ]             seed : 3\n",
      "2022-12-12 20:10:32,767 [MainThread  ] [INFO ]         loglevel : INFO\n",
      "2022-12-12 20:10:32,767 [MainThread  ] [INFO ]  custom_feature_path : /Users/srv/Documents/Cloud/Georgia Institute of Technology/Alphas - Project Data/vit_features\n",
      "2022-12-12 20:10:32,768 [MainThread  ] [INFO ]    loss_function : CB+FL\n",
      "2022-12-12 20:10:32,768 [MainThread  ] [INFO ]           device : mps\n",
      "2022-12-12 20:10:32,769 [MainThread  ] [INFO ]  model_save_path : /Users/srv/Documents/Cloud/Georgia Institute of Technology/Alphas - Project Data/project_artefacts/NetVLAD++_vit_CB+FL/mps_run_1\n",
      "2022-12-12 20:10:32,770 [MainThread  ] [INFO ]  Checking/Download features and labels locally\n",
      "2022-12-12 20:10:32,771 [MainThread  ] [INFO ]  Pre-compute clips\n",
      "100%|██████████| 300/300 [00:04<00:00, 74.29it/s]\n",
      "2022-12-12 20:10:38,033 [MainThread  ] [INFO ]  Checking/Download features and labels locally\n",
      "2022-12-12 20:10:38,034 [MainThread  ] [INFO ]  Pre-compute clips\n",
      "100%|██████████| 100/100 [00:01<00:00, 84.38it/s]\n",
      "2022-12-12 20:10:39,584 [MainThread  ] [INFO ]  Checking/Download features and labels locally\n",
      "2022-12-12 20:10:39,585 [MainThread  ] [INFO ]  Pre-compute clips\n",
      "100%|██████████| 100/100 [00:00<00:00, 118.27it/s]\n",
      "2022-12-12 20:10:41,858 [MainThread  ] [INFO ]  Checking/Download features and labels locally\n",
      "2022-12-12 20:10:42,013 [MainThread  ] [INFO ]  Model(\n",
      "  (feature_extractor): Linear(in_features=768, out_features=512, bias=True)\n",
      "  (pool_layer_before): NetVLAD()\n",
      "  (pool_layer_after): NetVLAD()\n",
      "  (fc): Linear(in_features=32768, out_features=18, bias=True)\n",
      "  (drop1): Dropout(p=0.2, inplace=False)\n",
      "  (drop2): Dropout(p=0.4, inplace=False)\n",
      "  (sigm): Sigmoid()\n",
      ")\n",
      "2022-12-12 20:10:42,013 [MainThread  ] [INFO ]  Total number of parameters: 1049106\n",
      "/Users/srv/Documents/Git/GaTech/dl_cse_7643/final_project/code/training_modules/loss.py:39: UserWarning: To copy construct from a tensor, it is recommended to use sourceTensor.clone().detach() or sourceTensor.clone().detach().requires_grad_(True), rather than torch.tensor(sourceTensor).\n",
      "  self.weight = torch.tensor(weight).float()\n",
      "2022-12-12 20:10:42,028 [MainThread  ] [INFO ]  start training\n"
     ]
    },
    {
     "name": "stdout",
     "output_type": "stream",
     "text": [
      "feature_dim found: 768\n",
      "beta = 0.9\n",
      "gamma = 1\n"
     ]
    },
    {
     "name": "stderr",
     "output_type": "stream",
     "text": [
      "Train 1: Time 0.101s (it:0.753s) Data:0.011s (it:0.010s) Loss 5.6849e-01 : 100%|██████████| 429/429 [00:43<00:00,  9.91it/s]\n",
      "Evaluate 1: Time 0.036s (it:0.510s) Data:0.006s (it:0.005s) Loss 5.5659e-01 : 100%|██████████| 143/143 [00:05<00:00, 27.64it/s]\n",
      "Train 2: Time 0.099s (it:0.114s) Data:0.007s (it:0.007s) Loss 5.5454e-01 : 100%|██████████| 429/429 [00:42<00:00, 10.11it/s]\n",
      "Evaluate 2: Time 0.032s (it:0.025s) Data:0.005s (it:0.004s) Loss 5.5198e-01 : 100%|██████████| 143/143 [00:04<00:00, 31.41it/s]\n",
      "Train 3: Time 0.099s (it:0.080s) Data:0.007s (it:0.007s) Loss 5.4929e-01 : 100%|██████████| 429/429 [00:42<00:00, 10.11it/s]\n",
      "Evaluate 3: Time 0.032s (it:0.025s) Data:0.005s (it:0.004s) Loss 5.4781e-01 : 100%|██████████| 143/143 [00:04<00:00, 31.04it/s]\n",
      "Train 4: Time 0.099s (it:0.081s) Data:0.008s (it:0.007s) Loss 5.4597e-01 : 100%|██████████| 429/429 [00:42<00:00, 10.05it/s]\n",
      "Evaluate 4: Time 0.032s (it:0.025s) Data:0.005s (it:0.004s) Loss 5.4506e-01 : 100%|██████████| 143/143 [00:04<00:00, 31.10it/s]\n",
      "Train 5: Time 0.101s (it:0.082s) Data:0.008s (it:0.007s) Loss 5.4309e-01 : 100%|██████████| 429/429 [00:43<00:00,  9.94it/s]\n",
      "Evaluate 5: Time 0.032s (it:0.026s) Data:0.005s (it:0.004s) Loss 5.4342e-01 : 100%|██████████| 143/143 [00:04<00:00, 30.95it/s]\n",
      "Train 6: Time 0.101s (it:0.082s) Data:0.008s (it:0.008s) Loss 5.4073e-01 : 100%|██████████| 429/429 [00:43<00:00,  9.89it/s]\n",
      "Evaluate 6: Time 0.032s (it:0.025s) Data:0.005s (it:0.004s) Loss 5.4340e-01 : 100%|██████████| 143/143 [00:04<00:00, 30.89it/s]\n",
      "Train 7: Time 0.101s (it:0.084s) Data:0.008s (it:0.007s) Loss 5.3906e-01 : 100%|██████████| 429/429 [00:43<00:00,  9.92it/s]\n",
      "Evaluate 7: Time 0.032s (it:0.025s) Data:0.005s (it:0.003s) Loss 5.4147e-01 : 100%|██████████| 143/143 [00:04<00:00, 31.02it/s]\n",
      "Train 8: Time 0.101s (it:0.082s) Data:0.008s (it:0.007s) Loss 5.3712e-01 : 100%|██████████| 429/429 [00:43<00:00,  9.88it/s]\n",
      "Evaluate 8: Time 0.032s (it:0.025s) Data:0.005s (it:0.004s) Loss 5.4162e-01 : 100%|██████████| 143/143 [00:04<00:00, 30.86it/s]\n",
      "Train 9: Time 0.101s (it:0.082s) Data:0.008s (it:0.009s) Loss 5.3586e-01 : 100%|██████████| 429/429 [00:43<00:00,  9.93it/s]\n",
      "Evaluate 9: Time 0.032s (it:0.025s) Data:0.005s (it:0.004s) Loss 5.3959e-01 : 100%|██████████| 143/143 [00:04<00:00, 30.88it/s]\n",
      "Train 10: Time 0.103s (it:0.083s) Data:0.008s (it:0.010s) Loss 5.3441e-01 : 100%|██████████| 429/429 [00:44<00:00,  9.73it/s]\n",
      "Evaluate 10: Time 0.032s (it:0.026s) Data:0.005s (it:0.004s) Loss 5.3897e-01 : 100%|██████████| 143/143 [00:04<00:00, 31.06it/s]\n",
      "Train 11: Time 0.100s (it:0.081s) Data:0.008s (it:0.007s) Loss 5.3310e-01 : 100%|██████████| 429/429 [00:42<00:00,  9.98it/s]\n",
      "Evaluate 11: Time 0.032s (it:0.025s) Data:0.005s (it:0.004s) Loss 5.3930e-01 : 100%|██████████| 143/143 [00:04<00:00, 31.35it/s]\n",
      "Test (cls): Time 0.033s (it:0.025s) Data:0.007s (it:0.004s) : 100%|██████████| 143/143 [00:04<00:00, 30.47it/s]\n",
      "2022-12-12 20:19:32,700 [MainThread  ] [INFO ]  Validation performance at epoch 11 -> 0.33248861141112995\n"
     ]
    },
    {
     "name": "stdout",
     "output_type": "stream",
     "text": [
      "0.33248861141112995 [0.3271963678423129, 0.44407294744676895, 0.4260143950280784, 0.5403626265757613, 0.21020809422531678, 0.23815175178653833, 0.2415004338516193, 0.33965701746879934, 0.569227266615314, 0.4956726530864004, 0.34922908994019414, 0.2505115851230981, 0.3345653126878009, 0.5705798890923774, 0.26071360713019226, 0.01191729231776451, 0.04272606377087272]\n"
     ]
    },
    {
     "name": "stderr",
     "output_type": "stream",
     "text": [
      "Train 12: Time 0.098s (it:0.082s) Data:0.007s (it:0.007s) Loss 5.3200e-01 : 100%|██████████| 429/429 [00:41<00:00, 10.22it/s]\n",
      "Evaluate 12: Time 0.032s (it:0.026s) Data:0.005s (it:0.004s) Loss 5.3767e-01 : 100%|██████████| 143/143 [00:04<00:00, 31.54it/s]\n",
      "Train 13: Time 0.100s (it:0.083s) Data:0.008s (it:0.008s) Loss 5.3083e-01 : 100%|██████████| 429/429 [00:42<00:00, 10.00it/s]\n",
      "Evaluate 13: Time 0.032s (it:0.025s) Data:0.005s (it:0.004s) Loss 5.3747e-01 : 100%|██████████| 143/143 [00:04<00:00, 31.22it/s]\n",
      "Train 14: Time 0.099s (it:0.080s) Data:0.007s (it:0.008s) Loss 5.2994e-01 : 100%|██████████| 429/429 [00:42<00:00, 10.11it/s]\n",
      "Evaluate 14: Time 0.032s (it:0.026s) Data:0.005s (it:0.004s) Loss 5.3833e-01 : 100%|██████████| 143/143 [00:04<00:00, 31.33it/s]\n",
      "Train 15: Time 0.100s (it:0.089s) Data:0.007s (it:0.008s) Loss 5.2897e-01 : 100%|██████████| 429/429 [00:42<00:00,  9.99it/s]\n",
      "Evaluate 15: Time 0.032s (it:0.025s) Data:0.005s (it:0.004s) Loss 5.3809e-01 : 100%|██████████| 143/143 [00:04<00:00, 31.15it/s]\n",
      "Train 16: Time 0.098s (it:0.081s) Data:0.007s (it:0.008s) Loss 5.2784e-01 : 100%|██████████| 429/429 [00:42<00:00, 10.17it/s]\n",
      "Evaluate 16: Time 0.033s (it:0.025s) Data:0.005s (it:0.004s) Loss 5.3855e-01 : 100%|██████████| 143/143 [00:04<00:00, 30.63it/s]\n",
      "Train 17: Time 0.099s (it:0.083s) Data:0.007s (it:0.008s) Loss 5.2710e-01 : 100%|██████████| 429/429 [00:42<00:00, 10.09it/s]\n",
      "Evaluate 17: Time 0.032s (it:0.026s) Data:0.005s (it:0.004s) Loss 5.3705e-01 : 100%|██████████| 143/143 [00:04<00:00, 30.81it/s]\n",
      "Train 18: Time 0.105s (it:0.088s) Data:0.008s (it:0.007s) Loss 5.2674e-01 : 100%|██████████| 429/429 [00:45<00:00,  9.51it/s]\n",
      "Evaluate 18: Time 0.034s (it:0.027s) Data:0.005s (it:0.004s) Loss 5.3896e-01 : 100%|██████████| 143/143 [00:04<00:00, 29.67it/s]\n",
      "Train 19: Time 0.105s (it:0.085s) Data:0.008s (it:0.007s) Loss 5.2570e-01 : 100%|██████████| 429/429 [00:44<00:00,  9.56it/s]\n",
      "Evaluate 19: Time 0.032s (it:0.025s) Data:0.005s (it:0.004s) Loss 5.3891e-01 : 100%|██████████| 143/143 [00:04<00:00, 30.91it/s]\n",
      "Train 20: Time 0.103s (it:0.083s) Data:0.008s (it:0.007s) Loss 5.2492e-01 : 100%|██████████| 429/429 [00:44<00:00,  9.74it/s]\n",
      "Evaluate 20: Time 0.032s (it:0.026s) Data:0.005s (it:0.004s) Loss 5.3589e-01 : 100%|██████████| 143/143 [00:04<00:00, 31.02it/s]\n",
      "Train 21: Time 0.102s (it:0.083s) Data:0.008s (it:0.007s) Loss 5.2441e-01 : 100%|██████████| 429/429 [00:43<00:00,  9.84it/s]\n",
      "Evaluate 21: Time 0.033s (it:0.026s) Data:0.005s (it:0.004s) Loss 5.3702e-01 : 100%|██████████| 143/143 [00:04<00:00, 30.54it/s]\n",
      "Test (cls): Time 0.031s (it:0.024s) Data:0.005s (it:0.003s) : 100%|██████████| 143/143 [00:04<00:00, 32.13it/s]\n",
      "2022-12-12 20:27:36,361 [MainThread  ] [INFO ]  Validation performance at epoch 21 -> 0.3611218632564419\n"
     ]
    },
    {
     "name": "stdout",
     "output_type": "stream",
     "text": [
      "0.3611218632564419 [0.36440916135981494, 0.5135771909776766, 0.4587322772521687, 0.5685994164292237, 0.23509291343824734, 0.25090371085605073, 0.2644501005169621, 0.37354890848048466, 0.5792337553752032, 0.5139281928759566, 0.35682846351196107, 0.2598690823910349, 0.3501173983916368, 0.6183582188853037, 0.3145838004169994, 0.013646596008137382, 0.10319248819265103]\n"
     ]
    },
    {
     "name": "stderr",
     "output_type": "stream",
     "text": [
      "Train 22: Time 0.100s (it:0.084s) Data:0.008s (it:0.009s) Loss 5.2404e-01 : 100%|██████████| 429/429 [00:43<00:00,  9.95it/s]\n",
      "Evaluate 22: Time 0.032s (it:0.026s) Data:0.005s (it:0.004s) Loss 5.3582e-01 : 100%|██████████| 143/143 [00:04<00:00, 30.91it/s]\n",
      "Train 23: Time 0.103s (it:0.103s) Data:0.008s (it:0.008s) Loss 5.2253e-01 :  39%|███▊      | 166/429 [00:17<00:27,  9.72it/s]\n"
     ]
    },
    {
     "ename": "KeyboardInterrupt",
     "evalue": "",
     "output_type": "error",
     "traceback": [
      "\u001b[0;31m---------------------------------------------------------------------------\u001b[0m",
      "\u001b[0;31mKeyboardInterrupt\u001b[0m                         Traceback (most recent call last)",
      "File \u001b[0;32m~/Documents/Git/GaTech/dl_cse_7643/final_project/code/training_main.py:243\u001b[0m\n\u001b[1;32m    241\u001b[0m start\u001b[39m=\u001b[39mtime\u001b[39m.\u001b[39mtime()\n\u001b[1;32m    242\u001b[0m logging\u001b[39m.\u001b[39minfo(\u001b[39m'\u001b[39m\u001b[39mStarting main function\u001b[39m\u001b[39m'\u001b[39m)\n\u001b[0;32m--> 243\u001b[0m main(args)\n\u001b[1;32m    244\u001b[0m logging\u001b[39m.\u001b[39minfo(\u001b[39mf\u001b[39m\u001b[39m'\u001b[39m\u001b[39mTotal Execution Time is \u001b[39m\u001b[39m{\u001b[39;00mtime\u001b[39m.\u001b[39mtime()\u001b[39m-\u001b[39mstart\u001b[39m}\u001b[39;00m\u001b[39m seconds\u001b[39m\u001b[39m'\u001b[39m)\n",
      "File \u001b[0;32m~/Documents/Git/GaTech/dl_cse_7643/final_project/code/training_main.py:105\u001b[0m, in \u001b[0;36mmain\u001b[0;34m(args)\u001b[0m\n\u001b[1;32m    102\u001b[0m     scheduler \u001b[39m=\u001b[39m torch\u001b[39m.\u001b[39moptim\u001b[39m.\u001b[39mlr_scheduler\u001b[39m.\u001b[39mReduceLROnPlateau(optimizer, \u001b[39m'\u001b[39m\u001b[39mmin\u001b[39m\u001b[39m'\u001b[39m, verbose\u001b[39m=\u001b[39m\u001b[39mTrue\u001b[39;00m, patience\u001b[39m=\u001b[39margs\u001b[39m.\u001b[39mpatience)\n\u001b[1;32m    104\u001b[0m     \u001b[39m# start training\u001b[39;00m\n\u001b[0;32m--> 105\u001b[0m     trainer(train_loader, val_loader, val_metric_loader, \n\u001b[1;32m    106\u001b[0m             model, optimizer, scheduler, criterion,\n\u001b[1;32m    107\u001b[0m             model_name\u001b[39m=\u001b[39;49margs\u001b[39m.\u001b[39;49mmodel_name,\n\u001b[1;32m    108\u001b[0m             max_epochs\u001b[39m=\u001b[39;49margs\u001b[39m.\u001b[39;49mmax_epochs, evaluation_frequency\u001b[39m=\u001b[39;49margs\u001b[39m.\u001b[39;49mevaluation_frequency, device \u001b[39m=\u001b[39;49m args\u001b[39m.\u001b[39;49mdevice,\n\u001b[1;32m    109\u001b[0m             model_save_path \u001b[39m=\u001b[39;49m args\u001b[39m.\u001b[39;49mmodel_save_path)\n\u001b[1;32m    111\u001b[0m \u001b[39m# Free up some RAM memory\u001b[39;00m\n\u001b[1;32m    112\u001b[0m \u001b[39mif\u001b[39;00m \u001b[39mnot\u001b[39;00m args\u001b[39m.\u001b[39mtest_only:\n",
      "File \u001b[0;32m~/Documents/Git/GaTech/dl_cse_7643/final_project/code/train.py:40\u001b[0m, in \u001b[0;36mtrainer\u001b[0;34m(train_loader, val_loader, val_metric_loader, model, optimizer, scheduler, criterion, model_name, max_epochs, evaluation_frequency, device, model_save_path)\u001b[0m\n\u001b[1;32m     37\u001b[0m best_model_path \u001b[39m=\u001b[39m os\u001b[39m.\u001b[39mpath\u001b[39m.\u001b[39mjoin(model_save_path, \u001b[39m\"\u001b[39m\u001b[39mmodel.pth.tar\u001b[39m\u001b[39m\"\u001b[39m)\n\u001b[1;32m     39\u001b[0m \u001b[39m# train for one epoch\u001b[39;00m\n\u001b[0;32m---> 40\u001b[0m loss_training \u001b[39m=\u001b[39m train(train_loader, model, criterion,\n\u001b[1;32m     41\u001b[0m                       optimizer, epoch \u001b[39m+\u001b[39;49m \u001b[39m1\u001b[39;49m, train\u001b[39m=\u001b[39;49m\u001b[39mTrue\u001b[39;49;00m, device\u001b[39m=\u001b[39;49mdevice)\n\u001b[1;32m     43\u001b[0m \u001b[39m# evaluate on validation set\u001b[39;00m\n\u001b[1;32m     44\u001b[0m loss_validation \u001b[39m=\u001b[39m train(\n\u001b[1;32m     45\u001b[0m     val_loader, model, criterion, optimizer, epoch \u001b[39m+\u001b[39m \u001b[39m1\u001b[39m, train\u001b[39m=\u001b[39m\u001b[39mFalse\u001b[39;00m, device\u001b[39m=\u001b[39mdevice)\n",
      "File \u001b[0;32m~/Documents/Git/GaTech/dl_cse_7643/final_project/code/train.py:110\u001b[0m, in \u001b[0;36mtrain\u001b[0;34m(dataloader, model, criterion, optimizer, epoch, train, device)\u001b[0m\n\u001b[1;32m    107\u001b[0m \u001b[39mwith\u001b[39;00m tqdm(\u001b[39menumerate\u001b[39m(dataloader), total\u001b[39m=\u001b[39m\u001b[39mlen\u001b[39m(dataloader)) \u001b[39mas\u001b[39;00m t:\n\u001b[1;32m    108\u001b[0m     \u001b[39mfor\u001b[39;00m i, (feats, labels) \u001b[39min\u001b[39;00m t:\n\u001b[1;32m    109\u001b[0m         \u001b[39m# measure data loading time\u001b[39;00m\n\u001b[0;32m--> 110\u001b[0m         data_time\u001b[39m.\u001b[39mupdate(time\u001b[39m.\u001b[39;49mtime() \u001b[39m-\u001b[39m end)\n\u001b[1;32m    111\u001b[0m         feats \u001b[39m=\u001b[39m feats\u001b[39m.\u001b[39mto(device)\n\u001b[1;32m    112\u001b[0m         labels \u001b[39m=\u001b[39m labels\u001b[39m.\u001b[39mto(device)\n",
      "\u001b[0;31mKeyboardInterrupt\u001b[0m: "
     ]
    }
   ],
   "source": [
    "%run $training_file_name\\\n",
    "    --SoccerNet_path=$resnet_features_path\\\n",
    "    --model_name=NetVLAD++_vit_CB+FL\\\n",
    "    --features=custom_vit --seed 3 --LR=1e-3\\\n",
    "    --split_test=\"test\"\\\n",
    "    --custom_feature_path=$vit_features_path\\\n",
    "    --loss_function=CB+FL"
   ]
  },
  {
   "cell_type": "markdown",
   "metadata": {},
   "source": [
    "#### Experiment 5:  Vit Data + ATTENTION + CE Loss"
   ]
  },
  {
   "cell_type": "code",
   "execution_count": 1,
   "metadata": {},
   "outputs": [
    {
     "ename": "Exception",
     "evalue": "File `'$training_file_name'` not found.",
     "output_type": "error",
     "traceback": [
      "\u001b[0;31m---------------------------------------------------------------------------\u001b[0m",
      "\u001b[0;31mOSError\u001b[0m                                   Traceback (most recent call last)",
      "File \u001b[0;32m~/.pyenv/versions/3.10.4/envs/gatech.deepLearning.project/lib/python3.10/site-packages/IPython/core/magics/execution.py:696\u001b[0m, in \u001b[0;36mExecutionMagics.run\u001b[0;34m(self, parameter_s, runner, file_finder)\u001b[0m\n\u001b[1;32m    695\u001b[0m     fpath \u001b[39m=\u001b[39m arg_lst[\u001b[39m0\u001b[39m]\n\u001b[0;32m--> 696\u001b[0m     filename \u001b[39m=\u001b[39m file_finder(fpath)\n\u001b[1;32m    697\u001b[0m \u001b[39mexcept\u001b[39;00m \u001b[39mIndexError\u001b[39;00m \u001b[39mas\u001b[39;00m e:\n",
      "File \u001b[0;32m~/.pyenv/versions/3.10.4/envs/gatech.deepLearning.project/lib/python3.10/site-packages/IPython/utils/path.py:90\u001b[0m, in \u001b[0;36mget_py_filename\u001b[0;34m(name)\u001b[0m\n\u001b[1;32m     89\u001b[0m         \u001b[39mreturn\u001b[39;00m py_name\n\u001b[0;32m---> 90\u001b[0m \u001b[39mraise\u001b[39;00m \u001b[39mIOError\u001b[39;00m(\u001b[39m\"\u001b[39m\u001b[39mFile `\u001b[39m\u001b[39m%r\u001b[39;00m\u001b[39m` not found.\u001b[39m\u001b[39m\"\u001b[39m \u001b[39m%\u001b[39m name)\n",
      "\u001b[0;31mOSError\u001b[0m: File `'$training_file_name'` not found.",
      "\nThe above exception was the direct cause of the following exception:\n",
      "\u001b[0;31mException\u001b[0m                                 Traceback (most recent call last)",
      "Cell \u001b[0;32mIn[1], line 1\u001b[0m\n\u001b[0;32m----> 1\u001b[0m get_ipython()\u001b[39m.\u001b[39;49mrun_line_magic(\u001b[39m'\u001b[39;49m\u001b[39mrun\u001b[39;49m\u001b[39m'\u001b[39;49m, \u001b[39m'\u001b[39;49m\u001b[39m$training_file_name     --SoccerNet_path=$resnet_features_path     --model_name=ATTENTION_vit_CE     --features=custom_vit --seed 3 --LR=1e-4     --split_test=\u001b[39;49m\u001b[39m\"\u001b[39;49m\u001b[39mtest\u001b[39;49m\u001b[39m\"\u001b[39;49m\u001b[39m     --custom_feature_path=$vit_features_path     --loss_function=CE\u001b[39;49m\u001b[39m'\u001b[39;49m)\n",
      "File \u001b[0;32m~/.pyenv/versions/3.10.4/envs/gatech.deepLearning.project/lib/python3.10/site-packages/IPython/core/interactiveshell.py:2364\u001b[0m, in \u001b[0;36mInteractiveShell.run_line_magic\u001b[0;34m(self, magic_name, line, _stack_depth)\u001b[0m\n\u001b[1;32m   2362\u001b[0m     kwargs[\u001b[39m'\u001b[39m\u001b[39mlocal_ns\u001b[39m\u001b[39m'\u001b[39m] \u001b[39m=\u001b[39m \u001b[39mself\u001b[39m\u001b[39m.\u001b[39mget_local_scope(stack_depth)\n\u001b[1;32m   2363\u001b[0m \u001b[39mwith\u001b[39;00m \u001b[39mself\u001b[39m\u001b[39m.\u001b[39mbuiltin_trap:\n\u001b[0;32m-> 2364\u001b[0m     result \u001b[39m=\u001b[39m fn(\u001b[39m*\u001b[39;49margs, \u001b[39m*\u001b[39;49m\u001b[39m*\u001b[39;49mkwargs)\n\u001b[1;32m   2365\u001b[0m \u001b[39mreturn\u001b[39;00m result\n",
      "File \u001b[0;32m~/.pyenv/versions/3.10.4/envs/gatech.deepLearning.project/lib/python3.10/site-packages/IPython/core/magics/execution.py:707\u001b[0m, in \u001b[0;36mExecutionMagics.run\u001b[0;34m(self, parameter_s, runner, file_finder)\u001b[0m\n\u001b[1;32m    705\u001b[0m     \u001b[39mif\u001b[39;00m os\u001b[39m.\u001b[39mname \u001b[39m==\u001b[39m \u001b[39m'\u001b[39m\u001b[39mnt\u001b[39m\u001b[39m'\u001b[39m \u001b[39mand\u001b[39;00m re\u001b[39m.\u001b[39mmatch(\u001b[39mr\u001b[39m\u001b[39m\"\u001b[39m\u001b[39m^\u001b[39m\u001b[39m'\u001b[39m\u001b[39m.*\u001b[39m\u001b[39m'\u001b[39m\u001b[39m$\u001b[39m\u001b[39m\"\u001b[39m,fpath):\n\u001b[1;32m    706\u001b[0m         warn(\u001b[39m'\u001b[39m\u001b[39mFor Windows, use double quotes to wrap a filename: \u001b[39m\u001b[39m%r\u001b[39;00m\u001b[39mun \u001b[39m\u001b[39m\"\u001b[39m\u001b[39mmypath\u001b[39m\u001b[39m\\\\\u001b[39;00m\u001b[39mmyfile.py\u001b[39m\u001b[39m\"\u001b[39m\u001b[39m'\u001b[39m)\n\u001b[0;32m--> 707\u001b[0m     \u001b[39mraise\u001b[39;00m \u001b[39mException\u001b[39;00m(msg) \u001b[39mfrom\u001b[39;00m \u001b[39me\u001b[39;00m\n\u001b[1;32m    708\u001b[0m \u001b[39mexcept\u001b[39;00m \u001b[39mTypeError\u001b[39;00m:\n\u001b[1;32m    709\u001b[0m     \u001b[39mif\u001b[39;00m fpath \u001b[39min\u001b[39;00m sys\u001b[39m.\u001b[39mmeta_path:\n",
      "\u001b[0;31mException\u001b[0m: File `'$training_file_name'` not found."
     ]
    }
   ],
   "source": [
    "%run $training_file_name\\\n",
    "    --SoccerNet_path=$resnet_features_path\\\n",
    "    --model_name=ATTENTION_vit_CE\\\n",
    "    --features=custom_vit --seed 3 --LR=1e-4\\\n",
    "    --split_test=\"test\"\\\n",
    "    --custom_feature_path=$vit_features_path\\\n",
    "    --loss_function=CE"
   ]
  },
  {
   "cell_type": "markdown",
   "metadata": {},
   "source": [
    "#### Experiment 6:  Vit Data + ATTENTION + CE+CB Loss"
   ]
  },
  {
   "cell_type": "code",
   "execution_count": 3,
   "metadata": {},
   "outputs": [
    {
     "name": "stderr",
     "output_type": "stream",
     "text": [
      "/Users/srv/.pyenv/versions/3.10.4/envs/gatech.deepLearning.project/lib/python3.10/site-packages/tqdm/auto.py:22: TqdmWarning: IProgress not found. Please update jupyter and ipywidgets. See https://ipywidgets.readthedocs.io/en/stable/user_install.html\n",
      "  from .autonotebook import tqdm as notebook_tqdm\n",
      "2022-12-13 17:11:15,806 [MainThread  ] [INFO ]  Starting main function\n",
      "2022-12-13 17:11:15,807 [MainThread  ] [INFO ]  Parameters:\n",
      "2022-12-13 17:11:15,807 [MainThread  ] [INFO ]   SoccerNet_path : /Users/srv/Documents/Cloud/Google Drive - Default/deep_learning_alphas_final_project/assets_pca\n",
      "2022-12-13 17:11:15,808 [MainThread  ] [INFO ]         features : custom_vit\n",
      "2022-12-13 17:11:15,808 [MainThread  ] [INFO ]       max_epochs : 1000\n",
      "2022-12-13 17:11:15,808 [MainThread  ] [INFO ]     load_weights : None\n",
      "2022-12-13 17:11:15,809 [MainThread  ] [INFO ]       model_name : ATTENTION_vit_CE+CB\n",
      "2022-12-13 17:11:15,809 [MainThread  ] [INFO ]        test_only : False\n",
      "2022-12-13 17:11:15,809 [MainThread  ] [INFO ]      split_train : ['train']\n",
      "2022-12-13 17:11:15,810 [MainThread  ] [INFO ]      split_valid : ['valid']\n",
      "2022-12-13 17:11:15,810 [MainThread  ] [INFO ]       split_test : ['test']\n",
      "2022-12-13 17:11:15,810 [MainThread  ] [INFO ]          version : 2\n",
      "2022-12-13 17:11:15,811 [MainThread  ] [INFO ]      feature_dim : None\n",
      "2022-12-13 17:11:15,811 [MainThread  ] [INFO ]  evaluation_frequency : 10\n",
      "2022-12-13 17:11:15,811 [MainThread  ] [INFO ]        framerate : 2\n",
      "2022-12-13 17:11:15,811 [MainThread  ] [INFO ]      window_size : 15\n",
      "2022-12-13 17:11:15,812 [MainThread  ] [INFO ]             pool : NetVLAD++\n",
      "2022-12-13 17:11:15,812 [MainThread  ] [INFO ]       vocab_size : 64\n",
      "2022-12-13 17:11:15,812 [MainThread  ] [INFO ]       NMS_window : 30\n",
      "2022-12-13 17:11:15,813 [MainThread  ] [INFO ]    NMS_threshold : 0.0\n",
      "2022-12-13 17:11:15,813 [MainThread  ] [INFO ]       batch_size : 256\n",
      "2022-12-13 17:11:15,813 [MainThread  ] [INFO ]               LR : 0.001\n",
      "2022-12-13 17:11:15,814 [MainThread  ] [INFO ]              LRe : 1e-06\n",
      "2022-12-13 17:11:15,814 [MainThread  ] [INFO ]         patience : 10\n",
      "2022-12-13 17:11:15,814 [MainThread  ] [INFO ]              GPU : 0\n",
      "2022-12-13 17:11:15,815 [MainThread  ] [INFO ]   max_num_worker : 1\n",
      "2022-12-13 17:11:15,815 [MainThread  ] [INFO ]             seed : 3\n",
      "2022-12-13 17:11:15,815 [MainThread  ] [INFO ]         loglevel : INFO\n",
      "2022-12-13 17:11:15,815 [MainThread  ] [INFO ]  custom_feature_path : /Users/srv/Documents/Cloud/Georgia Institute of Technology/Alphas - Project Data/vit_features\n",
      "2022-12-13 17:11:15,816 [MainThread  ] [INFO ]    loss_function : CE+CB\n",
      "2022-12-13 17:11:15,816 [MainThread  ] [INFO ]           device : mps\n",
      "2022-12-13 17:11:15,816 [MainThread  ] [INFO ]  model_save_path : /Users/srv/Documents/Cloud/Georgia Institute of Technology/Alphas - Project Data/project_artefacts/ATTENTION_vit_CE+CB/mps_run_1\n",
      "2022-12-13 17:11:15,818 [MainThread  ] [INFO ]  Checking/Download features and labels locally\n",
      "2022-12-13 17:11:15,818 [MainThread  ] [INFO ]  Pre-compute clips\n",
      "100%|██████████| 300/300 [00:03<00:00, 89.57it/s]\n",
      "2022-12-13 17:11:20,353 [MainThread  ] [INFO ]  Checking/Download features and labels locally\n",
      "2022-12-13 17:11:20,353 [MainThread  ] [INFO ]  Pre-compute clips\n",
      "100%|██████████| 100/100 [00:01<00:00, 95.96it/s]\n",
      "2022-12-13 17:11:21,780 [MainThread  ] [INFO ]  Checking/Download features and labels locally\n",
      "2022-12-13 17:11:21,780 [MainThread  ] [INFO ]  Pre-compute clips\n",
      "100%|██████████| 100/100 [00:00<00:00, 139.52it/s]\n",
      "2022-12-13 17:11:22,891 [MainThread  ] [INFO ]  Checking/Download features and labels locally\n",
      "2022-12-13 17:11:22,982 [MainThread  ] [INFO ]  AttentionModel(\n",
      "  (feature_extractor): Linear(in_features=768, out_features=512, bias=True)\n",
      "  (attention_1): MultiheadAttention(\n",
      "    (out_proj): NonDynamicallyQuantizableLinear(in_features=512, out_features=512, bias=True)\n",
      "  )\n",
      "  (linear_net): Sequential(\n",
      "    (0): Linear(in_features=512, out_features=1024, bias=True)\n",
      "    (1): ReLU(inplace=True)\n",
      "    (2): Linear(in_features=1024, out_features=512, bias=True)\n",
      "  )\n",
      "  (final_layer): Linear(in_features=512, out_features=128, bias=True)\n",
      "  (pos_embedding): Embedding(30, 512)\n",
      "  (sigm): Sigmoid()\n",
      "  (norm_1): LayerNorm((30, 512), eps=1e-05, elementwise_affine=True)\n",
      "  (f_class): Linear(in_features=3840, out_features=18, bias=True)\n",
      "  (drop_1): Dropout(p=0.2, inplace=False)\n",
      "  (drop_2): Dropout(p=0.3, inplace=False)\n",
      "  (drop_3): Dropout(p=0.4, inplace=False)\n",
      "  (pool_layer_before): NetVLAD()\n",
      "  (pool_layer_after): NetVLAD()\n",
      "  (fc): Linear(in_features=32768, out_features=18, bias=True)\n",
      ")\n",
      "2022-12-13 17:11:22,983 [MainThread  ] [INFO ]  Total number of parameters: 3330724\n",
      "/Users/srv/Documents/Git/GaTech/dl_cse_7643/final_project/code/training_modules/loss.py:39: UserWarning: To copy construct from a tensor, it is recommended to use sourceTensor.clone().detach() or sourceTensor.clone().detach().requires_grad_(True), rather than torch.tensor(sourceTensor).\n",
      "  self.weight = torch.tensor(weight).float()\n",
      "2022-12-13 17:11:22,995 [MainThread  ] [INFO ]  start training\n"
     ]
    },
    {
     "name": "stdout",
     "output_type": "stream",
     "text": [
      "feature_dim found: 768\n",
      "beta = 0.9\n"
     ]
    },
    {
     "name": "stderr",
     "output_type": "stream",
     "text": [
      "Train 1: Time 0.155s (it:0.468s) Data:0.007s (it:0.010s) Loss 1.1600e+00 : 100%|██████████| 429/429 [01:06<00:00,  6.45it/s]\n",
      "Evaluate 1: Time 0.051s (it:0.136s) Data:0.005s (it:0.004s) Loss 1.1447e+00 : 100%|██████████| 143/143 [00:07<00:00, 19.48it/s]\n",
      "Train 2: Time 0.161s (it:0.126s) Data:0.006s (it:0.007s) Loss 1.1350e+00 : 100%|██████████| 429/429 [01:09<00:00,  6.19it/s]\n",
      "Evaluate 2: Time 0.050s (it:0.035s) Data:0.005s (it:0.004s) Loss 1.1364e+00 : 100%|██████████| 143/143 [00:07<00:00, 20.15it/s]\n",
      "Train 3: Time 0.159s (it:0.122s) Data:0.006s (it:0.007s) Loss 1.1292e+00 : 100%|██████████| 429/429 [01:08<00:00,  6.30it/s]\n",
      "Evaluate 3: Time 0.049s (it:0.036s) Data:0.005s (it:0.004s) Loss 1.1322e+00 : 100%|██████████| 143/143 [00:07<00:00, 20.34it/s]\n",
      "Train 4: Time 0.155s (it:0.127s) Data:0.006s (it:0.007s) Loss 1.1251e+00 : 100%|██████████| 429/429 [01:06<00:00,  6.45it/s]\n",
      "Evaluate 4: Time 0.049s (it:0.035s) Data:0.005s (it:0.004s) Loss 1.1293e+00 : 100%|██████████| 143/143 [00:07<00:00, 20.38it/s]\n",
      "Train 5: Time 0.153s (it:0.120s) Data:0.006s (it:0.007s) Loss 1.1207e+00 : 100%|██████████| 429/429 [01:05<00:00,  6.52it/s]\n",
      "Evaluate 5: Time 0.049s (it:0.034s) Data:0.005s (it:0.004s) Loss 1.1251e+00 : 100%|██████████| 143/143 [00:06<00:00, 20.54it/s]\n",
      "Train 6: Time 0.154s (it:0.119s) Data:0.006s (it:0.008s) Loss 1.1162e+00 : 100%|██████████| 429/429 [01:06<00:00,  6.49it/s]\n",
      "Evaluate 6: Time 0.047s (it:0.034s) Data:0.005s (it:0.004s) Loss 1.1174e+00 : 100%|██████████| 143/143 [00:06<00:00, 21.41it/s]\n",
      "Train 7: Time 0.152s (it:0.121s) Data:0.006s (it:0.007s) Loss 1.1131e+00 : 100%|██████████| 429/429 [01:05<00:00,  6.58it/s]\n",
      "Evaluate 7: Time 0.047s (it:0.033s) Data:0.005s (it:0.004s) Loss 1.1150e+00 : 100%|██████████| 143/143 [00:06<00:00, 21.13it/s]\n",
      "Train 8: Time 0.151s (it:0.118s) Data:0.006s (it:0.007s) Loss 1.1112e+00 : 100%|██████████| 429/429 [01:04<00:00,  6.61it/s]\n",
      "Evaluate 8: Time 0.047s (it:0.033s) Data:0.005s (it:0.004s) Loss 1.1131e+00 : 100%|██████████| 143/143 [00:06<00:00, 21.12it/s]\n",
      "Train 9: Time 0.153s (it:0.121s) Data:0.006s (it:0.007s) Loss 1.1080e+00 : 100%|██████████| 429/429 [01:05<00:00,  6.53it/s]\n",
      "Evaluate 9: Time 0.048s (it:0.035s) Data:0.005s (it:0.004s) Loss 1.1142e+00 : 100%|██████████| 143/143 [00:06<00:00, 20.68it/s]\n",
      "Train 10: Time 0.152s (it:0.118s) Data:0.006s (it:0.007s) Loss 1.1061e+00 : 100%|██████████| 429/429 [01:05<00:00,  6.60it/s]\n",
      "Evaluate 10: Time 0.047s (it:0.033s) Data:0.005s (it:0.004s) Loss 1.1097e+00 : 100%|██████████| 143/143 [00:06<00:00, 21.27it/s]\n",
      "Train 11: Time 0.151s (it:0.117s) Data:0.006s (it:0.007s) Loss 1.1043e+00 : 100%|██████████| 429/429 [01:04<00:00,  6.64it/s]\n",
      "Evaluate 11: Time 0.047s (it:0.033s) Data:0.005s (it:0.004s) Loss 1.1133e+00 : 100%|██████████| 143/143 [00:06<00:00, 21.40it/s]\n",
      "Test (cls): Time 0.046s (it:0.034s) Data:0.005s (it:0.005s) : 100%|██████████| 143/143 [00:06<00:00, 21.53it/s]\n",
      "2022-12-13 17:24:53,881 [MainThread  ] [INFO ]  Validation performance at epoch 11 -> 0.21661350722545142\n"
     ]
    },
    {
     "name": "stdout",
     "output_type": "stream",
     "text": [
      "0.21661350722545142 [0.07378220893522973, 0.22939559026060471, 0.16482821792098748, 0.3297556670511858, 0.0456511640447545, 0.18286741724519387, 0.16948533003732716, 0.2126183781046715, 0.5243706621895583, 0.3933529637554582, 0.3267758656662164, 0.20694463497122859, 0.12156399803005952, 0.4187961530057321, 0.14460372333963473, 0.004764866961167928, 0.13287278131366329]\n"
     ]
    },
    {
     "name": "stderr",
     "output_type": "stream",
     "text": [
      "Train 12: Time 0.152s (it:0.120s) Data:0.006s (it:0.007s) Loss 1.1026e+00 : 100%|██████████| 429/429 [01:05<00:00,  6.58it/s]\n",
      "Evaluate 12: Time 0.049s (it:0.035s) Data:0.005s (it:0.004s) Loss 1.1130e+00 : 100%|██████████| 143/143 [00:07<00:00, 20.41it/s]\n",
      "Train 13: Time 0.152s (it:0.124s) Data:0.006s (it:0.007s) Loss 1.1008e+00 : 100%|██████████| 429/429 [01:05<00:00,  6.57it/s]\n",
      "Evaluate 13: Time 0.048s (it:0.035s) Data:0.005s (it:0.004s) Loss 1.1072e+00 : 100%|██████████| 143/143 [00:06<00:00, 20.73it/s]\n",
      "Train 14: Time 0.153s (it:0.118s) Data:0.006s (it:0.007s) Loss 1.0994e+00 : 100%|██████████| 429/429 [01:05<00:00,  6.53it/s]\n",
      "Evaluate 14: Time 0.047s (it:0.033s) Data:0.005s (it:0.004s) Loss 1.1122e+00 : 100%|██████████| 143/143 [00:06<00:00, 21.37it/s]\n",
      "Train 15: Time 0.152s (it:0.121s) Data:0.006s (it:0.007s) Loss 1.0991e+00 : 100%|██████████| 429/429 [01:05<00:00,  6.57it/s]\n",
      "Evaluate 15: Time 0.047s (it:0.034s) Data:0.005s (it:0.004s) Loss 1.1093e+00 : 100%|██████████| 143/143 [00:06<00:00, 21.18it/s]\n",
      "Train 16: Time 0.150s (it:0.116s) Data:0.006s (it:0.007s) Loss 1.0971e+00 : 100%|██████████| 429/429 [01:04<00:00,  6.68it/s]\n",
      "Evaluate 16: Time 0.047s (it:0.032s) Data:0.005s (it:0.004s) Loss 1.1069e+00 : 100%|██████████| 143/143 [00:06<00:00, 21.48it/s]\n",
      "Train 17: Time 0.153s (it:0.118s) Data:0.006s (it:0.007s) Loss 1.0973e+00 : 100%|██████████| 429/429 [01:05<00:00,  6.54it/s]\n",
      "Evaluate 17: Time 0.047s (it:0.033s) Data:0.005s (it:0.004s) Loss 1.1067e+00 : 100%|██████████| 143/143 [00:06<00:00, 21.46it/s]\n",
      "Train 18: Time 0.151s (it:0.118s) Data:0.006s (it:0.007s) Loss 1.0946e+00 : 100%|██████████| 429/429 [01:04<00:00,  6.62it/s]\n",
      "Evaluate 18: Time 0.047s (it:0.034s) Data:0.005s (it:0.004s) Loss 1.1019e+00 : 100%|██████████| 143/143 [00:06<00:00, 21.41it/s]\n",
      "Train 19: Time 0.151s (it:0.117s) Data:0.006s (it:0.008s) Loss 1.0938e+00 : 100%|██████████| 429/429 [01:04<00:00,  6.62it/s]\n",
      "Evaluate 19: Time 0.047s (it:0.033s) Data:0.005s (it:0.004s) Loss 1.1042e+00 : 100%|██████████| 143/143 [00:06<00:00, 21.38it/s]\n",
      "Train 20: Time 0.151s (it:0.119s) Data:0.006s (it:0.007s) Loss 1.0929e+00 : 100%|██████████| 429/429 [01:04<00:00,  6.64it/s]\n",
      "Evaluate 20: Time 0.047s (it:0.033s) Data:0.005s (it:0.004s) Loss 1.1006e+00 : 100%|██████████| 143/143 [00:06<00:00, 21.38it/s]\n",
      "Train 21: Time 0.154s (it:0.120s) Data:0.006s (it:0.007s) Loss 1.0924e+00 : 100%|██████████| 429/429 [01:05<00:00,  6.51it/s]\n",
      "Evaluate 21: Time 0.047s (it:0.035s) Data:0.005s (it:0.004s) Loss 1.1019e+00 : 100%|██████████| 143/143 [00:06<00:00, 21.21it/s]\n",
      "Test (cls): Time 0.047s (it:0.033s) Data:0.005s (it:0.004s) : 100%|██████████| 143/143 [00:06<00:00, 21.39it/s]\n",
      "2022-12-13 17:36:59,864 [MainThread  ] [INFO ]  Validation performance at epoch 21 -> 0.24744808100859886\n"
     ]
    },
    {
     "name": "stdout",
     "output_type": "stream",
     "text": [
      "0.24744808100859886 [0.12439187880646704, 0.3418561937859534, 0.24521459891873162, 0.4094277337600787, 0.048932763163024647, 0.20397912419154704, 0.1928439157232837, 0.24578971212900944, 0.5457255969397883, 0.4420564790137833, 0.3454781674757005, 0.2241754534575126, 0.19377313511315863, 0.4497888398180796, 0.16976515235201967, 0.009781594897549897, 0.013637037600492322]\n"
     ]
    },
    {
     "name": "stderr",
     "output_type": "stream",
     "text": [
      "Train 22: Time 0.150s (it:0.118s) Data:0.006s (it:0.007s) Loss 1.0917e+00 : 100%|██████████| 429/429 [01:04<00:00,  6.65it/s]\n",
      "Evaluate 22: Time 0.048s (it:0.034s) Data:0.005s (it:0.004s) Loss 1.1065e+00 : 100%|██████████| 143/143 [00:06<00:00, 20.94it/s]\n",
      "Train 23: Time 0.150s (it:0.118s) Data:0.006s (it:0.007s) Loss 1.0901e+00 : 100%|██████████| 429/429 [01:04<00:00,  6.65it/s]\n",
      "Evaluate 23: Time 0.048s (it:0.033s) Data:0.005s (it:0.004s) Loss 1.1068e+00 : 100%|██████████| 143/143 [00:06<00:00, 20.98it/s]\n",
      "Train 24: Time 0.153s (it:0.118s) Data:0.006s (it:0.007s) Loss 1.0915e+00 : 100%|██████████| 429/429 [01:05<00:00,  6.55it/s]\n",
      "Evaluate 24: Time 0.047s (it:0.033s) Data:0.005s (it:0.004s) Loss 1.1065e+00 : 100%|██████████| 143/143 [00:06<00:00, 21.36it/s]\n",
      "Train 25: Time 0.152s (it:0.119s) Data:0.006s (it:0.007s) Loss 1.0911e+00 : 100%|██████████| 429/429 [01:05<00:00,  6.60it/s]\n",
      "Evaluate 25: Time 0.048s (it:0.033s) Data:0.005s (it:0.004s) Loss 1.1057e+00 : 100%|██████████| 143/143 [00:06<00:00, 20.76it/s]\n",
      "Train 26: Time 0.151s (it:0.117s) Data:0.006s (it:0.007s) Loss 1.0884e+00 : 100%|██████████| 429/429 [01:04<00:00,  6.64it/s]\n",
      "Evaluate 26: Time 0.048s (it:0.034s) Data:0.005s (it:0.005s) Loss 1.0997e+00 : 100%|██████████| 143/143 [00:06<00:00, 21.02it/s]\n",
      "Train 27: Time 0.152s (it:0.117s) Data:0.006s (it:0.007s) Loss 1.0893e+00 : 100%|██████████| 429/429 [01:05<00:00,  6.57it/s]\n",
      "Evaluate 27: Time 0.047s (it:0.033s) Data:0.005s (it:0.004s) Loss 1.1021e+00 : 100%|██████████| 143/143 [00:06<00:00, 21.37it/s]\n",
      "Train 28: Time 0.150s (it:0.118s) Data:0.006s (it:0.007s) Loss 1.0897e+00 : 100%|██████████| 429/429 [01:04<00:00,  6.67it/s]\n",
      "Evaluate 28: Time 0.047s (it:0.033s) Data:0.005s (it:0.004s) Loss 1.0972e+00 : 100%|██████████| 143/143 [00:06<00:00, 21.31it/s]\n",
      "Train 29: Time 0.151s (it:0.118s) Data:0.006s (it:0.007s) Loss 1.0864e+00 : 100%|██████████| 429/429 [01:04<00:00,  6.62it/s]\n",
      "Evaluate 29: Time 0.048s (it:0.033s) Data:0.005s (it:0.004s) Loss 1.1012e+00 : 100%|██████████| 143/143 [00:06<00:00, 21.03it/s]\n",
      "Train 30: Time 0.151s (it:0.118s) Data:0.006s (it:0.007s) Loss 1.0860e+00 : 100%|██████████| 429/429 [01:04<00:00,  6.61it/s]\n",
      "Evaluate 30: Time 0.047s (it:0.042s) Data:0.005s (it:0.004s) Loss 1.0948e+00 : 100%|██████████| 143/143 [00:06<00:00, 21.16it/s]\n",
      "Train 31: Time 0.154s (it:0.118s) Data:0.006s (it:0.008s) Loss 1.0860e+00 : 100%|██████████| 429/429 [01:06<00:00,  6.50it/s]\n",
      "Evaluate 31: Time 0.047s (it:0.033s) Data:0.005s (it:0.004s) Loss 1.0998e+00 : 100%|██████████| 143/143 [00:06<00:00, 21.26it/s]\n",
      "Test (cls): Time 0.046s (it:0.033s) Data:0.005s (it:0.004s) : 100%|██████████| 143/143 [00:06<00:00, 21.64it/s]\n",
      "2022-12-13 17:49:04,094 [MainThread  ] [INFO ]  Validation performance at epoch 31 -> 0.2592377709298498\n"
     ]
    },
    {
     "name": "stdout",
     "output_type": "stream",
     "text": [
      "0.2592377709298498 [0.19167934309556436, 0.4118615268431333, 0.2523713021221532, 0.40460661117970137, 0.05851589980841628, 0.21955279549248086, 0.19464597108620776, 0.25468098334333045, 0.5540614315987089, 0.45139664093943793, 0.33771225592864795, 0.21723276177028444, 0.20636748419148873, 0.47176868515093395, 0.16602391658391663, 0.005613560023706522, 0.008950936649332436]\n"
     ]
    },
    {
     "name": "stderr",
     "output_type": "stream",
     "text": [
      "Train 32: Time 0.152s (it:0.119s) Data:0.006s (it:0.007s) Loss 1.0890e+00 : 100%|██████████| 429/429 [01:05<00:00,  6.58it/s]\n",
      "Evaluate 32: Time 0.047s (it:0.035s) Data:0.005s (it:0.004s) Loss 1.0957e+00 : 100%|██████████| 143/143 [00:06<00:00, 21.35it/s]\n",
      "Train 33: Time 0.152s (it:0.118s) Data:0.006s (it:0.007s) Loss 1.0848e+00 : 100%|██████████| 429/429 [01:05<00:00,  6.60it/s]\n",
      "Evaluate 33: Time 0.047s (it:0.034s) Data:0.005s (it:0.004s) Loss 1.0966e+00 : 100%|██████████| 143/143 [00:06<00:00, 21.32it/s]\n",
      "Train 34: Time 0.150s (it:0.117s) Data:0.006s (it:0.007s) Loss 1.0837e+00 : 100%|██████████| 429/429 [01:04<00:00,  6.65it/s]\n",
      "Evaluate 34: Time 0.048s (it:0.033s) Data:0.005s (it:0.004s) Loss 1.0953e+00 : 100%|██████████| 143/143 [00:06<00:00, 20.97it/s]\n",
      "Train 35: Time 0.150s (it:0.119s) Data:0.006s (it:0.008s) Loss 1.0842e+00 : 100%|██████████| 429/429 [01:04<00:00,  6.66it/s]\n",
      "Evaluate 35: Time 0.047s (it:0.033s) Data:0.005s (it:0.004s) Loss 1.0930e+00 : 100%|██████████| 143/143 [00:06<00:00, 21.35it/s]\n",
      "Train 36: Time 0.152s (it:0.118s) Data:0.006s (it:0.007s) Loss 1.0832e+00 : 100%|██████████| 429/429 [01:05<00:00,  6.58it/s]\n",
      "Evaluate 36: Time 0.047s (it:0.035s) Data:0.005s (it:0.004s) Loss 1.0945e+00 : 100%|██████████| 143/143 [00:06<00:00, 21.33it/s]\n",
      "Train 37: Time 0.150s (it:0.119s) Data:0.006s (it:0.007s) Loss 1.0846e+00 : 100%|██████████| 429/429 [01:04<00:00,  6.68it/s]\n",
      "Evaluate 37: Time 0.050s (it:0.034s) Data:0.005s (it:0.004s) Loss 1.1029e+00 : 100%|██████████| 143/143 [00:07<00:00, 20.10it/s]\n",
      "Train 38: Time 0.151s (it:0.119s) Data:0.006s (it:0.007s) Loss 1.0842e+00 : 100%|██████████| 429/429 [01:04<00:00,  6.60it/s]\n",
      "Evaluate 38: Time 0.047s (it:0.034s) Data:0.005s (it:0.004s) Loss 1.1020e+00 : 100%|██████████| 143/143 [00:06<00:00, 21.25it/s]\n",
      "Train 39: Time 0.152s (it:0.119s) Data:0.006s (it:0.007s) Loss 1.0861e+00 : 100%|██████████| 429/429 [01:05<00:00,  6.58it/s]\n",
      "Evaluate 39: Time 0.047s (it:0.034s) Data:0.005s (it:0.004s) Loss 1.0969e+00 : 100%|██████████| 143/143 [00:06<00:00, 21.10it/s]\n",
      "Train 40: Time 0.154s (it:0.120s) Data:0.006s (it:0.007s) Loss 1.0862e+00 : 100%|██████████| 429/429 [01:05<00:00,  6.50it/s]\n",
      "Evaluate 40: Time 0.048s (it:0.033s) Data:0.005s (it:0.004s) Loss 1.0973e+00 : 100%|██████████| 143/143 [00:06<00:00, 20.94it/s]\n",
      "Train 41: Time 0.151s (it:0.119s) Data:0.006s (it:0.007s) Loss 1.0807e+00 : 100%|██████████| 429/429 [01:04<00:00,  6.61it/s]\n",
      "Evaluate 41: Time 0.047s (it:0.033s) Data:0.005s (it:0.004s) Loss 1.0933e+00 : 100%|██████████| 143/143 [00:06<00:00, 21.35it/s]\n",
      "Test (cls): Time 0.046s (it:0.033s) Data:0.005s (it:0.004s) : 100%|██████████| 143/143 [00:06<00:00, 21.53it/s]\n",
      "2022-12-13 18:01:08,359 [MainThread  ] [INFO ]  Validation performance at epoch 41 -> 0.27831687704397423\n"
     ]
    },
    {
     "name": "stdout",
     "output_type": "stream",
     "text": [
      "0.27831687704397423 [0.12353752952073588, 0.44896917905196865, 0.3300530010425492, 0.4474222303819193, 0.056757654509339166, 0.23471626186775907, 0.21201474931256595, 0.27496825286128335, 0.5682785164595718, 0.4702190649800346, 0.3618483246501095, 0.23782809190779006, 0.23198158807540145, 0.5156565570413868, 0.1891473702385661, 0.01481950430502696, 0.013169033541554217]\n"
     ]
    },
    {
     "name": "stderr",
     "output_type": "stream",
     "text": [
      "Train 42: Time 0.149s (it:0.117s) Data:0.006s (it:0.007s) Loss 1.0802e+00 : 100%|██████████| 429/429 [01:04<00:00,  6.69it/s]\n",
      "Evaluate 42: Time 0.047s (it:0.033s) Data:0.005s (it:0.004s) Loss 1.0915e+00 : 100%|██████████| 143/143 [00:06<00:00, 21.41it/s]\n",
      "Train 43: Time 0.152s (it:0.119s) Data:0.006s (it:0.007s) Loss 1.0815e+00 : 100%|██████████| 429/429 [01:05<00:00,  6.58it/s]\n",
      "Evaluate 43: Time 0.047s (it:0.033s) Data:0.005s (it:0.004s) Loss 1.0929e+00 : 100%|██████████| 143/143 [00:06<00:00, 21.31it/s]\n",
      "Train 44: Time 0.151s (it:0.118s) Data:0.006s (it:0.007s) Loss 1.0810e+00 : 100%|██████████| 429/429 [01:04<00:00,  6.62it/s]\n",
      "Evaluate 44: Time 0.047s (it:0.034s) Data:0.005s (it:0.004s) Loss 1.0961e+00 : 100%|██████████| 143/143 [00:06<00:00, 21.37it/s]\n",
      "Train 45: Time 0.150s (it:0.118s) Data:0.006s (it:0.007s) Loss 1.0810e+00 : 100%|██████████| 429/429 [01:04<00:00,  6.67it/s]\n",
      "Evaluate 45: Time 0.047s (it:0.033s) Data:0.005s (it:0.004s) Loss 1.0957e+00 : 100%|██████████| 143/143 [00:06<00:00, 21.25it/s]\n",
      "Train 46: Time 0.151s (it:0.125s) Data:0.006s (it:0.007s) Loss 1.0813e+00 : 100%|██████████| 429/429 [01:04<00:00,  6.61it/s]\n",
      "Evaluate 46: Time 0.048s (it:0.033s) Data:0.005s (it:0.004s) Loss 1.0934e+00 : 100%|██████████| 143/143 [00:06<00:00, 20.90it/s]\n",
      "Train 47: Time 0.151s (it:0.117s) Data:0.006s (it:0.007s) Loss 1.0807e+00 : 100%|██████████| 429/429 [01:04<00:00,  6.64it/s]\n",
      "Evaluate 47: Time 0.047s (it:0.033s) Data:0.005s (it:0.004s) Loss 1.0921e+00 : 100%|██████████| 143/143 [00:06<00:00, 21.33it/s]\n",
      "Train 48: Time 0.150s (it:0.120s) Data:0.006s (it:0.007s) Loss 1.0801e+00 : 100%|██████████| 429/429 [01:04<00:00,  6.65it/s]\n",
      "Evaluate 48: Time 0.047s (it:0.033s) Data:0.005s (it:0.004s) Loss 1.0935e+00 : 100%|██████████| 143/143 [00:06<00:00, 21.42it/s]\n",
      "Train 49: Time 0.151s (it:0.118s) Data:0.006s (it:0.007s) Loss 1.0793e+00 : 100%|██████████| 429/429 [01:04<00:00,  6.61it/s]\n",
      "Evaluate 49: Time 0.047s (it:0.034s) Data:0.005s (it:0.004s) Loss 1.0925e+00 : 100%|██████████| 143/143 [00:06<00:00, 21.39it/s]\n",
      "Train 50: Time 0.151s (it:0.118s) Data:0.006s (it:0.007s) Loss 1.0796e+00 : 100%|██████████| 429/429 [01:04<00:00,  6.61it/s]\n",
      "Evaluate 50: Time 0.047s (it:0.033s) Data:0.005s (it:0.004s) Loss 1.0889e+00 : 100%|██████████| 143/143 [00:06<00:00, 21.33it/s]\n",
      "Train 51: Time 0.151s (it:0.118s) Data:0.006s (it:0.007s) Loss 1.0785e+00 : 100%|██████████| 429/429 [01:04<00:00,  6.64it/s]\n",
      "Evaluate 51: Time 0.047s (it:0.034s) Data:0.005s (it:0.004s) Loss 1.0970e+00 : 100%|██████████| 143/143 [00:06<00:00, 21.20it/s]\n",
      "Test (cls): Time 0.046s (it:0.033s) Data:0.005s (it:0.004s) : 100%|██████████| 143/143 [00:06<00:00, 21.51it/s]\n",
      "2022-12-13 18:13:09,325 [MainThread  ] [INFO ]  Validation performance at epoch 51 -> 0.290986335702197\n"
     ]
    },
    {
     "name": "stdout",
     "output_type": "stream",
     "text": [
      "0.290986335702197 [0.17148229246192237, 0.46729494962878343, 0.34527915329457626, 0.447029980221507, 0.06872244568257573, 0.24003131600381483, 0.2170313623162186, 0.2792521587011544, 0.569367159756133, 0.4726615165332951, 0.3567279707923352, 0.23680047879084923, 0.23420965060521554, 0.5367145646392744, 0.195844241241229, 0.012089124205314475, 0.09622934206315098]\n"
     ]
    },
    {
     "name": "stderr",
     "output_type": "stream",
     "text": [
      "Train 52: Time 0.150s (it:0.118s) Data:0.006s (it:0.007s) Loss 1.0777e+00 : 100%|██████████| 429/429 [01:04<00:00,  6.66it/s]\n",
      "Evaluate 52: Time 0.047s (it:0.034s) Data:0.005s (it:0.004s) Loss 1.0903e+00 : 100%|██████████| 143/143 [00:06<00:00, 21.29it/s]\n",
      "Train 53: Time 0.151s (it:0.116s) Data:0.006s (it:0.007s) Loss 1.0787e+00 : 100%|██████████| 429/429 [01:04<00:00,  6.61it/s]\n",
      "Evaluate 53: Time 0.047s (it:0.033s) Data:0.005s (it:0.004s) Loss 1.0915e+00 : 100%|██████████| 143/143 [00:06<00:00, 21.41it/s]\n",
      "Train 54: Time 0.152s (it:0.117s) Data:0.006s (it:0.007s) Loss 1.0777e+00 : 100%|██████████| 429/429 [01:05<00:00,  6.59it/s]\n",
      "Evaluate 54: Time 0.047s (it:0.033s) Data:0.005s (it:0.004s) Loss 1.0895e+00 : 100%|██████████| 143/143 [00:06<00:00, 21.22it/s]\n",
      "Train 55: Time 0.152s (it:0.118s) Data:0.006s (it:0.007s) Loss 1.0764e+00 : 100%|██████████| 429/429 [01:05<00:00,  6.60it/s]\n",
      "Evaluate 55: Time 0.048s (it:0.033s) Data:0.005s (it:0.004s) Loss 1.0889e+00 : 100%|██████████| 143/143 [00:06<00:00, 20.91it/s]\n",
      "Train 56: Time 0.152s (it:0.116s) Data:0.006s (it:0.007s) Loss 1.0790e+00 : 100%|██████████| 429/429 [01:05<00:00,  6.57it/s]\n",
      "Evaluate 56: Time 0.048s (it:0.037s) Data:0.005s (it:0.004s) Loss 1.1026e+00 : 100%|██████████| 143/143 [00:06<00:00, 20.91it/s]\n",
      "Train 57: Time 0.157s (it:0.117s) Data:0.006s (it:0.007s) Loss 1.0791e+00 : 100%|██████████| 429/429 [01:07<00:00,  6.39it/s]\n",
      "Evaluate 57: Time 0.047s (it:0.033s) Data:0.005s (it:0.004s) Loss 1.0952e+00 : 100%|██████████| 143/143 [00:06<00:00, 21.30it/s]\n",
      "Train 58: Time 0.151s (it:0.119s) Data:0.006s (it:0.007s) Loss 1.0787e+00 : 100%|██████████| 429/429 [01:04<00:00,  6.63it/s]\n",
      "Evaluate 58: Time 0.047s (it:0.033s) Data:0.005s (it:0.004s) Loss 1.0895e+00 : 100%|██████████| 143/143 [00:06<00:00, 21.33it/s]\n",
      "Train 59: Time 0.150s (it:0.118s) Data:0.006s (it:0.007s) Loss 1.0780e+00 : 100%|██████████| 429/429 [01:04<00:00,  6.65it/s]\n",
      "Evaluate 59: Time 0.047s (it:0.033s) Data:0.005s (it:0.004s) Loss 1.0990e+00 : 100%|██████████| 143/143 [00:06<00:00, 21.28it/s]\n",
      "Train 60: Time 0.151s (it:0.117s) Data:0.006s (it:0.007s) Loss 1.0774e+00 : 100%|██████████| 429/429 [01:04<00:00,  6.61it/s]\n",
      "Evaluate 60: Time 0.047s (it:0.033s) Data:0.005s (it:0.004s) Loss 1.0910e+00 : 100%|██████████| 143/143 [00:06<00:00, 21.22it/s]\n",
      "Train 61: Time 0.151s (it:0.121s) Data:0.006s (it:0.007s) Loss 1.0815e+00 : 100%|██████████| 429/429 [01:04<00:00,  6.64it/s]\n",
      "Evaluate 61: Time 0.047s (it:0.033s) Data:0.005s (it:0.004s) Loss 1.0999e+00 : 100%|██████████| 143/143 [00:06<00:00, 21.17it/s]\n",
      "Test (cls): Time 0.046s (it:0.033s) Data:0.005s (it:0.004s) : 100%|██████████| 143/143 [00:06<00:00, 21.59it/s]\n",
      "2022-12-13 18:25:14,336 [MainThread  ] [INFO ]  Validation performance at epoch 61 -> 0.2620007510203162\n",
      "2022-12-13 18:25:14,338 [MainThread  ] [INFO ]  Plateau Reached!\n"
     ]
    },
    {
     "name": "stdout",
     "output_type": "stream",
     "text": [
      "0.2620007510203162 [0.11199743352848406, 0.4284698463575525, 0.30837442274980637, 0.4307764311662098, 0.06339303961071198, 0.2204571455893158, 0.18886264266739128, 0.24611927689679033, 0.5477420949318854, 0.44031198899630036, 0.33858517193832777, 0.2107380233820828, 0.17254220238002715, 0.4839673437608028, 0.16409107402793696, 0.005657704632159199, 0.0919269247295914]\n",
      "Epoch 00061: reducing learning rate of group 0 to 1.0000e-04.\n"
     ]
    },
    {
     "name": "stderr",
     "output_type": "stream",
     "text": [
      "Train 62: Time 0.150s (it:0.118s) Data:0.006s (it:0.007s) Loss 1.0781e+00 : 100%|██████████| 429/429 [01:04<00:00,  6.68it/s]\n",
      "Evaluate 62: Time 0.047s (it:0.033s) Data:0.005s (it:0.004s) Loss 1.1013e+00 : 100%|██████████| 143/143 [00:06<00:00, 21.39it/s]\n",
      "Train 63: Time 0.151s (it:0.120s) Data:0.006s (it:0.007s) Loss 1.0774e+00 : 100%|██████████| 429/429 [01:04<00:00,  6.63it/s]\n",
      "Evaluate 63: Time 0.047s (it:0.033s) Data:0.005s (it:0.004s) Loss 1.0978e+00 : 100%|██████████| 143/143 [00:06<00:00, 21.18it/s]\n",
      "Train 64: Time 0.151s (it:0.119s) Data:0.006s (it:0.007s) Loss 1.0764e+00 : 100%|██████████| 429/429 [01:04<00:00,  6.64it/s]\n",
      "Evaluate 64: Time 0.047s (it:0.033s) Data:0.005s (it:0.004s) Loss 1.0970e+00 : 100%|██████████| 143/143 [00:06<00:00, 21.18it/s]\n",
      "Train 65: Time 0.150s (it:0.118s) Data:0.006s (it:0.007s) Loss 1.0760e+00 : 100%|██████████| 429/429 [01:04<00:00,  6.67it/s]\n",
      "Evaluate 65: Time 0.047s (it:0.033s) Data:0.005s (it:0.004s) Loss 1.0956e+00 : 100%|██████████| 143/143 [00:06<00:00, 21.23it/s]\n",
      "Train 66: Time 0.150s (it:0.116s) Data:0.006s (it:0.007s) Loss 1.0751e+00 : 100%|██████████| 429/429 [01:04<00:00,  6.67it/s]\n",
      "Evaluate 66: Time 0.047s (it:0.033s) Data:0.005s (it:0.004s) Loss 1.0956e+00 : 100%|██████████| 143/143 [00:06<00:00, 21.41it/s]\n",
      "Train 67: Time 0.152s (it:0.117s) Data:0.006s (it:0.007s) Loss 1.0745e+00 : 100%|██████████| 429/429 [01:05<00:00,  6.57it/s]\n",
      "Evaluate 67: Time 0.047s (it:0.034s) Data:0.005s (it:0.004s) Loss 1.0929e+00 : 100%|██████████| 143/143 [00:06<00:00, 21.34it/s]\n",
      "Train 68: Time 0.150s (it:0.117s) Data:0.006s (it:0.007s) Loss 1.0733e+00 : 100%|██████████| 429/429 [01:04<00:00,  6.65it/s]\n",
      "Evaluate 68: Time 0.047s (it:0.034s) Data:0.005s (it:0.004s) Loss 1.0903e+00 : 100%|██████████| 143/143 [00:06<00:00, 21.31it/s]\n",
      "Train 69: Time 0.150s (it:0.117s) Data:0.006s (it:0.007s) Loss 1.0724e+00 : 100%|██████████| 429/429 [01:04<00:00,  6.66it/s]\n",
      "Evaluate 69: Time 0.047s (it:0.033s) Data:0.005s (it:0.004s) Loss 1.0896e+00 : 100%|██████████| 143/143 [00:06<00:00, 21.34it/s]\n",
      "Train 70: Time 0.150s (it:0.118s) Data:0.006s (it:0.007s) Loss 1.0717e+00 : 100%|██████████| 429/429 [01:04<00:00,  6.66it/s]\n",
      "Evaluate 70: Time 0.047s (it:0.033s) Data:0.005s (it:0.004s) Loss 1.0893e+00 : 100%|██████████| 143/143 [00:06<00:00, 21.33it/s]\n",
      "Train 71: Time 0.151s (it:0.117s) Data:0.006s (it:0.007s) Loss 1.0713e+00 : 100%|██████████| 429/429 [01:04<00:00,  6.64it/s]\n",
      "Evaluate 71: Time 0.047s (it:0.033s) Data:0.005s (it:0.004s) Loss 1.0898e+00 : 100%|██████████| 143/143 [00:06<00:00, 21.28it/s]\n",
      "Test (cls): Time 0.046s (it:0.034s) Data:0.005s (it:0.004s) : 100%|██████████| 143/143 [00:06<00:00, 21.62it/s]\n",
      "2022-12-13 18:37:13,690 [MainThread  ] [INFO ]  Validation performance at epoch 71 -> 0.2925626579949782\n"
     ]
    },
    {
     "name": "stdout",
     "output_type": "stream",
     "text": [
      "0.2925626579949782 [0.1848617495482147, 0.47227454853268813, 0.3635686552343391, 0.4538505274986725, 0.08433572282682147, 0.24162200924827215, 0.2180367274717846, 0.27889581426142424, 0.5676742666042351, 0.47808350123840593, 0.361423102611996, 0.239429473294812, 0.2517140808976518, 0.5359020638884804, 0.1863574869300938, 0.009581409921454002, 0.045954045905282764]\n"
     ]
    },
    {
     "name": "stderr",
     "output_type": "stream",
     "text": [
      "Train 72: Time 0.150s (it:0.117s) Data:0.006s (it:0.007s) Loss 1.0713e+00 : 100%|██████████| 429/429 [01:04<00:00,  6.68it/s]\n",
      "Evaluate 72: Time 0.047s (it:0.033s) Data:0.005s (it:0.004s) Loss 1.0892e+00 : 100%|██████████| 143/143 [00:06<00:00, 21.44it/s]\n",
      "2022-12-13 18:38:24,559 [MainThread  ] [INFO ]  Plateau Reached!\n"
     ]
    },
    {
     "name": "stdout",
     "output_type": "stream",
     "text": [
      "Epoch 00072: reducing learning rate of group 0 to 1.0000e-05.\n"
     ]
    },
    {
     "name": "stderr",
     "output_type": "stream",
     "text": [
      "Train 73: Time 0.150s (it:0.118s) Data:0.006s (it:0.008s) Loss 1.0707e+00 : 100%|██████████| 429/429 [01:04<00:00,  6.66it/s]\n",
      "Evaluate 73: Time 0.047s (it:0.033s) Data:0.005s (it:0.004s) Loss 1.0884e+00 : 100%|██████████| 143/143 [00:06<00:00, 21.46it/s]\n",
      "Train 74: Time 0.152s (it:0.117s) Data:0.006s (it:0.007s) Loss 1.0701e+00 : 100%|██████████| 429/429 [01:05<00:00,  6.59it/s]\n",
      "Evaluate 74: Time 0.048s (it:0.035s) Data:0.005s (it:0.004s) Loss 1.0881e+00 : 100%|██████████| 143/143 [00:06<00:00, 20.88it/s]\n",
      "Train 75: Time 0.152s (it:0.117s) Data:0.006s (it:0.007s) Loss 1.0705e+00 : 100%|██████████| 429/429 [01:05<00:00,  6.56it/s]\n",
      "Evaluate 75: Time 0.047s (it:0.033s) Data:0.005s (it:0.004s) Loss 1.0883e+00 : 100%|██████████| 143/143 [00:06<00:00, 21.35it/s]\n",
      "Train 76: Time 0.150s (it:0.117s) Data:0.006s (it:0.008s) Loss 1.0701e+00 : 100%|██████████| 429/429 [01:04<00:00,  6.67it/s]\n",
      "Evaluate 76: Time 0.047s (it:0.033s) Data:0.005s (it:0.004s) Loss 1.0883e+00 : 100%|██████████| 143/143 [00:06<00:00, 21.42it/s]\n",
      "Train 77: Time 0.152s (it:0.118s) Data:0.006s (it:0.007s) Loss 1.0698e+00 : 100%|██████████| 429/429 [01:05<00:00,  6.60it/s]\n",
      "Evaluate 77: Time 0.047s (it:0.033s) Data:0.005s (it:0.004s) Loss 1.0885e+00 : 100%|██████████| 143/143 [00:06<00:00, 21.34it/s]\n",
      "Train 78: Time 0.151s (it:0.116s) Data:0.006s (it:0.007s) Loss 1.0698e+00 : 100%|██████████| 429/429 [01:04<00:00,  6.64it/s]\n",
      "Evaluate 78: Time 0.048s (it:0.033s) Data:0.005s (it:0.004s) Loss 1.0883e+00 : 100%|██████████| 143/143 [00:06<00:00, 20.96it/s]\n",
      "Train 79: Time 0.151s (it:0.116s) Data:0.006s (it:0.007s) Loss 1.0702e+00 : 100%|██████████| 429/429 [01:04<00:00,  6.64it/s]\n",
      "Evaluate 79: Time 0.047s (it:0.033s) Data:0.005s (it:0.004s) Loss 1.0883e+00 : 100%|██████████| 143/143 [00:06<00:00, 21.31it/s]\n",
      "Train 80: Time 0.151s (it:0.121s) Data:0.006s (it:0.008s) Loss 1.0702e+00 : 100%|██████████| 429/429 [01:04<00:00,  6.63it/s]\n",
      "Evaluate 80: Time 0.047s (it:0.034s) Data:0.005s (it:0.004s) Loss 1.0883e+00 : 100%|██████████| 143/143 [00:06<00:00, 21.15it/s]\n",
      "Train 81: Time 0.151s (it:0.123s) Data:0.006s (it:0.007s) Loss 1.0699e+00 : 100%|██████████| 429/429 [01:04<00:00,  6.63it/s]\n",
      "Evaluate 81: Time 0.049s (it:0.035s) Data:0.005s (it:0.004s) Loss 1.0882e+00 : 100%|██████████| 143/143 [00:06<00:00, 20.45it/s]\n",
      "Test (cls): Time 0.046s (it:0.032s) Data:0.005s (it:0.004s) : 100%|██████████| 143/143 [00:06<00:00, 21.64it/s]\n",
      "2022-12-13 18:49:15,048 [MainThread  ] [INFO ]  Validation performance at epoch 81 -> 0.29717162779824013\n"
     ]
    },
    {
     "name": "stdout",
     "output_type": "stream",
     "text": [
      "0.29717162779824013 [0.20799512100212242, 0.47472028086894125, 0.37348366577392605, 0.45973826441732263, 0.08470147020932317, 0.24770026439082818, 0.22110697290948916, 0.283426902974388, 0.5710037103941411, 0.48209645484202823, 0.3644574422318283, 0.2415670263242315, 0.25734096474591767, 0.5392628140397487, 0.18744548658044147, 0.008838733723233527, 0.047032097142170375]\n"
     ]
    },
    {
     "name": "stderr",
     "output_type": "stream",
     "text": [
      "Train 82: Time 0.152s (it:0.118s) Data:0.006s (it:0.008s) Loss 1.0701e+00 : 100%|██████████| 429/429 [01:05<00:00,  6.58it/s]\n",
      "Evaluate 82: Time 0.047s (it:0.034s) Data:0.005s (it:0.004s) Loss 1.0882e+00 : 100%|██████████| 143/143 [00:06<00:00, 21.15it/s]\n",
      "Train 83: Time 0.152s (it:0.118s) Data:0.006s (it:0.007s) Loss 1.0700e+00 : 100%|██████████| 429/429 [01:05<00:00,  6.59it/s]\n",
      "Evaluate 83: Time 0.048s (it:0.034s) Data:0.005s (it:0.004s) Loss 1.0884e+00 : 100%|██████████| 143/143 [00:06<00:00, 21.05it/s]\n",
      "Train 84: Time 0.153s (it:0.121s) Data:0.006s (it:0.007s) Loss 1.0699e+00 : 100%|██████████| 429/429 [01:05<00:00,  6.55it/s]\n",
      "Evaluate 84: Time 0.048s (it:0.033s) Data:0.005s (it:0.004s) Loss 1.0881e+00 : 100%|██████████| 143/143 [00:06<00:00, 20.74it/s]\n",
      "Train 85: Time 0.152s (it:0.118s) Data:0.006s (it:0.007s) Loss 1.0697e+00 : 100%|██████████| 429/429 [01:05<00:00,  6.60it/s]\n",
      "Evaluate 85: Time 0.047s (it:0.034s) Data:0.005s (it:0.004s) Loss 1.0879e+00 : 100%|██████████| 143/143 [00:06<00:00, 21.38it/s]\n",
      "Train 86: Time 0.153s (it:0.119s) Data:0.006s (it:0.007s) Loss 1.0697e+00 : 100%|██████████| 429/429 [01:05<00:00,  6.55it/s]\n",
      "Evaluate 86: Time 0.047s (it:0.034s) Data:0.005s (it:0.004s) Loss 1.0881e+00 : 100%|██████████| 143/143 [00:06<00:00, 21.17it/s]\n",
      "Train 87: Time 0.151s (it:0.118s) Data:0.006s (it:0.007s) Loss 1.0695e+00 : 100%|██████████| 429/429 [01:04<00:00,  6.62it/s]\n",
      "Evaluate 87: Time 0.047s (it:0.033s) Data:0.005s (it:0.004s) Loss 1.0878e+00 : 100%|██████████| 143/143 [00:06<00:00, 21.37it/s]\n",
      "Train 88: Time 0.153s (it:0.118s) Data:0.006s (it:0.007s) Loss 1.0697e+00 : 100%|██████████| 429/429 [01:05<00:00,  6.55it/s]\n",
      "Evaluate 88: Time 0.047s (it:0.035s) Data:0.005s (it:0.004s) Loss 1.0879e+00 : 100%|██████████| 143/143 [00:06<00:00, 21.38it/s]\n",
      "Train 89: Time 0.150s (it:0.118s) Data:0.006s (it:0.007s) Loss 1.0691e+00 : 100%|██████████| 429/429 [01:04<00:00,  6.66it/s]\n",
      "Evaluate 89: Time 0.047s (it:0.033s) Data:0.005s (it:0.004s) Loss 1.0877e+00 : 100%|██████████| 143/143 [00:06<00:00, 21.36it/s]\n",
      "Train 90: Time 0.151s (it:0.117s) Data:0.006s (it:0.007s) Loss 1.0694e+00 : 100%|██████████| 429/429 [01:04<00:00,  6.63it/s]\n",
      "Evaluate 90: Time 0.047s (it:0.033s) Data:0.005s (it:0.004s) Loss 1.0878e+00 : 100%|██████████| 143/143 [00:06<00:00, 21.19it/s]\n",
      "Train 91: Time 0.151s (it:0.120s) Data:0.006s (it:0.007s) Loss 1.0696e+00 : 100%|██████████| 429/429 [01:04<00:00,  6.62it/s]\n",
      "Evaluate 91: Time 0.047s (it:0.033s) Data:0.005s (it:0.004s) Loss 1.0879e+00 : 100%|██████████| 143/143 [00:06<00:00, 21.30it/s]\n",
      "Test (cls): Time 0.046s (it:0.033s) Data:0.005s (it:0.004s) : 100%|██████████| 143/143 [00:06<00:00, 21.54it/s]\n",
      "2022-12-13 19:01:19,983 [MainThread  ] [INFO ]  Validation performance at epoch 91 -> 0.2977201054400625\n"
     ]
    },
    {
     "name": "stdout",
     "output_type": "stream",
     "text": [
      "0.2977201054400625 [0.20550392527929195, 0.4753472897232426, 0.3755512309723228, 0.46074044191994046, 0.07976556181519091, 0.2513012944101847, 0.22220581347683976, 0.28708470096116434, 0.572566005502359, 0.4824790616032214, 0.3671587513917946, 0.24286113869750425, 0.2588261449162018, 0.5412579110240979, 0.18778984367522383, 0.0092846145170717, 0.04151806259541021]\n"
     ]
    },
    {
     "name": "stderr",
     "output_type": "stream",
     "text": [
      "Train 92: Time 0.152s (it:0.118s) Data:0.006s (it:0.007s) Loss 1.0694e+00 : 100%|██████████| 429/429 [01:05<00:00,  6.57it/s]\n",
      "Evaluate 92: Time 0.048s (it:0.034s) Data:0.005s (it:0.004s) Loss 1.0877e+00 : 100%|██████████| 143/143 [00:06<00:00, 20.99it/s]\n",
      "Train 93: Time 0.152s (it:0.118s) Data:0.006s (it:0.007s) Loss 1.0695e+00 : 100%|██████████| 429/429 [01:05<00:00,  6.60it/s]\n",
      "Evaluate 93: Time 0.047s (it:0.033s) Data:0.005s (it:0.004s) Loss 1.0878e+00 : 100%|██████████| 143/143 [00:06<00:00, 21.33it/s]\n",
      "Train 94: Time 0.151s (it:0.117s) Data:0.006s (it:0.008s) Loss 1.0696e+00 : 100%|██████████| 429/429 [01:04<00:00,  6.63it/s]\n",
      "Evaluate 94: Time 0.047s (it:0.034s) Data:0.005s (it:0.004s) Loss 1.0877e+00 : 100%|██████████| 143/143 [00:06<00:00, 21.14it/s]\n",
      "Train 95: Time 0.152s (it:0.117s) Data:0.006s (it:0.007s) Loss 1.0694e+00 : 100%|██████████| 429/429 [01:05<00:00,  6.59it/s]\n",
      "Evaluate 95: Time 0.048s (it:0.033s) Data:0.005s (it:0.004s) Loss 1.0877e+00 : 100%|██████████| 143/143 [00:06<00:00, 20.95it/s]\n",
      "Train 96: Time 0.150s (it:0.118s) Data:0.006s (it:0.007s) Loss 1.0690e+00 : 100%|██████████| 429/429 [01:04<00:00,  6.67it/s]\n",
      "Evaluate 96: Time 0.047s (it:0.034s) Data:0.005s (it:0.004s) Loss 1.0877e+00 : 100%|██████████| 143/143 [00:06<00:00, 21.41it/s]\n",
      "Train 97: Time 0.150s (it:0.117s) Data:0.006s (it:0.007s) Loss 1.0691e+00 : 100%|██████████| 429/429 [01:04<00:00,  6.65it/s]\n",
      "Evaluate 97: Time 0.047s (it:0.034s) Data:0.005s (it:0.004s) Loss 1.0876e+00 : 100%|██████████| 143/143 [00:06<00:00, 21.31it/s]\n",
      "Train 98: Time 0.151s (it:0.118s) Data:0.006s (it:0.007s) Loss 1.0691e+00 : 100%|██████████| 429/429 [01:04<00:00,  6.61it/s]\n",
      "Evaluate 98: Time 0.047s (it:0.034s) Data:0.005s (it:0.004s) Loss 1.0877e+00 : 100%|██████████| 143/143 [00:06<00:00, 21.21it/s]\n",
      "Train 99: Time 0.151s (it:0.121s) Data:0.006s (it:0.007s) Loss 1.0691e+00 : 100%|██████████| 429/429 [01:04<00:00,  6.63it/s]\n",
      "Evaluate 99: Time 0.047s (it:0.033s) Data:0.005s (it:0.004s) Loss 1.0875e+00 : 100%|██████████| 143/143 [00:06<00:00, 21.12it/s]\n",
      "Train 100: Time 0.155s (it:0.120s) Data:0.006s (it:0.007s) Loss 1.0692e+00 : 100%|██████████| 429/429 [01:06<00:00,  6.43it/s]\n",
      "Evaluate 100: Time 0.047s (it:0.034s) Data:0.005s (it:0.004s) Loss 1.0876e+00 : 100%|██████████| 143/143 [00:06<00:00, 21.13it/s]\n",
      "Train 101: Time 0.154s (it:0.119s) Data:0.006s (it:0.007s) Loss 1.0692e+00 : 100%|██████████| 429/429 [01:06<00:00,  6.50it/s]\n",
      "Evaluate 101: Time 0.047s (it:0.034s) Data:0.005s (it:0.004s) Loss 1.0877e+00 : 100%|██████████| 143/143 [00:06<00:00, 21.22it/s]\n",
      "Test (cls): Time 0.046s (it:0.033s) Data:0.005s (it:0.004s) : 100%|██████████| 143/143 [00:06<00:00, 21.63it/s]\n",
      "2022-12-13 19:13:25,652 [MainThread  ] [INFO ]  Validation performance at epoch 101 -> 0.2988150975709493\n"
     ]
    },
    {
     "name": "stdout",
     "output_type": "stream",
     "text": [
      "0.2988150975709493 [0.2068163329418981, 0.4758476142397526, 0.3794888937724423, 0.4632087831283114, 0.08016813936151168, 0.2533795566923796, 0.22192125518131325, 0.2890761984596764, 0.5739153003111679, 0.4840577633638161, 0.36733508642833623, 0.24264417113105893, 0.2617307969204053, 0.5418765685415794, 0.1891391382542455, 0.009657266611581757, 0.03959379336666119]\n"
     ]
    },
    {
     "name": "stderr",
     "output_type": "stream",
     "text": [
      "Train 102: Time 0.152s (it:0.117s) Data:0.006s (it:0.007s) Loss 1.0686e+00 : 100%|██████████| 429/429 [01:05<00:00,  6.58it/s]\n",
      "Evaluate 102: Time 0.048s (it:0.035s) Data:0.005s (it:0.004s) Loss 1.0876e+00 : 100%|██████████| 143/143 [00:06<00:00, 20.68it/s]\n",
      "Train 103: Time 0.151s (it:0.118s) Data:0.006s (it:0.008s) Loss 1.0689e+00 : 100%|██████████| 429/429 [01:04<00:00,  6.63it/s]\n",
      "Evaluate 103: Time 0.047s (it:0.033s) Data:0.005s (it:0.004s) Loss 1.0875e+00 : 100%|██████████| 143/143 [00:06<00:00, 21.26it/s]\n",
      "Train 104: Time 0.154s (it:0.127s) Data:0.006s (it:0.007s) Loss 1.0689e+00 : 100%|██████████| 429/429 [01:05<00:00,  6.51it/s]\n",
      "Evaluate 104: Time 0.047s (it:0.034s) Data:0.005s (it:0.005s) Loss 1.0875e+00 : 100%|██████████| 143/143 [00:06<00:00, 21.12it/s]\n",
      "Train 105: Time 0.152s (it:0.118s) Data:0.006s (it:0.007s) Loss 1.0689e+00 : 100%|██████████| 429/429 [01:05<00:00,  6.59it/s]\n",
      "Evaluate 105: Time 0.047s (it:0.033s) Data:0.005s (it:0.004s) Loss 1.0876e+00 : 100%|██████████| 143/143 [00:06<00:00, 21.07it/s]\n",
      "Train 106: Time 0.151s (it:0.120s) Data:0.006s (it:0.007s) Loss 1.0687e+00 : 100%|██████████| 429/429 [01:04<00:00,  6.62it/s]\n",
      "Evaluate 106: Time 0.047s (it:0.034s) Data:0.005s (it:0.004s) Loss 1.0873e+00 : 100%|██████████| 143/143 [00:06<00:00, 21.27it/s]\n",
      "Train 107: Time 0.152s (it:0.118s) Data:0.006s (it:0.007s) Loss 1.0685e+00 : 100%|██████████| 429/429 [01:05<00:00,  6.60it/s]\n",
      "Evaluate 107: Time 0.047s (it:0.033s) Data:0.005s (it:0.004s) Loss 1.0873e+00 : 100%|██████████| 143/143 [00:06<00:00, 21.33it/s]\n",
      "Train 108: Time 0.154s (it:0.116s) Data:0.006s (it:0.008s) Loss 1.0688e+00 : 100%|██████████| 429/429 [01:06<00:00,  6.50it/s]\n",
      "Evaluate 108: Time 0.048s (it:0.034s) Data:0.005s (it:0.004s) Loss 1.0873e+00 : 100%|██████████| 143/143 [00:06<00:00, 20.68it/s]\n",
      "Train 109: Time 0.152s (it:0.121s) Data:0.006s (it:0.007s) Loss 1.0687e+00 : 100%|██████████| 429/429 [01:05<00:00,  6.57it/s]\n",
      "Evaluate 109: Time 0.047s (it:0.033s) Data:0.005s (it:0.004s) Loss 1.0873e+00 : 100%|██████████| 143/143 [00:06<00:00, 21.05it/s]\n",
      "Train 110: Time 0.152s (it:0.117s) Data:0.006s (it:0.008s) Loss 1.0687e+00 : 100%|██████████| 429/429 [01:05<00:00,  6.59it/s]\n",
      "Evaluate 110: Time 0.047s (it:0.033s) Data:0.005s (it:0.004s) Loss 1.0873e+00 : 100%|██████████| 143/143 [00:06<00:00, 21.39it/s]\n",
      "Train 111: Time 0.151s (it:0.122s) Data:0.006s (it:0.007s) Loss 1.0686e+00 : 100%|██████████| 429/429 [01:04<00:00,  6.62it/s]\n",
      "Evaluate 111: Time 0.048s (it:0.035s) Data:0.005s (it:0.004s) Loss 1.0872e+00 : 100%|██████████| 143/143 [00:06<00:00, 20.87it/s]\n",
      "Test (cls): Time 0.047s (it:0.033s) Data:0.005s (it:0.004s) : 100%|██████████| 143/143 [00:06<00:00, 21.31it/s]\n",
      "2022-12-13 19:25:32,511 [MainThread  ] [INFO ]  Validation performance at epoch 111 -> 0.301794966499046\n"
     ]
    },
    {
     "name": "stdout",
     "output_type": "stream",
     "text": [
      "0.301794966499046 [0.23594139810208134, 0.4798224927809664, 0.3806062013385314, 0.46517720043712624, 0.07822323692449179, 0.2561887786349395, 0.22363686804273936, 0.2907591453315472, 0.5733347856152653, 0.4854195246131138, 0.36759343757747853, 0.2436550232274079, 0.2620237033363073, 0.5458473335843708, 0.19013160524135972, 0.009451517550914529, 0.04270217814514278]\n"
     ]
    },
    {
     "name": "stderr",
     "output_type": "stream",
     "text": [
      "Train 112: Time 0.153s (it:0.119s) Data:0.006s (it:0.007s) Loss 1.0683e+00 : 100%|██████████| 429/429 [01:05<00:00,  6.53it/s]\n",
      "Evaluate 112: Time 0.047s (it:0.033s) Data:0.005s (it:0.004s) Loss 1.0871e+00 : 100%|██████████| 143/143 [00:06<00:00, 21.32it/s]\n",
      "Train 113: Time 0.154s (it:0.121s) Data:0.006s (it:0.007s) Loss 1.0683e+00 : 100%|██████████| 429/429 [01:06<00:00,  6.49it/s]\n",
      "Evaluate 113: Time 0.048s (it:0.034s) Data:0.005s (it:0.004s) Loss 1.0871e+00 : 100%|██████████| 143/143 [00:06<00:00, 20.94it/s]\n",
      "Train 114: Time 0.159s (it:0.118s) Data:0.006s (it:0.007s) Loss 1.0683e+00 : 100%|██████████| 429/429 [01:08<00:00,  6.28it/s]\n",
      "Evaluate 114: Time 0.050s (it:0.036s) Data:0.005s (it:0.004s) Loss 1.0872e+00 : 100%|██████████| 143/143 [00:07<00:00, 20.16it/s]\n",
      "Train 115: Time 0.157s (it:0.122s) Data:0.006s (it:0.007s) Loss 1.0683e+00 : 100%|██████████| 429/429 [01:07<00:00,  6.38it/s]\n",
      "Evaluate 115: Time 0.049s (it:0.037s) Data:0.005s (it:0.004s) Loss 1.0870e+00 : 100%|██████████| 143/143 [00:07<00:00, 20.42it/s]\n",
      "Train 116: Time 0.158s (it:0.128s) Data:0.006s (it:0.007s) Loss 1.0683e+00 : 100%|██████████| 429/429 [01:07<00:00,  6.32it/s]\n",
      "Evaluate 116: Time 0.050s (it:0.034s) Data:0.005s (it:0.004s) Loss 1.0870e+00 : 100%|██████████| 143/143 [00:07<00:00, 20.14it/s]\n",
      "Train 117: Time 0.153s (it:0.121s) Data:0.006s (it:0.007s) Loss 1.0684e+00 : 100%|██████████| 429/429 [01:05<00:00,  6.52it/s]\n",
      "Evaluate 117: Time 0.048s (it:0.034s) Data:0.005s (it:0.004s) Loss 1.0870e+00 : 100%|██████████| 143/143 [00:06<00:00, 20.72it/s]\n",
      "Train 118: Time 0.155s (it:0.128s) Data:0.006s (it:0.007s) Loss 1.0682e+00 : 100%|██████████| 429/429 [01:06<00:00,  6.44it/s]\n",
      "Evaluate 118: Time 0.048s (it:0.034s) Data:0.005s (it:0.004s) Loss 1.0872e+00 : 100%|██████████| 143/143 [00:06<00:00, 20.70it/s]\n",
      "Train 119: Time 0.159s (it:0.126s) Data:0.006s (it:0.008s) Loss 1.0683e+00 : 100%|██████████| 429/429 [01:08<00:00,  6.29it/s]\n",
      "Evaluate 119: Time 0.051s (it:0.037s) Data:0.005s (it:0.004s) Loss 1.0868e+00 : 100%|██████████| 143/143 [00:07<00:00, 19.49it/s]\n",
      "Train 120: Time 0.159s (it:0.118s) Data:0.006s (it:0.007s) Loss 1.0681e+00 : 100%|██████████| 429/429 [01:08<00:00,  6.28it/s]\n",
      "Evaluate 120: Time 0.048s (it:0.034s) Data:0.005s (it:0.004s) Loss 1.0869e+00 : 100%|██████████| 143/143 [00:06<00:00, 20.72it/s]\n",
      "Train 121: Time 0.153s (it:0.117s) Data:0.006s (it:0.007s) Loss 1.0682e+00 : 100%|██████████| 429/429 [01:05<00:00,  6.56it/s]\n",
      "Evaluate 121: Time 0.047s (it:0.033s) Data:0.005s (it:0.004s) Loss 1.0868e+00 : 100%|██████████| 143/143 [00:06<00:00, 21.15it/s]\n",
      "Test (cls): Time 0.047s (it:0.034s) Data:0.005s (it:0.004s) : 100%|██████████| 143/143 [00:06<00:00, 21.42it/s]\n",
      "2022-12-13 19:37:58,590 [MainThread  ] [INFO ]  Validation performance at epoch 121 -> 0.3033651585933859\n"
     ]
    },
    {
     "name": "stdout",
     "output_type": "stream",
     "text": [
      "0.3033651585933859 [0.2410560964305861, 0.4832710099035076, 0.3831965267771612, 0.46758589622658586, 0.08074447929838938, 0.25586759238810364, 0.22608709365541965, 0.29072323118971993, 0.5749051040263826, 0.4866616161551419, 0.3688255383282847, 0.2438767481676477, 0.26279938933077773, 0.5473957493805172, 0.19114519422656112, 0.009530495648296371, 0.04353593495447766]\n"
     ]
    },
    {
     "name": "stderr",
     "output_type": "stream",
     "text": [
      "Train 122: Time 0.152s (it:0.118s) Data:0.006s (it:0.007s) Loss 1.0682e+00 : 100%|██████████| 429/429 [01:05<00:00,  6.58it/s]\n",
      "Evaluate 122: Time 0.047s (it:0.033s) Data:0.005s (it:0.004s) Loss 1.0867e+00 : 100%|██████████| 143/143 [00:06<00:00, 21.33it/s]\n",
      "Train 123: Time 0.153s (it:0.116s) Data:0.006s (it:0.008s) Loss 1.0679e+00 : 100%|██████████| 429/429 [01:05<00:00,  6.53it/s]\n",
      "Evaluate 123: Time 0.050s (it:0.036s) Data:0.005s (it:0.004s) Loss 1.0866e+00 : 100%|██████████| 143/143 [00:07<00:00, 20.11it/s]\n",
      "Train 124: Time 0.157s (it:0.150s) Data:0.007s (it:0.009s) Loss 1.0680e+00 : 100%|██████████| 429/429 [01:07<00:00,  6.36it/s]\n",
      "Evaluate 124: Time 0.053s (it:0.034s) Data:0.006s (it:0.004s) Loss 1.0866e+00 : 100%|██████████| 143/143 [00:07<00:00, 19.03it/s]\n",
      "Train 125: Time 0.156s (it:0.118s) Data:0.006s (it:0.007s) Loss 1.0680e+00 : 100%|██████████| 429/429 [01:06<00:00,  6.41it/s]\n",
      "Evaluate 125: Time 0.048s (it:0.034s) Data:0.005s (it:0.004s) Loss 1.0866e+00 : 100%|██████████| 143/143 [00:06<00:00, 20.62it/s]\n",
      "Train 126: Time 0.152s (it:0.118s) Data:0.006s (it:0.007s) Loss 1.0673e+00 : 100%|██████████| 429/429 [01:05<00:00,  6.57it/s]\n",
      "Evaluate 126: Time 0.047s (it:0.034s) Data:0.005s (it:0.004s) Loss 1.0865e+00 : 100%|██████████| 143/143 [00:06<00:00, 21.30it/s]\n",
      "Train 127: Time 0.152s (it:0.117s) Data:0.006s (it:0.007s) Loss 1.0674e+00 : 100%|██████████| 429/429 [01:05<00:00,  6.60it/s]\n",
      "Evaluate 127: Time 0.047s (it:0.034s) Data:0.005s (it:0.004s) Loss 1.0865e+00 : 100%|██████████| 143/143 [00:06<00:00, 21.33it/s]\n",
      "Train 128: Time 0.151s (it:0.117s) Data:0.006s (it:0.007s) Loss 1.0679e+00 : 100%|██████████| 429/429 [01:04<00:00,  6.63it/s]\n",
      "Evaluate 128: Time 0.047s (it:0.033s) Data:0.005s (it:0.004s) Loss 1.0866e+00 : 100%|██████████| 143/143 [00:06<00:00, 21.43it/s]\n",
      "Train 129: Time 0.152s (it:0.125s) Data:0.006s (it:0.008s) Loss 1.0680e+00 : 100%|██████████| 429/429 [01:05<00:00,  6.58it/s]\n",
      "Evaluate 129: Time 0.047s (it:0.035s) Data:0.005s (it:0.004s) Loss 1.0863e+00 : 100%|██████████| 143/143 [00:06<00:00, 21.20it/s]\n",
      "Train 130: Time 0.153s (it:0.119s) Data:0.006s (it:0.007s) Loss 1.0677e+00 : 100%|██████████| 429/429 [01:05<00:00,  6.53it/s]\n",
      "Evaluate 130: Time 0.047s (it:0.033s) Data:0.005s (it:0.004s) Loss 1.0867e+00 : 100%|██████████| 143/143 [00:06<00:00, 21.23it/s]\n",
      "Train 131: Time 0.154s (it:0.118s) Data:0.006s (it:0.007s) Loss 1.0677e+00 : 100%|██████████| 429/429 [01:06<00:00,  6.48it/s]\n",
      "Evaluate 131: Time 0.048s (it:0.034s) Data:0.005s (it:0.004s) Loss 1.0864e+00 : 100%|██████████| 143/143 [00:06<00:00, 20.76it/s]\n",
      "Test (cls): Time 0.048s (it:0.033s) Data:0.005s (it:0.004s) : 100%|██████████| 143/143 [00:06<00:00, 20.78it/s]\n",
      "2022-12-13 19:50:11,902 [MainThread  ] [INFO ]  Validation performance at epoch 131 -> 0.303781723953556\n"
     ]
    },
    {
     "name": "stdout",
     "output_type": "stream",
     "text": [
      "0.303781723953556 [0.24082597089384944, 0.4853429182148062, 0.3835919397077107, 0.4691748668079788, 0.07812649448564171, 0.2561348712093068, 0.2274023626827037, 0.292358311945752, 0.5755079000626195, 0.48827212409790083, 0.36863356485475185, 0.24362531685903938, 0.26220250617252083, 0.5496445291933684, 0.19069116717850787, 0.009142351140931993, 0.04361211170306129]\n"
     ]
    },
    {
     "name": "stderr",
     "output_type": "stream",
     "text": [
      "Train 132: Time 0.156s (it:0.118s) Data:0.006s (it:0.008s) Loss 1.0674e+00 : 100%|██████████| 429/429 [01:07<00:00,  6.40it/s]\n",
      "Evaluate 132: Time 0.047s (it:0.033s) Data:0.005s (it:0.004s) Loss 1.0861e+00 : 100%|██████████| 143/143 [00:06<00:00, 21.32it/s]\n",
      "Train 133: Time 0.153s (it:0.121s) Data:0.006s (it:0.008s) Loss 1.0673e+00 : 100%|██████████| 429/429 [01:05<00:00,  6.55it/s]\n",
      "Evaluate 133: Time 0.049s (it:0.035s) Data:0.005s (it:0.005s) Loss 1.0861e+00 : 100%|██████████| 143/143 [00:06<00:00, 20.59it/s]\n",
      "Train 134: Time 0.161s (it:0.131s) Data:0.006s (it:0.007s) Loss 1.0674e+00 : 100%|██████████| 429/429 [01:09<00:00,  6.20it/s]\n",
      "Evaluate 134: Time 0.050s (it:0.035s) Data:0.005s (it:0.004s) Loss 1.0861e+00 : 100%|██████████| 143/143 [00:07<00:00, 19.95it/s]\n",
      "Train 135: Time 0.162s (it:0.131s) Data:0.006s (it:0.008s) Loss 1.0670e+00 : 100%|██████████| 429/429 [01:09<00:00,  6.17it/s]\n",
      "Evaluate 135: Time 0.051s (it:0.037s) Data:0.005s (it:0.004s) Loss 1.0860e+00 : 100%|██████████| 143/143 [00:07<00:00, 19.73it/s]\n",
      "Train 136: Time 0.161s (it:0.121s) Data:0.006s (it:0.007s) Loss 1.0673e+00 : 100%|██████████| 429/429 [01:09<00:00,  6.21it/s]\n",
      "Evaluate 136: Time 0.051s (it:0.036s) Data:0.005s (it:0.005s) Loss 1.0861e+00 : 100%|██████████| 143/143 [00:07<00:00, 19.65it/s]\n",
      "Train 137: Time 0.160s (it:0.119s) Data:0.006s (it:0.007s) Loss 1.0675e+00 : 100%|██████████| 429/429 [01:08<00:00,  6.23it/s]\n",
      "Evaluate 137: Time 0.048s (it:0.034s) Data:0.005s (it:0.004s) Loss 1.0859e+00 : 100%|██████████| 143/143 [00:06<00:00, 20.96it/s]\n",
      "Train 138: Time 0.162s (it:0.127s) Data:0.006s (it:0.007s) Loss 1.0673e+00 : 100%|██████████| 429/429 [01:09<00:00,  6.16it/s]\n",
      "Evaluate 138: Time 0.050s (it:0.035s) Data:0.005s (it:0.004s) Loss 1.0861e+00 : 100%|██████████| 143/143 [00:07<00:00, 19.90it/s]\n",
      "Train 139: Time 0.161s (it:0.119s) Data:0.006s (it:0.007s) Loss 1.0672e+00 : 100%|██████████| 429/429 [01:09<00:00,  6.20it/s]\n",
      "Evaluate 139: Time 0.052s (it:0.039s) Data:0.005s (it:0.005s) Loss 1.0861e+00 : 100%|██████████| 143/143 [00:07<00:00, 19.26it/s]\n",
      "Train 140: Time 0.158s (it:0.119s) Data:0.006s (it:0.007s) Loss 1.0674e+00 : 100%|██████████| 429/429 [01:07<00:00,  6.31it/s]\n",
      "Evaluate 140: Time 0.048s (it:0.034s) Data:0.005s (it:0.004s) Loss 1.0861e+00 : 100%|██████████| 143/143 [00:06<00:00, 21.01it/s]\n",
      "Train 141: Time 0.154s (it:0.117s) Data:0.006s (it:0.007s) Loss 1.0675e+00 : 100%|██████████| 429/429 [01:05<00:00,  6.51it/s]\n",
      "Evaluate 141: Time 0.047s (it:0.034s) Data:0.005s (it:0.004s) Loss 1.0861e+00 : 100%|██████████| 143/143 [00:06<00:00, 21.13it/s]\n",
      "Test (cls): Time 0.047s (it:0.033s) Data:0.005s (it:0.004s) : 100%|██████████| 143/143 [00:06<00:00, 21.31it/s]\n",
      "2022-12-13 20:02:51,214 [MainThread  ] [INFO ]  Validation performance at epoch 141 -> 0.3052098764772493\n"
     ]
    },
    {
     "name": "stdout",
     "output_type": "stream",
     "text": [
      "0.3052098764772493 [0.23555792298952452, 0.48884653725255073, 0.38350372866202254, 0.46898341639951524, 0.08095198974065858, 0.25582242533842353, 0.22855809098808455, 0.2947111104122705, 0.577039251515032, 0.4895407158117296, 0.3697544587513006, 0.24574475771665832, 0.26868619440115526, 0.5502618442719732, 0.19325119686490727, 0.009266824427697148, 0.048087434569735917]\n"
     ]
    },
    {
     "name": "stderr",
     "output_type": "stream",
     "text": [
      "Train 142: Time 0.154s (it:0.144s) Data:0.006s (it:0.007s) Loss 1.0669e+00 : 100%|██████████| 429/429 [01:06<00:00,  6.50it/s]\n",
      "Evaluate 142: Time 0.056s (it:0.034s) Data:0.006s (it:0.004s) Loss 1.0858e+00 : 100%|██████████| 143/143 [00:08<00:00, 17.86it/s]\n",
      "Train 143: Time 0.169s (it:0.149s) Data:0.007s (it:0.011s) Loss 1.0671e+00 : 100%|██████████| 429/429 [01:12<00:00,  5.92it/s]\n",
      "Evaluate 143: Time 0.057s (it:0.041s) Data:0.006s (it:0.005s) Loss 1.0858e+00 : 100%|██████████| 143/143 [00:08<00:00, 17.56it/s]\n",
      "Train 144: Time 0.163s (it:0.119s) Data:0.007s (it:0.007s) Loss 1.0672e+00 : 100%|██████████| 429/429 [01:09<00:00,  6.15it/s]\n",
      "Evaluate 144: Time 0.048s (it:0.034s) Data:0.005s (it:0.004s) Loss 1.0860e+00 : 100%|██████████| 143/143 [00:06<00:00, 20.71it/s]\n",
      "Train 145: Time 0.153s (it:0.140s) Data:0.006s (it:0.010s) Loss 1.0668e+00 : 100%|██████████| 429/429 [01:05<00:00,  6.55it/s]\n",
      "Evaluate 145: Time 0.052s (it:0.034s) Data:0.005s (it:0.004s) Loss 1.0859e+00 : 100%|██████████| 143/143 [00:07<00:00, 19.31it/s]\n",
      "Train 146: Time 0.156s (it:0.132s) Data:0.006s (it:0.007s) Loss 1.0675e+00 : 100%|██████████| 429/429 [01:06<00:00,  6.41it/s]\n",
      "Evaluate 146: Time 0.049s (it:0.036s) Data:0.005s (it:0.004s) Loss 1.0858e+00 : 100%|██████████| 143/143 [00:06<00:00, 20.51it/s]\n",
      "Train 147: Time 0.151s (it:0.116s) Data:0.006s (it:0.007s) Loss 1.0668e+00 : 100%|██████████| 429/429 [01:04<00:00,  6.63it/s]\n",
      "Evaluate 147: Time 0.046s (it:0.033s) Data:0.005s (it:0.004s) Loss 1.0858e+00 : 100%|██████████| 143/143 [00:06<00:00, 21.60it/s]\n",
      "Train 148: Time 0.151s (it:0.117s) Data:0.006s (it:0.007s) Loss 1.0669e+00 : 100%|██████████| 429/429 [01:04<00:00,  6.63it/s]\n",
      "Evaluate 148: Time 0.047s (it:0.033s) Data:0.005s (it:0.004s) Loss 1.0859e+00 : 100%|██████████| 143/143 [00:06<00:00, 21.14it/s]\n",
      "Train 149: Time 0.151s (it:0.116s) Data:0.006s (it:0.007s) Loss 1.0668e+00 : 100%|██████████| 429/429 [01:04<00:00,  6.64it/s]\n",
      "Evaluate 149: Time 0.047s (it:0.034s) Data:0.005s (it:0.004s) Loss 1.0858e+00 : 100%|██████████| 143/143 [00:06<00:00, 21.31it/s]\n",
      "Train 150: Time 0.154s (it:0.118s) Data:0.006s (it:0.007s) Loss 1.0669e+00 : 100%|██████████| 429/429 [01:06<00:00,  6.49it/s]\n",
      "Evaluate 150: Time 0.048s (it:0.034s) Data:0.005s (it:0.004s) Loss 1.0860e+00 : 100%|██████████| 143/143 [00:06<00:00, 20.90it/s]\n",
      "Train 151: Time 0.154s (it:0.119s) Data:0.006s (it:0.007s) Loss 1.0664e+00 : 100%|██████████| 429/429 [01:06<00:00,  6.49it/s]\n",
      "Evaluate 151: Time 0.048s (it:0.034s) Data:0.005s (it:0.004s) Loss 1.0859e+00 : 100%|██████████| 143/143 [00:06<00:00, 20.97it/s]\n",
      "Test (cls): Time 0.047s (it:0.034s) Data:0.005s (it:0.004s) : 100%|██████████| 143/143 [00:06<00:00, 21.11it/s]\n",
      "2022-12-13 20:15:16,332 [MainThread  ] [INFO ]  Validation performance at epoch 151 -> 0.3057996980125431\n"
     ]
    },
    {
     "name": "stdout",
     "output_type": "stream",
     "text": [
      "0.3057996980125431 [0.2352164751026834, 0.4924919666536387, 0.38535806687171137, 0.4694983199586681, 0.08081191342725634, 0.25715293941877376, 0.2290952786891678, 0.29617654501695295, 0.5768016616304927, 0.49133262326485766, 0.3717641949025366, 0.2455591041397665, 0.26762665831381643, 0.5498618001564162, 0.19383091658834278, 0.009421882514672188, 0.04659451956347892]\n"
     ]
    },
    {
     "name": "stderr",
     "output_type": "stream",
     "text": [
      "Train 152: Time 0.151s (it:0.120s) Data:0.006s (it:0.007s) Loss 1.0668e+00 : 100%|██████████| 429/429 [01:04<00:00,  6.62it/s]\n",
      "Evaluate 152: Time 0.048s (it:0.033s) Data:0.005s (it:0.004s) Loss 1.0859e+00 : 100%|██████████| 143/143 [00:06<00:00, 21.00it/s]\n",
      "Train 153: Time 0.151s (it:0.118s) Data:0.006s (it:0.007s) Loss 1.0670e+00 : 100%|██████████| 429/429 [01:04<00:00,  6.62it/s]\n",
      "Evaluate 153: Time 0.048s (it:0.035s) Data:0.005s (it:0.004s) Loss 1.0858e+00 : 100%|██████████| 143/143 [00:06<00:00, 21.02it/s]\n",
      "2022-12-13 20:17:39,580 [MainThread  ] [INFO ]  Plateau Reached!\n"
     ]
    },
    {
     "name": "stdout",
     "output_type": "stream",
     "text": [
      "Epoch 00153: reducing learning rate of group 0 to 1.0000e-06.\n"
     ]
    },
    {
     "name": "stderr",
     "output_type": "stream",
     "text": [
      "Train 154: Time 0.155s (it:0.118s) Data:0.006s (it:0.007s) Loss 1.0666e+00 : 100%|██████████| 429/429 [01:06<00:00,  6.46it/s]\n",
      "Evaluate 154: Time 0.054s (it:0.037s) Data:0.006s (it:0.005s) Loss 1.0858e+00 : 100%|██████████| 143/143 [00:07<00:00, 18.52it/s]\n",
      "Train 155: Time 0.155s (it:0.118s) Data:0.006s (it:0.007s) Loss 1.0667e+00 : 100%|██████████| 429/429 [01:06<00:00,  6.45it/s]\n",
      "Evaluate 155: Time 0.047s (it:0.034s) Data:0.005s (it:0.004s) Loss 1.0858e+00 : 100%|██████████| 143/143 [00:06<00:00, 21.18it/s]\n",
      "Train 156: Time 0.150s (it:0.117s) Data:0.006s (it:0.007s) Loss 1.0666e+00 : 100%|██████████| 429/429 [01:04<00:00,  6.65it/s]\n",
      "Evaluate 156: Time 0.047s (it:0.033s) Data:0.005s (it:0.004s) Loss 1.0857e+00 : 100%|██████████| 143/143 [00:06<00:00, 21.14it/s]\n",
      "Train 157: Time 0.151s (it:0.118s) Data:0.006s (it:0.007s) Loss 1.0668e+00 : 100%|██████████| 429/429 [01:04<00:00,  6.62it/s]\n",
      "Evaluate 157: Time 0.047s (it:0.034s) Data:0.005s (it:0.004s) Loss 1.0858e+00 : 100%|██████████| 143/143 [00:06<00:00, 21.19it/s]\n",
      "Train 158: Time 0.159s (it:0.147s) Data:0.007s (it:0.008s) Loss 1.0665e+00 : 100%|██████████| 429/429 [01:08<00:00,  6.27it/s]\n",
      "Evaluate 158: Time 0.048s (it:0.034s) Data:0.005s (it:0.004s) Loss 1.0858e+00 : 100%|██████████| 143/143 [00:06<00:00, 20.77it/s]\n",
      "Train 159: Time 0.150s (it:0.118s) Data:0.006s (it:0.007s) Loss 1.0670e+00 : 100%|██████████| 429/429 [01:04<00:00,  6.65it/s]\n",
      "Evaluate 159: Time 0.047s (it:0.033s) Data:0.005s (it:0.004s) Loss 1.0857e+00 : 100%|██████████| 143/143 [00:06<00:00, 21.14it/s]\n",
      "Train 160: Time 0.150s (it:0.118s) Data:0.006s (it:0.007s) Loss 1.0670e+00 : 100%|██████████| 429/429 [01:04<00:00,  6.65it/s]\n",
      "Evaluate 160: Time 0.047s (it:0.034s) Data:0.005s (it:0.004s) Loss 1.0857e+00 : 100%|██████████| 143/143 [00:06<00:00, 21.07it/s]\n",
      "Train 161: Time 0.151s (it:0.118s) Data:0.006s (it:0.007s) Loss 1.0668e+00 : 100%|██████████| 429/429 [01:04<00:00,  6.60it/s]\n",
      "Evaluate 161: Time 0.047s (it:0.034s) Data:0.005s (it:0.004s) Loss 1.0857e+00 : 100%|██████████| 143/143 [00:06<00:00, 21.06it/s]\n",
      "Test (cls): Time 0.047s (it:0.033s) Data:0.005s (it:0.004s) : 100%|██████████| 143/143 [00:06<00:00, 21.19it/s]\n",
      "2022-12-13 20:27:26,548 [MainThread  ] [INFO ]  Validation performance at epoch 161 -> 0.30595598748335284\n"
     ]
    },
    {
     "name": "stdout",
     "output_type": "stream",
     "text": [
      "0.30595598748335284 [0.23344088781999509, 0.49330133820429034, 0.38652909670410646, 0.4697297570040304, 0.08102567693921849, 0.25640121725288817, 0.22938399741556542, 0.29684719741835963, 0.5769693504988075, 0.4914593818659136, 0.37165906629186857, 0.2457203961899918, 0.2690900373726922, 0.5506080071849023, 0.19375665703634234, 0.00937521293680903, 0.045954509081216635]\n"
     ]
    },
    {
     "name": "stderr",
     "output_type": "stream",
     "text": [
      "Train 162: Time 0.154s (it:0.126s) Data:0.006s (it:0.008s) Loss 1.0667e+00 : 100%|██████████| 429/429 [01:06<00:00,  6.50it/s]\n",
      "Evaluate 162: Time 0.051s (it:0.037s) Data:0.005s (it:0.004s) Loss 1.0857e+00 : 100%|██████████| 143/143 [00:07<00:00, 19.52it/s]\n",
      "Train 163: Time 0.163s (it:0.125s) Data:0.006s (it:0.008s) Loss 1.0661e+00 : 100%|██████████| 429/429 [01:10<00:00,  6.12it/s]\n",
      "Evaluate 163: Time 0.051s (it:0.036s) Data:0.005s (it:0.004s) Loss 1.0857e+00 : 100%|██████████| 143/143 [00:07<00:00, 19.50it/s]\n",
      "Train 164: Time 0.165s (it:0.130s) Data:0.006s (it:0.007s) Loss 1.0666e+00 : 100%|██████████| 429/429 [01:10<00:00,  6.04it/s]\n",
      "Evaluate 164: Time 0.052s (it:0.037s) Data:0.005s (it:0.005s) Loss 1.0857e+00 : 100%|██████████| 143/143 [00:07<00:00, 19.33it/s]\n",
      "Train 165: Time 0.161s (it:0.128s) Data:0.006s (it:0.008s) Loss 1.0668e+00 : 100%|██████████| 429/429 [01:09<00:00,  6.21it/s]\n",
      "Evaluate 165: Time 0.053s (it:0.037s) Data:0.005s (it:0.004s) Loss 1.0857e+00 : 100%|██████████| 143/143 [00:07<00:00, 19.04it/s]\n",
      "Train 166: Time 0.164s (it:0.116s) Data:0.006s (it:0.007s) Loss 1.0665e+00 : 100%|██████████| 429/429 [01:10<00:00,  6.10it/s]\n",
      "Evaluate 166: Time 0.047s (it:0.033s) Data:0.005s (it:0.004s) Loss 1.0857e+00 : 100%|██████████| 143/143 [00:06<00:00, 21.25it/s]\n",
      "Train 167: Time 0.149s (it:0.115s) Data:0.006s (it:0.007s) Loss 1.0667e+00 : 100%|██████████| 429/429 [01:04<00:00,  6.70it/s]\n",
      "Evaluate 167: Time 0.046s (it:0.032s) Data:0.005s (it:0.004s) Loss 1.0857e+00 : 100%|██████████| 143/143 [00:06<00:00, 21.51it/s]\n",
      "Train 168: Time 0.149s (it:0.119s) Data:0.006s (it:0.007s) Loss 1.0667e+00 : 100%|██████████| 429/429 [01:03<00:00,  6.72it/s]\n",
      "Evaluate 168: Time 0.047s (it:0.032s) Data:0.005s (it:0.004s) Loss 1.0857e+00 : 100%|██████████| 143/143 [00:06<00:00, 21.39it/s]\n",
      "Train 169: Time 0.151s (it:0.115s) Data:0.006s (it:0.007s) Loss 1.0667e+00 : 100%|██████████| 429/429 [01:04<00:00,  6.63it/s]\n",
      "Evaluate 169: Time 0.046s (it:0.033s) Data:0.005s (it:0.004s) Loss 1.0857e+00 : 100%|██████████| 143/143 [00:06<00:00, 21.51it/s]\n",
      "Train 170: Time 0.149s (it:0.115s) Data:0.006s (it:0.007s) Loss 1.0668e+00 : 100%|██████████| 429/429 [01:03<00:00,  6.73it/s]\n",
      "Evaluate 170: Time 0.046s (it:0.033s) Data:0.005s (it:0.004s) Loss 1.0857e+00 : 100%|██████████| 143/143 [00:06<00:00, 21.53it/s]\n",
      "Train 171: Time 0.148s (it:0.115s) Data:0.006s (it:0.007s) Loss 1.0668e+00 : 100%|██████████| 429/429 [01:03<00:00,  6.74it/s]\n",
      "Evaluate 171: Time 0.047s (it:0.032s) Data:0.005s (it:0.004s) Loss 1.0857e+00 : 100%|██████████| 143/143 [00:06<00:00, 21.48it/s]\n",
      "Test (cls): Time 0.045s (it:0.032s) Data:0.005s (it:0.004s) : 100%|██████████| 143/143 [00:06<00:00, 22.03it/s]\n",
      "2022-12-13 20:39:49,398 [MainThread  ] [INFO ]  Validation performance at epoch 171 -> 0.3060728070485627\n"
     ]
    },
    {
     "name": "stdout",
     "output_type": "stream",
     "text": [
      "0.3060728070485627 [0.23302753128195497, 0.4927420003801803, 0.38642350649704665, 0.4699723499205805, 0.08218716168695611, 0.2562471896326398, 0.2284455576687415, 0.2974926822989636, 0.5768274789656461, 0.4916876080955537, 0.3720532192513764, 0.24616216804118213, 0.26912204329240663, 0.5505122686645436, 0.19390610394778274, 0.009391113604900473, 0.04703773659511094]\n"
     ]
    },
    {
     "name": "stderr",
     "output_type": "stream",
     "text": [
      "Train 172: Time 0.148s (it:0.114s) Data:0.006s (it:0.007s) Loss 1.0666e+00 : 100%|██████████| 429/429 [01:03<00:00,  6.76it/s]\n",
      "Evaluate 172: Time 0.046s (it:0.032s) Data:0.005s (it:0.004s) Loss 1.0857e+00 : 100%|██████████| 143/143 [00:06<00:00, 21.57it/s]\n",
      "2022-12-13 20:40:59,562 [MainThread  ] [INFO ]  Plateau Reached!\n"
     ]
    },
    {
     "name": "stdout",
     "output_type": "stream",
     "text": [
      "Epoch 00172: reducing learning rate of group 0 to 1.0000e-07.\n"
     ]
    },
    {
     "name": "stderr",
     "output_type": "stream",
     "text": [
      "Train 173: Time 0.149s (it:0.116s) Data:0.006s (it:0.007s) Loss 1.0665e+00 : 100%|██████████| 429/429 [01:03<00:00,  6.71it/s]\n",
      "Evaluate 173: Time 0.046s (it:0.035s) Data:0.005s (it:0.004s) Loss 1.0857e+00 : 100%|██████████| 143/143 [00:06<00:00, 21.82it/s]\n",
      "Train 174: Time 0.148s (it:0.114s) Data:0.006s (it:0.007s) Loss 1.0669e+00 : 100%|██████████| 429/429 [01:03<00:00,  6.75it/s]\n",
      "Evaluate 174: Time 0.046s (it:0.033s) Data:0.005s (it:0.004s) Loss 1.0857e+00 : 100%|██████████| 143/143 [00:06<00:00, 21.61it/s]\n",
      "Train 175: Time 0.148s (it:0.114s) Data:0.006s (it:0.007s) Loss 1.0666e+00 : 100%|██████████| 429/429 [01:03<00:00,  6.77it/s]\n",
      "Evaluate 175: Time 0.046s (it:0.032s) Data:0.005s (it:0.004s) Loss 1.0857e+00 : 100%|██████████| 143/143 [00:06<00:00, 21.93it/s]\n",
      "Train 176: Time 0.149s (it:0.121s) Data:0.006s (it:0.007s) Loss 1.0667e+00 : 100%|██████████| 429/429 [01:04<00:00,  6.70it/s]\n",
      "Evaluate 176: Time 0.046s (it:0.033s) Data:0.005s (it:0.004s) Loss 1.0857e+00 : 100%|██████████| 143/143 [00:06<00:00, 21.64it/s]\n",
      "Train 177: Time 0.148s (it:0.114s) Data:0.006s (it:0.008s) Loss 1.0664e+00 : 100%|██████████| 429/429 [01:03<00:00,  6.77it/s]\n",
      "Evaluate 177: Time 0.047s (it:0.032s) Data:0.005s (it:0.004s) Loss 1.0857e+00 : 100%|██████████| 143/143 [00:06<00:00, 21.43it/s]\n",
      "Train 178: Time 0.148s (it:0.116s) Data:0.006s (it:0.007s) Loss 1.0667e+00 : 100%|██████████| 429/429 [01:03<00:00,  6.74it/s]\n",
      "Evaluate 178: Time 0.046s (it:0.032s) Data:0.005s (it:0.004s) Loss 1.0857e+00 : 100%|██████████| 143/143 [00:06<00:00, 21.93it/s]\n",
      "Train 179: Time 0.150s (it:0.115s) Data:0.006s (it:0.007s) Loss 1.0665e+00 : 100%|██████████| 429/429 [01:04<00:00,  6.68it/s]\n",
      "Evaluate 179: Time 0.047s (it:0.032s) Data:0.005s (it:0.004s) Loss 1.0857e+00 : 100%|██████████| 143/143 [00:06<00:00, 21.50it/s]\n",
      "Train 180: Time 0.149s (it:0.116s) Data:0.006s (it:0.007s) Loss 1.0668e+00 : 100%|██████████| 429/429 [01:03<00:00,  6.71it/s]\n",
      "Evaluate 180: Time 0.047s (it:0.033s) Data:0.005s (it:0.005s) Loss 1.0857e+00 : 100%|██████████| 143/143 [00:06<00:00, 21.27it/s]\n",
      "Train 181: Time 0.150s (it:0.122s) Data:0.006s (it:0.007s) Loss 1.0665e+00 : 100%|██████████| 429/429 [01:04<00:00,  6.68it/s]\n",
      "Evaluate 181: Time 0.046s (it:0.032s) Data:0.005s (it:0.004s) Loss 1.0857e+00 : 100%|██████████| 143/143 [00:06<00:00, 21.68it/s]\n",
      "Test (cls): Time 0.046s (it:0.032s) Data:0.006s (it:0.004s) : 100%|██████████| 143/143 [00:06<00:00, 21.51it/s]\n",
      "2022-12-13 20:51:40,331 [MainThread  ] [INFO ]  Validation performance at epoch 181 -> 0.30603624953470104\n"
     ]
    },
    {
     "name": "stdout",
     "output_type": "stream",
     "text": [
      "0.30603624953470104 [0.23317313299206832, 0.4927546037134869, 0.3862104000836264, 0.4700403563444446, 0.08212905691564024, 0.2560841573500626, 0.22825224775784644, 0.29752836181806397, 0.5769764854187616, 0.491672289054621, 0.37206248155359645, 0.2461484373671354, 0.26831593410850196, 0.5506846747721001, 0.19418705693407107, 0.009395056508563307, 0.047001509397327085]\n"
     ]
    },
    {
     "name": "stderr",
     "output_type": "stream",
     "text": [
      "Train 182: Time 0.148s (it:0.115s) Data:0.006s (it:0.007s) Loss 1.0663e+00 : 100%|██████████| 429/429 [01:03<00:00,  6.76it/s]\n",
      "Evaluate 182: Time 0.046s (it:0.032s) Data:0.005s (it:0.004s) Loss 1.0857e+00 : 100%|██████████| 143/143 [00:06<00:00, 21.84it/s]\n",
      "Train 183: Time 0.149s (it:0.118s) Data:0.006s (it:0.007s) Loss 1.0667e+00 : 100%|██████████| 429/429 [01:03<00:00,  6.73it/s]\n",
      "Evaluate 183: Time 0.048s (it:0.033s) Data:0.005s (it:0.004s) Loss 1.0857e+00 : 100%|██████████| 143/143 [00:06<00:00, 20.79it/s]\n",
      "2022-12-13 20:54:01,000 [MainThread  ] [INFO ]  Plateau Reached!\n"
     ]
    },
    {
     "name": "stdout",
     "output_type": "stream",
     "text": [
      "Epoch 00183: reducing learning rate of group 0 to 1.0000e-08.\n"
     ]
    },
    {
     "name": "stderr",
     "output_type": "stream",
     "text": [
      "Train 184: Time 0.155s (it:0.118s) Data:0.006s (it:0.007s) Loss 1.0664e+00 : 100%|██████████| 429/429 [01:06<00:00,  6.46it/s]\n",
      "Evaluate 184: Time 0.047s (it:0.033s) Data:0.005s (it:0.004s) Loss 1.0857e+00 : 100%|██████████| 143/143 [00:06<00:00, 21.12it/s]\n",
      "Train 185: Time 0.150s (it:0.118s) Data:0.006s (it:0.007s) Loss 1.0671e+00 : 100%|██████████| 429/429 [01:04<00:00,  6.66it/s]\n",
      "Evaluate 185: Time 0.047s (it:0.034s) Data:0.005s (it:0.004s) Loss 1.0857e+00 : 100%|██████████| 143/143 [00:06<00:00, 21.16it/s]\n",
      "Train 186: Time 0.150s (it:0.119s) Data:0.006s (it:0.007s) Loss 1.0667e+00 : 100%|██████████| 429/429 [01:04<00:00,  6.65it/s]\n",
      "Evaluate 186: Time 0.047s (it:0.040s) Data:0.005s (it:0.004s) Loss 1.0857e+00 : 100%|██████████| 143/143 [00:06<00:00, 21.08it/s]\n",
      "Train 187: Time 0.152s (it:0.118s) Data:0.006s (it:0.007s) Loss 1.0663e+00 : 100%|██████████| 429/429 [01:05<00:00,  6.56it/s]\n",
      "Evaluate 187: Time 0.048s (it:0.033s) Data:0.005s (it:0.004s) Loss 1.0857e+00 : 100%|██████████| 143/143 [00:06<00:00, 21.03it/s]\n",
      "Train 188: Time 0.163s (it:0.132s) Data:0.006s (it:0.008s) Loss 1.0664e+00 : 100%|██████████| 429/429 [01:09<00:00,  6.14it/s]\n",
      "Evaluate 188: Time 0.052s (it:0.037s) Data:0.005s (it:0.004s) Loss 1.0857e+00 : 100%|██████████| 143/143 [00:07<00:00, 19.29it/s]\n",
      "Train 189: Time 0.165s (it:0.128s) Data:0.006s (it:0.007s) Loss 1.0665e+00 : 100%|██████████| 429/429 [01:10<00:00,  6.07it/s]\n",
      "Evaluate 189: Time 0.051s (it:0.035s) Data:0.005s (it:0.004s) Loss 1.0857e+00 : 100%|██████████| 143/143 [00:07<00:00, 19.63it/s]\n",
      "Train 190: Time 0.164s (it:0.138s) Data:0.006s (it:0.007s) Loss 1.0667e+00 : 100%|██████████| 429/429 [01:10<00:00,  6.10it/s]\n",
      "Evaluate 190: Time 0.052s (it:0.036s) Data:0.005s (it:0.004s) Loss 1.0857e+00 : 100%|██████████| 143/143 [00:07<00:00, 19.37it/s]\n",
      "Train 191: Time 0.166s (it:0.130s) Data:0.006s (it:0.007s) Loss 1.0667e+00 : 100%|██████████| 429/429 [01:11<00:00,  6.02it/s]\n",
      "Evaluate 191: Time 0.052s (it:0.037s) Data:0.005s (it:0.004s) Loss 1.0857e+00 : 100%|██████████| 143/143 [00:07<00:00, 19.07it/s]\n",
      "Test (cls): Time 0.051s (it:0.036s) Data:0.005s (it:0.005s) : 100%|██████████| 143/143 [00:07<00:00, 19.79it/s]\n",
      "2022-12-13 21:04:07,925 [MainThread  ] [INFO ]  Validation performance at epoch 191 -> 0.30602873586902324\n"
     ]
    },
    {
     "name": "stdout",
     "output_type": "stream",
     "text": [
      "0.30602873586902324 [0.23317389642995331, 0.4927653337979496, 0.3860865068354511, 0.4700472888440902, 0.08210695343284362, 0.25600325138645263, 0.2282644994121342, 0.29752426195018133, 0.5769690058089998, 0.4916511851945494, 0.3721054523910689, 0.24617150941072719, 0.2683948647809118, 0.550644534799168, 0.1941774545617738, 0.009397611466973863, 0.047004899270165955]\n"
     ]
    },
    {
     "name": "stderr",
     "output_type": "stream",
     "text": [
      "Train 192: Time 0.150s (it:0.121s) Data:0.006s (it:0.008s) Loss 1.0668e+00 : 100%|██████████| 429/429 [01:04<00:00,  6.66it/s]\n",
      "Evaluate 192: Time 0.046s (it:0.032s) Data:0.005s (it:0.004s) Loss 1.0857e+00 : 100%|██████████| 143/143 [00:06<00:00, 21.51it/s]\n",
      "Train 193: Time 0.149s (it:0.115s) Data:0.006s (it:0.008s) Loss 1.0664e+00 : 100%|██████████| 429/429 [01:03<00:00,  6.71it/s]\n",
      "Evaluate 193: Time 0.046s (it:0.033s) Data:0.005s (it:0.004s) Loss 1.0857e+00 : 100%|██████████| 143/143 [00:06<00:00, 21.53it/s]\n",
      "2022-12-13 21:06:29,596 [MainThread  ] [INFO ]  Plateau Reached and no more reduction -> Exiting Loop\n",
      "2022-12-13 21:06:29,816 [MainThread  ] [INFO ]  Checking/Download features and labels locally\n",
      "Test (spot.): Time 2.136s (it:1.892s) Data:0.166s (it:0.156s) : 100%|██████████| 100/100 [03:33<00:00,  2.14s/it]\n",
      "100%|██████████| 100/100 [00:00<00:00, 101.62it/s]\n",
      "100%|██████████| 12/12 [00:14<00:00,  1.17s/it]\n",
      "2022-12-13 21:10:19,342 [MainThread  ] [INFO ]  Best Performance at end of training \n",
      "2022-12-13 21:10:19,343 [MainThread  ] [INFO ]  a_mAP visibility all: 0.3958236775977675\n",
      "2022-12-13 21:10:19,343 [MainThread  ] [INFO ]  a_mAP visibility all per class: [0.19748499928354624, 0.522069388398327, 0.6112281009793067, 0.5810128685554639, 0.18602648883038173, 0.32605906624502534, 0.3202454437602832, 0.4100566880565587, 0.6239153393206499, 0.5549052153156605, 0.5418066850178272, 0.37620525575393615, 0.3801193432895532, 0.6680191771845579, 0.3092636454229695, 0.0151370240011019, 0.10544778974689882]\n",
      "2022-12-13 21:10:19,343 [MainThread  ] [INFO ]  a_mAP visibility visible: 0.454440091368045\n",
      "2022-12-13 21:10:19,343 [MainThread  ] [INFO ]  a_mAP visibility visible per class: [0.42546642785472477, 0.6482108435459301, 0.6237899337612077, 0.6626205846297786, 0.20096982926354015, 0.327542648312775, 0.32175105264289533, 0.5072424960382962, 0.6257107943322698, 0.5751144432496357, 0.5471817384739386, 0.3488747748656442, 0.4642032321760283, 0.6760163985893327, 0.3387972451440433, 0.2048002383829491, 0.22718887199377366]\n",
      "2022-12-13 21:10:19,344 [MainThread  ] [INFO ]  a_mAP visibility unshown: 0.27243943913691565\n",
      "2022-12-13 21:10:19,344 [MainThread  ] [INFO ]  a_mAP visibility unshown per class: [0.0, 0.45789029390434394, 0.0, 0.1942321392711393, 0.06709963079875939, 0.075, 0.003517221711714566, 0.3369884944410126, 0.5900940880316509, 0.5005872081864492, 0.18701686492425446, 0.43633801800787175, 0.02215459198257037, 0.6017171321827228, 0.0690770253374149, 0.0, 0.0]\n",
      "2022-12-13 21:10:19,346 [MainThread  ] [INFO ]  Total Execution Time is 14343.53928899765 seconds\n"
     ]
    }
   ],
   "source": [
    "%run $training_file_name\\\n",
    "    --SoccerNet_path=$resnet_features_path\\\n",
    "    --model_name=ATTENTION_vit_CE+CB\\\n",
    "    --features=custom_vit --seed 3 --LR=1e-3\\\n",
    "    --split_test=\"test\"\\\n",
    "    --custom_feature_path=$vit_features_path\\\n",
    "    --loss_function=CE+CB"
   ]
  },
  {
   "cell_type": "markdown",
   "metadata": {},
   "source": [
    "#### Experiment 7:  Vit Data + ATTENTION + FL Loss"
   ]
  },
  {
   "cell_type": "code",
   "execution_count": null,
   "metadata": {},
   "outputs": [],
   "source": [
    "%run $training_file_name\\\n",
    "    --SoccerNet_path=$resnet_features_path\\\n",
    "    --model_name=ATTENTION_vit_FL\\\n",
    "    --features=custom_vit --seed 3 --LR=1e-3\\\n",
    "    --split_test=\"test\"\\\n",
    "    --custom_feature_path=$vit_features_path\\\n",
    "    --loss_function=FL"
   ]
  },
  {
   "cell_type": "markdown",
   "metadata": {},
   "source": [
    "#### Experiment 8:  Vit Data + ATTENTION + CB + FL Loss"
   ]
  },
  {
   "cell_type": "code",
   "execution_count": null,
   "metadata": {},
   "outputs": [],
   "source": [
    "%run $training_file_name\\\n",
    "    --SoccerNet_path=$resnet_features_path\\\n",
    "    --model_name=ATTENTION_vit_CB+FL\\\n",
    "    --features=custom_vit --seed 3 --LR=1e-3\\\n",
    "    --split_test=\"test\"\\\n",
    "    --custom_feature_path=$vit_features_path\\\n",
    "    --loss_function=CB+FL"
   ]
  },
  {
   "cell_type": "markdown",
   "metadata": {},
   "source": [
    "# Experiment 9 - 16 is with RESNET + PCA 512 Features"
   ]
  },
  {
   "cell_type": "markdown",
   "metadata": {},
   "source": [
    "#### Experiment 9:  ResNETPCA512 + NetVladd + CE Loss"
   ]
  },
  {
   "cell_type": "code",
   "execution_count": 1,
   "metadata": {},
   "outputs": [
    {
     "name": "stderr",
     "output_type": "stream",
     "text": [
      "2022-12-08 01:55:04,361 [MainThread  ] [INFO ]  Starting main function\n",
      "2022-12-08 01:55:04,362 [MainThread  ] [INFO ]  Parameters:\n",
      "2022-12-08 01:55:04,362 [MainThread  ] [INFO ]   SoccerNet_path : G:\\.shortcut-targets-by-id\\\\1H509_zeV7bta5BudwCznjP0EWrCa_LCJ\\\\deep_learning_alphas_final_project\\\\assets_pca\n",
      "2022-12-08 01:55:04,362 [MainThread  ] [INFO ]         features : ResNET_TF2_PCA512.npy\n",
      "2022-12-08 01:55:04,363 [MainThread  ] [INFO ]       max_epochs : 1000\n",
      "2022-12-08 01:55:04,363 [MainThread  ] [INFO ]     load_weights : None\n",
      "2022-12-08 01:55:04,364 [MainThread  ] [INFO ]       model_name : NetVLAD++_ResNETPCA512_CE_run_1\n",
      "2022-12-08 01:55:04,365 [MainThread  ] [INFO ]        test_only : False\n",
      "2022-12-08 01:55:04,365 [MainThread  ] [INFO ]      split_train : ['train']\n",
      "2022-12-08 01:55:04,366 [MainThread  ] [INFO ]      split_valid : ['valid']\n",
      "2022-12-08 01:55:04,366 [MainThread  ] [INFO ]       split_test : ['test']\n",
      "2022-12-08 01:55:04,367 [MainThread  ] [INFO ]          version : 2\n",
      "2022-12-08 01:55:04,367 [MainThread  ] [INFO ]      feature_dim : None\n",
      "2022-12-08 01:55:04,368 [MainThread  ] [INFO ]  evaluation_frequency : 10\n",
      "2022-12-08 01:55:04,368 [MainThread  ] [INFO ]        framerate : 2\n",
      "2022-12-08 01:55:04,368 [MainThread  ] [INFO ]      window_size : 15\n",
      "2022-12-08 01:55:04,369 [MainThread  ] [INFO ]             pool : NetVLAD++\n",
      "2022-12-08 01:55:04,369 [MainThread  ] [INFO ]       vocab_size : 64\n",
      "2022-12-08 01:55:04,370 [MainThread  ] [INFO ]       NMS_window : 30\n",
      "2022-12-08 01:55:04,370 [MainThread  ] [INFO ]    NMS_threshold : 0.0\n",
      "2022-12-08 01:55:04,371 [MainThread  ] [INFO ]       batch_size : 256\n",
      "2022-12-08 01:55:04,371 [MainThread  ] [INFO ]               LR : 0.001\n",
      "2022-12-08 01:55:04,371 [MainThread  ] [INFO ]              LRe : 1e-06\n",
      "2022-12-08 01:55:04,372 [MainThread  ] [INFO ]         patience : 10\n",
      "2022-12-08 01:55:04,372 [MainThread  ] [INFO ]              GPU : 0\n",
      "2022-12-08 01:55:04,372 [MainThread  ] [INFO ]   max_num_worker : 1\n",
      "2022-12-08 01:55:04,373 [MainThread  ] [INFO ]             seed : 3\n",
      "2022-12-08 01:55:04,373 [MainThread  ] [INFO ]         loglevel : INFO\n",
      "2022-12-08 01:55:04,373 [MainThread  ] [INFO ]  custom_feature_path : C:\\\\Users\\\\91995\\\\OneDrive - Georgia Institute of Technology\\\\vit_features\n",
      "2022-12-08 01:55:04,374 [MainThread  ] [INFO ]    loss_function : CE\n",
      "2022-12-08 01:55:04,376 [MainThread  ] [INFO ]  Checking/Download features and labels locally\n",
      "2022-12-08 01:55:05,674 [MainThread  ] [INFO ]  Pre-compute clips\n",
      "100%|██████████| 300/300 [00:39<00:00,  7.55it/s]\n",
      "2022-12-08 01:55:47,033 [MainThread  ] [INFO ]  Checking/Download features and labels locally\n",
      "2022-12-08 01:55:47,472 [MainThread  ] [INFO ]  Pre-compute clips\n",
      "100%|██████████| 100/100 [00:14<00:00,  6.75it/s]\n",
      "2022-12-08 01:56:02,838 [MainThread  ] [INFO ]  Checking/Download features and labels locally\n",
      "2022-12-08 01:56:03,284 [MainThread  ] [INFO ]  Pre-compute clips\n",
      "100%|██████████| 100/100 [00:08<00:00, 11.72it/s]\n",
      "2022-12-08 01:56:12,295 [MainThread  ] [INFO ]  Checking/Download features and labels locally\n"
     ]
    },
    {
     "name": "stdout",
     "output_type": "stream",
     "text": [
      "feature_dim found: 512\n"
     ]
    },
    {
     "name": "stderr",
     "output_type": "stream",
     "text": [
      "2022-12-08 01:56:14,641 [MainThread  ] [INFO ]  Model(\n",
      "  (pool_layer_before): NetVLAD()\n",
      "  (pool_layer_after): NetVLAD()\n",
      "  (fc): Linear(in_features=32768, out_features=18, bias=True)\n",
      "  (drop): Dropout(p=0.4, inplace=False)\n",
      "  (sigm): Sigmoid()\n",
      ")\n",
      "2022-12-08 01:56:14,642 [MainThread  ] [INFO ]  Total number of parameters: 655378\n",
      "C:\\Users\\91995\\Documents\\GT Coursework\\CS 7643 DL\\Project\\dl_7643_final_project_code\\src\\loss.py:38: UserWarning: To copy construct from a tensor, it is recommended to use sourceTensor.clone().detach() or sourceTensor.clone().detach().requires_grad_(True), rather than torch.tensor(sourceTensor).\n",
      "  self.weight = torch.tensor(weight).float()\n",
      "2022-12-08 01:56:15,957 [MainThread  ] [INFO ]  start training\n",
      "Train 1: Time 0.013s (it:0.012s) Data:0.007s (it:0.007s) Loss 1.2035e+00 : 100%|██████████| 431/431 [00:05<00:00, 75.56it/s]\n",
      "Evaluate 1: Time 0.010s (it:0.003s) Data:0.006s (it:0.001s) Loss 1.1773e+00 : 100%|██████████| 144/144 [00:01<00:00, 102.59it/s]\n",
      "Train 2: Time 0.013s (it:0.013s) Data:0.007s (it:0.007s) Loss 1.1721e+00 : 100%|██████████| 431/431 [00:05<00:00, 74.59it/s]\n",
      "Evaluate 2: Time 0.011s (it:0.004s) Data:0.006s (it:0.002s) Loss 1.1660e+00 : 100%|██████████| 144/144 [00:01<00:00, 94.87it/s]\n",
      "Train 3: Time 0.013s (it:0.013s) Data:0.006s (it:0.006s) Loss 1.1601e+00 : 100%|██████████| 431/431 [00:05<00:00, 78.71it/s]\n",
      "Evaluate 3: Time 0.010s (it:0.003s) Data:0.006s (it:0.001s) Loss 1.1567e+00 : 100%|██████████| 144/144 [00:01<00:00, 100.40it/s]\n",
      "Train 4: Time 0.013s (it:0.011s) Data:0.006s (it:0.007s) Loss 1.1529e+00 : 100%|██████████| 431/431 [00:05<00:00, 78.95it/s]\n",
      "Evaluate 4: Time 0.010s (it:0.002s) Data:0.006s (it:0.001s) Loss 1.1489e+00 : 100%|██████████| 144/144 [00:01<00:00, 99.66it/s]\n",
      "Train 5: Time 0.013s (it:0.010s) Data:0.006s (it:0.006s) Loss 1.1483e+00 : 100%|██████████| 431/431 [00:05<00:00, 78.61it/s]\n",
      "Evaluate 5: Time 0.010s (it:0.003s) Data:0.006s (it:0.002s) Loss 1.1456e+00 : 100%|██████████| 144/144 [00:01<00:00, 100.18it/s]\n",
      "Train 6: Time 0.013s (it:0.010s) Data:0.006s (it:0.006s) Loss 1.1444e+00 : 100%|██████████| 431/431 [00:05<00:00, 78.55it/s]\n",
      "Evaluate 6: Time 0.010s (it:0.004s) Data:0.006s (it:0.003s) Loss 1.1433e+00 : 100%|██████████| 144/144 [00:01<00:00, 98.76it/s]\n",
      "Train 7: Time 0.013s (it:0.011s) Data:0.006s (it:0.007s) Loss 1.1412e+00 : 100%|██████████| 431/431 [00:05<00:00, 78.73it/s]\n",
      "Evaluate 7: Time 0.010s (it:0.003s) Data:0.006s (it:0.002s) Loss 1.1425e+00 : 100%|██████████| 144/144 [00:01<00:00, 99.86it/s] \n",
      "Train 8: Time 0.013s (it:0.011s) Data:0.006s (it:0.006s) Loss 1.1382e+00 : 100%|██████████| 431/431 [00:05<00:00, 78.86it/s]\n",
      "Evaluate 8: Time 0.010s (it:0.003s) Data:0.006s (it:0.001s) Loss 1.1422e+00 : 100%|██████████| 144/144 [00:01<00:00, 99.60it/s]\n",
      "Train 9: Time 0.013s (it:0.013s) Data:0.006s (it:0.008s) Loss 1.1359e+00 : 100%|██████████| 431/431 [00:05<00:00, 78.70it/s]\n",
      "Evaluate 9: Time 0.010s (it:0.003s) Data:0.006s (it:0.001s) Loss 1.1387e+00 : 100%|██████████| 144/144 [00:01<00:00, 100.15it/s]\n",
      "Train 10: Time 0.013s (it:0.010s) Data:0.006s (it:0.006s) Loss 1.1340e+00 : 100%|██████████| 431/431 [00:05<00:00, 78.64it/s]\n",
      "Evaluate 10: Time 0.010s (it:0.003s) Data:0.006s (it:0.002s) Loss 1.1371e+00 : 100%|██████████| 144/144 [00:01<00:00, 99.62it/s]\n",
      "Train 11: Time 0.013s (it:0.011s) Data:0.006s (it:0.006s) Loss 1.1319e+00 : 100%|██████████| 431/431 [00:05<00:00, 79.20it/s]\n",
      "Evaluate 11: Time 0.010s (it:0.004s) Data:0.006s (it:0.002s) Loss 1.1401e+00 : 100%|██████████| 144/144 [00:01<00:00, 100.76it/s]\n",
      "Test (cls): Time 0.011s (it:0.004s) Data:0.007s (it:0.002s) : 100%|██████████| 144/144 [00:01<00:00, 95.06it/s]\n",
      "2022-12-08 01:57:34,405 [MainThread  ] [INFO ]  Validation performance at epoch 11 -> 0.35204319794560784\n"
     ]
    },
    {
     "name": "stdout",
     "output_type": "stream",
     "text": [
      "0.35204319794560784 [0.44215597488066594, 0.37939853500668574, 0.42321137664697733, 0.5754577190618535, 0.1667352201711622, 0.2463982974565793, 0.2411738834256739, 0.3543305832162067, 0.5814987665626347, 0.5183661276378378, 0.3798594250865611, 0.2549656686247529, 0.33983253222183407, 0.6407726181549281, 0.32774400017767114, 0.012738644089768308, 0.1000949926535399]\n"
     ]
    },
    {
     "name": "stderr",
     "output_type": "stream",
     "text": [
      "Train 12: Time 0.012s (it:0.010s) Data:0.006s (it:0.006s) Loss 1.1303e+00 : 100%|██████████| 431/431 [00:05<00:00, 84.27it/s]\n",
      "Evaluate 12: Time 0.009s (it:0.003s) Data:0.006s (it:0.001s) Loss 1.1400e+00 : 100%|██████████| 144/144 [00:01<00:00, 107.20it/s]\n",
      "Train 13: Time 0.012s (it:0.011s) Data:0.006s (it:0.007s) Loss 1.1285e+00 : 100%|██████████| 431/431 [00:05<00:00, 84.78it/s]\n",
      "Evaluate 13: Time 0.009s (it:0.002s) Data:0.006s (it:0.001s) Loss 1.1440e+00 : 100%|██████████| 144/144 [00:01<00:00, 106.83it/s]\n",
      "Train 14: Time 0.012s (it:0.011s) Data:0.006s (it:0.006s) Loss 1.1266e+00 : 100%|██████████| 431/431 [00:05<00:00, 84.10it/s]\n",
      "Evaluate 14: Time 0.009s (it:0.004s) Data:0.006s (it:0.002s) Loss 1.1330e+00 : 100%|██████████| 144/144 [00:01<00:00, 106.81it/s]\n",
      "Train 15: Time 0.012s (it:0.013s) Data:0.006s (it:0.006s) Loss 1.1259e+00 : 100%|██████████| 431/431 [00:05<00:00, 83.85it/s]\n",
      "Evaluate 15: Time 0.009s (it:0.004s) Data:0.006s (it:0.002s) Loss 1.1414e+00 : 100%|██████████| 144/144 [00:01<00:00, 107.18it/s]\n",
      "Train 16: Time 0.012s (it:0.011s) Data:0.006s (it:0.007s) Loss 1.1242e+00 : 100%|██████████| 431/431 [00:05<00:00, 83.55it/s]\n",
      "Evaluate 16: Time 0.009s (it:0.003s) Data:0.006s (it:0.001s) Loss 1.1330e+00 : 100%|██████████| 144/144 [00:01<00:00, 106.77it/s]\n",
      "Train 17: Time 0.012s (it:0.010s) Data:0.006s (it:0.006s) Loss 1.1225e+00 : 100%|██████████| 431/431 [00:05<00:00, 83.79it/s]\n",
      "Evaluate 17: Time 0.009s (it:0.003s) Data:0.006s (it:0.001s) Loss 1.1317e+00 : 100%|██████████| 144/144 [00:01<00:00, 106.64it/s]\n",
      "Train 18: Time 0.012s (it:0.010s) Data:0.006s (it:0.006s) Loss 1.1213e+00 : 100%|██████████| 431/431 [00:05<00:00, 83.60it/s]\n",
      "Evaluate 18: Time 0.009s (it:0.003s) Data:0.006s (it:0.001s) Loss 1.1317e+00 : 100%|██████████| 144/144 [00:01<00:00, 105.54it/s]\n",
      "Train 19: Time 0.012s (it:0.011s) Data:0.006s (it:0.007s) Loss 1.1204e+00 : 100%|██████████| 431/431 [00:05<00:00, 83.87it/s]\n",
      "Evaluate 19: Time 0.009s (it:0.003s) Data:0.006s (it:0.001s) Loss 1.1305e+00 : 100%|██████████| 144/144 [00:01<00:00, 106.50it/s]\n",
      "Train 20: Time 0.012s (it:0.010s) Data:0.006s (it:0.006s) Loss 1.1193e+00 : 100%|██████████| 431/431 [00:05<00:00, 83.09it/s]\n",
      "Evaluate 20: Time 0.009s (it:0.003s) Data:0.006s (it:0.002s) Loss 1.1432e+00 : 100%|██████████| 144/144 [00:01<00:00, 105.73it/s]\n",
      "Train 21: Time 0.012s (it:0.011s) Data:0.006s (it:0.006s) Loss 1.1181e+00 : 100%|██████████| 431/431 [00:05<00:00, 83.85it/s]\n",
      "Evaluate 21: Time 0.009s (it:0.003s) Data:0.006s (it:0.002s) Loss 1.1297e+00 : 100%|██████████| 144/144 [00:01<00:00, 106.09it/s]\n",
      "Test (cls): Time 0.010s (it:0.002s) Data:0.006s (it:0.001s) : 100%|██████████| 144/144 [00:01<00:00, 101.18it/s]\n",
      "2022-12-08 01:58:40,982 [MainThread  ] [INFO ]  Validation performance at epoch 21 -> 0.37154557324708426\n"
     ]
    },
    {
     "name": "stdout",
     "output_type": "stream",
     "text": [
      "0.37154557324708426 [0.4933495939851531, 0.4133371794016082, 0.45280498468726227, 0.5922369527037172, 0.1871393159631351, 0.25863263142583387, 0.2576575527666726, 0.37947634663256424, 0.5978715933305847, 0.534002325211233, 0.38974255309274924, 0.26408870613921587, 0.37595987401852426, 0.6698906563022439, 0.37005453267306465, 0.014105230725419714, 0.06592471614144989]\n"
     ]
    },
    {
     "name": "stderr",
     "output_type": "stream",
     "text": [
      "Train 22: Time 0.012s (it:0.011s) Data:0.006s (it:0.006s) Loss 1.1168e+00 : 100%|██████████| 431/431 [00:05<00:00, 83.39it/s]\n",
      "Evaluate 22: Time 0.010s (it:0.003s) Data:0.006s (it:0.001s) Loss 1.1311e+00 : 100%|██████████| 144/144 [00:01<00:00, 103.94it/s]\n",
      "Train 23: Time 0.012s (it:0.010s) Data:0.006s (it:0.006s) Loss 1.1159e+00 : 100%|██████████| 431/431 [00:05<00:00, 85.15it/s]\n",
      "Evaluate 23: Time 0.009s (it:0.003s) Data:0.006s (it:0.002s) Loss 1.1294e+00 : 100%|██████████| 144/144 [00:01<00:00, 106.33it/s]\n",
      "Train 24: Time 0.012s (it:0.010s) Data:0.006s (it:0.006s) Loss 1.1150e+00 : 100%|██████████| 431/431 [00:05<00:00, 84.44it/s]\n",
      "Evaluate 24: Time 0.010s (it:0.003s) Data:0.006s (it:0.001s) Loss 1.1293e+00 : 100%|██████████| 144/144 [00:01<00:00, 104.97it/s]\n",
      "Train 25: Time 0.012s (it:0.011s) Data:0.006s (it:0.007s) Loss 1.1138e+00 : 100%|██████████| 431/431 [00:05<00:00, 84.37it/s]\n",
      "Evaluate 25: Time 0.009s (it:0.003s) Data:0.006s (it:0.002s) Loss 1.1292e+00 : 100%|██████████| 144/144 [00:01<00:00, 105.97it/s]\n",
      "Train 26: Time 0.012s (it:0.012s) Data:0.006s (it:0.007s) Loss 1.1125e+00 : 100%|██████████| 431/431 [00:05<00:00, 83.54it/s]\n",
      "Evaluate 26: Time 0.010s (it:0.003s) Data:0.006s (it:0.002s) Loss 1.1306e+00 : 100%|██████████| 144/144 [00:01<00:00, 97.35it/s]\n",
      "Train 27: Time 0.013s (it:0.010s) Data:0.007s (it:0.006s) Loss 1.1117e+00 : 100%|██████████| 431/431 [00:05<00:00, 76.32it/s]\n",
      "Evaluate 27: Time 0.010s (it:0.003s) Data:0.006s (it:0.001s) Loss 1.1283e+00 : 100%|██████████| 144/144 [00:01<00:00, 99.73it/s]\n",
      "Train 28: Time 0.012s (it:0.010s) Data:0.006s (it:0.006s) Loss 1.1105e+00 : 100%|██████████| 431/431 [00:05<00:00, 80.49it/s]\n",
      "Evaluate 28: Time 0.010s (it:0.004s) Data:0.006s (it:0.002s) Loss 1.1339e+00 : 100%|██████████| 144/144 [00:01<00:00, 100.86it/s]\n",
      "Train 29: Time 0.012s (it:0.011s) Data:0.006s (it:0.007s) Loss 1.1097e+00 : 100%|██████████| 431/431 [00:05<00:00, 81.50it/s]\n",
      "Evaluate 29: Time 0.010s (it:0.003s) Data:0.006s (it:0.002s) Loss 1.1323e+00 : 100%|██████████| 144/144 [00:01<00:00, 101.11it/s]\n",
      "Train 30: Time 0.013s (it:0.012s) Data:0.006s (it:0.007s) Loss 1.1093e+00 : 100%|██████████| 431/431 [00:05<00:00, 77.54it/s]\n",
      "Evaluate 30: Time 0.010s (it:0.003s) Data:0.006s (it:0.001s) Loss 1.1259e+00 : 100%|██████████| 144/144 [00:01<00:00, 99.77it/s] \n",
      "Train 31: Time 0.013s (it:0.012s) Data:0.006s (it:0.008s) Loss 1.1072e+00 : 100%|██████████| 431/431 [00:05<00:00, 79.17it/s]\n",
      "Evaluate 31: Time 0.010s (it:0.003s) Data:0.006s (it:0.001s) Loss 1.1302e+00 : 100%|██████████| 144/144 [00:01<00:00, 100.25it/s]\n",
      "Test (cls): Time 0.010s (it:0.003s) Data:0.006s (it:0.002s) : 100%|██████████| 144/144 [00:01<00:00, 102.08it/s]\n",
      "2022-12-08 01:59:49,645 [MainThread  ] [INFO ]  Validation performance at epoch 31 -> 0.3842157547857063\n"
     ]
    },
    {
     "name": "stdout",
     "output_type": "stream",
     "text": [
      "0.3842157547857063 [0.5367013360192312, 0.43213318503920634, 0.4651270003349461, 0.5998541331246605, 0.19829585746787928, 0.26397697742351267, 0.27064264058613513, 0.3948269230289779, 0.6065381496039739, 0.5438899722401499, 0.3959964416978463, 0.26957996735013673, 0.39230882174231047, 0.6864974534780993, 0.39958001672655646, 0.0150324232300967, 0.06068653226328819]\n"
     ]
    },
    {
     "name": "stderr",
     "output_type": "stream",
     "text": [
      "Train 32: Time 0.012s (it:0.011s) Data:0.006s (it:0.007s) Loss 1.1069e+00 : 100%|██████████| 431/431 [00:05<00:00, 82.03it/s]\n",
      "Evaluate 32: Time 0.009s (it:0.003s) Data:0.006s (it:0.002s) Loss 1.1308e+00 : 100%|██████████| 144/144 [00:01<00:00, 105.65it/s]\n",
      "Train 33: Time 0.012s (it:0.011s) Data:0.006s (it:0.006s) Loss 1.1067e+00 : 100%|██████████| 431/431 [00:05<00:00, 83.62it/s]\n",
      "Evaluate 33: Time 0.009s (it:0.004s) Data:0.006s (it:0.002s) Loss 1.1266e+00 : 100%|██████████| 144/144 [00:01<00:00, 107.40it/s]\n",
      "Train 34: Time 0.012s (it:0.010s) Data:0.006s (it:0.006s) Loss 1.1049e+00 : 100%|██████████| 431/431 [00:05<00:00, 82.58it/s]\n",
      "Evaluate 34: Time 0.009s (it:0.002s) Data:0.006s (it:0.001s) Loss 1.1271e+00 : 100%|██████████| 144/144 [00:01<00:00, 106.33it/s]\n",
      "Train 35: Time 0.012s (it:0.010s) Data:0.006s (it:0.006s) Loss 1.1046e+00 : 100%|██████████| 431/431 [00:05<00:00, 84.36it/s]\n",
      "Evaluate 35: Time 0.009s (it:0.003s) Data:0.006s (it:0.001s) Loss 1.1256e+00 : 100%|██████████| 144/144 [00:01<00:00, 106.00it/s]\n",
      "Train 36: Time 0.012s (it:0.011s) Data:0.006s (it:0.006s) Loss 1.1037e+00 : 100%|██████████| 431/431 [00:05<00:00, 83.41it/s]\n",
      "Evaluate 36: Time 0.009s (it:0.003s) Data:0.006s (it:0.002s) Loss 1.1307e+00 : 100%|██████████| 144/144 [00:01<00:00, 105.76it/s]\n",
      "Train 37: Time 0.012s (it:0.011s) Data:0.006s (it:0.007s) Loss 1.1027e+00 : 100%|██████████| 431/431 [00:05<00:00, 83.52it/s]\n",
      "Evaluate 37: Time 0.009s (it:0.004s) Data:0.006s (it:0.002s) Loss 1.1262e+00 : 100%|██████████| 144/144 [00:01<00:00, 106.16it/s]\n",
      "Train 38: Time 0.012s (it:0.011s) Data:0.006s (it:0.006s) Loss 1.1011e+00 : 100%|██████████| 431/431 [00:05<00:00, 83.12it/s]\n",
      "Evaluate 38: Time 0.010s (it:0.003s) Data:0.006s (it:0.002s) Loss 1.1265e+00 : 100%|██████████| 144/144 [00:01<00:00, 104.64it/s]\n",
      "Train 39: Time 0.012s (it:0.010s) Data:0.006s (it:0.006s) Loss 1.1012e+00 : 100%|██████████| 431/431 [00:05<00:00, 83.42it/s]\n",
      "Evaluate 39: Time 0.009s (it:0.003s) Data:0.006s (it:0.002s) Loss 1.1297e+00 : 100%|██████████| 144/144 [00:01<00:00, 106.10it/s]\n",
      "Train 40: Time 0.012s (it:0.011s) Data:0.006s (it:0.007s) Loss 1.1003e+00 : 100%|██████████| 431/431 [00:05<00:00, 83.42it/s]\n",
      "Evaluate 40: Time 0.010s (it:0.004s) Data:0.006s (it:0.002s) Loss 1.1267e+00 : 100%|██████████| 144/144 [00:01<00:00, 105.00it/s]\n",
      "Train 41: Time 0.012s (it:0.011s) Data:0.006s (it:0.007s) Loss 1.0998e+00 : 100%|██████████| 431/431 [00:05<00:00, 82.50it/s]\n",
      "Evaluate 41: Time 0.010s (it:0.003s) Data:0.006s (it:0.002s) Loss 1.1289e+00 : 100%|██████████| 144/144 [00:01<00:00, 105.24it/s]\n",
      "Test (cls): Time 0.009s (it:0.002s) Data:0.006s (it:0.001s) : 100%|██████████| 144/144 [00:01<00:00, 106.25it/s]\n",
      "2022-12-08 02:00:56,614 [MainThread  ] [INFO ]  Validation performance at epoch 41 -> 0.392949494642546\n"
     ]
    },
    {
     "name": "stdout",
     "output_type": "stream",
     "text": [
      "0.392949494642546 [0.5706268587848627, 0.4486820648407822, 0.47326592580277754, 0.6078203984409113, 0.20345373021417837, 0.26560089984316665, 0.2779918111542855, 0.4032935161107768, 0.6131466154381491, 0.5504124265273548, 0.4015727648379803, 0.27422343539941785, 0.403130937158076, 0.6962344816346738, 0.41863461216914105, 0.014703751000284933, 0.057347179566463624]\n"
     ]
    },
    {
     "name": "stderr",
     "output_type": "stream",
     "text": [
      "Train 42: Time 0.012s (it:0.010s) Data:0.006s (it:0.006s) Loss 1.0989e+00 : 100%|██████████| 431/431 [00:05<00:00, 84.32it/s]\n",
      "Evaluate 42: Time 0.009s (it:0.003s) Data:0.006s (it:0.001s) Loss 1.1315e+00 : 100%|██████████| 144/144 [00:01<00:00, 106.97it/s]\n",
      "Train 43: Time 0.012s (it:0.011s) Data:0.006s (it:0.006s) Loss 1.0978e+00 : 100%|██████████| 431/431 [00:05<00:00, 84.09it/s]\n",
      "Evaluate 43: Time 0.009s (it:0.002s) Data:0.006s (it:0.001s) Loss 1.1254e+00 : 100%|██████████| 144/144 [00:01<00:00, 108.16it/s]\n",
      "Train 44: Time 0.012s (it:0.010s) Data:0.006s (it:0.006s) Loss 1.0978e+00 : 100%|██████████| 431/431 [00:05<00:00, 83.48it/s]\n",
      "Evaluate 44: Time 0.009s (it:0.003s) Data:0.006s (it:0.001s) Loss 1.1242e+00 : 100%|██████████| 144/144 [00:01<00:00, 106.62it/s]\n",
      "Train 45: Time 0.012s (it:0.013s) Data:0.006s (it:0.008s) Loss 1.0955e+00 : 100%|██████████| 431/431 [00:05<00:00, 82.82it/s]\n",
      "Evaluate 45: Time 0.010s (it:0.004s) Data:0.006s (it:0.001s) Loss 1.1272e+00 : 100%|██████████| 144/144 [00:01<00:00, 99.64it/s] \n",
      "Train 46: Time 0.013s (it:0.010s) Data:0.007s (it:0.006s) Loss 1.0947e+00 : 100%|██████████| 431/431 [00:05<00:00, 75.27it/s]\n",
      "Evaluate 46: Time 0.010s (it:0.004s) Data:0.006s (it:0.002s) Loss 1.1271e+00 : 100%|██████████| 144/144 [00:01<00:00, 101.96it/s]\n",
      "Train 47: Time 0.012s (it:0.012s) Data:0.006s (it:0.006s) Loss 1.0948e+00 : 100%|██████████| 431/431 [00:05<00:00, 80.15it/s]\n",
      "Evaluate 47: Time 0.010s (it:0.004s) Data:0.006s (it:0.002s) Loss 1.1251e+00 : 100%|██████████| 144/144 [00:01<00:00, 101.26it/s]\n",
      "Train 48: Time 0.013s (it:0.011s) Data:0.006s (it:0.007s) Loss 1.0945e+00 : 100%|██████████| 431/431 [00:05<00:00, 79.81it/s]\n",
      "Evaluate 48: Time 0.010s (it:0.003s) Data:0.006s (it:0.001s) Loss 1.1280e+00 : 100%|██████████| 144/144 [00:01<00:00, 100.03it/s]\n",
      "Train 49: Time 0.013s (it:0.012s) Data:0.006s (it:0.007s) Loss 1.0935e+00 : 100%|██████████| 431/431 [00:05<00:00, 79.62it/s]\n",
      "Evaluate 49: Time 0.010s (it:0.003s) Data:0.006s (it:0.002s) Loss 1.1281e+00 : 100%|██████████| 144/144 [00:01<00:00, 101.12it/s]\n",
      "Train 50: Time 0.013s (it:0.011s) Data:0.006s (it:0.007s) Loss 1.0924e+00 : 100%|██████████| 431/431 [00:05<00:00, 79.86it/s]\n",
      "Evaluate 50: Time 0.010s (it:0.003s) Data:0.006s (it:0.002s) Loss 1.1261e+00 : 100%|██████████| 144/144 [00:01<00:00, 100.23it/s]\n",
      "Train 51: Time 0.013s (it:0.011s) Data:0.006s (it:0.006s) Loss 1.0921e+00 : 100%|██████████| 431/431 [00:05<00:00, 79.59it/s]\n",
      "Evaluate 51: Time 0.010s (it:0.003s) Data:0.006s (it:0.001s) Loss 1.1265e+00 : 100%|██████████| 144/144 [00:01<00:00, 100.40it/s]\n",
      "Test (cls): Time 0.010s (it:0.003s) Data:0.006s (it:0.001s) : 100%|██████████| 144/144 [00:01<00:00, 101.69it/s]\n",
      "2022-12-08 02:02:05,615 [MainThread  ] [INFO ]  Validation performance at epoch 51 -> 0.39786128039099433\n"
     ]
    },
    {
     "name": "stdout",
     "output_type": "stream",
     "text": [
      "0.39786128039099433 [0.5852255682558941, 0.4584803353198599, 0.4775739139698812, 0.6126799829128075, 0.2053224647177588, 0.2637617797954274, 0.2813086730216771, 0.4100998257626462, 0.6159171141649735, 0.5543835458954337, 0.4041391962585928, 0.274825076803443, 0.40726962773194214, 0.7032323648986138, 0.42865223498545674, 0.014496983062080903, 0.0662730790904152]\n"
     ]
    },
    {
     "name": "stderr",
     "output_type": "stream",
     "text": [
      "Train 52: Time 0.012s (it:0.012s) Data:0.006s (it:0.006s) Loss 1.0918e+00 : 100%|██████████| 431/431 [00:05<00:00, 83.54it/s]\n",
      "Evaluate 52: Time 0.009s (it:0.003s) Data:0.006s (it:0.002s) Loss 1.1249e+00 : 100%|██████████| 144/144 [00:01<00:00, 106.22it/s]\n",
      "Train 53: Time 0.012s (it:0.010s) Data:0.006s (it:0.006s) Loss 1.0899e+00 : 100%|██████████| 431/431 [00:05<00:00, 84.29it/s]\n",
      "Evaluate 53: Time 0.009s (it:0.003s) Data:0.006s (it:0.001s) Loss 1.1323e+00 : 100%|██████████| 144/144 [00:01<00:00, 106.47it/s]\n",
      "Train 54: Time 0.012s (it:0.010s) Data:0.006s (it:0.006s) Loss 1.0897e+00 : 100%|██████████| 431/431 [00:05<00:00, 83.86it/s]\n",
      "Evaluate 54: Time 0.009s (it:0.003s) Data:0.006s (it:0.001s) Loss 1.1262e+00 : 100%|██████████| 144/144 [00:01<00:00, 106.50it/s]\n",
      "Train 55: Time 0.012s (it:0.011s) Data:0.006s (it:0.007s) Loss 1.0890e+00 : 100%|██████████| 431/431 [00:05<00:00, 84.17it/s]\n",
      "Evaluate 55: Time 0.009s (it:0.003s) Data:0.006s (it:0.001s) Loss 1.1317e+00 : 100%|██████████| 144/144 [00:01<00:00, 106.33it/s]\n",
      "2022-12-08 02:02:31,580 [MainThread  ] [INFO ]  Plateau Reached!\n"
     ]
    },
    {
     "name": "stdout",
     "output_type": "stream",
     "text": [
      "Epoch 00055: reducing learning rate of group 0 to 1.0000e-04.\n"
     ]
    },
    {
     "name": "stderr",
     "output_type": "stream",
     "text": [
      "Train 56: Time 0.012s (it:0.010s) Data:0.006s (it:0.006s) Loss 1.0826e+00 : 100%|██████████| 431/431 [00:05<00:00, 84.23it/s]\n",
      "Evaluate 56: Time 0.009s (it:0.003s) Data:0.006s (it:0.001s) Loss 1.1231e+00 : 100%|██████████| 144/144 [00:01<00:00, 106.81it/s]\n",
      "Train 57: Time 0.012s (it:0.010s) Data:0.006s (it:0.006s) Loss 1.0819e+00 : 100%|██████████| 431/431 [00:05<00:00, 83.73it/s]\n",
      "Evaluate 57: Time 0.009s (it:0.003s) Data:0.006s (it:0.001s) Loss 1.1242e+00 : 100%|██████████| 144/144 [00:01<00:00, 106.94it/s]\n",
      "Train 58: Time 0.012s (it:0.012s) Data:0.006s (it:0.006s) Loss 1.0818e+00 : 100%|██████████| 431/431 [00:05<00:00, 84.00it/s]\n",
      "Evaluate 58: Time 0.009s (it:0.003s) Data:0.006s (it:0.001s) Loss 1.1235e+00 : 100%|██████████| 144/144 [00:01<00:00, 106.86it/s]\n",
      "Train 59: Time 0.012s (it:0.010s) Data:0.006s (it:0.006s) Loss 1.0815e+00 : 100%|██████████| 431/431 [00:05<00:00, 84.32it/s]\n",
      "Evaluate 59: Time 0.009s (it:0.003s) Data:0.006s (it:0.002s) Loss 1.1237e+00 : 100%|██████████| 144/144 [00:01<00:00, 106.84it/s]\n",
      "Train 60: Time 0.012s (it:0.010s) Data:0.006s (it:0.006s) Loss 1.0814e+00 : 100%|██████████| 431/431 [00:05<00:00, 84.05it/s]\n",
      "Evaluate 60: Time 0.009s (it:0.004s) Data:0.006s (it:0.002s) Loss 1.1237e+00 : 100%|██████████| 144/144 [00:01<00:00, 106.04it/s]\n",
      "Train 61: Time 0.012s (it:0.011s) Data:0.006s (it:0.007s) Loss 1.0812e+00 : 100%|██████████| 431/431 [00:05<00:00, 84.08it/s]\n",
      "Evaluate 61: Time 0.009s (it:0.004s) Data:0.006s (it:0.002s) Loss 1.1247e+00 : 100%|██████████| 144/144 [00:01<00:00, 106.01it/s]\n",
      "Test (cls): Time 0.010s (it:0.003s) Data:0.006s (it:0.001s) : 100%|██████████| 144/144 [00:01<00:00, 100.49it/s]\n",
      "2022-12-08 02:03:12,060 [MainThread  ] [INFO ]  Validation performance at epoch 61 -> 0.40092279168008943\n"
     ]
    },
    {
     "name": "stdout",
     "output_type": "stream",
     "text": [
      "0.40092279168008943 [0.5909499074171014, 0.4649269235339705, 0.47886489918926944, 0.6148864911463777, 0.20576910872967114, 0.26787421837314923, 0.28415612195272966, 0.41179311981767025, 0.6181641064832144, 0.5568055565171556, 0.40513895825136126, 0.2759257506427983, 0.41325115183561656, 0.7062226284345126, 0.4376002703371593, 0.014868130891130898, 0.0684901150086309]\n"
     ]
    },
    {
     "name": "stderr",
     "output_type": "stream",
     "text": [
      "Train 62: Time 0.013s (it:0.012s) Data:0.006s (it:0.006s) Loss 1.0807e+00 : 100%|██████████| 431/431 [00:05<00:00, 79.73it/s]\n",
      "Evaluate 62: Time 0.010s (it:0.003s) Data:0.006s (it:0.002s) Loss 1.1246e+00 : 100%|██████████| 144/144 [00:01<00:00, 104.54it/s]\n",
      "Train 63: Time 0.013s (it:0.011s) Data:0.006s (it:0.006s) Loss 1.0802e+00 : 100%|██████████| 431/431 [00:05<00:00, 79.17it/s]\n",
      "Evaluate 63: Time 0.009s (it:0.003s) Data:0.006s (it:0.001s) Loss 1.1258e+00 : 100%|██████████| 144/144 [00:01<00:00, 107.93it/s]\n",
      "Train 64: Time 0.012s (it:0.010s) Data:0.006s (it:0.006s) Loss 1.0800e+00 : 100%|██████████| 431/431 [00:05<00:00, 85.43it/s]\n",
      "Evaluate 64: Time 0.009s (it:0.003s) Data:0.006s (it:0.002s) Loss 1.1250e+00 : 100%|██████████| 144/144 [00:01<00:00, 107.60it/s]\n",
      "Train 65: Time 0.012s (it:0.010s) Data:0.006s (it:0.006s) Loss 1.0799e+00 : 100%|██████████| 431/431 [00:05<00:00, 85.16it/s]\n",
      "Evaluate 65: Time 0.009s (it:0.003s) Data:0.006s (it:0.001s) Loss 1.1249e+00 : 100%|██████████| 144/144 [00:01<00:00, 107.28it/s]\n",
      "Train 66: Time 0.012s (it:0.012s) Data:0.006s (it:0.006s) Loss 1.0800e+00 : 100%|██████████| 431/431 [00:05<00:00, 83.50it/s]\n",
      "Evaluate 66: Time 0.009s (it:0.003s) Data:0.006s (it:0.001s) Loss 1.1245e+00 : 100%|██████████| 144/144 [00:01<00:00, 105.73it/s]\n",
      "Train 67: Time 0.012s (it:0.011s) Data:0.006s (it:0.007s) Loss 1.0796e+00 : 100%|██████████| 431/431 [00:05<00:00, 82.02it/s]\n",
      "Evaluate 67: Time 0.009s (it:0.003s) Data:0.006s (it:0.002s) Loss 1.1250e+00 : 100%|██████████| 144/144 [00:01<00:00, 106.96it/s]\n",
      "2022-12-08 02:03:51,559 [MainThread  ] [INFO ]  Plateau Reached!\n"
     ]
    },
    {
     "name": "stdout",
     "output_type": "stream",
     "text": [
      "Epoch 00067: reducing learning rate of group 0 to 1.0000e-05.\n"
     ]
    },
    {
     "name": "stderr",
     "output_type": "stream",
     "text": [
      "Train 68: Time 0.012s (it:0.012s) Data:0.006s (it:0.006s) Loss 1.0788e+00 : 100%|██████████| 431/431 [00:05<00:00, 82.48it/s]\n",
      "Evaluate 68: Time 0.009s (it:0.003s) Data:0.006s (it:0.002s) Loss 1.1248e+00 : 100%|██████████| 144/144 [00:01<00:00, 106.79it/s]\n",
      "Train 69: Time 0.012s (it:0.015s) Data:0.006s (it:0.008s) Loss 1.0791e+00 : 100%|██████████| 431/431 [00:05<00:00, 81.32it/s]\n",
      "Evaluate 69: Time 0.009s (it:0.003s) Data:0.006s (it:0.002s) Loss 1.1250e+00 : 100%|██████████| 144/144 [00:01<00:00, 106.94it/s]\n",
      "Train 70: Time 0.012s (it:0.011s) Data:0.006s (it:0.007s) Loss 1.0786e+00 : 100%|██████████| 431/431 [00:05<00:00, 83.16it/s]\n",
      "Evaluate 70: Time 0.009s (it:0.003s) Data:0.006s (it:0.002s) Loss 1.1248e+00 : 100%|██████████| 144/144 [00:01<00:00, 106.76it/s]\n",
      "Train 71: Time 0.012s (it:0.011s) Data:0.006s (it:0.007s) Loss 1.0784e+00 : 100%|██████████| 431/431 [00:05<00:00, 84.74it/s]\n",
      "Evaluate 71: Time 0.010s (it:0.003s) Data:0.006s (it:0.001s) Loss 1.1246e+00 : 100%|██████████| 144/144 [00:01<00:00, 105.23it/s]\n",
      "Test (cls): Time 0.010s (it:0.003s) Data:0.006s (it:0.002s) : 100%|██████████| 144/144 [00:01<00:00, 104.22it/s]\n",
      "2022-12-08 02:04:19,307 [MainThread  ] [INFO ]  Validation performance at epoch 71 -> 0.4010749289087778\n"
     ]
    },
    {
     "name": "stdout",
     "output_type": "stream",
     "text": [
      "0.4010749289087778 [0.5897090158791254, 0.46596456378264284, 0.4799835090336535, 0.6156634452023694, 0.2058221038149589, 0.2688267691496158, 0.28368465308793966, 0.4119587706233864, 0.6185416919035098, 0.5568416906619342, 0.4048938195204381, 0.2755403955538073, 0.4132233350427716, 0.7065462487388747, 0.438379828879732, 0.0144634423598059, 0.06823050821465637]\n"
     ]
    },
    {
     "name": "stderr",
     "output_type": "stream",
     "text": [
      "Train 72: Time 0.012s (it:0.011s) Data:0.006s (it:0.006s) Loss 1.0788e+00 : 100%|██████████| 431/431 [00:05<00:00, 85.26it/s]\n",
      "Evaluate 72: Time 0.010s (it:0.002s) Data:0.006s (it:0.001s) Loss 1.1250e+00 : 100%|██████████| 144/144 [00:01<00:00, 105.25it/s]\n",
      "Train 73: Time 0.012s (it:0.010s) Data:0.006s (it:0.006s) Loss 1.0783e+00 : 100%|██████████| 431/431 [00:05<00:00, 84.78it/s]\n",
      "Evaluate 73: Time 0.010s (it:0.004s) Data:0.006s (it:0.002s) Loss 1.1246e+00 : 100%|██████████| 144/144 [00:01<00:00, 105.15it/s]\n",
      "Train 74: Time 0.012s (it:0.010s) Data:0.006s (it:0.006s) Loss 1.0787e+00 : 100%|██████████| 431/431 [00:05<00:00, 85.35it/s]\n",
      "Evaluate 74: Time 0.009s (it:0.003s) Data:0.006s (it:0.001s) Loss 1.1246e+00 : 100%|██████████| 144/144 [00:01<00:00, 106.07it/s]\n",
      "Train 75: Time 0.012s (it:0.011s) Data:0.006s (it:0.006s) Loss 1.0789e+00 : 100%|██████████| 431/431 [00:05<00:00, 84.50it/s]\n",
      "Evaluate 75: Time 0.010s (it:0.004s) Data:0.006s (it:0.001s) Loss 1.1250e+00 : 100%|██████████| 144/144 [00:01<00:00, 104.48it/s]\n",
      "Train 76: Time 0.012s (it:0.010s) Data:0.006s (it:0.006s) Loss 1.0782e+00 : 100%|██████████| 431/431 [00:05<00:00, 84.43it/s]\n",
      "Evaluate 76: Time 0.009s (it:0.003s) Data:0.006s (it:0.002s) Loss 1.1247e+00 : 100%|██████████| 144/144 [00:01<00:00, 105.73it/s]\n",
      "Train 77: Time 0.012s (it:0.012s) Data:0.006s (it:0.007s) Loss 1.0785e+00 : 100%|██████████| 431/431 [00:05<00:00, 83.67it/s]\n",
      "Evaluate 77: Time 0.009s (it:0.003s) Data:0.006s (it:0.001s) Loss 1.1249e+00 : 100%|██████████| 144/144 [00:01<00:00, 105.66it/s]\n",
      "Train 78: Time 0.013s (it:0.012s) Data:0.007s (it:0.006s) Loss 1.0783e+00 : 100%|██████████| 431/431 [00:05<00:00, 74.45it/s]\n",
      "Evaluate 78: Time 0.011s (it:0.003s) Data:0.007s (it:0.001s) Loss 1.1247e+00 : 100%|██████████| 144/144 [00:01<00:00, 93.24it/s]\n",
      "2022-12-08 02:05:05,416 [MainThread  ] [INFO ]  Plateau Reached!\n"
     ]
    },
    {
     "name": "stdout",
     "output_type": "stream",
     "text": [
      "Epoch 00078: reducing learning rate of group 0 to 1.0000e-06.\n"
     ]
    },
    {
     "name": "stderr",
     "output_type": "stream",
     "text": [
      "Train 79: Time 0.013s (it:0.010s) Data:0.006s (it:0.006s) Loss 1.0781e+00 : 100%|██████████| 431/431 [00:05<00:00, 77.20it/s]\n",
      "Evaluate 79: Time 0.010s (it:0.003s) Data:0.006s (it:0.002s) Loss 1.1247e+00 : 100%|██████████| 144/144 [00:01<00:00, 103.01it/s]\n",
      "Train 80: Time 0.013s (it:0.010s) Data:0.006s (it:0.006s) Loss 1.0783e+00 : 100%|██████████| 431/431 [00:05<00:00, 79.39it/s]\n",
      "Evaluate 80: Time 0.010s (it:0.004s) Data:0.006s (it:0.002s) Loss 1.1247e+00 : 100%|██████████| 144/144 [00:01<00:00, 99.42it/s] \n",
      "Train 81: Time 0.013s (it:0.011s) Data:0.006s (it:0.006s) Loss 1.0783e+00 : 100%|██████████| 431/431 [00:05<00:00, 78.75it/s]\n",
      "Evaluate 81: Time 0.010s (it:0.003s) Data:0.006s (it:0.001s) Loss 1.1248e+00 : 100%|██████████| 144/144 [00:01<00:00, 100.04it/s]\n",
      "Test (cls): Time 0.010s (it:0.003s) Data:0.006s (it:0.002s) : 100%|██████████| 144/144 [00:01<00:00, 100.79it/s]\n",
      "2022-12-08 02:05:27,771 [MainThread  ] [INFO ]  Validation performance at epoch 81 -> 0.40111093164317646\n"
     ]
    },
    {
     "name": "stdout",
     "output_type": "stream",
     "text": [
      "0.40111093164317646 [0.5897310203687456, 0.46605114562425537, 0.4801123728984774, 0.6158208777049297, 0.2058616454672642, 0.2688400891336844, 0.28375443557661467, 0.4120404204246175, 0.618522649228751, 0.5568790526308665, 0.40487774029860557, 0.2755363528168331, 0.4131776016185256, 0.7065173870210684, 0.43846644047318833, 0.014462104347355693, 0.06823450230021574]\n"
     ]
    },
    {
     "name": "stderr",
     "output_type": "stream",
     "text": [
      "Train 82: Time 0.013s (it:0.011s) Data:0.006s (it:0.007s) Loss 1.0787e+00 : 100%|██████████| 431/431 [00:05<00:00, 79.29it/s]\n",
      "Evaluate 82: Time 0.010s (it:0.003s) Data:0.006s (it:0.002s) Loss 1.1248e+00 : 100%|██████████| 144/144 [00:01<00:00, 99.35it/s] \n",
      "Train 83: Time 0.013s (it:0.014s) Data:0.006s (it:0.009s) Loss 1.0782e+00 : 100%|██████████| 431/431 [00:05<00:00, 77.69it/s]\n",
      "Evaluate 83: Time 0.011s (it:0.004s) Data:0.007s (it:0.002s) Loss 1.1248e+00 : 100%|██████████| 144/144 [00:01<00:00, 91.48it/s]\n",
      "Train 84: Time 0.013s (it:0.013s) Data:0.006s (it:0.008s) Loss 1.0785e+00 : 100%|██████████| 431/431 [00:05<00:00, 77.94it/s]\n",
      "Evaluate 84: Time 0.010s (it:0.002s) Data:0.006s (it:0.001s) Loss 1.1248e+00 : 100%|██████████| 144/144 [00:01<00:00, 101.31it/s]\n",
      "Train 85: Time 0.013s (it:0.011s) Data:0.006s (it:0.006s) Loss 1.0785e+00 : 100%|██████████| 431/431 [00:05<00:00, 78.77it/s]\n",
      "Evaluate 85: Time 0.010s (it:0.003s) Data:0.006s (it:0.001s) Loss 1.1248e+00 : 100%|██████████| 144/144 [00:01<00:00, 101.03it/s]\n",
      "Train 86: Time 0.013s (it:0.012s) Data:0.006s (it:0.008s) Loss 1.0784e+00 : 100%|██████████| 431/431 [00:05<00:00, 79.95it/s]\n",
      "Evaluate 86: Time 0.010s (it:0.004s) Data:0.006s (it:0.002s) Loss 1.1248e+00 : 100%|██████████| 144/144 [00:01<00:00, 101.72it/s]\n",
      "Train 87: Time 0.013s (it:0.011s) Data:0.006s (it:0.006s) Loss 1.0784e+00 : 100%|██████████| 431/431 [00:05<00:00, 79.87it/s]\n",
      "Evaluate 87: Time 0.010s (it:0.003s) Data:0.006s (it:0.002s) Loss 1.1248e+00 : 100%|██████████| 144/144 [00:01<00:00, 101.39it/s]\n",
      "Train 88: Time 0.012s (it:0.011s) Data:0.006s (it:0.007s) Loss 1.0780e+00 : 100%|██████████| 431/431 [00:05<00:00, 80.34it/s]\n",
      "Evaluate 88: Time 0.010s (it:0.003s) Data:0.006s (it:0.001s) Loss 1.1248e+00 : 100%|██████████| 144/144 [00:01<00:00, 101.18it/s]\n",
      "Train 89: Time 0.013s (it:0.012s) Data:0.006s (it:0.006s) Loss 1.0781e+00 : 100%|██████████| 431/431 [00:05<00:00, 79.46it/s]\n",
      "Evaluate 89: Time 0.010s (it:0.003s) Data:0.006s (it:0.002s) Loss 1.1248e+00 : 100%|██████████| 144/144 [00:01<00:00, 100.28it/s]\n",
      "2022-12-08 02:06:22,936 [MainThread  ] [INFO ]  Plateau Reached!\n"
     ]
    },
    {
     "name": "stdout",
     "output_type": "stream",
     "text": [
      "Epoch 00089: reducing learning rate of group 0 to 1.0000e-07.\n"
     ]
    },
    {
     "name": "stderr",
     "output_type": "stream",
     "text": [
      "Train 90: Time 0.012s (it:0.012s) Data:0.006s (it:0.006s) Loss 1.0785e+00 : 100%|██████████| 431/431 [00:05<00:00, 84.83it/s]\n",
      "Evaluate 90: Time 0.009s (it:0.003s) Data:0.006s (it:0.001s) Loss 1.1248e+00 : 100%|██████████| 144/144 [00:01<00:00, 106.99it/s]\n",
      "Train 91: Time 0.013s (it:0.012s) Data:0.006s (it:0.007s) Loss 1.0785e+00 : 100%|██████████| 431/431 [00:05<00:00, 78.63it/s]\n",
      "Evaluate 91: Time 0.010s (it:0.003s) Data:0.006s (it:0.002s) Loss 1.1248e+00 : 100%|██████████| 144/144 [00:01<00:00, 102.24it/s]\n",
      "Test (cls): Time 0.010s (it:0.003s) Data:0.006s (it:0.002s) : 100%|██████████| 144/144 [00:01<00:00, 103.88it/s]\n",
      "2022-12-08 02:06:37,790 [MainThread  ] [INFO ]  Validation performance at epoch 91 -> 0.4011091600829715\n"
     ]
    },
    {
     "name": "stdout",
     "output_type": "stream",
     "text": [
      "0.4011091600829715 [0.5897297053397846, 0.46599171134397666, 0.48012628095255955, 0.615858259676353, 0.20586540682793525, 0.26882495541662166, 0.2837428042210236, 0.4120372879825503, 0.6185222404043177, 0.5568959777598941, 0.404888534300201, 0.2755253648309359, 0.41318401896206725, 0.7065271718937213, 0.43844772533313314, 0.01445746069452105, 0.06823081547091919]\n"
     ]
    },
    {
     "name": "stderr",
     "output_type": "stream",
     "text": [
      "Train 92: Time 0.013s (it:0.014s) Data:0.006s (it:0.008s) Loss 1.0782e+00 : 100%|██████████| 431/431 [00:05<00:00, 78.83it/s]\n",
      "Evaluate 92: Time 0.010s (it:0.003s) Data:0.006s (it:0.002s) Loss 1.1248e+00 : 100%|██████████| 144/144 [00:01<00:00, 100.38it/s]\n",
      "Train 93: Time 0.012s (it:0.011s) Data:0.006s (it:0.006s) Loss 1.0782e+00 : 100%|██████████| 431/431 [00:05<00:00, 81.64it/s]\n",
      "Evaluate 93: Time 0.010s (it:0.003s) Data:0.006s (it:0.001s) Loss 1.1248e+00 : 100%|██████████| 144/144 [00:01<00:00, 102.07it/s]\n",
      "Train 94: Time 0.012s (it:0.010s) Data:0.006s (it:0.006s) Loss 1.0785e+00 : 100%|██████████| 431/431 [00:05<00:00, 81.82it/s]\n",
      "Evaluate 94: Time 0.010s (it:0.003s) Data:0.006s (it:0.001s) Loss 1.1248e+00 : 100%|██████████| 144/144 [00:01<00:00, 101.27it/s]\n",
      "Train 95: Time 0.012s (it:0.012s) Data:0.006s (it:0.007s) Loss 1.0783e+00 : 100%|██████████| 431/431 [00:05<00:00, 80.81it/s]\n",
      "Evaluate 95: Time 0.010s (it:0.003s) Data:0.006s (it:0.001s) Loss 1.1248e+00 : 100%|██████████| 144/144 [00:01<00:00, 102.80it/s]\n",
      "Train 96: Time 0.012s (it:0.011s) Data:0.006s (it:0.007s) Loss 1.0783e+00 : 100%|██████████| 431/431 [00:05<00:00, 81.64it/s]\n",
      "Evaluate 96: Time 0.010s (it:0.004s) Data:0.006s (it:0.002s) Loss 1.1248e+00 : 100%|██████████| 144/144 [00:01<00:00, 102.14it/s]\n",
      "Train 97: Time 0.012s (it:0.011s) Data:0.006s (it:0.006s) Loss 1.0783e+00 : 100%|██████████| 431/431 [00:05<00:00, 80.91it/s]\n",
      "Evaluate 97: Time 0.010s (it:0.003s) Data:0.006s (it:0.001s) Loss 1.1248e+00 : 100%|██████████| 144/144 [00:01<00:00, 102.37it/s]\n",
      "Train 98: Time 0.012s (it:0.009s) Data:0.006s (it:0.006s) Loss 1.0780e+00 : 100%|██████████| 431/431 [00:05<00:00, 81.33it/s]\n",
      "Evaluate 98: Time 0.010s (it:0.004s) Data:0.006s (it:0.002s) Loss 1.1248e+00 : 100%|██████████| 144/144 [00:01<00:00, 102.00it/s]\n",
      "Train 99: Time 0.012s (it:0.011s) Data:0.006s (it:0.006s) Loss 1.0784e+00 : 100%|██████████| 431/431 [00:05<00:00, 80.22it/s]\n",
      "Evaluate 99: Time 0.010s (it:0.003s) Data:0.006s (it:0.001s) Loss 1.1248e+00 : 100%|██████████| 144/144 [00:01<00:00, 100.87it/s]\n",
      "Train 100: Time 0.012s (it:0.011s) Data:0.006s (it:0.007s) Loss 1.0779e+00 : 100%|██████████| 431/431 [00:05<00:00, 80.78it/s]\n",
      "Evaluate 100: Time 0.010s (it:0.004s) Data:0.006s (it:0.001s) Loss 1.1248e+00 : 100%|██████████| 144/144 [00:01<00:00, 100.47it/s]\n",
      "2022-12-08 02:07:38,553 [MainThread  ] [INFO ]  Plateau Reached!\n"
     ]
    },
    {
     "name": "stdout",
     "output_type": "stream",
     "text": [
      "Epoch 00100: reducing learning rate of group 0 to 1.0000e-08.\n"
     ]
    },
    {
     "name": "stderr",
     "output_type": "stream",
     "text": [
      "Train 101: Time 0.012s (it:0.011s) Data:0.006s (it:0.006s) Loss 1.0781e+00 : 100%|██████████| 431/431 [00:05<00:00, 81.64it/s]\n",
      "Evaluate 101: Time 0.009s (it:0.003s) Data:0.006s (it:0.001s) Loss 1.1248e+00 : 100%|██████████| 144/144 [00:01<00:00, 106.94it/s]\n",
      "Test (cls): Time 0.009s (it:0.002s) Data:0.006s (it:0.001s) : 100%|██████████| 144/144 [00:01<00:00, 108.26it/s]\n",
      "2022-12-08 02:07:46,657 [MainThread  ] [INFO ]  Validation performance at epoch 101 -> 0.4011077309394867\n"
     ]
    },
    {
     "name": "stdout",
     "output_type": "stream",
     "text": [
      "0.4011077309394867 [0.5897297053397845, 0.4659866662924826, 0.4801119813929535, 0.6158559686279389, 0.20586493022419405, 0.2688392161426049, 0.2837427916071727, 0.4120402192130157, 0.6185214139033763, 0.556889972395854, 0.40488776452047365, 0.27552145460426947, 0.4131761236831606, 0.7065276365130723, 0.4384471127795708, 0.014457536062585864, 0.06823093266876556]\n"
     ]
    },
    {
     "name": "stderr",
     "output_type": "stream",
     "text": [
      "Train 102: Time 0.012s (it:0.010s) Data:0.006s (it:0.006s) Loss 1.0783e+00 : 100%|██████████| 431/431 [00:05<00:00, 82.90it/s]\n",
      "Evaluate 102: Time 0.009s (it:0.004s) Data:0.006s (it:0.002s) Loss 1.1248e+00 : 100%|██████████| 144/144 [00:01<00:00, 107.28it/s]\n",
      "Train 103: Time 0.012s (it:0.011s) Data:0.006s (it:0.007s) Loss 1.0785e+00 : 100%|██████████| 431/431 [00:05<00:00, 82.38it/s]\n",
      "Evaluate 103: Time 0.009s (it:0.003s) Data:0.006s (it:0.002s) Loss 1.1248e+00 : 100%|██████████| 144/144 [00:01<00:00, 107.13it/s]\n",
      "Train 104: Time 0.012s (it:0.010s) Data:0.006s (it:0.006s) Loss 1.0783e+00 : 100%|██████████| 431/431 [00:05<00:00, 82.99it/s]\n",
      "Evaluate 104: Time 0.009s (it:0.004s) Data:0.006s (it:0.001s) Loss 1.1248e+00 : 100%|██████████| 144/144 [00:01<00:00, 106.45it/s]\n",
      "Train 105: Time 0.012s (it:0.011s) Data:0.006s (it:0.006s) Loss 1.0778e+00 : 100%|██████████| 431/431 [00:05<00:00, 82.94it/s]\n",
      "Evaluate 105: Time 0.009s (it:0.003s) Data:0.006s (it:0.001s) Loss 1.1248e+00 : 100%|██████████| 144/144 [00:01<00:00, 106.95it/s]\n",
      "Train 106: Time 0.012s (it:0.010s) Data:0.006s (it:0.006s) Loss 1.0783e+00 : 100%|██████████| 431/431 [00:05<00:00, 84.35it/s]\n",
      "Evaluate 106: Time 0.009s (it:0.004s) Data:0.006s (it:0.002s) Loss 1.1248e+00 : 100%|██████████| 144/144 [00:01<00:00, 106.37it/s]\n",
      "Train 107: Time 0.012s (it:0.010s) Data:0.006s (it:0.006s) Loss 1.0780e+00 : 100%|██████████| 431/431 [00:05<00:00, 83.92it/s]\n",
      "Evaluate 107: Time 0.009s (it:0.004s) Data:0.006s (it:0.002s) Loss 1.1248e+00 : 100%|██████████| 144/144 [00:01<00:00, 107.24it/s]\n",
      "Train 108: Time 0.012s (it:0.011s) Data:0.006s (it:0.006s) Loss 1.0782e+00 : 100%|██████████| 431/431 [00:05<00:00, 84.72it/s]\n",
      "Evaluate 108: Time 0.009s (it:0.003s) Data:0.006s (it:0.001s) Loss 1.1248e+00 : 100%|██████████| 144/144 [00:01<00:00, 105.71it/s]\n",
      "Train 109: Time 0.012s (it:0.011s) Data:0.006s (it:0.006s) Loss 1.0784e+00 : 100%|██████████| 431/431 [00:05<00:00, 84.27it/s]\n",
      "Evaluate 109: Time 0.009s (it:0.004s) Data:0.006s (it:0.002s) Loss 1.1248e+00 : 100%|██████████| 144/144 [00:01<00:00, 105.91it/s]\n",
      "Train 110: Time 0.012s (it:0.009s) Data:0.006s (it:0.006s) Loss 1.0785e+00 : 100%|██████████| 431/431 [00:05<00:00, 83.72it/s]\n",
      "Evaluate 110: Time 0.009s (it:0.004s) Data:0.006s (it:0.002s) Loss 1.1248e+00 : 100%|██████████| 144/144 [00:01<00:00, 106.29it/s]\n",
      "2022-12-08 02:08:45,275 [MainThread  ] [INFO ]  Plateau Reached and no more reduction -> Exiting Loop\n",
      "2022-12-08 02:08:45,967 [MainThread  ] [INFO ]  Checking/Download features and labels locally\n",
      "Test (spot.): Time 0.544s (it:0.619s) Data:0.386s (it:0.449s) : 100%|██████████| 100/100 [00:54<00:00,  1.83it/s]\n",
      "100%|██████████| 100/100 [00:02<00:00, 49.30it/s]\n",
      "100%|██████████| 12/12 [00:16<00:00,  1.37s/it]\n",
      "2022-12-08 02:10:00,903 [MainThread  ] [INFO ]  Best Performance at end of training \n",
      "2022-12-08 02:10:00,903 [MainThread  ] [INFO ]  a_mAP visibility all: 0.5149503831410557\n",
      "2022-12-08 02:10:00,903 [MainThread  ] [INFO ]  a_mAP visibility all per class: [0.7496713461464517, 0.5917366865454068, 0.7110902687561723, 0.7072522431489184, 0.3725804275720952, 0.3751847889589597, 0.3923984614298596, 0.5596418944665514, 0.6808235942598947, 0.6497508414628277, 0.6213763771650473, 0.4332794561189417, 0.563682426262504, 0.7947840928952264, 0.5031748016836878, 0.028291952615732297, 0.01943685390967015]\n",
      "2022-12-08 02:10:00,903 [MainThread  ] [INFO ]  a_mAP visibility visible: 0.571167949448678\n",
      "2022-12-08 02:10:00,903 [MainThread  ] [INFO ]  a_mAP visibility visible per class: [0.8297220358630754, 0.6848772350390928, 0.7202592096692988, 0.7792454392661667, 0.40125420311263854, 0.37769079317223664, 0.39501839013288936, 0.6719557441174241, 0.6843214549004674, 0.679849359273407, 0.6270573977047859, 0.39946658802407387, 0.6564976869210987, 0.8058464626484135, 0.5471492753427432, 0.28282709479364043, 0.16681677064607195]\n",
      "2022-12-08 02:10:00,903 [MainThread  ] [INFO ]  a_mAP visibility unshown: 0.35533833437822165\n",
      "2022-12-08 02:10:00,906 [MainThread  ] [INFO ]  a_mAP visibility unshown per class: [0.0, 0.5487246631122447, 0.0, 0.3010005002184466, 0.1332879894364507, 0.03636363636363637, 0.2776098008913973, 0.442945070610782, 0.624383516814225, 0.5823321610955356, 0.34917499722623346, 0.48258542726278364, 0.02710231293757067, 0.7464460273423157, 0.06744224360525912, 0.0, 0.0]\n",
      "2022-12-08 02:10:00,906 [MainThread  ] [INFO ]  Total Execution Time is 896.5449731349945 seconds\n"
     ]
    }
   ],
   "source": [
    "%run $training_file_name\\\n",
    "    --SoccerNet_path=$resnet_features_path\\\n",
    "    --model_name=NetVLAD++_ResNETPCA512_CE\\\n",
    "    --features=ResNET_TF2_PCA512.npy --seed 3 --LR=1e-3\\\n",
    "    --split_test=\"test\"\\\n",
    "    --custom_feature_path=$vit_features_path\\\n",
    "    --loss_function=CE"
   ]
  },
  {
   "cell_type": "markdown",
   "metadata": {},
   "source": [
    "#### Experiment 10:  ResNETPCA512 + NetVladd + CE+CB Loss"
   ]
  },
  {
   "cell_type": "code",
   "execution_count": 1,
   "metadata": {},
   "outputs": [
    {
     "name": "stderr",
     "output_type": "stream",
     "text": [
      "2022-12-08 02:11:24,258 [MainThread  ] [INFO ]  Starting main function\n",
      "2022-12-08 02:11:24,259 [MainThread  ] [INFO ]  Parameters:\n",
      "2022-12-08 02:11:24,259 [MainThread  ] [INFO ]   SoccerNet_path : G:\\.shortcut-targets-by-id\\\\1H509_zeV7bta5BudwCznjP0EWrCa_LCJ\\\\deep_learning_alphas_final_project\\\\assets_pca\n",
      "2022-12-08 02:11:24,260 [MainThread  ] [INFO ]         features : ResNET_TF2_PCA512.npy\n",
      "2022-12-08 02:11:24,260 [MainThread  ] [INFO ]       max_epochs : 1000\n",
      "2022-12-08 02:11:24,260 [MainThread  ] [INFO ]     load_weights : None\n",
      "2022-12-08 02:11:24,261 [MainThread  ] [INFO ]       model_name : NetVLAD++_ResNETPCA512_CE+CB_run_1\n",
      "2022-12-08 02:11:24,262 [MainThread  ] [INFO ]        test_only : False\n",
      "2022-12-08 02:11:24,262 [MainThread  ] [INFO ]      split_train : ['train']\n",
      "2022-12-08 02:11:24,262 [MainThread  ] [INFO ]      split_valid : ['valid']\n",
      "2022-12-08 02:11:24,263 [MainThread  ] [INFO ]       split_test : ['test']\n",
      "2022-12-08 02:11:24,263 [MainThread  ] [INFO ]          version : 2\n",
      "2022-12-08 02:11:24,264 [MainThread  ] [INFO ]      feature_dim : None\n",
      "2022-12-08 02:11:24,264 [MainThread  ] [INFO ]  evaluation_frequency : 10\n",
      "2022-12-08 02:11:24,265 [MainThread  ] [INFO ]        framerate : 2\n",
      "2022-12-08 02:11:24,265 [MainThread  ] [INFO ]      window_size : 15\n",
      "2022-12-08 02:11:24,266 [MainThread  ] [INFO ]             pool : NetVLAD++\n",
      "2022-12-08 02:11:24,266 [MainThread  ] [INFO ]       vocab_size : 64\n",
      "2022-12-08 02:11:24,267 [MainThread  ] [INFO ]       NMS_window : 30\n",
      "2022-12-08 02:11:24,267 [MainThread  ] [INFO ]    NMS_threshold : 0.0\n",
      "2022-12-08 02:11:24,268 [MainThread  ] [INFO ]       batch_size : 256\n",
      "2022-12-08 02:11:24,268 [MainThread  ] [INFO ]               LR : 0.001\n",
      "2022-12-08 02:11:24,268 [MainThread  ] [INFO ]              LRe : 1e-06\n",
      "2022-12-08 02:11:24,269 [MainThread  ] [INFO ]         patience : 10\n",
      "2022-12-08 02:11:24,270 [MainThread  ] [INFO ]              GPU : 0\n",
      "2022-12-08 02:11:24,270 [MainThread  ] [INFO ]   max_num_worker : 1\n",
      "2022-12-08 02:11:24,270 [MainThread  ] [INFO ]             seed : 3\n",
      "2022-12-08 02:11:24,270 [MainThread  ] [INFO ]         loglevel : INFO\n",
      "2022-12-08 02:11:24,271 [MainThread  ] [INFO ]  custom_feature_path : C:\\\\Users\\\\91995\\\\OneDrive - Georgia Institute of Technology\\\\vit_features\n",
      "2022-12-08 02:11:24,271 [MainThread  ] [INFO ]    loss_function : CE+CB\n",
      "2022-12-08 02:11:24,274 [MainThread  ] [INFO ]  Checking/Download features and labels locally\n",
      "2022-12-08 02:11:26,023 [MainThread  ] [INFO ]  Pre-compute clips\n",
      "100%|██████████| 300/300 [00:28<00:00, 10.52it/s]\n",
      "2022-12-08 02:11:56,235 [MainThread  ] [INFO ]  Checking/Download features and labels locally\n",
      "2022-12-08 02:11:56,714 [MainThread  ] [INFO ]  Pre-compute clips\n",
      "100%|██████████| 100/100 [00:09<00:00, 10.20it/s]\n",
      "2022-12-08 02:12:07,072 [MainThread  ] [INFO ]  Checking/Download features and labels locally\n",
      "2022-12-08 02:12:07,515 [MainThread  ] [INFO ]  Pre-compute clips\n",
      "100%|██████████| 100/100 [00:08<00:00, 11.94it/s]\n",
      "2022-12-08 02:12:16,405 [MainThread  ] [INFO ]  Checking/Download features and labels locally\n"
     ]
    },
    {
     "name": "stdout",
     "output_type": "stream",
     "text": [
      "feature_dim found: 512\n"
     ]
    },
    {
     "name": "stderr",
     "output_type": "stream",
     "text": [
      "2022-12-08 02:12:18,763 [MainThread  ] [INFO ]  Model(\n",
      "  (pool_layer_before): NetVLAD()\n",
      "  (pool_layer_after): NetVLAD()\n",
      "  (fc): Linear(in_features=32768, out_features=18, bias=True)\n",
      "  (drop): Dropout(p=0.4, inplace=False)\n",
      "  (sigm): Sigmoid()\n",
      ")\n",
      "2022-12-08 02:12:18,764 [MainThread  ] [INFO ]  Total number of parameters: 655378\n",
      "C:\\Users\\91995\\Documents\\GT Coursework\\CS 7643 DL\\Project\\dl_7643_final_project_code\\src\\loss.py:38: UserWarning: To copy construct from a tensor, it is recommended to use sourceTensor.clone().detach() or sourceTensor.clone().detach().requires_grad_(True), rather than torch.tensor(sourceTensor).\n",
      "  self.weight = torch.tensor(weight).float()\n"
     ]
    },
    {
     "name": "stdout",
     "output_type": "stream",
     "text": [
      "beta = 0.9\n"
     ]
    },
    {
     "name": "stderr",
     "output_type": "stream",
     "text": [
      "2022-12-08 02:12:20,072 [MainThread  ] [INFO ]  start training\n",
      "Train 1: Time 0.013s (it:0.017s) Data:0.007s (it:0.006s) Loss 1.1578e+00 : 100%|██████████| 431/431 [00:05<00:00, 76.33it/s]\n",
      "Evaluate 1: Time 0.009s (it:0.003s) Data:0.006s (it:0.001s) Loss 1.1325e+00 : 100%|██████████| 144/144 [00:01<00:00, 108.83it/s]\n",
      "Train 2: Time 0.012s (it:0.010s) Data:0.006s (it:0.006s) Loss 1.1275e+00 : 100%|██████████| 431/431 [00:05<00:00, 85.06it/s]\n",
      "Evaluate 2: Time 0.009s (it:0.003s) Data:0.006s (it:0.001s) Loss 1.1216e+00 : 100%|██████████| 144/144 [00:01<00:00, 109.51it/s]\n",
      "Train 3: Time 0.012s (it:0.008s) Data:0.006s (it:0.005s) Loss 1.1160e+00 : 100%|██████████| 431/431 [00:05<00:00, 85.04it/s]\n",
      "Evaluate 3: Time 0.009s (it:0.002s) Data:0.005s (it:0.001s) Loss 1.1127e+00 : 100%|██████████| 144/144 [00:01<00:00, 109.91it/s]\n",
      "Train 4: Time 0.012s (it:0.009s) Data:0.006s (it:0.006s) Loss 1.1091e+00 : 100%|██████████| 431/431 [00:05<00:00, 82.38it/s]\n",
      "Evaluate 4: Time 0.009s (it:0.003s) Data:0.006s (it:0.001s) Loss 1.1052e+00 : 100%|██████████| 144/144 [00:01<00:00, 108.42it/s]\n",
      "Train 5: Time 0.012s (it:0.010s) Data:0.006s (it:0.006s) Loss 1.1046e+00 : 100%|██████████| 431/431 [00:05<00:00, 83.82it/s]\n",
      "Evaluate 5: Time 0.009s (it:0.003s) Data:0.006s (it:0.001s) Loss 1.1020e+00 : 100%|██████████| 144/144 [00:01<00:00, 108.74it/s]\n",
      "Train 6: Time 0.012s (it:0.013s) Data:0.006s (it:0.007s) Loss 1.1008e+00 : 100%|██████████| 431/431 [00:05<00:00, 85.08it/s]\n",
      "Evaluate 6: Time 0.009s (it:0.002s) Data:0.006s (it:0.000s) Loss 1.0998e+00 : 100%|██████████| 144/144 [00:01<00:00, 106.95it/s]\n",
      "Train 7: Time 0.012s (it:0.012s) Data:0.006s (it:0.000s) Loss 1.0977e+00 : 100%|██████████| 431/431 [00:05<00:00, 84.30it/s]\n",
      "Evaluate 7: Time 0.009s (it:0.003s) Data:0.006s (it:0.001s) Loss 1.0990e+00 : 100%|██████████| 144/144 [00:01<00:00, 108.18it/s]\n",
      "Train 8: Time 0.012s (it:0.011s) Data:0.006s (it:0.006s) Loss 1.0949e+00 : 100%|██████████| 431/431 [00:05<00:00, 85.06it/s]\n",
      "Evaluate 8: Time 0.009s (it:0.002s) Data:0.005s (it:0.001s) Loss 1.0987e+00 : 100%|██████████| 144/144 [00:01<00:00, 109.26it/s]\n",
      "Train 9: Time 0.012s (it:0.010s) Data:0.006s (it:0.006s) Loss 1.0927e+00 : 100%|██████████| 431/431 [00:05<00:00, 84.79it/s]\n",
      "Evaluate 9: Time 0.009s (it:0.003s) Data:0.006s (it:0.001s) Loss 1.0954e+00 : 100%|██████████| 144/144 [00:01<00:00, 109.38it/s]\n",
      "Train 10: Time 0.012s (it:0.010s) Data:0.006s (it:0.006s) Loss 1.0909e+00 : 100%|██████████| 431/431 [00:05<00:00, 85.69it/s]\n",
      "Evaluate 10: Time 0.009s (it:0.003s) Data:0.006s (it:0.002s) Loss 1.0939e+00 : 100%|██████████| 144/144 [00:01<00:00, 108.72it/s]\n",
      "Train 11: Time 0.012s (it:0.010s) Data:0.006s (it:0.006s) Loss 1.0888e+00 : 100%|██████████| 431/431 [00:05<00:00, 85.06it/s]\n",
      "Evaluate 11: Time 0.009s (it:0.002s) Data:0.006s (it:0.001s) Loss 1.0968e+00 : 100%|██████████| 144/144 [00:01<00:00, 108.89it/s]\n",
      "Test (cls): Time 0.010s (it:0.002s) Data:0.006s (it:0.001s) : 100%|██████████| 144/144 [00:01<00:00, 101.16it/s]\n",
      "2022-12-08 02:13:32,930 [MainThread  ] [INFO ]  Validation performance at epoch 11 -> 0.35202995524587416\n"
     ]
    },
    {
     "name": "stdout",
     "output_type": "stream",
     "text": [
      "0.35202995524587416 [0.4421637547591887, 0.37939404566941504, 0.42314987146705446, 0.5754544291660909, 0.16666055830071516, 0.24640469831200432, 0.2411620524826643, 0.3543212439638435, 0.5814977099138797, 0.5183637214430862, 0.37985989948517884, 0.25498085397552983, 0.3398138623304329, 0.640780297587312, 0.3276508710508149, 0.012754719535654397, 0.10009664973699557]\n"
     ]
    },
    {
     "name": "stderr",
     "output_type": "stream",
     "text": [
      "Train 12: Time 0.012s (it:0.012s) Data:0.006s (it:0.007s) Loss 1.0872e+00 : 100%|██████████| 431/431 [00:05<00:00, 85.91it/s]\n",
      "Evaluate 12: Time 0.009s (it:0.002s) Data:0.006s (it:0.001s) Loss 1.0966e+00 : 100%|██████████| 144/144 [00:01<00:00, 109.18it/s]\n",
      "Train 13: Time 0.012s (it:0.010s) Data:0.006s (it:0.007s) Loss 1.0856e+00 : 100%|██████████| 431/431 [00:05<00:00, 86.09it/s]\n",
      "Evaluate 13: Time 0.009s (it:0.001s) Data:0.006s (it:0.001s) Loss 1.1005e+00 : 100%|██████████| 144/144 [00:01<00:00, 109.40it/s]\n",
      "Train 14: Time 0.012s (it:0.015s) Data:0.006s (it:0.000s) Loss 1.0838e+00 : 100%|██████████| 431/431 [00:05<00:00, 85.33it/s]\n",
      "Evaluate 14: Time 0.009s (it:0.002s) Data:0.006s (it:0.001s) Loss 1.0899e+00 : 100%|██████████| 144/144 [00:01<00:00, 109.14it/s]\n",
      "Train 15: Time 0.012s (it:0.010s) Data:0.006s (it:0.006s) Loss 1.0831e+00 : 100%|██████████| 431/431 [00:05<00:00, 85.84it/s]\n",
      "Evaluate 15: Time 0.009s (it:0.003s) Data:0.006s (it:0.001s) Loss 1.0980e+00 : 100%|██████████| 144/144 [00:01<00:00, 109.16it/s]\n",
      "Train 16: Time 0.012s (it:0.011s) Data:0.006s (it:0.007s) Loss 1.0814e+00 : 100%|██████████| 431/431 [00:05<00:00, 86.12it/s]\n",
      "Evaluate 16: Time 0.009s (it:0.004s) Data:0.005s (it:0.001s) Loss 1.0898e+00 : 100%|██████████| 144/144 [00:01<00:00, 109.51it/s]\n",
      "Train 17: Time 0.012s (it:0.014s) Data:0.006s (it:0.009s) Loss 1.0798e+00 : 100%|██████████| 431/431 [00:05<00:00, 84.53it/s]\n",
      "Evaluate 17: Time 0.010s (it:0.003s) Data:0.006s (it:0.001s) Loss 1.0887e+00 : 100%|██████████| 144/144 [00:01<00:00, 103.34it/s]\n",
      "Train 18: Time 0.012s (it:0.010s) Data:0.006s (it:0.006s) Loss 1.0786e+00 : 100%|██████████| 431/431 [00:05<00:00, 84.02it/s]\n",
      "Evaluate 18: Time 0.010s (it:0.003s) Data:0.006s (it:0.002s) Loss 1.0887e+00 : 100%|██████████| 144/144 [00:01<00:00, 104.65it/s]\n",
      "Train 19: Time 0.013s (it:0.014s) Data:0.007s (it:0.008s) Loss 1.0777e+00 : 100%|██████████| 431/431 [00:05<00:00, 79.59it/s]\n",
      "Evaluate 19: Time 0.011s (it:0.003s) Data:0.007s (it:0.001s) Loss 1.0875e+00 : 100%|██████████| 144/144 [00:01<00:00, 88.73it/s]\n",
      "Train 20: Time 0.013s (it:0.010s) Data:0.007s (it:0.006s) Loss 1.0767e+00 : 100%|██████████| 431/431 [00:05<00:00, 74.76it/s]\n",
      "Evaluate 20: Time 0.010s (it:0.003s) Data:0.006s (it:0.001s) Loss 1.0997e+00 : 100%|██████████| 144/144 [00:01<00:00, 100.80it/s]\n",
      "Train 21: Time 0.012s (it:0.010s) Data:0.006s (it:0.006s) Loss 1.0756e+00 : 100%|██████████| 431/431 [00:05<00:00, 80.64it/s]\n",
      "Evaluate 21: Time 0.010s (it:0.002s) Data:0.006s (it:0.001s) Loss 1.0867e+00 : 100%|██████████| 144/144 [00:01<00:00, 100.97it/s]\n",
      "Test (cls): Time 0.010s (it:0.002s) Data:0.006s (it:0.001s) : 100%|██████████| 144/144 [00:01<00:00, 99.54it/s] \n",
      "2022-12-08 02:14:40,312 [MainThread  ] [INFO ]  Validation performance at epoch 21 -> 0.37153515558652683\n"
     ]
    },
    {
     "name": "stdout",
     "output_type": "stream",
     "text": [
      "0.37153515558652683 [0.49334902066893493, 0.41337996634401647, 0.45271619599721624, 0.5921873394189235, 0.18721448920670983, 0.2585890042623589, 0.2576138220819678, 0.37947491170041286, 0.5978747992879714, 0.5339927209219423, 0.389730581956353, 0.26407756212389344, 0.37595765869191344, 0.6698704236138806, 0.3700280755270556, 0.01411592836269797, 0.06592514480470776]\n"
     ]
    },
    {
     "name": "stderr",
     "output_type": "stream",
     "text": [
      "Train 22: Time 0.012s (it:0.012s) Data:0.006s (it:0.007s) Loss 1.0743e+00 : 100%|██████████| 431/431 [00:05<00:00, 85.27it/s]\n",
      "Evaluate 22: Time 0.009s (it:0.004s) Data:0.006s (it:0.002s) Loss 1.0881e+00 : 100%|██████████| 144/144 [00:01<00:00, 106.15it/s]\n",
      "Train 23: Time 0.012s (it:0.011s) Data:0.006s (it:0.006s) Loss 1.0735e+00 : 100%|██████████| 431/431 [00:05<00:00, 84.76it/s]\n",
      "Evaluate 23: Time 0.009s (it:0.002s) Data:0.006s (it:0.001s) Loss 1.0864e+00 : 100%|██████████| 144/144 [00:01<00:00, 106.29it/s]\n",
      "Train 24: Time 0.012s (it:0.010s) Data:0.006s (it:0.006s) Loss 1.0725e+00 : 100%|██████████| 431/431 [00:05<00:00, 84.92it/s]\n",
      "Evaluate 24: Time 0.009s (it:0.004s) Data:0.006s (it:0.001s) Loss 1.0863e+00 : 100%|██████████| 144/144 [00:01<00:00, 105.91it/s]\n",
      "Train 25: Time 0.012s (it:0.010s) Data:0.006s (it:0.005s) Loss 1.0714e+00 : 100%|██████████| 431/431 [00:05<00:00, 84.49it/s]\n",
      "Evaluate 25: Time 0.009s (it:0.003s) Data:0.006s (it:0.002s) Loss 1.0863e+00 : 100%|██████████| 144/144 [00:01<00:00, 105.61it/s]\n",
      "Train 26: Time 0.012s (it:0.011s) Data:0.006s (it:0.006s) Loss 1.0702e+00 : 100%|██████████| 431/431 [00:05<00:00, 84.77it/s]\n",
      "Evaluate 26: Time 0.009s (it:0.003s) Data:0.006s (it:0.001s) Loss 1.0876e+00 : 100%|██████████| 144/144 [00:01<00:00, 106.52it/s]\n",
      "Train 27: Time 0.012s (it:0.010s) Data:0.006s (it:0.006s) Loss 1.0694e+00 : 100%|██████████| 431/431 [00:05<00:00, 84.57it/s]\n",
      "Evaluate 27: Time 0.009s (it:0.003s) Data:0.006s (it:0.001s) Loss 1.0854e+00 : 100%|██████████| 144/144 [00:01<00:00, 106.54it/s]\n",
      "Train 28: Time 0.012s (it:0.010s) Data:0.006s (it:0.006s) Loss 1.0683e+00 : 100%|██████████| 431/431 [00:05<00:00, 84.85it/s]\n",
      "Evaluate 28: Time 0.009s (it:0.003s) Data:0.006s (it:0.002s) Loss 1.0908e+00 : 100%|██████████| 144/144 [00:01<00:00, 106.73it/s]\n",
      "Train 29: Time 0.012s (it:0.010s) Data:0.006s (it:0.006s) Loss 1.0675e+00 : 100%|██████████| 431/431 [00:05<00:00, 84.63it/s]\n",
      "Evaluate 29: Time 0.009s (it:0.004s) Data:0.006s (it:0.002s) Loss 1.0892e+00 : 100%|██████████| 144/144 [00:01<00:00, 105.90it/s]\n",
      "Train 30: Time 0.012s (it:0.011s) Data:0.006s (it:0.006s) Loss 1.0671e+00 : 100%|██████████| 431/431 [00:05<00:00, 84.64it/s]\n",
      "Evaluate 30: Time 0.009s (it:0.002s) Data:0.006s (it:0.001s) Loss 1.0831e+00 : 100%|██████████| 144/144 [00:01<00:00, 106.50it/s]\n",
      "Train 31: Time 0.012s (it:0.011s) Data:0.006s (it:0.006s) Loss 1.0651e+00 : 100%|██████████| 431/431 [00:05<00:00, 82.42it/s]\n",
      "Evaluate 31: Time 0.009s (it:0.005s) Data:0.006s (it:0.002s) Loss 1.0872e+00 : 100%|██████████| 144/144 [00:01<00:00, 106.06it/s]\n",
      "Test (cls): Time 0.009s (it:0.002s) Data:0.006s (it:0.001s) : 100%|██████████| 144/144 [00:01<00:00, 107.73it/s]\n",
      "2022-12-08 02:15:46,428 [MainThread  ] [INFO ]  Validation performance at epoch 31 -> 0.38421369583177506\n"
     ]
    },
    {
     "name": "stdout",
     "output_type": "stream",
     "text": [
      "0.38421369583177506 [0.5366912983399503, 0.43217425841732465, 0.46502446829720506, 0.5998224738551493, 0.19834566891063138, 0.26398304668508504, 0.27061893585590324, 0.3948293457107942, 0.6065324176926956, 0.5438546155174281, 0.3959907876703125, 0.26954393447320074, 0.39231607992201345, 0.6864573873588932, 0.3996921011078522, 0.015045497321178655, 0.06071051200455845]\n"
     ]
    },
    {
     "name": "stderr",
     "output_type": "stream",
     "text": [
      "Train 32: Time 0.012s (it:0.010s) Data:0.006s (it:0.005s) Loss 1.0648e+00 : 100%|██████████| 431/431 [00:05<00:00, 82.89it/s]\n",
      "Evaluate 32: Time 0.009s (it:0.004s) Data:0.006s (it:0.002s) Loss 1.0878e+00 : 100%|██████████| 144/144 [00:01<00:00, 107.19it/s]\n",
      "Train 33: Time 0.012s (it:0.013s) Data:0.006s (it:0.007s) Loss 1.0646e+00 : 100%|██████████| 431/431 [00:05<00:00, 81.26it/s]\n",
      "Evaluate 33: Time 0.009s (it:0.004s) Data:0.006s (it:0.001s) Loss 1.0837e+00 : 100%|██████████| 144/144 [00:01<00:00, 106.47it/s]\n",
      "Train 34: Time 0.012s (it:0.012s) Data:0.006s (it:0.006s) Loss 1.0628e+00 : 100%|██████████| 431/431 [00:05<00:00, 83.03it/s]\n",
      "Evaluate 34: Time 0.009s (it:0.003s) Data:0.006s (it:0.002s) Loss 1.0842e+00 : 100%|██████████| 144/144 [00:01<00:00, 106.44it/s]\n",
      "Train 35: Time 0.012s (it:0.013s) Data:0.006s (it:0.007s) Loss 1.0626e+00 : 100%|██████████| 431/431 [00:05<00:00, 82.21it/s]\n",
      "Evaluate 35: Time 0.010s (it:0.003s) Data:0.006s (it:0.001s) Loss 1.0828e+00 : 100%|██████████| 144/144 [00:01<00:00, 99.41it/s] \n",
      "Train 36: Time 0.013s (it:0.011s) Data:0.006s (it:0.007s) Loss 1.0617e+00 : 100%|██████████| 431/431 [00:05<00:00, 78.93it/s]\n",
      "Evaluate 36: Time 0.010s (it:0.003s) Data:0.006s (it:0.001s) Loss 1.0877e+00 : 100%|██████████| 144/144 [00:01<00:00, 100.79it/s]\n",
      "Train 37: Time 0.013s (it:0.010s) Data:0.006s (it:0.006s) Loss 1.0608e+00 : 100%|██████████| 431/431 [00:05<00:00, 78.70it/s]\n",
      "Evaluate 37: Time 0.010s (it:0.004s) Data:0.006s (it:0.002s) Loss 1.0833e+00 : 100%|██████████| 144/144 [00:01<00:00, 101.41it/s]\n",
      "Train 38: Time 0.012s (it:0.010s) Data:0.006s (it:0.006s) Loss 1.0592e+00 : 100%|██████████| 431/431 [00:05<00:00, 80.63it/s]\n",
      "Evaluate 38: Time 0.010s (it:0.004s) Data:0.006s (it:0.002s) Loss 1.0837e+00 : 100%|██████████| 144/144 [00:01<00:00, 102.29it/s]\n",
      "Train 39: Time 0.012s (it:0.013s) Data:0.006s (it:0.006s) Loss 1.0593e+00 : 100%|██████████| 431/431 [00:05<00:00, 80.44it/s]\n",
      "Evaluate 39: Time 0.010s (it:0.004s) Data:0.006s (it:0.002s) Loss 1.0867e+00 : 100%|██████████| 144/144 [00:01<00:00, 100.71it/s]\n",
      "Train 40: Time 0.012s (it:0.011s) Data:0.006s (it:0.006s) Loss 1.0585e+00 : 100%|██████████| 431/431 [00:05<00:00, 80.05it/s]\n",
      "Evaluate 40: Time 0.010s (it:0.004s) Data:0.006s (it:0.002s) Loss 1.0839e+00 : 100%|██████████| 144/144 [00:01<00:00, 100.61it/s]\n",
      "Train 41: Time 0.013s (it:0.012s) Data:0.006s (it:0.008s) Loss 1.0579e+00 : 100%|██████████| 431/431 [00:05<00:00, 79.47it/s]\n",
      "Evaluate 41: Time 0.010s (it:0.003s) Data:0.006s (it:0.001s) Loss 1.0860e+00 : 100%|██████████| 144/144 [00:01<00:00, 100.90it/s]\n",
      "Test (cls): Time 0.010s (it:0.002s) Data:0.006s (it:0.001s) : 100%|██████████| 144/144 [00:01<00:00, 101.99it/s]\n",
      "2022-12-08 02:16:55,467 [MainThread  ] [INFO ]  Validation performance at epoch 41 -> 0.3929394846527003\n"
     ]
    },
    {
     "name": "stdout",
     "output_type": "stream",
     "text": [
      "0.3929394846527003 [0.5705926671810232, 0.44871763817590565, 0.4732838323057838, 0.6077620856379893, 0.20354018264617377, 0.26559487670572807, 0.27778002361083604, 0.40333310921827753, 0.6131372835506586, 0.5504050775608779, 0.4015364473784886, 0.27422462750082, 0.40320943076589427, 0.6962405978168016, 0.41858576427731103, 0.014701865718522934, 0.057325729044813915]\n"
     ]
    },
    {
     "name": "stderr",
     "output_type": "stream",
     "text": [
      "Train 42: Time 0.012s (it:0.011s) Data:0.006s (it:0.007s) Loss 1.0571e+00 : 100%|██████████| 431/431 [00:05<00:00, 84.08it/s]\n",
      "Evaluate 42: Time 0.009s (it:0.003s) Data:0.006s (it:0.001s) Loss 1.0884e+00 : 100%|██████████| 144/144 [00:01<00:00, 106.83it/s]\n",
      "Train 43: Time 0.012s (it:0.011s) Data:0.006s (it:0.007s) Loss 1.0560e+00 : 100%|██████████| 431/431 [00:05<00:00, 84.68it/s]\n",
      "Evaluate 43: Time 0.009s (it:0.003s) Data:0.006s (it:0.002s) Loss 1.0826e+00 : 100%|██████████| 144/144 [00:01<00:00, 107.36it/s]\n",
      "Train 44: Time 0.012s (it:0.010s) Data:0.006s (it:0.006s) Loss 1.0560e+00 : 100%|██████████| 431/431 [00:05<00:00, 83.75it/s]\n",
      "Evaluate 44: Time 0.009s (it:0.004s) Data:0.006s (it:0.002s) Loss 1.0814e+00 : 100%|██████████| 144/144 [00:01<00:00, 107.37it/s]\n",
      "Train 45: Time 0.012s (it:0.010s) Data:0.006s (it:0.006s) Loss 1.0538e+00 : 100%|██████████| 431/431 [00:05<00:00, 83.50it/s]\n",
      "Evaluate 45: Time 0.009s (it:0.003s) Data:0.006s (it:0.002s) Loss 1.0843e+00 : 100%|██████████| 144/144 [00:01<00:00, 106.77it/s]\n",
      "Train 46: Time 0.012s (it:0.012s) Data:0.006s (it:0.007s) Loss 1.0531e+00 : 100%|██████████| 431/431 [00:05<00:00, 84.23it/s]\n",
      "Evaluate 46: Time 0.009s (it:0.003s) Data:0.006s (it:0.001s) Loss 1.0842e+00 : 100%|██████████| 144/144 [00:01<00:00, 106.94it/s]\n",
      "Train 47: Time 0.012s (it:0.010s) Data:0.006s (it:0.006s) Loss 1.0531e+00 : 100%|██████████| 431/431 [00:05<00:00, 83.78it/s]\n",
      "Evaluate 47: Time 0.009s (it:0.004s) Data:0.006s (it:0.002s) Loss 1.0823e+00 : 100%|██████████| 144/144 [00:01<00:00, 107.21it/s]\n",
      "Train 48: Time 0.012s (it:0.010s) Data:0.006s (it:0.006s) Loss 1.0528e+00 : 100%|██████████| 431/431 [00:05<00:00, 84.11it/s]\n",
      "Evaluate 48: Time 0.009s (it:0.003s) Data:0.006s (it:0.002s) Loss 1.0850e+00 : 100%|██████████| 144/144 [00:01<00:00, 106.99it/s]\n",
      "Train 49: Time 0.012s (it:0.011s) Data:0.006s (it:0.005s) Loss 1.0519e+00 : 100%|██████████| 431/431 [00:05<00:00, 84.27it/s]\n",
      "Evaluate 49: Time 0.009s (it:0.005s) Data:0.006s (it:0.002s) Loss 1.0851e+00 : 100%|██████████| 144/144 [00:01<00:00, 106.50it/s]\n",
      "Train 50: Time 0.012s (it:0.010s) Data:0.006s (it:0.006s) Loss 1.0508e+00 : 100%|██████████| 431/431 [00:05<00:00, 83.61it/s]\n",
      "Evaluate 50: Time 0.009s (it:0.004s) Data:0.006s (it:0.002s) Loss 1.0832e+00 : 100%|██████████| 144/144 [00:01<00:00, 106.29it/s]\n",
      "Train 51: Time 0.012s (it:0.011s) Data:0.006s (it:0.007s) Loss 1.0506e+00 : 100%|██████████| 431/431 [00:05<00:00, 84.29it/s]\n",
      "Evaluate 51: Time 0.009s (it:0.003s) Data:0.006s (it:0.001s) Loss 1.0836e+00 : 100%|██████████| 144/144 [00:01<00:00, 106.46it/s]\n",
      "Test (cls): Time 0.009s (it:0.003s) Data:0.006s (it:0.001s) : 100%|██████████| 144/144 [00:01<00:00, 108.24it/s]\n",
      "2022-12-08 02:18:01,772 [MainThread  ] [INFO ]  Validation performance at epoch 51 -> 0.3978472267487405\n"
     ]
    },
    {
     "name": "stdout",
     "output_type": "stream",
     "text": [
      "0.3978472267487405 [0.5851681031061079, 0.45864975924679025, 0.47755542988692135, 0.6126333520216765, 0.20507028584114947, 0.26377282163869575, 0.281317412428678, 0.4100400678364179, 0.6159217826033265, 0.5543577002529778, 0.40409782449660436, 0.27483992209068975, 0.40715707241022775, 0.703221191288036, 0.4288400018520288, 0.014487850128508919, 0.06627227759975145]\n"
     ]
    },
    {
     "name": "stderr",
     "output_type": "stream",
     "text": [
      "Train 52: Time 0.012s (it:0.011s) Data:0.006s (it:0.006s) Loss 1.0502e+00 : 100%|██████████| 431/431 [00:05<00:00, 85.35it/s]\n",
      "Evaluate 52: Time 0.009s (it:0.003s) Data:0.006s (it:0.002s) Loss 1.0821e+00 : 100%|██████████| 144/144 [00:01<00:00, 107.68it/s]\n",
      "Train 53: Time 0.012s (it:0.012s) Data:0.006s (it:0.007s) Loss 1.0485e+00 : 100%|██████████| 431/431 [00:05<00:00, 84.86it/s]\n",
      "Evaluate 53: Time 0.009s (it:0.003s) Data:0.006s (it:0.001s) Loss 1.0892e+00 : 100%|██████████| 144/144 [00:01<00:00, 107.49it/s]\n",
      "Train 54: Time 0.012s (it:0.009s) Data:0.006s (it:0.006s) Loss 1.0482e+00 : 100%|██████████| 431/431 [00:05<00:00, 84.77it/s]\n",
      "Evaluate 54: Time 0.009s (it:0.002s) Data:0.006s (it:0.001s) Loss 1.0833e+00 : 100%|██████████| 144/144 [00:01<00:00, 107.83it/s]\n",
      "Train 55: Time 0.012s (it:0.010s) Data:0.006s (it:0.006s) Loss 1.0476e+00 : 100%|██████████| 431/431 [00:05<00:00, 85.42it/s]\n",
      "Evaluate 55: Time 0.009s (it:0.003s) Data:0.006s (it:0.002s) Loss 1.0886e+00 : 100%|██████████| 144/144 [00:01<00:00, 107.37it/s]\n",
      "2022-12-08 02:18:27,401 [MainThread  ] [INFO ]  Plateau Reached!\n"
     ]
    },
    {
     "name": "stdout",
     "output_type": "stream",
     "text": [
      "Epoch 00055: reducing learning rate of group 0 to 1.0000e-04.\n"
     ]
    },
    {
     "name": "stderr",
     "output_type": "stream",
     "text": [
      "Train 56: Time 0.012s (it:0.010s) Data:0.006s (it:0.006s) Loss 1.0414e+00 : 100%|██████████| 431/431 [00:05<00:00, 85.36it/s]\n",
      "Evaluate 56: Time 0.009s (it:0.003s) Data:0.006s (it:0.002s) Loss 1.0804e+00 : 100%|██████████| 144/144 [00:01<00:00, 107.45it/s]\n",
      "Train 57: Time 0.012s (it:0.010s) Data:0.006s (it:0.005s) Loss 1.0407e+00 : 100%|██████████| 431/431 [00:05<00:00, 84.63it/s]\n",
      "Evaluate 57: Time 0.009s (it:0.005s) Data:0.006s (it:0.002s) Loss 1.0814e+00 : 100%|██████████| 144/144 [00:01<00:00, 107.18it/s]\n",
      "Train 58: Time 0.012s (it:0.010s) Data:0.006s (it:0.006s) Loss 1.0406e+00 : 100%|██████████| 431/431 [00:05<00:00, 85.07it/s]\n",
      "Evaluate 58: Time 0.009s (it:0.003s) Data:0.006s (it:0.001s) Loss 1.0808e+00 : 100%|██████████| 144/144 [00:01<00:00, 107.60it/s]\n",
      "Train 59: Time 0.012s (it:0.010s) Data:0.006s (it:0.006s) Loss 1.0404e+00 : 100%|██████████| 431/431 [00:05<00:00, 84.67it/s]\n",
      "Evaluate 59: Time 0.009s (it:0.003s) Data:0.006s (it:0.002s) Loss 1.0809e+00 : 100%|██████████| 144/144 [00:01<00:00, 107.62it/s]\n",
      "Train 60: Time 0.012s (it:0.011s) Data:0.006s (it:0.007s) Loss 1.0402e+00 : 100%|██████████| 431/431 [00:05<00:00, 85.13it/s]\n",
      "Evaluate 60: Time 0.009s (it:0.003s) Data:0.006s (it:0.001s) Loss 1.0809e+00 : 100%|██████████| 144/144 [00:01<00:00, 107.86it/s]\n",
      "Train 61: Time 0.012s (it:0.010s) Data:0.006s (it:0.006s) Loss 1.0401e+00 : 100%|██████████| 431/431 [00:05<00:00, 84.96it/s]\n",
      "Evaluate 61: Time 0.009s (it:0.004s) Data:0.006s (it:0.002s) Loss 1.0819e+00 : 100%|██████████| 144/144 [00:01<00:00, 107.53it/s]\n",
      "Test (cls): Time 0.010s (it:0.002s) Data:0.006s (it:0.001s) : 100%|██████████| 144/144 [00:01<00:00, 100.00it/s]\n",
      "2022-12-08 02:19:07,487 [MainThread  ] [INFO ]  Validation performance at epoch 61 -> 0.40089703131901017\n"
     ]
    },
    {
     "name": "stdout",
     "output_type": "stream",
     "text": [
      "0.40089703131901017 [0.590891579210627, 0.46492516720691396, 0.4787602458695268, 0.6149271442616594, 0.20577849563837702, 0.26787037670650876, 0.2841095421030884, 0.41177646222095926, 0.6181817366173904, 0.5567717003789308, 0.40519245034281387, 0.27595745601058796, 0.41316297419350306, 0.7061682950760655, 0.43745300782654845, 0.014847575712925496, 0.06847532304674658]\n"
     ]
    },
    {
     "name": "stderr",
     "output_type": "stream",
     "text": [
      "Train 62: Time 0.012s (it:0.010s) Data:0.006s (it:0.006s) Loss 1.0396e+00 : 100%|██████████| 431/431 [00:05<00:00, 84.15it/s]\n",
      "Evaluate 62: Time 0.011s (it:0.004s) Data:0.006s (it:0.002s) Loss 1.0818e+00 : 100%|██████████| 144/144 [00:01<00:00, 94.71it/s]\n",
      "Train 63: Time 0.013s (it:0.012s) Data:0.006s (it:0.007s) Loss 1.0391e+00 : 100%|██████████| 431/431 [00:05<00:00, 77.17it/s]\n",
      "Evaluate 63: Time 0.010s (it:0.004s) Data:0.006s (it:0.002s) Loss 1.0830e+00 : 100%|██████████| 144/144 [00:01<00:00, 102.80it/s]\n",
      "Train 64: Time 0.012s (it:0.011s) Data:0.006s (it:0.006s) Loss 1.0389e+00 : 100%|██████████| 431/431 [00:05<00:00, 81.06it/s]\n",
      "Evaluate 64: Time 0.010s (it:0.003s) Data:0.006s (it:0.002s) Loss 1.0822e+00 : 100%|██████████| 144/144 [00:01<00:00, 103.05it/s]\n",
      "Train 65: Time 0.012s (it:0.010s) Data:0.006s (it:0.006s) Loss 1.0388e+00 : 100%|██████████| 431/431 [00:05<00:00, 82.34it/s]\n",
      "Evaluate 65: Time 0.010s (it:0.003s) Data:0.006s (it:0.002s) Loss 1.0821e+00 : 100%|██████████| 144/144 [00:01<00:00, 102.48it/s]\n",
      "Train 66: Time 0.012s (it:0.011s) Data:0.006s (it:0.006s) Loss 1.0389e+00 : 100%|██████████| 431/431 [00:05<00:00, 80.84it/s]\n",
      "Evaluate 66: Time 0.010s (it:0.003s) Data:0.006s (it:0.001s) Loss 1.0817e+00 : 100%|██████████| 144/144 [00:01<00:00, 102.31it/s]\n",
      "Train 67: Time 0.013s (it:0.012s) Data:0.006s (it:0.008s) Loss 1.0386e+00 : 100%|██████████| 431/431 [00:05<00:00, 79.75it/s]\n",
      "Evaluate 67: Time 0.010s (it:0.003s) Data:0.006s (it:0.001s) Loss 1.0822e+00 : 100%|██████████| 144/144 [00:01<00:00, 100.21it/s]\n",
      "2022-12-08 02:19:48,078 [MainThread  ] [INFO ]  Plateau Reached!\n"
     ]
    },
    {
     "name": "stdout",
     "output_type": "stream",
     "text": [
      "Epoch 00067: reducing learning rate of group 0 to 1.0000e-05.\n"
     ]
    },
    {
     "name": "stderr",
     "output_type": "stream",
     "text": [
      "Train 68: Time 0.012s (it:0.012s) Data:0.006s (it:0.007s) Loss 1.0378e+00 : 100%|██████████| 431/431 [00:05<00:00, 83.27it/s]\n",
      "Evaluate 68: Time 0.009s (it:0.003s) Data:0.006s (it:0.001s) Loss 1.0820e+00 : 100%|██████████| 144/144 [00:01<00:00, 107.38it/s]\n",
      "Train 69: Time 0.012s (it:0.010s) Data:0.006s (it:0.006s) Loss 1.0380e+00 : 100%|██████████| 431/431 [00:05<00:00, 83.12it/s]\n",
      "Evaluate 69: Time 0.010s (it:0.003s) Data:0.006s (it:0.002s) Loss 1.0822e+00 : 100%|██████████| 144/144 [00:01<00:00, 104.80it/s]\n",
      "Train 70: Time 0.012s (it:0.010s) Data:0.006s (it:0.006s) Loss 1.0376e+00 : 100%|██████████| 431/431 [00:05<00:00, 83.36it/s]\n",
      "Evaluate 70: Time 0.009s (it:0.003s) Data:0.006s (it:0.001s) Loss 1.0820e+00 : 100%|██████████| 144/144 [00:01<00:00, 105.93it/s]\n",
      "Train 71: Time 0.012s (it:0.011s) Data:0.006s (it:0.006s) Loss 1.0374e+00 : 100%|██████████| 431/431 [00:05<00:00, 84.91it/s]\n",
      "Evaluate 71: Time 0.009s (it:0.003s) Data:0.006s (it:0.001s) Loss 1.0818e+00 : 100%|██████████| 144/144 [00:01<00:00, 105.53it/s]\n",
      "Test (cls): Time 0.009s (it:0.003s) Data:0.006s (it:0.001s) : 100%|██████████| 144/144 [00:01<00:00, 106.51it/s]\n",
      "2022-12-08 02:20:15,636 [MainThread  ] [INFO ]  Validation performance at epoch 71 -> 0.40104260054281765\n"
     ]
    },
    {
     "name": "stdout",
     "output_type": "stream",
     "text": [
      "0.40104260054281765 [0.58972479382402, 0.46597649056422275, 0.47997753621701245, 0.6157128578170571, 0.2056550508121291, 0.2687919011239106, 0.2836406149487707, 0.41203783343455763, 0.6185541099424948, 0.5568103553815871, 0.40484204122749645, 0.2755577448196461, 0.4132151288103949, 0.7065833452074032, 0.4379184503444639, 0.014481189557410472, 0.06824476519532247]\n"
     ]
    },
    {
     "name": "stderr",
     "output_type": "stream",
     "text": [
      "Train 72: Time 0.012s (it:0.011s) Data:0.006s (it:0.006s) Loss 1.0378e+00 : 100%|██████████| 431/431 [00:05<00:00, 85.42it/s]\n",
      "Evaluate 72: Time 0.009s (it:0.003s) Data:0.006s (it:0.001s) Loss 1.0822e+00 : 100%|██████████| 144/144 [00:01<00:00, 106.18it/s]\n",
      "Train 73: Time 0.012s (it:0.011s) Data:0.006s (it:0.006s) Loss 1.0373e+00 : 100%|██████████| 431/431 [00:05<00:00, 85.07it/s]\n",
      "Evaluate 73: Time 0.009s (it:0.004s) Data:0.006s (it:0.002s) Loss 1.0818e+00 : 100%|██████████| 144/144 [00:01<00:00, 105.66it/s]\n",
      "Train 74: Time 0.012s (it:0.010s) Data:0.006s (it:0.006s) Loss 1.0377e+00 : 100%|██████████| 431/431 [00:05<00:00, 84.85it/s]\n",
      "Evaluate 74: Time 0.010s (it:0.003s) Data:0.006s (it:0.001s) Loss 1.0818e+00 : 100%|██████████| 144/144 [00:01<00:00, 105.07it/s]\n",
      "Train 75: Time 0.012s (it:0.010s) Data:0.006s (it:0.006s) Loss 1.0378e+00 : 100%|██████████| 431/431 [00:05<00:00, 85.05it/s]\n",
      "Evaluate 75: Time 0.009s (it:0.003s) Data:0.006s (it:0.001s) Loss 1.0822e+00 : 100%|██████████| 144/144 [00:01<00:00, 105.73it/s]\n",
      "Train 76: Time 0.012s (it:0.010s) Data:0.006s (it:0.006s) Loss 1.0372e+00 : 100%|██████████| 431/431 [00:05<00:00, 84.73it/s]\n",
      "Evaluate 76: Time 0.009s (it:0.003s) Data:0.006s (it:0.001s) Loss 1.0819e+00 : 100%|██████████| 144/144 [00:01<00:00, 105.73it/s]\n",
      "Train 77: Time 0.012s (it:0.010s) Data:0.006s (it:0.005s) Loss 1.0375e+00 : 100%|██████████| 431/431 [00:05<00:00, 84.53it/s]\n",
      "Evaluate 77: Time 0.009s (it:0.004s) Data:0.006s (it:0.002s) Loss 1.0821e+00 : 100%|██████████| 144/144 [00:01<00:00, 106.39it/s]\n",
      "Train 78: Time 0.012s (it:0.010s) Data:0.006s (it:0.007s) Loss 1.0372e+00 : 100%|██████████| 431/431 [00:05<00:00, 83.68it/s]\n",
      "Evaluate 78: Time 0.009s (it:0.003s) Data:0.006s (it:0.001s) Loss 1.0819e+00 : 100%|██████████| 144/144 [00:01<00:00, 106.40it/s]\n",
      "2022-12-08 02:21:00,784 [MainThread  ] [INFO ]  Plateau Reached!\n"
     ]
    },
    {
     "name": "stdout",
     "output_type": "stream",
     "text": [
      "Epoch 00078: reducing learning rate of group 0 to 1.0000e-06.\n"
     ]
    },
    {
     "name": "stderr",
     "output_type": "stream",
     "text": [
      "Train 79: Time 0.012s (it:0.010s) Data:0.006s (it:0.006s) Loss 1.0371e+00 : 100%|██████████| 431/431 [00:05<00:00, 85.04it/s]\n",
      "Evaluate 79: Time 0.009s (it:0.003s) Data:0.006s (it:0.001s) Loss 1.0820e+00 : 100%|██████████| 144/144 [00:01<00:00, 108.25it/s]\n",
      "Train 80: Time 0.012s (it:0.010s) Data:0.006s (it:0.006s) Loss 1.0373e+00 : 100%|██████████| 431/431 [00:05<00:00, 84.99it/s]\n",
      "Evaluate 80: Time 0.009s (it:0.003s) Data:0.006s (it:0.002s) Loss 1.0819e+00 : 100%|██████████| 144/144 [00:01<00:00, 107.34it/s]\n",
      "Train 81: Time 0.012s (it:0.010s) Data:0.006s (it:0.006s) Loss 1.0373e+00 : 100%|██████████| 431/431 [00:05<00:00, 85.00it/s]\n",
      "Evaluate 81: Time 0.009s (it:0.003s) Data:0.006s (it:0.001s) Loss 1.0820e+00 : 100%|██████████| 144/144 [00:01<00:00, 107.74it/s]\n",
      "Test (cls): Time 0.009s (it:0.003s) Data:0.006s (it:0.001s) : 100%|██████████| 144/144 [00:01<00:00, 108.99it/s]\n",
      "2022-12-08 02:21:21,480 [MainThread  ] [INFO ]  Validation performance at epoch 81 -> 0.40109310864672476\n"
     ]
    },
    {
     "name": "stdout",
     "output_type": "stream",
     "text": [
      "0.40109310864672476 [0.5897905403643067, 0.4661091520076174, 0.48011422973215545, 0.615848899907233, 0.20589835905249892, 0.2688232204238319, 0.2836546384614179, 0.4120166548802612, 0.6185282393729132, 0.5568658617338406, 0.40489763549063035, 0.2755258236237241, 0.41312032372555946, 0.706585718932558, 0.43810893307493326, 0.014477988237062627, 0.06821662797377717]\n"
     ]
    },
    {
     "name": "stderr",
     "output_type": "stream",
     "text": [
      "Train 82: Time 0.012s (it:0.011s) Data:0.006s (it:0.007s) Loss 1.0377e+00 : 100%|██████████| 431/431 [00:05<00:00, 84.51it/s]\n",
      "Evaluate 82: Time 0.009s (it:0.003s) Data:0.006s (it:0.002s) Loss 1.0820e+00 : 100%|██████████| 144/144 [00:01<00:00, 107.33it/s]\n",
      "Train 83: Time 0.012s (it:0.012s) Data:0.006s (it:0.005s) Loss 1.0372e+00 : 100%|██████████| 431/431 [00:05<00:00, 84.95it/s]\n",
      "Evaluate 83: Time 0.009s (it:0.003s) Data:0.006s (it:0.001s) Loss 1.0820e+00 : 100%|██████████| 144/144 [00:01<00:00, 108.66it/s]\n",
      "Train 84: Time 0.012s (it:0.011s) Data:0.006s (it:0.006s) Loss 1.0374e+00 : 100%|██████████| 431/431 [00:05<00:00, 84.68it/s]\n",
      "Evaluate 84: Time 0.009s (it:0.002s) Data:0.006s (it:0.001s) Loss 1.0820e+00 : 100%|██████████| 144/144 [00:01<00:00, 107.79it/s]\n",
      "Train 85: Time 0.012s (it:0.010s) Data:0.006s (it:0.006s) Loss 1.0375e+00 : 100%|██████████| 431/431 [00:05<00:00, 85.31it/s]\n",
      "Evaluate 85: Time 0.009s (it:0.003s) Data:0.006s (it:0.001s) Loss 1.0820e+00 : 100%|██████████| 144/144 [00:01<00:00, 107.99it/s]\n",
      "Train 86: Time 0.012s (it:0.011s) Data:0.006s (it:0.007s) Loss 1.0374e+00 : 100%|██████████| 431/431 [00:05<00:00, 84.78it/s]\n",
      "Evaluate 86: Time 0.009s (it:0.003s) Data:0.006s (it:0.001s) Loss 1.0820e+00 : 100%|██████████| 144/144 [00:01<00:00, 107.47it/s]\n",
      "Train 87: Time 0.012s (it:0.011s) Data:0.006s (it:0.007s) Loss 1.0374e+00 : 100%|██████████| 431/431 [00:05<00:00, 85.01it/s]\n",
      "Evaluate 87: Time 0.009s (it:0.003s) Data:0.006s (it:0.002s) Loss 1.0820e+00 : 100%|██████████| 144/144 [00:01<00:00, 108.26it/s]\n",
      "Train 88: Time 0.012s (it:0.011s) Data:0.006s (it:0.006s) Loss 1.0369e+00 : 100%|██████████| 431/431 [00:05<00:00, 84.71it/s]\n",
      "Evaluate 88: Time 0.009s (it:0.003s) Data:0.006s (it:0.001s) Loss 1.0820e+00 : 100%|██████████| 144/144 [00:01<00:00, 107.46it/s]\n",
      "Train 89: Time 0.012s (it:0.010s) Data:0.006s (it:0.005s) Loss 1.0370e+00 : 100%|██████████| 431/431 [00:05<00:00, 85.26it/s]\n",
      "Evaluate 89: Time 0.009s (it:0.003s) Data:0.006s (it:0.001s) Loss 1.0820e+00 : 100%|██████████| 144/144 [00:01<00:00, 107.87it/s]\n",
      "2022-12-08 02:22:12,811 [MainThread  ] [INFO ]  Plateau Reached!\n"
     ]
    },
    {
     "name": "stdout",
     "output_type": "stream",
     "text": [
      "Epoch 00089: reducing learning rate of group 0 to 1.0000e-07.\n"
     ]
    },
    {
     "name": "stderr",
     "output_type": "stream",
     "text": [
      "Train 90: Time 0.012s (it:0.010s) Data:0.006s (it:0.006s) Loss 1.0374e+00 : 100%|██████████| 431/431 [00:05<00:00, 85.22it/s]\n",
      "Evaluate 90: Time 0.009s (it:0.002s) Data:0.006s (it:0.001s) Loss 1.0820e+00 : 100%|██████████| 144/144 [00:01<00:00, 108.35it/s]\n",
      "Train 91: Time 0.012s (it:0.010s) Data:0.006s (it:0.006s) Loss 1.0375e+00 : 100%|██████████| 431/431 [00:05<00:00, 84.85it/s]\n",
      "Evaluate 91: Time 0.009s (it:0.002s) Data:0.006s (it:0.001s) Loss 1.0820e+00 : 100%|██████████| 144/144 [00:01<00:00, 108.20it/s]\n",
      "Test (cls): Time 0.009s (it:0.003s) Data:0.006s (it:0.001s) : 100%|██████████| 144/144 [00:01<00:00, 109.14it/s]\n",
      "2022-12-08 02:22:27,078 [MainThread  ] [INFO ]  Validation performance at epoch 91 -> 0.40110193681034934\n"
     ]
    },
    {
     "name": "stdout",
     "output_type": "stream",
     "text": [
      "0.40110193681034934 [0.5897911050893961, 0.46613777166354947, 0.4801338117049318, 0.6158415179380903, 0.20589373147654724, 0.2688169678232439, 0.2836443302657494, 0.4121434007694642, 0.6185304295687062, 0.5568718589198403, 0.4048974319938947, 0.27551952416603065, 0.41309795724124726, 0.7066002883019374, 0.4381258452433268, 0.014470241166488863, 0.06821671244349366]\n"
     ]
    },
    {
     "name": "stderr",
     "output_type": "stream",
     "text": [
      "Train 92: Time 0.012s (it:0.010s) Data:0.006s (it:0.006s) Loss 1.0372e+00 : 100%|██████████| 431/431 [00:05<00:00, 85.58it/s]\n",
      "Evaluate 92: Time 0.009s (it:0.003s) Data:0.006s (it:0.002s) Loss 1.0820e+00 : 100%|██████████| 144/144 [00:01<00:00, 108.31it/s]\n",
      "Train 93: Time 0.012s (it:0.010s) Data:0.006s (it:0.006s) Loss 1.0372e+00 : 100%|██████████| 431/431 [00:05<00:00, 85.23it/s]\n",
      "Evaluate 93: Time 0.009s (it:0.003s) Data:0.006s (it:0.001s) Loss 1.0820e+00 : 100%|██████████| 144/144 [00:01<00:00, 108.09it/s]\n",
      "Train 94: Time 0.012s (it:0.010s) Data:0.006s (it:0.006s) Loss 1.0374e+00 : 100%|██████████| 431/431 [00:05<00:00, 85.04it/s]\n",
      "Evaluate 94: Time 0.009s (it:0.003s) Data:0.006s (it:0.002s) Loss 1.0820e+00 : 100%|██████████| 144/144 [00:01<00:00, 108.22it/s]\n",
      "Train 95: Time 0.012s (it:0.011s) Data:0.006s (it:0.006s) Loss 1.0372e+00 : 100%|██████████| 431/431 [00:05<00:00, 85.15it/s]\n",
      "Evaluate 95: Time 0.009s (it:0.003s) Data:0.006s (it:0.001s) Loss 1.0820e+00 : 100%|██████████| 144/144 [00:01<00:00, 108.08it/s]\n",
      "Train 96: Time 0.012s (it:0.010s) Data:0.006s (it:0.006s) Loss 1.0373e+00 : 100%|██████████| 431/431 [00:05<00:00, 85.88it/s]\n",
      "Evaluate 96: Time 0.009s (it:0.003s) Data:0.006s (it:0.001s) Loss 1.0820e+00 : 100%|██████████| 144/144 [00:01<00:00, 108.19it/s]\n",
      "Train 97: Time 0.012s (it:0.010s) Data:0.006s (it:0.006s) Loss 1.0372e+00 : 100%|██████████| 431/431 [00:05<00:00, 85.40it/s]\n",
      "Evaluate 97: Time 0.009s (it:0.004s) Data:0.006s (it:0.002s) Loss 1.0820e+00 : 100%|██████████| 144/144 [00:01<00:00, 108.67it/s]\n",
      "Train 98: Time 0.012s (it:0.011s) Data:0.006s (it:0.007s) Loss 1.0370e+00 : 100%|██████████| 431/431 [00:05<00:00, 86.07it/s]\n",
      "Evaluate 98: Time 0.009s (it:0.003s) Data:0.006s (it:0.002s) Loss 1.0820e+00 : 100%|██████████| 144/144 [00:01<00:00, 107.96it/s]\n",
      "Train 99: Time 0.012s (it:0.010s) Data:0.006s (it:0.007s) Loss 1.0374e+00 : 100%|██████████| 431/431 [00:05<00:00, 85.64it/s]\n",
      "Evaluate 99: Time 0.009s (it:0.003s) Data:0.006s (it:0.002s) Loss 1.0820e+00 : 100%|██████████| 144/144 [00:01<00:00, 107.65it/s]\n",
      "Train 100: Time 0.012s (it:0.010s) Data:0.006s (it:0.006s) Loss 1.0369e+00 : 100%|██████████| 431/431 [00:05<00:00, 85.86it/s]\n",
      "Evaluate 100: Time 0.010s (it:0.003s) Data:0.006s (it:0.001s) Loss 1.0820e+00 : 100%|██████████| 144/144 [00:01<00:00, 104.26it/s]\n",
      "2022-12-08 02:23:24,504 [MainThread  ] [INFO ]  Plateau Reached!\n"
     ]
    },
    {
     "name": "stdout",
     "output_type": "stream",
     "text": [
      "Epoch 00100: reducing learning rate of group 0 to 1.0000e-08.\n"
     ]
    },
    {
     "name": "stderr",
     "output_type": "stream",
     "text": [
      "Train 101: Time 0.013s (it:0.011s) Data:0.006s (it:0.006s) Loss 1.0371e+00 : 100%|██████████| 431/431 [00:05<00:00, 76.39it/s]\n",
      "Evaluate 101: Time 0.009s (it:0.003s) Data:0.006s (it:0.001s) Loss 1.0820e+00 : 100%|██████████| 144/144 [00:01<00:00, 106.63it/s]\n",
      "Test (cls): Time 0.009s (it:0.003s) Data:0.006s (it:0.001s) : 100%|██████████| 144/144 [00:01<00:00, 108.76it/s]\n",
      "2022-12-08 02:23:32,973 [MainThread  ] [INFO ]  Validation performance at epoch 101 -> 0.4010941309368474\n"
     ]
    },
    {
     "name": "stdout",
     "output_type": "stream",
     "text": [
      "0.4010941309368474 [0.589791084478885, 0.4660618748538518, 0.480140079660503, 0.6157819595812768, 0.20589301390975384, 0.26881859843236305, 0.2836374276735653, 0.4121371910958427, 0.6185307547801763, 0.5568772033600187, 0.4048998436950909, 0.27551658469715257, 0.41310186587384623, 0.7066034728525024, 0.43812504216470194, 0.014467457646585958, 0.06821677117028968]\n"
     ]
    },
    {
     "name": "stderr",
     "output_type": "stream",
     "text": [
      "Train 102: Time 0.012s (it:0.011s) Data:0.006s (it:0.007s) Loss 1.0373e+00 : 100%|██████████| 431/431 [00:05<00:00, 83.83it/s]\n",
      "Evaluate 102: Time 0.010s (it:0.002s) Data:0.006s (it:0.001s) Loss 1.0820e+00 : 100%|██████████| 144/144 [00:01<00:00, 101.45it/s]\n",
      "Train 103: Time 0.012s (it:0.010s) Data:0.006s (it:0.006s) Loss 1.0375e+00 : 100%|██████████| 431/431 [00:05<00:00, 81.01it/s]\n",
      "Evaluate 103: Time 0.011s (it:0.003s) Data:0.007s (it:0.001s) Loss 1.0820e+00 : 100%|██████████| 144/144 [00:01<00:00, 90.79it/s]\n",
      "Train 104: Time 0.014s (it:0.014s) Data:0.007s (it:0.008s) Loss 1.0373e+00 : 100%|██████████| 431/431 [00:06<00:00, 70.45it/s]\n",
      "Evaluate 104: Time 0.011s (it:0.004s) Data:0.007s (it:0.002s) Loss 1.0820e+00 : 100%|██████████| 144/144 [00:01<00:00, 88.87it/s]\n",
      "Train 105: Time 0.014s (it:0.012s) Data:0.007s (it:0.008s) Loss 1.0368e+00 : 100%|██████████| 431/431 [00:06<00:00, 71.45it/s]\n",
      "Evaluate 105: Time 0.011s (it:0.003s) Data:0.007s (it:0.001s) Loss 1.0820e+00 : 100%|██████████| 144/144 [00:01<00:00, 93.41it/s]\n",
      "Train 106: Time 0.013s (it:0.016s) Data:0.006s (it:0.009s) Loss 1.0373e+00 : 100%|██████████| 431/431 [00:05<00:00, 77.31it/s]\n",
      "Evaluate 106: Time 0.010s (it:0.005s) Data:0.006s (it:0.002s) Loss 1.0820e+00 : 100%|██████████| 144/144 [00:01<00:00, 99.75it/s] \n",
      "Train 107: Time 0.013s (it:0.011s) Data:0.006s (it:0.006s) Loss 1.0370e+00 : 100%|██████████| 431/431 [00:05<00:00, 79.72it/s]\n",
      "Evaluate 107: Time 0.010s (it:0.004s) Data:0.006s (it:0.002s) Loss 1.0820e+00 : 100%|██████████| 144/144 [00:01<00:00, 98.79it/s]\n",
      "Train 108: Time 0.013s (it:0.011s) Data:0.006s (it:0.007s) Loss 1.0372e+00 : 100%|██████████| 431/431 [00:05<00:00, 78.94it/s]\n",
      "Evaluate 108: Time 0.010s (it:0.004s) Data:0.006s (it:0.001s) Loss 1.0820e+00 : 100%|██████████| 144/144 [00:01<00:00, 99.85it/s]\n",
      "Train 109: Time 0.013s (it:0.012s) Data:0.006s (it:0.007s) Loss 1.0374e+00 : 100%|██████████| 431/431 [00:05<00:00, 78.30it/s]\n",
      "Evaluate 109: Time 0.010s (it:0.003s) Data:0.006s (it:0.002s) Loss 1.0820e+00 : 100%|██████████| 144/144 [00:01<00:00, 98.10it/s]\n",
      "Train 110: Time 0.013s (it:0.011s) Data:0.006s (it:0.006s) Loss 1.0375e+00 : 100%|██████████| 431/431 [00:05<00:00, 78.14it/s]\n",
      "Evaluate 110: Time 0.010s (it:0.003s) Data:0.006s (it:0.001s) Loss 1.0820e+00 : 100%|██████████| 144/144 [00:01<00:00, 97.52it/s]\n",
      "2022-12-08 02:24:36,547 [MainThread  ] [INFO ]  Plateau Reached and no more reduction -> Exiting Loop\n",
      "2022-12-08 02:24:37,224 [MainThread  ] [INFO ]  Checking/Download features and labels locally\n",
      "Test (spot.): Time 0.478s (it:0.480s) Data:0.324s (it:0.329s) : 100%|██████████| 100/100 [00:47<00:00,  2.09it/s]\n",
      "100%|██████████| 100/100 [00:02<00:00, 48.10it/s]\n",
      "100%|██████████| 12/12 [00:16<00:00,  1.35s/it]\n",
      "2022-12-08 02:25:45,465 [MainThread  ] [INFO ]  Best Performance at end of training \n",
      "2022-12-08 02:25:45,466 [MainThread  ] [INFO ]  a_mAP visibility all: 0.5148106412376324\n",
      "2022-12-08 02:25:45,466 [MainThread  ] [INFO ]  a_mAP visibility all per class: [0.7487852083625437, 0.5916165292059085, 0.7110756400049066, 0.707341541209217, 0.37279370094671227, 0.37459423905707095, 0.3926120619222217, 0.5592358919847883, 0.6806760256397518, 0.6495254735288664, 0.621287984187725, 0.43324846439404, 0.5641317132949758, 0.7948251065873652, 0.5023151390400039, 0.02828407804897914, 0.019432103624674176]\n",
      "2022-12-08 02:25:45,467 [MainThread  ] [INFO ]  a_mAP visibility visible: 0.5710117741152925\n",
      "2022-12-08 02:25:45,467 [MainThread  ] [INFO ]  a_mAP visibility visible per class: [0.8287942992714158, 0.6853720682962261, 0.7202898018666318, 0.7793036300831755, 0.4012691462632328, 0.37742234188603363, 0.39512348822339116, 0.671480958753894, 0.6843715876175045, 0.6794455316363227, 0.6269795805166726, 0.3991669741828403, 0.6569570342141807, 0.8057195460210118, 0.5458569994128513, 0.28282466482159785, 0.1668225068929892]\n",
      "2022-12-08 02:25:45,467 [MainThread  ] [INFO ]  a_mAP visibility unshown: 0.35484088607305614\n",
      "2022-12-08 02:25:45,468 [MainThread  ] [INFO ]  a_mAP visibility unshown per class: [0.0, 0.5488260255730345, 0.0, 0.2969825681777605, 0.13334346908059527, 0.03636363636363637, 0.2776098008913973, 0.44290910623503854, 0.6207334222367213, 0.5824430420532097, 0.349552559510173, 0.48315011666246477, 0.02709289502184273, 0.7464599209419337, 0.06746495620192196, 0.0, 0.0]\n",
      "2022-12-08 02:25:45,469 [MainThread  ] [INFO ]  Total Execution Time is 861.2107448577881 seconds\n"
     ]
    }
   ],
   "source": [
    "%run $training_file_name\\\n",
    "    --SoccerNet_path=$resnet_features_path\\\n",
    "    --model_name=NetVLAD++_ResNETPCA512_CE+CB\\\n",
    "    --features=ResNET_TF2_PCA512.npy --seed 3 --LR=1e-3\\\n",
    "    --split_test=\"test\"\\\n",
    "    --custom_feature_path=$vit_features_path\\\n",
    "    --loss_function=CE+CB"
   ]
  },
  {
   "cell_type": "markdown",
   "metadata": {},
   "source": [
    "#### Experiment 11:  ResNETPCA512 + NetVladd + FL Loss"
   ]
  },
  {
   "cell_type": "code",
   "execution_count": 1,
   "metadata": {},
   "outputs": [
    {
     "name": "stderr",
     "output_type": "stream",
     "text": [
      "2022-12-08 02:26:37,514 [MainThread  ] [INFO ]  Starting main function\n",
      "2022-12-08 02:26:37,514 [MainThread  ] [INFO ]  Parameters:\n",
      "2022-12-08 02:26:37,515 [MainThread  ] [INFO ]   SoccerNet_path : G:\\.shortcut-targets-by-id\\\\1H509_zeV7bta5BudwCznjP0EWrCa_LCJ\\\\deep_learning_alphas_final_project\\\\assets_pca\n",
      "2022-12-08 02:26:37,515 [MainThread  ] [INFO ]         features : ResNET_TF2_PCA512.npy\n",
      "2022-12-08 02:26:37,516 [MainThread  ] [INFO ]       max_epochs : 1000\n",
      "2022-12-08 02:26:37,516 [MainThread  ] [INFO ]     load_weights : None\n",
      "2022-12-08 02:26:37,517 [MainThread  ] [INFO ]       model_name : NetVLAD++_ResNETPCA512_FL_run_1\n",
      "2022-12-08 02:26:37,517 [MainThread  ] [INFO ]        test_only : False\n",
      "2022-12-08 02:26:37,518 [MainThread  ] [INFO ]      split_train : ['train']\n",
      "2022-12-08 02:26:37,518 [MainThread  ] [INFO ]      split_valid : ['valid']\n",
      "2022-12-08 02:26:37,519 [MainThread  ] [INFO ]       split_test : ['test']\n",
      "2022-12-08 02:26:37,519 [MainThread  ] [INFO ]          version : 2\n",
      "2022-12-08 02:26:37,520 [MainThread  ] [INFO ]      feature_dim : None\n",
      "2022-12-08 02:26:37,520 [MainThread  ] [INFO ]  evaluation_frequency : 10\n",
      "2022-12-08 02:26:37,520 [MainThread  ] [INFO ]        framerate : 2\n",
      "2022-12-08 02:26:37,521 [MainThread  ] [INFO ]      window_size : 15\n",
      "2022-12-08 02:26:37,521 [MainThread  ] [INFO ]             pool : NetVLAD++\n",
      "2022-12-08 02:26:37,522 [MainThread  ] [INFO ]       vocab_size : 64\n",
      "2022-12-08 02:26:37,522 [MainThread  ] [INFO ]       NMS_window : 30\n",
      "2022-12-08 02:26:37,522 [MainThread  ] [INFO ]    NMS_threshold : 0.0\n",
      "2022-12-08 02:26:37,523 [MainThread  ] [INFO ]       batch_size : 256\n",
      "2022-12-08 02:26:37,523 [MainThread  ] [INFO ]               LR : 0.001\n",
      "2022-12-08 02:26:37,524 [MainThread  ] [INFO ]              LRe : 1e-06\n",
      "2022-12-08 02:26:37,524 [MainThread  ] [INFO ]         patience : 10\n",
      "2022-12-08 02:26:37,525 [MainThread  ] [INFO ]              GPU : 0\n",
      "2022-12-08 02:26:37,525 [MainThread  ] [INFO ]   max_num_worker : 1\n",
      "2022-12-08 02:26:37,526 [MainThread  ] [INFO ]             seed : 3\n",
      "2022-12-08 02:26:37,526 [MainThread  ] [INFO ]         loglevel : INFO\n",
      "2022-12-08 02:26:37,527 [MainThread  ] [INFO ]  custom_feature_path : C:\\\\Users\\\\91995\\\\OneDrive - Georgia Institute of Technology\\\\vit_features\n",
      "2022-12-08 02:26:37,527 [MainThread  ] [INFO ]    loss_function : FL\n",
      "2022-12-08 02:26:37,529 [MainThread  ] [INFO ]  Checking/Download features and labels locally\n",
      "2022-12-08 02:26:39,289 [MainThread  ] [INFO ]  Pre-compute clips\n",
      "100%|██████████| 300/300 [00:28<00:00, 10.44it/s]\n",
      "2022-12-08 02:27:09,672 [MainThread  ] [INFO ]  Checking/Download features and labels locally\n",
      "2022-12-08 02:27:10,123 [MainThread  ] [INFO ]  Pre-compute clips\n",
      "100%|██████████| 100/100 [00:09<00:00, 10.04it/s]\n",
      "2022-12-08 02:27:20,726 [MainThread  ] [INFO ]  Checking/Download features and labels locally\n",
      "2022-12-08 02:27:21,204 [MainThread  ] [INFO ]  Pre-compute clips\n",
      "100%|██████████| 100/100 [00:08<00:00, 11.62it/s]\n",
      "2022-12-08 02:27:30,343 [MainThread  ] [INFO ]  Checking/Download features and labels locally\n"
     ]
    },
    {
     "name": "stdout",
     "output_type": "stream",
     "text": [
      "feature_dim found: 512\n"
     ]
    },
    {
     "name": "stderr",
     "output_type": "stream",
     "text": [
      "2022-12-08 02:27:32,733 [MainThread  ] [INFO ]  Model(\n",
      "  (pool_layer_before): NetVLAD()\n",
      "  (pool_layer_after): NetVLAD()\n",
      "  (fc): Linear(in_features=32768, out_features=18, bias=True)\n",
      "  (drop): Dropout(p=0.4, inplace=False)\n",
      "  (sigm): Sigmoid()\n",
      ")\n",
      "2022-12-08 02:27:32,734 [MainThread  ] [INFO ]  Total number of parameters: 655378\n",
      "C:\\Users\\91995\\Documents\\GT Coursework\\CS 7643 DL\\Project\\dl_7643_final_project_code\\src\\loss.py:38: UserWarning: To copy construct from a tensor, it is recommended to use sourceTensor.clone().detach() or sourceTensor.clone().detach().requires_grad_(True), rather than torch.tensor(sourceTensor).\n",
      "  self.weight = torch.tensor(weight).float()\n"
     ]
    },
    {
     "name": "stdout",
     "output_type": "stream",
     "text": [
      "gamma = 1\n"
     ]
    },
    {
     "name": "stderr",
     "output_type": "stream",
     "text": [
      "2022-12-08 02:27:34,076 [MainThread  ] [INFO ]  start training\n",
      "Train 1: Time 0.013s (it:0.017s) Data:0.007s (it:0.006s) Loss 5.9493e-01 : 100%|██████████| 431/431 [00:05<00:00, 75.05it/s]\n",
      "Evaluate 1: Time 0.009s (it:0.004s) Data:0.006s (it:0.002s) Loss 5.8121e-01 : 100%|██████████| 144/144 [00:01<00:00, 106.63it/s]\n",
      "Train 2: Time 0.012s (it:0.015s) Data:0.006s (it:0.007s) Loss 5.7844e-01 : 100%|██████████| 431/431 [00:05<00:00, 80.17it/s]\n",
      "Evaluate 2: Time 0.009s (it:0.004s) Data:0.006s (it:0.002s) Loss 5.7528e-01 : 100%|██████████| 144/144 [00:01<00:00, 105.76it/s]\n",
      "Train 3: Time 0.012s (it:0.011s) Data:0.006s (it:0.007s) Loss 5.7221e-01 : 100%|██████████| 431/431 [00:05<00:00, 80.33it/s]\n",
      "Evaluate 3: Time 0.009s (it:0.003s) Data:0.006s (it:0.001s) Loss 5.7050e-01 : 100%|██████████| 144/144 [00:01<00:00, 106.57it/s]\n",
      "Train 4: Time 0.012s (it:0.012s) Data:0.006s (it:0.006s) Loss 5.6847e-01 : 100%|██████████| 431/431 [00:05<00:00, 80.68it/s]\n",
      "Evaluate 4: Time 0.010s (it:0.004s) Data:0.006s (it:0.002s) Loss 5.6645e-01 : 100%|██████████| 144/144 [00:01<00:00, 105.05it/s]\n",
      "Train 5: Time 0.012s (it:0.015s) Data:0.006s (it:0.008s) Loss 5.6606e-01 : 100%|██████████| 431/431 [00:05<00:00, 80.45it/s]\n",
      "Evaluate 5: Time 0.009s (it:0.003s) Data:0.006s (it:0.002s) Loss 5.6476e-01 : 100%|██████████| 144/144 [00:01<00:00, 105.57it/s]\n",
      "Train 6: Time 0.012s (it:0.011s) Data:0.006s (it:0.007s) Loss 5.6402e-01 : 100%|██████████| 431/431 [00:05<00:00, 82.69it/s]\n",
      "Evaluate 6: Time 0.009s (it:0.003s) Data:0.006s (it:0.001s) Loss 5.6354e-01 : 100%|██████████| 144/144 [00:01<00:00, 105.63it/s]\n",
      "Train 7: Time 0.012s (it:0.011s) Data:0.006s (it:0.006s) Loss 5.6236e-01 : 100%|██████████| 431/431 [00:05<00:00, 82.66it/s]\n",
      "Evaluate 7: Time 0.009s (it:0.003s) Data:0.006s (it:0.001s) Loss 5.6312e-01 : 100%|██████████| 144/144 [00:01<00:00, 105.98it/s]\n",
      "Train 8: Time 0.012s (it:0.010s) Data:0.006s (it:0.006s) Loss 5.6086e-01 : 100%|██████████| 431/431 [00:05<00:00, 82.40it/s]\n",
      "Evaluate 8: Time 0.009s (it:0.004s) Data:0.006s (it:0.002s) Loss 5.6296e-01 : 100%|██████████| 144/144 [00:01<00:00, 106.19it/s]\n",
      "Train 9: Time 0.012s (it:0.011s) Data:0.006s (it:0.006s) Loss 5.5966e-01 : 100%|██████████| 431/431 [00:05<00:00, 82.22it/s]\n",
      "Evaluate 9: Time 0.010s (it:0.003s) Data:0.006s (it:0.002s) Loss 5.6119e-01 : 100%|██████████| 144/144 [00:01<00:00, 104.18it/s]\n",
      "Train 10: Time 0.012s (it:0.012s) Data:0.006s (it:0.007s) Loss 5.5869e-01 : 100%|██████████| 431/431 [00:05<00:00, 82.15it/s]\n",
      "Evaluate 10: Time 0.009s (it:0.003s) Data:0.006s (it:0.001s) Loss 5.6037e-01 : 100%|██████████| 144/144 [00:01<00:00, 105.85it/s]\n",
      "Train 11: Time 0.012s (it:0.010s) Data:0.006s (it:0.006s) Loss 5.5757e-01 : 100%|██████████| 431/431 [00:05<00:00, 81.76it/s]\n",
      "Evaluate 11: Time 0.010s (it:0.004s) Data:0.006s (it:0.002s) Loss 5.6186e-01 : 100%|██████████| 144/144 [00:01<00:00, 105.00it/s]\n",
      "Test (cls): Time 0.009s (it:0.003s) Data:0.006s (it:0.002s) : 100%|██████████| 144/144 [00:01<00:00, 106.48it/s]\n",
      "2022-12-08 02:28:49,327 [MainThread  ] [INFO ]  Validation performance at epoch 11 -> 0.35213084272217826\n"
     ]
    },
    {
     "name": "stdout",
     "output_type": "stream",
     "text": [
      "0.35213084272217826 [0.44608933853997185, 0.378446871489532, 0.4233091536355917, 0.575314538460636, 0.16519050033586932, 0.24644210022893032, 0.2411486450826649, 0.3539956986447685, 0.5811264423262861, 0.5176745662366563, 0.3795301379660767, 0.25489776001343856, 0.339707269667952, 0.6404929267981252, 0.32728474819089437, 0.012911735942042292, 0.10266189271759307]\n"
     ]
    },
    {
     "name": "stderr",
     "output_type": "stream",
     "text": [
      "Train 12: Time 0.012s (it:0.011s) Data:0.006s (it:0.007s) Loss 5.5673e-01 : 100%|██████████| 431/431 [00:05<00:00, 82.52it/s]\n",
      "Evaluate 12: Time 0.009s (it:0.005s) Data:0.006s (it:0.002s) Loss 5.6178e-01 : 100%|██████████| 144/144 [00:01<00:00, 106.96it/s]\n",
      "Train 13: Time 0.012s (it:0.012s) Data:0.006s (it:0.006s) Loss 5.5586e-01 : 100%|██████████| 431/431 [00:05<00:00, 83.43it/s]\n",
      "Evaluate 13: Time 0.009s (it:0.003s) Data:0.006s (it:0.001s) Loss 5.6364e-01 : 100%|██████████| 144/144 [00:01<00:00, 106.72it/s]\n",
      "Train 14: Time 0.012s (it:0.010s) Data:0.006s (it:0.006s) Loss 5.5488e-01 : 100%|██████████| 431/431 [00:05<00:00, 83.56it/s]\n",
      "Evaluate 14: Time 0.009s (it:0.004s) Data:0.006s (it:0.002s) Loss 5.5828e-01 : 100%|██████████| 144/144 [00:01<00:00, 107.47it/s]\n",
      "Train 15: Time 0.012s (it:0.011s) Data:0.006s (it:0.007s) Loss 5.5451e-01 : 100%|██████████| 431/431 [00:05<00:00, 82.94it/s]\n",
      "Evaluate 15: Time 0.009s (it:0.003s) Data:0.006s (it:0.001s) Loss 5.6244e-01 : 100%|██████████| 144/144 [00:01<00:00, 106.58it/s]\n",
      "Train 16: Time 0.012s (it:0.010s) Data:0.006s (it:0.006s) Loss 5.5363e-01 : 100%|██████████| 431/431 [00:05<00:00, 83.46it/s]\n",
      "Evaluate 16: Time 0.009s (it:0.003s) Data:0.006s (it:0.001s) Loss 5.5820e-01 : 100%|██████████| 144/144 [00:01<00:00, 107.64it/s]\n",
      "Train 17: Time 0.012s (it:0.010s) Data:0.006s (it:0.006s) Loss 5.5278e-01 : 100%|██████████| 431/431 [00:05<00:00, 82.78it/s]\n",
      "Evaluate 17: Time 0.009s (it:0.003s) Data:0.006s (it:0.001s) Loss 5.5756e-01 : 100%|██████████| 144/144 [00:01<00:00, 106.35it/s]\n",
      "Train 18: Time 0.012s (it:0.010s) Data:0.006s (it:0.006s) Loss 5.5213e-01 : 100%|██████████| 431/431 [00:05<00:00, 82.86it/s]\n",
      "Evaluate 18: Time 0.009s (it:0.003s) Data:0.006s (it:0.001s) Loss 5.5756e-01 : 100%|██████████| 144/144 [00:01<00:00, 106.12it/s]\n",
      "Train 19: Time 0.012s (it:0.012s) Data:0.006s (it:0.006s) Loss 5.5165e-01 : 100%|██████████| 431/431 [00:05<00:00, 83.21it/s]\n",
      "Evaluate 19: Time 0.009s (it:0.003s) Data:0.006s (it:0.001s) Loss 5.5699e-01 : 100%|██████████| 144/144 [00:01<00:00, 106.89it/s]\n",
      "Train 20: Time 0.012s (it:0.010s) Data:0.006s (it:0.006s) Loss 5.5110e-01 : 100%|██████████| 431/431 [00:05<00:00, 82.92it/s]\n",
      "Evaluate 20: Time 0.009s (it:0.003s) Data:0.006s (it:0.001s) Loss 5.6343e-01 : 100%|██████████| 144/144 [00:01<00:00, 107.05it/s]\n",
      "Train 21: Time 0.012s (it:0.010s) Data:0.006s (it:0.006s) Loss 5.5052e-01 : 100%|██████████| 431/431 [00:05<00:00, 83.62it/s]\n",
      "Evaluate 21: Time 0.009s (it:0.004s) Data:0.006s (it:0.002s) Loss 5.5660e-01 : 100%|██████████| 144/144 [00:01<00:00, 105.88it/s]\n",
      "Test (cls): Time 0.010s (it:0.002s) Data:0.007s (it:0.001s) : 100%|██████████| 144/144 [00:01<00:00, 97.83it/s]\n",
      "2022-12-08 02:29:56,370 [MainThread  ] [INFO ]  Validation performance at epoch 21 -> 0.37137295481491206\n"
     ]
    },
    {
     "name": "stdout",
     "output_type": "stream",
     "text": [
      "0.37137295481491206 [0.4979786996956694, 0.4135040590910052, 0.45307710226281867, 0.5915896059921221, 0.18577121847621114, 0.2589723331519517, 0.2574475195204961, 0.37982491566666027, 0.5975716599505457, 0.5330747165614279, 0.38971413733460314, 0.2643063268763464, 0.3779106115783313, 0.6689826378726419, 0.3698144519089708, 0.014083657176751342, 0.059716578736953546]\n"
     ]
    },
    {
     "name": "stderr",
     "output_type": "stream",
     "text": [
      "Train 22: Time 0.012s (it:0.011s) Data:0.006s (it:0.007s) Loss 5.4982e-01 : 100%|██████████| 431/431 [00:05<00:00, 83.66it/s]\n",
      "Evaluate 22: Time 0.009s (it:0.003s) Data:0.006s (it:0.002s) Loss 5.5721e-01 : 100%|██████████| 144/144 [00:01<00:00, 107.60it/s]\n",
      "Train 23: Time 0.012s (it:0.011s) Data:0.006s (it:0.006s) Loss 5.4935e-01 : 100%|██████████| 431/431 [00:05<00:00, 83.79it/s]\n",
      "Evaluate 23: Time 0.009s (it:0.003s) Data:0.006s (it:0.001s) Loss 5.5631e-01 : 100%|██████████| 144/144 [00:01<00:00, 107.56it/s]\n",
      "Train 24: Time 0.012s (it:0.010s) Data:0.006s (it:0.006s) Loss 5.4886e-01 : 100%|██████████| 431/431 [00:05<00:00, 83.66it/s]\n",
      "Evaluate 24: Time 0.009s (it:0.003s) Data:0.006s (it:0.001s) Loss 5.5624e-01 : 100%|██████████| 144/144 [00:01<00:00, 107.18it/s]\n",
      "Train 25: Time 0.012s (it:0.011s) Data:0.006s (it:0.006s) Loss 5.4827e-01 : 100%|██████████| 431/431 [00:05<00:00, 83.55it/s]\n",
      "Evaluate 25: Time 0.009s (it:0.004s) Data:0.006s (it:0.002s) Loss 5.5627e-01 : 100%|██████████| 144/144 [00:01<00:00, 106.92it/s]\n",
      "Train 26: Time 0.012s (it:0.011s) Data:0.006s (it:0.006s) Loss 5.4761e-01 : 100%|██████████| 431/431 [00:05<00:00, 84.18it/s]\n",
      "Evaluate 26: Time 0.009s (it:0.003s) Data:0.006s (it:0.001s) Loss 5.5696e-01 : 100%|██████████| 144/144 [00:01<00:00, 106.04it/s]\n",
      "Train 27: Time 0.012s (it:0.010s) Data:0.006s (it:0.006s) Loss 5.4721e-01 : 100%|██████████| 431/431 [00:05<00:00, 84.21it/s]\n",
      "Evaluate 27: Time 0.009s (it:0.003s) Data:0.006s (it:0.001s) Loss 5.5579e-01 : 100%|██████████| 144/144 [00:01<00:00, 106.42it/s]\n",
      "Train 28: Time 0.012s (it:0.010s) Data:0.006s (it:0.006s) Loss 5.4660e-01 : 100%|██████████| 431/431 [00:05<00:00, 83.39it/s]\n",
      "Evaluate 28: Time 0.009s (it:0.005s) Data:0.006s (it:0.002s) Loss 5.5879e-01 : 100%|██████████| 144/144 [00:01<00:00, 105.45it/s]\n",
      "Train 29: Time 0.012s (it:0.011s) Data:0.006s (it:0.006s) Loss 5.4616e-01 : 100%|██████████| 431/431 [00:05<00:00, 80.95it/s]\n",
      "Evaluate 29: Time 0.010s (it:0.003s) Data:0.006s (it:0.001s) Loss 5.5776e-01 : 100%|██████████| 144/144 [00:01<00:00, 101.05it/s]\n",
      "Train 30: Time 0.012s (it:0.011s) Data:0.006s (it:0.006s) Loss 5.4595e-01 : 100%|██████████| 431/431 [00:05<00:00, 81.63it/s]\n",
      "Evaluate 30: Time 0.010s (it:0.003s) Data:0.006s (it:0.001s) Loss 5.5457e-01 : 100%|██████████| 144/144 [00:01<00:00, 101.38it/s]\n",
      "Train 31: Time 0.012s (it:0.011s) Data:0.006s (it:0.006s) Loss 5.4492e-01 : 100%|██████████| 431/431 [00:05<00:00, 81.76it/s]\n",
      "Evaluate 31: Time 0.010s (it:0.003s) Data:0.006s (it:0.001s) Loss 5.5681e-01 : 100%|██████████| 144/144 [00:01<00:00, 103.88it/s]\n",
      "Test (cls): Time 0.010s (it:0.003s) Data:0.006s (it:0.002s) : 100%|██████████| 144/144 [00:01<00:00, 105.17it/s]\n",
      "2022-12-08 02:31:03,527 [MainThread  ] [INFO ]  Validation performance at epoch 31 -> 0.3841727018258921\n"
     ]
    },
    {
     "name": "stdout",
     "output_type": "stream",
     "text": [
      "0.3841727018258921 [0.5411690780441418, 0.4319135564789768, 0.4657684117906799, 0.5989055328183545, 0.1973452078319025, 0.2644799056226528, 0.2703170975591639, 0.3950428926921121, 0.6062782632571156, 0.5429361820372716, 0.39601580474029435, 0.2694850042926117, 0.3931315710548974, 0.6853311504421963, 0.39818035828352416, 0.014867179652136913, 0.059768734442132994]\n"
     ]
    },
    {
     "name": "stderr",
     "output_type": "stream",
     "text": [
      "Train 32: Time 0.012s (it:0.011s) Data:0.006s (it:0.006s) Loss 5.4477e-01 : 100%|██████████| 431/431 [00:05<00:00, 81.89it/s]\n",
      "Evaluate 32: Time 0.010s (it:0.004s) Data:0.006s (it:0.002s) Loss 5.5698e-01 : 100%|██████████| 144/144 [00:01<00:00, 103.69it/s]\n",
      "Train 33: Time 0.012s (it:0.011s) Data:0.006s (it:0.006s) Loss 5.4464e-01 : 100%|██████████| 431/431 [00:05<00:00, 83.29it/s]\n",
      "Evaluate 33: Time 0.010s (it:0.003s) Data:0.006s (it:0.002s) Loss 5.5489e-01 : 100%|██████████| 144/144 [00:01<00:00, 102.82it/s]\n",
      "Train 34: Time 0.012s (it:0.012s) Data:0.006s (it:0.006s) Loss 5.4368e-01 : 100%|██████████| 431/431 [00:05<00:00, 80.83it/s]\n",
      "Evaluate 34: Time 0.010s (it:0.003s) Data:0.006s (it:0.001s) Loss 5.5515e-01 : 100%|██████████| 144/144 [00:01<00:00, 101.57it/s]\n",
      "Train 35: Time 0.012s (it:0.013s) Data:0.006s (it:0.008s) Loss 5.4357e-01 : 100%|██████████| 431/431 [00:05<00:00, 81.36it/s]\n",
      "Evaluate 35: Time 0.012s (it:0.005s) Data:0.007s (it:0.002s) Loss 5.5442e-01 : 100%|██████████| 144/144 [00:01<00:00, 84.07it/s]\n",
      "Train 36: Time 0.014s (it:0.015s) Data:0.007s (it:0.009s) Loss 5.4313e-01 : 100%|██████████| 431/431 [00:06<00:00, 70.67it/s]\n",
      "Evaluate 36: Time 0.012s (it:0.003s) Data:0.007s (it:0.001s) Loss 5.5706e-01 : 100%|██████████| 144/144 [00:01<00:00, 85.69it/s]\n",
      "Train 37: Time 0.013s (it:0.012s) Data:0.006s (it:0.007s) Loss 5.4261e-01 : 100%|██████████| 431/431 [00:05<00:00, 78.99it/s]\n",
      "Evaluate 37: Time 0.010s (it:0.003s) Data:0.006s (it:0.002s) Loss 5.5468e-01 : 100%|██████████| 144/144 [00:01<00:00, 97.36it/s]\n",
      "Train 38: Time 0.013s (it:0.015s) Data:0.006s (it:0.008s) Loss 5.4180e-01 : 100%|██████████| 431/431 [00:05<00:00, 75.80it/s]\n",
      "Evaluate 38: Time 0.013s (it:0.004s) Data:0.008s (it:0.002s) Loss 5.5489e-01 : 100%|██████████| 144/144 [00:01<00:00, 77.07it/s]\n",
      "Train 39: Time 0.014s (it:0.012s) Data:0.007s (it:0.006s) Loss 5.4183e-01 : 100%|██████████| 431/431 [00:06<00:00, 69.43it/s]\n",
      "Evaluate 39: Time 0.010s (it:0.003s) Data:0.006s (it:0.001s) Loss 5.5625e-01 : 100%|██████████| 144/144 [00:01<00:00, 97.90it/s] \n",
      "Train 40: Time 0.013s (it:0.012s) Data:0.006s (it:0.007s) Loss 5.4137e-01 : 100%|██████████| 431/431 [00:05<00:00, 77.73it/s]\n",
      "Evaluate 40: Time 0.010s (it:0.003s) Data:0.006s (it:0.001s) Loss 5.5500e-01 : 100%|██████████| 144/144 [00:01<00:00, 99.24it/s]\n",
      "Train 41: Time 0.013s (it:0.011s) Data:0.006s (it:0.006s) Loss 5.4112e-01 : 100%|██████████| 431/431 [00:05<00:00, 78.48it/s]\n",
      "Evaluate 41: Time 0.010s (it:0.003s) Data:0.006s (it:0.001s) Loss 5.5601e-01 : 100%|██████████| 144/144 [00:01<00:00, 99.77it/s]\n",
      "Test (cls): Time 0.010s (it:0.003s) Data:0.006s (it:0.002s) : 100%|██████████| 144/144 [00:01<00:00, 102.09it/s]\n",
      "2022-12-08 02:32:16,005 [MainThread  ] [INFO ]  Validation performance at epoch 41 -> 0.39281591521703685\n"
     ]
    },
    {
     "name": "stdout",
     "output_type": "stream",
     "text": [
      "0.39281591521703685 [0.5739606171741699, 0.4484802042738477, 0.4734087014657419, 0.6062646115117938, 0.20239244114845303, 0.26605243294375314, 0.27648876607861195, 0.403846079801513, 0.6128175050681168, 0.5498540122171152, 0.40174199497866014, 0.2745901565140084, 0.4046038735136321, 0.6949466883261776, 0.4182304404575096, 0.015107516107410967, 0.055084517109111615]\n"
     ]
    },
    {
     "name": "stderr",
     "output_type": "stream",
     "text": [
      "Train 42: Time 0.012s (it:0.012s) Data:0.006s (it:0.007s) Loss 5.4062e-01 : 100%|██████████| 431/431 [00:05<00:00, 83.38it/s]\n",
      "Evaluate 42: Time 0.009s (it:0.003s) Data:0.006s (it:0.001s) Loss 5.5725e-01 : 100%|██████████| 144/144 [00:01<00:00, 105.94it/s]\n",
      "Train 43: Time 0.012s (it:0.011s) Data:0.006s (it:0.006s) Loss 5.4007e-01 : 100%|██████████| 431/431 [00:05<00:00, 83.08it/s]\n",
      "Evaluate 43: Time 0.009s (it:0.003s) Data:0.006s (it:0.001s) Loss 5.5440e-01 : 100%|██████████| 144/144 [00:01<00:00, 106.35it/s]\n",
      "Train 44: Time 0.012s (it:0.011s) Data:0.006s (it:0.007s) Loss 5.4008e-01 : 100%|██████████| 431/431 [00:05<00:00, 83.12it/s]\n",
      "Evaluate 44: Time 0.009s (it:0.002s) Data:0.006s (it:0.001s) Loss 5.5365e-01 : 100%|██████████| 144/144 [00:01<00:00, 106.59it/s]\n",
      "Train 45: Time 0.012s (it:0.016s) Data:0.006s (it:0.010s) Loss 5.3895e-01 : 100%|██████████| 431/431 [00:05<00:00, 82.35it/s]\n",
      "Evaluate 45: Time 0.009s (it:0.003s) Data:0.006s (it:0.001s) Loss 5.5521e-01 : 100%|██████████| 144/144 [00:01<00:00, 106.40it/s]\n",
      "Train 46: Time 0.012s (it:0.010s) Data:0.006s (it:0.006s) Loss 5.3852e-01 : 100%|██████████| 431/431 [00:05<00:00, 82.85it/s]\n",
      "Evaluate 46: Time 0.009s (it:0.003s) Data:0.006s (it:0.002s) Loss 5.5502e-01 : 100%|██████████| 144/144 [00:01<00:00, 106.10it/s]\n",
      "Train 47: Time 0.012s (it:0.013s) Data:0.006s (it:0.006s) Loss 5.3855e-01 : 100%|██████████| 431/431 [00:05<00:00, 82.71it/s]\n",
      "Evaluate 47: Time 0.009s (it:0.004s) Data:0.006s (it:0.002s) Loss 5.5409e-01 : 100%|██████████| 144/144 [00:01<00:00, 105.61it/s]\n",
      "Train 48: Time 0.012s (it:0.011s) Data:0.006s (it:0.006s) Loss 5.3838e-01 : 100%|██████████| 431/431 [00:05<00:00, 82.36it/s]\n",
      "Evaluate 48: Time 0.009s (it:0.003s) Data:0.006s (it:0.001s) Loss 5.5570e-01 : 100%|██████████| 144/144 [00:01<00:00, 105.96it/s]\n",
      "Train 49: Time 0.012s (it:0.010s) Data:0.006s (it:0.006s) Loss 5.3790e-01 : 100%|██████████| 431/431 [00:05<00:00, 82.09it/s]\n",
      "Evaluate 49: Time 0.009s (it:0.004s) Data:0.006s (it:0.002s) Loss 5.5560e-01 : 100%|██████████| 144/144 [00:01<00:00, 105.47it/s]\n",
      "Train 50: Time 0.012s (it:0.012s) Data:0.006s (it:0.006s) Loss 5.3739e-01 : 100%|██████████| 431/431 [00:05<00:00, 82.46it/s]\n",
      "Evaluate 50: Time 0.010s (it:0.003s) Data:0.006s (it:0.001s) Loss 5.5450e-01 : 100%|██████████| 144/144 [00:01<00:00, 104.95it/s]\n",
      "Train 51: Time 0.012s (it:0.011s) Data:0.006s (it:0.007s) Loss 5.3718e-01 : 100%|██████████| 431/431 [00:05<00:00, 82.08it/s]\n",
      "Evaluate 51: Time 0.009s (it:0.003s) Data:0.006s (it:0.001s) Loss 5.5487e-01 : 100%|██████████| 144/144 [00:01<00:00, 105.55it/s]\n",
      "Test (cls): Time 0.009s (it:0.003s) Data:0.006s (it:0.002s) : 100%|██████████| 144/144 [00:01<00:00, 106.69it/s]\n",
      "2022-12-08 02:33:23,315 [MainThread  ] [INFO ]  Validation performance at epoch 51 -> 0.39759135960063086\n"
     ]
    },
    {
     "name": "stdout",
     "output_type": "stream",
     "text": [
      "0.39759135960063086 [0.5840779846946093, 0.45840573938891166, 0.4777120877831871, 0.6109764851354368, 0.20516813671533554, 0.26459369720231635, 0.2794203847253877, 0.41050805180905864, 0.6155538101561887, 0.5540618141206864, 0.4045400269711453, 0.27515720399196336, 0.4075690899984404, 0.7023045394265589, 0.4291717178524927, 0.014251163998183993, 0.06558117924082231]\n"
     ]
    },
    {
     "name": "stderr",
     "output_type": "stream",
     "text": [
      "Train 52: Time 0.012s (it:0.010s) Data:0.006s (it:0.006s) Loss 5.3707e-01 : 100%|██████████| 431/431 [00:05<00:00, 82.79it/s]\n",
      "Evaluate 52: Time 0.009s (it:0.004s) Data:0.006s (it:0.002s) Loss 5.5389e-01 : 100%|██████████| 144/144 [00:01<00:00, 106.78it/s]\n",
      "Train 53: Time 0.012s (it:0.010s) Data:0.006s (it:0.006s) Loss 5.3611e-01 : 100%|██████████| 431/431 [00:05<00:00, 83.04it/s]\n",
      "Evaluate 53: Time 0.009s (it:0.003s) Data:0.006s (it:0.001s) Loss 5.5789e-01 : 100%|██████████| 144/144 [00:01<00:00, 107.49it/s]\n",
      "Train 54: Time 0.012s (it:0.010s) Data:0.006s (it:0.006s) Loss 5.3598e-01 : 100%|██████████| 431/431 [00:05<00:00, 83.35it/s]\n",
      "Evaluate 54: Time 0.009s (it:0.003s) Data:0.006s (it:0.001s) Loss 5.5463e-01 : 100%|██████████| 144/144 [00:01<00:00, 107.78it/s]\n",
      "Train 55: Time 0.012s (it:0.010s) Data:0.006s (it:0.006s) Loss 5.3572e-01 : 100%|██████████| 431/431 [00:05<00:00, 83.68it/s]\n",
      "Evaluate 55: Time 0.009s (it:0.004s) Data:0.006s (it:0.001s) Loss 5.5738e-01 : 100%|██████████| 144/144 [00:01<00:00, 106.94it/s]\n",
      "2022-12-08 02:33:49,423 [MainThread  ] [INFO ]  Plateau Reached!\n"
     ]
    },
    {
     "name": "stdout",
     "output_type": "stream",
     "text": [
      "Epoch 00055: reducing learning rate of group 0 to 1.0000e-04.\n"
     ]
    },
    {
     "name": "stderr",
     "output_type": "stream",
     "text": [
      "Train 56: Time 0.012s (it:0.013s) Data:0.006s (it:0.006s) Loss 5.3240e-01 : 100%|██████████| 431/431 [00:05<00:00, 81.36it/s]\n",
      "Evaluate 56: Time 0.010s (it:0.003s) Data:0.006s (it:0.002s) Loss 5.5311e-01 : 100%|██████████| 144/144 [00:01<00:00, 104.30it/s]\n",
      "Train 57: Time 0.013s (it:0.011s) Data:0.007s (it:0.006s) Loss 5.3199e-01 : 100%|██████████| 431/431 [00:05<00:00, 75.57it/s]\n",
      "Evaluate 57: Time 0.010s (it:0.003s) Data:0.007s (it:0.001s) Loss 5.5360e-01 : 100%|██████████| 144/144 [00:01<00:00, 97.28it/s]\n",
      "Train 58: Time 0.013s (it:0.014s) Data:0.007s (it:0.007s) Loss 5.3199e-01 : 100%|██████████| 431/431 [00:05<00:00, 78.48it/s]\n",
      "Evaluate 58: Time 0.010s (it:0.003s) Data:0.006s (it:0.001s) Loss 5.5332e-01 : 100%|██████████| 144/144 [00:01<00:00, 102.17it/s]\n",
      "Train 59: Time 0.012s (it:0.013s) Data:0.006s (it:0.008s) Loss 5.3185e-01 : 100%|██████████| 431/431 [00:05<00:00, 80.33it/s]\n",
      "Evaluate 59: Time 0.010s (it:0.003s) Data:0.006s (it:0.001s) Loss 5.5337e-01 : 100%|██████████| 144/144 [00:01<00:00, 102.36it/s]\n",
      "Train 60: Time 0.013s (it:0.014s) Data:0.007s (it:0.006s) Loss 5.3177e-01 : 100%|██████████| 431/431 [00:05<00:00, 76.59it/s]\n",
      "Evaluate 60: Time 0.010s (it:0.004s) Data:0.006s (it:0.002s) Loss 5.5340e-01 : 100%|██████████| 144/144 [00:01<00:00, 102.73it/s]\n",
      "Train 61: Time 0.012s (it:0.013s) Data:0.006s (it:0.007s) Loss 5.3171e-01 : 100%|██████████| 431/431 [00:05<00:00, 80.49it/s]\n",
      "Evaluate 61: Time 0.010s (it:0.004s) Data:0.006s (it:0.002s) Loss 5.5393e-01 : 100%|██████████| 144/144 [00:01<00:00, 102.85it/s]\n",
      "Test (cls): Time 0.010s (it:0.003s) Data:0.006s (it:0.001s) : 100%|██████████| 144/144 [00:01<00:00, 103.06it/s]\n",
      "2022-12-08 02:34:32,316 [MainThread  ] [INFO ]  Validation performance at epoch 61 -> 0.4006073370080948\n"
     ]
    },
    {
     "name": "stdout",
     "output_type": "stream",
     "text": [
      "0.4006073370080948 [0.5893293142133454, 0.4647084725498942, 0.4795251733466788, 0.6131495800945628, 0.2057574673122542, 0.2693627327746379, 0.2825445370035743, 0.4122174188214709, 0.61768987834863, 0.556621284527376, 0.40507372534333924, 0.27638642104926675, 0.4129231195636077, 0.7052183116331395, 0.437001120031664, 0.0146298682451184, 0.06818630427905202]\n"
     ]
    },
    {
     "name": "stderr",
     "output_type": "stream",
     "text": [
      "Train 62: Time 0.012s (it:0.011s) Data:0.006s (it:0.007s) Loss 5.3147e-01 : 100%|██████████| 431/431 [00:05<00:00, 80.34it/s]\n",
      "Evaluate 62: Time 0.010s (it:0.003s) Data:0.006s (it:0.002s) Loss 5.5384e-01 : 100%|██████████| 144/144 [00:01<00:00, 103.97it/s]\n",
      "Train 63: Time 0.012s (it:0.012s) Data:0.006s (it:0.007s) Loss 5.3118e-01 : 100%|██████████| 431/431 [00:05<00:00, 80.86it/s]\n",
      "Evaluate 63: Time 0.010s (it:0.003s) Data:0.006s (it:0.001s) Loss 5.5439e-01 : 100%|██████████| 144/144 [00:01<00:00, 103.96it/s]\n",
      "Train 64: Time 0.012s (it:0.011s) Data:0.006s (it:0.006s) Loss 5.3111e-01 : 100%|██████████| 431/431 [00:05<00:00, 80.65it/s]\n",
      "Evaluate 64: Time 0.010s (it:0.003s) Data:0.006s (it:0.001s) Loss 5.5404e-01 : 100%|██████████| 144/144 [00:01<00:00, 101.86it/s]\n",
      "Train 65: Time 0.012s (it:0.011s) Data:0.006s (it:0.006s) Loss 5.3103e-01 : 100%|██████████| 431/431 [00:05<00:00, 80.21it/s]\n",
      "Evaluate 65: Time 0.010s (it:0.004s) Data:0.006s (it:0.002s) Loss 5.5397e-01 : 100%|██████████| 144/144 [00:01<00:00, 101.92it/s]\n",
      "Train 66: Time 0.012s (it:0.012s) Data:0.006s (it:0.006s) Loss 5.3112e-01 : 100%|██████████| 431/431 [00:05<00:00, 80.76it/s]\n",
      "Evaluate 66: Time 0.010s (it:0.004s) Data:0.006s (it:0.002s) Loss 5.5378e-01 : 100%|██████████| 144/144 [00:01<00:00, 102.91it/s]\n",
      "Train 67: Time 0.012s (it:0.011s) Data:0.006s (it:0.007s) Loss 5.3093e-01 : 100%|██████████| 431/431 [00:05<00:00, 81.16it/s]\n",
      "Evaluate 67: Time 0.010s (it:0.002s) Data:0.006s (it:0.001s) Loss 5.5402e-01 : 100%|██████████| 144/144 [00:01<00:00, 103.82it/s]\n",
      "2022-12-08 02:35:12,792 [MainThread  ] [INFO ]  Plateau Reached!\n"
     ]
    },
    {
     "name": "stdout",
     "output_type": "stream",
     "text": [
      "Epoch 00067: reducing learning rate of group 0 to 1.0000e-05.\n"
     ]
    },
    {
     "name": "stderr",
     "output_type": "stream",
     "text": [
      "Train 68: Time 0.012s (it:0.011s) Data:0.006s (it:0.006s) Loss 5.3053e-01 : 100%|██████████| 431/431 [00:05<00:00, 82.28it/s]\n",
      "Evaluate 68: Time 0.010s (it:0.003s) Data:0.006s (it:0.001s) Loss 5.5395e-01 : 100%|██████████| 144/144 [00:01<00:00, 103.58it/s]\n",
      "Train 69: Time 0.012s (it:0.012s) Data:0.006s (it:0.006s) Loss 5.3055e-01 : 100%|██████████| 431/431 [00:05<00:00, 82.50it/s]\n",
      "Evaluate 69: Time 0.010s (it:0.003s) Data:0.006s (it:0.002s) Loss 5.5405e-01 : 100%|██████████| 144/144 [00:01<00:00, 104.97it/s]\n",
      "Train 70: Time 0.012s (it:0.012s) Data:0.006s (it:0.007s) Loss 5.3034e-01 : 100%|██████████| 431/431 [00:05<00:00, 81.83it/s]\n",
      "Evaluate 70: Time 0.010s (it:0.003s) Data:0.006s (it:0.002s) Loss 5.5395e-01 : 100%|██████████| 144/144 [00:01<00:00, 102.57it/s]\n",
      "Train 71: Time 0.012s (it:0.012s) Data:0.006s (it:0.006s) Loss 5.3033e-01 : 100%|██████████| 431/431 [00:05<00:00, 82.21it/s]\n",
      "Evaluate 71: Time 0.010s (it:0.003s) Data:0.006s (it:0.002s) Loss 5.5386e-01 : 100%|██████████| 144/144 [00:01<00:00, 101.75it/s]\n",
      "Test (cls): Time 0.010s (it:0.002s) Data:0.007s (it:0.001s) : 100%|██████████| 144/144 [00:01<00:00, 97.66it/s]\n",
      "2022-12-08 02:35:40,983 [MainThread  ] [INFO ]  Validation performance at epoch 71 -> 0.40067511117903554\n"
     ]
    },
    {
     "name": "stdout",
     "output_type": "stream",
     "text": [
      "0.40067511117903554 [0.5869055666745596, 0.46595489547501834, 0.4807711794935847, 0.6138332743032417, 0.20581283308012352, 0.26989583606243106, 0.282199836385948, 0.4124828040971632, 0.6179904980374619, 0.5566375528352738, 0.4048377527983068, 0.27569431220174623, 0.4130926452375725, 0.7056697044325423, 0.4378751497580166, 0.014397564280172019, 0.06742548489044231]\n"
     ]
    },
    {
     "name": "stderr",
     "output_type": "stream",
     "text": [
      "Train 72: Time 0.012s (it:0.012s) Data:0.006s (it:0.007s) Loss 5.3053e-01 : 100%|██████████| 431/431 [00:05<00:00, 81.30it/s]\n",
      "Evaluate 72: Time 0.010s (it:0.003s) Data:0.006s (it:0.001s) Loss 5.5404e-01 : 100%|██████████| 144/144 [00:01<00:00, 102.36it/s]\n",
      "Train 73: Time 0.012s (it:0.013s) Data:0.006s (it:0.007s) Loss 5.3021e-01 : 100%|██████████| 431/431 [00:05<00:00, 81.13it/s]\n",
      "Evaluate 73: Time 0.010s (it:0.003s) Data:0.007s (it:0.001s) Loss 5.5386e-01 : 100%|██████████| 144/144 [00:01<00:00, 96.76it/s]\n",
      "Train 74: Time 0.013s (it:0.012s) Data:0.007s (it:0.007s) Loss 5.3041e-01 : 100%|██████████| 431/431 [00:05<00:00, 75.53it/s]\n",
      "Evaluate 74: Time 0.011s (it:0.004s) Data:0.007s (it:0.001s) Loss 5.5385e-01 : 100%|██████████| 144/144 [00:01<00:00, 92.82it/s]\n",
      "Train 75: Time 0.013s (it:0.012s) Data:0.007s (it:0.007s) Loss 5.3053e-01 : 100%|██████████| 431/431 [00:05<00:00, 76.78it/s]\n",
      "Evaluate 75: Time 0.010s (it:0.003s) Data:0.006s (it:0.001s) Loss 5.5405e-01 : 100%|██████████| 144/144 [00:01<00:00, 101.23it/s]\n",
      "Train 76: Time 0.012s (it:0.013s) Data:0.006s (it:0.007s) Loss 5.3018e-01 : 100%|██████████| 431/431 [00:05<00:00, 81.04it/s]\n",
      "Evaluate 76: Time 0.010s (it:0.002s) Data:0.006s (it:0.001s) Loss 5.5389e-01 : 100%|██████████| 144/144 [00:01<00:00, 100.92it/s]\n",
      "Train 77: Time 0.012s (it:0.011s) Data:0.006s (it:0.007s) Loss 5.3029e-01 : 100%|██████████| 431/431 [00:05<00:00, 80.49it/s]\n",
      "Evaluate 77: Time 0.010s (it:0.003s) Data:0.006s (it:0.001s) Loss 5.5400e-01 : 100%|██████████| 144/144 [00:01<00:00, 100.95it/s]\n",
      "Train 78: Time 0.012s (it:0.013s) Data:0.006s (it:0.007s) Loss 5.3019e-01 : 100%|██████████| 431/431 [00:05<00:00, 80.46it/s]\n",
      "Evaluate 78: Time 0.010s (it:0.002s) Data:0.006s (it:0.001s) Loss 5.5388e-01 : 100%|██████████| 144/144 [00:01<00:00, 101.06it/s]\n",
      "2022-12-08 02:36:29,129 [MainThread  ] [INFO ]  Plateau Reached!\n"
     ]
    },
    {
     "name": "stdout",
     "output_type": "stream",
     "text": [
      "Epoch 00078: reducing learning rate of group 0 to 1.0000e-06.\n"
     ]
    },
    {
     "name": "stderr",
     "output_type": "stream",
     "text": [
      "Train 79: Time 0.013s (it:0.012s) Data:0.007s (it:0.007s) Loss 5.3016e-01 : 100%|██████████| 431/431 [00:05<00:00, 77.23it/s]\n",
      "Evaluate 79: Time 0.010s (it:0.003s) Data:0.006s (it:0.001s) Loss 5.5392e-01 : 100%|██████████| 144/144 [00:01<00:00, 99.57it/s] \n",
      "Train 80: Time 0.015s (it:0.016s) Data:0.008s (it:0.009s) Loss 5.3022e-01 : 100%|██████████| 431/431 [00:06<00:00, 68.82it/s]\n",
      "Evaluate 80: Time 0.012s (it:0.004s) Data:0.008s (it:0.001s) Loss 5.5391e-01 : 100%|██████████| 144/144 [00:01<00:00, 84.24it/s]\n",
      "Train 81: Time 0.015s (it:0.011s) Data:0.008s (it:0.007s) Loss 5.3022e-01 : 100%|██████████| 431/431 [00:06<00:00, 68.30it/s]\n",
      "Evaluate 81: Time 0.011s (it:0.003s) Data:0.007s (it:0.001s) Loss 5.5393e-01 : 100%|██████████| 144/144 [00:01<00:00, 91.78it/s]\n",
      "Test (cls): Time 0.011s (it:0.003s) Data:0.007s (it:0.001s) : 100%|██████████| 144/144 [00:01<00:00, 94.31it/s]\n",
      "2022-12-08 02:36:53,697 [MainThread  ] [INFO ]  Validation performance at epoch 81 -> 0.4007381596521317\n"
     ]
    },
    {
     "name": "stdout",
     "output_type": "stream",
     "text": [
      "0.4007381596521317 [0.5869588843330208, 0.46592657394363585, 0.48080154308682976, 0.6139657941951607, 0.2058817949486755, 0.2699290907484773, 0.2821978877243011, 0.4125212948759273, 0.6179485698245216, 0.5567101751512019, 0.4048546274077328, 0.2756552955253124, 0.41312187011769813, 0.7056966466903861, 0.4381324815004813, 0.01437517114232254, 0.0678710128705541]\n"
     ]
    },
    {
     "name": "stderr",
     "output_type": "stream",
     "text": [
      "Train 82: Time 0.015s (it:0.012s) Data:0.008s (it:0.007s) Loss 5.3043e-01 : 100%|██████████| 431/431 [00:06<00:00, 68.30it/s]\n",
      "Evaluate 82: Time 0.011s (it:0.004s) Data:0.007s (it:0.002s) Loss 5.5392e-01 : 100%|██████████| 144/144 [00:01<00:00, 91.58it/s]\n",
      "Train 83: Time 0.014s (it:0.013s) Data:0.007s (it:0.007s) Loss 5.3017e-01 : 100%|██████████| 431/431 [00:05<00:00, 72.40it/s]\n",
      "Evaluate 83: Time 0.011s (it:0.002s) Data:0.007s (it:0.001s) Loss 5.5392e-01 : 100%|██████████| 144/144 [00:01<00:00, 87.05it/s]\n",
      "Train 84: Time 0.014s (it:0.013s) Data:0.007s (it:0.008s) Loss 5.3034e-01 : 100%|██████████| 431/431 [00:05<00:00, 73.06it/s]\n",
      "Evaluate 84: Time 0.011s (it:0.003s) Data:0.007s (it:0.002s) Loss 5.5392e-01 : 100%|██████████| 144/144 [00:01<00:00, 91.26it/s]\n",
      "Train 85: Time 0.014s (it:0.012s) Data:0.007s (it:0.008s) Loss 5.3034e-01 : 100%|██████████| 431/431 [00:05<00:00, 72.35it/s]\n",
      "Evaluate 85: Time 0.011s (it:0.005s) Data:0.007s (it:0.001s) Loss 5.5393e-01 : 100%|██████████| 144/144 [00:01<00:00, 89.70it/s]\n",
      "Train 86: Time 0.013s (it:0.011s) Data:0.007s (it:0.007s) Loss 5.3028e-01 : 100%|██████████| 431/431 [00:05<00:00, 75.13it/s]\n",
      "Evaluate 86: Time 0.010s (it:0.003s) Data:0.006s (it:0.001s) Loss 5.5392e-01 : 100%|██████████| 144/144 [00:01<00:00, 97.73it/s]\n",
      "Train 87: Time 0.013s (it:0.012s) Data:0.007s (it:0.007s) Loss 5.3028e-01 : 100%|██████████| 431/431 [00:05<00:00, 76.33it/s]\n",
      "Evaluate 87: Time 0.010s (it:0.004s) Data:0.006s (it:0.002s) Loss 5.5394e-01 : 100%|██████████| 144/144 [00:01<00:00, 96.96it/s]\n",
      "Train 88: Time 0.013s (it:0.012s) Data:0.006s (it:0.007s) Loss 5.3006e-01 : 100%|██████████| 431/431 [00:05<00:00, 77.72it/s]\n",
      "Evaluate 88: Time 0.010s (it:0.004s) Data:0.006s (it:0.002s) Loss 5.5393e-01 : 100%|██████████| 144/144 [00:01<00:00, 95.59it/s]\n",
      "Train 89: Time 0.013s (it:0.012s) Data:0.007s (it:0.007s) Loss 5.3007e-01 : 100%|██████████| 431/431 [00:05<00:00, 76.33it/s]\n",
      "Evaluate 89: Time 0.010s (it:0.003s) Data:0.006s (it:0.002s) Loss 5.5394e-01 : 100%|██████████| 144/144 [00:01<00:00, 97.41it/s]\n",
      "2022-12-08 02:37:52,788 [MainThread  ] [INFO ]  Plateau Reached!\n"
     ]
    },
    {
     "name": "stdout",
     "output_type": "stream",
     "text": [
      "Epoch 00089: reducing learning rate of group 0 to 1.0000e-07.\n"
     ]
    },
    {
     "name": "stderr",
     "output_type": "stream",
     "text": [
      "Train 90: Time 0.012s (it:0.012s) Data:0.006s (it:0.007s) Loss 5.3033e-01 : 100%|██████████| 431/431 [00:05<00:00, 80.34it/s]\n",
      "Evaluate 90: Time 0.010s (it:0.003s) Data:0.006s (it:0.002s) Loss 5.5394e-01 : 100%|██████████| 144/144 [00:01<00:00, 104.17it/s]\n",
      "Train 91: Time 0.012s (it:0.013s) Data:0.006s (it:0.006s) Loss 5.3031e-01 : 100%|██████████| 431/431 [00:05<00:00, 81.43it/s]\n",
      "Evaluate 91: Time 0.010s (it:0.003s) Data:0.006s (it:0.001s) Loss 5.5394e-01 : 100%|██████████| 144/144 [00:01<00:00, 104.15it/s]\n",
      "Test (cls): Time 0.009s (it:0.002s) Data:0.006s (it:0.001s) : 100%|██████████| 144/144 [00:01<00:00, 106.26it/s]\n",
      "2022-12-08 02:38:07,720 [MainThread  ] [INFO ]  Validation performance at epoch 91 -> 0.40073534605525957\n"
     ]
    },
    {
     "name": "stdout",
     "output_type": "stream",
     "text": [
      "0.40073534605525957 [0.5869573698504706, 0.46592813029863833, 0.48077973378549, 0.6139730639558069, 0.20587832767586384, 0.26992777417656694, 0.28217428665824423, 0.41251339649048646, 0.617954649214006, 0.5567125730056556, 0.40485405195615726, 0.27563377037202724, 0.4131125022965114, 0.7057032737464808, 0.43811299723430985, 0.01439372484845443, 0.06789125737424324]\n"
     ]
    },
    {
     "name": "stderr",
     "output_type": "stream",
     "text": [
      "Train 92: Time 0.012s (it:0.011s) Data:0.006s (it:0.007s) Loss 5.3018e-01 : 100%|██████████| 431/431 [00:05<00:00, 81.54it/s]\n",
      "Evaluate 92: Time 0.010s (it:0.003s) Data:0.006s (it:0.002s) Loss 5.5394e-01 : 100%|██████████| 144/144 [00:01<00:00, 103.48it/s]\n",
      "Train 93: Time 0.012s (it:0.011s) Data:0.006s (it:0.006s) Loss 5.3021e-01 : 100%|██████████| 431/431 [00:05<00:00, 81.59it/s]\n",
      "Evaluate 93: Time 0.010s (it:0.004s) Data:0.006s (it:0.002s) Loss 5.5394e-01 : 100%|██████████| 144/144 [00:01<00:00, 103.01it/s]\n",
      "Train 94: Time 0.012s (it:0.012s) Data:0.006s (it:0.007s) Loss 5.3030e-01 : 100%|██████████| 431/431 [00:05<00:00, 81.77it/s]\n",
      "Evaluate 94: Time 0.010s (it:0.003s) Data:0.006s (it:0.002s) Loss 5.5394e-01 : 100%|██████████| 144/144 [00:01<00:00, 103.97it/s]\n",
      "Train 95: Time 0.013s (it:0.012s) Data:0.006s (it:0.006s) Loss 5.3020e-01 : 100%|██████████| 431/431 [00:05<00:00, 79.95it/s]\n",
      "Evaluate 95: Time 0.010s (it:0.002s) Data:0.006s (it:0.001s) Loss 5.5394e-01 : 100%|██████████| 144/144 [00:01<00:00, 103.26it/s]\n",
      "Train 96: Time 0.012s (it:0.013s) Data:0.006s (it:0.006s) Loss 5.3026e-01 : 100%|██████████| 431/431 [00:05<00:00, 80.27it/s]\n",
      "Evaluate 96: Time 0.010s (it:0.004s) Data:0.006s (it:0.002s) Loss 5.5394e-01 : 100%|██████████| 144/144 [00:01<00:00, 101.37it/s]\n",
      "Train 97: Time 0.013s (it:0.011s) Data:0.006s (it:0.006s) Loss 5.3023e-01 : 100%|██████████| 431/431 [00:05<00:00, 78.31it/s]\n",
      "Evaluate 97: Time 0.009s (it:0.003s) Data:0.006s (it:0.002s) Loss 5.5394e-01 : 100%|██████████| 144/144 [00:01<00:00, 106.22it/s]\n",
      "Train 98: Time 0.012s (it:0.012s) Data:0.006s (it:0.006s) Loss 5.3010e-01 : 100%|██████████| 431/431 [00:05<00:00, 81.75it/s]\n",
      "Evaluate 98: Time 0.010s (it:0.003s) Data:0.006s (it:0.001s) Loss 5.5394e-01 : 100%|██████████| 144/144 [00:01<00:00, 102.47it/s]\n",
      "Train 99: Time 0.012s (it:0.011s) Data:0.006s (it:0.006s) Loss 5.3030e-01 : 100%|██████████| 431/431 [00:05<00:00, 81.75it/s]\n",
      "Evaluate 99: Time 0.009s (it:0.004s) Data:0.006s (it:0.002s) Loss 5.5394e-01 : 100%|██████████| 144/144 [00:01<00:00, 105.89it/s]\n",
      "Train 100: Time 0.012s (it:0.011s) Data:0.006s (it:0.007s) Loss 5.3003e-01 : 100%|██████████| 431/431 [00:05<00:00, 82.58it/s]\n",
      "Evaluate 100: Time 0.009s (it:0.003s) Data:0.006s (it:0.002s) Loss 5.5394e-01 : 100%|██████████| 144/144 [00:01<00:00, 106.30it/s]\n",
      "2022-12-08 02:39:08,094 [MainThread  ] [INFO ]  Plateau Reached!\n"
     ]
    },
    {
     "name": "stdout",
     "output_type": "stream",
     "text": [
      "Epoch 00100: reducing learning rate of group 0 to 1.0000e-08.\n"
     ]
    },
    {
     "name": "stderr",
     "output_type": "stream",
     "text": [
      "Train 101: Time 0.012s (it:0.011s) Data:0.006s (it:0.006s) Loss 5.3014e-01 : 100%|██████████| 431/431 [00:05<00:00, 84.42it/s]\n",
      "Evaluate 101: Time 0.009s (it:0.003s) Data:0.006s (it:0.001s) Loss 5.5394e-01 : 100%|██████████| 144/144 [00:01<00:00, 106.79it/s]\n",
      "Test (cls): Time 0.009s (it:0.003s) Data:0.006s (it:0.002s) : 100%|██████████| 144/144 [00:01<00:00, 108.67it/s]\n",
      "2022-12-08 02:39:16,032 [MainThread  ] [INFO ]  Validation performance at epoch 101 -> 0.40073625214880854\n"
     ]
    },
    {
     "name": "stdout",
     "output_type": "stream",
     "text": [
      "0.40073625214880854 [0.5869573698504705, 0.4659191114530519, 0.48078612842181057, 0.6139749933345192, 0.20588039152224238, 0.2699450875379583, 0.282171264341672, 0.41250935449180737, 0.6179539325440289, 0.5567147484694285, 0.4048524897960776, 0.2756368729676101, 0.41310931375891535, 0.7057036224435549, 0.4381141037419243, 0.014393733770621695, 0.06789376808405183]\n"
     ]
    },
    {
     "name": "stderr",
     "output_type": "stream",
     "text": [
      "Train 102: Time 0.012s (it:0.012s) Data:0.006s (it:0.006s) Loss 5.3021e-01 : 100%|██████████| 431/431 [00:05<00:00, 83.82it/s]\n",
      "Evaluate 102: Time 0.009s (it:0.003s) Data:0.006s (it:0.002s) Loss 5.5394e-01 : 100%|██████████| 144/144 [00:01<00:00, 107.39it/s]\n",
      "Train 103: Time 0.012s (it:0.011s) Data:0.006s (it:0.006s) Loss 5.3034e-01 : 100%|██████████| 431/431 [00:05<00:00, 81.75it/s]\n",
      "Evaluate 103: Time 0.009s (it:0.003s) Data:0.006s (it:0.002s) Loss 5.5394e-01 : 100%|██████████| 144/144 [00:01<00:00, 107.15it/s]\n",
      "Train 104: Time 0.012s (it:0.011s) Data:0.006s (it:0.007s) Loss 5.3020e-01 : 100%|██████████| 431/431 [00:05<00:00, 83.81it/s]\n",
      "Evaluate 104: Time 0.009s (it:0.003s) Data:0.006s (it:0.001s) Loss 5.5394e-01 : 100%|██████████| 144/144 [00:01<00:00, 107.68it/s]\n",
      "Train 105: Time 0.012s (it:0.014s) Data:0.006s (it:0.007s) Loss 5.3000e-01 : 100%|██████████| 431/431 [00:05<00:00, 80.26it/s]\n",
      "Evaluate 105: Time 0.009s (it:0.003s) Data:0.006s (it:0.002s) Loss 5.5394e-01 : 100%|██████████| 144/144 [00:01<00:00, 105.62it/s]\n",
      "Train 106: Time 0.012s (it:0.010s) Data:0.006s (it:0.006s) Loss 5.3022e-01 : 100%|██████████| 431/431 [00:05<00:00, 81.14it/s]\n",
      "Evaluate 106: Time 0.009s (it:0.003s) Data:0.006s (it:0.001s) Loss 5.5394e-01 : 100%|██████████| 144/144 [00:01<00:00, 106.67it/s]\n",
      "Train 107: Time 0.012s (it:0.011s) Data:0.006s (it:0.007s) Loss 5.3004e-01 : 100%|██████████| 431/431 [00:05<00:00, 80.36it/s]\n",
      "Evaluate 107: Time 0.009s (it:0.003s) Data:0.006s (it:0.001s) Loss 5.5394e-01 : 100%|██████████| 144/144 [00:01<00:00, 107.25it/s]\n",
      "Train 108: Time 0.012s (it:0.011s) Data:0.006s (it:0.006s) Loss 5.3022e-01 : 100%|██████████| 431/431 [00:05<00:00, 80.56it/s]\n",
      "Evaluate 108: Time 0.009s (it:0.003s) Data:0.006s (it:0.001s) Loss 5.5394e-01 : 100%|██████████| 144/144 [00:01<00:00, 106.10it/s]\n",
      "Train 109: Time 0.012s (it:0.011s) Data:0.006s (it:0.006s) Loss 5.3029e-01 : 100%|██████████| 431/431 [00:05<00:00, 80.86it/s]\n",
      "Evaluate 109: Time 0.009s (it:0.003s) Data:0.006s (it:0.001s) Loss 5.5394e-01 : 100%|██████████| 144/144 [00:01<00:00, 106.76it/s]\n",
      "Train 110: Time 0.012s (it:0.011s) Data:0.006s (it:0.006s) Loss 5.3030e-01 : 100%|██████████| 431/431 [00:05<00:00, 83.74it/s]\n",
      "Evaluate 110: Time 0.009s (it:0.003s) Data:0.006s (it:0.002s) Loss 5.5394e-01 : 100%|██████████| 144/144 [00:01<00:00, 106.50it/s]\n",
      "2022-12-08 02:40:15,639 [MainThread  ] [INFO ]  Plateau Reached and no more reduction -> Exiting Loop\n",
      "2022-12-08 02:40:16,338 [MainThread  ] [INFO ]  Checking/Download features and labels locally\n",
      "Test (spot.): Time 0.475s (it:0.455s) Data:0.321s (it:0.305s) : 100%|██████████| 100/100 [00:47<00:00,  2.10it/s]\n",
      "100%|██████████| 100/100 [00:02<00:00, 46.93it/s]\n",
      "100%|██████████| 12/12 [00:16<00:00,  1.34s/it]\n",
      "2022-12-08 02:41:23,932 [MainThread  ] [INFO ]  Best Performance at end of training \n",
      "2022-12-08 02:41:23,933 [MainThread  ] [INFO ]  a_mAP visibility all: 0.5137442445706775\n",
      "2022-12-08 02:41:23,934 [MainThread  ] [INFO ]  a_mAP visibility all per class: [0.7422228278909828, 0.5909506758582871, 0.7126515369598474, 0.7066671054987118, 0.36825297006023566, 0.3735436185820196, 0.39172447006741395, 0.5595911473960968, 0.6799342206318039, 0.6500381904284677, 0.6230380766609892, 0.43348483021509715, 0.5605516079593272, 0.795742611878072, 0.49858862181939084, 0.02657982994453124, 0.020089815850241947]\n",
      "2022-12-08 02:41:23,934 [MainThread  ] [INFO ]  a_mAP visibility visible: 0.5708435191712969\n",
      "2022-12-08 02:41:23,935 [MainThread  ] [INFO ]  a_mAP visibility visible per class: [0.8236925033524559, 0.683760400537539, 0.7225732081256697, 0.7800727403843347, 0.3994030851238492, 0.376504461485351, 0.3944638997648994, 0.6720304364367872, 0.686165705264511, 0.6782260552667908, 0.6280590658455594, 0.4008533978955626, 0.6538433921876492, 0.8065207525827547, 0.5466487206147828, 0.28516016789910426, 0.16636183314444633]\n",
      "2022-12-08 02:41:23,935 [MainThread  ] [INFO ]  a_mAP visibility unshown: 0.3554602557809358\n",
      "2022-12-08 02:41:23,936 [MainThread  ] [INFO ]  a_mAP visibility unshown per class: [0.0, 0.5487530418753627, 0.0, 0.2899678545634839, 0.13561414304690889, 0.035964912280701755, 0.2771714339379629, 0.4415198327993482, 0.6162071242110774, 0.5839591344794566, 0.37228275390737225, 0.48337169616819314, 0.027464608181851678, 0.7435178872319029, 0.06518890246854347, 0.0, 0.0]\n",
      "2022-12-08 02:41:23,937 [MainThread  ] [INFO ]  Total Execution Time is 886.4227418899536 seconds\n"
     ]
    }
   ],
   "source": [
    "%run $training_file_name\\\n",
    "    --SoccerNet_path=$resnet_features_path\\\n",
    "    --model_name=NetVLAD++_ResNETPCA512_FL\\\n",
    "    --features=ResNET_TF2_PCA512.npy --seed 3 --LR=1e-3\\\n",
    "    --split_test=\"test\"\\\n",
    "    --custom_feature_path=$vit_features_path\\\n",
    "    --loss_function=FL"
   ]
  },
  {
   "cell_type": "markdown",
   "metadata": {},
   "source": [
    "#### Experiment 12:  ResNETPCA512 + NetVladd + CB + FL Loss"
   ]
  },
  {
   "cell_type": "code",
   "execution_count": 1,
   "metadata": {},
   "outputs": [
    {
     "name": "stderr",
     "output_type": "stream",
     "text": [
      "2022-12-08 02:44:53,062 [MainThread  ] [INFO ]  Starting main function\n",
      "2022-12-08 02:44:53,063 [MainThread  ] [INFO ]  Parameters:\n",
      "2022-12-08 02:44:53,063 [MainThread  ] [INFO ]   SoccerNet_path : G:\\.shortcut-targets-by-id\\\\1H509_zeV7bta5BudwCznjP0EWrCa_LCJ\\\\deep_learning_alphas_final_project\\\\assets_pca\n",
      "2022-12-08 02:44:53,064 [MainThread  ] [INFO ]         features : ResNET_TF2_PCA512.npy\n",
      "2022-12-08 02:44:53,064 [MainThread  ] [INFO ]       max_epochs : 1000\n",
      "2022-12-08 02:44:53,065 [MainThread  ] [INFO ]     load_weights : None\n",
      "2022-12-08 02:44:53,065 [MainThread  ] [INFO ]       model_name : NetVLAD++_ResNETPCA512_CB+FL_run_1\n",
      "2022-12-08 02:44:53,066 [MainThread  ] [INFO ]        test_only : False\n",
      "2022-12-08 02:44:53,067 [MainThread  ] [INFO ]      split_train : ['train']\n",
      "2022-12-08 02:44:53,067 [MainThread  ] [INFO ]      split_valid : ['valid']\n",
      "2022-12-08 02:44:53,068 [MainThread  ] [INFO ]       split_test : ['test']\n",
      "2022-12-08 02:44:53,068 [MainThread  ] [INFO ]          version : 2\n",
      "2022-12-08 02:44:53,068 [MainThread  ] [INFO ]      feature_dim : None\n",
      "2022-12-08 02:44:53,069 [MainThread  ] [INFO ]  evaluation_frequency : 10\n",
      "2022-12-08 02:44:53,069 [MainThread  ] [INFO ]        framerate : 2\n",
      "2022-12-08 02:44:53,070 [MainThread  ] [INFO ]      window_size : 15\n",
      "2022-12-08 02:44:53,070 [MainThread  ] [INFO ]             pool : NetVLAD++\n",
      "2022-12-08 02:44:53,071 [MainThread  ] [INFO ]       vocab_size : 64\n",
      "2022-12-08 02:44:53,071 [MainThread  ] [INFO ]       NMS_window : 30\n",
      "2022-12-08 02:44:53,071 [MainThread  ] [INFO ]    NMS_threshold : 0.0\n",
      "2022-12-08 02:44:53,072 [MainThread  ] [INFO ]       batch_size : 256\n",
      "2022-12-08 02:44:53,072 [MainThread  ] [INFO ]               LR : 0.001\n",
      "2022-12-08 02:44:53,073 [MainThread  ] [INFO ]              LRe : 1e-06\n",
      "2022-12-08 02:44:53,073 [MainThread  ] [INFO ]         patience : 10\n",
      "2022-12-08 02:44:53,074 [MainThread  ] [INFO ]              GPU : 0\n",
      "2022-12-08 02:44:53,074 [MainThread  ] [INFO ]   max_num_worker : 1\n",
      "2022-12-08 02:44:53,075 [MainThread  ] [INFO ]             seed : 3\n",
      "2022-12-08 02:44:53,075 [MainThread  ] [INFO ]         loglevel : INFO\n",
      "2022-12-08 02:44:53,075 [MainThread  ] [INFO ]  custom_feature_path : C:\\\\Users\\\\91995\\\\OneDrive - Georgia Institute of Technology\\\\vit_features\n",
      "2022-12-08 02:44:53,076 [MainThread  ] [INFO ]    loss_function : CB+FL\n",
      "2022-12-08 02:44:53,078 [MainThread  ] [INFO ]  Checking/Download features and labels locally\n",
      "2022-12-08 02:44:54,598 [MainThread  ] [INFO ]  Pre-compute clips\n",
      "100%|██████████| 300/300 [00:29<00:00, 10.01it/s]\n",
      "2022-12-08 02:45:26,395 [MainThread  ] [INFO ]  Checking/Download features and labels locally\n",
      "2022-12-08 02:45:26,873 [MainThread  ] [INFO ]  Pre-compute clips\n",
      "100%|██████████| 100/100 [00:09<00:00, 10.06it/s]\n",
      "2022-12-08 02:45:37,406 [MainThread  ] [INFO ]  Checking/Download features and labels locally\n",
      "2022-12-08 02:45:37,874 [MainThread  ] [INFO ]  Pre-compute clips\n",
      "100%|██████████| 100/100 [00:08<00:00, 11.53it/s]\n",
      "2022-12-08 02:45:47,048 [MainThread  ] [INFO ]  Checking/Download features and labels locally\n"
     ]
    },
    {
     "name": "stdout",
     "output_type": "stream",
     "text": [
      "feature_dim found: 512\n"
     ]
    },
    {
     "name": "stderr",
     "output_type": "stream",
     "text": [
      "2022-12-08 02:45:49,466 [MainThread  ] [INFO ]  Model(\n",
      "  (pool_layer_before): NetVLAD()\n",
      "  (pool_layer_after): NetVLAD()\n",
      "  (fc): Linear(in_features=32768, out_features=18, bias=True)\n",
      "  (drop): Dropout(p=0.4, inplace=False)\n",
      "  (sigm): Sigmoid()\n",
      ")\n",
      "2022-12-08 02:45:49,467 [MainThread  ] [INFO ]  Total number of parameters: 655378\n",
      "C:\\Users\\91995\\Documents\\GT Coursework\\CS 7643 DL\\Project\\dl_7643_final_project_code\\src\\loss.py:38: UserWarning: To copy construct from a tensor, it is recommended to use sourceTensor.clone().detach() or sourceTensor.clone().detach().requires_grad_(True), rather than torch.tensor(sourceTensor).\n",
      "  self.weight = torch.tensor(weight).float()\n"
     ]
    },
    {
     "name": "stdout",
     "output_type": "stream",
     "text": [
      "beta = 0.9\n",
      "gamma = 1\n"
     ]
    },
    {
     "name": "stderr",
     "output_type": "stream",
     "text": [
      "2022-12-08 02:45:50,804 [MainThread  ] [INFO ]  start training\n",
      "Train 1: Time 0.014s (it:0.017s) Data:0.007s (it:0.007s) Loss 5.7233e-01 : 100%|██████████| 431/431 [00:05<00:00, 73.26it/s]\n",
      "Evaluate 1: Time 0.009s (it:0.002s) Data:0.006s (it:0.001s) Loss 5.5910e-01 : 100%|██████████| 144/144 [00:01<00:00, 106.61it/s]\n",
      "Train 2: Time 0.012s (it:0.011s) Data:0.006s (it:0.007s) Loss 5.5644e-01 : 100%|██████████| 431/431 [00:05<00:00, 81.32it/s]\n",
      "Evaluate 2: Time 0.009s (it:0.003s) Data:0.006s (it:0.001s) Loss 5.5340e-01 : 100%|██████████| 144/144 [00:01<00:00, 106.70it/s]\n",
      "Train 3: Time 0.012s (it:0.010s) Data:0.006s (it:0.006s) Loss 5.5044e-01 : 100%|██████████| 431/431 [00:05<00:00, 82.96it/s]\n",
      "Evaluate 3: Time 0.009s (it:0.003s) Data:0.006s (it:0.001s) Loss 5.4880e-01 : 100%|██████████| 144/144 [00:01<00:00, 106.76it/s]\n",
      "Train 4: Time 0.012s (it:0.011s) Data:0.006s (it:0.006s) Loss 5.4684e-01 : 100%|██████████| 431/431 [00:05<00:00, 82.21it/s]\n",
      "Evaluate 4: Time 0.009s (it:0.004s) Data:0.006s (it:0.002s) Loss 5.4490e-01 : 100%|██████████| 144/144 [00:01<00:00, 105.53it/s]\n",
      "Train 5: Time 0.012s (it:0.010s) Data:0.006s (it:0.006s) Loss 5.4452e-01 : 100%|██████████| 431/431 [00:05<00:00, 82.18it/s]\n",
      "Evaluate 5: Time 0.009s (it:0.003s) Data:0.006s (it:0.002s) Loss 5.4328e-01 : 100%|██████████| 144/144 [00:01<00:00, 106.11it/s]\n",
      "Train 6: Time 0.012s (it:0.012s) Data:0.006s (it:0.007s) Loss 5.4257e-01 : 100%|██████████| 431/431 [00:05<00:00, 82.69it/s]\n",
      "Evaluate 6: Time 0.009s (it:0.004s) Data:0.006s (it:0.002s) Loss 5.4210e-01 : 100%|██████████| 144/144 [00:01<00:00, 105.53it/s]\n",
      "Train 7: Time 0.012s (it:0.011s) Data:0.006s (it:0.006s) Loss 5.4097e-01 : 100%|██████████| 431/431 [00:05<00:00, 82.29it/s]\n",
      "Evaluate 7: Time 0.009s (it:0.003s) Data:0.006s (it:0.001s) Loss 5.4170e-01 : 100%|██████████| 144/144 [00:01<00:00, 105.81it/s]\n",
      "Train 8: Time 0.012s (it:0.010s) Data:0.006s (it:0.006s) Loss 5.3952e-01 : 100%|██████████| 431/431 [00:05<00:00, 82.48it/s]\n",
      "Evaluate 8: Time 0.010s (it:0.003s) Data:0.006s (it:0.001s) Loss 5.4154e-01 : 100%|██████████| 144/144 [00:01<00:00, 103.91it/s]\n",
      "Train 9: Time 0.012s (it:0.011s) Data:0.006s (it:0.006s) Loss 5.3837e-01 : 100%|██████████| 431/431 [00:05<00:00, 82.63it/s]\n",
      "Evaluate 9: Time 0.010s (it:0.003s) Data:0.006s (it:0.002s) Loss 5.3984e-01 : 100%|██████████| 144/144 [00:01<00:00, 104.35it/s]\n",
      "Train 10: Time 0.012s (it:0.010s) Data:0.006s (it:0.005s) Loss 5.3743e-01 : 100%|██████████| 431/431 [00:05<00:00, 82.26it/s]\n",
      "Evaluate 10: Time 0.010s (it:0.003s) Data:0.006s (it:0.002s) Loss 5.3905e-01 : 100%|██████████| 144/144 [00:01<00:00, 103.96it/s]\n",
      "Train 11: Time 0.012s (it:0.012s) Data:0.006s (it:0.006s) Loss 5.3636e-01 : 100%|██████████| 431/431 [00:05<00:00, 82.26it/s]\n",
      "Evaluate 11: Time 0.010s (it:0.003s) Data:0.006s (it:0.002s) Loss 5.4048e-01 : 100%|██████████| 144/144 [00:01<00:00, 104.15it/s]\n",
      "Test (cls): Time 0.010s (it:0.002s) Data:0.007s (it:0.001s) : 100%|██████████| 144/144 [00:01<00:00, 97.14it/s]\n",
      "2022-12-08 02:47:05,866 [MainThread  ] [INFO ]  Validation performance at epoch 11 -> 0.3521201488346906\n"
     ]
    },
    {
     "name": "stdout",
     "output_type": "stream",
     "text": [
      "0.3521201488346906 [0.4459919183849783, 0.3784416829053679, 0.42339713275907603, 0.575300201446292, 0.16519469852759394, 0.24644805261095515, 0.24114644862804735, 0.35399568573772416, 0.5811068564765309, 0.5176719360112181, 0.37952594597725675, 0.25490946112406376, 0.33971422051908334, 0.6405140683174287, 0.32714151732565344, 0.012904819256165049, 0.10263788418230582]\n"
     ]
    },
    {
     "name": "stderr",
     "output_type": "stream",
     "text": [
      "Train 12: Time 0.012s (it:0.010s) Data:0.006s (it:0.006s) Loss 5.3555e-01 : 100%|██████████| 431/431 [00:05<00:00, 84.72it/s]\n",
      "Evaluate 12: Time 0.009s (it:0.003s) Data:0.006s (it:0.001s) Loss 5.4040e-01 : 100%|██████████| 144/144 [00:01<00:00, 105.84it/s]\n",
      "Train 13: Time 0.012s (it:0.010s) Data:0.006s (it:0.005s) Loss 5.3471e-01 : 100%|██████████| 431/431 [00:05<00:00, 85.43it/s]\n",
      "Evaluate 13: Time 0.009s (it:0.003s) Data:0.006s (it:0.001s) Loss 5.4220e-01 : 100%|██████████| 144/144 [00:01<00:00, 106.45it/s]\n",
      "Train 14: Time 0.012s (it:0.011s) Data:0.006s (it:0.007s) Loss 5.3376e-01 : 100%|██████████| 431/431 [00:05<00:00, 85.05it/s]\n",
      "Evaluate 14: Time 0.009s (it:0.004s) Data:0.006s (it:0.002s) Loss 5.3704e-01 : 100%|██████████| 144/144 [00:01<00:00, 106.28it/s]\n",
      "Train 15: Time 0.012s (it:0.010s) Data:0.006s (it:0.006s) Loss 5.3341e-01 : 100%|██████████| 431/431 [00:05<00:00, 84.67it/s]\n",
      "Evaluate 15: Time 0.009s (it:0.004s) Data:0.006s (it:0.002s) Loss 5.4104e-01 : 100%|██████████| 144/144 [00:01<00:00, 106.50it/s]\n",
      "Train 16: Time 0.012s (it:0.010s) Data:0.006s (it:0.005s) Loss 5.3257e-01 : 100%|██████████| 431/431 [00:05<00:00, 85.12it/s]\n",
      "Evaluate 16: Time 0.009s (it:0.003s) Data:0.006s (it:0.002s) Loss 5.3696e-01 : 100%|██████████| 144/144 [00:01<00:00, 106.62it/s]\n",
      "Train 17: Time 0.013s (it:0.011s) Data:0.006s (it:0.007s) Loss 5.3175e-01 : 100%|██████████| 431/431 [00:05<00:00, 79.58it/s]\n",
      "Evaluate 17: Time 0.010s (it:0.003s) Data:0.006s (it:0.001s) Loss 5.3634e-01 : 100%|██████████| 144/144 [00:01<00:00, 103.88it/s]\n",
      "Train 18: Time 0.012s (it:0.010s) Data:0.006s (it:0.005s) Loss 5.3112e-01 : 100%|██████████| 431/431 [00:05<00:00, 81.01it/s]\n",
      "Evaluate 18: Time 0.010s (it:0.003s) Data:0.006s (it:0.001s) Loss 5.3635e-01 : 100%|██████████| 144/144 [00:01<00:00, 104.54it/s]\n",
      "Train 19: Time 0.013s (it:0.011s) Data:0.006s (it:0.007s) Loss 5.3066e-01 : 100%|██████████| 431/431 [00:05<00:00, 79.92it/s]\n",
      "Evaluate 19: Time 0.009s (it:0.004s) Data:0.006s (it:0.001s) Loss 5.3580e-01 : 100%|██████████| 144/144 [00:01<00:00, 105.28it/s]\n",
      "Train 20: Time 0.012s (it:0.012s) Data:0.006s (it:0.006s) Loss 5.3013e-01 : 100%|██████████| 431/431 [00:05<00:00, 80.26it/s]\n",
      "Evaluate 20: Time 0.009s (it:0.003s) Data:0.006s (it:0.001s) Loss 5.4200e-01 : 100%|██████████| 144/144 [00:01<00:00, 106.33it/s]\n",
      "Train 21: Time 0.012s (it:0.010s) Data:0.006s (it:0.007s) Loss 5.2958e-01 : 100%|██████████| 431/431 [00:05<00:00, 81.81it/s]\n",
      "Evaluate 21: Time 0.009s (it:0.004s) Data:0.006s (it:0.001s) Loss 5.3542e-01 : 100%|██████████| 144/144 [00:01<00:00, 106.72it/s]\n",
      "Test (cls): Time 0.009s (it:0.003s) Data:0.006s (it:0.002s) : 100%|██████████| 144/144 [00:01<00:00, 108.57it/s]\n",
      "2022-12-08 02:48:13,154 [MainThread  ] [INFO ]  Validation performance at epoch 21 -> 0.37137523450762444\n"
     ]
    },
    {
     "name": "stdout",
     "output_type": "stream",
     "text": [
      "0.37137523450762444 [0.4979662677930224, 0.41350598083608314, 0.45315459319786106, 0.5915554770211356, 0.185788847057129, 0.25902525245157737, 0.2574713215480628, 0.379794751636201, 0.5975393629451093, 0.53306258516657, 0.3897194085200147, 0.2643049888878414, 0.37797781517276, 0.6689825174849482, 0.3696716115034384, 0.014141395094342807, 0.0597168103135184]\n"
     ]
    },
    {
     "name": "stderr",
     "output_type": "stream",
     "text": [
      "Train 22: Time 0.012s (it:0.010s) Data:0.006s (it:0.006s) Loss 5.2890e-01 : 100%|██████████| 431/431 [00:05<00:00, 83.65it/s]\n",
      "Evaluate 22: Time 0.009s (it:0.003s) Data:0.006s (it:0.002s) Loss 5.3601e-01 : 100%|██████████| 144/144 [00:01<00:00, 106.14it/s]\n",
      "Train 23: Time 0.012s (it:0.010s) Data:0.006s (it:0.006s) Loss 5.2845e-01 : 100%|██████████| 431/431 [00:05<00:00, 84.11it/s]\n",
      "Evaluate 23: Time 0.009s (it:0.004s) Data:0.006s (it:0.002s) Loss 5.3514e-01 : 100%|██████████| 144/144 [00:01<00:00, 106.66it/s]\n",
      "Train 24: Time 0.012s (it:0.011s) Data:0.006s (it:0.006s) Loss 5.2798e-01 : 100%|██████████| 431/431 [00:05<00:00, 83.25it/s]\n",
      "Evaluate 24: Time 0.009s (it:0.003s) Data:0.006s (it:0.001s) Loss 5.3508e-01 : 100%|██████████| 144/144 [00:01<00:00, 106.35it/s]\n",
      "Train 25: Time 0.012s (it:0.011s) Data:0.006s (it:0.007s) Loss 5.2741e-01 : 100%|██████████| 431/431 [00:05<00:00, 83.30it/s]\n",
      "Evaluate 25: Time 0.009s (it:0.003s) Data:0.006s (it:0.001s) Loss 5.3510e-01 : 100%|██████████| 144/144 [00:01<00:00, 105.84it/s]\n",
      "Train 26: Time 0.012s (it:0.010s) Data:0.006s (it:0.006s) Loss 5.2678e-01 : 100%|██████████| 431/431 [00:05<00:00, 82.26it/s]\n",
      "Evaluate 26: Time 0.009s (it:0.003s) Data:0.006s (it:0.001s) Loss 5.3577e-01 : 100%|██████████| 144/144 [00:01<00:00, 105.96it/s]\n",
      "Train 27: Time 0.012s (it:0.011s) Data:0.006s (it:0.006s) Loss 5.2639e-01 : 100%|██████████| 431/431 [00:05<00:00, 83.03it/s]\n",
      "Evaluate 27: Time 0.009s (it:0.004s) Data:0.006s (it:0.002s) Loss 5.3464e-01 : 100%|██████████| 144/144 [00:01<00:00, 106.27it/s]\n",
      "Train 28: Time 0.012s (it:0.010s) Data:0.006s (it:0.006s) Loss 5.2580e-01 : 100%|██████████| 431/431 [00:05<00:00, 82.44it/s]\n",
      "Evaluate 28: Time 0.009s (it:0.003s) Data:0.006s (it:0.002s) Loss 5.3752e-01 : 100%|██████████| 144/144 [00:01<00:00, 106.03it/s]\n",
      "Train 29: Time 0.012s (it:0.012s) Data:0.006s (it:0.006s) Loss 5.2538e-01 : 100%|██████████| 431/431 [00:05<00:00, 82.40it/s]\n",
      "Evaluate 29: Time 0.009s (it:0.004s) Data:0.006s (it:0.002s) Loss 5.3653e-01 : 100%|██████████| 144/144 [00:01<00:00, 106.47it/s]\n",
      "Train 30: Time 0.012s (it:0.010s) Data:0.006s (it:0.006s) Loss 5.2518e-01 : 100%|██████████| 431/431 [00:05<00:00, 83.39it/s]\n",
      "Evaluate 30: Time 0.009s (it:0.003s) Data:0.006s (it:0.002s) Loss 5.3347e-01 : 100%|██████████| 144/144 [00:01<00:00, 105.94it/s]\n",
      "Train 31: Time 0.012s (it:0.010s) Data:0.006s (it:0.006s) Loss 5.2418e-01 : 100%|██████████| 431/431 [00:05<00:00, 82.64it/s]\n",
      "Evaluate 31: Time 0.009s (it:0.004s) Data:0.006s (it:0.002s) Loss 5.3562e-01 : 100%|██████████| 144/144 [00:01<00:00, 106.90it/s]\n",
      "Test (cls): Time 0.009s (it:0.002s) Data:0.006s (it:0.001s) : 100%|██████████| 144/144 [00:01<00:00, 108.16it/s]\n",
      "2022-12-08 02:49:20,174 [MainThread  ] [INFO ]  Validation performance at epoch 31 -> 0.3842177775584863\n"
     ]
    },
    {
     "name": "stdout",
     "output_type": "stream",
     "text": [
      "0.3842177775584863 [0.5411771744284771, 0.4319438110137197, 0.46583031867395747, 0.5989511611415512, 0.19742503490786406, 0.26452411306797113, 0.27033535860610025, 0.3950285958766354, 0.6062468381337178, 0.542924826593395, 0.3960356297851959, 0.2694921884900692, 0.39324735104546465, 0.6853333004469674, 0.39834642976303863, 0.014922332176542624, 0.0599377543436004]\n"
     ]
    },
    {
     "name": "stderr",
     "output_type": "stream",
     "text": [
      "Train 32: Time 0.012s (it:0.010s) Data:0.006s (it:0.006s) Loss 5.2404e-01 : 100%|██████████| 431/431 [00:05<00:00, 82.81it/s]\n",
      "Evaluate 32: Time 0.009s (it:0.003s) Data:0.006s (it:0.001s) Loss 5.3579e-01 : 100%|██████████| 144/144 [00:01<00:00, 106.82it/s]\n",
      "Train 33: Time 0.012s (it:0.011s) Data:0.006s (it:0.007s) Loss 5.2392e-01 : 100%|██████████| 431/431 [00:05<00:00, 82.38it/s]\n",
      "Evaluate 33: Time 0.009s (it:0.002s) Data:0.006s (it:0.001s) Loss 5.3377e-01 : 100%|██████████| 144/144 [00:01<00:00, 106.40it/s]\n",
      "Train 34: Time 0.012s (it:0.011s) Data:0.006s (it:0.007s) Loss 5.2300e-01 : 100%|██████████| 431/431 [00:05<00:00, 83.25it/s]\n",
      "Evaluate 34: Time 0.009s (it:0.004s) Data:0.006s (it:0.002s) Loss 5.3402e-01 : 100%|██████████| 144/144 [00:01<00:00, 106.23it/s]\n",
      "Train 35: Time 0.012s (it:0.011s) Data:0.006s (it:0.006s) Loss 5.2289e-01 : 100%|██████████| 431/431 [00:05<00:00, 83.47it/s]\n",
      "Evaluate 35: Time 0.009s (it:0.003s) Data:0.006s (it:0.002s) Loss 5.3333e-01 : 100%|██████████| 144/144 [00:01<00:00, 107.13it/s]\n",
      "Train 36: Time 0.012s (it:0.010s) Data:0.006s (it:0.005s) Loss 5.2247e-01 : 100%|██████████| 431/431 [00:05<00:00, 82.55it/s]\n",
      "Evaluate 36: Time 0.009s (it:0.003s) Data:0.006s (it:0.001s) Loss 5.3586e-01 : 100%|██████████| 144/144 [00:01<00:00, 107.01it/s]\n",
      "Train 37: Time 0.012s (it:0.011s) Data:0.006s (it:0.007s) Loss 5.2196e-01 : 100%|██████████| 431/431 [00:05<00:00, 82.92it/s]\n",
      "Evaluate 37: Time 0.009s (it:0.003s) Data:0.006s (it:0.002s) Loss 5.3358e-01 : 100%|██████████| 144/144 [00:01<00:00, 107.53it/s]\n",
      "Train 38: Time 0.012s (it:0.011s) Data:0.006s (it:0.006s) Loss 5.2119e-01 : 100%|██████████| 431/431 [00:05<00:00, 83.19it/s]\n",
      "Evaluate 38: Time 0.009s (it:0.003s) Data:0.006s (it:0.001s) Loss 5.3378e-01 : 100%|██████████| 144/144 [00:01<00:00, 106.92it/s]\n",
      "Train 39: Time 0.012s (it:0.011s) Data:0.006s (it:0.007s) Loss 5.2122e-01 : 100%|██████████| 431/431 [00:05<00:00, 83.57it/s]\n",
      "Evaluate 39: Time 0.009s (it:0.003s) Data:0.006s (it:0.001s) Loss 5.3509e-01 : 100%|██████████| 144/144 [00:01<00:00, 106.64it/s]\n",
      "Train 40: Time 0.012s (it:0.010s) Data:0.006s (it:0.006s) Loss 5.2077e-01 : 100%|██████████| 431/431 [00:05<00:00, 83.49it/s]\n",
      "Evaluate 40: Time 0.009s (it:0.003s) Data:0.006s (it:0.001s) Loss 5.3388e-01 : 100%|██████████| 144/144 [00:01<00:00, 106.65it/s]\n",
      "Train 41: Time 0.012s (it:0.011s) Data:0.006s (it:0.006s) Loss 5.2053e-01 : 100%|██████████| 431/431 [00:05<00:00, 83.59it/s]\n",
      "Evaluate 41: Time 0.009s (it:0.004s) Data:0.006s (it:0.002s) Loss 5.3484e-01 : 100%|██████████| 144/144 [00:01<00:00, 106.01it/s]\n",
      "Test (cls): Time 0.009s (it:0.002s) Data:0.006s (it:0.001s) : 100%|██████████| 144/144 [00:01<00:00, 109.24it/s]\n",
      "2022-12-08 02:50:27,036 [MainThread  ] [INFO ]  Validation performance at epoch 41 -> 0.39284727884880327\n"
     ]
    },
    {
     "name": "stdout",
     "output_type": "stream",
     "text": [
      "0.39284727884880327 [0.5742721887832777, 0.4485298838481116, 0.4733485888576, 0.6063082551257241, 0.20236896848607258, 0.26606980605310826, 0.2764253088219312, 0.40388283666591257, 0.6127805190472873, 0.5498346939013258, 0.40170294877797863, 0.27462344449854664, 0.4047028077969941, 0.6950491422372354, 0.41824156807206164, 0.015061596147460582, 0.05520118330902742]\n"
     ]
    },
    {
     "name": "stderr",
     "output_type": "stream",
     "text": [
      "Train 42: Time 0.012s (it:0.010s) Data:0.006s (it:0.006s) Loss 5.2004e-01 : 100%|██████████| 431/431 [00:05<00:00, 83.59it/s]\n",
      "Evaluate 42: Time 0.009s (it:0.003s) Data:0.006s (it:0.001s) Loss 5.3604e-01 : 100%|██████████| 144/144 [00:01<00:00, 107.03it/s]\n",
      "Train 43: Time 0.012s (it:0.011s) Data:0.006s (it:0.006s) Loss 5.1952e-01 : 100%|██████████| 431/431 [00:05<00:00, 84.02it/s]\n",
      "Evaluate 43: Time 0.009s (it:0.002s) Data:0.006s (it:0.000s) Loss 5.3331e-01 : 100%|██████████| 144/144 [00:01<00:00, 107.28it/s]\n",
      "Train 44: Time 0.012s (it:0.011s) Data:0.006s (it:0.007s) Loss 5.1953e-01 : 100%|██████████| 431/431 [00:05<00:00, 83.21it/s]\n",
      "Evaluate 44: Time 0.009s (it:0.003s) Data:0.006s (it:0.001s) Loss 5.3258e-01 : 100%|██████████| 144/144 [00:01<00:00, 106.06it/s]\n",
      "Train 45: Time 0.012s (it:0.012s) Data:0.006s (it:0.006s) Loss 5.1844e-01 : 100%|██████████| 431/431 [00:05<00:00, 83.00it/s]\n",
      "Evaluate 45: Time 0.009s (it:0.004s) Data:0.006s (it:0.002s) Loss 5.3408e-01 : 100%|██████████| 144/144 [00:01<00:00, 106.31it/s]\n",
      "Train 46: Time 0.012s (it:0.011s) Data:0.006s (it:0.007s) Loss 5.1803e-01 : 100%|██████████| 431/431 [00:05<00:00, 83.90it/s]\n",
      "Evaluate 46: Time 0.009s (it:0.004s) Data:0.006s (it:0.002s) Loss 5.3390e-01 : 100%|██████████| 144/144 [00:01<00:00, 107.01it/s]\n",
      "Train 47: Time 0.012s (it:0.011s) Data:0.006s (it:0.006s) Loss 5.1806e-01 : 100%|██████████| 431/431 [00:05<00:00, 83.60it/s]\n",
      "Evaluate 47: Time 0.010s (it:0.003s) Data:0.006s (it:0.001s) Loss 5.3300e-01 : 100%|██████████| 144/144 [00:01<00:00, 98.72it/s] \n",
      "Train 48: Time 0.014s (it:0.012s) Data:0.007s (it:0.007s) Loss 5.1789e-01 : 100%|██████████| 431/431 [00:05<00:00, 72.47it/s]\n",
      "Evaluate 48: Time 0.011s (it:0.003s) Data:0.006s (it:0.001s) Loss 5.3455e-01 : 100%|██████████| 144/144 [00:01<00:00, 94.61it/s]\n",
      "Train 49: Time 0.013s (it:0.011s) Data:0.006s (it:0.007s) Loss 5.1743e-01 : 100%|██████████| 431/431 [00:05<00:00, 77.81it/s]\n",
      "Evaluate 49: Time 0.010s (it:0.003s) Data:0.006s (it:0.002s) Loss 5.3445e-01 : 100%|██████████| 144/144 [00:01<00:00, 102.07it/s]\n",
      "Train 50: Time 0.012s (it:0.011s) Data:0.006s (it:0.006s) Loss 5.1694e-01 : 100%|██████████| 431/431 [00:05<00:00, 80.29it/s]\n",
      "Evaluate 50: Time 0.010s (it:0.003s) Data:0.006s (it:0.002s) Loss 5.3341e-01 : 100%|██████████| 144/144 [00:01<00:00, 101.57it/s]\n",
      "Train 51: Time 0.012s (it:0.012s) Data:0.006s (it:0.007s) Loss 5.1674e-01 : 100%|██████████| 431/431 [00:05<00:00, 80.12it/s]\n",
      "Evaluate 51: Time 0.010s (it:0.003s) Data:0.006s (it:0.002s) Loss 5.3376e-01 : 100%|██████████| 144/144 [00:01<00:00, 101.90it/s]\n",
      "Test (cls): Time 0.011s (it:0.003s) Data:0.007s (it:0.002s) : 100%|██████████| 144/144 [00:01<00:00, 92.49it/s]\n",
      "2022-12-08 02:51:35,953 [MainThread  ] [INFO ]  Validation performance at epoch 51 -> 0.39761229466580206\n"
     ]
    },
    {
     "name": "stdout",
     "output_type": "stream",
     "text": [
      "0.39761229466580206 [0.5839676533392425, 0.4584400902218885, 0.4778236910092347, 0.6110256114948079, 0.20530597590327798, 0.26454339391265674, 0.27947925712708754, 0.41051647213161163, 0.615522821864114, 0.5540620281597761, 0.40452777713780846, 0.2751890155408677, 0.407525108038939, 0.702354321771913, 0.42931128286183384, 0.014234938467206554, 0.06557957033636896]\n"
     ]
    },
    {
     "name": "stderr",
     "output_type": "stream",
     "text": [
      "Train 52: Time 0.012s (it:0.011s) Data:0.006s (it:0.006s) Loss 5.1664e-01 : 100%|██████████| 431/431 [00:05<00:00, 82.52it/s]\n",
      "Evaluate 52: Time 0.010s (it:0.003s) Data:0.006s (it:0.001s) Loss 5.3281e-01 : 100%|██████████| 144/144 [00:01<00:00, 105.16it/s]\n",
      "Train 53: Time 0.012s (it:0.014s) Data:0.006s (it:0.007s) Loss 5.1571e-01 : 100%|██████████| 431/431 [00:05<00:00, 80.93it/s]\n",
      "Evaluate 53: Time 0.009s (it:0.004s) Data:0.006s (it:0.002s) Loss 5.3667e-01 : 100%|██████████| 144/144 [00:01<00:00, 106.02it/s]\n",
      "Train 54: Time 0.012s (it:0.011s) Data:0.006s (it:0.006s) Loss 5.1558e-01 : 100%|██████████| 431/431 [00:05<00:00, 80.20it/s]\n",
      "Evaluate 54: Time 0.009s (it:0.003s) Data:0.006s (it:0.002s) Loss 5.3351e-01 : 100%|██████████| 144/144 [00:01<00:00, 105.66it/s]\n",
      "Train 55: Time 0.012s (it:0.011s) Data:0.006s (it:0.006s) Loss 5.1534e-01 : 100%|██████████| 431/431 [00:05<00:00, 80.81it/s]\n",
      "Evaluate 55: Time 0.010s (it:0.003s) Data:0.006s (it:0.002s) Loss 5.3615e-01 : 100%|██████████| 144/144 [00:01<00:00, 104.67it/s]\n",
      "2022-12-08 02:52:02,694 [MainThread  ] [INFO ]  Plateau Reached!\n"
     ]
    },
    {
     "name": "stdout",
     "output_type": "stream",
     "text": [
      "Epoch 00055: reducing learning rate of group 0 to 1.0000e-04.\n"
     ]
    },
    {
     "name": "stderr",
     "output_type": "stream",
     "text": [
      "Train 56: Time 0.012s (it:0.011s) Data:0.006s (it:0.006s) Loss 5.1214e-01 : 100%|██████████| 431/431 [00:05<00:00, 81.72it/s]\n",
      "Evaluate 56: Time 0.009s (it:0.004s) Data:0.006s (it:0.002s) Loss 5.3205e-01 : 100%|██████████| 144/144 [00:01<00:00, 106.04it/s]\n",
      "Train 57: Time 0.012s (it:0.011s) Data:0.006s (it:0.006s) Loss 5.1175e-01 : 100%|██████████| 431/431 [00:05<00:00, 83.26it/s]\n",
      "Evaluate 57: Time 0.010s (it:0.003s) Data:0.006s (it:0.001s) Loss 5.3253e-01 : 100%|██████████| 144/144 [00:01<00:00, 104.48it/s]\n",
      "Train 58: Time 0.012s (it:0.011s) Data:0.006s (it:0.007s) Loss 5.1174e-01 : 100%|██████████| 431/431 [00:05<00:00, 83.33it/s]\n",
      "Evaluate 58: Time 0.010s (it:0.003s) Data:0.006s (it:0.001s) Loss 5.3226e-01 : 100%|██████████| 144/144 [00:01<00:00, 104.55it/s]\n",
      "Train 59: Time 0.012s (it:0.011s) Data:0.006s (it:0.007s) Loss 5.1161e-01 : 100%|██████████| 431/431 [00:05<00:00, 83.84it/s]\n",
      "Evaluate 59: Time 0.010s (it:0.002s) Data:0.006s (it:0.001s) Loss 5.3231e-01 : 100%|██████████| 144/144 [00:01<00:00, 104.62it/s]\n",
      "Train 60: Time 0.012s (it:0.010s) Data:0.006s (it:0.006s) Loss 5.1154e-01 : 100%|██████████| 431/431 [00:05<00:00, 83.40it/s]\n",
      "Evaluate 60: Time 0.010s (it:0.003s) Data:0.006s (it:0.001s) Loss 5.3233e-01 : 100%|██████████| 144/144 [00:01<00:00, 104.70it/s]\n",
      "Train 61: Time 0.012s (it:0.012s) Data:0.006s (it:0.007s) Loss 5.1148e-01 : 100%|██████████| 431/431 [00:05<00:00, 82.80it/s]\n",
      "Evaluate 61: Time 0.010s (it:0.004s) Data:0.006s (it:0.002s) Loss 5.3285e-01 : 100%|██████████| 144/144 [00:01<00:00, 103.84it/s]\n",
      "Test (cls): Time 0.009s (it:0.003s) Data:0.006s (it:0.002s) : 100%|██████████| 144/144 [00:01<00:00, 107.24it/s]\n",
      "2022-12-08 02:52:43,603 [MainThread  ] [INFO ]  Validation performance at epoch 61 -> 0.40063209325968974\n"
     ]
    },
    {
     "name": "stdout",
     "output_type": "stream",
     "text": [
      "0.40063209325968974 [0.5895279624382168, 0.4647002387327792, 0.4795616003350837, 0.6132165258100312, 0.2060098261421128, 0.2691641333349323, 0.2825730377840934, 0.41231661535311437, 0.6176875370335848, 0.556612991347589, 0.4050801664904438, 0.2764468683434831, 0.4127837549242519, 0.7052375897335946, 0.43692811359265105, 0.014698752426651463, 0.06819987159211255]\n"
     ]
    },
    {
     "name": "stderr",
     "output_type": "stream",
     "text": [
      "Train 62: Time 0.012s (it:0.013s) Data:0.006s (it:0.006s) Loss 5.1125e-01 : 100%|██████████| 431/431 [00:05<00:00, 83.10it/s]\n",
      "Evaluate 62: Time 0.009s (it:0.004s) Data:0.006s (it:0.003s) Loss 5.3276e-01 : 100%|██████████| 144/144 [00:01<00:00, 105.38it/s]\n",
      "Train 63: Time 0.012s (it:0.010s) Data:0.006s (it:0.006s) Loss 5.1097e-01 : 100%|██████████| 431/431 [00:05<00:00, 82.97it/s]\n",
      "Evaluate 63: Time 0.009s (it:0.003s) Data:0.006s (it:0.001s) Loss 5.3329e-01 : 100%|██████████| 144/144 [00:01<00:00, 105.59it/s]\n",
      "Train 64: Time 0.012s (it:0.012s) Data:0.006s (it:0.006s) Loss 5.1090e-01 : 100%|██████████| 431/431 [00:05<00:00, 83.35it/s]\n",
      "Evaluate 64: Time 0.010s (it:0.004s) Data:0.006s (it:0.002s) Loss 5.3295e-01 : 100%|██████████| 144/144 [00:01<00:00, 104.61it/s]\n",
      "Train 65: Time 0.012s (it:0.012s) Data:0.006s (it:0.005s) Loss 5.1081e-01 : 100%|██████████| 431/431 [00:05<00:00, 82.96it/s]\n",
      "Evaluate 65: Time 0.009s (it:0.003s) Data:0.006s (it:0.002s) Loss 5.3289e-01 : 100%|██████████| 144/144 [00:01<00:00, 105.35it/s]\n",
      "Train 66: Time 0.012s (it:0.010s) Data:0.006s (it:0.006s) Loss 5.1091e-01 : 100%|██████████| 431/431 [00:05<00:00, 82.23it/s]\n",
      "Evaluate 66: Time 0.009s (it:0.004s) Data:0.006s (it:0.002s) Loss 5.3271e-01 : 100%|██████████| 144/144 [00:01<00:00, 105.98it/s]\n",
      "Train 67: Time 0.012s (it:0.010s) Data:0.006s (it:0.006s) Loss 5.1073e-01 : 100%|██████████| 431/431 [00:05<00:00, 82.94it/s]\n",
      "Evaluate 67: Time 0.009s (it:0.004s) Data:0.006s (it:0.002s) Loss 5.3293e-01 : 100%|██████████| 144/144 [00:01<00:00, 106.66it/s]\n",
      "2022-12-08 02:53:22,995 [MainThread  ] [INFO ]  Plateau Reached!\n"
     ]
    },
    {
     "name": "stdout",
     "output_type": "stream",
     "text": [
      "Epoch 00067: reducing learning rate of group 0 to 1.0000e-05.\n"
     ]
    },
    {
     "name": "stderr",
     "output_type": "stream",
     "text": [
      "Train 68: Time 0.012s (it:0.012s) Data:0.006s (it:0.007s) Loss 5.1035e-01 : 100%|██████████| 431/431 [00:05<00:00, 82.90it/s]\n",
      "Evaluate 68: Time 0.009s (it:0.003s) Data:0.006s (it:0.001s) Loss 5.3286e-01 : 100%|██████████| 144/144 [00:01<00:00, 106.39it/s]\n",
      "Train 69: Time 0.012s (it:0.011s) Data:0.006s (it:0.007s) Loss 5.1036e-01 : 100%|██████████| 431/431 [00:05<00:00, 82.59it/s]\n",
      "Evaluate 69: Time 0.009s (it:0.003s) Data:0.006s (it:0.002s) Loss 5.3296e-01 : 100%|██████████| 144/144 [00:01<00:00, 106.56it/s]\n",
      "Train 70: Time 0.012s (it:0.010s) Data:0.006s (it:0.006s) Loss 5.1016e-01 : 100%|██████████| 431/431 [00:05<00:00, 82.82it/s]\n",
      "Evaluate 70: Time 0.009s (it:0.003s) Data:0.006s (it:0.001s) Loss 5.3287e-01 : 100%|██████████| 144/144 [00:01<00:00, 106.92it/s]\n",
      "Train 71: Time 0.012s (it:0.013s) Data:0.006s (it:0.006s) Loss 5.1015e-01 : 100%|██████████| 431/431 [00:05<00:00, 83.46it/s]\n",
      "Evaluate 71: Time 0.009s (it:0.003s) Data:0.006s (it:0.001s) Loss 5.3278e-01 : 100%|██████████| 144/144 [00:01<00:00, 107.61it/s]\n",
      "Test (cls): Time 0.009s (it:0.002s) Data:0.006s (it:0.001s) : 100%|██████████| 144/144 [00:01<00:00, 108.65it/s]\n",
      "2022-12-08 02:53:50,655 [MainThread  ] [INFO ]  Validation performance at epoch 71 -> 0.40067638818283147\n"
     ]
    },
    {
     "name": "stdout",
     "output_type": "stream",
     "text": [
      "0.40067638818283147 [0.5871397916058088, 0.4657865755088724, 0.4804271987388883, 0.6139126570931435, 0.20565947259605305, 0.26991873987007226, 0.28212501022134606, 0.41252439943079355, 0.6179320053903601, 0.556630040373893, 0.4047936024267259, 0.2757557849712776, 0.41305322767921204, 0.7057035179776273, 0.43810457026823213, 0.014407521366943692, 0.06762448358888601]\n"
     ]
    },
    {
     "name": "stderr",
     "output_type": "stream",
     "text": [
      "Train 72: Time 0.012s (it:0.012s) Data:0.006s (it:0.007s) Loss 5.1034e-01 : 100%|██████████| 431/431 [00:05<00:00, 83.36it/s]\n",
      "Evaluate 72: Time 0.010s (it:0.003s) Data:0.006s (it:0.001s) Loss 5.3295e-01 : 100%|██████████| 144/144 [00:01<00:00, 104.72it/s]\n",
      "Train 73: Time 0.012s (it:0.011s) Data:0.006s (it:0.006s) Loss 5.1004e-01 : 100%|██████████| 431/431 [00:05<00:00, 83.06it/s]\n",
      "Evaluate 73: Time 0.009s (it:0.003s) Data:0.006s (it:0.002s) Loss 5.3278e-01 : 100%|██████████| 144/144 [00:01<00:00, 107.02it/s]\n",
      "Train 74: Time 0.012s (it:0.011s) Data:0.006s (it:0.006s) Loss 5.1022e-01 : 100%|██████████| 431/431 [00:05<00:00, 83.34it/s]\n",
      "Evaluate 74: Time 0.009s (it:0.003s) Data:0.006s (it:0.001s) Loss 5.3277e-01 : 100%|██████████| 144/144 [00:01<00:00, 107.12it/s]\n",
      "Train 75: Time 0.012s (it:0.011s) Data:0.006s (it:0.006s) Loss 5.1034e-01 : 100%|██████████| 431/431 [00:05<00:00, 83.85it/s]\n",
      "Evaluate 75: Time 0.009s (it:0.003s) Data:0.006s (it:0.002s) Loss 5.3296e-01 : 100%|██████████| 144/144 [00:01<00:00, 106.95it/s]\n",
      "Train 76: Time 0.012s (it:0.011s) Data:0.006s (it:0.006s) Loss 5.1000e-01 : 100%|██████████| 431/431 [00:05<00:00, 83.59it/s]\n",
      "Evaluate 76: Time 0.009s (it:0.003s) Data:0.006s (it:0.001s) Loss 5.3281e-01 : 100%|██████████| 144/144 [00:01<00:00, 106.71it/s]\n",
      "Train 77: Time 0.012s (it:0.010s) Data:0.006s (it:0.006s) Loss 5.1011e-01 : 100%|██████████| 431/431 [00:05<00:00, 84.27it/s]\n",
      "Evaluate 77: Time 0.009s (it:0.003s) Data:0.006s (it:0.001s) Loss 5.3292e-01 : 100%|██████████| 144/144 [00:01<00:00, 106.60it/s]\n",
      "Train 78: Time 0.012s (it:0.010s) Data:0.006s (it:0.006s) Loss 5.1002e-01 : 100%|██████████| 431/431 [00:05<00:00, 83.14it/s]\n",
      "Evaluate 78: Time 0.009s (it:0.003s) Data:0.006s (it:0.001s) Loss 5.3280e-01 : 100%|██████████| 144/144 [00:01<00:00, 107.14it/s]\n",
      "2022-12-08 02:54:36,266 [MainThread  ] [INFO ]  Plateau Reached!\n"
     ]
    },
    {
     "name": "stdout",
     "output_type": "stream",
     "text": [
      "Epoch 00078: reducing learning rate of group 0 to 1.0000e-06.\n"
     ]
    },
    {
     "name": "stderr",
     "output_type": "stream",
     "text": [
      "Train 79: Time 0.012s (it:0.011s) Data:0.006s (it:0.006s) Loss 5.0999e-01 : 100%|██████████| 431/431 [00:05<00:00, 83.64it/s]\n",
      "Evaluate 79: Time 0.009s (it:0.003s) Data:0.006s (it:0.001s) Loss 5.3283e-01 : 100%|██████████| 144/144 [00:01<00:00, 106.57it/s]\n",
      "Train 80: Time 0.012s (it:0.010s) Data:0.006s (it:0.006s) Loss 5.1004e-01 : 100%|██████████| 431/431 [00:05<00:00, 83.84it/s]\n",
      "Evaluate 80: Time 0.009s (it:0.003s) Data:0.006s (it:0.001s) Loss 5.3283e-01 : 100%|██████████| 144/144 [00:01<00:00, 106.94it/s]\n",
      "Train 81: Time 0.012s (it:0.011s) Data:0.006s (it:0.006s) Loss 5.1005e-01 : 100%|██████████| 431/431 [00:05<00:00, 83.77it/s]\n",
      "Evaluate 81: Time 0.009s (it:0.004s) Data:0.006s (it:0.002s) Loss 5.3284e-01 : 100%|██████████| 144/144 [00:01<00:00, 106.83it/s]\n",
      "Test (cls): Time 0.009s (it:0.002s) Data:0.006s (it:0.001s) : 100%|██████████| 144/144 [00:01<00:00, 109.05it/s]\n",
      "2022-12-08 02:54:57,225 [MainThread  ] [INFO ]  Validation performance at epoch 81 -> 0.40073737003093524\n"
     ]
    },
    {
     "name": "stdout",
     "output_type": "stream",
     "text": [
      "0.40073737003093524 [0.5873145150285555, 0.4659901992654483, 0.4805963401498521, 0.6140826807526522, 0.20576884797978548, 0.26997038271684703, 0.2820807194665261, 0.41255293732269116, 0.6178805040647513, 0.5566973610343334, 0.4048285043886466, 0.27570031913532544, 0.4130804247382986, 0.7057021287614277, 0.43824239964079403, 0.014388527879363086, 0.06765849820060153]\n"
     ]
    },
    {
     "name": "stderr",
     "output_type": "stream",
     "text": [
      "Train 82: Time 0.012s (it:0.010s) Data:0.006s (it:0.006s) Loss 5.1025e-01 : 100%|██████████| 431/431 [00:05<00:00, 83.33it/s]\n",
      "Evaluate 82: Time 0.009s (it:0.003s) Data:0.006s (it:0.001s) Loss 5.3284e-01 : 100%|██████████| 144/144 [00:01<00:00, 107.20it/s]\n",
      "Train 83: Time 0.012s (it:0.011s) Data:0.006s (it:0.007s) Loss 5.1000e-01 : 100%|██████████| 431/431 [00:05<00:00, 83.74it/s]\n",
      "Evaluate 83: Time 0.009s (it:0.003s) Data:0.006s (it:0.001s) Loss 5.3284e-01 : 100%|██████████| 144/144 [00:01<00:00, 106.83it/s]\n",
      "Train 84: Time 0.012s (it:0.010s) Data:0.006s (it:0.006s) Loss 5.1015e-01 : 100%|██████████| 431/431 [00:05<00:00, 83.81it/s]\n",
      "Evaluate 84: Time 0.009s (it:0.004s) Data:0.006s (it:0.002s) Loss 5.3284e-01 : 100%|██████████| 144/144 [00:01<00:00, 106.64it/s]\n",
      "Train 85: Time 0.012s (it:0.010s) Data:0.006s (it:0.006s) Loss 5.1016e-01 : 100%|██████████| 431/431 [00:05<00:00, 84.25it/s]\n",
      "Evaluate 85: Time 0.009s (it:0.003s) Data:0.006s (it:0.001s) Loss 5.3284e-01 : 100%|██████████| 144/144 [00:01<00:00, 107.06it/s]\n",
      "Train 86: Time 0.012s (it:0.010s) Data:0.006s (it:0.006s) Loss 5.1010e-01 : 100%|██████████| 431/431 [00:05<00:00, 84.28it/s]\n",
      "Evaluate 86: Time 0.009s (it:0.002s) Data:0.006s (it:0.001s) Loss 5.3284e-01 : 100%|██████████| 144/144 [00:01<00:00, 107.29it/s]\n",
      "Train 87: Time 0.012s (it:0.010s) Data:0.006s (it:0.006s) Loss 5.1010e-01 : 100%|██████████| 431/431 [00:05<00:00, 83.90it/s]\n",
      "Evaluate 87: Time 0.010s (it:0.006s) Data:0.006s (it:0.002s) Loss 5.3285e-01 : 100%|██████████| 144/144 [00:01<00:00, 98.32it/s] \n",
      "Train 88: Time 0.014s (it:0.011s) Data:0.007s (it:0.006s) Loss 5.0989e-01 : 100%|██████████| 431/431 [00:06<00:00, 71.51it/s]\n",
      "Evaluate 88: Time 0.011s (it:0.005s) Data:0.007s (it:0.002s) Loss 5.3285e-01 : 100%|██████████| 144/144 [00:01<00:00, 92.41it/s]\n",
      "Train 89: Time 0.013s (it:0.011s) Data:0.006s (it:0.006s) Loss 5.0990e-01 : 100%|██████████| 431/431 [00:05<00:00, 75.50it/s]\n",
      "Evaluate 89: Time 0.010s (it:0.004s) Data:0.006s (it:0.002s) Loss 5.3285e-01 : 100%|██████████| 144/144 [00:01<00:00, 101.01it/s]\n",
      "2022-12-08 02:55:51,000 [MainThread  ] [INFO ]  Plateau Reached!\n"
     ]
    },
    {
     "name": "stdout",
     "output_type": "stream",
     "text": [
      "Epoch 00089: reducing learning rate of group 0 to 1.0000e-07.\n"
     ]
    },
    {
     "name": "stderr",
     "output_type": "stream",
     "text": [
      "Train 90: Time 0.013s (it:0.011s) Data:0.006s (it:0.006s) Loss 5.1015e-01 : 100%|██████████| 431/431 [00:05<00:00, 78.93it/s]\n",
      "Evaluate 90: Time 0.010s (it:0.003s) Data:0.006s (it:0.002s) Loss 5.3285e-01 : 100%|██████████| 144/144 [00:01<00:00, 102.36it/s]\n",
      "Train 91: Time 0.013s (it:0.010s) Data:0.006s (it:0.005s) Loss 5.1013e-01 : 100%|██████████| 431/431 [00:05<00:00, 79.26it/s]\n",
      "Evaluate 91: Time 0.010s (it:0.004s) Data:0.006s (it:0.002s) Loss 5.3285e-01 : 100%|██████████| 144/144 [00:01<00:00, 101.74it/s]\n",
      "Test (cls): Time 0.010s (it:0.002s) Data:0.006s (it:0.001s) : 100%|██████████| 144/144 [00:01<00:00, 104.09it/s]\n",
      "2022-12-08 02:56:06,258 [MainThread  ] [INFO ]  Validation performance at epoch 91 -> 0.40073441089364537\n"
     ]
    },
    {
     "name": "stdout",
     "output_type": "stream",
     "text": [
      "0.40073441089364537 [0.5873259131507824, 0.46599941733287037, 0.4805614761781643, 0.6140996776775398, 0.20576026237104622, 0.26996645399422603, 0.2820734561315626, 0.4125598169533258, 0.617877352661945, 0.5567028105197207, 0.404825077687915, 0.2756973236798394, 0.4130729000936145, 0.705703530253138, 0.4382436749954058, 0.014357041192599873, 0.06765880031827526]\n"
     ]
    },
    {
     "name": "stderr",
     "output_type": "stream",
     "text": [
      "Train 92: Time 0.013s (it:0.010s) Data:0.006s (it:0.007s) Loss 5.1000e-01 : 100%|██████████| 431/431 [00:05<00:00, 79.68it/s]\n",
      "Evaluate 92: Time 0.010s (it:0.003s) Data:0.006s (it:0.002s) Loss 5.3285e-01 : 100%|██████████| 144/144 [00:01<00:00, 99.65it/s] \n",
      "Train 93: Time 0.013s (it:0.012s) Data:0.006s (it:0.006s) Loss 5.1003e-01 : 100%|██████████| 431/431 [00:05<00:00, 79.66it/s]\n",
      "Evaluate 93: Time 0.010s (it:0.003s) Data:0.006s (it:0.001s) Loss 5.3285e-01 : 100%|██████████| 144/144 [00:01<00:00, 100.83it/s]\n",
      "Train 94: Time 0.013s (it:0.011s) Data:0.006s (it:0.006s) Loss 5.1012e-01 : 100%|██████████| 431/431 [00:05<00:00, 79.60it/s]\n",
      "Evaluate 94: Time 0.010s (it:0.002s) Data:0.006s (it:0.000s) Loss 5.3285e-01 : 100%|██████████| 144/144 [00:01<00:00, 100.26it/s]\n",
      "Train 95: Time 0.013s (it:0.011s) Data:0.006s (it:0.007s) Loss 5.1003e-01 : 100%|██████████| 431/431 [00:05<00:00, 79.75it/s]\n",
      "Evaluate 95: Time 0.010s (it:0.003s) Data:0.006s (it:0.001s) Loss 5.3285e-01 : 100%|██████████| 144/144 [00:01<00:00, 99.83it/s] \n",
      "Train 96: Time 0.013s (it:0.010s) Data:0.006s (it:0.006s) Loss 5.1008e-01 : 100%|██████████| 431/431 [00:05<00:00, 79.68it/s]\n",
      "Evaluate 96: Time 0.010s (it:0.003s) Data:0.006s (it:0.001s) Loss 5.3285e-01 : 100%|██████████| 144/144 [00:01<00:00, 100.05it/s]\n",
      "Train 97: Time 0.013s (it:0.012s) Data:0.006s (it:0.006s) Loss 5.1005e-01 : 100%|██████████| 431/431 [00:05<00:00, 79.11it/s]\n",
      "Evaluate 97: Time 0.010s (it:0.004s) Data:0.006s (it:0.002s) Loss 5.3285e-01 : 100%|██████████| 144/144 [00:01<00:00, 100.23it/s]\n",
      "Train 98: Time 0.013s (it:0.011s) Data:0.006s (it:0.006s) Loss 5.0993e-01 : 100%|██████████| 431/431 [00:05<00:00, 79.28it/s]\n",
      "Evaluate 98: Time 0.010s (it:0.003s) Data:0.006s (it:0.002s) Loss 5.3285e-01 : 100%|██████████| 144/144 [00:01<00:00, 100.14it/s]\n",
      "Train 99: Time 0.013s (it:0.012s) Data:0.006s (it:0.007s) Loss 5.1012e-01 : 100%|██████████| 431/431 [00:05<00:00, 79.18it/s]\n",
      "Evaluate 99: Time 0.010s (it:0.003s) Data:0.006s (it:0.001s) Loss 5.3285e-01 : 100%|██████████| 144/144 [00:01<00:00, 98.90it/s]\n",
      "Train 100: Time 0.013s (it:0.012s) Data:0.006s (it:0.007s) Loss 5.0986e-01 : 100%|██████████| 431/431 [00:05<00:00, 78.74it/s]\n",
      "Evaluate 100: Time 0.010s (it:0.004s) Data:0.006s (it:0.002s) Loss 5.3286e-01 : 100%|██████████| 144/144 [00:01<00:00, 99.64it/s] \n",
      "2022-12-08 02:57:08,112 [MainThread  ] [INFO ]  Plateau Reached!\n"
     ]
    },
    {
     "name": "stdout",
     "output_type": "stream",
     "text": [
      "Epoch 00100: reducing learning rate of group 0 to 1.0000e-08.\n"
     ]
    },
    {
     "name": "stderr",
     "output_type": "stream",
     "text": [
      "Train 101: Time 0.012s (it:0.011s) Data:0.006s (it:0.007s) Loss 5.0996e-01 : 100%|██████████| 431/431 [00:05<00:00, 83.05it/s]\n",
      "Evaluate 101: Time 0.009s (it:0.003s) Data:0.006s (it:0.001s) Loss 5.3286e-01 : 100%|██████████| 144/144 [00:01<00:00, 106.43it/s]\n",
      "Test (cls): Time 0.010s (it:0.003s) Data:0.007s (it:0.002s) : 100%|██████████| 144/144 [00:01<00:00, 97.62it/s]\n",
      "2022-12-08 02:57:16,276 [MainThread  ] [INFO ]  Validation performance at epoch 101 -> 0.4007329485374976\n"
     ]
    },
    {
     "name": "stdout",
     "output_type": "stream",
     "text": [
      "0.4007329485374976 [0.5872956698244303, 0.46599831323577495, 0.4805658355614601, 0.6140993800338729, 0.20576581278911238, 0.26997231424236734, 0.2820673402101156, 0.41256559369224155, 0.6178780658854148, 0.5567037533685166, 0.4048208173842014, 0.2756837747204582, 0.4130735253015479, 0.7057011006565551, 0.4382526708256486, 0.014357357087465373, 0.06765880031827526]\n"
     ]
    },
    {
     "name": "stderr",
     "output_type": "stream",
     "text": [
      "Train 102: Time 0.012s (it:0.011s) Data:0.006s (it:0.006s) Loss 5.1004e-01 : 100%|██████████| 431/431 [00:05<00:00, 82.59it/s]\n",
      "Evaluate 102: Time 0.009s (it:0.003s) Data:0.006s (it:0.001s) Loss 5.3286e-01 : 100%|██████████| 144/144 [00:01<00:00, 106.22it/s]\n",
      "Train 103: Time 0.012s (it:0.010s) Data:0.006s (it:0.006s) Loss 5.1016e-01 : 100%|██████████| 431/431 [00:05<00:00, 83.26it/s]\n",
      "Evaluate 103: Time 0.009s (it:0.003s) Data:0.006s (it:0.001s) Loss 5.3285e-01 : 100%|██████████| 144/144 [00:01<00:00, 105.36it/s]\n",
      "Train 104: Time 0.012s (it:0.010s) Data:0.006s (it:0.006s) Loss 5.1002e-01 : 100%|██████████| 431/431 [00:05<00:00, 83.61it/s]\n",
      "Evaluate 104: Time 0.009s (it:0.004s) Data:0.006s (it:0.002s) Loss 5.3285e-01 : 100%|██████████| 144/144 [00:01<00:00, 106.47it/s]\n",
      "Train 105: Time 0.012s (it:0.010s) Data:0.006s (it:0.006s) Loss 5.0984e-01 : 100%|██████████| 431/431 [00:05<00:00, 83.28it/s]\n",
      "Evaluate 105: Time 0.009s (it:0.003s) Data:0.006s (it:0.001s) Loss 5.3285e-01 : 100%|██████████| 144/144 [00:01<00:00, 106.09it/s]\n",
      "Train 106: Time 0.012s (it:0.011s) Data:0.006s (it:0.006s) Loss 5.1005e-01 : 100%|██████████| 431/431 [00:05<00:00, 83.09it/s]\n",
      "Evaluate 106: Time 0.009s (it:0.003s) Data:0.006s (it:0.001s) Loss 5.3285e-01 : 100%|██████████| 144/144 [00:01<00:00, 105.97it/s]\n",
      "Train 107: Time 0.012s (it:0.011s) Data:0.006s (it:0.006s) Loss 5.0987e-01 : 100%|██████████| 431/431 [00:05<00:00, 83.56it/s]\n",
      "Evaluate 107: Time 0.010s (it:0.003s) Data:0.006s (it:0.002s) Loss 5.3285e-01 : 100%|██████████| 144/144 [00:01<00:00, 105.14it/s]\n",
      "Train 108: Time 0.012s (it:0.010s) Data:0.006s (it:0.005s) Loss 5.1004e-01 : 100%|██████████| 431/431 [00:05<00:00, 83.39it/s]\n",
      "Evaluate 108: Time 0.010s (it:0.003s) Data:0.006s (it:0.001s) Loss 5.3285e-01 : 100%|██████████| 144/144 [00:01<00:00, 105.00it/s]\n",
      "Train 109: Time 0.012s (it:0.010s) Data:0.006s (it:0.006s) Loss 5.1011e-01 : 100%|██████████| 431/431 [00:05<00:00, 83.70it/s]\n",
      "Evaluate 109: Time 0.009s (it:0.003s) Data:0.006s (it:0.001s) Loss 5.3285e-01 : 100%|██████████| 144/144 [00:01<00:00, 105.78it/s]\n",
      "Train 110: Time 0.012s (it:0.010s) Data:0.006s (it:0.006s) Loss 5.1012e-01 : 100%|██████████| 431/431 [00:05<00:00, 83.66it/s]\n",
      "Evaluate 110: Time 0.009s (it:0.003s) Data:0.006s (it:0.001s) Loss 5.3285e-01 : 100%|██████████| 144/144 [00:01<00:00, 105.96it/s]\n",
      "2022-12-08 02:58:15,104 [MainThread  ] [INFO ]  Plateau Reached and no more reduction -> Exiting Loop\n",
      "2022-12-08 02:58:15,798 [MainThread  ] [INFO ]  Checking/Download features and labels locally\n",
      "Test (spot.): Time 0.472s (it:0.462s) Data:0.319s (it:0.310s) : 100%|██████████| 100/100 [00:47<00:00,  2.11it/s]\n",
      "100%|██████████| 100/100 [00:02<00:00, 44.73it/s]\n",
      "100%|██████████| 12/12 [00:16<00:00,  1.35s/it]\n",
      "2022-12-08 02:59:23,623 [MainThread  ] [INFO ]  Best Performance at end of training \n",
      "2022-12-08 02:59:23,623 [MainThread  ] [INFO ]  a_mAP visibility all: 0.5137809864703299\n",
      "2022-12-08 02:59:23,624 [MainThread  ] [INFO ]  a_mAP visibility all per class: [0.7419113507239768, 0.5908380694869174, 0.7130348506859562, 0.7067863270507259, 0.3684450768706559, 0.3732717002930754, 0.39127527444629817, 0.5596108524068434, 0.6797417053563302, 0.6503855934214594, 0.6223322572803496, 0.433514623144586, 0.561309468297869, 0.7959609834190591, 0.4988090251916178, 0.02673750339726476, 0.020312108522622687]\n",
      "2022-12-08 02:59:23,625 [MainThread  ] [INFO ]  a_mAP visibility visible: 0.5712484720173816\n",
      "2022-12-08 02:59:23,625 [MainThread  ] [INFO ]  a_mAP visibility visible per class: [0.8228302142264771, 0.6829331272090909, 0.7229516731874681, 0.7803715684628393, 0.400305256918452, 0.3760821552943844, 0.39402318092253524, 0.6717835361090324, 0.6839766951994155, 0.6782810565760353, 0.6278422719075863, 0.4009611982090164, 0.6538399732514182, 0.8064719690891806, 0.5471916863005112, 0.2871185639691567, 0.1742598974628882]\n",
      "2022-12-08 02:59:23,625 [MainThread  ] [INFO ]  a_mAP visibility unshown: 0.3555110774685225\n",
      "2022-12-08 02:59:23,626 [MainThread  ] [INFO ]  a_mAP visibility unshown per class: [0.0, 0.5493093888017263, 0.0, 0.2909959977156981, 0.1355336575186016, 0.035964912280701755, 0.2771714339379629, 0.44103352860973394, 0.6166337185742686, 0.5846182709720749, 0.3717883274049656, 0.482288739260623, 0.027428889820219585, 0.7437002697145285, 0.06517687247968641, 0.0, 0.0]\n",
      "2022-12-08 02:59:23,627 [MainThread  ] [INFO ]  Total Execution Time is 870.5654454231262 seconds\n"
     ]
    }
   ],
   "source": [
    "%run $training_file_name\\\n",
    "    --SoccerNet_path=$resnet_features_path\\\n",
    "    --model_name=NetVLAD++_ResNETPCA512_CB+FL\\\n",
    "    --features=ResNET_TF2_PCA512.npy --seed 3 --LR=1e-3\\\n",
    "    --split_test=\"test\"\\\n",
    "    --custom_feature_path=$vit_features_path\\\n",
    "    --loss_function=CB+FL"
   ]
  },
  {
   "cell_type": "markdown",
   "metadata": {},
   "source": [
    "#### Experiment 13:  ResNETPCA512 + ATTENTION + CE Loss"
   ]
  },
  {
   "cell_type": "code",
   "execution_count": 1,
   "metadata": {},
   "outputs": [
    {
     "name": "stderr",
     "output_type": "stream",
     "text": [
      "2022-12-08 03:00:41,666 [MainThread  ] [INFO ]  Starting main function\n",
      "2022-12-08 03:00:41,667 [MainThread  ] [INFO ]  Parameters:\n",
      "2022-12-08 03:00:41,667 [MainThread  ] [INFO ]   SoccerNet_path : G:\\.shortcut-targets-by-id\\\\1H509_zeV7bta5BudwCznjP0EWrCa_LCJ\\\\deep_learning_alphas_final_project\\\\assets_pca\n",
      "2022-12-08 03:00:41,667 [MainThread  ] [INFO ]         features : ResNET_TF2_PCA512.npy\n",
      "2022-12-08 03:00:41,668 [MainThread  ] [INFO ]       max_epochs : 1000\n",
      "2022-12-08 03:00:41,668 [MainThread  ] [INFO ]     load_weights : None\n",
      "2022-12-08 03:00:41,669 [MainThread  ] [INFO ]       model_name : ATTENTION_ResNETPCA512_CE_run_1\n",
      "2022-12-08 03:00:41,669 [MainThread  ] [INFO ]        test_only : False\n",
      "2022-12-08 03:00:41,670 [MainThread  ] [INFO ]      split_train : ['train']\n",
      "2022-12-08 03:00:41,670 [MainThread  ] [INFO ]      split_valid : ['valid']\n",
      "2022-12-08 03:00:41,671 [MainThread  ] [INFO ]       split_test : ['test']\n",
      "2022-12-08 03:00:41,671 [MainThread  ] [INFO ]          version : 2\n",
      "2022-12-08 03:00:41,672 [MainThread  ] [INFO ]      feature_dim : None\n",
      "2022-12-08 03:00:41,672 [MainThread  ] [INFO ]  evaluation_frequency : 10\n",
      "2022-12-08 03:00:41,673 [MainThread  ] [INFO ]        framerate : 2\n",
      "2022-12-08 03:00:41,673 [MainThread  ] [INFO ]      window_size : 15\n",
      "2022-12-08 03:00:41,673 [MainThread  ] [INFO ]             pool : NetVLAD++\n",
      "2022-12-08 03:00:41,674 [MainThread  ] [INFO ]       vocab_size : 64\n",
      "2022-12-08 03:00:41,674 [MainThread  ] [INFO ]       NMS_window : 30\n",
      "2022-12-08 03:00:41,675 [MainThread  ] [INFO ]    NMS_threshold : 0.0\n",
      "2022-12-08 03:00:41,675 [MainThread  ] [INFO ]       batch_size : 256\n",
      "2022-12-08 03:00:41,675 [MainThread  ] [INFO ]               LR : 0.001\n",
      "2022-12-08 03:00:41,676 [MainThread  ] [INFO ]              LRe : 1e-06\n",
      "2022-12-08 03:00:41,676 [MainThread  ] [INFO ]         patience : 10\n",
      "2022-12-08 03:00:41,676 [MainThread  ] [INFO ]              GPU : 0\n",
      "2022-12-08 03:00:41,677 [MainThread  ] [INFO ]   max_num_worker : 1\n",
      "2022-12-08 03:00:41,678 [MainThread  ] [INFO ]             seed : 3\n",
      "2022-12-08 03:00:41,679 [MainThread  ] [INFO ]         loglevel : INFO\n",
      "2022-12-08 03:00:41,679 [MainThread  ] [INFO ]  custom_feature_path : C:\\\\Users\\\\91995\\\\OneDrive - Georgia Institute of Technology\\\\vit_features\n",
      "2022-12-08 03:00:41,679 [MainThread  ] [INFO ]    loss_function : CE\n",
      "2022-12-08 03:00:41,682 [MainThread  ] [INFO ]  Checking/Download features and labels locally\n",
      "2022-12-08 03:00:43,343 [MainThread  ] [INFO ]  Pre-compute clips\n",
      "100%|██████████| 300/300 [00:28<00:00, 10.39it/s]\n",
      "2022-12-08 03:01:13,826 [MainThread  ] [INFO ]  Checking/Download features and labels locally\n",
      "2022-12-08 03:01:14,292 [MainThread  ] [INFO ]  Pre-compute clips\n",
      "100%|██████████| 100/100 [00:09<00:00, 10.10it/s]\n",
      "2022-12-08 03:01:24,788 [MainThread  ] [INFO ]  Checking/Download features and labels locally\n",
      "2022-12-08 03:01:25,274 [MainThread  ] [INFO ]  Pre-compute clips\n",
      "100%|██████████| 100/100 [00:08<00:00, 11.57it/s]\n",
      "2022-12-08 03:01:34,388 [MainThread  ] [INFO ]  Checking/Download features and labels locally\n"
     ]
    },
    {
     "name": "stdout",
     "output_type": "stream",
     "text": [
      "feature_dim found: 512\n"
     ]
    },
    {
     "name": "stderr",
     "output_type": "stream",
     "text": [
      "2022-12-08 03:01:36,857 [MainThread  ] [INFO ]  AttentionModel(\n",
      "  (attention_1): MultiheadAttention(\n",
      "    (out_proj): NonDynamicallyQuantizableLinear(in_features=512, out_features=512, bias=True)\n",
      "  )\n",
      "  (linear_net): Sequential(\n",
      "    (0): Linear(in_features=15360, out_features=1024, bias=True)\n",
      "    (1): ReLU(inplace=True)\n",
      "    (2): Linear(in_features=1024, out_features=512, bias=True)\n",
      "    (3): ReLU(inplace=True)\n",
      "    (4): Linear(in_features=512, out_features=18, bias=True)\n",
      "  )\n",
      "  (sigm): Sigmoid()\n",
      "  (norm_1): LayerNorm((30, 512), eps=1e-05, elementwise_affine=True)\n",
      "  (norm_2): LayerNorm((30, 512), eps=1e-05, elementwise_affine=True)\n",
      ")\n",
      "2022-12-08 03:01:36,858 [MainThread  ] [INFO ]  Total number of parameters: 17375762\n",
      "C:\\Users\\91995\\Documents\\GT Coursework\\CS 7643 DL\\Project\\dl_7643_final_project_code\\src\\loss.py:38: UserWarning: To copy construct from a tensor, it is recommended to use sourceTensor.clone().detach() or sourceTensor.clone().detach().requires_grad_(True), rather than torch.tensor(sourceTensor).\n",
      "  self.weight = torch.tensor(weight).float()\n",
      "2022-12-08 03:01:38,228 [MainThread  ] [INFO ]  start training\n",
      "Train 1: Time 0.020s (it:0.022s) Data:0.006s (it:0.007s) Loss 1.1280e+00 : 100%|██████████| 431/431 [00:08<00:00, 49.02it/s]\n",
      "Evaluate 1: Time 0.012s (it:0.003s) Data:0.006s (it:0.001s) Loss 1.1530e+00 : 100%|██████████| 144/144 [00:01<00:00, 80.42it/s]\n",
      "Train 2: Time 0.020s (it:0.016s) Data:0.006s (it:0.006s) Loss 1.0243e+00 : 100%|██████████| 431/431 [00:08<00:00, 50.00it/s]\n",
      "Evaluate 2: Time 0.012s (it:0.003s) Data:0.006s (it:0.001s) Loss 1.2176e+00 : 100%|██████████| 144/144 [00:01<00:00, 80.42it/s]\n",
      "Train 3: Time 0.020s (it:0.016s) Data:0.006s (it:0.006s) Loss 7.7863e-01 : 100%|██████████| 431/431 [00:08<00:00, 50.12it/s]\n",
      "Evaluate 3: Time 0.013s (it:0.003s) Data:0.006s (it:0.002s) Loss 1.6805e+00 : 100%|██████████| 144/144 [00:01<00:00, 79.92it/s]\n",
      "Train 4: Time 0.020s (it:0.016s) Data:0.006s (it:0.007s) Loss 3.9229e-01 : 100%|██████████| 431/431 [00:08<00:00, 49.78it/s]\n",
      "Evaluate 4: Time 0.012s (it:0.004s) Data:0.006s (it:0.002s) Loss 2.9402e+00 : 100%|██████████| 144/144 [00:01<00:00, 80.25it/s]\n",
      "Train 5: Time 0.020s (it:0.015s) Data:0.006s (it:0.005s) Loss 1.8590e-01 : 100%|██████████| 431/431 [00:08<00:00, 49.21it/s]\n",
      "Evaluate 5: Time 0.013s (it:0.003s) Data:0.006s (it:0.001s) Loss 3.9775e+00 : 100%|██████████| 144/144 [00:01<00:00, 79.65it/s]\n",
      "Train 6: Time 0.020s (it:0.016s) Data:0.006s (it:0.006s) Loss 9.1712e-02 : 100%|██████████| 431/431 [00:08<00:00, 49.09it/s]\n",
      "Evaluate 6: Time 0.012s (it:0.003s) Data:0.006s (it:0.002s) Loss 4.8313e+00 : 100%|██████████| 144/144 [00:01<00:00, 80.98it/s]\n",
      "Train 7: Time 0.020s (it:0.017s) Data:0.006s (it:0.008s) Loss 6.1162e-02 : 100%|██████████| 431/431 [00:08<00:00, 49.81it/s]\n",
      "Evaluate 7: Time 0.012s (it:0.002s) Data:0.006s (it:0.001s) Loss 5.3224e+00 : 100%|██████████| 144/144 [00:01<00:00, 82.64it/s]\n",
      "Train 8: Time 0.020s (it:0.016s) Data:0.006s (it:0.008s) Loss 6.2989e-02 : 100%|██████████| 431/431 [00:08<00:00, 49.94it/s]\n",
      "Evaluate 8: Time 0.012s (it:0.004s) Data:0.006s (it:0.002s) Loss 5.3988e+00 : 100%|██████████| 144/144 [00:01<00:00, 82.83it/s]\n",
      "Train 9: Time 0.020s (it:0.016s) Data:0.006s (it:0.007s) Loss 6.8462e-02 : 100%|██████████| 431/431 [00:08<00:00, 50.06it/s]\n",
      "Evaluate 9: Time 0.012s (it:0.003s) Data:0.006s (it:0.001s) Loss 5.3816e+00 : 100%|██████████| 144/144 [00:01<00:00, 82.26it/s]\n",
      "Train 10: Time 0.020s (it:0.016s) Data:0.007s (it:0.006s) Loss 7.5800e-02 : 100%|██████████| 431/431 [00:08<00:00, 50.00it/s]\n",
      "Evaluate 10: Time 0.012s (it:0.003s) Data:0.006s (it:0.002s) Loss 5.7928e+00 : 100%|██████████| 144/144 [00:01<00:00, 82.30it/s]\n",
      "Train 11: Time 0.020s (it:0.015s) Data:0.006s (it:0.007s) Loss 5.4749e-02 : 100%|██████████| 431/431 [00:08<00:00, 49.88it/s]\n",
      "Evaluate 11: Time 0.012s (it:0.003s) Data:0.006s (it:0.001s) Loss 6.1344e+00 : 100%|██████████| 144/144 [00:01<00:00, 82.14it/s]\n",
      "Test (cls): Time 0.012s (it:0.002s) Data:0.006s (it:0.001s) : 100%|██████████| 144/144 [00:01<00:00, 80.54it/s]\n",
      "2022-12-08 03:03:35,299 [MainThread  ] [INFO ]  Validation performance at epoch 11 -> 0.27117067560474367\n"
     ]
    },
    {
     "name": "stdout",
     "output_type": "stream",
     "text": [
      "0.27117067560474367 [0.1331553478343104, 0.3715221319210421, 0.3392585414269703, 0.39338188759703885, 0.057906326374493555, 0.19096825095199818, 0.16819904250891862, 0.2728556171140308, 0.5826987489203062, 0.5154649636587996, 0.3133039186158406, 0.1831887113964033, 0.2521083523789821, 0.5938342724667647, 0.2124527747731081, 0.026548426888920677, 0.0030541704527138583]\n"
     ]
    },
    {
     "name": "stderr",
     "output_type": "stream",
     "text": [
      "Train 12: Time 0.020s (it:0.017s) Data:0.006s (it:0.007s) Loss 4.2704e-02 : 100%|██████████| 431/431 [00:08<00:00, 49.45it/s]\n",
      "Evaluate 12: Time 0.012s (it:0.003s) Data:0.006s (it:0.001s) Loss 6.2443e+00 : 100%|██████████| 144/144 [00:01<00:00, 84.57it/s]\n",
      "2022-12-08 03:03:45,724 [MainThread  ] [INFO ]  Plateau Reached!\n"
     ]
    },
    {
     "name": "stdout",
     "output_type": "stream",
     "text": [
      "Epoch 00012: reducing learning rate of group 0 to 1.0000e-04.\n"
     ]
    },
    {
     "name": "stderr",
     "output_type": "stream",
     "text": [
      "Train 13: Time 0.020s (it:0.016s) Data:0.006s (it:0.006s) Loss 2.3003e-02 : 100%|██████████| 431/431 [00:08<00:00, 49.54it/s]\n",
      "Evaluate 13: Time 0.012s (it:0.002s) Data:0.006s (it:0.001s) Loss 6.2229e+00 : 100%|██████████| 144/144 [00:01<00:00, 83.44it/s]\n",
      "Train 14: Time 0.021s (it:0.016s) Data:0.006s (it:0.007s) Loss 4.7291e-03 : 100%|██████████| 431/431 [00:08<00:00, 48.42it/s]\n",
      "Evaluate 14: Time 0.013s (it:0.003s) Data:0.007s (it:0.001s) Loss 6.4300e+00 : 100%|██████████| 144/144 [00:01<00:00, 76.91it/s]\n",
      "Train 15: Time 0.020s (it:0.016s) Data:0.007s (it:0.007s) Loss 2.6923e-03 : 100%|██████████| 431/431 [00:08<00:00, 50.08it/s]\n",
      "Evaluate 15: Time 0.013s (it:0.003s) Data:0.007s (it:0.002s) Loss 6.5721e+00 : 100%|██████████| 144/144 [00:01<00:00, 78.13it/s]\n",
      "Train 16: Time 0.020s (it:0.015s) Data:0.007s (it:0.007s) Loss 1.8216e-03 : 100%|██████████| 431/431 [00:08<00:00, 50.34it/s]\n",
      "Evaluate 16: Time 0.013s (it:0.003s) Data:0.007s (it:0.002s) Loss 6.7357e+00 : 100%|██████████| 144/144 [00:01<00:00, 78.12it/s]\n",
      "Train 17: Time 0.020s (it:0.016s) Data:0.007s (it:0.007s) Loss 1.4129e-03 : 100%|██████████| 431/431 [00:08<00:00, 50.28it/s]\n",
      "Evaluate 17: Time 0.013s (it:0.003s) Data:0.007s (it:0.001s) Loss 6.8827e+00 : 100%|██████████| 144/144 [00:01<00:00, 77.39it/s]\n",
      "Train 18: Time 0.020s (it:0.015s) Data:0.007s (it:0.007s) Loss 1.2707e-03 : 100%|██████████| 431/431 [00:08<00:00, 49.45it/s]\n",
      "Evaluate 18: Time 0.013s (it:0.003s) Data:0.007s (it:0.001s) Loss 7.0127e+00 : 100%|██████████| 144/144 [00:01<00:00, 77.44it/s]\n",
      "Train 19: Time 0.021s (it:0.016s) Data:0.007s (it:0.009s) Loss 1.0869e-03 : 100%|██████████| 431/431 [00:08<00:00, 48.65it/s]\n",
      "Evaluate 19: Time 0.014s (it:0.004s) Data:0.007s (it:0.002s) Loss 7.1087e+00 : 100%|██████████| 144/144 [00:02<00:00, 71.78it/s]\n",
      "Train 20: Time 0.021s (it:0.019s) Data:0.008s (it:0.013s) Loss 9.4969e-04 : 100%|██████████| 431/431 [00:09<00:00, 47.66it/s]\n",
      "Evaluate 20: Time 0.014s (it:0.003s) Data:0.008s (it:0.001s) Loss 7.2264e+00 : 100%|██████████| 144/144 [00:02<00:00, 69.78it/s]\n",
      "Train 21: Time 0.020s (it:0.015s) Data:0.007s (it:0.007s) Loss 9.5909e-04 : 100%|██████████| 431/431 [00:08<00:00, 48.93it/s]\n",
      "Evaluate 21: Time 0.012s (it:0.003s) Data:0.006s (it:0.002s) Loss 7.3341e+00 : 100%|██████████| 144/144 [00:01<00:00, 80.65it/s]\n",
      "Test (cls): Time 0.013s (it:0.002s) Data:0.007s (it:0.001s) : 100%|██████████| 144/144 [00:01<00:00, 74.58it/s]\n",
      "2022-12-08 03:05:23,469 [MainThread  ] [INFO ]  Validation performance at epoch 21 -> 0.29634472606695744\n"
     ]
    },
    {
     "name": "stdout",
     "output_type": "stream",
     "text": [
      "0.29634472606695744 [0.22176185113370125, 0.4019597118891883, 0.3414954741814205, 0.45737893319822426, 0.07228582540207353, 0.20380865834070336, 0.19136341164176424, 0.31503543407694456, 0.6045957921421188, 0.5308669654380338, 0.32166230612633806, 0.20306081072961502, 0.28614370998140753, 0.623152784326866, 0.22947786064343775, 0.03099616362164319, 0.0028146502647955277]\n"
     ]
    },
    {
     "name": "stderr",
     "output_type": "stream",
     "text": [
      "Train 22: Time 0.020s (it:0.015s) Data:0.006s (it:0.007s) Loss 8.3498e-04 : 100%|██████████| 431/431 [00:08<00:00, 49.64it/s]\n",
      "Evaluate 22: Time 0.012s (it:0.002s) Data:0.006s (it:0.001s) Loss 7.4649e+00 : 100%|██████████| 144/144 [00:01<00:00, 81.26it/s]\n",
      "Train 23: Time 0.020s (it:0.016s) Data:0.006s (it:0.006s) Loss 8.0206e-04 : 100%|██████████| 431/431 [00:08<00:00, 49.63it/s]\n",
      "Evaluate 23: Time 0.012s (it:0.003s) Data:0.006s (it:0.001s) Loss 7.6031e+00 : 100%|██████████| 144/144 [00:01<00:00, 80.53it/s]\n",
      "2022-12-08 03:05:44,406 [MainThread  ] [INFO ]  Plateau Reached!\n"
     ]
    },
    {
     "name": "stdout",
     "output_type": "stream",
     "text": [
      "Epoch 00023: reducing learning rate of group 0 to 1.0000e-05.\n"
     ]
    },
    {
     "name": "stderr",
     "output_type": "stream",
     "text": [
      "Train 24: Time 0.020s (it:0.016s) Data:0.006s (it:0.007s) Loss 8.2762e-04 : 100%|██████████| 431/431 [00:08<00:00, 50.06it/s]\n",
      "Evaluate 24: Time 0.012s (it:0.003s) Data:0.006s (it:0.001s) Loss 7.6113e+00 : 100%|██████████| 144/144 [00:01<00:00, 83.79it/s]\n",
      "Train 25: Time 0.020s (it:0.015s) Data:0.006s (it:0.006s) Loss 7.3282e-04 : 100%|██████████| 431/431 [00:08<00:00, 50.05it/s]\n",
      "Evaluate 25: Time 0.012s (it:0.003s) Data:0.006s (it:0.001s) Loss 7.6288e+00 : 100%|██████████| 144/144 [00:01<00:00, 82.71it/s]\n",
      "Train 26: Time 0.020s (it:0.015s) Data:0.006s (it:0.006s) Loss 7.3305e-04 : 100%|██████████| 431/431 [00:08<00:00, 49.98it/s]\n",
      "Evaluate 26: Time 0.012s (it:0.003s) Data:0.006s (it:0.002s) Loss 7.6409e+00 : 100%|██████████| 144/144 [00:01<00:00, 82.43it/s]\n",
      "Train 27: Time 0.020s (it:0.015s) Data:0.006s (it:0.006s) Loss 7.3811e-04 : 100%|██████████| 431/431 [00:08<00:00, 50.00it/s]\n",
      "Evaluate 27: Time 0.012s (it:0.003s) Data:0.006s (it:0.001s) Loss 7.6761e+00 : 100%|██████████| 144/144 [00:01<00:00, 82.60it/s]\n",
      "Train 28: Time 0.020s (it:0.015s) Data:0.006s (it:0.008s) Loss 7.1538e-04 : 100%|██████████| 431/431 [00:08<00:00, 50.01it/s]\n",
      "Evaluate 28: Time 0.012s (it:0.003s) Data:0.006s (it:0.001s) Loss 7.6796e+00 : 100%|██████████| 144/144 [00:01<00:00, 82.63it/s]\n",
      "Train 29: Time 0.020s (it:0.015s) Data:0.006s (it:0.007s) Loss 7.2467e-04 : 100%|██████████| 431/431 [00:08<00:00, 49.88it/s]\n",
      "Evaluate 29: Time 0.012s (it:0.002s) Data:0.006s (it:0.001s) Loss 7.6897e+00 : 100%|██████████| 144/144 [00:01<00:00, 82.25it/s]\n",
      "Train 30: Time 0.020s (it:0.015s) Data:0.006s (it:0.006s) Loss 7.4152e-04 : 100%|██████████| 431/431 [00:08<00:00, 49.84it/s]\n",
      "Evaluate 30: Time 0.012s (it:0.003s) Data:0.006s (it:0.002s) Loss 7.7211e+00 : 100%|██████████| 144/144 [00:01<00:00, 83.37it/s]\n",
      "Train 31: Time 0.020s (it:0.015s) Data:0.006s (it:0.006s) Loss 6.9827e-04 : 100%|██████████| 431/431 [00:08<00:00, 49.84it/s]\n",
      "Evaluate 31: Time 0.012s (it:0.003s) Data:0.006s (it:0.001s) Loss 7.7360e+00 : 100%|██████████| 144/144 [00:01<00:00, 83.24it/s]\n",
      "Test (cls): Time 0.012s (it:0.002s) Data:0.006s (it:0.001s) : 100%|██████████| 144/144 [00:01<00:00, 85.52it/s]\n",
      "2022-12-08 03:07:09,193 [MainThread  ] [INFO ]  Validation performance at epoch 31 -> 0.2989596695934919\n"
     ]
    },
    {
     "name": "stdout",
     "output_type": "stream",
     "text": [
      "0.2989596695934919 [0.22661007174568892, 0.3990510240379483, 0.34818147826912016, 0.45997209483967, 0.07417478980808132, 0.20541024559981946, 0.19454092105002516, 0.31738406803525815, 0.6050444769344475, 0.5318311351666846, 0.3247020974822071, 0.20383261165203065, 0.29036403530688176, 0.6263748635933173, 0.23361112417260768, 0.03811615555757461, 0.003113189837999353]\n"
     ]
    },
    {
     "name": "stderr",
     "output_type": "stream",
     "text": [
      "Train 32: Time 0.020s (it:0.015s) Data:0.006s (it:0.007s) Loss 6.9079e-04 : 100%|██████████| 431/431 [00:08<00:00, 50.07it/s]\n",
      "Evaluate 32: Time 0.012s (it:0.003s) Data:0.006s (it:0.002s) Loss 7.7857e+00 : 100%|██████████| 144/144 [00:01<00:00, 84.05it/s]\n",
      "Train 33: Time 0.020s (it:0.015s) Data:0.006s (it:0.007s) Loss 6.7653e-04 : 100%|██████████| 431/431 [00:08<00:00, 50.06it/s]\n",
      "Evaluate 33: Time 0.012s (it:0.003s) Data:0.006s (it:0.001s) Loss 7.8312e+00 : 100%|██████████| 144/144 [00:01<00:00, 84.36it/s]\n",
      "Train 34: Time 0.020s (it:0.016s) Data:0.006s (it:0.007s) Loss 6.8750e-04 : 100%|██████████| 431/431 [00:08<00:00, 50.08it/s]\n",
      "Evaluate 34: Time 0.012s (it:0.003s) Data:0.006s (it:0.001s) Loss 7.8514e+00 : 100%|██████████| 144/144 [00:01<00:00, 82.10it/s]\n",
      "2022-12-08 03:07:40,202 [MainThread  ] [INFO ]  Plateau Reached!\n"
     ]
    },
    {
     "name": "stdout",
     "output_type": "stream",
     "text": [
      "Epoch 00034: reducing learning rate of group 0 to 1.0000e-06.\n"
     ]
    },
    {
     "name": "stderr",
     "output_type": "stream",
     "text": [
      "Train 35: Time 0.020s (it:0.015s) Data:0.006s (it:0.006s) Loss 6.5774e-04 : 100%|██████████| 431/431 [00:08<00:00, 49.29it/s]\n",
      "Evaluate 35: Time 0.012s (it:0.004s) Data:0.006s (it:0.001s) Loss 7.8563e+00 : 100%|██████████| 144/144 [00:01<00:00, 83.20it/s]\n",
      "Train 36: Time 0.020s (it:0.015s) Data:0.006s (it:0.005s) Loss 6.5181e-04 : 100%|██████████| 431/431 [00:08<00:00, 49.40it/s]\n",
      "Evaluate 36: Time 0.012s (it:0.003s) Data:0.006s (it:0.001s) Loss 7.8626e+00 : 100%|██████████| 144/144 [00:01<00:00, 82.60it/s]\n",
      "Train 37: Time 0.020s (it:0.015s) Data:0.006s (it:0.006s) Loss 6.5699e-04 : 100%|██████████| 431/431 [00:08<00:00, 49.40it/s]\n",
      "Evaluate 37: Time 0.012s (it:0.003s) Data:0.006s (it:0.002s) Loss 7.8696e+00 : 100%|██████████| 144/144 [00:01<00:00, 84.20it/s]\n",
      "Train 38: Time 0.020s (it:0.015s) Data:0.006s (it:0.006s) Loss 6.6678e-04 : 100%|██████████| 431/431 [00:08<00:00, 50.06it/s]\n",
      "Evaluate 38: Time 0.012s (it:0.002s) Data:0.006s (it:0.001s) Loss 7.8763e+00 : 100%|██████████| 144/144 [00:01<00:00, 83.79it/s]\n",
      "Train 39: Time 0.020s (it:0.016s) Data:0.006s (it:0.007s) Loss 6.6270e-04 : 100%|██████████| 431/431 [00:08<00:00, 50.01it/s]\n",
      "Evaluate 39: Time 0.012s (it:0.003s) Data:0.006s (it:0.001s) Loss 7.8837e+00 : 100%|██████████| 144/144 [00:01<00:00, 83.98it/s]\n",
      "Train 40: Time 0.020s (it:0.015s) Data:0.006s (it:0.005s) Loss 6.6492e-04 : 100%|██████████| 431/431 [00:08<00:00, 49.82it/s]\n",
      "Evaluate 40: Time 0.012s (it:0.002s) Data:0.006s (it:0.001s) Loss 7.8921e+00 : 100%|██████████| 144/144 [00:01<00:00, 83.66it/s]\n",
      "Train 41: Time 0.020s (it:0.016s) Data:0.006s (it:0.006s) Loss 7.2463e-04 : 100%|██████████| 431/431 [00:08<00:00, 49.67it/s]\n",
      "Evaluate 41: Time 0.012s (it:0.003s) Data:0.006s (it:0.001s) Loss 7.9011e+00 : 100%|██████████| 144/144 [00:01<00:00, 81.81it/s]\n",
      "Test (cls): Time 0.012s (it:0.002s) Data:0.006s (it:0.001s) : 100%|██████████| 144/144 [00:01<00:00, 82.30it/s]\n",
      "2022-12-08 03:08:54,975 [MainThread  ] [INFO ]  Validation performance at epoch 41 -> 0.29993436706920873\n"
     ]
    },
    {
     "name": "stdout",
     "output_type": "stream",
     "text": [
      "0.29993436706920873 [0.22958123471272654, 0.4008668362927131, 0.35040583173882933, 0.4604341462136358, 0.07437549873680561, 0.20672656110555943, 0.1956810211660432, 0.31728578241500666, 0.6054821746605292, 0.5320335064473529, 0.3254422245109029, 0.20529994356745948, 0.29284763459829793, 0.6284224672661414, 0.23527321597727344, 0.034912121828092335, 0.0038140389391801946]\n"
     ]
    },
    {
     "name": "stderr",
     "output_type": "stream",
     "text": [
      "Train 42: Time 0.021s (it:0.016s) Data:0.007s (it:0.007s) Loss 6.5250e-04 : 100%|██████████| 431/431 [00:08<00:00, 48.46it/s]\n",
      "Evaluate 42: Time 0.013s (it:0.003s) Data:0.007s (it:0.001s) Loss 7.9069e+00 : 100%|██████████| 144/144 [00:01<00:00, 76.66it/s]\n",
      "Train 43: Time 0.020s (it:0.016s) Data:0.006s (it:0.007s) Loss 6.5600e-04 : 100%|██████████| 431/431 [00:08<00:00, 49.34it/s]\n",
      "Evaluate 43: Time 0.012s (it:0.003s) Data:0.006s (it:0.001s) Loss 7.9129e+00 : 100%|██████████| 144/144 [00:01<00:00, 80.63it/s]\n",
      "Train 44: Time 0.020s (it:0.015s) Data:0.006s (it:0.008s) Loss 6.4607e-04 : 100%|██████████| 431/431 [00:08<00:00, 49.23it/s]\n",
      "Evaluate 44: Time 0.014s (it:0.004s) Data:0.008s (it:0.002s) Loss 7.9224e+00 : 100%|██████████| 144/144 [00:02<00:00, 70.89it/s]\n",
      "Train 45: Time 0.021s (it:0.016s) Data:0.007s (it:0.008s) Loss 6.4298e-04 : 100%|██████████| 431/431 [00:09<00:00, 47.10it/s]\n",
      "Evaluate 45: Time 0.013s (it:0.002s) Data:0.006s (it:0.001s) Loss 7.9293e+00 : 100%|██████████| 144/144 [00:01<00:00, 78.91it/s]\n",
      "2022-12-08 03:09:38,051 [MainThread  ] [INFO ]  Plateau Reached!\n"
     ]
    },
    {
     "name": "stdout",
     "output_type": "stream",
     "text": [
      "Epoch 00045: reducing learning rate of group 0 to 1.0000e-07.\n"
     ]
    },
    {
     "name": "stderr",
     "output_type": "stream",
     "text": [
      "Train 46: Time 0.020s (it:0.017s) Data:0.006s (it:0.007s) Loss 6.5612e-04 : 100%|██████████| 431/431 [00:08<00:00, 48.83it/s]\n",
      "Evaluate 46: Time 0.013s (it:0.004s) Data:0.007s (it:0.002s) Loss 7.9310e+00 : 100%|██████████| 144/144 [00:01<00:00, 77.06it/s]\n",
      "Train 47: Time 0.021s (it:0.015s) Data:0.006s (it:0.007s) Loss 6.9197e-04 : 100%|██████████| 431/431 [00:08<00:00, 48.71it/s]\n",
      "Evaluate 47: Time 0.012s (it:0.003s) Data:0.006s (it:0.001s) Loss 7.9322e+00 : 100%|██████████| 144/144 [00:01<00:00, 83.18it/s]\n",
      "Train 48: Time 0.021s (it:0.011s) Data:0.007s (it:0.010s) Loss 6.4156e-04 : 100%|██████████| 431/431 [00:09<00:00, 47.39it/s]\n",
      "Evaluate 48: Time 0.013s (it:0.003s) Data:0.007s (it:0.001s) Loss 7.9333e+00 : 100%|██████████| 144/144 [00:01<00:00, 74.46it/s]\n",
      "Train 49: Time 0.021s (it:0.015s) Data:0.006s (it:0.007s) Loss 6.8377e-04 : 100%|██████████| 431/431 [00:08<00:00, 48.35it/s]\n",
      "Evaluate 49: Time 0.012s (it:0.003s) Data:0.006s (it:0.002s) Loss 7.9345e+00 : 100%|██████████| 144/144 [00:01<00:00, 81.61it/s]\n",
      "Train 50: Time 0.020s (it:0.016s) Data:0.006s (it:0.007s) Loss 6.5583e-04 : 100%|██████████| 431/431 [00:08<00:00, 49.22it/s]\n",
      "Evaluate 50: Time 0.012s (it:0.003s) Data:0.006s (it:0.002s) Loss 7.9352e+00 : 100%|██████████| 144/144 [00:01<00:00, 83.33it/s]\n",
      "Train 51: Time 0.020s (it:0.015s) Data:0.006s (it:0.007s) Loss 6.3050e-04 : 100%|██████████| 431/431 [00:08<00:00, 49.62it/s]\n",
      "Evaluate 51: Time 0.012s (it:0.002s) Data:0.006s (it:0.001s) Loss 7.9360e+00 : 100%|██████████| 144/144 [00:01<00:00, 84.29it/s]\n",
      "Test (cls): Time 0.013s (it:0.003s) Data:0.007s (it:0.002s) : 100%|██████████| 144/144 [00:01<00:00, 79.98it/s]\n",
      "2022-12-08 03:10:43,894 [MainThread  ] [INFO ]  Validation performance at epoch 51 -> 0.30006748451695525\n"
     ]
    },
    {
     "name": "stdout",
     "output_type": "stream",
     "text": [
      "0.30006748451695525 [0.22976669664954122, 0.4014482630255189, 0.35063460522365797, 0.4604997952791087, 0.07439395452336656, 0.206773174050689, 0.1958516727297347, 0.31705907794547833, 0.6053537225969192, 0.5322415706058801, 0.3253619805569583, 0.20540703107719926, 0.29336038833036227, 0.6286993151334088, 0.235581362648051, 0.03490510731433352, 0.0038095190980319375]\n"
     ]
    },
    {
     "name": "stderr",
     "output_type": "stream",
     "text": [
      "Train 52: Time 0.020s (it:0.015s) Data:0.006s (it:0.006s) Loss 6.4634e-04 : 100%|██████████| 431/431 [00:08<00:00, 49.77it/s]\n",
      "Evaluate 52: Time 0.012s (it:0.003s) Data:0.006s (it:0.001s) Loss 7.9369e+00 : 100%|██████████| 144/144 [00:01<00:00, 84.66it/s]\n",
      "Train 53: Time 0.020s (it:0.014s) Data:0.006s (it:0.006s) Loss 6.6183e-04 : 100%|██████████| 431/431 [00:08<00:00, 49.66it/s]\n",
      "Evaluate 53: Time 0.012s (it:0.002s) Data:0.006s (it:0.001s) Loss 7.9377e+00 : 100%|██████████| 144/144 [00:01<00:00, 84.10it/s]\n",
      "Train 54: Time 0.020s (it:0.016s) Data:0.006s (it:0.008s) Loss 6.3918e-04 : 100%|██████████| 431/431 [00:08<00:00, 49.75it/s]\n",
      "Evaluate 54: Time 0.012s (it:0.002s) Data:0.006s (it:0.001s) Loss 7.9387e+00 : 100%|██████████| 144/144 [00:01<00:00, 83.24it/s]\n",
      "Train 55: Time 0.020s (it:0.016s) Data:0.006s (it:0.006s) Loss 6.3477e-04 : 100%|██████████| 431/431 [00:08<00:00, 49.26it/s]\n",
      "Evaluate 55: Time 0.012s (it:0.002s) Data:0.006s (it:0.001s) Loss 7.9398e+00 : 100%|██████████| 144/144 [00:01<00:00, 83.69it/s]\n",
      "Train 56: Time 0.020s (it:0.015s) Data:0.006s (it:0.006s) Loss 6.4083e-04 : 100%|██████████| 431/431 [00:08<00:00, 49.33it/s]\n",
      "Evaluate 56: Time 0.012s (it:0.002s) Data:0.006s (it:0.001s) Loss 7.9411e+00 : 100%|██████████| 144/144 [00:01<00:00, 80.49it/s]\n",
      "2022-12-08 03:11:36,063 [MainThread  ] [INFO ]  Plateau Reached!\n"
     ]
    },
    {
     "name": "stdout",
     "output_type": "stream",
     "text": [
      "Epoch 00056: reducing learning rate of group 0 to 1.0000e-08.\n"
     ]
    },
    {
     "name": "stderr",
     "output_type": "stream",
     "text": [
      "Train 57: Time 0.020s (it:0.016s) Data:0.006s (it:0.007s) Loss 6.5979e-04 : 100%|██████████| 431/431 [00:08<00:00, 49.03it/s]\n",
      "Evaluate 57: Time 0.012s (it:0.004s) Data:0.006s (it:0.001s) Loss 7.9412e+00 : 100%|██████████| 144/144 [00:01<00:00, 82.64it/s]\n",
      "Train 58: Time 0.020s (it:0.016s) Data:0.006s (it:0.006s) Loss 6.3179e-04 : 100%|██████████| 431/431 [00:08<00:00, 49.21it/s]\n",
      "Evaluate 58: Time 0.012s (it:0.002s) Data:0.006s (it:0.001s) Loss 7.9412e+00 : 100%|██████████| 144/144 [00:01<00:00, 81.53it/s]\n",
      "Train 59: Time 0.020s (it:0.016s) Data:0.006s (it:0.007s) Loss 6.5907e-04 : 100%|██████████| 431/431 [00:08<00:00, 49.51it/s]\n",
      "Evaluate 59: Time 0.012s (it:0.002s) Data:0.006s (it:0.001s) Loss 7.9412e+00 : 100%|██████████| 144/144 [00:01<00:00, 81.50it/s]\n",
      "Train 60: Time 0.020s (it:0.015s) Data:0.006s (it:0.006s) Loss 6.3943e-04 : 100%|██████████| 431/431 [00:08<00:00, 49.69it/s]\n",
      "Evaluate 60: Time 0.012s (it:0.003s) Data:0.006s (it:0.001s) Loss 7.9413e+00 : 100%|██████████| 144/144 [00:01<00:00, 82.89it/s]\n",
      "Train 61: Time 0.020s (it:0.015s) Data:0.006s (it:0.007s) Loss 6.4162e-04 : 100%|██████████| 431/431 [00:08<00:00, 49.76it/s]\n",
      "Evaluate 61: Time 0.012s (it:0.002s) Data:0.006s (it:0.000s) Loss 7.9413e+00 : 100%|██████████| 144/144 [00:01<00:00, 82.98it/s]\n",
      "Test (cls): Time 0.012s (it:0.002s) Data:0.006s (it:0.001s) : 100%|██████████| 144/144 [00:01<00:00, 84.80it/s]\n",
      "2022-12-08 03:12:30,261 [MainThread  ] [INFO ]  Validation performance at epoch 61 -> 0.3000722291477705\n"
     ]
    },
    {
     "name": "stdout",
     "output_type": "stream",
     "text": [
      "0.3000722291477705 [0.2294040801163683, 0.40157433112246427, 0.3506486838966598, 0.46055322880226274, 0.07438850528191317, 0.20678549533804613, 0.19587184106540623, 0.3170889330430587, 0.6052969567811689, 0.5323065511146423, 0.3253963408144217, 0.20544579327567236, 0.2934241770101395, 0.6287384047188028, 0.23558881601387655, 0.03490577867340463, 0.0038099784437908056]\n"
     ]
    },
    {
     "name": "stderr",
     "output_type": "stream",
     "text": [
      "Train 62: Time 0.020s (it:0.016s) Data:0.006s (it:0.006s) Loss 5.9492e-04 : 100%|██████████| 431/431 [00:08<00:00, 49.76it/s]\n",
      "Evaluate 62: Time 0.012s (it:0.002s) Data:0.006s (it:0.001s) Loss 7.9414e+00 : 100%|██████████| 144/144 [00:01<00:00, 83.59it/s]\n",
      "Train 63: Time 0.020s (it:0.015s) Data:0.006s (it:0.006s) Loss 6.4522e-04 : 100%|██████████| 431/431 [00:08<00:00, 49.64it/s]\n",
      "Evaluate 63: Time 0.012s (it:0.002s) Data:0.006s (it:0.001s) Loss 7.9414e+00 : 100%|██████████| 144/144 [00:01<00:00, 83.34it/s]\n",
      "Train 64: Time 0.020s (it:0.015s) Data:0.006s (it:0.006s) Loss 6.4501e-04 : 100%|██████████| 431/431 [00:08<00:00, 49.61it/s]\n",
      "Evaluate 64: Time 0.012s (it:0.002s) Data:0.006s (it:0.001s) Loss 7.9414e+00 : 100%|██████████| 144/144 [00:01<00:00, 83.12it/s]\n",
      "Train 65: Time 0.020s (it:0.015s) Data:0.006s (it:0.006s) Loss 6.5329e-04 : 100%|██████████| 431/431 [00:08<00:00, 49.57it/s]\n",
      "Evaluate 65: Time 0.012s (it:0.002s) Data:0.006s (it:0.001s) Loss 7.9415e+00 : 100%|██████████| 144/144 [00:01<00:00, 83.10it/s]\n",
      "Train 66: Time 0.020s (it:0.015s) Data:0.006s (it:0.006s) Loss 6.5051e-04 : 100%|██████████| 431/431 [00:08<00:00, 49.65it/s]\n",
      "Evaluate 66: Time 0.012s (it:0.002s) Data:0.006s (it:0.001s) Loss 7.9415e+00 : 100%|██████████| 144/144 [00:01<00:00, 83.05it/s]\n",
      "2022-12-08 03:13:22,343 [MainThread  ] [INFO ]  Plateau Reached and no more reduction -> Exiting Loop\n",
      "2022-12-08 03:13:23,116 [MainThread  ] [INFO ]  Checking/Download features and labels locally\n",
      "Test (spot.): Time 0.605s (it:0.588s) Data:0.321s (it:0.309s) : 100%|██████████| 100/100 [01:00<00:00,  1.65it/s]\n",
      "100%|██████████| 100/100 [00:02<00:00, 45.61it/s]\n",
      "100%|██████████| 12/12 [00:16<00:00,  1.34s/it]\n",
      "2022-12-08 03:14:43,874 [MainThread  ] [INFO ]  Best Performance at end of training \n",
      "2022-12-08 03:14:43,875 [MainThread  ] [INFO ]  a_mAP visibility all: 0.38617029226026234\n",
      "2022-12-08 03:14:43,875 [MainThread  ] [INFO ]  a_mAP visibility all per class: [0.2713210043253538, 0.45225496848293095, 0.5214501740159061, 0.590164811803642, 0.11724207742900973, 0.32931150103154727, 0.3075210018412455, 0.47001063779087854, 0.6154039730255259, 0.5565954549159625, 0.5118443558222263, 0.38297155451324444, 0.44505865272005707, 0.6538878447825643, 0.32457734930317134, 0.0038106922559554067, 0.011468914365238949]\n",
      "2022-12-08 03:14:43,875 [MainThread  ] [INFO ]  a_mAP visibility visible: 0.44300381863527777\n",
      "2022-12-08 03:14:43,876 [MainThread  ] [INFO ]  a_mAP visibility visible per class: [0.48811997485240133, 0.603018691707007, 0.5392655849202501, 0.6712435910066499, 0.13521351143233645, 0.33013660686164686, 0.3131564514371656, 0.6026363695860121, 0.6206050311421873, 0.5955920473337085, 0.5176137486436646, 0.3444277125113111, 0.5135851290757915, 0.6700944266080818, 0.3619739310078645, 0.08337914262400102, 0.14100296604964194]\n",
      "2022-12-08 03:14:43,876 [MainThread  ] [INFO ]  a_mAP visibility unshown: 0.2513393803727114\n",
      "2022-12-08 03:14:43,877 [MainThread  ] [INFO ]  a_mAP visibility unshown per class: [0.0, 0.3770608070459167, 0.0, 0.18795255943210415, 0.03524945811493943, 0.1338383838383839, 0.01427638962284195, 0.31879394542183975, 0.5568725362477566, 0.4474375826475741, 0.18801208635921893, 0.40524687866220754, 0.02379714375744896, 0.5368280017651655, 0.04204617192985092, 0.0, 0.0]\n",
      "2022-12-08 03:14:43,878 [MainThread  ] [INFO ]  Total Execution Time is 842.2126727104187 seconds\n"
     ]
    }
   ],
   "source": [
    "%run $training_file_name\\\n",
    "    --SoccerNet_path=$resnet_features_path\\\n",
    "    --model_name=ATTENTION_ResNETPCA512_CE\\\n",
    "    --features=ResNET_TF2_PCA512.npy --seed 3 --LR=1e-3\\\n",
    "    --split_test=\"test\"\\\n",
    "    --custom_feature_path=$vit_features_path\\\n",
    "    --loss_function=CE"
   ]
  },
  {
   "cell_type": "markdown",
   "metadata": {},
   "source": [
    "#### Experiment 14:  ResNETPCA512 + ATTENTION + CE+CB Loss"
   ]
  },
  {
   "cell_type": "code",
   "execution_count": null,
   "metadata": {},
   "outputs": [],
   "source": [
    "%run $training_file_name\\\n",
    "    --SoccerNet_path=$resnet_features_path\\\n",
    "    --model_name=ATTENTION_ResNETPCA512_CE+CB\\\n",
    "    --features=ResNET_TF2_PCA512.npy --seed 3 --LR=1e-3\\\n",
    "    --split_test=\"test\"\\\n",
    "    --custom_feature_path=$vit_features_path\\\n",
    "    --loss_function=CE+CB"
   ]
  },
  {
   "cell_type": "markdown",
   "metadata": {},
   "source": [
    "#### Experiment 15:  ResNETPCA512 + ATTENTION + FL Loss"
   ]
  },
  {
   "cell_type": "code",
   "execution_count": null,
   "metadata": {},
   "outputs": [],
   "source": [
    "%run $training_file_name\\\n",
    "    --SoccerNet_path=$resnet_features_path\\\n",
    "    --model_name=ATTENTION_ResNETPCA512_FL\\\n",
    "    --features=ResNET_TF2_PCA512.npy --seed 3 --LR=1e-3\\\n",
    "    --split_test=\"test\"\\\n",
    "    --custom_feature_path=$vit_features_path\\\n",
    "    --loss_function=FL"
   ]
  },
  {
   "cell_type": "markdown",
   "metadata": {},
   "source": [
    "#### Experiment 16:  ResNETPCA512 + ATTENTION + CB + FL Loss"
   ]
  },
  {
   "cell_type": "code",
   "execution_count": null,
   "metadata": {},
   "outputs": [],
   "source": [
    "%run $training_file_name\\\n",
    "    --SoccerNet_path=$resnet_features_path\\\n",
    "    --model_name=ATTENTION_ResNETPCA512_CB+FL\\\n",
    "    --features=ResNET_TF2_PCA512.npy --seed 3 --LR=1e-3\\\n",
    "    --split_test=\"test\"\\\n",
    "    --custom_feature_path=$vit_features_path\\\n",
    "    --loss_function=CB+FL"
   ]
  },
  {
   "cell_type": "markdown",
   "metadata": {},
   "source": [
    "# Experiment 17 - 24 is with RESNET Features"
   ]
  },
  {
   "cell_type": "markdown",
   "metadata": {},
   "source": [
    "#### Experiment 17:  ResNET + NetVladd + CE Loss"
   ]
  },
  {
   "cell_type": "code",
   "execution_count": 1,
   "metadata": {},
   "outputs": [
    {
     "name": "stderr",
     "output_type": "stream",
     "text": [
      "2022-12-08 03:19:55,144 [MainThread  ] [INFO ]  Starting main function\n",
      "2022-12-08 03:19:55,144 [MainThread  ] [INFO ]  Parameters:\n",
      "2022-12-08 03:19:55,144 [MainThread  ] [INFO ]   SoccerNet_path : G:\\.shortcut-targets-by-id\\\\1H509_zeV7bta5BudwCznjP0EWrCa_LCJ\\\\deep_learning_alphas_final_project\\\\assets_pca\n",
      "2022-12-08 03:19:55,145 [MainThread  ] [INFO ]         features : ResNET_TF2.npy\n",
      "2022-12-08 03:19:55,145 [MainThread  ] [INFO ]       max_epochs : 1000\n",
      "2022-12-08 03:19:55,147 [MainThread  ] [INFO ]     load_weights : None\n",
      "2022-12-08 03:19:55,147 [MainThread  ] [INFO ]       model_name : NetVLAD++_ResNET_CE_run_1\n",
      "2022-12-08 03:19:55,148 [MainThread  ] [INFO ]        test_only : False\n",
      "2022-12-08 03:19:55,148 [MainThread  ] [INFO ]      split_train : ['train']\n",
      "2022-12-08 03:19:55,148 [MainThread  ] [INFO ]      split_valid : ['valid']\n",
      "2022-12-08 03:19:55,148 [MainThread  ] [INFO ]       split_test : ['test']\n",
      "2022-12-08 03:19:55,150 [MainThread  ] [INFO ]          version : 2\n",
      "2022-12-08 03:19:55,150 [MainThread  ] [INFO ]      feature_dim : None\n",
      "2022-12-08 03:19:55,150 [MainThread  ] [INFO ]  evaluation_frequency : 10\n",
      "2022-12-08 03:19:55,151 [MainThread  ] [INFO ]        framerate : 2\n",
      "2022-12-08 03:19:55,151 [MainThread  ] [INFO ]      window_size : 15\n",
      "2022-12-08 03:19:55,151 [MainThread  ] [INFO ]             pool : NetVLAD++\n",
      "2022-12-08 03:19:55,151 [MainThread  ] [INFO ]       vocab_size : 64\n",
      "2022-12-08 03:19:55,151 [MainThread  ] [INFO ]       NMS_window : 30\n",
      "2022-12-08 03:19:55,152 [MainThread  ] [INFO ]    NMS_threshold : 0.0\n",
      "2022-12-08 03:19:55,152 [MainThread  ] [INFO ]       batch_size : 64\n",
      "2022-12-08 03:19:55,154 [MainThread  ] [INFO ]               LR : 0.001\n",
      "2022-12-08 03:19:55,154 [MainThread  ] [INFO ]              LRe : 1e-06\n",
      "2022-12-08 03:19:55,155 [MainThread  ] [INFO ]         patience : 10\n",
      "2022-12-08 03:19:55,155 [MainThread  ] [INFO ]              GPU : 0\n",
      "2022-12-08 03:19:55,156 [MainThread  ] [INFO ]   max_num_worker : 1\n",
      "2022-12-08 03:19:55,156 [MainThread  ] [INFO ]             seed : 3\n",
      "2022-12-08 03:19:55,156 [MainThread  ] [INFO ]         loglevel : INFO\n",
      "2022-12-08 03:19:55,157 [MainThread  ] [INFO ]  custom_feature_path : C:\\\\Users\\\\91995\\\\OneDrive - Georgia Institute of Technology\\\\vit_features\n",
      "2022-12-08 03:19:55,157 [MainThread  ] [INFO ]    loss_function : CE\n",
      "2022-12-08 03:19:55,160 [MainThread  ] [INFO ]  Checking/Download features and labels locally\n",
      "2022-12-08 03:19:56,815 [MainThread  ] [INFO ]  Pre-compute clips\n",
      "100%|██████████| 300/300 [01:09<00:00,  4.34it/s]\n"
     ]
    },
    {
     "ename": "MemoryError",
     "evalue": "Unable to allocate 25.2 GiB for an array with shape (110141, 30, 2048) and data type float32",
     "output_type": "error",
     "traceback": [
      "\u001b[1;31m---------------------------------------------------------------------------\u001b[0m",
      "\u001b[1;31mMemoryError\u001b[0m                               Traceback (most recent call last)",
      "File \u001b[1;32m~\\Documents\\GT Coursework\\CS 7643 DL\\Project\\dl_7643_final_project_code\\src\\main.py:219\u001b[0m\n\u001b[0;32m    217\u001b[0m start\u001b[39m=\u001b[39mtime\u001b[39m.\u001b[39mtime()\n\u001b[0;32m    218\u001b[0m logging\u001b[39m.\u001b[39minfo(\u001b[39m'\u001b[39m\u001b[39mStarting main function\u001b[39m\u001b[39m'\u001b[39m)\n\u001b[1;32m--> 219\u001b[0m main(args)\n\u001b[0;32m    220\u001b[0m logging\u001b[39m.\u001b[39minfo(\u001b[39mf\u001b[39m\u001b[39m'\u001b[39m\u001b[39mTotal Execution Time is \u001b[39m\u001b[39m{\u001b[39;00mtime\u001b[39m.\u001b[39mtime()\u001b[39m-\u001b[39mstart\u001b[39m}\u001b[39;00m\u001b[39m seconds\u001b[39m\u001b[39m'\u001b[39m)\n",
      "File \u001b[1;32m~\\Documents\\GT Coursework\\CS 7643 DL\\Project\\dl_7643_final_project_code\\src\\main.py:27\u001b[0m, in \u001b[0;36mmain\u001b[1;34m(args)\u001b[0m\n\u001b[0;32m     24\u001b[0m \u001b[39m# create dataset\u001b[39;00m\n\u001b[0;32m     25\u001b[0m \u001b[39m# args.test_only = True\u001b[39;00m\n\u001b[0;32m     26\u001b[0m \u001b[39mif\u001b[39;00m \u001b[39mnot\u001b[39;00m args\u001b[39m.\u001b[39mtest_only:\n\u001b[1;32m---> 27\u001b[0m     dataset_Train \u001b[39m=\u001b[39m SoccerNetClips(path\u001b[39m=\u001b[39;49margs\u001b[39m.\u001b[39;49mSoccerNet_path, features\u001b[39m=\u001b[39;49margs\u001b[39m.\u001b[39;49mfeatures, split\u001b[39m=\u001b[39;49margs\u001b[39m.\u001b[39;49msplit_train, version\u001b[39m=\u001b[39;49margs\u001b[39m.\u001b[39;49mversion, framerate\u001b[39m=\u001b[39;49margs\u001b[39m.\u001b[39;49mframerate, window_size\u001b[39m=\u001b[39;49margs\u001b[39m.\u001b[39;49mwindow_size, custom_feature_path\u001b[39m=\u001b[39;49margs\u001b[39m.\u001b[39;49mcustom_feature_path)\n\u001b[0;32m     28\u001b[0m     dataset_Valid \u001b[39m=\u001b[39m SoccerNetClips(path\u001b[39m=\u001b[39margs\u001b[39m.\u001b[39mSoccerNet_path, features\u001b[39m=\u001b[39margs\u001b[39m.\u001b[39mfeatures, split\u001b[39m=\u001b[39margs\u001b[39m.\u001b[39msplit_valid, version\u001b[39m=\u001b[39margs\u001b[39m.\u001b[39mversion, framerate\u001b[39m=\u001b[39margs\u001b[39m.\u001b[39mframerate, window_size\u001b[39m=\u001b[39margs\u001b[39m.\u001b[39mwindow_size, custom_feature_path\u001b[39m=\u001b[39margs\u001b[39m.\u001b[39mcustom_feature_path)\n\u001b[0;32m     29\u001b[0m     dataset_Valid_metric  \u001b[39m=\u001b[39m SoccerNetClips(path\u001b[39m=\u001b[39margs\u001b[39m.\u001b[39mSoccerNet_path, features\u001b[39m=\u001b[39margs\u001b[39m.\u001b[39mfeatures, split\u001b[39m=\u001b[39margs\u001b[39m.\u001b[39msplit_valid, version\u001b[39m=\u001b[39margs\u001b[39m.\u001b[39mversion, framerate\u001b[39m=\u001b[39margs\u001b[39m.\u001b[39mframerate, window_size\u001b[39m=\u001b[39margs\u001b[39m.\u001b[39mwindow_size, custom_feature_path\u001b[39m=\u001b[39margs\u001b[39m.\u001b[39mcustom_feature_path)\n",
      "File \u001b[1;32m~\\Documents\\GT Coursework\\CS 7643 DL\\Project\\dl_7643_final_project_code\\src\\dataset.py:140\u001b[0m, in \u001b[0;36mSoccerNetClips.__init__\u001b[1;34m(self, path, features, split, version, framerate, window_size, custom_feature_path)\u001b[0m\n\u001b[0;32m    137\u001b[0m     \u001b[39mself\u001b[39m\u001b[39m.\u001b[39mgame_labels\u001b[39m.\u001b[39mappend(label_half1)\n\u001b[0;32m    138\u001b[0m     \u001b[39mself\u001b[39m\u001b[39m.\u001b[39mgame_labels\u001b[39m.\u001b[39mappend(label_half2)\n\u001b[1;32m--> 140\u001b[0m \u001b[39mself\u001b[39m\u001b[39m.\u001b[39mgame_feats \u001b[39m=\u001b[39m np\u001b[39m.\u001b[39;49mconcatenate(\u001b[39mself\u001b[39;49m\u001b[39m.\u001b[39;49mgame_feats)\n\u001b[0;32m    141\u001b[0m \u001b[39mself\u001b[39m\u001b[39m.\u001b[39mgame_labels \u001b[39m=\u001b[39m np\u001b[39m.\u001b[39mconcatenate(\u001b[39mself\u001b[39m\u001b[39m.\u001b[39mgame_labels)\n",
      "File \u001b[1;32m<__array_function__ internals>:180\u001b[0m, in \u001b[0;36mconcatenate\u001b[1;34m(*args, **kwargs)\u001b[0m\n",
      "\u001b[1;31mMemoryError\u001b[0m: Unable to allocate 25.2 GiB for an array with shape (110141, 30, 2048) and data type float32"
     ]
    }
   ],
   "source": [
    "\n",
    "%run $training_file_name\\\n",
    "    --SoccerNet_path=$resnet_features_path\\\n",
    "    --model_name=NetVLAD++_ResNET_CE\\\n",
    "    --features=ResNET_TF2.npy\\\n",
    "    --seed 3 --LR=1e-3 --split_test=\"test\"\\\n",
    "    --custom_feature_path=$vit_features_path\\\n",
    "    --loss_function=CE"
   ]
  },
  {
   "cell_type": "markdown",
   "metadata": {},
   "source": [
    "#### Experiment 18:  ResNET + NetVladd + CE+CB Loss"
   ]
  },
  {
   "cell_type": "code",
   "execution_count": null,
   "metadata": {},
   "outputs": [],
   "source": [
    "\n",
    "%run $training_file_name\\\n",
    "    --SoccerNet_path=$resnet_features_path\\\n",
    "    --model_name=NetVLAD++_ResNET_CE+CB\\\n",
    "    --features=ResNET_TF2.npy --seed 3 --LR=1e-3\\\n",
    "    --split_test=\"test\"\\\n",
    "    --custom_feature_path=$vit_features_path\\\n",
    "    --loss_function=CE+CB"
   ]
  },
  {
   "cell_type": "markdown",
   "metadata": {},
   "source": [
    "#### Experiment 19:  ResNET + NetVladd + FL Loss"
   ]
  },
  {
   "cell_type": "code",
   "execution_count": null,
   "metadata": {},
   "outputs": [],
   "source": [
    "\n",
    "%run $training_file_name\\\n",
    "    --SoccerNet_path=$resnet_features_path\\\n",
    "    --model_name=NetVLAD++_ResNET_FL\\\n",
    "    --features=ResNET_TF2.npy --seed 3 --LR=1e-3\\\n",
    "    --split_test=\"test\"\\\n",
    "    --custom_feature_path=$vit_features_path\\\n",
    "    --loss_function=FL"
   ]
  },
  {
   "cell_type": "markdown",
   "metadata": {},
   "source": [
    "#### Experiment 20:  ResNET + NetVladd + CB + FL Loss"
   ]
  },
  {
   "cell_type": "code",
   "execution_count": null,
   "metadata": {},
   "outputs": [],
   "source": [
    "\n",
    "%run $training_file_name\\\n",
    "    --SoccerNet_path=$resnet_features_path\\\n",
    "    --model_name=NetVLAD++_ResNET_CB+FL\\\n",
    "    --features=ResNET_TF2.npy --seed 3 --LR=1e-3\\\n",
    "    --split_test=\"test\"\\\n",
    "    --custom_feature_path=$vit_features_path\\\n",
    "    --loss_function=CB+FL"
   ]
  },
  {
   "cell_type": "markdown",
   "metadata": {},
   "source": [
    "#### Experiment 21:  ResNET + ATTENTION + CE Loss"
   ]
  },
  {
   "cell_type": "code",
   "execution_count": 17,
   "metadata": {},
   "outputs": [
    {
     "name": "stderr",
     "output_type": "stream",
     "text": [
      "2022-12-12 19:35:41,572 [MainThread  ] [INFO ]  Starting main function\n",
      "2022-12-12 19:35:41,575 [MainThread  ] [INFO ]  Parameters:\n",
      "2022-12-12 19:35:41,575 [MainThread  ] [INFO ]   SoccerNet_path : /Users/srv/Documents/Cloud/Google Drive - Default/deep_learning_alphas_final_project/assets_pca\n",
      "2022-12-12 19:35:41,575 [MainThread  ] [INFO ]         features : ResNET_TF2.npy\n",
      "2022-12-12 19:35:41,576 [MainThread  ] [INFO ]       max_epochs : 1000\n",
      "2022-12-12 19:35:41,577 [MainThread  ] [INFO ]     load_weights : None\n",
      "2022-12-12 19:35:41,577 [MainThread  ] [INFO ]       model_name : ATTENTION_ResNET_CE\n",
      "2022-12-12 19:35:41,578 [MainThread  ] [INFO ]        test_only : True\n",
      "2022-12-12 19:35:41,578 [MainThread  ] [INFO ]      split_train : ['train']\n",
      "2022-12-12 19:35:41,579 [MainThread  ] [INFO ]      split_valid : ['valid']\n",
      "2022-12-12 19:35:41,579 [MainThread  ] [INFO ]       split_test : ['test']\n",
      "2022-12-12 19:35:41,580 [MainThread  ] [INFO ]          version : 2\n",
      "2022-12-12 19:35:41,580 [MainThread  ] [INFO ]      feature_dim : None\n",
      "2022-12-12 19:35:41,581 [MainThread  ] [INFO ]  evaluation_frequency : 10\n",
      "2022-12-12 19:35:41,581 [MainThread  ] [INFO ]        framerate : 2\n",
      "2022-12-12 19:35:41,582 [MainThread  ] [INFO ]      window_size : 15\n",
      "2022-12-12 19:35:41,582 [MainThread  ] [INFO ]             pool : NetVLAD++\n",
      "2022-12-12 19:35:41,583 [MainThread  ] [INFO ]       vocab_size : 64\n",
      "2022-12-12 19:35:41,583 [MainThread  ] [INFO ]       NMS_window : 30\n",
      "2022-12-12 19:35:41,584 [MainThread  ] [INFO ]    NMS_threshold : 0.0\n",
      "2022-12-12 19:35:41,584 [MainThread  ] [INFO ]       batch_size : 256\n",
      "2022-12-12 19:35:41,584 [MainThread  ] [INFO ]               LR : 0.001\n",
      "2022-12-12 19:35:41,585 [MainThread  ] [INFO ]              LRe : 1e-06\n",
      "2022-12-12 19:35:41,585 [MainThread  ] [INFO ]         patience : 10\n",
      "2022-12-12 19:35:41,586 [MainThread  ] [INFO ]              GPU : 0\n",
      "2022-12-12 19:35:41,586 [MainThread  ] [INFO ]   max_num_worker : 1\n",
      "2022-12-12 19:35:41,586 [MainThread  ] [INFO ]             seed : 3\n",
      "2022-12-12 19:35:41,587 [MainThread  ] [INFO ]         loglevel : INFO\n",
      "2022-12-12 19:35:41,587 [MainThread  ] [INFO ]  custom_feature_path : /Users/srv/Documents/Cloud/Georgia Institute of Technology/Alphas - Project Data/vit_features\n",
      "2022-12-12 19:35:41,587 [MainThread  ] [INFO ]    loss_function : CE\n",
      "2022-12-12 19:35:41,588 [MainThread  ] [INFO ]           device : mps\n",
      "2022-12-12 19:35:41,588 [MainThread  ] [INFO ]  model_save_path : /Users/srv/Documents/Cloud/Georgia Institute of Technology/Alphas - Project Data/project_artefacts/ATTENTION_ResNET_CE/mps_run_1\n",
      "2022-12-12 19:35:41,590 [MainThread  ] [INFO ]  Checking/Download features and labels locally\n",
      "2022-12-12 19:35:42,223 [MainThread  ] [INFO ]  AttentionModel(\n",
      "  (attention_1): MultiheadAttention(\n",
      "    (out_proj): NonDynamicallyQuantizableLinear(in_features=2048, out_features=2048, bias=True)\n",
      "  )\n",
      "  (linear_net): Sequential(\n",
      "    (0): Linear(in_features=2048, out_features=1024, bias=True)\n",
      "    (1): ReLU(inplace=True)\n",
      "    (2): Linear(in_features=1024, out_features=2048, bias=True)\n",
      "  )\n",
      "  (final_layer): Linear(in_features=2048, out_features=128, bias=True)\n",
      "  (pos_embedding): Embedding(30, 2048)\n",
      "  (sigm): Sigmoid()\n",
      "  (norm_1): LayerNorm((30, 2048), eps=1e-05, elementwise_affine=True)\n",
      "  (f_class): Linear(in_features=3840, out_features=18, bias=True)\n",
      "  (drop_1): Dropout(p=0.2, inplace=False)\n",
      "  (drop_2): Dropout(p=0.3, inplace=False)\n",
      "  (drop_3): Dropout(p=0.4, inplace=False)\n",
      "  (pool_layer_before): NetVLAD()\n",
      "  (pool_layer_after): NetVLAD()\n",
      "  (fc): Linear(in_features=131072, out_features=18, bias=True)\n",
      ")\n",
      "2022-12-12 19:35:42,224 [MainThread  ] [INFO ]  Total number of parameters: 24119972\n"
     ]
    },
    {
     "name": "stdout",
     "output_type": "stream",
     "text": [
      "feature_dim found: 2048\n"
     ]
    },
    {
     "name": "stderr",
     "output_type": "stream",
     "text": [
      "2022-12-12 19:35:42,381 [MainThread  ] [INFO ]  Checking/Download features and labels locally\n",
      "Test (spot.): Time 10.171s (it:10.020s) Data:0.912s (it:0.897s) : 100%|██████████| 100/100 [16:57<00:00, 10.18s/it]\n",
      "100%|██████████| 100/100 [00:01<00:00, 75.07it/s]\n",
      "100%|██████████| 12/12 [00:22<00:00,  1.84s/it]\n",
      "2022-12-12 19:53:04,867 [MainThread  ] [INFO ]  Best Performance at end of training \n",
      "2022-12-12 19:53:04,868 [MainThread  ] [INFO ]  a_mAP visibility all: 0.4581455223202353\n",
      "2022-12-12 19:53:04,868 [MainThread  ] [INFO ]  a_mAP visibility all per class: [0.4149318722520752, 0.516582821084013, 0.6706867453051963, 0.6631097871614894, 0.2794253606920042, 0.3477780363669049, 0.36141276704581826, 0.5091075856728765, 0.6609780129376379, 0.6228083171616691, 0.6077757215532787, 0.41166446919184, 0.4934520983447366, 0.7720148488495101, 0.4026310055221488, 0.019986228738943367, 0.03412820156385754]\n",
      "2022-12-12 19:53:04,869 [MainThread  ] [INFO ]  a_mAP visibility visible: 0.5220485533099377\n",
      "2022-12-12 19:53:04,869 [MainThread  ] [INFO ]  a_mAP visibility visible per class: [0.6919487085776325, 0.6427256999806485, 0.6814452809514676, 0.7377236065789616, 0.29312184847216255, 0.3500048310270399, 0.36537117312858497, 0.6084200388868181, 0.6622553088794867, 0.6501895295852905, 0.6144881469334738, 0.39330785830613235, 0.5595464115475047, 0.7840343970450039, 0.43760991452727027, 0.19781805496204594, 0.20481459687941736]\n",
      "2022-12-12 19:53:04,869 [MainThread  ] [INFO ]  a_mAP visibility unshown: 0.31815178582306075\n",
      "2022-12-12 19:53:04,870 [MainThread  ] [INFO ]  a_mAP visibility unshown per class: [0.0, 0.46054141614069793, 0.0, 0.27807552606801467, 0.1908212025046869, 0.03680926916221034, 0.003665104558691344, 0.42047667860220783, 0.6333512036881982, 0.552109189898525, 0.293736883799206, 0.4478062492921047, 0.02115348346433873, 0.6923136410767364, 0.1051133674441716, 0.0, 0.0]\n",
      "2022-12-12 19:53:04,871 [MainThread  ] [INFO ]  Total Execution Time is 1043.2992570400238 seconds\n"
     ]
    }
   ],
   "source": [
    "\n",
    "%run $training_file_name\\\n",
    "    --SoccerNet_path=$resnet_features_path\\\n",
    "    --model_name=ATTENTION_ResNET_CE\\\n",
    "    --features=ResNET_TF2.npy --seed 3 --LR=1e-3\\\n",
    "    --split_test=\"test\"\\\n",
    "    --custom_feature_path=$vit_features_path\\\n",
    "    --loss_function=CE\\\n",
    "    --test_only"
   ]
  },
  {
   "cell_type": "markdown",
   "metadata": {},
   "source": [
    "#### Experiment 22:  ResNET + ATTENTION + CE+CB Loss"
   ]
  },
  {
   "cell_type": "code",
   "execution_count": 18,
   "metadata": {},
   "outputs": [
    {
     "name": "stderr",
     "output_type": "stream",
     "text": [
      "2022-12-12 19:53:04,929 [MainThread  ] [INFO ]  Starting main function\n",
      "2022-12-12 19:53:04,929 [MainThread  ] [INFO ]  Parameters:\n",
      "2022-12-12 19:53:04,930 [MainThread  ] [INFO ]   SoccerNet_path : /Users/srv/Documents/Cloud/Google Drive - Default/deep_learning_alphas_final_project/assets_pca\n",
      "2022-12-12 19:53:04,930 [MainThread  ] [INFO ]         features : ResNET_TF2.npy\n",
      "2022-12-12 19:53:04,930 [MainThread  ] [INFO ]       max_epochs : 1000\n",
      "2022-12-12 19:53:04,931 [MainThread  ] [INFO ]     load_weights : None\n",
      "2022-12-12 19:53:04,932 [MainThread  ] [INFO ]       model_name : ATTENTION_ResNET_CE+CB\n",
      "2022-12-12 19:53:04,932 [MainThread  ] [INFO ]        test_only : True\n",
      "2022-12-12 19:53:04,932 [MainThread  ] [INFO ]      split_train : ['train']\n",
      "2022-12-12 19:53:04,933 [MainThread  ] [INFO ]      split_valid : ['valid']\n",
      "2022-12-12 19:53:04,933 [MainThread  ] [INFO ]       split_test : ['test']\n",
      "2022-12-12 19:53:04,934 [MainThread  ] [INFO ]          version : 2\n",
      "2022-12-12 19:53:04,934 [MainThread  ] [INFO ]      feature_dim : None\n",
      "2022-12-12 19:53:04,935 [MainThread  ] [INFO ]  evaluation_frequency : 10\n",
      "2022-12-12 19:53:04,935 [MainThread  ] [INFO ]        framerate : 2\n",
      "2022-12-12 19:53:04,936 [MainThread  ] [INFO ]      window_size : 15\n",
      "2022-12-12 19:53:04,936 [MainThread  ] [INFO ]             pool : NetVLAD++\n",
      "2022-12-12 19:53:04,936 [MainThread  ] [INFO ]       vocab_size : 64\n",
      "2022-12-12 19:53:04,937 [MainThread  ] [INFO ]       NMS_window : 30\n",
      "2022-12-12 19:53:04,937 [MainThread  ] [INFO ]    NMS_threshold : 0.0\n",
      "2022-12-12 19:53:04,938 [MainThread  ] [INFO ]       batch_size : 256\n",
      "2022-12-12 19:53:04,938 [MainThread  ] [INFO ]               LR : 0.001\n",
      "2022-12-12 19:53:04,939 [MainThread  ] [INFO ]              LRe : 1e-06\n",
      "2022-12-12 19:53:04,939 [MainThread  ] [INFO ]         patience : 10\n",
      "2022-12-12 19:53:04,940 [MainThread  ] [INFO ]              GPU : 0\n",
      "2022-12-12 19:53:04,940 [MainThread  ] [INFO ]   max_num_worker : 1\n",
      "2022-12-12 19:53:04,940 [MainThread  ] [INFO ]             seed : 3\n",
      "2022-12-12 19:53:04,941 [MainThread  ] [INFO ]         loglevel : INFO\n",
      "2022-12-12 19:53:04,941 [MainThread  ] [INFO ]  custom_feature_path : /Users/srv/Documents/Cloud/Georgia Institute of Technology/Alphas - Project Data/vit_features\n",
      "2022-12-12 19:53:04,942 [MainThread  ] [INFO ]    loss_function : CE+CB\n",
      "2022-12-12 19:53:04,942 [MainThread  ] [INFO ]           device : mps\n",
      "2022-12-12 19:53:04,942 [MainThread  ] [INFO ]  model_save_path : /Users/srv/Documents/Cloud/Georgia Institute of Technology/Alphas - Project Data/project_artefacts/ATTENTION_ResNET_CE+CB/mps_run_1\n",
      "2022-12-12 19:53:04,943 [MainThread  ] [INFO ]  Checking/Download features and labels locally\n",
      "2022-12-12 19:53:05,523 [MainThread  ] [INFO ]  AttentionModel(\n",
      "  (attention_1): MultiheadAttention(\n",
      "    (out_proj): NonDynamicallyQuantizableLinear(in_features=2048, out_features=2048, bias=True)\n",
      "  )\n",
      "  (linear_net): Sequential(\n",
      "    (0): Linear(in_features=2048, out_features=1024, bias=True)\n",
      "    (1): ReLU(inplace=True)\n",
      "    (2): Linear(in_features=1024, out_features=2048, bias=True)\n",
      "  )\n",
      "  (final_layer): Linear(in_features=2048, out_features=128, bias=True)\n",
      "  (pos_embedding): Embedding(30, 2048)\n",
      "  (sigm): Sigmoid()\n",
      "  (norm_1): LayerNorm((30, 2048), eps=1e-05, elementwise_affine=True)\n",
      "  (f_class): Linear(in_features=3840, out_features=18, bias=True)\n",
      "  (drop_1): Dropout(p=0.2, inplace=False)\n",
      "  (drop_2): Dropout(p=0.3, inplace=False)\n",
      "  (drop_3): Dropout(p=0.4, inplace=False)\n",
      "  (pool_layer_before): NetVLAD()\n",
      "  (pool_layer_after): NetVLAD()\n",
      "  (fc): Linear(in_features=131072, out_features=18, bias=True)\n",
      ")\n",
      "2022-12-12 19:53:05,525 [MainThread  ] [INFO ]  Total number of parameters: 24119972\n"
     ]
    },
    {
     "name": "stdout",
     "output_type": "stream",
     "text": [
      "feature_dim found: 2048\n"
     ]
    },
    {
     "name": "stderr",
     "output_type": "stream",
     "text": [
      "2022-12-12 19:53:05,652 [MainThread  ] [INFO ]  Checking/Download features and labels locally\n",
      "Test (spot.): Time 10.220s (it:9.897s) Data:0.890s (it:0.872s) : 100%|██████████| 100/100 [17:02<00:00, 10.23s/it]\n",
      "100%|██████████| 100/100 [00:01<00:00, 77.61it/s]\n",
      "100%|██████████| 12/12 [00:21<00:00,  1.82s/it]\n",
      "2022-12-12 20:10:32,721 [MainThread  ] [INFO ]  Best Performance at end of training \n",
      "2022-12-12 20:10:32,722 [MainThread  ] [INFO ]  a_mAP visibility all: 0.45513043433314804\n",
      "2022-12-12 20:10:32,722 [MainThread  ] [INFO ]  a_mAP visibility all per class: [0.4014238450061823, 0.4919689744407591, 0.7130355886643015, 0.6551226498202228, 0.24711043067617525, 0.35552982867366434, 0.3233291072153127, 0.520298876067881, 0.6574185290020137, 0.6431170118257475, 0.6064501945719925, 0.4153956139080506, 0.49205006786232236, 0.7698095690121726, 0.4000280884339967, 0.016365415558761497, 0.028763592923960656]\n",
      "2022-12-12 20:10:32,723 [MainThread  ] [INFO ]  a_mAP visibility visible: 0.5279168992573582\n",
      "2022-12-12 20:10:32,723 [MainThread  ] [INFO ]  a_mAP visibility visible per class: [0.7009868871155054, 0.5980153422757675, 0.7225820823403363, 0.734622499373666, 0.2738237863418304, 0.3575617137657303, 0.32730727525403186, 0.6226993306441349, 0.660950376493037, 0.6747529901295374, 0.6133629712848631, 0.40618812582397196, 0.5750389248075302, 0.7755984378554909, 0.44055501788147194, 0.3103521710381928, 0.18018935494999108]\n",
      "2022-12-12 20:10:32,723 [MainThread  ] [INFO ]  a_mAP visibility unshown: 0.30236730092212494\n",
      "2022-12-12 20:10:32,724 [MainThread  ] [INFO ]  a_mAP visibility unshown per class: [0.0, 0.44965364429299226, 0.0, 0.25695295253695866, 0.12571292715022242, 0.02764659582841401, 0.0018001800180017999, 0.39088260360526994, 0.6225364402604722, 0.559069512566289, 0.22376616334947455, 0.4536328014759519, 0.013988403528985484, 0.7144654722885763, 0.09066721508601619, 0.0, 0.0]\n",
      "2022-12-12 20:10:32,725 [MainThread  ] [INFO ]  Total Execution Time is 1047.7962622642517 seconds\n"
     ]
    }
   ],
   "source": [
    "\n",
    "%run $training_file_name\\\n",
    "    --SoccerNet_path=$resnet_features_path\\\n",
    "    --model_name=ATTENTION_ResNET_CE+CB\\\n",
    "    --features=ResNET_TF2.npy\\\n",
    "    --seed 3 --LR=1e-3 --split_test=\"test\"\\\n",
    "    --custom_feature_path=$vit_features_path\\\n",
    "    --loss_function=CE+CB\\\n",
    "    --test_only"
   ]
  },
  {
   "cell_type": "markdown",
   "metadata": {},
   "source": [
    "#### Experiment 23:  ResNET + ATTENTION + FL Loss"
   ]
  },
  {
   "cell_type": "code",
   "execution_count": 3,
   "metadata": {},
   "outputs": [
    {
     "name": "stderr",
     "output_type": "stream",
     "text": [
      "/Users/srv/.pyenv/versions/3.10.4/envs/gatech.deepLearning.project/lib/python3.10/site-packages/tqdm/auto.py:22: TqdmWarning: IProgress not found. Please update jupyter and ipywidgets. See https://ipywidgets.readthedocs.io/en/stable/user_install.html\n",
      "  from .autonotebook import tqdm as notebook_tqdm\n",
      "2022-12-11 19:58:29,256 [MainThread  ] [INFO ]  Starting main function\n",
      "2022-12-11 19:58:29,257 [MainThread  ] [INFO ]  Parameters:\n",
      "2022-12-11 19:58:29,257 [MainThread  ] [INFO ]   SoccerNet_path : /Users/srv/Documents/Cloud/Google Drive - Default/deep_learning_alphas_final_project/assets_pca\n",
      "2022-12-11 19:58:29,257 [MainThread  ] [INFO ]         features : ResNET_TF2.npy\n",
      "2022-12-11 19:58:29,258 [MainThread  ] [INFO ]       max_epochs : 1000\n",
      "2022-12-11 19:58:29,258 [MainThread  ] [INFO ]     load_weights : None\n",
      "2022-12-11 19:58:29,258 [MainThread  ] [INFO ]       model_name : ATTENTION_ResNET_FL\n",
      "2022-12-11 19:58:29,259 [MainThread  ] [INFO ]        test_only : False\n",
      "2022-12-11 19:58:29,259 [MainThread  ] [INFO ]      split_train : ['train']\n",
      "2022-12-11 19:58:29,259 [MainThread  ] [INFO ]      split_valid : ['valid']\n",
      "2022-12-11 19:58:29,260 [MainThread  ] [INFO ]       split_test : ['test']\n",
      "2022-12-11 19:58:29,260 [MainThread  ] [INFO ]          version : 2\n",
      "2022-12-11 19:58:29,260 [MainThread  ] [INFO ]      feature_dim : None\n",
      "2022-12-11 19:58:29,261 [MainThread  ] [INFO ]  evaluation_frequency : 10\n",
      "2022-12-11 19:58:29,261 [MainThread  ] [INFO ]        framerate : 2\n",
      "2022-12-11 19:58:29,261 [MainThread  ] [INFO ]      window_size : 15\n",
      "2022-12-11 19:58:29,261 [MainThread  ] [INFO ]             pool : NetVLAD++\n",
      "2022-12-11 19:58:29,262 [MainThread  ] [INFO ]       vocab_size : 64\n",
      "2022-12-11 19:58:29,262 [MainThread  ] [INFO ]       NMS_window : 30\n",
      "2022-12-11 19:58:29,262 [MainThread  ] [INFO ]    NMS_threshold : 0.0\n",
      "2022-12-11 19:58:29,262 [MainThread  ] [INFO ]       batch_size : 256\n",
      "2022-12-11 19:58:29,263 [MainThread  ] [INFO ]               LR : 0.001\n",
      "2022-12-11 19:58:29,263 [MainThread  ] [INFO ]              LRe : 1e-06\n",
      "2022-12-11 19:58:29,263 [MainThread  ] [INFO ]         patience : 10\n",
      "2022-12-11 19:58:29,264 [MainThread  ] [INFO ]              GPU : 0\n",
      "2022-12-11 19:58:29,264 [MainThread  ] [INFO ]   max_num_worker : 1\n",
      "2022-12-11 19:58:29,264 [MainThread  ] [INFO ]             seed : 3\n",
      "2022-12-11 19:58:29,264 [MainThread  ] [INFO ]         loglevel : INFO\n",
      "2022-12-11 19:58:29,265 [MainThread  ] [INFO ]  custom_feature_path : /Users/srv/Documents/Cloud/Georgia Institute of Technology/Alphas - Project Data/vit_features\n",
      "2022-12-11 19:58:29,265 [MainThread  ] [INFO ]    loss_function : FL\n",
      "2022-12-11 19:58:29,265 [MainThread  ] [INFO ]           device : mps\n",
      "2022-12-11 19:58:29,266 [MainThread  ] [INFO ]  model_save_path : /Users/srv/Documents/Cloud/Georgia Institute of Technology/Alphas - Project Data/project_artefacts/ATTENTION_ResNET_FL/mps_run_1\n",
      "2022-12-11 19:58:29,267 [MainThread  ] [INFO ]  Checking/Download features and labels locally\n",
      "2022-12-11 19:58:29,647 [MainThread  ] [INFO ]  Pre-compute clips\n",
      "100%|██████████| 300/300 [00:07<00:00, 39.68it/s]\n",
      "2022-12-11 19:58:46,878 [MainThread  ] [INFO ]  Checking/Download features and labels locally\n",
      "2022-12-11 19:58:47,005 [MainThread  ] [INFO ]  Pre-compute clips\n",
      "100%|██████████| 100/100 [00:02<00:00, 45.13it/s]\n",
      "2022-12-11 19:58:50,192 [MainThread  ] [INFO ]  Checking/Download features and labels locally\n",
      "2022-12-11 19:58:50,297 [MainThread  ] [INFO ]  Pre-compute clips\n",
      "100%|██████████| 100/100 [00:01<00:00, 58.44it/s]\n",
      "2022-12-11 19:59:01,449 [MainThread  ] [INFO ]  Checking/Download features and labels locally\n",
      "2022-12-11 19:59:01,847 [MainThread  ] [INFO ]  AttentionModel(\n",
      "  (attention_1): MultiheadAttention(\n",
      "    (out_proj): NonDynamicallyQuantizableLinear(in_features=2048, out_features=2048, bias=True)\n",
      "  )\n",
      "  (linear_net): Sequential(\n",
      "    (0): Linear(in_features=2048, out_features=1024, bias=True)\n",
      "    (1): ReLU(inplace=True)\n",
      "    (2): Linear(in_features=1024, out_features=2048, bias=True)\n",
      "  )\n",
      "  (final_layer): Linear(in_features=2048, out_features=128, bias=True)\n",
      "  (pos_embedding): Embedding(30, 2048)\n",
      "  (sigm): Sigmoid()\n",
      "  (norm_1): LayerNorm((30, 2048), eps=1e-05, elementwise_affine=True)\n",
      "  (f_class): Linear(in_features=3840, out_features=18, bias=True)\n",
      "  (drop_1): Dropout(p=0.2, inplace=False)\n",
      "  (drop_2): Dropout(p=0.3, inplace=False)\n",
      "  (drop_3): Dropout(p=0.4, inplace=False)\n",
      "  (pool_layer_before): NetVLAD()\n",
      "  (pool_layer_after): NetVLAD()\n",
      "  (fc): Linear(in_features=131072, out_features=18, bias=True)\n",
      ")\n",
      "2022-12-11 19:59:01,848 [MainThread  ] [INFO ]  Total number of parameters: 24119972\n",
      "/Users/srv/Documents/Git/GaTech/dl_cse_7643/final_project/code/training_modules/loss.py:39: UserWarning: To copy construct from a tensor, it is recommended to use sourceTensor.clone().detach() or sourceTensor.clone().detach().requires_grad_(True), rather than torch.tensor(sourceTensor).\n",
      "  self.weight = torch.tensor(weight).float()\n",
      "2022-12-11 19:59:01,860 [MainThread  ] [INFO ]  start training\n"
     ]
    },
    {
     "name": "stdout",
     "output_type": "stream",
     "text": [
      "feature_dim found: 2048\n",
      "gamma = 1\n"
     ]
    },
    {
     "name": "stderr",
     "output_type": "stream",
     "text": [
      "Train 1: Time 0.724s (it:0.510s) Data:0.045s (it:0.015s) Loss 5.9673e-01 : 100%|██████████| 431/431 [05:12<00:00,  1.38it/s]\n",
      "Evaluate 1: Time 0.239s (it:0.159s) Data:0.020s (it:0.003s) Loss 5.9846e-01 : 100%|██████████| 144/144 [00:34<00:00,  4.18it/s]\n",
      "Train 2: Time 0.728s (it:0.390s) Data:0.032s (it:0.017s) Loss 5.8160e-01 : 100%|██████████| 431/431 [05:13<00:00,  1.37it/s]\n",
      "Evaluate 2: Time 0.246s (it:0.060s) Data:0.026s (it:0.003s) Loss 6.0187e-01 : 100%|██████████| 144/144 [00:35<00:00,  4.07it/s]\n",
      "Train 3: Time 0.713s (it:0.482s) Data:0.040s (it:0.013s) Loss 5.7715e-01 : 100%|██████████| 431/431 [05:07<00:00,  1.40it/s]\n",
      "Evaluate 3: Time 0.227s (it:0.061s) Data:0.027s (it:0.005s) Loss 6.0394e-01 : 100%|██████████| 144/144 [00:32<00:00,  4.40it/s]\n",
      "Train 4: Time 0.720s (it:0.590s) Data:0.035s (it:0.013s) Loss 5.7256e-01 : 100%|██████████| 431/431 [05:10<00:00,  1.39it/s]\n",
      "Evaluate 4: Time 0.240s (it:0.059s) Data:0.027s (it:0.004s) Loss 5.9615e-01 : 100%|██████████| 144/144 [00:34<00:00,  4.17it/s]\n",
      "Train 5: Time 0.725s (it:1.116s) Data:0.026s (it:0.011s) Loss 5.7024e-01 : 100%|██████████| 431/431 [05:12<00:00,  1.38it/s]\n",
      "Evaluate 5: Time 0.225s (it:0.065s) Data:0.014s (it:0.003s) Loss 6.0797e-01 : 100%|██████████| 144/144 [00:32<00:00,  4.44it/s]\n",
      "Train 6: Time 0.702s (it:0.338s) Data:0.015s (it:0.009s) Loss 5.6821e-01 : 100%|██████████| 431/431 [05:02<00:00,  1.43it/s]\n",
      "Evaluate 6: Time 0.227s (it:0.064s) Data:0.012s (it:0.002s) Loss 6.0786e-01 : 100%|██████████| 144/144 [00:32<00:00,  4.41it/s]\n",
      "Train 7: Time 0.695s (it:0.325s) Data:0.013s (it:0.009s) Loss 5.6659e-01 : 100%|██████████| 431/431 [04:59<00:00,  1.44it/s]\n",
      "Evaluate 7: Time 0.225s (it:0.064s) Data:0.012s (it:0.002s) Loss 6.0312e-01 : 100%|██████████| 144/144 [00:32<00:00,  4.44it/s]\n",
      "Train 8: Time 0.735s (it:0.333s) Data:0.019s (it:0.012s) Loss 5.6534e-01 : 100%|██████████| 431/431 [05:16<00:00,  1.36it/s]\n",
      "Evaluate 8: Time 0.254s (it:0.063s) Data:0.019s (it:0.003s) Loss 6.1033e-01 : 100%|██████████| 144/144 [00:36<00:00,  3.93it/s]\n",
      "Train 9: Time 0.707s (it:0.324s) Data:0.018s (it:0.010s) Loss 5.6273e-01 : 100%|██████████| 431/431 [05:04<00:00,  1.41it/s]\n",
      "Evaluate 9: Time 0.221s (it:0.063s) Data:0.012s (it:0.002s) Loss 5.9897e-01 : 100%|██████████| 144/144 [00:31<00:00,  4.54it/s]\n",
      "Train 10: Time 0.684s (it:0.332s) Data:0.012s (it:0.008s) Loss 5.6134e-01 : 100%|██████████| 431/431 [04:55<00:00,  1.46it/s]\n",
      "Evaluate 10: Time 0.221s (it:0.061s) Data:0.012s (it:0.002s) Loss 6.1335e-01 : 100%|██████████| 144/144 [00:31<00:00,  4.53it/s]\n",
      "Train 11: Time 0.687s (it:0.335s) Data:0.012s (it:0.009s) Loss 5.6048e-01 : 100%|██████████| 431/431 [04:56<00:00,  1.46it/s]\n",
      "Evaluate 11: Time 0.220s (it:0.062s) Data:0.012s (it:0.002s) Loss 6.1443e-01 : 100%|██████████| 144/144 [00:31<00:00,  4.54it/s]\n",
      "Test (cls): Time 0.265s (it:0.231s) Data:0.064s (it:0.003s) : 100%|██████████| 144/144 [00:38<00:00,  3.77it/s]\n",
      "2022-12-11 21:01:58,328 [MainThread  ] [INFO ]  Validation performance at epoch 11 -> 0.22238194388795152\n"
     ]
    },
    {
     "name": "stdout",
     "output_type": "stream",
     "text": [
      "0.22238194388795152 [0.06434026180683296, 0.26272307542018375, 0.2845068222834999, 0.40421676232893256, 0.024924482713854446, 0.19541935451220677, 0.1668116053501785, 0.21579863558236048, 0.5179989725376506, 0.38274432746376685, 0.26282815218909383, 0.14819600827484913, 0.17736752807996328, 0.43717201053991883, 0.20244919192713662, 0.008472000673476246, 0.02452385441127152]\n"
     ]
    },
    {
     "name": "stderr",
     "output_type": "stream",
     "text": [
      "Train 12: Time 0.696s (it:1.793s) Data:0.021s (it:0.011s) Loss 5.5877e-01 : 100%|██████████| 431/431 [05:00<00:00,  1.44it/s]\n",
      "Evaluate 12: Time 0.224s (it:0.058s) Data:0.023s (it:0.004s) Loss 6.1250e-01 : 100%|██████████| 144/144 [00:32<00:00,  4.47it/s]\n",
      "Train 13: Time 0.688s (it:0.621s) Data:0.016s (it:0.009s) Loss 5.5744e-01 : 100%|██████████| 431/431 [04:56<00:00,  1.45it/s]\n",
      "Evaluate 13: Time 0.223s (it:0.063s) Data:0.013s (it:0.002s) Loss 6.4857e-01 : 100%|██████████| 144/144 [00:32<00:00,  4.49it/s]\n",
      "Train 14: Time 0.688s (it:1.536s) Data:0.016s (it:0.009s) Loss 5.5586e-01 : 100%|██████████| 431/431 [04:56<00:00,  1.45it/s]\n",
      "Evaluate 14: Time 0.218s (it:0.064s) Data:0.014s (it:0.003s) Loss 6.1958e-01 : 100%|██████████| 144/144 [00:31<00:00,  4.58it/s]\n",
      "Train 15: Time 0.696s (it:0.347s) Data:0.028s (it:0.012s) Loss 5.5480e-01 : 100%|██████████| 431/431 [05:00<00:00,  1.44it/s]\n",
      "Evaluate 15: Time 0.230s (it:0.059s) Data:0.027s (it:0.004s) Loss 5.9999e-01 : 100%|██████████| 144/144 [00:33<00:00,  4.34it/s]\n",
      "2022-12-11 21:24:00,774 [MainThread  ] [INFO ]  Plateau Reached!\n"
     ]
    },
    {
     "name": "stdout",
     "output_type": "stream",
     "text": [
      "Epoch 00015: reducing learning rate of group 0 to 1.0000e-04.\n"
     ]
    },
    {
     "name": "stderr",
     "output_type": "stream",
     "text": [
      "Train 16: Time 0.695s (it:2.700s) Data:0.027s (it:0.013s) Loss 5.4830e-01 : 100%|██████████| 431/431 [04:59<00:00,  1.44it/s]\n",
      "Evaluate 16: Time 0.225s (it:0.058s) Data:0.026s (it:0.004s) Loss 6.1603e-01 : 100%|██████████| 144/144 [00:32<00:00,  4.45it/s]\n",
      "Train 17: Time 0.690s (it:1.369s) Data:0.015s (it:0.009s) Loss 5.4734e-01 : 100%|██████████| 431/431 [04:57<00:00,  1.45it/s]\n",
      "Evaluate 17: Time 0.220s (it:0.063s) Data:0.012s (it:0.002s) Loss 6.2112e-01 : 100%|██████████| 144/144 [00:31<00:00,  4.55it/s]\n",
      "Train 18: Time 0.689s (it:1.121s) Data:0.022s (it:0.011s) Loss 5.4678e-01 : 100%|██████████| 431/431 [04:57<00:00,  1.45it/s]\n",
      "Evaluate 18: Time 0.219s (it:0.062s) Data:0.015s (it:0.002s) Loss 6.1935e-01 : 100%|██████████| 144/144 [00:31<00:00,  4.58it/s]\n",
      "Train 19: Time 0.688s (it:0.356s) Data:0.019s (it:0.010s) Loss 5.4633e-01 : 100%|██████████| 431/431 [04:56<00:00,  1.45it/s]\n",
      "Evaluate 19: Time 0.222s (it:0.063s) Data:0.017s (it:0.002s) Loss 6.1787e-01 : 100%|██████████| 144/144 [00:32<00:00,  4.50it/s]\n",
      "Train 20: Time 0.693s (it:1.508s) Data:0.020s (it:0.011s) Loss 5.4612e-01 : 100%|██████████| 431/431 [04:58<00:00,  1.44it/s]\n",
      "Evaluate 20: Time 0.222s (it:0.064s) Data:0.019s (it:0.003s) Loss 6.1689e-01 : 100%|██████████| 144/144 [00:31<00:00,  4.51it/s]\n",
      "Train 21: Time 0.688s (it:0.491s) Data:0.027s (it:0.012s) Loss 5.4590e-01 : 100%|██████████| 431/431 [04:56<00:00,  1.45it/s]\n",
      "Evaluate 21: Time 0.220s (it:0.060s) Data:0.019s (it:0.004s) Loss 6.1633e-01 : 100%|██████████| 144/144 [00:31<00:00,  4.54it/s]\n",
      "Test (cls): Time 0.227s (it:0.065s) Data:0.027s (it:0.004s) : 100%|██████████| 144/144 [00:32<00:00,  4.40it/s]\n",
      "2022-12-11 21:57:30,373 [MainThread  ] [INFO ]  Validation performance at epoch 21 -> 0.22838495455684807\n"
     ]
    },
    {
     "name": "stdout",
     "output_type": "stream",
     "text": [
      "0.22838495455684807 [0.057006955035888436, 0.3010356304993911, 0.3003780455349237, 0.4152292935929705, 0.027932701115667154, 0.20422962802348205, 0.1849266001501903, 0.22489860689377597, 0.5196954450820728, 0.39848526556728825, 0.27651461072280126, 0.14463808913089243, 0.15647200314941653, 0.3928856589379005, 0.22327916876518314, 0.00857880030957343, 0.046357724954999215]\n"
     ]
    },
    {
     "name": "stderr",
     "output_type": "stream",
     "text": [
      "Train 22: Time 0.697s (it:1.780s) Data:0.020s (it:0.011s) Loss 5.4568e-01 : 100%|██████████| 431/431 [05:00<00:00,  1.44it/s]\n",
      "Evaluate 22: Time 0.221s (it:0.063s) Data:0.017s (it:0.002s) Loss 6.2595e-01 : 100%|██████████| 144/144 [00:31<00:00,  4.52it/s]\n",
      "Train 23: Time 0.696s (it:2.299s) Data:0.018s (it:0.010s) Loss 5.4522e-01 : 100%|██████████| 431/431 [04:59<00:00,  1.44it/s]\n",
      "Evaluate 23: Time 0.218s (it:0.062s) Data:0.012s (it:0.002s) Loss 6.1544e-01 : 100%|██████████| 144/144 [00:31<00:00,  4.60it/s]\n",
      "Train 24: Time 0.688s (it:0.353s) Data:0.016s (it:0.009s) Loss 5.4470e-01 : 100%|██████████| 431/431 [04:56<00:00,  1.45it/s]\n",
      "Evaluate 24: Time 0.230s (it:0.062s) Data:0.013s (it:0.002s) Loss 6.2601e-01 : 100%|██████████| 144/144 [00:33<00:00,  4.35it/s]\n",
      "Train 25: Time 0.695s (it:3.012s) Data:0.019s (it:0.011s) Loss 5.4451e-01 : 100%|██████████| 431/431 [04:59<00:00,  1.44it/s]\n",
      "Evaluate 25: Time 0.227s (it:0.057s) Data:0.021s (it:0.004s) Loss 6.2098e-01 : 100%|██████████| 144/144 [00:32<00:00,  4.40it/s]\n",
      "Train 26: Time 0.691s (it:1.266s) Data:0.018s (it:0.010s) Loss 5.4411e-01 : 100%|██████████| 431/431 [04:58<00:00,  1.45it/s]\n",
      "Evaluate 26: Time 0.220s (it:0.061s) Data:0.013s (it:0.002s) Loss 6.2716e-01 : 100%|██████████| 144/144 [00:31<00:00,  4.55it/s]\n",
      "2022-12-11 22:25:04,987 [MainThread  ] [INFO ]  Plateau Reached!\n"
     ]
    },
    {
     "name": "stdout",
     "output_type": "stream",
     "text": [
      "Epoch 00026: reducing learning rate of group 0 to 1.0000e-05.\n"
     ]
    },
    {
     "name": "stderr",
     "output_type": "stream",
     "text": [
      "Train 27: Time 0.695s (it:2.038s) Data:0.017s (it:0.010s) Loss 5.4336e-01 : 100%|██████████| 431/431 [04:59<00:00,  1.44it/s]\n",
      "Evaluate 27: Time 0.220s (it:0.063s) Data:0.017s (it:0.003s) Loss 6.2643e-01 : 100%|██████████| 144/144 [00:31<00:00,  4.54it/s]\n",
      "Train 28: Time 0.696s (it:1.335s) Data:0.019s (it:0.011s) Loss 5.4311e-01 : 100%|██████████| 431/431 [04:59<00:00,  1.44it/s]\n",
      "Evaluate 28: Time 0.223s (it:0.062s) Data:0.019s (it:0.002s) Loss 6.2583e-01 : 100%|██████████| 144/144 [00:32<00:00,  4.48it/s]\n",
      "Train 29: Time 0.696s (it:1.349s) Data:0.019s (it:0.010s) Loss 5.4286e-01 : 100%|██████████| 431/431 [05:00<00:00,  1.44it/s]\n",
      "Evaluate 29: Time 0.220s (it:0.063s) Data:0.015s (it:0.002s) Loss 6.2514e-01 : 100%|██████████| 144/144 [00:31<00:00,  4.54it/s]\n",
      "Train 30: Time 0.695s (it:1.450s) Data:0.016s (it:0.009s) Loss 5.4316e-01 : 100%|██████████| 431/431 [04:59<00:00,  1.44it/s]\n",
      "Evaluate 30: Time 0.219s (it:0.062s) Data:0.012s (it:0.002s) Loss 6.2812e-01 : 100%|██████████| 144/144 [00:31<00:00,  4.57it/s]\n",
      "Train 31: Time 0.705s (it:0.326s) Data:0.030s (it:0.020s) Loss 5.4291e-01 : 100%|██████████| 431/431 [05:03<00:00,  1.42it/s]\n",
      "Evaluate 31: Time 0.230s (it:0.059s) Data:0.027s (it:0.004s) Loss 6.2593e-01 : 100%|██████████| 144/144 [00:33<00:00,  4.34it/s]\n",
      "Test (cls): Time 0.230s (it:0.065s) Data:0.027s (it:0.004s) : 100%|██████████| 144/144 [00:33<00:00,  4.34it/s]\n",
      "2022-12-11 22:53:21,793 [MainThread  ] [INFO ]  Validation performance at epoch 31 -> 0.22836648169399118\n"
     ]
    },
    {
     "name": "stdout",
     "output_type": "stream",
     "text": [
      "0.22836648169399118 [0.05660605481174975, 0.29863642856044387, 0.30000048104866345, 0.41084496575219487, 0.03509774203726758, 0.2040929044490849, 0.18293652720381204, 0.22430100667774508, 0.5176529029183459, 0.3979551667475111, 0.2793476745937204, 0.14128655173288862, 0.15534791210961546, 0.3759309161947748, 0.22636820994108992, 0.008098755478679245, 0.06772598854026332]\n"
     ]
    },
    {
     "name": "stderr",
     "output_type": "stream",
     "text": [
      "Train 32: Time 0.692s (it:0.467s) Data:0.024s (it:0.012s) Loss 5.4304e-01 : 100%|██████████| 431/431 [04:58<00:00,  1.45it/s]\n",
      "Evaluate 32: Time 0.229s (it:0.063s) Data:0.026s (it:0.002s) Loss 6.2597e-01 : 100%|██████████| 144/144 [00:33<00:00,  4.36it/s]\n",
      "Train 33: Time 0.693s (it:1.190s) Data:0.014s (it:0.009s) Loss 5.4329e-01 : 100%|██████████| 431/431 [04:58<00:00,  1.44it/s]\n",
      "Evaluate 33: Time 0.235s (it:0.063s) Data:0.014s (it:0.002s) Loss 6.2588e-01 : 100%|██████████| 144/144 [00:33<00:00,  4.25it/s]\n",
      "Train 34: Time 0.681s (it:1.428s) Data:0.021s (it:0.010s) Loss 5.4300e-01 : 100%|██████████| 431/431 [04:53<00:00,  1.47it/s]\n",
      "Evaluate 34: Time 0.224s (it:0.063s) Data:0.015s (it:0.002s) Loss 6.2584e-01 : 100%|██████████| 144/144 [00:32<00:00,  4.48it/s]\n",
      "Train 35: Time 0.690s (it:1.048s) Data:0.018s (it:0.010s) Loss 5.4300e-01 : 100%|██████████| 431/431 [04:57<00:00,  1.45it/s]\n",
      "Evaluate 35: Time 0.223s (it:0.058s) Data:0.018s (it:0.004s) Loss 6.2693e-01 : 100%|██████████| 144/144 [00:31<00:00,  4.51it/s]\n",
      "Train 36: Time 0.694s (it:2.033s) Data:0.015s (it:0.009s) Loss 5.4296e-01 : 100%|██████████| 431/431 [04:59<00:00,  1.44it/s]\n",
      "Evaluate 36: Time 0.220s (it:0.061s) Data:0.013s (it:0.002s) Loss 6.2518e-01 : 100%|██████████| 144/144 [00:31<00:00,  4.54it/s]\n",
      "Train 37: Time 0.690s (it:0.365s) Data:0.019s (it:0.010s) Loss 5.4296e-01 : 100%|██████████| 431/431 [04:57<00:00,  1.45it/s]\n",
      "Evaluate 37: Time 0.229s (it:0.062s) Data:0.016s (it:0.002s) Loss 6.2689e-01 : 100%|██████████| 144/144 [00:32<00:00,  4.37it/s]\n",
      "2022-12-11 23:26:22,288 [MainThread  ] [INFO ]  Plateau Reached!\n"
     ]
    },
    {
     "name": "stdout",
     "output_type": "stream",
     "text": [
      "Epoch 00037: reducing learning rate of group 0 to 1.0000e-06.\n"
     ]
    },
    {
     "name": "stderr",
     "output_type": "stream",
     "text": [
      "Train 38: Time 0.693s (it:1.484s) Data:0.014s (it:0.009s) Loss 5.4272e-01 : 100%|██████████| 431/431 [04:58<00:00,  1.44it/s]\n",
      "Evaluate 38: Time 0.219s (it:0.062s) Data:0.014s (it:0.002s) Loss 6.2684e-01 : 100%|██████████| 144/144 [00:31<00:00,  4.56it/s]\n",
      "Train 39: Time 0.693s (it:1.423s) Data:0.017s (it:0.010s) Loss 5.4285e-01 : 100%|██████████| 431/431 [04:58<00:00,  1.44it/s]\n",
      "Evaluate 39: Time 0.221s (it:0.058s) Data:0.017s (it:0.004s) Loss 6.2672e-01 : 100%|██████████| 144/144 [00:31<00:00,  4.52it/s]\n",
      "Train 40: Time 0.693s (it:1.049s) Data:0.014s (it:0.009s) Loss 5.4268e-01 : 100%|██████████| 431/431 [04:58<00:00,  1.44it/s]\n",
      "Evaluate 40: Time 0.222s (it:0.062s) Data:0.013s (it:0.002s) Loss 6.2686e-01 : 100%|██████████| 144/144 [00:31<00:00,  4.51it/s]\n",
      "Train 41: Time 0.689s (it:1.065s) Data:0.020s (it:0.010s) Loss 5.4276e-01 : 100%|██████████| 431/431 [04:57<00:00,  1.45it/s]\n",
      "Evaluate 41: Time 0.222s (it:0.064s) Data:0.020s (it:0.003s) Loss 6.2683e-01 : 100%|██████████| 144/144 [00:31<00:00,  4.51it/s]\n",
      "Test (cls): Time 0.228s (it:0.066s) Data:0.027s (it:0.004s) : 100%|██████████| 144/144 [00:32<00:00,  4.39it/s]\n",
      "2022-12-11 23:48:55,972 [MainThread  ] [INFO ]  Validation performance at epoch 41 -> 0.22710114449171498\n"
     ]
    },
    {
     "name": "stdout",
     "output_type": "stream",
     "text": [
      "0.22710114449171498 [0.05712754880777078, 0.2996883906084111, 0.3009776510702016, 0.41114923921521745, 0.03418087634311531, 0.2039925543030674, 0.1824767836794671, 0.22327006494763146, 0.5164430343622235, 0.3985518124959223, 0.2788867575751977, 0.1412095015228915, 0.15587225331592963, 0.37466817928200824, 0.22698568417517034, 0.008261130350708468, 0.04697799430422065]\n"
     ]
    },
    {
     "name": "stderr",
     "output_type": "stream",
     "text": [
      "Train 42: Time 0.687s (it:0.655s) Data:0.015s (it:0.009s) Loss 5.4298e-01 : 100%|██████████| 431/431 [04:56<00:00,  1.45it/s]\n",
      "Evaluate 42: Time 0.219s (it:0.063s) Data:0.013s (it:0.002s) Loss 6.2657e-01 : 100%|██████████| 144/144 [00:31<00:00,  4.57it/s]\n",
      "Train 43: Time 0.710s (it:0.346s) Data:0.041s (it:0.020s) Loss 5.4268e-01 : 100%|██████████| 431/431 [05:05<00:00,  1.41it/s]\n",
      "Evaluate 43: Time 0.253s (it:0.090s) Data:0.046s (it:0.018s) Loss 6.2686e-01 : 100%|██████████| 144/144 [00:36<00:00,  3.96it/s]\n",
      "Train 44: Time 0.735s (it:1.422s) Data:0.034s (it:0.013s) Loss 5.4288e-01 : 100%|██████████| 431/431 [05:16<00:00,  1.36it/s]\n",
      "Evaluate 44: Time 0.255s (it:0.057s) Data:0.027s (it:0.003s) Loss 6.2702e-01 : 100%|██████████| 144/144 [00:36<00:00,  3.92it/s]\n",
      "Train 45: Time 0.689s (it:0.341s) Data:0.017s (it:0.010s) Loss 5.4279e-01 : 100%|██████████| 431/431 [04:57<00:00,  1.45it/s]\n",
      "Evaluate 45: Time 0.224s (it:0.063s) Data:0.012s (it:0.002s) Loss 6.2740e-01 : 100%|██████████| 144/144 [00:32<00:00,  4.46it/s]\n",
      "Train 46: Time 0.686s (it:0.331s) Data:0.017s (it:0.009s) Loss 5.4263e-01 : 100%|██████████| 431/431 [04:55<00:00,  1.46it/s]\n",
      "Evaluate 46: Time 0.221s (it:0.061s) Data:0.014s (it:0.002s) Loss 6.2714e-01 : 100%|██████████| 144/144 [00:31<00:00,  4.52it/s]\n",
      "Train 47: Time 0.687s (it:0.320s) Data:0.012s (it:0.008s) Loss 5.4257e-01 : 100%|██████████| 431/431 [04:56<00:00,  1.46it/s]\n",
      "Evaluate 47: Time 0.221s (it:0.064s) Data:0.012s (it:0.003s) Loss 6.2730e-01 : 100%|██████████| 144/144 [00:31<00:00,  4.51it/s]\n",
      "Train 48: Time 0.688s (it:0.315s) Data:0.013s (it:0.009s) Loss 5.4253e-01 : 100%|██████████| 431/431 [04:56<00:00,  1.45it/s]\n",
      "Evaluate 48: Time 0.221s (it:0.063s) Data:0.012s (it:0.002s) Loss 6.2736e-01 : 100%|██████████| 144/144 [00:31<00:00,  4.52it/s]\n",
      "2022-12-12 00:27:53,330 [MainThread  ] [INFO ]  Plateau Reached!\n"
     ]
    },
    {
     "name": "stdout",
     "output_type": "stream",
     "text": [
      "Epoch 00048: reducing learning rate of group 0 to 1.0000e-07.\n"
     ]
    },
    {
     "name": "stderr",
     "output_type": "stream",
     "text": [
      "Train 49: Time 0.687s (it:0.318s) Data:0.012s (it:0.008s) Loss 5.4281e-01 : 100%|██████████| 431/431 [04:55<00:00,  1.46it/s]\n",
      "Evaluate 49: Time 0.221s (it:0.064s) Data:0.012s (it:0.003s) Loss 6.2735e-01 : 100%|██████████| 144/144 [00:31<00:00,  4.53it/s]\n",
      "Train 50: Time 0.689s (it:0.328s) Data:0.015s (it:0.009s) Loss 5.4262e-01 : 100%|██████████| 431/431 [04:56<00:00,  1.45it/s]\n",
      "Evaluate 50: Time 0.222s (it:0.064s) Data:0.013s (it:0.002s) Loss 6.2730e-01 : 100%|██████████| 144/144 [00:31<00:00,  4.51it/s]\n",
      "Train 51: Time 0.685s (it:0.315s) Data:0.012s (it:0.009s) Loss 5.4291e-01 : 100%|██████████| 431/431 [04:55<00:00,  1.46it/s]\n",
      "Evaluate 51: Time 0.224s (it:0.063s) Data:0.017s (it:0.002s) Loss 6.2730e-01 : 100%|██████████| 144/144 [00:32<00:00,  4.46it/s]\n",
      "Test (cls): Time 0.247s (it:0.064s) Data:0.048s (it:0.003s) : 100%|██████████| 144/144 [00:35<00:00,  4.05it/s]\n",
      "2022-12-12 00:44:53,146 [MainThread  ] [INFO ]  Validation performance at epoch 51 -> 0.22702876287912854\n"
     ]
    },
    {
     "name": "stdout",
     "output_type": "stream",
     "text": [
      "0.22702876287912854 [0.05703311159642342, 0.3000147013457067, 0.30084781293954577, 0.4109559178519569, 0.03409473804864489, 0.20388911389276743, 0.18227873487108684, 0.2232440916219715, 0.5164233795648732, 0.39841103136785216, 0.2787925139041708, 0.14112094360807967, 0.15575399202957702, 0.37450931098318174, 0.2269275028691697, 0.008262590118136895, 0.0469294823320409]\n"
     ]
    },
    {
     "name": "stderr",
     "output_type": "stream",
     "text": [
      "Train 52: Time 0.689s (it:0.580s) Data:0.019s (it:0.010s) Loss 5.4259e-01 : 100%|██████████| 431/431 [04:57<00:00,  1.45it/s]\n",
      "Evaluate 52: Time 0.222s (it:0.063s) Data:0.014s (it:0.002s) Loss 6.2733e-01 : 100%|██████████| 144/144 [00:31<00:00,  4.50it/s]\n",
      "Train 53: Time 0.703s (it:3.804s) Data:0.022s (it:0.011s) Loss 5.4265e-01 : 100%|██████████| 431/431 [05:02<00:00,  1.42it/s]\n",
      "Evaluate 53: Time 0.220s (it:0.064s) Data:0.018s (it:0.003s) Loss 6.2732e-01 : 100%|██████████| 144/144 [00:31<00:00,  4.55it/s]\n",
      "Train 54: Time 0.690s (it:1.553s) Data:0.017s (it:0.009s) Loss 5.4284e-01 : 100%|██████████| 431/431 [04:57<00:00,  1.45it/s]\n",
      "Evaluate 54: Time 0.218s (it:0.063s) Data:0.013s (it:0.003s) Loss 6.2727e-01 : 100%|██████████| 144/144 [00:31<00:00,  4.58it/s]\n",
      "Train 55: Time 0.694s (it:2.353s) Data:0.022s (it:0.012s) Loss 5.4271e-01 : 100%|██████████| 431/431 [04:59<00:00,  1.44it/s]\n",
      "Evaluate 55: Time 0.222s (it:0.059s) Data:0.022s (it:0.003s) Loss 6.2726e-01 : 100%|██████████| 144/144 [00:31<00:00,  4.51it/s]\n",
      "Train 56: Time 0.681s (it:0.354s) Data:0.015s (it:0.009s) Loss 5.4240e-01 : 100%|██████████| 431/431 [04:53<00:00,  1.47it/s]\n",
      "Evaluate 56: Time 0.217s (it:0.062s) Data:0.012s (it:0.002s) Loss 6.2727e-01 : 100%|██████████| 144/144 [00:31<00:00,  4.62it/s]\n",
      "Train 57: Time 0.691s (it:1.339s) Data:0.018s (it:0.011s) Loss 5.4232e-01 : 100%|██████████| 431/431 [04:57<00:00,  1.45it/s]\n",
      "Evaluate 57: Time 0.223s (it:0.063s) Data:0.017s (it:0.003s) Loss 6.2731e-01 : 100%|██████████| 144/144 [00:32<00:00,  4.49it/s]\n",
      "Train 58: Time 0.692s (it:0.927s) Data:0.016s (it:0.010s) Loss 5.4268e-01 : 100%|██████████| 431/431 [04:58<00:00,  1.44it/s]\n",
      "Evaluate 58: Time 0.225s (it:0.059s) Data:0.022s (it:0.004s) Loss 6.2729e-01 : 100%|██████████| 144/144 [00:32<00:00,  4.44it/s]\n",
      "Train 59: Time 0.691s (it:2.063s) Data:0.018s (it:0.010s) Loss 5.4283e-01 : 100%|██████████| 431/431 [04:57<00:00,  1.45it/s]\n",
      "Evaluate 59: Time 0.219s (it:0.061s) Data:0.015s (it:0.002s) Loss 6.2728e-01 : 100%|██████████| 144/144 [00:31<00:00,  4.56it/s]\n",
      "2022-12-12 01:28:51,643 [MainThread  ] [INFO ]  Plateau Reached!\n"
     ]
    },
    {
     "name": "stdout",
     "output_type": "stream",
     "text": [
      "Epoch 00059: reducing learning rate of group 0 to 1.0000e-08.\n"
     ]
    },
    {
     "name": "stderr",
     "output_type": "stream",
     "text": [
      "Train 60: Time 0.693s (it:1.578s) Data:0.023s (it:0.011s) Loss 5.4251e-01 : 100%|██████████| 431/431 [04:58<00:00,  1.44it/s]\n",
      "Evaluate 60: Time 0.227s (it:0.063s) Data:0.022s (it:0.002s) Loss 6.2729e-01 : 100%|██████████| 144/144 [00:32<00:00,  4.41it/s]\n",
      "Train 61: Time 0.693s (it:1.790s) Data:0.019s (it:0.011s) Loss 5.4258e-01 : 100%|██████████| 431/431 [04:58<00:00,  1.44it/s]\n",
      "Evaluate 61: Time 0.220s (it:0.062s) Data:0.014s (it:0.003s) Loss 6.2729e-01 : 100%|██████████| 144/144 [00:31<00:00,  4.54it/s]\n",
      "Test (cls): Time 0.227s (it:0.064s) Data:0.026s (it:0.003s) : 100%|██████████| 144/144 [00:32<00:00,  4.40it/s]\n",
      "2022-12-12 01:40:25,930 [MainThread  ] [INFO ]  Validation performance at epoch 61 -> 0.22702179567362965\n"
     ]
    },
    {
     "name": "stdout",
     "output_type": "stream",
     "text": [
      "0.22702179567362965 [0.05707509133859204, 0.30003807381572767, 0.30082924972257613, 0.4109264205197879, 0.03408583052086206, 0.2038560006963898, 0.1823201513813614, 0.22322854849919804, 0.5164294261145628, 0.3983861183023046, 0.2787743606205014, 0.1411228337730826, 0.15575156250486763, 0.3744257744100745, 0.2269261386266026, 0.008265767135901972, 0.046929178469311515]\n"
     ]
    },
    {
     "name": "stderr",
     "output_type": "stream",
     "text": [
      "Train 62: Time 0.694s (it:2.690s) Data:0.020s (it:0.011s) Loss 5.4271e-01 : 100%|██████████| 431/431 [04:58<00:00,  1.44it/s]\n",
      "Evaluate 62: Time 0.225s (it:0.059s) Data:0.025s (it:0.005s) Loss 6.2729e-01 : 100%|██████████| 144/144 [00:32<00:00,  4.45it/s]\n",
      "Train 63: Time 0.710s (it:0.626s) Data:0.030s (it:0.013s) Loss 5.4299e-01 : 100%|██████████| 431/431 [05:06<00:00,  1.41it/s]\n",
      "Evaluate 63: Time 0.234s (it:0.057s) Data:0.026s (it:0.003s) Loss 6.2729e-01 : 100%|██████████| 144/144 [00:33<00:00,  4.28it/s]\n",
      "Train 64: Time 0.692s (it:0.943s) Data:0.022s (it:0.011s) Loss 5.4290e-01 : 100%|██████████| 431/431 [04:58<00:00,  1.45it/s]\n",
      "Evaluate 64: Time 0.221s (it:0.062s) Data:0.014s (it:0.002s) Loss 6.2728e-01 : 100%|██████████| 144/144 [00:31<00:00,  4.53it/s]\n",
      "Train 65: Time 0.690s (it:0.442s) Data:0.015s (it:0.009s) Loss 5.4264e-01 : 100%|██████████| 431/431 [04:57<00:00,  1.45it/s]\n",
      "Evaluate 65: Time 0.222s (it:0.061s) Data:0.012s (it:0.002s) Loss 6.2729e-01 : 100%|██████████| 144/144 [00:32<00:00,  4.50it/s]\n",
      "Train 66: Time 0.686s (it:0.313s) Data:0.013s (it:0.009s) Loss 5.4258e-01 : 100%|██████████| 431/431 [04:55<00:00,  1.46it/s]\n",
      "Evaluate 66: Time 0.221s (it:0.062s) Data:0.012s (it:0.002s) Loss 6.2729e-01 : 100%|██████████| 144/144 [00:31<00:00,  4.53it/s]\n",
      "Train 67: Time 0.686s (it:0.334s) Data:0.012s (it:0.008s) Loss 5.4264e-01 : 100%|██████████| 431/431 [04:55<00:00,  1.46it/s]\n",
      "Evaluate 67: Time 0.221s (it:0.063s) Data:0.012s (it:0.002s) Loss 6.2729e-01 : 100%|██████████| 144/144 [00:31<00:00,  4.52it/s]\n",
      "Train 68: Time 0.688s (it:0.472s) Data:0.012s (it:0.008s) Loss 5.4282e-01 : 100%|██████████| 431/431 [04:56<00:00,  1.45it/s]\n",
      "Evaluate 68: Time 0.236s (it:0.062s) Data:0.022s (it:0.002s) Loss 6.2729e-01 : 100%|██████████| 144/144 [00:33<00:00,  4.24it/s]\n",
      "Train 69: Time 0.683s (it:0.315s) Data:0.013s (it:0.009s) Loss 5.4251e-01 : 100%|██████████| 431/431 [04:54<00:00,  1.46it/s]\n",
      "Evaluate 69: Time 0.221s (it:0.062s) Data:0.012s (it:0.002s) Loss 6.2729e-01 : 100%|██████████| 144/144 [00:31<00:00,  4.53it/s]\n",
      "2022-12-12 02:24:28,186 [MainThread  ] [INFO ]  Plateau Reached and no more reduction -> Exiting Loop\n",
      "2022-12-12 02:24:29,455 [MainThread  ] [INFO ]  Checking/Download features and labels locally\n",
      "Test (spot.): Time 9.585s (it:9.090s) Data:0.327s (it:0.283s) : 100%|██████████| 100/100 [15:58<00:00,  9.59s/it]\n",
      "100%|██████████| 100/100 [00:01<00:00, 98.09it/s]\n",
      "100%|██████████| 12/12 [00:13<00:00,  1.15s/it]\n",
      "2022-12-12 02:40:43,906 [MainThread  ] [INFO ]  Best Performance at end of training \n",
      "2022-12-12 02:40:43,907 [MainThread  ] [INFO ]  a_mAP visibility all: 0.3100790468866195\n",
      "2022-12-12 02:40:43,907 [MainThread  ] [INFO ]  a_mAP visibility all per class: [0.08733722481901565, 0.2645537034431482, 0.4618084966960396, 0.5470333648126074, 0.02952343423069652, 0.2892893341398413, 0.2713750075244239, 0.3367571341675832, 0.6056538090024502, 0.520028390108975, 0.4628840637392295, 0.3131738596052545, 0.2586227234016572, 0.5469821745962112, 0.2630152883750357, 0.006768710192044397, 0.00653707821831847]\n",
      "2022-12-12 02:40:43,908 [MainThread  ] [INFO ]  a_mAP visibility visible: 0.3524390879374324\n",
      "2022-12-12 02:40:43,908 [MainThread  ] [INFO ]  a_mAP visibility visible per class: [0.26288106918693804, 0.401841216231094, 0.48492902914839336, 0.6326319627521186, 0.034868737933901855, 0.29052331115754304, 0.2732339121191461, 0.40708568339575807, 0.6102423161141618, 0.5655076239210944, 0.46718013440226985, 0.24755995189639685, 0.30826176930293436, 0.5592298418220275, 0.28723033498911693, 0.09589833312581776, 0.06235926743763734]\n",
      "2022-12-12 02:40:43,908 [MainThread  ] [INFO ]  a_mAP visibility unshown: 0.21678961737905963\n",
      "2022-12-12 02:40:43,909 [MainThread  ] [INFO ]  a_mAP visibility unshown per class: [0.0, 0.21730612140498515, 0.0, 0.2016550512707931, 0.010292557170381767, 0.13292011019283748, 0.0069796235585553625, 0.22801483312151652, 0.512731312341153, 0.3921831271166479, 0.2396764913567981, 0.33295013761411985, 0.04731710984888789, 0.4543450292889098, 0.04189352164218944, 0.0, 0.0]\n",
      "2022-12-12 02:40:43,910 [MainThread  ] [INFO ]  Total Execution Time is 24134.654053926468 seconds\n"
     ]
    }
   ],
   "source": [
    "\n",
    "%run $training_file_name\\\n",
    "    --SoccerNet_path=$resnet_features_path\\\n",
    "    --model_name=ATTENTION_ResNET_FL\\\n",
    "    --features=ResNET_TF2.npy\\\n",
    "    --seed 3 --LR=1e-3\\\n",
    "    --split_test=\"test\"\\\n",
    "    --custom_feature_path=$vit_features_path\\\n",
    "    --loss_function=FL"
   ]
  },
  {
   "cell_type": "markdown",
   "metadata": {},
   "source": [
    "#### Experiment 24:  ResNET + ATTENTION + CB + FL Loss"
   ]
  },
  {
   "cell_type": "code",
   "execution_count": 4,
   "metadata": {},
   "outputs": [
    {
     "name": "stderr",
     "output_type": "stream",
     "text": [
      "2022-12-12 02:40:45,222 [MainThread  ] [INFO ]  Starting main function\n",
      "2022-12-12 02:40:45,223 [MainThread  ] [INFO ]  Parameters:\n",
      "2022-12-12 02:40:45,223 [MainThread  ] [INFO ]   SoccerNet_path : /Users/srv/Documents/Cloud/Google Drive - Default/deep_learning_alphas_final_project/assets_pca\n",
      "2022-12-12 02:40:45,224 [MainThread  ] [INFO ]         features : ResNET_TF2.npy\n",
      "2022-12-12 02:40:45,225 [MainThread  ] [INFO ]       max_epochs : 1000\n",
      "2022-12-12 02:40:45,225 [MainThread  ] [INFO ]     load_weights : None\n",
      "2022-12-12 02:40:45,225 [MainThread  ] [INFO ]       model_name : ATTENTION_ResNET_CB+FL\n",
      "2022-12-12 02:40:45,226 [MainThread  ] [INFO ]        test_only : False\n",
      "2022-12-12 02:40:45,227 [MainThread  ] [INFO ]      split_train : ['train']\n",
      "2022-12-12 02:40:45,227 [MainThread  ] [INFO ]      split_valid : ['valid']\n",
      "2022-12-12 02:40:45,228 [MainThread  ] [INFO ]       split_test : ['test']\n",
      "2022-12-12 02:40:45,228 [MainThread  ] [INFO ]          version : 2\n",
      "2022-12-12 02:40:45,228 [MainThread  ] [INFO ]      feature_dim : None\n",
      "2022-12-12 02:40:45,229 [MainThread  ] [INFO ]  evaluation_frequency : 10\n",
      "2022-12-12 02:40:45,229 [MainThread  ] [INFO ]        framerate : 2\n",
      "2022-12-12 02:40:45,229 [MainThread  ] [INFO ]      window_size : 15\n",
      "2022-12-12 02:40:45,230 [MainThread  ] [INFO ]             pool : NetVLAD++\n",
      "2022-12-12 02:40:45,230 [MainThread  ] [INFO ]       vocab_size : 64\n",
      "2022-12-12 02:40:45,230 [MainThread  ] [INFO ]       NMS_window : 30\n",
      "2022-12-12 02:40:45,231 [MainThread  ] [INFO ]    NMS_threshold : 0.0\n",
      "2022-12-12 02:40:45,231 [MainThread  ] [INFO ]       batch_size : 256\n",
      "2022-12-12 02:40:45,231 [MainThread  ] [INFO ]               LR : 0.001\n",
      "2022-12-12 02:40:45,231 [MainThread  ] [INFO ]              LRe : 1e-06\n",
      "2022-12-12 02:40:45,232 [MainThread  ] [INFO ]         patience : 10\n",
      "2022-12-12 02:40:45,232 [MainThread  ] [INFO ]              GPU : 0\n",
      "2022-12-12 02:40:45,232 [MainThread  ] [INFO ]   max_num_worker : 1\n",
      "2022-12-12 02:40:45,233 [MainThread  ] [INFO ]             seed : 3\n",
      "2022-12-12 02:40:45,233 [MainThread  ] [INFO ]         loglevel : INFO\n",
      "2022-12-12 02:40:45,233 [MainThread  ] [INFO ]  custom_feature_path : /Users/srv/Documents/Cloud/Georgia Institute of Technology/Alphas - Project Data/vit_features\n",
      "2022-12-12 02:40:45,233 [MainThread  ] [INFO ]    loss_function : CB+FL\n",
      "2022-12-12 02:40:45,234 [MainThread  ] [INFO ]           device : mps\n",
      "2022-12-12 02:40:45,234 [MainThread  ] [INFO ]  model_save_path : /Users/srv/Documents/Cloud/Georgia Institute of Technology/Alphas - Project Data/project_artefacts/ATTENTION_ResNET_CB+FL/mps_run_1\n",
      "2022-12-12 02:40:45,236 [MainThread  ] [INFO ]  Checking/Download features and labels locally\n",
      "2022-12-12 02:40:45,623 [MainThread  ] [INFO ]  Pre-compute clips\n",
      "100%|██████████| 300/300 [00:08<00:00, 37.45it/s]\n",
      "2022-12-12 02:41:13,045 [MainThread  ] [INFO ]  Checking/Download features and labels locally\n",
      "2022-12-12 02:41:13,167 [MainThread  ] [INFO ]  Pre-compute clips\n",
      "100%|██████████| 100/100 [00:02<00:00, 42.01it/s]\n",
      "2022-12-12 02:41:16,545 [MainThread  ] [INFO ]  Checking/Download features and labels locally\n",
      "2022-12-12 02:41:16,649 [MainThread  ] [INFO ]  Pre-compute clips\n",
      "100%|██████████| 100/100 [00:01<00:00, 57.67it/s]\n",
      "2022-12-12 02:41:25,584 [MainThread  ] [INFO ]  Checking/Download features and labels locally\n"
     ]
    },
    {
     "name": "stdout",
     "output_type": "stream",
     "text": [
      "feature_dim found: 2048\n"
     ]
    },
    {
     "name": "stderr",
     "output_type": "stream",
     "text": [
      "2022-12-12 02:41:26,249 [MainThread  ] [INFO ]  AttentionModel(\n",
      "  (attention_1): MultiheadAttention(\n",
      "    (out_proj): NonDynamicallyQuantizableLinear(in_features=2048, out_features=2048, bias=True)\n",
      "  )\n",
      "  (linear_net): Sequential(\n",
      "    (0): Linear(in_features=2048, out_features=1024, bias=True)\n",
      "    (1): ReLU(inplace=True)\n",
      "    (2): Linear(in_features=1024, out_features=2048, bias=True)\n",
      "  )\n",
      "  (final_layer): Linear(in_features=2048, out_features=128, bias=True)\n",
      "  (pos_embedding): Embedding(30, 2048)\n",
      "  (sigm): Sigmoid()\n",
      "  (norm_1): LayerNorm((30, 2048), eps=1e-05, elementwise_affine=True)\n",
      "  (f_class): Linear(in_features=3840, out_features=18, bias=True)\n",
      "  (drop_1): Dropout(p=0.2, inplace=False)\n",
      "  (drop_2): Dropout(p=0.3, inplace=False)\n",
      "  (drop_3): Dropout(p=0.4, inplace=False)\n",
      "  (pool_layer_before): NetVLAD()\n",
      "  (pool_layer_after): NetVLAD()\n",
      "  (fc): Linear(in_features=131072, out_features=18, bias=True)\n",
      ")\n",
      "2022-12-12 02:41:26,250 [MainThread  ] [INFO ]  Total number of parameters: 24119972\n",
      "/Users/srv/Documents/Git/GaTech/dl_cse_7643/final_project/code/training_modules/loss.py:39: UserWarning: To copy construct from a tensor, it is recommended to use sourceTensor.clone().detach() or sourceTensor.clone().detach().requires_grad_(True), rather than torch.tensor(sourceTensor).\n",
      "  self.weight = torch.tensor(weight).float()\n",
      "2022-12-12 02:41:26,266 [MainThread  ] [INFO ]  start training\n"
     ]
    },
    {
     "name": "stdout",
     "output_type": "stream",
     "text": [
      "beta = 0.9\n",
      "gamma = 1\n"
     ]
    },
    {
     "name": "stderr",
     "output_type": "stream",
     "text": [
      "Train 1: Time 0.727s (it:0.822s) Data:0.064s (it:0.015s) Loss 5.7066e-01 : 100%|██████████| 431/431 [05:13<00:00,  1.38it/s]\n",
      "Evaluate 1: Time 0.229s (it:0.166s) Data:0.020s (it:0.003s) Loss 5.6531e-01 : 100%|██████████| 144/144 [00:33<00:00,  4.36it/s]\n",
      "Train 2: Time 0.705s (it:0.518s) Data:0.025s (it:0.012s) Loss 5.5467e-01 : 100%|██████████| 431/431 [05:03<00:00,  1.42it/s]\n",
      "Evaluate 2: Time 0.230s (it:0.058s) Data:0.020s (it:0.003s) Loss 5.6243e-01 : 100%|██████████| 144/144 [00:33<00:00,  4.35it/s]\n",
      "Train 3: Time 0.690s (it:0.309s) Data:0.018s (it:0.010s) Loss 5.5260e-01 : 100%|██████████| 431/431 [04:57<00:00,  1.45it/s]\n",
      "Evaluate 3: Time 0.226s (it:0.063s) Data:0.014s (it:0.003s) Loss 5.6315e-01 : 100%|██████████| 144/144 [00:32<00:00,  4.42it/s]\n",
      "Train 4: Time 0.690s (it:0.497s) Data:0.016s (it:0.010s) Loss 5.4762e-01 : 100%|██████████| 431/431 [04:57<00:00,  1.45it/s]\n",
      "Evaluate 4: Time 0.224s (it:0.063s) Data:0.014s (it:0.002s) Loss 5.5044e-01 : 100%|██████████| 144/144 [00:32<00:00,  4.47it/s]\n",
      "Train 5: Time 0.689s (it:0.308s) Data:0.015s (it:0.010s) Loss 5.4261e-01 : 100%|██████████| 431/431 [04:57<00:00,  1.45it/s]\n",
      "Evaluate 5: Time 0.227s (it:0.059s) Data:0.022s (it:0.003s) Loss 5.4818e-01 : 100%|██████████| 144/144 [00:32<00:00,  4.41it/s]\n",
      "Train 6: Time 0.690s (it:0.307s) Data:0.013s (it:0.009s) Loss 5.3960e-01 : 100%|██████████| 431/431 [04:57<00:00,  1.45it/s]\n",
      "Evaluate 6: Time 0.222s (it:0.063s) Data:0.012s (it:0.002s) Loss 5.4675e-01 : 100%|██████████| 144/144 [00:31<00:00,  4.50it/s]\n",
      "Train 7: Time 0.689s (it:0.309s) Data:0.018s (it:0.011s) Loss 5.3724e-01 : 100%|██████████| 431/431 [04:57<00:00,  1.45it/s]\n",
      "Evaluate 7: Time 0.223s (it:0.062s) Data:0.013s (it:0.002s) Loss 5.4988e-01 : 100%|██████████| 144/144 [00:32<00:00,  4.48it/s]\n",
      "Train 8: Time 0.690s (it:0.308s) Data:0.015s (it:0.009s) Loss 5.3692e-01 : 100%|██████████| 431/431 [04:57<00:00,  1.45it/s]\n",
      "Evaluate 8: Time 0.225s (it:0.062s) Data:0.013s (it:0.002s) Loss 5.4557e-01 : 100%|██████████| 144/144 [00:32<00:00,  4.45it/s]\n",
      "Train 9: Time 0.691s (it:0.305s) Data:0.012s (it:0.009s) Loss 5.3748e-01 : 100%|██████████| 431/431 [04:57<00:00,  1.45it/s]\n",
      "Evaluate 9: Time 0.218s (it:0.066s) Data:0.013s (it:0.002s) Loss 5.4642e-01 : 100%|██████████| 144/144 [00:31<00:00,  4.59it/s]\n",
      "Train 10: Time 0.678s (it:0.311s) Data:0.015s (it:0.010s) Loss 5.3564e-01 : 100%|██████████| 431/431 [04:52<00:00,  1.47it/s]\n",
      "Evaluate 10: Time 0.231s (it:0.061s) Data:0.015s (it:0.002s) Loss 5.4642e-01 : 100%|██████████| 144/144 [00:33<00:00,  4.33it/s]\n",
      "Train 11: Time 0.690s (it:0.730s) Data:0.014s (it:0.009s) Loss 5.3367e-01 : 100%|██████████| 431/431 [04:57<00:00,  1.45it/s]\n",
      "Evaluate 11: Time 0.230s (it:0.059s) Data:0.025s (it:0.003s) Loss 5.4509e-01 : 100%|██████████| 144/144 [00:33<00:00,  4.35it/s]\n",
      "Test (cls): Time 0.252s (it:1.184s) Data:0.043s (it:0.004s) : 100%|██████████| 144/144 [00:36<00:00,  3.96it/s]\n",
      "2022-12-12 03:42:51,061 [MainThread  ] [INFO ]  Validation performance at epoch 11 -> 0.2907916598000895\n"
     ]
    },
    {
     "name": "stdout",
     "output_type": "stream",
     "text": [
      "0.2907916598000895 [0.1398793398668292, 0.3290590096392765, 0.3722156023185825, 0.49106601991656124, 0.04995191714435999, 0.2467104412147981, 0.21942896935744843, 0.2959433276781483, 0.5850343870882334, 0.4888155250949596, 0.3579124262097033, 0.20712233109483075, 0.2234384404514235, 0.5804363388940319, 0.22417288884888786, 0.043985000324473875, 0.08828625145897262]\n"
     ]
    },
    {
     "name": "stderr",
     "output_type": "stream",
     "text": [
      "Train 12: Time 0.705s (it:0.622s) Data:0.048s (it:0.018s) Loss 5.3330e-01 : 100%|██████████| 431/431 [05:04<00:00,  1.42it/s]\n",
      "Evaluate 12: Time 0.233s (it:0.058s) Data:0.027s (it:0.004s) Loss 5.5041e-01 : 100%|██████████| 144/144 [00:33<00:00,  4.29it/s]\n",
      "Train 13: Time 0.698s (it:2.129s) Data:0.028s (it:0.012s) Loss 5.3271e-01 : 100%|██████████| 431/431 [05:00<00:00,  1.43it/s]\n",
      "Evaluate 13: Time 0.228s (it:0.064s) Data:0.025s (it:0.003s) Loss 5.6226e-01 : 100%|██████████| 144/144 [00:32<00:00,  4.39it/s]\n",
      "Train 14: Time 0.699s (it:0.330s) Data:0.026s (it:0.014s) Loss 5.3275e-01 : 100%|██████████| 431/431 [05:01<00:00,  1.43it/s]\n",
      "Evaluate 14: Time 0.225s (it:0.064s) Data:0.021s (it:0.002s) Loss 5.4984e-01 : 100%|██████████| 144/144 [00:32<00:00,  4.44it/s]\n",
      "Train 15: Time 0.686s (it:0.303s) Data:0.015s (it:0.009s) Loss 5.3162e-01 : 100%|██████████| 431/431 [04:55<00:00,  1.46it/s]\n",
      "Evaluate 15: Time 0.221s (it:0.061s) Data:0.012s (it:0.002s) Loss 5.4830e-01 : 100%|██████████| 144/144 [00:31<00:00,  4.52it/s]\n",
      "Train 16: Time 0.685s (it:0.305s) Data:0.012s (it:0.008s) Loss 5.2863e-01 : 100%|██████████| 431/431 [04:55<00:00,  1.46it/s]\n",
      "Evaluate 16: Time 0.222s (it:0.061s) Data:0.012s (it:0.002s) Loss 5.4662e-01 : 100%|██████████| 144/144 [00:31<00:00,  4.51it/s]\n",
      "Train 17: Time 0.691s (it:0.305s) Data:0.012s (it:0.008s) Loss 5.2765e-01 : 100%|██████████| 431/431 [04:57<00:00,  1.45it/s]\n",
      "Evaluate 17: Time 0.223s (it:0.062s) Data:0.012s (it:0.002s) Loss 5.4884e-01 : 100%|██████████| 144/144 [00:32<00:00,  4.48it/s]\n",
      "Train 18: Time 0.688s (it:0.305s) Data:0.012s (it:0.008s) Loss 5.2609e-01 : 100%|██████████| 431/431 [04:56<00:00,  1.45it/s]\n",
      "Evaluate 18: Time 0.222s (it:0.065s) Data:0.012s (it:0.002s) Loss 5.4474e-01 : 100%|██████████| 144/144 [00:31<00:00,  4.51it/s]\n",
      "Train 19: Time 0.688s (it:0.305s) Data:0.012s (it:0.009s) Loss 5.2474e-01 : 100%|██████████| 431/431 [04:56<00:00,  1.45it/s]\n",
      "Evaluate 19: Time 0.220s (it:0.063s) Data:0.012s (it:0.003s) Loss 5.4525e-01 : 100%|██████████| 144/144 [00:31<00:00,  4.54it/s]\n",
      "Train 20: Time 0.686s (it:0.305s) Data:0.012s (it:0.009s) Loss 5.2408e-01 : 100%|██████████| 431/431 [04:55<00:00,  1.46it/s]\n",
      "Evaluate 20: Time 0.221s (it:0.063s) Data:0.012s (it:0.002s) Loss 5.4243e-01 : 100%|██████████| 144/144 [00:31<00:00,  4.53it/s]\n",
      "Train 21: Time 0.689s (it:0.304s) Data:0.012s (it:0.009s) Loss 5.2243e-01 : 100%|██████████| 431/431 [04:56<00:00,  1.45it/s]\n",
      "Evaluate 21: Time 0.222s (it:0.062s) Data:0.012s (it:0.002s) Loss 5.4215e-01 : 100%|██████████| 144/144 [00:31<00:00,  4.51it/s]\n",
      "Test (cls): Time 0.307s (it:3.408s) Data:0.082s (it:0.004s) : 100%|██████████| 144/144 [00:44<00:00,  3.26it/s]\n",
      "2022-12-12 04:38:39,192 [MainThread  ] [INFO ]  Validation performance at epoch 21 -> 0.3307069273857528\n"
     ]
    },
    {
     "name": "stdout",
     "output_type": "stream",
     "text": [
      "0.3307069273857528 [0.3319326495258792, 0.3549038252866068, 0.3905666262290365, 0.5107398115073094, 0.08045467447726437, 0.25921344580414757, 0.24502378143426606, 0.3263732107359121, 0.6123545394161805, 0.5025905416842344, 0.39335321083130936, 0.22359176365730646, 0.2928074517060533, 0.6368620999511412, 0.25785908213787284, 0.08935270601878699, 0.11403834515449081]\n"
     ]
    },
    {
     "name": "stderr",
     "output_type": "stream",
     "text": [
      "Train 22: Time 0.688s (it:1.563s) Data:0.027s (it:0.012s) Loss 5.2126e-01 : 100%|██████████| 431/431 [04:56<00:00,  1.45it/s]\n",
      "Evaluate 22: Time 0.228s (it:0.060s) Data:0.030s (it:0.004s) Loss 5.4649e-01 : 100%|██████████| 144/144 [00:32<00:00,  4.40it/s]\n",
      "Train 23: Time 0.693s (it:0.464s) Data:0.025s (it:0.013s) Loss 5.2961e-01 : 100%|██████████| 431/431 [04:58<00:00,  1.44it/s]\n",
      "Evaluate 23: Time 0.233s (it:0.057s) Data:0.026s (it:0.004s) Loss 5.4920e-01 : 100%|██████████| 144/144 [00:33<00:00,  4.30it/s]\n",
      "Train 24: Time 0.702s (it:0.307s) Data:0.034s (it:0.012s) Loss 5.2907e-01 : 100%|██████████| 431/431 [05:02<00:00,  1.42it/s]\n",
      "Evaluate 24: Time 0.227s (it:0.064s) Data:0.023s (it:0.003s) Loss 5.6030e-01 : 100%|██████████| 144/144 [00:32<00:00,  4.41it/s]\n",
      "Train 25: Time 0.689s (it:0.308s) Data:0.014s (it:0.009s) Loss 5.2849e-01 : 100%|██████████| 431/431 [04:56<00:00,  1.45it/s]\n",
      "Evaluate 25: Time 0.221s (it:0.062s) Data:0.012s (it:0.002s) Loss 5.5018e-01 : 100%|██████████| 144/144 [00:31<00:00,  4.51it/s]\n",
      "Train 26: Time 0.688s (it:0.307s) Data:0.012s (it:0.008s) Loss 5.2226e-01 : 100%|██████████| 431/431 [04:56<00:00,  1.45it/s]\n",
      "Evaluate 26: Time 0.221s (it:0.062s) Data:0.012s (it:0.002s) Loss 5.4817e-01 : 100%|██████████| 144/144 [00:31<00:00,  4.52it/s]\n",
      "Train 27: Time 0.688s (it:0.341s) Data:0.012s (it:0.010s) Loss 5.1926e-01 : 100%|██████████| 431/431 [04:56<00:00,  1.45it/s]\n",
      "Evaluate 27: Time 0.221s (it:0.062s) Data:0.012s (it:0.002s) Loss 5.4110e-01 : 100%|██████████| 144/144 [00:31<00:00,  4.52it/s]\n",
      "Train 28: Time 0.687s (it:0.304s) Data:0.012s (it:0.009s) Loss 5.1927e-01 : 100%|██████████| 431/431 [04:55<00:00,  1.46it/s]\n",
      "Evaluate 28: Time 0.221s (it:0.064s) Data:0.012s (it:0.002s) Loss 5.5091e-01 : 100%|██████████| 144/144 [00:31<00:00,  4.53it/s]\n",
      "Train 29: Time 0.686s (it:0.303s) Data:0.012s (it:0.009s) Loss 5.1861e-01 : 100%|██████████| 431/431 [04:55<00:00,  1.46it/s]\n",
      "Evaluate 29: Time 0.221s (it:0.063s) Data:0.012s (it:0.002s) Loss 5.4763e-01 : 100%|██████████| 144/144 [00:31<00:00,  4.52it/s]\n",
      "Train 30: Time 0.687s (it:0.303s) Data:0.012s (it:0.009s) Loss 5.1605e-01 : 100%|██████████| 431/431 [04:56<00:00,  1.46it/s]\n",
      "Evaluate 30: Time 0.221s (it:0.063s) Data:0.012s (it:0.002s) Loss 5.4645e-01 : 100%|██████████| 144/144 [00:31<00:00,  4.52it/s]\n",
      "Train 31: Time 0.689s (it:0.305s) Data:0.012s (it:0.008s) Loss 5.1490e-01 : 100%|██████████| 431/431 [04:57<00:00,  1.45it/s]\n",
      "Evaluate 31: Time 0.223s (it:0.061s) Data:0.012s (it:0.002s) Loss 5.4317e-01 : 100%|██████████| 144/144 [00:32<00:00,  4.49it/s]\n",
      "Test (cls): Time 0.272s (it:1.044s) Data:0.066s (it:0.004s) : 100%|██████████| 144/144 [00:39<00:00,  3.67it/s]\n",
      "2022-12-12 05:34:13,852 [MainThread  ] [INFO ]  Validation performance at epoch 31 -> 0.33232385475180526\n"
     ]
    },
    {
     "name": "stdout",
     "output_type": "stream",
     "text": [
      "0.33232385475180526 [0.3827127330495453, 0.4066706642988338, 0.3460460633407951, 0.5106044806486427, 0.08181183968717212, 0.2291265421648398, 0.22863278771567133, 0.3467435471662225, 0.6063787542173261, 0.5153102694030554, 0.378011408960399, 0.23910883970489621, 0.2847764714719517, 0.6293708467197467, 0.24893258391499093, 0.01780973531129667, 0.19745796300530302]\n"
     ]
    },
    {
     "name": "stderr",
     "output_type": "stream",
     "text": [
      "Train 32: Time 0.708s (it:0.993s) Data:0.036s (it:0.014s) Loss 5.1459e-01 : 100%|██████████| 431/431 [05:05<00:00,  1.41it/s]\n",
      "Evaluate 32: Time 0.262s (it:0.056s) Data:0.054s (it:0.004s) Loss 5.4299e-01 : 100%|██████████| 144/144 [00:37<00:00,  3.82it/s]\n",
      "Train 33: Time 0.696s (it:2.710s) Data:0.022s (it:0.010s) Loss 5.1420e-01 : 100%|██████████| 431/431 [04:59<00:00,  1.44it/s]\n",
      "Evaluate 33: Time 0.221s (it:0.063s) Data:0.018s (it:0.003s) Loss 5.4724e-01 : 100%|██████████| 144/144 [00:31<00:00,  4.53it/s]\n",
      "Train 34: Time 0.704s (it:0.431s) Data:0.034s (it:0.013s) Loss 5.1362e-01 : 100%|██████████| 431/431 [05:03<00:00,  1.42it/s]\n",
      "Evaluate 34: Time 0.225s (it:0.061s) Data:0.027s (it:0.004s) Loss 5.4500e-01 : 100%|██████████| 144/144 [00:32<00:00,  4.45it/s]\n",
      "Train 35: Time 0.687s (it:0.715s) Data:0.022s (it:0.012s) Loss 5.1274e-01 : 100%|██████████| 431/431 [04:56<00:00,  1.45it/s]\n",
      "Evaluate 35: Time 0.240s (it:0.061s) Data:0.021s (it:0.003s) Loss 5.4405e-01 : 100%|██████████| 144/144 [00:34<00:00,  4.16it/s]\n",
      "Train 36: Time 0.693s (it:0.671s) Data:0.027s (it:0.013s) Loss 5.1208e-01 : 100%|██████████| 431/431 [04:58<00:00,  1.44it/s]\n",
      "Evaluate 36: Time 0.245s (it:0.059s) Data:0.026s (it:0.003s) Loss 5.4448e-01 : 100%|██████████| 144/144 [00:35<00:00,  4.08it/s]\n",
      "Train 37: Time 0.685s (it:0.305s) Data:0.023s (it:0.012s) Loss 5.1032e-01 : 100%|██████████| 431/431 [04:55<00:00,  1.46it/s]\n",
      "Evaluate 37: Time 0.222s (it:0.061s) Data:0.014s (it:0.002s) Loss 5.4803e-01 : 100%|██████████| 144/144 [00:31<00:00,  4.51it/s]\n",
      "Train 38: Time 0.685s (it:0.309s) Data:0.012s (it:0.008s) Loss 5.1114e-01 : 100%|██████████| 431/431 [04:55<00:00,  1.46it/s]\n",
      "Evaluate 38: Time 0.222s (it:0.062s) Data:0.012s (it:0.002s) Loss 5.5409e-01 : 100%|██████████| 144/144 [00:31<00:00,  4.51it/s]\n",
      "2022-12-12 06:13:03,517 [MainThread  ] [INFO ]  Plateau Reached!\n"
     ]
    },
    {
     "name": "stdout",
     "output_type": "stream",
     "text": [
      "Epoch 00038: reducing learning rate of group 0 to 1.0000e-04.\n"
     ]
    },
    {
     "name": "stderr",
     "output_type": "stream",
     "text": [
      "Train 39: Time 0.689s (it:0.304s) Data:0.012s (it:0.008s) Loss 5.0243e-01 : 100%|██████████| 431/431 [04:56<00:00,  1.45it/s]\n",
      "Evaluate 39: Time 0.221s (it:0.061s) Data:0.012s (it:0.002s) Loss 5.4698e-01 : 100%|██████████| 144/144 [00:31<00:00,  4.53it/s]\n",
      "Train 40: Time 0.686s (it:0.334s) Data:0.012s (it:0.008s) Loss 5.0154e-01 : 100%|██████████| 431/431 [04:55<00:00,  1.46it/s]\n",
      "Evaluate 40: Time 0.223s (it:0.062s) Data:0.012s (it:0.002s) Loss 5.5051e-01 : 100%|██████████| 144/144 [00:32<00:00,  4.49it/s]\n",
      "Train 41: Time 0.687s (it:0.305s) Data:0.012s (it:0.008s) Loss 5.0041e-01 : 100%|██████████| 431/431 [04:56<00:00,  1.46it/s]\n",
      "Evaluate 41: Time 0.222s (it:0.061s) Data:0.012s (it:0.002s) Loss 5.4745e-01 : 100%|██████████| 144/144 [00:31<00:00,  4.51it/s]\n",
      "Test (cls): Time 0.305s (it:0.189s) Data:0.101s (it:0.005s) : 100%|██████████| 144/144 [00:43<00:00,  3.27it/s]\n",
      "2022-12-12 06:30:12,105 [MainThread  ] [INFO ]  Validation performance at epoch 41 -> 0.3417721423239848\n"
     ]
    },
    {
     "name": "stdout",
     "output_type": "stream",
     "text": [
      "0.3417721423239848 [0.4554929259518044, 0.4028942265698569, 0.39726404745351773, 0.5180251301834213, 0.10779694533378487, 0.24823440309282369, 0.23421054191568788, 0.350892153971089, 0.6041738577364548, 0.5223056149063809, 0.38948686556065587, 0.23479327705829445, 0.296676029733365, 0.6475744507252708, 0.2646646749526239, 0.02085049324472061, 0.11479078111798813]\n"
     ]
    },
    {
     "name": "stderr",
     "output_type": "stream",
     "text": [
      "Train 42: Time 0.711s (it:0.983s) Data:0.034s (it:0.013s) Loss 5.0039e-01 : 100%|██████████| 431/431 [05:06<00:00,  1.41it/s]\n",
      "Evaluate 42: Time 0.229s (it:0.059s) Data:0.027s (it:0.004s) Loss 5.5065e-01 : 100%|██████████| 144/144 [00:32<00:00,  4.37it/s]\n",
      "Train 43: Time 0.703s (it:0.333s) Data:0.028s (it:0.013s) Loss 5.0034e-01 : 100%|██████████| 431/431 [05:02<00:00,  1.42it/s]\n",
      "Evaluate 43: Time 0.233s (it:0.058s) Data:0.026s (it:0.003s) Loss 5.4943e-01 : 100%|██████████| 144/144 [00:33<00:00,  4.29it/s]\n",
      "Train 44: Time 0.687s (it:0.309s) Data:0.018s (it:0.010s) Loss 4.9945e-01 : 100%|██████████| 431/431 [04:56<00:00,  1.46it/s]\n",
      "Evaluate 44: Time 0.222s (it:0.061s) Data:0.012s (it:0.002s) Loss 5.5021e-01 : 100%|██████████| 144/144 [00:31<00:00,  4.50it/s]\n",
      "Train 45: Time 0.687s (it:0.304s) Data:0.012s (it:0.008s) Loss 4.9959e-01 : 100%|██████████| 431/431 [04:56<00:00,  1.46it/s]\n",
      "Evaluate 45: Time 0.222s (it:0.064s) Data:0.012s (it:0.003s) Loss 5.5284e-01 : 100%|██████████| 144/144 [00:31<00:00,  4.51it/s]\n",
      "Train 46: Time 0.686s (it:0.304s) Data:0.012s (it:0.008s) Loss 4.9964e-01 : 100%|██████████| 431/431 [04:55<00:00,  1.46it/s]\n",
      "Evaluate 46: Time 0.223s (it:0.063s) Data:0.012s (it:0.002s) Loss 5.5060e-01 : 100%|██████████| 144/144 [00:32<00:00,  4.49it/s]\n",
      "Train 47: Time 0.689s (it:0.302s) Data:0.012s (it:0.008s) Loss 4.9905e-01 : 100%|██████████| 431/431 [04:56<00:00,  1.45it/s]\n",
      "Evaluate 47: Time 0.223s (it:0.063s) Data:0.012s (it:0.002s) Loss 5.5273e-01 : 100%|██████████| 144/144 [00:32<00:00,  4.48it/s]\n",
      "Train 48: Time 0.688s (it:0.311s) Data:0.012s (it:0.008s) Loss 4.9888e-01 : 100%|██████████| 431/431 [04:56<00:00,  1.45it/s]\n",
      "Evaluate 48: Time 0.223s (it:0.067s) Data:0.012s (it:0.002s) Loss 5.5107e-01 : 100%|██████████| 144/144 [00:32<00:00,  4.48it/s]\n",
      "Train 49: Time 0.680s (it:0.302s) Data:0.012s (it:0.009s) Loss 4.9847e-01 : 100%|██████████| 431/431 [04:53<00:00,  1.47it/s]\n",
      "Evaluate 49: Time 0.220s (it:0.061s) Data:0.012s (it:0.002s) Loss 5.5048e-01 : 100%|██████████| 144/144 [00:31<00:00,  4.54it/s]\n",
      "2022-12-12 07:14:14,833 [MainThread  ] [INFO ]  Plateau Reached!\n"
     ]
    },
    {
     "name": "stdout",
     "output_type": "stream",
     "text": [
      "Epoch 00049: reducing learning rate of group 0 to 1.0000e-05.\n"
     ]
    },
    {
     "name": "stderr",
     "output_type": "stream",
     "text": [
      "Train 50: Time 0.687s (it:0.307s) Data:0.012s (it:0.008s) Loss 4.9705e-01 : 100%|██████████| 431/431 [04:56<00:00,  1.46it/s]\n",
      "Evaluate 50: Time 0.222s (it:0.062s) Data:0.012s (it:0.002s) Loss 5.5159e-01 : 100%|██████████| 144/144 [00:31<00:00,  4.51it/s]\n",
      "Train 51: Time 0.689s (it:0.308s) Data:0.012s (it:0.009s) Loss 4.9684e-01 : 100%|██████████| 431/431 [04:56<00:00,  1.45it/s]\n",
      "Evaluate 51: Time 0.222s (it:0.061s) Data:0.012s (it:0.002s) Loss 5.5138e-01 : 100%|██████████| 144/144 [00:31<00:00,  4.51it/s]\n",
      "Test (cls): Time 0.288s (it:0.066s) Data:0.087s (it:0.004s) : 100%|██████████| 144/144 [00:41<00:00,  3.47it/s]\n",
      "2022-12-12 07:25:53,490 [MainThread  ] [INFO ]  Validation performance at epoch 51 -> 0.3422068005691113\n"
     ]
    },
    {
     "name": "stdout",
     "output_type": "stream",
     "text": [
      "0.3422068005691113 [0.5043342569050303, 0.4006984711627163, 0.3979459182627312, 0.5111110302753101, 0.10597562350111062, 0.24766319104926554, 0.22940405652285362, 0.350049683908551, 0.604421974314814, 0.5125954029979917, 0.38672092728473284, 0.23115720535371578, 0.2897370859676884, 0.650074317189457, 0.2603834171694689, 0.029113727599349114, 0.10612932021010621]\n"
     ]
    },
    {
     "name": "stderr",
     "output_type": "stream",
     "text": [
      "Train 52: Time 0.713s (it:0.507s) Data:0.040s (it:0.016s) Loss 4.9725e-01 : 100%|██████████| 431/431 [05:07<00:00,  1.40it/s]\n",
      "Evaluate 52: Time 0.255s (it:0.056s) Data:0.048s (it:0.004s) Loss 5.5129e-01 : 100%|██████████| 144/144 [00:36<00:00,  3.92it/s]\n",
      "Train 53: Time 0.696s (it:2.642s) Data:0.028s (it:0.013s) Loss 4.9671e-01 : 100%|██████████| 431/431 [05:00<00:00,  1.44it/s]\n",
      "Evaluate 53: Time 0.238s (it:0.058s) Data:0.028s (it:0.004s) Loss 5.5145e-01 : 100%|██████████| 144/144 [00:34<00:00,  4.20it/s]\n",
      "Train 54: Time 0.691s (it:1.485s) Data:0.024s (it:0.013s) Loss 4.9634e-01 : 100%|██████████| 431/431 [04:57<00:00,  1.45it/s]\n",
      "Evaluate 54: Time 0.233s (it:0.057s) Data:0.031s (it:0.004s) Loss 5.5147e-01 : 100%|██████████| 144/144 [00:33<00:00,  4.30it/s]\n",
      "Train 55: Time 0.692s (it:1.614s) Data:0.017s (it:0.010s) Loss 4.9598e-01 : 100%|██████████| 431/431 [04:58<00:00,  1.45it/s]\n",
      "Evaluate 55: Time 0.221s (it:0.061s) Data:0.013s (it:0.002s) Loss 5.5233e-01 : 100%|██████████| 144/144 [00:31<00:00,  4.52it/s]\n",
      "Train 56: Time 0.699s (it:1.442s) Data:0.025s (it:0.011s) Loss 4.9633e-01 : 100%|██████████| 431/431 [05:01<00:00,  1.43it/s]\n",
      "Evaluate 56: Time 0.229s (it:0.058s) Data:0.025s (it:0.004s) Loss 5.5181e-01 : 100%|██████████| 144/144 [00:32<00:00,  4.37it/s]\n",
      "Train 57: Time 0.692s (it:1.339s) Data:0.019s (it:0.011s) Loss 4.9651e-01 : 100%|██████████| 431/431 [04:58<00:00,  1.44it/s]\n",
      "Evaluate 57: Time 0.221s (it:0.063s) Data:0.014s (it:0.002s) Loss 5.5196e-01 : 100%|██████████| 144/144 [00:31<00:00,  4.53it/s]\n",
      "Train 58: Time 0.698s (it:1.346s) Data:0.026s (it:0.013s) Loss 4.9615e-01 : 100%|██████████| 431/431 [05:01<00:00,  1.43it/s]\n",
      "Evaluate 58: Time 0.227s (it:0.063s) Data:0.025s (it:0.003s) Loss 5.5246e-01 : 100%|██████████| 144/144 [00:32<00:00,  4.40it/s]\n",
      "Train 59: Time 0.692s (it:1.351s) Data:0.023s (it:0.012s) Loss 4.9630e-01 : 100%|██████████| 431/431 [04:58<00:00,  1.44it/s]\n",
      "Evaluate 59: Time 0.227s (it:0.062s) Data:0.015s (it:0.003s) Loss 5.5194e-01 : 100%|██████████| 144/144 [00:32<00:00,  4.41it/s]\n",
      "Train 60: Time 0.705s (it:0.426s) Data:0.034s (it:0.018s) Loss 4.9647e-01 : 100%|██████████| 431/431 [05:03<00:00,  1.42it/s]\n",
      "Evaluate 60: Time 0.230s (it:0.064s) Data:0.021s (it:0.003s) Loss 5.5262e-01 : 100%|██████████| 144/144 [00:33<00:00,  4.34it/s]\n",
      "2022-12-12 08:15:59,624 [MainThread  ] [INFO ]  Plateau Reached!\n"
     ]
    },
    {
     "name": "stdout",
     "output_type": "stream",
     "text": [
      "Epoch 00060: reducing learning rate of group 0 to 1.0000e-06.\n"
     ]
    },
    {
     "name": "stderr",
     "output_type": "stream",
     "text": [
      "Train 61: Time 0.750s (it:1.201s) Data:0.034s (it:0.013s) Loss 4.9615e-01 : 100%|██████████| 431/431 [05:23<00:00,  1.33it/s]\n",
      "Evaluate 61: Time 0.260s (it:0.060s) Data:0.031s (it:0.003s) Loss 5.5227e-01 : 100%|██████████| 144/144 [00:37<00:00,  3.84it/s]\n",
      "Test (cls): Time 0.275s (it:1.217s) Data:0.067s (it:0.003s) : 100%|██████████| 144/144 [00:39<00:00,  3.64it/s]\n",
      "2022-12-12 08:22:40,179 [MainThread  ] [INFO ]  Validation performance at epoch 61 -> 0.3417250690620431\n"
     ]
    },
    {
     "name": "stdout",
     "output_type": "stream",
     "text": [
      "0.3417250690620431 [0.4932851347656665, 0.4004788036976554, 0.39894516569322247, 0.5109776207815504, 0.10598165738194312, 0.24918645918844962, 0.22886757137201919, 0.3491848592950483, 0.6043939789746146, 0.5119585031197194, 0.38726453582861137, 0.23127343800739386, 0.28856680162603987, 0.6492807733942058, 0.2632083880115412, 0.029202111363954, 0.10727037155309821]\n"
     ]
    },
    {
     "name": "stderr",
     "output_type": "stream",
     "text": [
      "Train 62: Time 0.711s (it:0.484s) Data:0.059s (it:0.042s) Loss 4.9656e-01 : 100%|██████████| 431/431 [05:06<00:00,  1.41it/s]\n",
      "Evaluate 62: Time 0.253s (it:0.064s) Data:0.034s (it:0.005s) Loss 5.5219e-01 : 100%|██████████| 144/144 [00:36<00:00,  3.95it/s]\n",
      "Train 63: Time 0.747s (it:0.334s) Data:0.032s (it:0.013s) Loss 4.9622e-01 : 100%|██████████| 431/431 [05:21<00:00,  1.34it/s]\n",
      "Evaluate 63: Time 0.248s (it:0.065s) Data:0.014s (it:0.002s) Loss 5.5227e-01 : 100%|██████████| 144/144 [00:35<00:00,  4.03it/s]\n",
      "Train 64: Time 0.706s (it:0.313s) Data:0.016s (it:0.013s) Loss 4.9663e-01 : 100%|██████████| 431/431 [05:04<00:00,  1.42it/s]\n",
      "Evaluate 64: Time 0.226s (it:0.064s) Data:0.012s (it:0.002s) Loss 5.5220e-01 : 100%|██████████| 144/144 [00:32<00:00,  4.43it/s]\n",
      "Train 65: Time 0.741s (it:1.754s) Data:0.013s (it:0.009s) Loss 4.9614e-01 : 100%|██████████| 431/431 [05:19<00:00,  1.35it/s]\n",
      "Evaluate 65: Time 0.250s (it:0.065s) Data:0.020s (it:0.002s) Loss 5.5222e-01 : 100%|██████████| 144/144 [00:36<00:00,  3.99it/s]\n",
      "Train 66: Time 0.686s (it:0.303s) Data:0.012s (it:0.009s) Loss 4.9607e-01 : 100%|██████████| 431/431 [04:55<00:00,  1.46it/s]\n",
      "Evaluate 66: Time 0.220s (it:0.062s) Data:0.012s (it:0.002s) Loss 5.5229e-01 : 100%|██████████| 144/144 [00:31<00:00,  4.54it/s]\n",
      "Train 67: Time 0.684s (it:0.303s) Data:0.012s (it:0.009s) Loss 4.9673e-01 : 100%|██████████| 431/431 [04:55<00:00,  1.46it/s]\n",
      "Evaluate 67: Time 0.220s (it:0.061s) Data:0.012s (it:0.002s) Loss 5.5226e-01 : 100%|██████████| 144/144 [00:31<00:00,  4.54it/s]\n",
      "Train 68: Time 0.686s (it:0.304s) Data:0.012s (it:0.008s) Loss 4.9655e-01 : 100%|██████████| 431/431 [04:55<00:00,  1.46it/s]\n",
      "Evaluate 68: Time 0.221s (it:0.061s) Data:0.012s (it:0.002s) Loss 5.5232e-01 : 100%|██████████| 144/144 [00:31<00:00,  4.53it/s]\n",
      "Train 69: Time 0.688s (it:0.304s) Data:0.012s (it:0.008s) Loss 4.9597e-01 : 100%|██████████| 431/431 [04:56<00:00,  1.45it/s]\n",
      "Evaluate 69: Time 0.220s (it:0.062s) Data:0.012s (it:0.002s) Loss 5.5235e-01 : 100%|██████████| 144/144 [00:31<00:00,  4.54it/s]\n",
      "Train 70: Time 0.686s (it:0.309s) Data:0.012s (it:0.009s) Loss 4.9647e-01 : 100%|██████████| 431/431 [04:55<00:00,  1.46it/s]\n",
      "Evaluate 70: Time 0.221s (it:0.062s) Data:0.012s (it:0.002s) Loss 5.5237e-01 : 100%|██████████| 144/144 [00:31<00:00,  4.53it/s]\n",
      "Train 71: Time 0.687s (it:0.306s) Data:0.012s (it:0.008s) Loss 4.9629e-01 : 100%|██████████| 431/431 [04:56<00:00,  1.46it/s]\n",
      "Evaluate 71: Time 0.221s (it:0.062s) Data:0.012s (it:0.002s) Loss 5.5223e-01 : 100%|██████████| 144/144 [00:31<00:00,  4.52it/s]\n",
      "Test (cls): Time 0.293s (it:0.128s) Data:0.091s (it:0.003s) : 100%|██████████| 144/144 [00:42<00:00,  3.41it/s]\n",
      "2022-12-12 09:19:20,211 [MainThread  ] [INFO ]  Validation performance at epoch 71 -> 0.3423005015040923\n",
      "2022-12-12 09:19:20,213 [MainThread  ] [INFO ]  Plateau Reached!\n"
     ]
    },
    {
     "name": "stdout",
     "output_type": "stream",
     "text": [
      "0.3423005015040923 [0.4947091291783684, 0.40070726685091557, 0.3991228029477201, 0.5113641905022739, 0.10571842978423916, 0.24902880326188032, 0.22933155014944176, 0.34916771925494666, 0.6044547739677927, 0.5125259226925899, 0.3871230741455588, 0.23101458030539426, 0.2888401784303845, 0.6494161617935623, 0.26256438042836366, 0.029144941968429205, 0.11487461990770809]\n",
      "Epoch 00071: reducing learning rate of group 0 to 1.0000e-07.\n"
     ]
    },
    {
     "name": "stderr",
     "output_type": "stream",
     "text": [
      "Train 72: Time 0.712s (it:1.153s) Data:0.037s (it:0.013s) Loss 4.9651e-01 : 100%|██████████| 431/431 [05:06<00:00,  1.41it/s]\n",
      "Evaluate 72: Time 0.273s (it:0.059s) Data:0.057s (it:0.004s) Loss 5.5224e-01 : 100%|██████████| 144/144 [00:39<00:00,  3.66it/s]\n",
      "Train 73: Time 0.699s (it:0.470s) Data:0.033s (it:0.013s) Loss 4.9636e-01 : 100%|██████████| 431/431 [05:01<00:00,  1.43it/s]\n",
      "Evaluate 73: Time 0.247s (it:0.058s) Data:0.027s (it:0.003s) Loss 5.5226e-01 : 100%|██████████| 144/144 [00:35<00:00,  4.04it/s]\n",
      "Train 74: Time 0.689s (it:0.525s) Data:0.024s (it:0.012s) Loss 4.9600e-01 : 100%|██████████| 431/431 [04:56<00:00,  1.45it/s]\n",
      "Evaluate 74: Time 0.229s (it:0.063s) Data:0.017s (it:0.003s) Loss 5.5228e-01 : 100%|██████████| 144/144 [00:32<00:00,  4.37it/s]\n",
      "Train 75: Time 0.693s (it:1.145s) Data:0.015s (it:0.009s) Loss 4.9615e-01 : 100%|██████████| 431/431 [04:58<00:00,  1.44it/s]\n",
      "Evaluate 75: Time 0.226s (it:0.058s) Data:0.020s (it:0.004s) Loss 5.5228e-01 : 100%|██████████| 144/144 [00:32<00:00,  4.42it/s]\n",
      "Train 76: Time 0.687s (it:0.390s) Data:0.019s (it:0.010s) Loss 4.9628e-01 : 100%|██████████| 431/431 [04:56<00:00,  1.45it/s]\n",
      "Evaluate 76: Time 0.218s (it:0.065s) Data:0.013s (it:0.002s) Loss 5.5228e-01 : 100%|██████████| 144/144 [00:31<00:00,  4.58it/s]\n",
      "Train 77: Time 0.691s (it:2.513s) Data:0.014s (it:0.009s) Loss 4.9633e-01 : 100%|██████████| 431/431 [04:57<00:00,  1.45it/s]\n",
      "Evaluate 77: Time 0.221s (it:0.062s) Data:0.016s (it:0.003s) Loss 5.5228e-01 : 100%|██████████| 144/144 [00:31<00:00,  4.53it/s]\n",
      "Train 78: Time 0.693s (it:1.156s) Data:0.019s (it:0.011s) Loss 4.9610e-01 : 100%|██████████| 431/431 [04:58<00:00,  1.44it/s]\n",
      "Evaluate 78: Time 0.226s (it:0.059s) Data:0.018s (it:0.003s) Loss 5.5230e-01 : 100%|██████████| 144/144 [00:32<00:00,  4.42it/s]\n",
      "Train 79: Time 0.691s (it:1.055s) Data:0.016s (it:0.010s) Loss 4.9658e-01 : 100%|██████████| 431/431 [04:57<00:00,  1.45it/s]\n",
      "Evaluate 79: Time 0.222s (it:0.061s) Data:0.012s (it:0.002s) Loss 5.5229e-01 : 100%|██████████| 144/144 [00:31<00:00,  4.51it/s]\n",
      "Train 80: Time 0.695s (it:2.682s) Data:0.018s (it:0.010s) Loss 4.9644e-01 : 100%|██████████| 431/431 [04:59<00:00,  1.44it/s]\n",
      "Evaluate 80: Time 0.226s (it:0.062s) Data:0.016s (it:0.003s) Loss 5.5229e-01 : 100%|██████████| 144/144 [00:32<00:00,  4.42it/s]\n",
      "Train 81: Time 0.691s (it:0.535s) Data:0.019s (it:0.012s) Loss 4.9588e-01 : 100%|██████████| 431/431 [04:57<00:00,  1.45it/s]\n",
      "Evaluate 81: Time 0.223s (it:0.059s) Data:0.014s (it:0.004s) Loss 5.5229e-01 : 100%|██████████| 144/144 [00:32<00:00,  4.49it/s]\n",
      "Test (cls): Time 0.248s (it:0.594s) Data:0.045s (it:0.003s) : 100%|██████████| 144/144 [00:35<00:00,  4.03it/s]\n",
      "2022-12-12 10:15:20,288 [MainThread  ] [INFO ]  Validation performance at epoch 81 -> 0.3422725838187325\n"
     ]
    },
    {
     "name": "stdout",
     "output_type": "stream",
     "text": [
      "0.3422725838187325 [0.4947495930266721, 0.4006889375478141, 0.39852081011067503, 0.511388071195929, 0.10570047650797666, 0.24906626646788277, 0.22937192087785047, 0.34912014637293254, 0.6044625626106819, 0.5124394503557289, 0.38710148082368745, 0.23123400722594062, 0.2888166138210996, 0.6494530687594986, 0.2625033630407318, 0.02915093517260184, 0.11486622100074978]\n"
     ]
    },
    {
     "name": "stderr",
     "output_type": "stream",
     "text": [
      "Train 82: Time 0.713s (it:0.412s) Data:0.056s (it:0.024s) Loss 4.9600e-01 : 100%|██████████| 431/431 [05:07<00:00,  1.40it/s]\n",
      "Evaluate 82: Time 0.247s (it:0.056s) Data:0.040s (it:0.004s) Loss 5.5230e-01 : 100%|██████████| 144/144 [00:35<00:00,  4.06it/s]\n",
      "2022-12-12 10:21:03,235 [MainThread  ] [INFO ]  Plateau Reached!\n"
     ]
    },
    {
     "name": "stdout",
     "output_type": "stream",
     "text": [
      "Epoch 00082: reducing learning rate of group 0 to 1.0000e-08.\n"
     ]
    },
    {
     "name": "stderr",
     "output_type": "stream",
     "text": [
      "Train 83: Time 0.704s (it:0.506s) Data:0.035s (it:0.017s) Loss 4.9586e-01 : 100%|██████████| 431/431 [05:03<00:00,  1.42it/s]\n",
      "Evaluate 83: Time 0.246s (it:0.057s) Data:0.027s (it:0.003s) Loss 5.5231e-01 : 100%|██████████| 144/144 [00:35<00:00,  4.06it/s]\n",
      "Train 84: Time 0.701s (it:0.993s) Data:0.029s (it:0.012s) Loss 4.9593e-01 : 100%|██████████| 431/431 [05:01<00:00,  1.43it/s]\n",
      "Evaluate 84: Time 0.231s (it:0.059s) Data:0.027s (it:0.004s) Loss 5.5231e-01 : 100%|██████████| 144/144 [00:33<00:00,  4.33it/s]\n",
      "Train 85: Time 0.707s (it:0.310s) Data:0.029s (it:0.013s) Loss 4.9619e-01 : 100%|██████████| 431/431 [05:04<00:00,  1.42it/s]\n",
      "Evaluate 85: Time 0.230s (it:0.058s) Data:0.026s (it:0.004s) Loss 5.5231e-01 : 100%|██████████| 144/144 [00:33<00:00,  4.35it/s]\n",
      "Train 86: Time 0.687s (it:0.315s) Data:0.015s (it:0.010s) Loss 4.9661e-01 : 100%|██████████| 431/431 [04:56<00:00,  1.46it/s]\n",
      "Evaluate 86: Time 0.223s (it:0.061s) Data:0.012s (it:0.003s) Loss 5.5231e-01 : 100%|██████████| 144/144 [00:32<00:00,  4.48it/s]\n",
      "Train 87: Time 0.689s (it:0.310s) Data:0.012s (it:0.009s) Loss 4.9600e-01 : 100%|██████████| 431/431 [04:57<00:00,  1.45it/s]\n",
      "Evaluate 87: Time 0.222s (it:0.063s) Data:0.012s (it:0.002s) Loss 5.5230e-01 : 100%|██████████| 144/144 [00:31<00:00,  4.51it/s]\n",
      "Train 88: Time 0.688s (it:0.308s) Data:0.012s (it:0.009s) Loss 4.9587e-01 : 100%|██████████| 431/431 [04:56<00:00,  1.45it/s]\n",
      "Evaluate 88: Time 0.221s (it:0.061s) Data:0.012s (it:0.002s) Loss 5.5231e-01 : 100%|██████████| 144/144 [00:31<00:00,  4.52it/s]\n",
      "Train 89: Time 0.679s (it:0.306s) Data:0.012s (it:0.008s) Loss 4.9625e-01 : 100%|██████████| 431/431 [04:52<00:00,  1.47it/s]\n",
      "Evaluate 89: Time 0.222s (it:0.063s) Data:0.012s (it:0.002s) Loss 5.5231e-01 : 100%|██████████| 144/144 [00:31<00:00,  4.51it/s]\n",
      "Train 90: Time 0.687s (it:0.307s) Data:0.012s (it:0.009s) Loss 4.9618e-01 : 100%|██████████| 431/431 [04:55<00:00,  1.46it/s]\n",
      "Evaluate 90: Time 0.222s (it:0.062s) Data:0.012s (it:0.002s) Loss 5.5230e-01 : 100%|██████████| 144/144 [00:31<00:00,  4.51it/s]\n",
      "Train 91: Time 0.694s (it:0.328s) Data:0.012s (it:0.009s) Loss 4.9586e-01 : 100%|██████████| 431/431 [04:58<00:00,  1.44it/s]\n",
      "Evaluate 91: Time 0.223s (it:0.060s) Data:0.012s (it:0.002s) Loss 5.5231e-01 : 100%|██████████| 144/144 [00:32<00:00,  4.48it/s]\n",
      "Test (cls): Time 0.313s (it:0.433s) Data:0.106s (it:0.004s) : 100%|██████████| 144/144 [00:45<00:00,  3.20it/s]\n",
      "2022-12-12 11:11:29,757 [MainThread  ] [INFO ]  Validation performance at epoch 91 -> 0.3422688403510179\n"
     ]
    },
    {
     "name": "stdout",
     "output_type": "stream",
     "text": [
      "0.3422688403510179 [0.49475008704655066, 0.4006805909400101, 0.3985219418005759, 0.5113826092010775, 0.105696289485646, 0.2490594139390739, 0.22937478668564504, 0.3491212809866719, 0.6044709033504403, 0.5124361503334505, 0.3870940219189807, 0.23120602744997867, 0.2888347487611321, 0.649414288519495, 0.26250780110708605, 0.029151309330069375, 0.11486803511142087]\n"
     ]
    },
    {
     "name": "stderr",
     "output_type": "stream",
     "text": [
      "Train 92: Time 0.725s (it:0.516s) Data:0.054s (it:0.026s) Loss 4.9594e-01 : 100%|██████████| 431/431 [05:12<00:00,  1.38it/s]\n",
      "Evaluate 92: Time 0.270s (it:0.062s) Data:0.063s (it:0.007s) Loss 5.5231e-01 : 100%|██████████| 144/144 [00:38<00:00,  3.71it/s]\n",
      "2022-12-12 11:17:21,275 [MainThread  ] [INFO ]  Plateau Reached and no more reduction -> Exiting Loop\n",
      "2022-12-12 11:17:24,051 [MainThread  ] [INFO ]  Checking/Download features and labels locally\n",
      "Test (spot.): Time 9.554s (it:9.316s) Data:0.328s (it:0.282s) : 100%|██████████| 100/100 [15:55<00:00,  9.56s/it]\n",
      "100%|██████████| 100/100 [00:01<00:00, 99.09it/s]\n",
      "100%|██████████| 12/12 [00:14<00:00,  1.17s/it]\n",
      "2022-12-12 11:33:35,609 [MainThread  ] [INFO ]  Best Performance at end of training \n",
      "2022-12-12 11:33:35,610 [MainThread  ] [INFO ]  a_mAP visibility all: 0.46396821555596834\n",
      "2022-12-12 11:33:35,610 [MainThread  ] [INFO ]  a_mAP visibility all per class: [0.43451508060401806, 0.5118882449711101, 0.6454515972802745, 0.6540515372647373, 0.24635784597053065, 0.34002181351913036, 0.3204107960097071, 0.5289036946895197, 0.6599641267394307, 0.6375207580993197, 0.6022606151227652, 0.39548692641354016, 0.5151393638428868, 0.7772794362259446, 0.38928068578763414, 0.19801889561548183, 0.030908246295430954]\n",
      "2022-12-12 11:33:35,610 [MainThread  ] [INFO ]  a_mAP visibility visible: 0.5256956895267042\n",
      "2022-12-12 11:33:35,610 [MainThread  ] [INFO ]  a_mAP visibility visible per class: [0.679000016581511, 0.5779074592001104, 0.6589136890511864, 0.7334305629804055, 0.2682454031157559, 0.3420235333776865, 0.32222588687449805, 0.6441986520648872, 0.664285627792185, 0.6671173016326469, 0.6087651975616217, 0.3708179238822886, 0.5934547769307883, 0.7830493521656023, 0.42299773723767403, 0.3635807839599716, 0.23681281754515177]\n",
      "2022-12-12 11:33:35,611 [MainThread  ] [INFO ]  a_mAP visibility unshown: 0.3265894545039456\n",
      "2022-12-12 11:33:35,611 [MainThread  ] [INFO ]  a_mAP visibility unshown per class: [0.0, 0.4857890870703875, 0.0, 0.2793390404696977, 0.17341030336734609, 0.04272727272727272, 0.18509776261355995, 0.4194678568638434, 0.584859449970116, 0.5543262628667396, 0.27694223743659085, 0.43975423561357374, 0.01657335207188683, 0.7181182142324833, 0.0692578332477955, 0.0, 0.0]\n",
      "2022-12-12 11:33:35,614 [MainThread  ] [INFO ]  Total Execution Time is 31970.391379356384 seconds\n"
     ]
    }
   ],
   "source": [
    "\n",
    "%run $training_file_name \\\n",
    "    --SoccerNet_path=$resnet_features_path\\\n",
    "    --model_name=ATTENTION_ResNET_CB+FL\\\n",
    "    --features=ResNET_TF2.npy\\\n",
    "    --seed 3 --LR=1e-3\\\n",
    "    --split_test=\"test\"\\\n",
    "    --custom_feature_path=$vit_features_path\\\n",
    "    --loss_function=CB+FL"
   ]
  },
  {
   "cell_type": "markdown",
   "metadata": {},
   "source": [
    "# Model Visualization"
   ]
  },
  {
   "cell_type": "code",
   "execution_count": 2,
   "metadata": {},
   "outputs": [
    {
     "name": "stderr",
     "output_type": "stream",
     "text": [
      "/Users/srv/.pyenv/versions/3.10.4/envs/gatech.deepLearning.project/lib/python3.10/site-packages/tqdm/auto.py:22: TqdmWarning: IProgress not found. Please update jupyter and ipywidgets. See https://ipywidgets.readthedocs.io/en/stable/user_install.html\n",
      "  from .autonotebook import tqdm as notebook_tqdm\n",
      "  5%|▌         | 5/100 [00:26<08:30,  5.37s/it]\n"
     ]
    },
    {
     "name": "stdout",
     "output_type": "stream",
     "text": [
      "Running: NetVLAD++.vit.CE\n"
     ]
    },
    {
     "name": "stderr",
     "output_type": "stream",
     "text": [
      "100%|█████████▉| 1883/1884 [53:34<00:01,  1.71s/it]\n"
     ]
    },
    {
     "ename": "RuntimeError",
     "evalue": "shape '[-1, 30, 768]' is invalid for input of size 22272",
     "output_type": "error",
     "traceback": [
      "\u001b[0;31m---------------------------------------------------------------------------\u001b[0m",
      "\u001b[0;31mRuntimeError\u001b[0m                              Traceback (most recent call last)",
      "File \u001b[0;32m~/Documents/Git/GaTech/dl_cse_7643/final_project/code/visualization_main.py:79\u001b[0m\n\u001b[1;32m     77\u001b[0m \u001b[39mfor\u001b[39;00m it, (attrs, labels) \u001b[39min\u001b[39;00m \u001b[39menumerate\u001b[39m(tqdm(data_loader)):\n\u001b[1;32m     78\u001b[0m     transformed_attrs \u001b[39m=\u001b[39m full_model\u001b[39m.\u001b[39mpreprocess(attrs)\u001b[39m.\u001b[39mto(device)\n\u001b[0;32m---> 79\u001b[0m     out \u001b[39m=\u001b[39m full_model(transformed_attrs)\n\u001b[1;32m     80\u001b[0m     max_out \u001b[39m=\u001b[39m torch\u001b[39m.\u001b[39margmax(out, dim\u001b[39m=\u001b[39m\u001b[39m1\u001b[39m)\n\u001b[1;32m     81\u001b[0m     pred_label \u001b[39m=\u001b[39m max_out\u001b[39m.\u001b[39mcpu()\u001b[39m.\u001b[39mdetach()\u001b[39m.\u001b[39mnumpy()[\u001b[39m0\u001b[39m] \u001b[39m-\u001b[39m \u001b[39m1\u001b[39m\n",
      "File \u001b[0;32m~/.pyenv/versions/3.10.4/envs/gatech.deepLearning.project/lib/python3.10/site-packages/torch/nn/modules/module.py:1190\u001b[0m, in \u001b[0;36mModule._call_impl\u001b[0;34m(self, *input, **kwargs)\u001b[0m\n\u001b[1;32m   1186\u001b[0m \u001b[39m# If we don't have any hooks, we want to skip the rest of the logic in\u001b[39;00m\n\u001b[1;32m   1187\u001b[0m \u001b[39m# this function, and just call forward.\u001b[39;00m\n\u001b[1;32m   1188\u001b[0m \u001b[39mif\u001b[39;00m \u001b[39mnot\u001b[39;00m (\u001b[39mself\u001b[39m\u001b[39m.\u001b[39m_backward_hooks \u001b[39mor\u001b[39;00m \u001b[39mself\u001b[39m\u001b[39m.\u001b[39m_forward_hooks \u001b[39mor\u001b[39;00m \u001b[39mself\u001b[39m\u001b[39m.\u001b[39m_forward_pre_hooks \u001b[39mor\u001b[39;00m _global_backward_hooks\n\u001b[1;32m   1189\u001b[0m         \u001b[39mor\u001b[39;00m _global_forward_hooks \u001b[39mor\u001b[39;00m _global_forward_pre_hooks):\n\u001b[0;32m-> 1190\u001b[0m     \u001b[39mreturn\u001b[39;00m forward_call(\u001b[39m*\u001b[39;49m\u001b[39minput\u001b[39;49m, \u001b[39m*\u001b[39;49m\u001b[39m*\u001b[39;49mkwargs)\n\u001b[1;32m   1191\u001b[0m \u001b[39m# Do not call functions when jit is used\u001b[39;00m\n\u001b[1;32m   1192\u001b[0m full_backward_hooks, non_full_backward_hooks \u001b[39m=\u001b[39m [], []\n",
      "File \u001b[0;32m~/Documents/Git/GaTech/dl_cse_7643/final_project/code/model_visualization/FullModel.py:36\u001b[0m, in \u001b[0;36mFullModel.forward\u001b[0;34m(self, x)\u001b[0m\n\u001b[1;32m     33\u001b[0m \u001b[39mdef\u001b[39;00m \u001b[39mforward\u001b[39m(\u001b[39mself\u001b[39m, x):\n\u001b[1;32m     34\u001b[0m     \u001b[39m# out = self.model(x)\u001b[39;00m\n\u001b[1;32m     35\u001b[0m     feats \u001b[39m=\u001b[39m \u001b[39mself\u001b[39m\u001b[39m.\u001b[39mfeature_model(x)[\u001b[39m\"\u001b[39m\u001b[39mencode11\u001b[39m\u001b[39m\"\u001b[39m][:, \u001b[39m0\u001b[39m]\n\u001b[0;32m---> 36\u001b[0m     stacked \u001b[39m=\u001b[39m \u001b[39mself\u001b[39;49m\u001b[39m.\u001b[39;49mfeats2clip_model(feats)\n\u001b[1;32m     37\u001b[0m     out \u001b[39m=\u001b[39m \u001b[39mself\u001b[39m\u001b[39m.\u001b[39mclassification_model(stacked)\n\u001b[1;32m     38\u001b[0m     \u001b[39mreturn\u001b[39;00m out\n",
      "File \u001b[0;32m~/.pyenv/versions/3.10.4/envs/gatech.deepLearning.project/lib/python3.10/site-packages/torch/nn/modules/module.py:1190\u001b[0m, in \u001b[0;36mModule._call_impl\u001b[0;34m(self, *input, **kwargs)\u001b[0m\n\u001b[1;32m   1186\u001b[0m \u001b[39m# If we don't have any hooks, we want to skip the rest of the logic in\u001b[39;00m\n\u001b[1;32m   1187\u001b[0m \u001b[39m# this function, and just call forward.\u001b[39;00m\n\u001b[1;32m   1188\u001b[0m \u001b[39mif\u001b[39;00m \u001b[39mnot\u001b[39;00m (\u001b[39mself\u001b[39m\u001b[39m.\u001b[39m_backward_hooks \u001b[39mor\u001b[39;00m \u001b[39mself\u001b[39m\u001b[39m.\u001b[39m_forward_hooks \u001b[39mor\u001b[39;00m \u001b[39mself\u001b[39m\u001b[39m.\u001b[39m_forward_pre_hooks \u001b[39mor\u001b[39;00m _global_backward_hooks\n\u001b[1;32m   1189\u001b[0m         \u001b[39mor\u001b[39;00m _global_forward_hooks \u001b[39mor\u001b[39;00m _global_forward_pre_hooks):\n\u001b[0;32m-> 1190\u001b[0m     \u001b[39mreturn\u001b[39;00m forward_call(\u001b[39m*\u001b[39;49m\u001b[39minput\u001b[39;49m, \u001b[39m*\u001b[39;49m\u001b[39m*\u001b[39;49mkwargs)\n\u001b[1;32m   1191\u001b[0m \u001b[39m# Do not call functions when jit is used\u001b[39;00m\n\u001b[1;32m   1192\u001b[0m full_backward_hooks, non_full_backward_hooks \u001b[39m=\u001b[39m [], []\n",
      "File \u001b[0;32m~/Documents/Git/GaTech/dl_cse_7643/final_project/code/model_visualization/FullModel.py:20\u001b[0m, in \u001b[0;36mFeats2Clip.forward\u001b[0;34m(self, feats)\u001b[0m\n\u001b[1;32m     18\u001b[0m \u001b[39mdef\u001b[39;00m \u001b[39mforward\u001b[39m(\u001b[39mself\u001b[39m, feats):\n\u001b[1;32m     19\u001b[0m     N, F \u001b[39m=\u001b[39m feats\u001b[39m.\u001b[39mshape\n\u001b[0;32m---> 20\u001b[0m     feats \u001b[39m=\u001b[39m feats\u001b[39m.\u001b[39;49mview(\u001b[39m-\u001b[39;49m\u001b[39m1\u001b[39;49m, \u001b[39mself\u001b[39;49m\u001b[39m.\u001b[39;49mstride\u001b[39m+\u001b[39;49m\u001b[39mself\u001b[39;49m\u001b[39m.\u001b[39;49mclip_length, F)\n\u001b[1;32m     21\u001b[0m     \u001b[39mreturn\u001b[39;00m feats\n",
      "\u001b[0;31mRuntimeError\u001b[0m: shape '[-1, 30, 768]' is invalid for input of size 22272"
     ]
    }
   ],
   "source": [
    "%run $visualization_file_name\\\n",
    "    --SoccerNet_path=$resnet_features_path\\\n",
    "    --frames_path=$frames_path\\\n",
    "    --artefacts_path=$artefacts_path"
   ]
  }
 ],
 "metadata": {
  "kernelspec": {
   "display_name": "Python 3.10.4 64-bit ('gatech.deepLearning.project')",
   "language": "python",
   "name": "python3"
  },
  "language_info": {
   "codemirror_mode": {
    "name": "ipython",
    "version": 3
   },
   "file_extension": ".py",
   "mimetype": "text/x-python",
   "name": "python",
   "nbconvert_exporter": "python",
   "pygments_lexer": "ipython3",
   "version": "3.10.4"
  },
  "orig_nbformat": 4,
  "vscode": {
   "interpreter": {
    "hash": "65618d7aee7477c9a9f151dd5573af869fe7e0fbe21989ee12b654a0834631ec"
   }
  }
 },
 "nbformat": 4,
 "nbformat_minor": 2
}
